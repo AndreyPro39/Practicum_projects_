{
 "cells": [
  {
   "cell_type": "markdown",
   "id": "ea6de6cf-17e8-4fae-8338-fb91ca5be742",
   "metadata": {},
   "source": [
    "# Статистический анализ данных\n",
    "\r",
    "# \n",
    "Описание проекта\n",
    ":\r\n",
    "Нам предстоит провести исследование о пользователях самокатов go на основании имеющихся у нас данных о пользователях самокатов, их поездках и типов подписок. В ходе исследования нам предстоит проверить несколько гипотез: гипотезу о том, тратят ли больше времени на поездки пользователи с подпиской и принесут ли они больше прибыли бизнесу или нет. Гипотезу о том, превышает ли расстояние одной поездки пользователя с подпиской, расстояние с точки зрения износа самоката (3130м). Гипотезу о том, будет ли помесячная выручка от пользователей с подпиской по месяцам выше, чем выручка от пользователей без подписки. Также в конце нашего исследования нам предстоит посчитать помесячную выручку, которую принёс каждый пользователь. И ответить на вопрос о том, Какой тест нам понадобится для проверки гипотезы о том, что количество обращений в техподдержку значимо снизилось после оновления техподдержкой серверов, взаимодествующих с мобильным приложением.# \r\n",
    "\r\n",
    "Цель проекта: Проанализроватье данныео пользователях самокатов GO и провеитье некоторые гипотезы, которые могут помочь бизнесу выраст.."
   ]
  },
  {
   "cell_type": "markdown",
   "id": "81a41928",
   "metadata": {},
   "source": [
    "Пользователи — users_go.csv\n",
    "user_id\t- уникальный идентификатор пользователя\n",
    "name - имя пользователя\n",
    "age - возраст\n",
    "city -\tгород\n",
    "subscription_type -\tтип подписки (free, ultra)\n",
    "Поездки — rides_go.csv\n",
    "user_id - уникальный идентификатор пользователя\n",
    "distance-расстояние, которое пользователь проехал в текущей сессии (в метрах)\n",
    "duration-продолжительность сессии (в минутах) — время с того момента, как пользователь нажал кнопку «Начать поездку» до момента, как он нажал кнопку «Завершить поездку»\n",
    "date-дата совершения поездки\n",
    "Подписки — subscriptions_go.csv\n",
    "subscription_type-тип подписки\n",
    "minute_price-стоимость одной минуты поездки по данной подписке\n",
    "start_ride_price-стоимость начала поездки\n",
    "subscription_fee-стоимость ежемесячного платежа"
   ]
  },
  {
   "cell_type": "code",
   "execution_count": 1,
   "id": "1e6f7db1",
   "metadata": {},
   "outputs": [],
   "source": [
    "import pandas as pd\n",
    "from matplotlib import pyplot as plt\n",
    "import matplotlib\n",
    "import seaborn as sns\n",
    "from scipy import stats as st\n",
    "import numpy as np\n",
    "\n",
    "\n",
    "\n"
   ]
  },
  {
   "cell_type": "markdown",
   "id": "1157474d",
   "metadata": {},
   "source": [
    "**у нас три датафрейма, проанализируем каждый по отдельности**"
   ]
  },
  {
   "cell_type": "markdown",
   "id": "aecb6154",
   "metadata": {},
   "source": [
    "#### Шаг 1. Загрузка данных"
   ]
  },
  {
   "cell_type": "code",
   "execution_count": 3,
   "id": "634195d5",
   "metadata": {},
   "outputs": [
    {
     "name": "stdout",
     "output_type": "stream",
     "text": [
      "   user_id        name  age            city subscription_type\n",
      "0        1        Кира   22          Тюмень             ultra\n",
      "1        2   Станислав   31            Омск             ultra\n",
      "2        3     Алексей   20          Москва             ultra\n",
      "3        4  Константин   26  Ростов-на-Дону             ultra\n",
      "4        5       Адель   28            Омск             ultra\n"
     ]
    }
   ],
   "source": [
    "print(users.head())\n"
   ]
  },
  {
   "cell_type": "markdown",
   "id": "eb8a90cd",
   "metadata": {},
   "source": []
  },
  {
   "cell_type": "markdown",
   "id": "c12887c6",
   "metadata": {},
   "source": [
    "**с помощью метода info мы видим, что датафрейм имеет 1565 строк и 5 колонок с несколькими типами данных,\n",
    "посмотрим кадую колонку в отдельности, найдя уникальные значения в каждой колонке. Для этого можно написать функцию со вложенным циклом**"
   ]
  },
  {
   "cell_type": "code",
   "execution_count": 4,
   "id": "ba2fa6cc",
   "metadata": {},
   "outputs": [],
   "source": [
    "def columns(df):\n",
    "    for column in df.columns:\n",
    "        print('уникальные значения в', column)\n",
    "        print(df[column].unique())\n",
    "        "
   ]
  },
  {
   "cell_type": "code",
   "execution_count": 5,
   "id": "246a7bab",
   "metadata": {},
   "outputs": [
    {
     "name": "stdout",
     "output_type": "stream",
     "text": [
      "уникальные значения в user_id\n",
      "[   1    2    3 ... 1532 1533 1534]\n",
      "уникальные значения в name\n",
      "['Кира' 'Станислав' 'Алексей' 'Константин' 'Адель' 'Регина' 'Игорь' 'Юрий'\n",
      " 'Ян' 'Валерий' 'Агата' 'Марк' 'Ева' 'Антонина' 'Валерия' 'Амалия'\n",
      " 'Даниил' 'Аделина' 'Святогор' 'Борис' 'Вероника' 'Ростислав' 'Назар'\n",
      " 'Эдуард' 'Василий' 'Денис' 'Тамара' 'Николай' 'Эвелина' 'Федор' 'Руслан'\n",
      " 'Иван' 'Любовь' 'Ярослава' 'Майя' 'Ильдар' 'Данила' 'Нина' 'Стефания'\n",
      " 'Ясмина' 'Дмитрий' 'Александр' 'Одиссей' 'Арсений' 'Алла' 'Таисия'\n",
      " 'Максим' 'Юлиана' 'Павел' 'Карина' 'Алиса' 'Лидия' 'Рамиль' 'Родион'\n",
      " 'Ника' 'Оксана' 'Анастасия' 'Маргарита' 'Вера' 'Тимур' 'Никита' 'Лев'\n",
      " 'Влад' 'Артур' 'Анна' 'Ольга' 'Вячеслав' 'Ксения' 'Виталина' 'Владислав'\n",
      " 'Тамерлан' 'Амина' 'Вадим' 'Олеся' 'Зарина' 'Егор' 'Гордей' 'Лилия'\n",
      " 'Святослав' 'Роберт' 'Амир' 'Влада' 'Богдан' 'Полина' 'Марат' 'Елисей'\n",
      " 'Макар' 'Алина' 'Глеб' 'Андрей' 'Альбина' 'Людмила' 'Марсель' 'Милена'\n",
      " 'Диана' 'Дарина' 'Данил' 'Артемий' 'Лиана' 'Альберт' 'Герман' 'Жанна'\n",
      " 'Нелли' 'Евгения' 'Ариана' 'Самира' 'Захар' 'Эльвира' 'Екатерина' 'Инна'\n",
      " 'Демид' 'Яна' 'Михаил' 'Татьяна' 'Степан' 'Мелания' 'Тимофей' 'Ирина'\n",
      " 'Анжелика' 'Владислава' 'Елизавета' 'Мадина' 'Снежана' 'Даниэль' 'Рустам'\n",
      " 'Каролина' 'Ангелина' 'Владимир' 'Виктория' 'Валентина' 'Семен' 'Арина'\n",
      " 'Лариса' 'Есения' 'Галина' 'Кирилл' 'Игнат' 'Виталий' 'Эмилия' 'Виолетта'\n",
      " 'Яромир' 'Софья' 'Мирослава' 'Евгений' 'Варвара' 'Платон' 'Наталия'\n",
      " 'Анатолий' 'Кристина' 'Всеволод' 'Дарья' 'Наташа' 'Мария' 'Марина'\n",
      " 'Василиса' 'Юлия' 'Илья' 'Злата' 'Роман' 'Наталья' 'Элина' 'Арсен'\n",
      " 'Айдар' 'Алия' 'Виктор' 'Мирон' 'Ульяна' 'Георгий' 'Петр' 'Эльмира'\n",
      " 'Олег' 'Дамир' 'Самир' 'Ярослав' 'Камилла' 'Сергей' 'Эмиль' 'Радмир'\n",
      " 'Савелий' 'Елена' 'Антон' 'Мирослав' 'София' 'Тихон' 'Артём' 'Давид'\n",
      " 'Григорий' 'Алёна' 'Светлана' 'Леонид' 'Александра' 'Василина' 'Милана'\n",
      " 'Матвей']\n",
      "уникальные значения в age\n",
      "[22 31 20 26 28 25 23 21 18 27 24 29 32 14 19 30 17 12 35 33 13 15 37 16\n",
      " 34 38 36 39 43]\n",
      "уникальные значения в city\n",
      "['Тюмень' 'Омск' 'Москва' 'Ростов-на-Дону' 'Краснодар' 'Пятигорск'\n",
      " 'Екатеринбург' 'Сочи']\n",
      "уникальные значения в subscription_type\n",
      "['ultra' 'free']\n"
     ]
    }
   ],
   "source": [
    "columns(users)"
   ]
  },
  {
   "cell_type": "code",
   "execution_count": 6,
   "id": "7948b290",
   "metadata": {},
   "outputs": [
    {
     "data": {
      "text/html": [
       "<div>\n",
       "<style scoped>\n",
       "    .dataframe tbody tr th:only-of-type {\n",
       "        vertical-align: middle;\n",
       "    }\n",
       "\n",
       "    .dataframe tbody tr th {\n",
       "        vertical-align: top;\n",
       "    }\n",
       "\n",
       "    .dataframe thead th {\n",
       "        text-align: right;\n",
       "    }\n",
       "</style>\n",
       "<table border=\"1\" class=\"dataframe\">\n",
       "  <thead>\n",
       "    <tr style=\"text-align: right;\">\n",
       "      <th></th>\n",
       "      <th>user_id</th>\n",
       "      <th>distance</th>\n",
       "      <th>duration</th>\n",
       "      <th>date</th>\n",
       "    </tr>\n",
       "  </thead>\n",
       "  <tbody>\n",
       "    <tr>\n",
       "      <th>0</th>\n",
       "      <td>1</td>\n",
       "      <td>4409.919140</td>\n",
       "      <td>25.599769</td>\n",
       "      <td>2021-01-01</td>\n",
       "    </tr>\n",
       "    <tr>\n",
       "      <th>1</th>\n",
       "      <td>1</td>\n",
       "      <td>2617.592153</td>\n",
       "      <td>15.816871</td>\n",
       "      <td>2021-01-18</td>\n",
       "    </tr>\n",
       "    <tr>\n",
       "      <th>2</th>\n",
       "      <td>1</td>\n",
       "      <td>754.159807</td>\n",
       "      <td>6.232113</td>\n",
       "      <td>2021-04-20</td>\n",
       "    </tr>\n",
       "    <tr>\n",
       "      <th>3</th>\n",
       "      <td>1</td>\n",
       "      <td>2694.783254</td>\n",
       "      <td>18.511000</td>\n",
       "      <td>2021-08-11</td>\n",
       "    </tr>\n",
       "    <tr>\n",
       "      <th>4</th>\n",
       "      <td>1</td>\n",
       "      <td>4028.687306</td>\n",
       "      <td>26.265803</td>\n",
       "      <td>2021-08-28</td>\n",
       "    </tr>\n",
       "  </tbody>\n",
       "</table>\n",
       "</div>"
      ],
      "text/plain": [
       "   user_id     distance   duration        date\n",
       "0        1  4409.919140  25.599769  2021-01-01\n",
       "1        1  2617.592153  15.816871  2021-01-18\n",
       "2        1   754.159807   6.232113  2021-04-20\n",
       "3        1  2694.783254  18.511000  2021-08-11\n",
       "4        1  4028.687306  26.265803  2021-08-28"
      ]
     },
     "execution_count": 6,
     "metadata": {},
     "output_type": "execute_result"
    }
   ],
   "source": [
    "rides.head()"
   ]
  },
  {
   "cell_type": "code",
   "execution_count": 7,
   "id": "89eb962e",
   "metadata": {},
   "outputs": [
    {
     "name": "stdout",
     "output_type": "stream",
     "text": [
      "<class 'pandas.core.frame.DataFrame'>\n",
      "RangeIndex: 18068 entries, 0 to 18067\n",
      "Data columns (total 4 columns):\n",
      " #   Column    Non-Null Count  Dtype  \n",
      "---  ------    --------------  -----  \n",
      " 0   user_id   18068 non-null  int64  \n",
      " 1   distance  18068 non-null  float64\n",
      " 2   duration  18068 non-null  float64\n",
      " 3   date      18068 non-null  object \n",
      "dtypes: float64(2), int64(1), object(1)\n",
      "memory usage: 564.8+ KB\n"
     ]
    }
   ],
   "source": [
    "rides.info()\n",
    "\n"
   ]
  },
  {
   "cell_type": "markdown",
   "id": "38e1a457",
   "metadata": {},
   "source": [
    "**посмотрим ощую информаццию следующего датафрейма о поездках(rides) с помощью метода info. Таблица состоит из 18068 строк с четрьмя колонками - идентиикатор пользователей(user_id), пройденная дистанция(distance), продолжительноть поездки(duration) и дата поездки(date). Занимаемая память всего 564.8 kb**"
   ]
  },
  {
   "cell_type": "markdown",
   "id": "bc925214",
   "metadata": {},
   "source": [
    "***Посмотрим и здесь уникальные значения***"
   ]
  },
  {
   "cell_type": "code",
   "execution_count": 8,
   "id": "e57287ff",
   "metadata": {
    "scrolled": true
   },
   "outputs": [
    {
     "name": "stdout",
     "output_type": "stream",
     "text": [
      "уникальные значения в user_id\n",
      "[   1    2    3 ... 1532 1533 1534]\n",
      "уникальные значения в distance\n",
      "[4409.9191402  2617.59215346  754.15980696 ... 3826.1855073  2902.30866066\n",
      " 2371.71119224]\n",
      "уникальные значения в duration\n",
      "[25.59976897 15.81687145  6.23211346 ... 18.43505138 16.6743622\n",
      " 15.89391697]\n",
      "уникальные значения в date\n",
      "['2021-01-01' '2021-01-18' '2021-04-20' '2021-08-11' '2021-08-28'\n",
      " '2021-10-09' '2021-10-19' '2021-11-06' '2021-11-14' '2021-11-22'\n",
      " '2021-12-14' '2021-12-22' '2021-03-15' '2021-03-18' '2021-03-23'\n",
      " '2021-04-08' '2021-04-13' '2021-06-20' '2021-07-02' '2021-07-18'\n",
      " '2021-08-03' '2021-10-27' '2021-12-18' '2021-01-31' '2021-02-24'\n",
      " '2021-02-26' '2021-04-12' '2021-05-07' '2021-05-21' '2021-05-22'\n",
      " '2021-07-04' '2021-07-07' '2021-07-14' '2021-09-04' '2021-02-10'\n",
      " '2021-02-16' '2021-06-06' '2021-06-27' '2021-07-06' '2021-07-17'\n",
      " '2021-08-14' '2021-10-08' '2021-10-24' '2021-10-30' '2021-11-25'\n",
      " '2021-03-01' '2021-03-13' '2021-03-25' '2021-04-24' '2021-05-08'\n",
      " '2021-05-30' '2021-07-24' '2021-08-10' '2021-10-07' '2021-02-25'\n",
      " '2021-05-04' '2021-05-14' '2021-05-17' '2021-08-15' '2021-09-27'\n",
      " '2021-11-18' '2021-12-07' '2021-12-08' '2021-01-10' '2021-01-20'\n",
      " '2021-03-07' '2021-04-09' '2021-04-28' '2021-05-10' '2021-06-16'\n",
      " '2021-11-05' '2021-11-08' '2021-11-11' '2021-11-24' '2021-12-19'\n",
      " '2021-12-27' '2021-06-23' '2021-08-08' '2021-08-19' '2021-12-09'\n",
      " '2021-03-08' '2021-03-09' '2021-04-17' '2021-06-30' '2021-08-04'\n",
      " '2021-09-20' '2021-02-04' '2021-02-21' '2021-04-03' '2021-06-21'\n",
      " '2021-08-12' '2021-11-21' '2021-12-25' '2021-02-27' '2021-09-01'\n",
      " '2021-12-06' '2021-01-17' '2021-04-25' '2021-05-23' '2021-07-11'\n",
      " '2021-08-07' '2021-01-24' '2021-01-27' '2021-04-14' '2021-08-06'\n",
      " '2021-08-24' '2021-09-23' '2021-09-26' '2021-10-18' '2021-10-26'\n",
      " '2021-11-10' '2021-12-23' '2021-01-02' '2021-01-12' '2021-03-27'\n",
      " '2021-03-29' '2021-05-13' '2021-01-13' '2021-02-13' '2021-03-02'\n",
      " '2021-04-05' '2021-09-14' '2021-10-04' '2021-11-15' '2021-02-18'\n",
      " '2021-03-03' '2021-03-06' '2021-04-02' '2021-04-16' '2021-05-28'\n",
      " '2021-06-15' '2021-07-19' '2021-07-27' '2021-09-11' '2021-09-21'\n",
      " '2021-05-25' '2021-06-19' '2021-03-28' '2021-04-10' '2021-05-19'\n",
      " '2021-08-18' '2021-08-31' '2021-09-07' '2021-09-17' '2021-09-18'\n",
      " '2021-04-21' '2021-04-27' '2021-05-18' '2021-08-05' '2021-10-16'\n",
      " '2021-11-17' '2021-05-03' '2021-07-25' '2021-02-03' '2021-02-12'\n",
      " '2021-02-19' '2021-03-19' '2021-06-25' '2021-10-01' '2021-11-09'\n",
      " '2021-12-03' '2021-12-13' '2021-01-14' '2021-05-06' '2021-06-28'\n",
      " '2021-07-13' '2021-09-25' '2021-02-20' '2021-02-23' '2021-05-20'\n",
      " '2021-07-16' '2021-08-26' '2021-11-12' '2021-12-11' '2021-03-14'\n",
      " '2021-03-24' '2021-04-04' '2021-06-11' '2021-11-20' '2021-01-26'\n",
      " '2021-03-22' '2021-07-28' '2021-10-20' '2021-12-29' '2021-01-04'\n",
      " '2021-01-22' '2021-04-22' '2021-06-08' '2021-12-30' '2021-05-11'\n",
      " '2021-07-12' '2021-08-17' '2021-11-29' '2021-12-24' '2021-07-31'\n",
      " '2021-08-16' '2021-08-30' '2021-12-26' '2021-07-10' '2021-08-20'\n",
      " '2021-08-22' '2021-10-02' '2021-01-28' '2021-04-11' '2021-09-08'\n",
      " '2021-09-19' '2021-10-11' '2021-10-21' '2021-02-11' '2021-06-02'\n",
      " '2021-06-10' '2021-07-15' '2021-08-27' '2021-08-29' '2021-01-25'\n",
      " '2021-05-01' '2021-10-22' '2021-10-31' '2021-06-22' '2021-11-13'\n",
      " '2021-03-04' '2021-07-23' '2021-08-02' '2021-02-22' '2021-05-16'\n",
      " '2021-05-26' '2021-06-04' '2021-06-24' '2021-09-15' '2021-03-12'\n",
      " '2021-06-05' '2021-06-14' '2021-07-20' '2021-10-14' '2021-09-28'\n",
      " '2021-11-19' '2021-12-21' '2021-06-09' '2021-11-04' '2021-07-22'\n",
      " '2021-02-09' '2021-04-23' '2021-08-13' '2021-08-21' '2021-12-02'\n",
      " '2021-07-21' '2021-10-25' '2021-12-05' '2021-01-03' '2021-02-01'\n",
      " '2021-02-07' '2021-07-08' '2021-01-09' '2021-01-11' '2021-06-26'\n",
      " '2021-10-28' '2021-01-15' '2021-07-29' '2021-09-02' '2021-09-24'\n",
      " '2021-02-17' '2021-02-14' '2021-04-29' '2021-06-07' '2021-11-27'\n",
      " '2021-10-15' '2021-02-08' '2021-03-26' '2021-09-05' '2021-06-12'\n",
      " '2021-08-23' '2021-09-10' '2021-03-20' '2021-06-17' '2021-03-21'\n",
      " '2021-05-12' '2021-12-10' '2021-03-11' '2021-12-01' '2021-01-29'\n",
      " '2021-05-09' '2021-02-02' '2021-04-30' '2021-05-29' '2021-05-02'\n",
      " '2021-01-05' '2021-05-15' '2021-09-22' '2021-07-26' '2021-08-25'\n",
      " '2021-10-03' '2021-01-07' '2021-06-01' '2021-08-09' '2021-09-13'\n",
      " '2021-12-17' '2021-02-28' '2021-10-05' '2021-03-10' '2021-03-17'\n",
      " '2021-04-01' '2021-03-16' '2021-04-26' '2021-12-15' '2021-01-19'\n",
      " '2021-09-30' '2021-10-12' '2021-11-07' '2021-12-12' '2021-07-09'\n",
      " '2021-07-30' '2021-08-01' '2021-09-09' '2021-09-12' '2021-10-06'\n",
      " '2021-12-04' '2021-06-29' '2021-11-01' '2021-04-15' '2021-05-24'\n",
      " '2021-01-23' '2021-02-15' '2021-12-28' '2021-01-08' '2021-06-18'\n",
      " '2021-03-30' '2021-04-06' '2021-04-19' '2021-10-23' '2021-01-30'\n",
      " '2021-07-05' '2021-06-13' '2021-05-27' '2021-09-16' '2021-03-31'\n",
      " '2021-11-23' '2021-04-07' '2021-10-17' '2021-05-05' '2021-12-20'\n",
      " '2021-11-03' '2021-03-05' '2021-01-06' '2021-09-06' '2021-11-30'\n",
      " '2021-09-03' '2021-01-16' '2021-09-29' '2021-02-05' '2021-06-03'\n",
      " '2021-10-13' '2021-07-01' '2021-11-16' '2021-11-28' '2021-10-10'\n",
      " '2021-11-02' '2021-10-29' '2021-11-26' '2021-04-18' '2021-07-03'\n",
      " '2021-05-31' '2021-12-16' '2021-01-21' '2021-02-06']\n"
     ]
    }
   ],
   "source": [
    "columns(rides)"
   ]
  },
  {
   "cell_type": "markdown",
   "id": "a34dc0c5",
   "metadata": {},
   "source": [
    "***на первый взгляд в колонках distance и duration нет аномалий и выбросов. убедимся в этом, вызвав метод describe().***"
   ]
  },
  {
   "cell_type": "code",
   "execution_count": 9,
   "id": "fa88510c",
   "metadata": {},
   "outputs": [
    {
     "data": {
      "text/plain": [
       "count    18068.000000\n",
       "mean      3070.659976\n",
       "std       1116.831209\n",
       "min          0.855683\n",
       "25%       2543.226360\n",
       "50%       3133.609994\n",
       "75%       3776.222735\n",
       "max       7211.007745\n",
       "Name: distance, dtype: float64"
      ]
     },
     "execution_count": 9,
     "metadata": {},
     "output_type": "execute_result"
    }
   ],
   "source": [
    "rides['distance'].describe()"
   ]
  },
  {
   "cell_type": "code",
   "execution_count": 10,
   "id": "679b0de5",
   "metadata": {},
   "outputs": [
    {
     "data": {
      "text/plain": [
       "count    18068.000000\n",
       "mean        17.805011\n",
       "std          6.091051\n",
       "min          0.500000\n",
       "25%         13.597563\n",
       "50%         17.678395\n",
       "75%         21.724800\n",
       "max         40.823963\n",
       "Name: duration, dtype: float64"
      ]
     },
     "execution_count": 10,
     "metadata": {},
     "output_type": "execute_result"
    }
   ],
   "source": [
    "rides['duration'].describe()"
   ]
  },
  {
   "cell_type": "code",
   "execution_count": 11,
   "id": "725c5772",
   "metadata": {},
   "outputs": [
    {
     "data": {
      "text/html": [
       "<div>\n",
       "<style scoped>\n",
       "    .dataframe tbody tr th:only-of-type {\n",
       "        vertical-align: middle;\n",
       "    }\n",
       "\n",
       "    .dataframe tbody tr th {\n",
       "        vertical-align: top;\n",
       "    }\n",
       "\n",
       "    .dataframe thead th {\n",
       "        text-align: right;\n",
       "    }\n",
       "</style>\n",
       "<table border=\"1\" class=\"dataframe\">\n",
       "  <thead>\n",
       "    <tr style=\"text-align: right;\">\n",
       "      <th></th>\n",
       "      <th>subscription_type</th>\n",
       "      <th>minute_price</th>\n",
       "      <th>start_ride_price</th>\n",
       "      <th>subscription_fee</th>\n",
       "    </tr>\n",
       "  </thead>\n",
       "  <tbody>\n",
       "    <tr>\n",
       "      <th>0</th>\n",
       "      <td>free</td>\n",
       "      <td>8</td>\n",
       "      <td>50</td>\n",
       "      <td>0</td>\n",
       "    </tr>\n",
       "    <tr>\n",
       "      <th>1</th>\n",
       "      <td>ultra</td>\n",
       "      <td>6</td>\n",
       "      <td>0</td>\n",
       "      <td>199</td>\n",
       "    </tr>\n",
       "  </tbody>\n",
       "</table>\n",
       "</div>"
      ],
      "text/plain": [
       "  subscription_type  minute_price  start_ride_price  subscription_fee\n",
       "0              free             8                50                 0\n",
       "1             ultra             6                 0               199"
      ]
     },
     "execution_count": 11,
     "metadata": {},
     "output_type": "execute_result"
    }
   ],
   "source": [
    "subscriptions.head()"
   ]
  },
  {
   "cell_type": "code",
   "execution_count": 12,
   "id": "d845cff4",
   "metadata": {
    "scrolled": true
   },
   "outputs": [
    {
     "name": "stdout",
     "output_type": "stream",
     "text": [
      "<class 'pandas.core.frame.DataFrame'>\n",
      "RangeIndex: 2 entries, 0 to 1\n",
      "Data columns (total 4 columns):\n",
      " #   Column             Non-Null Count  Dtype \n",
      "---  ------             --------------  ----- \n",
      " 0   subscription_type  2 non-null      object\n",
      " 1   minute_price       2 non-null      int64 \n",
      " 2   start_ride_price   2 non-null      int64 \n",
      " 3   subscription_fee   2 non-null      int64 \n",
      "dtypes: int64(3), object(1)\n",
      "memory usage: 192.0+ bytes\n"
     ]
    }
   ],
   "source": [
    "subscriptions.info()"
   ]
  },
  {
   "cell_type": "markdown",
   "id": "9a5fd0ca",
   "metadata": {},
   "source": [
    "***в датафрейме subscriptions всего 2 строки и 4 колонки. Пристствуют разные типы данных.***"
   ]
  },
  {
   "cell_type": "code",
   "execution_count": 13,
   "id": "28850f3a",
   "metadata": {},
   "outputs": [
    {
     "name": "stdout",
     "output_type": "stream",
     "text": [
      "уникальные значения в subscription_type\n",
      "['free' 'ultra']\n",
      "уникальные значения в minute_price\n",
      "[8 6]\n",
      "уникальные значения в start_ride_price\n",
      "[50  0]\n",
      "уникальные значения в subscription_fee\n",
      "[  0 199]\n"
     ]
    }
   ],
   "source": [
    "columns(subscriptions)"
   ]
  },
  {
   "cell_type": "markdown",
   "id": "1f43a372",
   "metadata": {},
   "source": [
    "<div class=\"alert alert-success\">\n",
    "<b>✔️ Комментарий ревьюера v1:</b> \n",
    "<br>Первичный анализ данных выполнен верно. Можем переходить к следующему этапу)\n",
    "</div>"
   ]
  },
  {
   "cell_type": "markdown",
   "id": "349e8ce3",
   "metadata": {},
   "source": [
    "#### Шаг 2. Предобработка данных"
   ]
  },
  {
   "cell_type": "code",
   "execution_count": 14,
   "id": "eff9f206",
   "metadata": {},
   "outputs": [
    {
     "name": "stdout",
     "output_type": "stream",
     "text": [
      "<class 'pandas.core.frame.DataFrame'>\n",
      "RangeIndex: 18068 entries, 0 to 18067\n",
      "Data columns (total 4 columns):\n",
      " #   Column    Non-Null Count  Dtype         \n",
      "---  ------    --------------  -----         \n",
      " 0   user_id   18068 non-null  int64         \n",
      " 1   distance  18068 non-null  float64       \n",
      " 2   duration  18068 non-null  float64       \n",
      " 3   date      18068 non-null  datetime64[ns]\n",
      "dtypes: datetime64[ns](1), float64(2), int64(1)\n",
      "memory usage: 564.8 KB\n"
     ]
    }
   ],
   "source": [
    "rides['date'] = pd.to_datetime(rides['date'])\n",
    "rides.info()"
   ]
  },
  {
   "cell_type": "code",
   "execution_count": 15,
   "id": "58a99f94",
   "metadata": {},
   "outputs": [],
   "source": [
    "rides['month'] = rides['date'].dt.month"
   ]
  },
  {
   "cell_type": "code",
   "execution_count": 16,
   "id": "df4c5932",
   "metadata": {},
   "outputs": [
    {
     "name": "stdout",
     "output_type": "stream",
     "text": [
      "   user_id     distance   duration       date  month\n",
      "0        1  4409.919140  25.599769 2021-01-01      1\n",
      "1        1  2617.592153  15.816871 2021-01-18      1\n",
      "2        1   754.159807   6.232113 2021-04-20      4\n",
      "3        1  2694.783254  18.511000 2021-08-11      8\n",
      "4        1  4028.687306  26.265803 2021-08-28      8\n"
     ]
    }
   ],
   "source": [
    "print(rides.head())"
   ]
  },
  {
   "cell_type": "markdown",
   "id": "e95ebca7",
   "metadata": {},
   "source": [
    "#### Шаг 2. Предобработка данных"
   ]
  },
  {
   "cell_type": "code",
   "execution_count": 17,
   "id": "af6d202c",
   "metadata": {},
   "outputs": [
    {
     "data": {
      "text/plain": [
       "user_id              0\n",
       "name                 0\n",
       "age                  0\n",
       "city                 0\n",
       "subscription_type    0\n",
       "dtype: int64"
      ]
     },
     "execution_count": 17,
     "metadata": {},
     "output_type": "execute_result"
    }
   ],
   "source": [
    "users.isna().sum()"
   ]
  },
  {
   "cell_type": "code",
   "execution_count": 18,
   "id": "fee8dbe5",
   "metadata": {},
   "outputs": [
    {
     "data": {
      "text/plain": [
       "user_id     0\n",
       "distance    0\n",
       "duration    0\n",
       "date        0\n",
       "month       0\n",
       "dtype: int64"
      ]
     },
     "execution_count": 18,
     "metadata": {},
     "output_type": "execute_result"
    }
   ],
   "source": [
    "rides.isna().sum()"
   ]
  },
  {
   "cell_type": "code",
   "execution_count": 19,
   "id": "08894fff",
   "metadata": {},
   "outputs": [
    {
     "data": {
      "text/plain": [
       "subscription_type    0\n",
       "minute_price         0\n",
       "start_ride_price     0\n",
       "subscription_fee     0\n",
       "dtype: int64"
      ]
     },
     "execution_count": 19,
     "metadata": {},
     "output_type": "execute_result"
    }
   ],
   "source": [
    "subscriptions.isna().sum()"
   ]
  },
  {
   "cell_type": "markdown",
   "id": "2cc14e0c",
   "metadata": {},
   "source": [
    "**как видим пропущенных значений в датафреймах нет**"
   ]
  },
  {
   "cell_type": "code",
   "execution_count": 20,
   "id": "7edc42f5",
   "metadata": {},
   "outputs": [
    {
     "data": {
      "text/plain": [
       "31"
      ]
     },
     "execution_count": 20,
     "metadata": {},
     "output_type": "execute_result"
    }
   ],
   "source": [
    "users.duplicated().sum()"
   ]
  },
  {
   "cell_type": "markdown",
   "id": "5011d2b0",
   "metadata": {},
   "source": [
    "**Мы нашли в датафрейме 31 дубликат, удалим их с помощью метода drop.duplicates()**"
   ]
  },
  {
   "cell_type": "code",
   "execution_count": 21,
   "id": "7e48c436",
   "metadata": {},
   "outputs": [],
   "source": [
    "users = users.drop_duplicates()"
   ]
  },
  {
   "cell_type": "markdown",
   "id": "6e1c4073",
   "metadata": {},
   "source": [
    "**проверим еще раз на дубликаты**"
   ]
  },
  {
   "cell_type": "code",
   "execution_count": 22,
   "id": "72807958",
   "metadata": {},
   "outputs": [
    {
     "data": {
      "text/plain": [
       "0"
      ]
     },
     "execution_count": 22,
     "metadata": {},
     "output_type": "execute_result"
    }
   ],
   "source": [
    "users.duplicated().sum()"
   ]
  },
  {
   "cell_type": "code",
   "execution_count": 23,
   "id": "f5c11c0d",
   "metadata": {},
   "outputs": [
    {
     "data": {
      "text/plain": [
       "0"
      ]
     },
     "execution_count": 23,
     "metadata": {},
     "output_type": "execute_result"
    }
   ],
   "source": [
    "rides.duplicated().sum()"
   ]
  },
  {
   "cell_type": "code",
   "execution_count": 24,
   "id": "2e1f4cc7",
   "metadata": {},
   "outputs": [
    {
     "data": {
      "text/plain": [
       "0"
      ]
     },
     "execution_count": 24,
     "metadata": {},
     "output_type": "execute_result"
    }
   ],
   "source": [
    "subscriptions.duplicated().sum()"
   ]
  },
  {
   "cell_type": "markdown",
   "id": "212593c7",
   "metadata": {},
   "source": [
    "#### Шаг 3. Исследовательский анализ данных"
   ]
  },
  {
   "cell_type": "code",
   "execution_count": 25,
   "id": "b6541456",
   "metadata": {
    "scrolled": true
   },
   "outputs": [
    {
     "name": "stdout",
     "output_type": "stream",
     "text": [
      "['Тюмень' 'Омск' 'Москва' 'Ростов-на-Дону' 'Краснодар' 'Пятигорск'\n",
      " 'Екатеринбург' 'Сочи']\n"
     ]
    }
   ],
   "source": [
    "print(users['city'].unique())\n",
    "\n",
    "\n"
   ]
  },
  {
   "cell_type": "markdown",
   "id": "582ab072",
   "metadata": {},
   "source": [
    "*Построим круговую диаграмму распределения по городам*"
   ]
  },
  {
   "cell_type": "markdown",
   "id": "4f204300",
   "metadata": {},
   "source": [
    "**Как видно на графике, что чаще всего встречаются три города - Пятигорск, Екатеринбург и Ростов-на дону**"
   ]
  },
  {
   "cell_type": "code",
   "execution_count": 26,
   "id": "93f2704d",
   "metadata": {},
   "outputs": [
    {
     "data": {
      "image/png": "[encoded data removed]",
      "text/plain": [
       "<Figure size 720x720 with 1 Axes>"
      ]
     },
     "metadata": {},
     "output_type": "display_data"
    }
   ],
   "source": [
    "users.groupby('city')['city'].agg('count').sort_values(ascending=False).plot(kind='pie', labels=None, cmap='spring', shadow=True, legend=True, label='', figsize=(10, 10), autopct='%1.0f%%', title='Разбивка клиентов по городам')\n",
    "plt.show()\n"
   ]
  },
  {
   "cell_type": "markdown",
   "id": "2355e9fe",
   "metadata": {},
   "source": [
    "**Видно, что по количеству пользователей лидируют Пятигорск, Екатеринбург и Ростов-на-Дону, но в целом распределение по городам равномерное и лидерство трех городов несущественное**"
   ]
  },
  {
   "cell_type": "code",
   "execution_count": 27,
   "id": "325b2d26",
   "metadata": {
    "scrolled": true
   },
   "outputs": [
    {
     "data": {
      "text/plain": [
       "free     835\n",
       "ultra    699\n",
       "Name: subscription_type, dtype: int64"
      ]
     },
     "execution_count": 27,
     "metadata": {},
     "output_type": "execute_result"
    }
   ],
   "source": [
    "users['subscription_type'].value_counts()"
   ]
  },
  {
   "cell_type": "code",
   "execution_count": 28,
   "id": "2583b3c1",
   "metadata": {},
   "outputs": [
    {
     "data": {
      "text/plain": [
       "699"
      ]
     },
     "metadata": {},
     "output_type": "display_data"
    },
    {
     "data": {
      "text/plain": [
       "835"
      ]
     },
     "metadata": {},
     "output_type": "display_data"
    }
   ],
   "source": [
    "df_subscriptions = len(users[users['subscription_type'] == 'ultra'])\n",
    "df_subscriptions_none = len(users[users['subscription_type'] != 'ultra']) \n",
    "display(df_subscriptions)\n",
    "display(df_subscriptions_none)\n",
    "\n",
    "\n",
    "\n"
   ]
  },
  {
   "cell_type": "code",
   "execution_count": 29,
   "id": "fa42cc21",
   "metadata": {
    "scrolled": true
   },
   "outputs": [
    {
     "name": "stdout",
     "output_type": "stream",
     "text": [
      "Доля пользователей с подпиской равна 45.57%\n",
      "Доля пользователей без подписки равна 54.43%\n"
     ]
    }
   ],
   "source": [
    "print('Доля пользователей с подпиской равна', '{:.2%}'.format(df_subscriptions / users.shape[0]))\n",
    "print('Доля пользователей без подписки равна', '{:.2%}'.format(df_subscriptions_none / users.shape[0]))"
   ]
  },
  {
   "cell_type": "code",
   "execution_count": 30,
   "id": "fdfe5885",
   "metadata": {},
   "outputs": [
    {
     "data": {
      "image/png": "[encoded data removed]",
      "text/plain": [
       "<Figure size 720x720 with 1 Axes>"
      ]
     },
     "metadata": {},
     "output_type": "display_data"
    }
   ],
   "source": [
    "subscriptions_grouped = users.groupby('subscription_type')['subscription_type'].agg('count').plot(kind='pie', figsize=(10, 10), cmap ='summer', legend=True, shadow=True, labels=None, label='', autopct='%1.0f%%', title='Разбивка пользователей по подпискам')\n",
    "plt.show()"
   ]
  },
  {
   "cell_type": "markdown",
   "id": "a2ab49a9",
   "metadata": {},
   "source": [
    "**доля пользователей с подпиской и доля пользователей без подписки примерно равны**"
   ]
  },
  {
   "cell_type": "code",
   "execution_count": 31,
   "id": "73cd74d0",
   "metadata": {
    "scrolled": true
   },
   "outputs": [
    {
     "data": {
      "text/plain": [
       "array([43, 39, 38, 37, 36, 35, 34, 33, 32, 31, 30, 29, 28, 27, 26, 25, 24,\n",
       "       23, 22, 21, 20, 19, 18, 17, 16, 15, 14, 13, 12])"
      ]
     },
     "execution_count": 31,
     "metadata": {},
     "output_type": "execute_result"
    }
   ],
   "source": [
    "sorted_users_age = users['age'].sort_values(ascending=False)\n",
    "sorted_users_age.unique()"
   ]
  },
  {
   "cell_type": "markdown",
   "id": "6e0d02c3",
   "metadata": {},
   "source": [
    "**нашли уникальные значения столбца age**"
   ]
  },
  {
   "cell_type": "code",
   "execution_count": 32,
   "id": "8d9ee7ea",
   "metadata": {
    "scrolled": true
   },
   "outputs": [
    {
     "data": {
      "text/plain": [
       "25.0"
      ]
     },
     "execution_count": 32,
     "metadata": {},
     "output_type": "execute_result"
    }
   ],
   "source": [
    "users['age'].mean().round(0)"
   ]
  },
  {
   "cell_type": "markdown",
   "id": "bb8be338",
   "metadata": {},
   "source": [
    "**Средний возраст пользователей 25 лет**"
   ]
  },
  {
   "cell_type": "code",
   "execution_count": 33,
   "id": "cd046300",
   "metadata": {},
   "outputs": [
    {
     "data": {
      "image/png": "[encoded data removed]",
      "text/plain": [
       "<Figure size 720x720 with 1 Axes>"
      ]
     },
     "metadata": {
      "needs_background": "light"
     },
     "output_type": "display_data"
    }
   ],
   "source": [
    "(\n",
    "    users.pivot_table(index='age', values='user_id', aggfunc=('count'))\n",
    "    .plot(kind='bar', xlim=(12, 43), grid=True, figsize=(10, 10))\n",
    ")    \n",
    "plt.xlabel='age'\n",
    "plt.ylabel='count'\n",
    "plt.title='Зависимость количества поездок от возраста'\n",
    "plt.show()"
   ]
  },
  {
   "cell_type": "markdown",
   "id": "afdb1ff9",
   "metadata": {},
   "source": [
    "**Больше всего подписок в возрасте 25 лет, а меньше всего в 43, так как в зрелом возрасте люди предпочитают пользоваться личным авто либо общественным транспортом.**"
   ]
  },
  {
   "cell_type": "code",
   "execution_count": 34,
   "id": "b6c0cc67",
   "metadata": {},
   "outputs": [
    {
     "data": {
      "text/plain": [
       "count    1534.000000\n",
       "mean       24.903520\n",
       "std         4.572367\n",
       "min        12.000000\n",
       "25%        22.000000\n",
       "50%        25.000000\n",
       "75%        28.000000\n",
       "max        43.000000\n",
       "Name: age, dtype: float64"
      ]
     },
     "execution_count": 34,
     "metadata": {},
     "output_type": "execute_result"
    }
   ],
   "source": [
    "users['age'].describe()"
   ]
  },
  {
   "cell_type": "markdown",
   "id": "3d5c03f1",
   "metadata": {},
   "source": [
    "**Видино, что выбросов и аномалий нет, средний возаст пользователей 25 лет, минимальный - 12 лет, а максималный 43 года**"
   ]
  },
  {
   "cell_type": "code",
   "execution_count": 35,
   "id": "752a174d",
   "metadata": {},
   "outputs": [
    {
     "data": {
      "text/html": [
       "<div>\n",
       "<style scoped>\n",
       "    .dataframe tbody tr th:only-of-type {\n",
       "        vertical-align: middle;\n",
       "    }\n",
       "\n",
       "    .dataframe tbody tr th {\n",
       "        vertical-align: top;\n",
       "    }\n",
       "\n",
       "    .dataframe thead th {\n",
       "        text-align: right;\n",
       "    }\n",
       "</style>\n",
       "<table border=\"1\" class=\"dataframe\">\n",
       "  <thead>\n",
       "    <tr style=\"text-align: right;\">\n",
       "      <th></th>\n",
       "      <th>user_id</th>\n",
       "      <th>distance</th>\n",
       "      <th>duration</th>\n",
       "      <th>date</th>\n",
       "      <th>month</th>\n",
       "    </tr>\n",
       "  </thead>\n",
       "  <tbody>\n",
       "    <tr>\n",
       "      <th>0</th>\n",
       "      <td>1</td>\n",
       "      <td>4409.919140</td>\n",
       "      <td>25.599769</td>\n",
       "      <td>2021-01-01</td>\n",
       "      <td>1</td>\n",
       "    </tr>\n",
       "    <tr>\n",
       "      <th>1</th>\n",
       "      <td>1</td>\n",
       "      <td>2617.592153</td>\n",
       "      <td>15.816871</td>\n",
       "      <td>2021-01-18</td>\n",
       "      <td>1</td>\n",
       "    </tr>\n",
       "    <tr>\n",
       "      <th>2</th>\n",
       "      <td>1</td>\n",
       "      <td>754.159807</td>\n",
       "      <td>6.232113</td>\n",
       "      <td>2021-04-20</td>\n",
       "      <td>4</td>\n",
       "    </tr>\n",
       "    <tr>\n",
       "      <th>3</th>\n",
       "      <td>1</td>\n",
       "      <td>2694.783254</td>\n",
       "      <td>18.511000</td>\n",
       "      <td>2021-08-11</td>\n",
       "      <td>8</td>\n",
       "    </tr>\n",
       "    <tr>\n",
       "      <th>4</th>\n",
       "      <td>1</td>\n",
       "      <td>4028.687306</td>\n",
       "      <td>26.265803</td>\n",
       "      <td>2021-08-28</td>\n",
       "      <td>8</td>\n",
       "    </tr>\n",
       "  </tbody>\n",
       "</table>\n",
       "</div>"
      ],
      "text/plain": [
       "   user_id     distance   duration       date  month\n",
       "0        1  4409.919140  25.599769 2021-01-01      1\n",
       "1        1  2617.592153  15.816871 2021-01-18      1\n",
       "2        1   754.159807   6.232113 2021-04-20      4\n",
       "3        1  2694.783254  18.511000 2021-08-11      8\n",
       "4        1  4028.687306  26.265803 2021-08-28      8"
      ]
     },
     "execution_count": 35,
     "metadata": {},
     "output_type": "execute_result"
    }
   ],
   "source": [
    "rides.head()"
   ]
  },
  {
   "cell_type": "code",
   "execution_count": 36,
   "id": "150b8ca9",
   "metadata": {
    "scrolled": true
   },
   "outputs": [
    {
     "data": {
      "text/plain": [
       "<AxesSubplot:>"
      ]
     },
     "execution_count": 36,
     "metadata": {},
     "output_type": "execute_result"
    },
    {
     "data": {
      "image/png": "[encoded data removed]",
      "text/plain": [
       "<Figure size 360x360 with 1 Axes>"
      ]
     },
     "metadata": {
      "needs_background": "light"
     },
     "output_type": "display_data"
    }
   ],
   "source": [
    "rides['distance'].mean().round(0).astype(int)\n",
    "rides['distance'].hist(bins=30, figsize=(5, 5))"
   ]
  },
  {
   "cell_type": "markdown",
   "id": "49f630c0",
   "metadata": {},
   "source": [
    "**Среднее расстояния пользователя за 1 поездку равно 3071 метр**"
   ]
  },
  {
   "cell_type": "code",
   "execution_count": 37,
   "id": "109349ca",
   "metadata": {
    "scrolled": true
   },
   "outputs": [
    {
     "data": {
      "text/plain": [
       "count    18068\n",
       "mean        18\n",
       "std          6\n",
       "min          0\n",
       "25%         14\n",
       "50%         18\n",
       "75%         22\n",
       "max         41\n",
       "Name: duration, dtype: int64"
      ]
     },
     "execution_count": 37,
     "metadata": {},
     "output_type": "execute_result"
    }
   ],
   "source": [
    "rides['duration'].describe().round(0).astype(int)"
   ]
  },
  {
   "cell_type": "markdown",
   "id": "4b87e0f3",
   "metadata": {},
   "source": [
    "**Средняя продолжительность поездки 18 минут**"
   ]
  },
  {
   "cell_type": "code",
   "execution_count": 38,
   "id": "b20ff906",
   "metadata": {},
   "outputs": [
    {
     "data": {
      "text/plain": [
       "<AxesSubplot:>"
      ]
     },
     "execution_count": 38,
     "metadata": {},
     "output_type": "execute_result"
    },
    {
     "data": {
      "image/png": "[encoded data removed]",
      "text/plain": [
       "<Figure size 360x360 with 1 Axes>"
      ]
     },
     "metadata": {
      "needs_background": "light"
     },
     "output_type": "display_data"
    }
   ],
   "source": [
    "rides['duration'].hist(bins=30, figsize=(5, 5), grid=True, range=(0, 45))"
   ]
  },
  {
   "cell_type": "markdown",
   "id": "a21b6703",
   "metadata": {},
   "source": [
    "#### Шаг 4. Объединение данных"
   ]
  },
  {
   "cell_type": "code",
   "execution_count": 39,
   "id": "aca22a83",
   "metadata": {},
   "outputs": [
    {
     "data": {
      "text/html": [
       "<div>\n",
       "<style scoped>\n",
       "    .dataframe tbody tr th:only-of-type {\n",
       "        vertical-align: middle;\n",
       "    }\n",
       "\n",
       "    .dataframe tbody tr th {\n",
       "        vertical-align: top;\n",
       "    }\n",
       "\n",
       "    .dataframe thead th {\n",
       "        text-align: right;\n",
       "    }\n",
       "</style>\n",
       "<table border=\"1\" class=\"dataframe\">\n",
       "  <thead>\n",
       "    <tr style=\"text-align: right;\">\n",
       "      <th></th>\n",
       "      <th>user_id</th>\n",
       "      <th>name</th>\n",
       "      <th>age</th>\n",
       "      <th>city</th>\n",
       "      <th>subscription_type</th>\n",
       "      <th>distance</th>\n",
       "      <th>duration</th>\n",
       "      <th>date</th>\n",
       "      <th>month</th>\n",
       "      <th>minute_price</th>\n",
       "      <th>start_ride_price</th>\n",
       "      <th>subscription_fee</th>\n",
       "    </tr>\n",
       "  </thead>\n",
       "  <tbody>\n",
       "    <tr>\n",
       "      <th>0</th>\n",
       "      <td>1</td>\n",
       "      <td>Кира</td>\n",
       "      <td>22</td>\n",
       "      <td>Тюмень</td>\n",
       "      <td>ultra</td>\n",
       "      <td>4409.919140</td>\n",
       "      <td>25.599769</td>\n",
       "      <td>2021-01-01</td>\n",
       "      <td>1</td>\n",
       "      <td>6</td>\n",
       "      <td>0</td>\n",
       "      <td>199</td>\n",
       "    </tr>\n",
       "    <tr>\n",
       "      <th>1</th>\n",
       "      <td>1</td>\n",
       "      <td>Кира</td>\n",
       "      <td>22</td>\n",
       "      <td>Тюмень</td>\n",
       "      <td>ultra</td>\n",
       "      <td>2617.592153</td>\n",
       "      <td>15.816871</td>\n",
       "      <td>2021-01-18</td>\n",
       "      <td>1</td>\n",
       "      <td>6</td>\n",
       "      <td>0</td>\n",
       "      <td>199</td>\n",
       "    </tr>\n",
       "    <tr>\n",
       "      <th>2</th>\n",
       "      <td>1</td>\n",
       "      <td>Кира</td>\n",
       "      <td>22</td>\n",
       "      <td>Тюмень</td>\n",
       "      <td>ultra</td>\n",
       "      <td>754.159807</td>\n",
       "      <td>6.232113</td>\n",
       "      <td>2021-04-20</td>\n",
       "      <td>4</td>\n",
       "      <td>6</td>\n",
       "      <td>0</td>\n",
       "      <td>199</td>\n",
       "    </tr>\n",
       "    <tr>\n",
       "      <th>3</th>\n",
       "      <td>1</td>\n",
       "      <td>Кира</td>\n",
       "      <td>22</td>\n",
       "      <td>Тюмень</td>\n",
       "      <td>ultra</td>\n",
       "      <td>2694.783254</td>\n",
       "      <td>18.511000</td>\n",
       "      <td>2021-08-11</td>\n",
       "      <td>8</td>\n",
       "      <td>6</td>\n",
       "      <td>0</td>\n",
       "      <td>199</td>\n",
       "    </tr>\n",
       "    <tr>\n",
       "      <th>4</th>\n",
       "      <td>1</td>\n",
       "      <td>Кира</td>\n",
       "      <td>22</td>\n",
       "      <td>Тюмень</td>\n",
       "      <td>ultra</td>\n",
       "      <td>4028.687306</td>\n",
       "      <td>26.265803</td>\n",
       "      <td>2021-08-28</td>\n",
       "      <td>8</td>\n",
       "      <td>6</td>\n",
       "      <td>0</td>\n",
       "      <td>199</td>\n",
       "    </tr>\n",
       "    <tr>\n",
       "      <th>...</th>\n",
       "      <td>...</td>\n",
       "      <td>...</td>\n",
       "      <td>...</td>\n",
       "      <td>...</td>\n",
       "      <td>...</td>\n",
       "      <td>...</td>\n",
       "      <td>...</td>\n",
       "      <td>...</td>\n",
       "      <td>...</td>\n",
       "      <td>...</td>\n",
       "      <td>...</td>\n",
       "      <td>...</td>\n",
       "    </tr>\n",
       "    <tr>\n",
       "      <th>18063</th>\n",
       "      <td>1534</td>\n",
       "      <td>Альберт</td>\n",
       "      <td>25</td>\n",
       "      <td>Краснодар</td>\n",
       "      <td>free</td>\n",
       "      <td>3781.098080</td>\n",
       "      <td>19.822962</td>\n",
       "      <td>2021-11-04</td>\n",
       "      <td>11</td>\n",
       "      <td>8</td>\n",
       "      <td>50</td>\n",
       "      <td>0</td>\n",
       "    </tr>\n",
       "    <tr>\n",
       "      <th>18064</th>\n",
       "      <td>1534</td>\n",
       "      <td>Альберт</td>\n",
       "      <td>25</td>\n",
       "      <td>Краснодар</td>\n",
       "      <td>free</td>\n",
       "      <td>2840.423057</td>\n",
       "      <td>21.409799</td>\n",
       "      <td>2021-11-16</td>\n",
       "      <td>11</td>\n",
       "      <td>8</td>\n",
       "      <td>50</td>\n",
       "      <td>0</td>\n",
       "    </tr>\n",
       "    <tr>\n",
       "      <th>18065</th>\n",
       "      <td>1534</td>\n",
       "      <td>Альберт</td>\n",
       "      <td>25</td>\n",
       "      <td>Краснодар</td>\n",
       "      <td>free</td>\n",
       "      <td>3826.185507</td>\n",
       "      <td>18.435051</td>\n",
       "      <td>2021-11-18</td>\n",
       "      <td>11</td>\n",
       "      <td>8</td>\n",
       "      <td>50</td>\n",
       "      <td>0</td>\n",
       "    </tr>\n",
       "    <tr>\n",
       "      <th>18066</th>\n",
       "      <td>1534</td>\n",
       "      <td>Альберт</td>\n",
       "      <td>25</td>\n",
       "      <td>Краснодар</td>\n",
       "      <td>free</td>\n",
       "      <td>2902.308661</td>\n",
       "      <td>16.674362</td>\n",
       "      <td>2021-11-27</td>\n",
       "      <td>11</td>\n",
       "      <td>8</td>\n",
       "      <td>50</td>\n",
       "      <td>0</td>\n",
       "    </tr>\n",
       "    <tr>\n",
       "      <th>18067</th>\n",
       "      <td>1534</td>\n",
       "      <td>Альберт</td>\n",
       "      <td>25</td>\n",
       "      <td>Краснодар</td>\n",
       "      <td>free</td>\n",
       "      <td>2371.711192</td>\n",
       "      <td>15.893917</td>\n",
       "      <td>2021-12-29</td>\n",
       "      <td>12</td>\n",
       "      <td>8</td>\n",
       "      <td>50</td>\n",
       "      <td>0</td>\n",
       "    </tr>\n",
       "  </tbody>\n",
       "</table>\n",
       "<p>18068 rows × 12 columns</p>\n",
       "</div>"
      ],
      "text/plain": [
       "       user_id     name  age       city subscription_type     distance  \\\n",
       "0            1     Кира   22     Тюмень             ultra  4409.919140   \n",
       "1            1     Кира   22     Тюмень             ultra  2617.592153   \n",
       "2            1     Кира   22     Тюмень             ultra   754.159807   \n",
       "3            1     Кира   22     Тюмень             ultra  2694.783254   \n",
       "4            1     Кира   22     Тюмень             ultra  4028.687306   \n",
       "...        ...      ...  ...        ...               ...          ...   \n",
       "18063     1534  Альберт   25  Краснодар              free  3781.098080   \n",
       "18064     1534  Альберт   25  Краснодар              free  2840.423057   \n",
       "18065     1534  Альберт   25  Краснодар              free  3826.185507   \n",
       "18066     1534  Альберт   25  Краснодар              free  2902.308661   \n",
       "18067     1534  Альберт   25  Краснодар              free  2371.711192   \n",
       "\n",
       "        duration       date  month  minute_price  start_ride_price  \\\n",
       "0      25.599769 2021-01-01      1             6                 0   \n",
       "1      15.816871 2021-01-18      1             6                 0   \n",
       "2       6.232113 2021-04-20      4             6                 0   \n",
       "3      18.511000 2021-08-11      8             6                 0   \n",
       "4      26.265803 2021-08-28      8             6                 0   \n",
       "...          ...        ...    ...           ...               ...   \n",
       "18063  19.822962 2021-11-04     11             8                50   \n",
       "18064  21.409799 2021-11-16     11             8                50   \n",
       "18065  18.435051 2021-11-18     11             8                50   \n",
       "18066  16.674362 2021-11-27     11             8                50   \n",
       "18067  15.893917 2021-12-29     12             8                50   \n",
       "\n",
       "       subscription_fee  \n",
       "0                   199  \n",
       "1                   199  \n",
       "2                   199  \n",
       "3                   199  \n",
       "4                   199  \n",
       "...                 ...  \n",
       "18063                 0  \n",
       "18064                 0  \n",
       "18065                 0  \n",
       "18066                 0  \n",
       "18067                 0  \n",
       "\n",
       "[18068 rows x 12 columns]"
      ]
     },
     "execution_count": 39,
     "metadata": {},
     "output_type": "execute_result"
    }
   ],
   "source": [
    "new_data_merged = users.merge(rides, on='user_id', how='outer')\n",
    "final_data = new_data_merged.merge(subscriptions, on='subscription_type', how ='outer')\n",
    "final_data"
   ]
  },
  {
   "cell_type": "code",
   "execution_count": 40,
   "id": "82d27faf",
   "metadata": {},
   "outputs": [
    {
     "data": {
      "text/plain": [
       "count    18068.000000\n",
       "mean      3070.659976\n",
       "std       1116.831209\n",
       "min          0.855683\n",
       "25%       2543.226360\n",
       "50%       3133.609994\n",
       "75%       3776.222735\n",
       "max       7211.007745\n",
       "Name: distance, dtype: float64"
      ]
     },
     "execution_count": 40,
     "metadata": {},
     "output_type": "execute_result"
    }
   ],
   "source": [
    "new_data_merged['distance'].describe()"
   ]
  },
  {
   "cell_type": "markdown",
   "id": "f65f63de",
   "metadata": {},
   "source": [
    "**Округлим стобец duration вниз до ближайшего целого числа с помощью метода np.ceil и приведем к типу данных int**"
   ]
  },
  {
   "cell_type": "code",
   "execution_count": 41,
   "id": "9cf41828",
   "metadata": {},
   "outputs": [
    {
     "data": {
      "text/html": [
       "<div>\n",
       "<style scoped>\n",
       "    .dataframe tbody tr th:only-of-type {\n",
       "        vertical-align: middle;\n",
       "    }\n",
       "\n",
       "    .dataframe tbody tr th {\n",
       "        vertical-align: top;\n",
       "    }\n",
       "\n",
       "    .dataframe thead th {\n",
       "        text-align: right;\n",
       "    }\n",
       "</style>\n",
       "<table border=\"1\" class=\"dataframe\">\n",
       "  <thead>\n",
       "    <tr style=\"text-align: right;\">\n",
       "      <th></th>\n",
       "      <th>user_id</th>\n",
       "      <th>name</th>\n",
       "      <th>age</th>\n",
       "      <th>city</th>\n",
       "      <th>subscription_type</th>\n",
       "      <th>distance</th>\n",
       "      <th>duration</th>\n",
       "      <th>date</th>\n",
       "      <th>month</th>\n",
       "      <th>minute_price</th>\n",
       "      <th>start_ride_price</th>\n",
       "      <th>subscription_fee</th>\n",
       "    </tr>\n",
       "  </thead>\n",
       "  <tbody>\n",
       "    <tr>\n",
       "      <th>0</th>\n",
       "      <td>1</td>\n",
       "      <td>Кира</td>\n",
       "      <td>22</td>\n",
       "      <td>Тюмень</td>\n",
       "      <td>ultra</td>\n",
       "      <td>4409.919140</td>\n",
       "      <td>26</td>\n",
       "      <td>2021-01-01</td>\n",
       "      <td>1</td>\n",
       "      <td>6</td>\n",
       "      <td>0</td>\n",
       "      <td>199</td>\n",
       "    </tr>\n",
       "    <tr>\n",
       "      <th>1</th>\n",
       "      <td>1</td>\n",
       "      <td>Кира</td>\n",
       "      <td>22</td>\n",
       "      <td>Тюмень</td>\n",
       "      <td>ultra</td>\n",
       "      <td>2617.592153</td>\n",
       "      <td>16</td>\n",
       "      <td>2021-01-18</td>\n",
       "      <td>1</td>\n",
       "      <td>6</td>\n",
       "      <td>0</td>\n",
       "      <td>199</td>\n",
       "    </tr>\n",
       "    <tr>\n",
       "      <th>2</th>\n",
       "      <td>1</td>\n",
       "      <td>Кира</td>\n",
       "      <td>22</td>\n",
       "      <td>Тюмень</td>\n",
       "      <td>ultra</td>\n",
       "      <td>754.159807</td>\n",
       "      <td>7</td>\n",
       "      <td>2021-04-20</td>\n",
       "      <td>4</td>\n",
       "      <td>6</td>\n",
       "      <td>0</td>\n",
       "      <td>199</td>\n",
       "    </tr>\n",
       "    <tr>\n",
       "      <th>3</th>\n",
       "      <td>1</td>\n",
       "      <td>Кира</td>\n",
       "      <td>22</td>\n",
       "      <td>Тюмень</td>\n",
       "      <td>ultra</td>\n",
       "      <td>2694.783254</td>\n",
       "      <td>19</td>\n",
       "      <td>2021-08-11</td>\n",
       "      <td>8</td>\n",
       "      <td>6</td>\n",
       "      <td>0</td>\n",
       "      <td>199</td>\n",
       "    </tr>\n",
       "    <tr>\n",
       "      <th>4</th>\n",
       "      <td>1</td>\n",
       "      <td>Кира</td>\n",
       "      <td>22</td>\n",
       "      <td>Тюмень</td>\n",
       "      <td>ultra</td>\n",
       "      <td>4028.687306</td>\n",
       "      <td>27</td>\n",
       "      <td>2021-08-28</td>\n",
       "      <td>8</td>\n",
       "      <td>6</td>\n",
       "      <td>0</td>\n",
       "      <td>199</td>\n",
       "    </tr>\n",
       "    <tr>\n",
       "      <th>...</th>\n",
       "      <td>...</td>\n",
       "      <td>...</td>\n",
       "      <td>...</td>\n",
       "      <td>...</td>\n",
       "      <td>...</td>\n",
       "      <td>...</td>\n",
       "      <td>...</td>\n",
       "      <td>...</td>\n",
       "      <td>...</td>\n",
       "      <td>...</td>\n",
       "      <td>...</td>\n",
       "      <td>...</td>\n",
       "    </tr>\n",
       "    <tr>\n",
       "      <th>18063</th>\n",
       "      <td>1534</td>\n",
       "      <td>Альберт</td>\n",
       "      <td>25</td>\n",
       "      <td>Краснодар</td>\n",
       "      <td>free</td>\n",
       "      <td>3781.098080</td>\n",
       "      <td>20</td>\n",
       "      <td>2021-11-04</td>\n",
       "      <td>11</td>\n",
       "      <td>8</td>\n",
       "      <td>50</td>\n",
       "      <td>0</td>\n",
       "    </tr>\n",
       "    <tr>\n",
       "      <th>18064</th>\n",
       "      <td>1534</td>\n",
       "      <td>Альберт</td>\n",
       "      <td>25</td>\n",
       "      <td>Краснодар</td>\n",
       "      <td>free</td>\n",
       "      <td>2840.423057</td>\n",
       "      <td>22</td>\n",
       "      <td>2021-11-16</td>\n",
       "      <td>11</td>\n",
       "      <td>8</td>\n",
       "      <td>50</td>\n",
       "      <td>0</td>\n",
       "    </tr>\n",
       "    <tr>\n",
       "      <th>18065</th>\n",
       "      <td>1534</td>\n",
       "      <td>Альберт</td>\n",
       "      <td>25</td>\n",
       "      <td>Краснодар</td>\n",
       "      <td>free</td>\n",
       "      <td>3826.185507</td>\n",
       "      <td>19</td>\n",
       "      <td>2021-11-18</td>\n",
       "      <td>11</td>\n",
       "      <td>8</td>\n",
       "      <td>50</td>\n",
       "      <td>0</td>\n",
       "    </tr>\n",
       "    <tr>\n",
       "      <th>18066</th>\n",
       "      <td>1534</td>\n",
       "      <td>Альберт</td>\n",
       "      <td>25</td>\n",
       "      <td>Краснодар</td>\n",
       "      <td>free</td>\n",
       "      <td>2902.308661</td>\n",
       "      <td>17</td>\n",
       "      <td>2021-11-27</td>\n",
       "      <td>11</td>\n",
       "      <td>8</td>\n",
       "      <td>50</td>\n",
       "      <td>0</td>\n",
       "    </tr>\n",
       "    <tr>\n",
       "      <th>18067</th>\n",
       "      <td>1534</td>\n",
       "      <td>Альберт</td>\n",
       "      <td>25</td>\n",
       "      <td>Краснодар</td>\n",
       "      <td>free</td>\n",
       "      <td>2371.711192</td>\n",
       "      <td>16</td>\n",
       "      <td>2021-12-29</td>\n",
       "      <td>12</td>\n",
       "      <td>8</td>\n",
       "      <td>50</td>\n",
       "      <td>0</td>\n",
       "    </tr>\n",
       "  </tbody>\n",
       "</table>\n",
       "<p>18068 rows × 12 columns</p>\n",
       "</div>"
      ],
      "text/plain": [
       "       user_id     name  age       city subscription_type     distance  \\\n",
       "0            1     Кира   22     Тюмень             ultra  4409.919140   \n",
       "1            1     Кира   22     Тюмень             ultra  2617.592153   \n",
       "2            1     Кира   22     Тюмень             ultra   754.159807   \n",
       "3            1     Кира   22     Тюмень             ultra  2694.783254   \n",
       "4            1     Кира   22     Тюмень             ultra  4028.687306   \n",
       "...        ...      ...  ...        ...               ...          ...   \n",
       "18063     1534  Альберт   25  Краснодар              free  3781.098080   \n",
       "18064     1534  Альберт   25  Краснодар              free  2840.423057   \n",
       "18065     1534  Альберт   25  Краснодар              free  3826.185507   \n",
       "18066     1534  Альберт   25  Краснодар              free  2902.308661   \n",
       "18067     1534  Альберт   25  Краснодар              free  2371.711192   \n",
       "\n",
       "       duration       date  month  minute_price  start_ride_price  \\\n",
       "0            26 2021-01-01      1             6                 0   \n",
       "1            16 2021-01-18      1             6                 0   \n",
       "2             7 2021-04-20      4             6                 0   \n",
       "3            19 2021-08-11      8             6                 0   \n",
       "4            27 2021-08-28      8             6                 0   \n",
       "...         ...        ...    ...           ...               ...   \n",
       "18063        20 2021-11-04     11             8                50   \n",
       "18064        22 2021-11-16     11             8                50   \n",
       "18065        19 2021-11-18     11             8                50   \n",
       "18066        17 2021-11-27     11             8                50   \n",
       "18067        16 2021-12-29     12             8                50   \n",
       "\n",
       "       subscription_fee  \n",
       "0                   199  \n",
       "1                   199  \n",
       "2                   199  \n",
       "3                   199  \n",
       "4                   199  \n",
       "...                 ...  \n",
       "18063                 0  \n",
       "18064                 0  \n",
       "18065                 0  \n",
       "18066                 0  \n",
       "18067                 0  \n",
       "\n",
       "[18068 rows x 12 columns]"
      ]
     },
     "execution_count": 41,
     "metadata": {},
     "output_type": "execute_result"
    }
   ],
   "source": [
    "final_data['duration'] = np.ceil(final_data['duration'])\n",
    "final_data['duration'] = final_data['duration'].astype(int)\n",
    "final_data"
   ]
  },
  {
   "cell_type": "code",
   "execution_count": 42,
   "id": "6e95d435",
   "metadata": {},
   "outputs": [
    {
     "data": {
      "text/html": [
       "<div>\n",
       "<style scoped>\n",
       "    .dataframe tbody tr th:only-of-type {\n",
       "        vertical-align: middle;\n",
       "    }\n",
       "\n",
       "    .dataframe tbody tr th {\n",
       "        vertical-align: top;\n",
       "    }\n",
       "\n",
       "    .dataframe thead th {\n",
       "        text-align: right;\n",
       "    }\n",
       "</style>\n",
       "<table border=\"1\" class=\"dataframe\">\n",
       "  <thead>\n",
       "    <tr style=\"text-align: right;\">\n",
       "      <th></th>\n",
       "      <th>user_id</th>\n",
       "      <th>name</th>\n",
       "      <th>age</th>\n",
       "      <th>city</th>\n",
       "      <th>subscription_type</th>\n",
       "      <th>distance</th>\n",
       "      <th>duration</th>\n",
       "      <th>date</th>\n",
       "      <th>month</th>\n",
       "      <th>minute_price</th>\n",
       "      <th>start_ride_price</th>\n",
       "      <th>subscription_fee</th>\n",
       "    </tr>\n",
       "  </thead>\n",
       "  <tbody>\n",
       "    <tr>\n",
       "      <th>0</th>\n",
       "      <td>1</td>\n",
       "      <td>Кира</td>\n",
       "      <td>22</td>\n",
       "      <td>Тюмень</td>\n",
       "      <td>ultra</td>\n",
       "      <td>4409.919140</td>\n",
       "      <td>26</td>\n",
       "      <td>2021-01-01</td>\n",
       "      <td>1</td>\n",
       "      <td>6</td>\n",
       "      <td>0</td>\n",
       "      <td>199</td>\n",
       "    </tr>\n",
       "    <tr>\n",
       "      <th>1</th>\n",
       "      <td>1</td>\n",
       "      <td>Кира</td>\n",
       "      <td>22</td>\n",
       "      <td>Тюмень</td>\n",
       "      <td>ultra</td>\n",
       "      <td>2617.592153</td>\n",
       "      <td>16</td>\n",
       "      <td>2021-01-18</td>\n",
       "      <td>1</td>\n",
       "      <td>6</td>\n",
       "      <td>0</td>\n",
       "      <td>199</td>\n",
       "    </tr>\n",
       "    <tr>\n",
       "      <th>2</th>\n",
       "      <td>1</td>\n",
       "      <td>Кира</td>\n",
       "      <td>22</td>\n",
       "      <td>Тюмень</td>\n",
       "      <td>ultra</td>\n",
       "      <td>754.159807</td>\n",
       "      <td>7</td>\n",
       "      <td>2021-04-20</td>\n",
       "      <td>4</td>\n",
       "      <td>6</td>\n",
       "      <td>0</td>\n",
       "      <td>199</td>\n",
       "    </tr>\n",
       "    <tr>\n",
       "      <th>3</th>\n",
       "      <td>1</td>\n",
       "      <td>Кира</td>\n",
       "      <td>22</td>\n",
       "      <td>Тюмень</td>\n",
       "      <td>ultra</td>\n",
       "      <td>2694.783254</td>\n",
       "      <td>19</td>\n",
       "      <td>2021-08-11</td>\n",
       "      <td>8</td>\n",
       "      <td>6</td>\n",
       "      <td>0</td>\n",
       "      <td>199</td>\n",
       "    </tr>\n",
       "    <tr>\n",
       "      <th>4</th>\n",
       "      <td>1</td>\n",
       "      <td>Кира</td>\n",
       "      <td>22</td>\n",
       "      <td>Тюмень</td>\n",
       "      <td>ultra</td>\n",
       "      <td>4028.687306</td>\n",
       "      <td>27</td>\n",
       "      <td>2021-08-28</td>\n",
       "      <td>8</td>\n",
       "      <td>6</td>\n",
       "      <td>0</td>\n",
       "      <td>199</td>\n",
       "    </tr>\n",
       "  </tbody>\n",
       "</table>\n",
       "</div>"
      ],
      "text/plain": [
       "   user_id  name  age    city subscription_type     distance  duration  \\\n",
       "0        1  Кира   22  Тюмень             ultra  4409.919140        26   \n",
       "1        1  Кира   22  Тюмень             ultra  2617.592153        16   \n",
       "2        1  Кира   22  Тюмень             ultra   754.159807         7   \n",
       "3        1  Кира   22  Тюмень             ultra  2694.783254        19   \n",
       "4        1  Кира   22  Тюмень             ultra  4028.687306        27   \n",
       "\n",
       "        date  month  minute_price  start_ride_price  subscription_fee  \n",
       "0 2021-01-01      1             6                 0               199  \n",
       "1 2021-01-18      1             6                 0               199  \n",
       "2 2021-04-20      4             6                 0               199  \n",
       "3 2021-08-11      8             6                 0               199  \n",
       "4 2021-08-28      8             6                 0               199  "
      ]
     },
     "execution_count": 42,
     "metadata": {},
     "output_type": "execute_result"
    }
   ],
   "source": [
    "df_ultra = final_data.loc[final_data['subscription_type'] == 'ultra']\n",
    "df_ultra.head()"
   ]
  },
  {
   "cell_type": "code",
   "execution_count": 43,
   "id": "fb83f819",
   "metadata": {},
   "outputs": [
    {
     "data": {
      "text/html": [
       "<div>\n",
       "<style scoped>\n",
       "    .dataframe tbody tr th:only-of-type {\n",
       "        vertical-align: middle;\n",
       "    }\n",
       "\n",
       "    .dataframe tbody tr th {\n",
       "        vertical-align: top;\n",
       "    }\n",
       "\n",
       "    .dataframe thead th {\n",
       "        text-align: right;\n",
       "    }\n",
       "</style>\n",
       "<table border=\"1\" class=\"dataframe\">\n",
       "  <thead>\n",
       "    <tr style=\"text-align: right;\">\n",
       "      <th></th>\n",
       "      <th>user_id</th>\n",
       "      <th>age</th>\n",
       "      <th>distance</th>\n",
       "      <th>duration</th>\n",
       "      <th>month</th>\n",
       "      <th>minute_price</th>\n",
       "      <th>start_ride_price</th>\n",
       "      <th>subscription_fee</th>\n",
       "    </tr>\n",
       "  </thead>\n",
       "  <tbody>\n",
       "    <tr>\n",
       "      <th>count</th>\n",
       "      <td>6500.000000</td>\n",
       "      <td>6500.000000</td>\n",
       "      <td>6500.000000</td>\n",
       "      <td>6500.000000</td>\n",
       "      <td>6500.000000</td>\n",
       "      <td>6500.0</td>\n",
       "      <td>6500.0</td>\n",
       "      <td>6500.0</td>\n",
       "    </tr>\n",
       "    <tr>\n",
       "      <th>mean</th>\n",
       "      <td>348.725385</td>\n",
       "      <td>24.892615</td>\n",
       "      <td>3115.445388</td>\n",
       "      <td>19.037692</td>\n",
       "      <td>6.422308</td>\n",
       "      <td>6.0</td>\n",
       "      <td>0.0</td>\n",
       "      <td>199.0</td>\n",
       "    </tr>\n",
       "    <tr>\n",
       "      <th>std</th>\n",
       "      <td>201.099339</td>\n",
       "      <td>4.757208</td>\n",
       "      <td>836.895330</td>\n",
       "      <td>5.577439</td>\n",
       "      <td>3.414616</td>\n",
       "      <td>0.0</td>\n",
       "      <td>0.0</td>\n",
       "      <td>0.0</td>\n",
       "    </tr>\n",
       "    <tr>\n",
       "      <th>min</th>\n",
       "      <td>1.000000</td>\n",
       "      <td>12.000000</td>\n",
       "      <td>244.210438</td>\n",
       "      <td>4.000000</td>\n",
       "      <td>1.000000</td>\n",
       "      <td>6.0</td>\n",
       "      <td>0.0</td>\n",
       "      <td>199.0</td>\n",
       "    </tr>\n",
       "    <tr>\n",
       "      <th>25%</th>\n",
       "      <td>175.000000</td>\n",
       "      <td>22.000000</td>\n",
       "      <td>2785.444017</td>\n",
       "      <td>15.000000</td>\n",
       "      <td>4.000000</td>\n",
       "      <td>6.0</td>\n",
       "      <td>0.0</td>\n",
       "      <td>199.0</td>\n",
       "    </tr>\n",
       "    <tr>\n",
       "      <th>50%</th>\n",
       "      <td>351.000000</td>\n",
       "      <td>25.000000</td>\n",
       "      <td>3148.637229</td>\n",
       "      <td>19.000000</td>\n",
       "      <td>6.000000</td>\n",
       "      <td>6.0</td>\n",
       "      <td>0.0</td>\n",
       "      <td>199.0</td>\n",
       "    </tr>\n",
       "    <tr>\n",
       "      <th>75%</th>\n",
       "      <td>525.000000</td>\n",
       "      <td>28.000000</td>\n",
       "      <td>3560.574425</td>\n",
       "      <td>22.000000</td>\n",
       "      <td>9.000000</td>\n",
       "      <td>6.0</td>\n",
       "      <td>0.0</td>\n",
       "      <td>199.0</td>\n",
       "    </tr>\n",
       "    <tr>\n",
       "      <th>max</th>\n",
       "      <td>699.000000</td>\n",
       "      <td>38.000000</td>\n",
       "      <td>5699.769662</td>\n",
       "      <td>41.000000</td>\n",
       "      <td>12.000000</td>\n",
       "      <td>6.0</td>\n",
       "      <td>0.0</td>\n",
       "      <td>199.0</td>\n",
       "    </tr>\n",
       "  </tbody>\n",
       "</table>\n",
       "</div>"
      ],
      "text/plain": [
       "           user_id          age     distance     duration        month  \\\n",
       "count  6500.000000  6500.000000  6500.000000  6500.000000  6500.000000   \n",
       "mean    348.725385    24.892615  3115.445388    19.037692     6.422308   \n",
       "std     201.099339     4.757208   836.895330     5.577439     3.414616   \n",
       "min       1.000000    12.000000   244.210438     4.000000     1.000000   \n",
       "25%     175.000000    22.000000  2785.444017    15.000000     4.000000   \n",
       "50%     351.000000    25.000000  3148.637229    19.000000     6.000000   \n",
       "75%     525.000000    28.000000  3560.574425    22.000000     9.000000   \n",
       "max     699.000000    38.000000  5699.769662    41.000000    12.000000   \n",
       "\n",
       "       minute_price  start_ride_price  subscription_fee  \n",
       "count        6500.0            6500.0            6500.0  \n",
       "mean            6.0               0.0             199.0  \n",
       "std             0.0               0.0               0.0  \n",
       "min             6.0               0.0             199.0  \n",
       "25%             6.0               0.0             199.0  \n",
       "50%             6.0               0.0             199.0  \n",
       "75%             6.0               0.0             199.0  \n",
       "max             6.0               0.0             199.0  "
      ]
     },
     "execution_count": 43,
     "metadata": {},
     "output_type": "execute_result"
    }
   ],
   "source": [
    "df_ultra.describe()"
   ]
  },
  {
   "cell_type": "code",
   "execution_count": 44,
   "id": "6e460cfb",
   "metadata": {
    "scrolled": true
   },
   "outputs": [
    {
     "data": {
      "text/html": [
       "<div>\n",
       "<style scoped>\n",
       "    .dataframe tbody tr th:only-of-type {\n",
       "        vertical-align: middle;\n",
       "    }\n",
       "\n",
       "    .dataframe tbody tr th {\n",
       "        vertical-align: top;\n",
       "    }\n",
       "\n",
       "    .dataframe thead th {\n",
       "        text-align: right;\n",
       "    }\n",
       "</style>\n",
       "<table border=\"1\" class=\"dataframe\">\n",
       "  <thead>\n",
       "    <tr style=\"text-align: right;\">\n",
       "      <th></th>\n",
       "      <th>user_id</th>\n",
       "      <th>name</th>\n",
       "      <th>age</th>\n",
       "      <th>city</th>\n",
       "      <th>subscription_type</th>\n",
       "      <th>distance</th>\n",
       "      <th>duration</th>\n",
       "      <th>date</th>\n",
       "      <th>month</th>\n",
       "      <th>minute_price</th>\n",
       "      <th>start_ride_price</th>\n",
       "      <th>subscription_fee</th>\n",
       "    </tr>\n",
       "  </thead>\n",
       "  <tbody>\n",
       "    <tr>\n",
       "      <th>6500</th>\n",
       "      <td>700</td>\n",
       "      <td>Айдар</td>\n",
       "      <td>22</td>\n",
       "      <td>Омск</td>\n",
       "      <td>free</td>\n",
       "      <td>2515.690719</td>\n",
       "      <td>15</td>\n",
       "      <td>2021-01-02</td>\n",
       "      <td>1</td>\n",
       "      <td>8</td>\n",
       "      <td>50</td>\n",
       "      <td>0</td>\n",
       "    </tr>\n",
       "    <tr>\n",
       "      <th>6501</th>\n",
       "      <td>700</td>\n",
       "      <td>Айдар</td>\n",
       "      <td>22</td>\n",
       "      <td>Омск</td>\n",
       "      <td>free</td>\n",
       "      <td>846.932642</td>\n",
       "      <td>17</td>\n",
       "      <td>2021-02-01</td>\n",
       "      <td>2</td>\n",
       "      <td>8</td>\n",
       "      <td>50</td>\n",
       "      <td>0</td>\n",
       "    </tr>\n",
       "    <tr>\n",
       "      <th>6502</th>\n",
       "      <td>700</td>\n",
       "      <td>Айдар</td>\n",
       "      <td>22</td>\n",
       "      <td>Омск</td>\n",
       "      <td>free</td>\n",
       "      <td>4004.434142</td>\n",
       "      <td>21</td>\n",
       "      <td>2021-02-04</td>\n",
       "      <td>2</td>\n",
       "      <td>8</td>\n",
       "      <td>50</td>\n",
       "      <td>0</td>\n",
       "    </tr>\n",
       "    <tr>\n",
       "      <th>6503</th>\n",
       "      <td>700</td>\n",
       "      <td>Айдар</td>\n",
       "      <td>22</td>\n",
       "      <td>Омск</td>\n",
       "      <td>free</td>\n",
       "      <td>1205.911290</td>\n",
       "      <td>10</td>\n",
       "      <td>2021-02-10</td>\n",
       "      <td>2</td>\n",
       "      <td>8</td>\n",
       "      <td>50</td>\n",
       "      <td>0</td>\n",
       "    </tr>\n",
       "    <tr>\n",
       "      <th>6504</th>\n",
       "      <td>700</td>\n",
       "      <td>Айдар</td>\n",
       "      <td>22</td>\n",
       "      <td>Омск</td>\n",
       "      <td>free</td>\n",
       "      <td>3047.379435</td>\n",
       "      <td>18</td>\n",
       "      <td>2021-02-14</td>\n",
       "      <td>2</td>\n",
       "      <td>8</td>\n",
       "      <td>50</td>\n",
       "      <td>0</td>\n",
       "    </tr>\n",
       "    <tr>\n",
       "      <th>...</th>\n",
       "      <td>...</td>\n",
       "      <td>...</td>\n",
       "      <td>...</td>\n",
       "      <td>...</td>\n",
       "      <td>...</td>\n",
       "      <td>...</td>\n",
       "      <td>...</td>\n",
       "      <td>...</td>\n",
       "      <td>...</td>\n",
       "      <td>...</td>\n",
       "      <td>...</td>\n",
       "      <td>...</td>\n",
       "    </tr>\n",
       "    <tr>\n",
       "      <th>18063</th>\n",
       "      <td>1534</td>\n",
       "      <td>Альберт</td>\n",
       "      <td>25</td>\n",
       "      <td>Краснодар</td>\n",
       "      <td>free</td>\n",
       "      <td>3781.098080</td>\n",
       "      <td>20</td>\n",
       "      <td>2021-11-04</td>\n",
       "      <td>11</td>\n",
       "      <td>8</td>\n",
       "      <td>50</td>\n",
       "      <td>0</td>\n",
       "    </tr>\n",
       "    <tr>\n",
       "      <th>18064</th>\n",
       "      <td>1534</td>\n",
       "      <td>Альберт</td>\n",
       "      <td>25</td>\n",
       "      <td>Краснодар</td>\n",
       "      <td>free</td>\n",
       "      <td>2840.423057</td>\n",
       "      <td>22</td>\n",
       "      <td>2021-11-16</td>\n",
       "      <td>11</td>\n",
       "      <td>8</td>\n",
       "      <td>50</td>\n",
       "      <td>0</td>\n",
       "    </tr>\n",
       "    <tr>\n",
       "      <th>18065</th>\n",
       "      <td>1534</td>\n",
       "      <td>Альберт</td>\n",
       "      <td>25</td>\n",
       "      <td>Краснодар</td>\n",
       "      <td>free</td>\n",
       "      <td>3826.185507</td>\n",
       "      <td>19</td>\n",
       "      <td>2021-11-18</td>\n",
       "      <td>11</td>\n",
       "      <td>8</td>\n",
       "      <td>50</td>\n",
       "      <td>0</td>\n",
       "    </tr>\n",
       "    <tr>\n",
       "      <th>18066</th>\n",
       "      <td>1534</td>\n",
       "      <td>Альберт</td>\n",
       "      <td>25</td>\n",
       "      <td>Краснодар</td>\n",
       "      <td>free</td>\n",
       "      <td>2902.308661</td>\n",
       "      <td>17</td>\n",
       "      <td>2021-11-27</td>\n",
       "      <td>11</td>\n",
       "      <td>8</td>\n",
       "      <td>50</td>\n",
       "      <td>0</td>\n",
       "    </tr>\n",
       "    <tr>\n",
       "      <th>18067</th>\n",
       "      <td>1534</td>\n",
       "      <td>Альберт</td>\n",
       "      <td>25</td>\n",
       "      <td>Краснодар</td>\n",
       "      <td>free</td>\n",
       "      <td>2371.711192</td>\n",
       "      <td>16</td>\n",
       "      <td>2021-12-29</td>\n",
       "      <td>12</td>\n",
       "      <td>8</td>\n",
       "      <td>50</td>\n",
       "      <td>0</td>\n",
       "    </tr>\n",
       "  </tbody>\n",
       "</table>\n",
       "<p>11568 rows × 12 columns</p>\n",
       "</div>"
      ],
      "text/plain": [
       "       user_id     name  age       city subscription_type     distance  \\\n",
       "6500       700    Айдар   22       Омск              free  2515.690719   \n",
       "6501       700    Айдар   22       Омск              free   846.932642   \n",
       "6502       700    Айдар   22       Омск              free  4004.434142   \n",
       "6503       700    Айдар   22       Омск              free  1205.911290   \n",
       "6504       700    Айдар   22       Омск              free  3047.379435   \n",
       "...        ...      ...  ...        ...               ...          ...   \n",
       "18063     1534  Альберт   25  Краснодар              free  3781.098080   \n",
       "18064     1534  Альберт   25  Краснодар              free  2840.423057   \n",
       "18065     1534  Альберт   25  Краснодар              free  3826.185507   \n",
       "18066     1534  Альберт   25  Краснодар              free  2902.308661   \n",
       "18067     1534  Альберт   25  Краснодар              free  2371.711192   \n",
       "\n",
       "       duration       date  month  minute_price  start_ride_price  \\\n",
       "6500         15 2021-01-02      1             8                50   \n",
       "6501         17 2021-02-01      2             8                50   \n",
       "6502         21 2021-02-04      2             8                50   \n",
       "6503         10 2021-02-10      2             8                50   \n",
       "6504         18 2021-02-14      2             8                50   \n",
       "...         ...        ...    ...           ...               ...   \n",
       "18063        20 2021-11-04     11             8                50   \n",
       "18064        22 2021-11-16     11             8                50   \n",
       "18065        19 2021-11-18     11             8                50   \n",
       "18066        17 2021-11-27     11             8                50   \n",
       "18067        16 2021-12-29     12             8                50   \n",
       "\n",
       "       subscription_fee  \n",
       "6500                  0  \n",
       "6501                  0  \n",
       "6502                  0  \n",
       "6503                  0  \n",
       "6504                  0  \n",
       "...                 ...  \n",
       "18063                 0  \n",
       "18064                 0  \n",
       "18065                 0  \n",
       "18066                 0  \n",
       "18067                 0  \n",
       "\n",
       "[11568 rows x 12 columns]"
      ]
     },
     "execution_count": 44,
     "metadata": {},
     "output_type": "execute_result"
    }
   ],
   "source": [
    "df_free = final_data.loc[final_data['subscription_type'] != 'ultra']\n",
    "df_free\n"
   ]
  },
  {
   "cell_type": "code",
   "execution_count": 45,
   "id": "57982f07",
   "metadata": {},
   "outputs": [
    {
     "data": {
      "text/html": [
       "<div>\n",
       "<style scoped>\n",
       "    .dataframe tbody tr th:only-of-type {\n",
       "        vertical-align: middle;\n",
       "    }\n",
       "\n",
       "    .dataframe tbody tr th {\n",
       "        vertical-align: top;\n",
       "    }\n",
       "\n",
       "    .dataframe thead th {\n",
       "        text-align: right;\n",
       "    }\n",
       "</style>\n",
       "<table border=\"1\" class=\"dataframe\">\n",
       "  <thead>\n",
       "    <tr style=\"text-align: right;\">\n",
       "      <th></th>\n",
       "      <th>user_id</th>\n",
       "      <th>age</th>\n",
       "      <th>distance</th>\n",
       "      <th>duration</th>\n",
       "      <th>month</th>\n",
       "      <th>minute_price</th>\n",
       "      <th>start_ride_price</th>\n",
       "      <th>subscription_fee</th>\n",
       "    </tr>\n",
       "  </thead>\n",
       "  <tbody>\n",
       "    <tr>\n",
       "      <th>count</th>\n",
       "      <td>11568.000000</td>\n",
       "      <td>11568.000000</td>\n",
       "      <td>11568.000000</td>\n",
       "      <td>11568.000000</td>\n",
       "      <td>11568.000000</td>\n",
       "      <td>11568.0</td>\n",
       "      <td>11568.0</td>\n",
       "      <td>11568.0</td>\n",
       "    </tr>\n",
       "    <tr>\n",
       "      <th>mean</th>\n",
       "      <td>1120.527230</td>\n",
       "      <td>24.893326</td>\n",
       "      <td>3045.495282</td>\n",
       "      <td>17.890992</td>\n",
       "      <td>6.522994</td>\n",
       "      <td>8.0</td>\n",
       "      <td>50.0</td>\n",
       "      <td>0.0</td>\n",
       "    </tr>\n",
       "    <tr>\n",
       "      <th>std</th>\n",
       "      <td>241.165628</td>\n",
       "      <td>4.481100</td>\n",
       "      <td>1246.173806</td>\n",
       "      <td>6.330250</td>\n",
       "      <td>3.449770</td>\n",
       "      <td>0.0</td>\n",
       "      <td>0.0</td>\n",
       "      <td>0.0</td>\n",
       "    </tr>\n",
       "    <tr>\n",
       "      <th>min</th>\n",
       "      <td>700.000000</td>\n",
       "      <td>12.000000</td>\n",
       "      <td>0.855683</td>\n",
       "      <td>1.000000</td>\n",
       "      <td>1.000000</td>\n",
       "      <td>8.0</td>\n",
       "      <td>50.0</td>\n",
       "      <td>0.0</td>\n",
       "    </tr>\n",
       "    <tr>\n",
       "      <th>25%</th>\n",
       "      <td>915.000000</td>\n",
       "      <td>22.000000</td>\n",
       "      <td>2366.562689</td>\n",
       "      <td>13.000000</td>\n",
       "      <td>4.000000</td>\n",
       "      <td>8.0</td>\n",
       "      <td>50.0</td>\n",
       "      <td>0.0</td>\n",
       "    </tr>\n",
       "    <tr>\n",
       "      <th>50%</th>\n",
       "      <td>1123.000000</td>\n",
       "      <td>25.000000</td>\n",
       "      <td>3114.648465</td>\n",
       "      <td>18.000000</td>\n",
       "      <td>7.000000</td>\n",
       "      <td>8.0</td>\n",
       "      <td>50.0</td>\n",
       "      <td>0.0</td>\n",
       "    </tr>\n",
       "    <tr>\n",
       "      <th>75%</th>\n",
       "      <td>1328.000000</td>\n",
       "      <td>28.000000</td>\n",
       "      <td>3905.697894</td>\n",
       "      <td>22.000000</td>\n",
       "      <td>9.000000</td>\n",
       "      <td>8.0</td>\n",
       "      <td>50.0</td>\n",
       "      <td>0.0</td>\n",
       "    </tr>\n",
       "    <tr>\n",
       "      <th>max</th>\n",
       "      <td>1534.000000</td>\n",
       "      <td>43.000000</td>\n",
       "      <td>7211.007745</td>\n",
       "      <td>35.000000</td>\n",
       "      <td>12.000000</td>\n",
       "      <td>8.0</td>\n",
       "      <td>50.0</td>\n",
       "      <td>0.0</td>\n",
       "    </tr>\n",
       "  </tbody>\n",
       "</table>\n",
       "</div>"
      ],
      "text/plain": [
       "            user_id           age      distance      duration         month  \\\n",
       "count  11568.000000  11568.000000  11568.000000  11568.000000  11568.000000   \n",
       "mean    1120.527230     24.893326   3045.495282     17.890992      6.522994   \n",
       "std      241.165628      4.481100   1246.173806      6.330250      3.449770   \n",
       "min      700.000000     12.000000      0.855683      1.000000      1.000000   \n",
       "25%      915.000000     22.000000   2366.562689     13.000000      4.000000   \n",
       "50%     1123.000000     25.000000   3114.648465     18.000000      7.000000   \n",
       "75%     1328.000000     28.000000   3905.697894     22.000000      9.000000   \n",
       "max     1534.000000     43.000000   7211.007745     35.000000     12.000000   \n",
       "\n",
       "       minute_price  start_ride_price  subscription_fee  \n",
       "count       11568.0           11568.0           11568.0  \n",
       "mean            8.0              50.0               0.0  \n",
       "std             0.0               0.0               0.0  \n",
       "min             8.0              50.0               0.0  \n",
       "25%             8.0              50.0               0.0  \n",
       "50%             8.0              50.0               0.0  \n",
       "75%             8.0              50.0               0.0  \n",
       "max             8.0              50.0               0.0  "
      ]
     },
     "execution_count": 45,
     "metadata": {},
     "output_type": "execute_result"
    }
   ],
   "source": [
    "df_free.describe()"
   ]
  },
  {
   "cell_type": "markdown",
   "id": "d3f64d23",
   "metadata": {},
   "source": [
    "<div class=\"alert alert-success\">\n",
    "<b>✔️ Комментарий ревьюера v1:</b>\n",
    "<br>Новые таблицы созданы верно\n",
    "</div>"
   ]
  },
  {
   "cell_type": "code",
   "execution_count": 46,
   "id": "51119481",
   "metadata": {},
   "outputs": [
    {
     "data": {
      "image/png": "[encoded data removed]",
      "text/plain": [
       "<Figure size 432x288 with 1 Axes>"
      ]
     },
     "metadata": {
      "needs_background": "light"
     },
     "output_type": "display_data"
    }
   ],
   "source": [
    "ax = df_ultra.plot(\n",
    "    kind='hist',\n",
    "    y='distance',\n",
    "    histtype='step',\n",
    "    range=(0, 8000),\n",
    "    bins=25,\n",
    "    linewidth=5,\n",
    "    alpha=0.7,\n",
    "    label='ultra',)\n",
    "df_free.plot(\n",
    "    kind='hist',\n",
    "    y='distance',\n",
    "    histtype='step',\n",
    "    range=(0, 8000),\n",
    "    bins=25,\n",
    "    linewidth=5,\n",
    "    alpha=0.7,\n",
    "    label='free',\n",
    "    ax=ax,\n",
    "    grid=True,\n",
    "    legend=True,\n",
    ") \n",
    "\n",
    "plt.xlabel= ('расстояние поездок пользователей')\n",
    "plt.ylabel = ('количество пользователей')\n",
    "plt.show()"
   ]
  },
  {
   "cell_type": "markdown",
   "id": "cec09e52",
   "metadata": {},
   "source": [
    "**По графику можно сказать, что распределение расстояния пользователей с подпиской и без подписки, примерно одинаковое. Но наблдается превышение количества поездок у пользователей с подпиской против пользователей без подписки (1500 против 1300) при значении дистанции в 2800-3100 метров.**"
   ]
  },
  {
   "cell_type": "code",
   "execution_count": 47,
   "id": "3100f997",
   "metadata": {},
   "outputs": [
    {
     "data": {
      "image/png": "[encoded data removed]",
      "text/plain": [
       "<Figure size 432x288 with 1 Axes>"
      ]
     },
     "metadata": {
      "needs_background": "light"
     },
     "output_type": "display_data"
    }
   ],
   "source": [
    "ax = df_ultra.plot(\n",
    "    kind='hist',\n",
    "    y='duration',\n",
    "    histtype='step',\n",
    "    range=(0, 50),\n",
    "    bins=25,\n",
    "    linewidth=5,\n",
    "    alpha=0.7,\n",
    "    label='ultra',\n",
    ")\n",
    "df_free.plot(\n",
    "    kind='hist',\n",
    "    y='duration',\n",
    "    histtype='step',\n",
    "    range=(0, 50),\n",
    "    bins=25,\n",
    "    linewidth=5,\n",
    "    alpha=0.7,\n",
    "    label='free',\n",
    "    ax=ax,\n",
    "    grid=True,\n",
    "    legend=True,\n",
    ") \n",
    "plt.xlabel=('Продолжительность поездки')\n",
    "plt.ylabel=('количество поездок')\n",
    "plt.show()"
   ]
  },
  {
   "cell_type": "markdown",
   "id": "2b89d50d",
   "metadata": {},
   "source": [
    "**А в этом граыике наооборот, количество пользователей без подписки, при продолжительности поездок от 15 до 25 мин, существенно больше количества пользователей с подпиской(1400 против 900)**"
   ]
  },
  {
   "cell_type": "markdown",
   "id": "402d620f",
   "metadata": {},
   "source": [
    "**Шаг 5. Подсчёт выручки**"
   ]
  },
  {
   "cell_type": "code",
   "execution_count": 48,
   "id": "53049e0a",
   "metadata": {},
   "outputs": [
    {
     "data": {
      "text/html": [
       "<div>\n",
       "<style scoped>\n",
       "    .dataframe tbody tr th:only-of-type {\n",
       "        vertical-align: middle;\n",
       "    }\n",
       "\n",
       "    .dataframe tbody tr th {\n",
       "        vertical-align: top;\n",
       "    }\n",
       "\n",
       "    .dataframe thead th {\n",
       "        text-align: right;\n",
       "    }\n",
       "</style>\n",
       "<table border=\"1\" class=\"dataframe\">\n",
       "  <thead>\n",
       "    <tr style=\"text-align: right;\">\n",
       "      <th></th>\n",
       "      <th>user_id</th>\n",
       "      <th>name</th>\n",
       "      <th>age</th>\n",
       "      <th>city</th>\n",
       "      <th>subscription_type</th>\n",
       "      <th>distance</th>\n",
       "      <th>duration</th>\n",
       "      <th>date</th>\n",
       "      <th>month</th>\n",
       "      <th>minute_price</th>\n",
       "      <th>start_ride_price</th>\n",
       "      <th>subscription_fee</th>\n",
       "    </tr>\n",
       "  </thead>\n",
       "  <tbody>\n",
       "    <tr>\n",
       "      <th>0</th>\n",
       "      <td>1</td>\n",
       "      <td>Кира</td>\n",
       "      <td>22</td>\n",
       "      <td>Тюмень</td>\n",
       "      <td>ultra</td>\n",
       "      <td>4409.919140</td>\n",
       "      <td>26</td>\n",
       "      <td>2021-01-01</td>\n",
       "      <td>1</td>\n",
       "      <td>6</td>\n",
       "      <td>0</td>\n",
       "      <td>199</td>\n",
       "    </tr>\n",
       "    <tr>\n",
       "      <th>1</th>\n",
       "      <td>1</td>\n",
       "      <td>Кира</td>\n",
       "      <td>22</td>\n",
       "      <td>Тюмень</td>\n",
       "      <td>ultra</td>\n",
       "      <td>2617.592153</td>\n",
       "      <td>16</td>\n",
       "      <td>2021-01-18</td>\n",
       "      <td>1</td>\n",
       "      <td>6</td>\n",
       "      <td>0</td>\n",
       "      <td>199</td>\n",
       "    </tr>\n",
       "    <tr>\n",
       "      <th>2</th>\n",
       "      <td>1</td>\n",
       "      <td>Кира</td>\n",
       "      <td>22</td>\n",
       "      <td>Тюмень</td>\n",
       "      <td>ultra</td>\n",
       "      <td>754.159807</td>\n",
       "      <td>7</td>\n",
       "      <td>2021-04-20</td>\n",
       "      <td>4</td>\n",
       "      <td>6</td>\n",
       "      <td>0</td>\n",
       "      <td>199</td>\n",
       "    </tr>\n",
       "    <tr>\n",
       "      <th>3</th>\n",
       "      <td>1</td>\n",
       "      <td>Кира</td>\n",
       "      <td>22</td>\n",
       "      <td>Тюмень</td>\n",
       "      <td>ultra</td>\n",
       "      <td>2694.783254</td>\n",
       "      <td>19</td>\n",
       "      <td>2021-08-11</td>\n",
       "      <td>8</td>\n",
       "      <td>6</td>\n",
       "      <td>0</td>\n",
       "      <td>199</td>\n",
       "    </tr>\n",
       "    <tr>\n",
       "      <th>4</th>\n",
       "      <td>1</td>\n",
       "      <td>Кира</td>\n",
       "      <td>22</td>\n",
       "      <td>Тюмень</td>\n",
       "      <td>ultra</td>\n",
       "      <td>4028.687306</td>\n",
       "      <td>27</td>\n",
       "      <td>2021-08-28</td>\n",
       "      <td>8</td>\n",
       "      <td>6</td>\n",
       "      <td>0</td>\n",
       "      <td>199</td>\n",
       "    </tr>\n",
       "    <tr>\n",
       "      <th>5</th>\n",
       "      <td>1</td>\n",
       "      <td>Кира</td>\n",
       "      <td>22</td>\n",
       "      <td>Тюмень</td>\n",
       "      <td>ultra</td>\n",
       "      <td>2770.890808</td>\n",
       "      <td>17</td>\n",
       "      <td>2021-10-09</td>\n",
       "      <td>10</td>\n",
       "      <td>6</td>\n",
       "      <td>0</td>\n",
       "      <td>199</td>\n",
       "    </tr>\n",
       "    <tr>\n",
       "      <th>6</th>\n",
       "      <td>1</td>\n",
       "      <td>Кира</td>\n",
       "      <td>22</td>\n",
       "      <td>Тюмень</td>\n",
       "      <td>ultra</td>\n",
       "      <td>3039.020292</td>\n",
       "      <td>15</td>\n",
       "      <td>2021-10-19</td>\n",
       "      <td>10</td>\n",
       "      <td>6</td>\n",
       "      <td>0</td>\n",
       "      <td>199</td>\n",
       "    </tr>\n",
       "    <tr>\n",
       "      <th>7</th>\n",
       "      <td>1</td>\n",
       "      <td>Кира</td>\n",
       "      <td>22</td>\n",
       "      <td>Тюмень</td>\n",
       "      <td>ultra</td>\n",
       "      <td>2842.118050</td>\n",
       "      <td>24</td>\n",
       "      <td>2021-11-06</td>\n",
       "      <td>11</td>\n",
       "      <td>6</td>\n",
       "      <td>0</td>\n",
       "      <td>199</td>\n",
       "    </tr>\n",
       "    <tr>\n",
       "      <th>8</th>\n",
       "      <td>1</td>\n",
       "      <td>Кира</td>\n",
       "      <td>22</td>\n",
       "      <td>Тюмень</td>\n",
       "      <td>ultra</td>\n",
       "      <td>3412.690668</td>\n",
       "      <td>16</td>\n",
       "      <td>2021-11-14</td>\n",
       "      <td>11</td>\n",
       "      <td>6</td>\n",
       "      <td>0</td>\n",
       "      <td>199</td>\n",
       "    </tr>\n",
       "    <tr>\n",
       "      <th>9</th>\n",
       "      <td>1</td>\n",
       "      <td>Кира</td>\n",
       "      <td>22</td>\n",
       "      <td>Тюмень</td>\n",
       "      <td>ultra</td>\n",
       "      <td>748.690645</td>\n",
       "      <td>16</td>\n",
       "      <td>2021-11-22</td>\n",
       "      <td>11</td>\n",
       "      <td>6</td>\n",
       "      <td>0</td>\n",
       "      <td>199</td>\n",
       "    </tr>\n",
       "    <tr>\n",
       "      <th>10</th>\n",
       "      <td>1</td>\n",
       "      <td>Кира</td>\n",
       "      <td>22</td>\n",
       "      <td>Тюмень</td>\n",
       "      <td>ultra</td>\n",
       "      <td>4031.020195</td>\n",
       "      <td>18</td>\n",
       "      <td>2021-12-14</td>\n",
       "      <td>12</td>\n",
       "      <td>6</td>\n",
       "      <td>0</td>\n",
       "      <td>199</td>\n",
       "    </tr>\n",
       "    <tr>\n",
       "      <th>11</th>\n",
       "      <td>1</td>\n",
       "      <td>Кира</td>\n",
       "      <td>22</td>\n",
       "      <td>Тюмень</td>\n",
       "      <td>ultra</td>\n",
       "      <td>2720.609748</td>\n",
       "      <td>10</td>\n",
       "      <td>2021-12-22</td>\n",
       "      <td>12</td>\n",
       "      <td>6</td>\n",
       "      <td>0</td>\n",
       "      <td>199</td>\n",
       "    </tr>\n",
       "    <tr>\n",
       "      <th>12</th>\n",
       "      <td>2</td>\n",
       "      <td>Станислав</td>\n",
       "      <td>31</td>\n",
       "      <td>Омск</td>\n",
       "      <td>ultra</td>\n",
       "      <td>3105.086678</td>\n",
       "      <td>25</td>\n",
       "      <td>2021-03-15</td>\n",
       "      <td>3</td>\n",
       "      <td>6</td>\n",
       "      <td>0</td>\n",
       "      <td>199</td>\n",
       "    </tr>\n",
       "    <tr>\n",
       "      <th>13</th>\n",
       "      <td>2</td>\n",
       "      <td>Станислав</td>\n",
       "      <td>31</td>\n",
       "      <td>Омск</td>\n",
       "      <td>ultra</td>\n",
       "      <td>3053.519401</td>\n",
       "      <td>12</td>\n",
       "      <td>2021-03-18</td>\n",
       "      <td>3</td>\n",
       "      <td>6</td>\n",
       "      <td>0</td>\n",
       "      <td>199</td>\n",
       "    </tr>\n",
       "    <tr>\n",
       "      <th>14</th>\n",
       "      <td>2</td>\n",
       "      <td>Станислав</td>\n",
       "      <td>31</td>\n",
       "      <td>Омск</td>\n",
       "      <td>ultra</td>\n",
       "      <td>4029.116927</td>\n",
       "      <td>26</td>\n",
       "      <td>2021-03-23</td>\n",
       "      <td>3</td>\n",
       "      <td>6</td>\n",
       "      <td>0</td>\n",
       "      <td>199</td>\n",
       "    </tr>\n",
       "    <tr>\n",
       "      <th>15</th>\n",
       "      <td>2</td>\n",
       "      <td>Станислав</td>\n",
       "      <td>31</td>\n",
       "      <td>Омск</td>\n",
       "      <td>ultra</td>\n",
       "      <td>2805.786329</td>\n",
       "      <td>21</td>\n",
       "      <td>2021-04-08</td>\n",
       "      <td>4</td>\n",
       "      <td>6</td>\n",
       "      <td>0</td>\n",
       "      <td>199</td>\n",
       "    </tr>\n",
       "    <tr>\n",
       "      <th>16</th>\n",
       "      <td>2</td>\n",
       "      <td>Станислав</td>\n",
       "      <td>31</td>\n",
       "      <td>Омск</td>\n",
       "      <td>ultra</td>\n",
       "      <td>3358.595495</td>\n",
       "      <td>19</td>\n",
       "      <td>2021-04-13</td>\n",
       "      <td>4</td>\n",
       "      <td>6</td>\n",
       "      <td>0</td>\n",
       "      <td>199</td>\n",
       "    </tr>\n",
       "    <tr>\n",
       "      <th>17</th>\n",
       "      <td>2</td>\n",
       "      <td>Станислав</td>\n",
       "      <td>31</td>\n",
       "      <td>Омск</td>\n",
       "      <td>ultra</td>\n",
       "      <td>3255.338202</td>\n",
       "      <td>14</td>\n",
       "      <td>2021-06-20</td>\n",
       "      <td>6</td>\n",
       "      <td>6</td>\n",
       "      <td>0</td>\n",
       "      <td>199</td>\n",
       "    </tr>\n",
       "    <tr>\n",
       "      <th>18</th>\n",
       "      <td>2</td>\n",
       "      <td>Станислав</td>\n",
       "      <td>31</td>\n",
       "      <td>Омск</td>\n",
       "      <td>ultra</td>\n",
       "      <td>3942.817648</td>\n",
       "      <td>21</td>\n",
       "      <td>2021-07-02</td>\n",
       "      <td>7</td>\n",
       "      <td>6</td>\n",
       "      <td>0</td>\n",
       "      <td>199</td>\n",
       "    </tr>\n",
       "    <tr>\n",
       "      <th>19</th>\n",
       "      <td>2</td>\n",
       "      <td>Станислав</td>\n",
       "      <td>31</td>\n",
       "      <td>Омск</td>\n",
       "      <td>ultra</td>\n",
       "      <td>2837.905316</td>\n",
       "      <td>27</td>\n",
       "      <td>2021-07-18</td>\n",
       "      <td>7</td>\n",
       "      <td>6</td>\n",
       "      <td>0</td>\n",
       "      <td>199</td>\n",
       "    </tr>\n",
       "  </tbody>\n",
       "</table>\n",
       "</div>"
      ],
      "text/plain": [
       "    user_id       name  age    city subscription_type     distance  duration  \\\n",
       "0         1       Кира   22  Тюмень             ultra  4409.919140        26   \n",
       "1         1       Кира   22  Тюмень             ultra  2617.592153        16   \n",
       "2         1       Кира   22  Тюмень             ultra   754.159807         7   \n",
       "3         1       Кира   22  Тюмень             ultra  2694.783254        19   \n",
       "4         1       Кира   22  Тюмень             ultra  4028.687306        27   \n",
       "5         1       Кира   22  Тюмень             ultra  2770.890808        17   \n",
       "6         1       Кира   22  Тюмень             ultra  3039.020292        15   \n",
       "7         1       Кира   22  Тюмень             ultra  2842.118050        24   \n",
       "8         1       Кира   22  Тюмень             ultra  3412.690668        16   \n",
       "9         1       Кира   22  Тюмень             ultra   748.690645        16   \n",
       "10        1       Кира   22  Тюмень             ultra  4031.020195        18   \n",
       "11        1       Кира   22  Тюмень             ultra  2720.609748        10   \n",
       "12        2  Станислав   31    Омск             ultra  3105.086678        25   \n",
       "13        2  Станислав   31    Омск             ultra  3053.519401        12   \n",
       "14        2  Станислав   31    Омск             ultra  4029.116927        26   \n",
       "15        2  Станислав   31    Омск             ultra  2805.786329        21   \n",
       "16        2  Станислав   31    Омск             ultra  3358.595495        19   \n",
       "17        2  Станислав   31    Омск             ultra  3255.338202        14   \n",
       "18        2  Станислав   31    Омск             ultra  3942.817648        21   \n",
       "19        2  Станислав   31    Омск             ultra  2837.905316        27   \n",
       "\n",
       "         date  month  minute_price  start_ride_price  subscription_fee  \n",
       "0  2021-01-01      1             6                 0               199  \n",
       "1  2021-01-18      1             6                 0               199  \n",
       "2  2021-04-20      4             6                 0               199  \n",
       "3  2021-08-11      8             6                 0               199  \n",
       "4  2021-08-28      8             6                 0               199  \n",
       "5  2021-10-09     10             6                 0               199  \n",
       "6  2021-10-19     10             6                 0               199  \n",
       "7  2021-11-06     11             6                 0               199  \n",
       "8  2021-11-14     11             6                 0               199  \n",
       "9  2021-11-22     11             6                 0               199  \n",
       "10 2021-12-14     12             6                 0               199  \n",
       "11 2021-12-22     12             6                 0               199  \n",
       "12 2021-03-15      3             6                 0               199  \n",
       "13 2021-03-18      3             6                 0               199  \n",
       "14 2021-03-23      3             6                 0               199  \n",
       "15 2021-04-08      4             6                 0               199  \n",
       "16 2021-04-13      4             6                 0               199  \n",
       "17 2021-06-20      6             6                 0               199  \n",
       "18 2021-07-02      7             6                 0               199  \n",
       "19 2021-07-18      7             6                 0               199  "
      ]
     },
     "execution_count": 48,
     "metadata": {},
     "output_type": "execute_result"
    }
   ],
   "source": [
    "final_data.head(20)\n"
   ]
  },
  {
   "cell_type": "code",
   "execution_count": 49,
   "id": "68b7a4f0",
   "metadata": {},
   "outputs": [
    {
     "data": {
      "text/html": [
       "<div>\n",
       "<style scoped>\n",
       "    .dataframe tbody tr th:only-of-type {\n",
       "        vertical-align: middle;\n",
       "    }\n",
       "\n",
       "    .dataframe tbody tr th {\n",
       "        vertical-align: top;\n",
       "    }\n",
       "\n",
       "    .dataframe thead th {\n",
       "        text-align: right;\n",
       "    }\n",
       "</style>\n",
       "<table border=\"1\" class=\"dataframe\">\n",
       "  <thead>\n",
       "    <tr style=\"text-align: right;\">\n",
       "      <th></th>\n",
       "      <th>user_id</th>\n",
       "      <th>age</th>\n",
       "      <th>distance</th>\n",
       "      <th>duration</th>\n",
       "      <th>month</th>\n",
       "      <th>minute_price</th>\n",
       "      <th>start_ride_price</th>\n",
       "      <th>subscription_fee</th>\n",
       "    </tr>\n",
       "  </thead>\n",
       "  <tbody>\n",
       "    <tr>\n",
       "      <th>count</th>\n",
       "      <td>18068.000000</td>\n",
       "      <td>18068.000000</td>\n",
       "      <td>18068.000000</td>\n",
       "      <td>18068.000000</td>\n",
       "      <td>18068.000000</td>\n",
       "      <td>18068.000000</td>\n",
       "      <td>18068.000000</td>\n",
       "      <td>18068.000000</td>\n",
       "    </tr>\n",
       "    <tr>\n",
       "      <th>mean</th>\n",
       "      <td>842.869936</td>\n",
       "      <td>24.893071</td>\n",
       "      <td>3070.659976</td>\n",
       "      <td>18.303520</td>\n",
       "      <td>6.486772</td>\n",
       "      <td>7.280496</td>\n",
       "      <td>32.012398</td>\n",
       "      <td>71.590658</td>\n",
       "    </tr>\n",
       "    <tr>\n",
       "      <th>std</th>\n",
       "      <td>434.734317</td>\n",
       "      <td>4.582216</td>\n",
       "      <td>1116.831209</td>\n",
       "      <td>6.094928</td>\n",
       "      <td>3.437410</td>\n",
       "      <td>0.959882</td>\n",
       "      <td>23.997045</td>\n",
       "      <td>95.508238</td>\n",
       "    </tr>\n",
       "    <tr>\n",
       "      <th>min</th>\n",
       "      <td>1.000000</td>\n",
       "      <td>12.000000</td>\n",
       "      <td>0.855683</td>\n",
       "      <td>1.000000</td>\n",
       "      <td>1.000000</td>\n",
       "      <td>6.000000</td>\n",
       "      <td>0.000000</td>\n",
       "      <td>0.000000</td>\n",
       "    </tr>\n",
       "    <tr>\n",
       "      <th>25%</th>\n",
       "      <td>487.000000</td>\n",
       "      <td>22.000000</td>\n",
       "      <td>2543.226360</td>\n",
       "      <td>14.000000</td>\n",
       "      <td>4.000000</td>\n",
       "      <td>6.000000</td>\n",
       "      <td>0.000000</td>\n",
       "      <td>0.000000</td>\n",
       "    </tr>\n",
       "    <tr>\n",
       "      <th>50%</th>\n",
       "      <td>889.000000</td>\n",
       "      <td>25.000000</td>\n",
       "      <td>3133.609994</td>\n",
       "      <td>18.000000</td>\n",
       "      <td>6.000000</td>\n",
       "      <td>8.000000</td>\n",
       "      <td>50.000000</td>\n",
       "      <td>0.000000</td>\n",
       "    </tr>\n",
       "    <tr>\n",
       "      <th>75%</th>\n",
       "      <td>1213.250000</td>\n",
       "      <td>28.000000</td>\n",
       "      <td>3776.222735</td>\n",
       "      <td>22.000000</td>\n",
       "      <td>9.000000</td>\n",
       "      <td>8.000000</td>\n",
       "      <td>50.000000</td>\n",
       "      <td>199.000000</td>\n",
       "    </tr>\n",
       "    <tr>\n",
       "      <th>max</th>\n",
       "      <td>1534.000000</td>\n",
       "      <td>43.000000</td>\n",
       "      <td>7211.007745</td>\n",
       "      <td>41.000000</td>\n",
       "      <td>12.000000</td>\n",
       "      <td>8.000000</td>\n",
       "      <td>50.000000</td>\n",
       "      <td>199.000000</td>\n",
       "    </tr>\n",
       "  </tbody>\n",
       "</table>\n",
       "</div>"
      ],
      "text/plain": [
       "            user_id           age      distance      duration         month  \\\n",
       "count  18068.000000  18068.000000  18068.000000  18068.000000  18068.000000   \n",
       "mean     842.869936     24.893071   3070.659976     18.303520      6.486772   \n",
       "std      434.734317      4.582216   1116.831209      6.094928      3.437410   \n",
       "min        1.000000     12.000000      0.855683      1.000000      1.000000   \n",
       "25%      487.000000     22.000000   2543.226360     14.000000      4.000000   \n",
       "50%      889.000000     25.000000   3133.609994     18.000000      6.000000   \n",
       "75%     1213.250000     28.000000   3776.222735     22.000000      9.000000   \n",
       "max     1534.000000     43.000000   7211.007745     41.000000     12.000000   \n",
       "\n",
       "       minute_price  start_ride_price  subscription_fee  \n",
       "count  18068.000000      18068.000000      18068.000000  \n",
       "mean       7.280496         32.012398         71.590658  \n",
       "std        0.959882         23.997045         95.508238  \n",
       "min        6.000000          0.000000          0.000000  \n",
       "25%        6.000000          0.000000          0.000000  \n",
       "50%        8.000000         50.000000          0.000000  \n",
       "75%        8.000000         50.000000        199.000000  \n",
       "max        8.000000         50.000000        199.000000  "
      ]
     },
     "execution_count": 49,
     "metadata": {},
     "output_type": "execute_result"
    }
   ],
   "source": [
    "final_data.describe()\n"
   ]
  },
  {
   "cell_type": "markdown",
   "id": "2214a046",
   "metadata": {},
   "source": [
    "**Округлим стобец duration вниз до ближайшего целого числа с помощью метода np.ceil**"
   ]
  },
  {
   "cell_type": "code",
   "execution_count": 50,
   "id": "69642127",
   "metadata": {},
   "outputs": [],
   "source": [
    "final_data['duration'] = np.ceil(final_data['duration'])"
   ]
  },
  {
   "cell_type": "code",
   "execution_count": 51,
   "id": "3043c917",
   "metadata": {},
   "outputs": [
    {
     "data": {
      "text/html": [
       "<div>\n",
       "<style scoped>\n",
       "    .dataframe tbody tr th:only-of-type {\n",
       "        vertical-align: middle;\n",
       "    }\n",
       "\n",
       "    .dataframe tbody tr th {\n",
       "        vertical-align: top;\n",
       "    }\n",
       "\n",
       "    .dataframe thead th {\n",
       "        text-align: right;\n",
       "    }\n",
       "</style>\n",
       "<table border=\"1\" class=\"dataframe\">\n",
       "  <thead>\n",
       "    <tr style=\"text-align: right;\">\n",
       "      <th></th>\n",
       "      <th>user_id</th>\n",
       "      <th>month</th>\n",
       "      <th>distance_count</th>\n",
       "      <th>distance_sum</th>\n",
       "      <th>duration_sum</th>\n",
       "    </tr>\n",
       "  </thead>\n",
       "  <tbody>\n",
       "    <tr>\n",
       "      <th>0</th>\n",
       "      <td>1</td>\n",
       "      <td>1</td>\n",
       "      <td>2</td>\n",
       "      <td>7027.511294</td>\n",
       "      <td>42.0</td>\n",
       "    </tr>\n",
       "    <tr>\n",
       "      <th>1</th>\n",
       "      <td>1</td>\n",
       "      <td>4</td>\n",
       "      <td>1</td>\n",
       "      <td>754.159807</td>\n",
       "      <td>7.0</td>\n",
       "    </tr>\n",
       "    <tr>\n",
       "      <th>2</th>\n",
       "      <td>1</td>\n",
       "      <td>8</td>\n",
       "      <td>2</td>\n",
       "      <td>6723.470560</td>\n",
       "      <td>46.0</td>\n",
       "    </tr>\n",
       "    <tr>\n",
       "      <th>3</th>\n",
       "      <td>1</td>\n",
       "      <td>10</td>\n",
       "      <td>2</td>\n",
       "      <td>5809.911100</td>\n",
       "      <td>32.0</td>\n",
       "    </tr>\n",
       "    <tr>\n",
       "      <th>4</th>\n",
       "      <td>1</td>\n",
       "      <td>11</td>\n",
       "      <td>3</td>\n",
       "      <td>7003.499363</td>\n",
       "      <td>56.0</td>\n",
       "    </tr>\n",
       "    <tr>\n",
       "      <th>...</th>\n",
       "      <td>...</td>\n",
       "      <td>...</td>\n",
       "      <td>...</td>\n",
       "      <td>...</td>\n",
       "      <td>...</td>\n",
       "    </tr>\n",
       "    <tr>\n",
       "      <th>11326</th>\n",
       "      <td>1534</td>\n",
       "      <td>6</td>\n",
       "      <td>2</td>\n",
       "      <td>3409.468534</td>\n",
       "      <td>26.0</td>\n",
       "    </tr>\n",
       "    <tr>\n",
       "      <th>11327</th>\n",
       "      <td>1534</td>\n",
       "      <td>8</td>\n",
       "      <td>2</td>\n",
       "      <td>7622.453034</td>\n",
       "      <td>48.0</td>\n",
       "    </tr>\n",
       "    <tr>\n",
       "      <th>11328</th>\n",
       "      <td>1534</td>\n",
       "      <td>9</td>\n",
       "      <td>1</td>\n",
       "      <td>4928.173852</td>\n",
       "      <td>23.0</td>\n",
       "    </tr>\n",
       "    <tr>\n",
       "      <th>11329</th>\n",
       "      <td>1534</td>\n",
       "      <td>11</td>\n",
       "      <td>4</td>\n",
       "      <td>13350.015305</td>\n",
       "      <td>78.0</td>\n",
       "    </tr>\n",
       "    <tr>\n",
       "      <th>11330</th>\n",
       "      <td>1534</td>\n",
       "      <td>12</td>\n",
       "      <td>1</td>\n",
       "      <td>2371.711192</td>\n",
       "      <td>16.0</td>\n",
       "    </tr>\n",
       "  </tbody>\n",
       "</table>\n",
       "<p>11331 rows × 5 columns</p>\n",
       "</div>"
      ],
      "text/plain": [
       "       user_id  month  distance_count  distance_sum  duration_sum\n",
       "0            1      1               2   7027.511294          42.0\n",
       "1            1      4               1    754.159807           7.0\n",
       "2            1      8               2   6723.470560          46.0\n",
       "3            1     10               2   5809.911100          32.0\n",
       "4            1     11               3   7003.499363          56.0\n",
       "...        ...    ...             ...           ...           ...\n",
       "11326     1534      6               2   3409.468534          26.0\n",
       "11327     1534      8               2   7622.453034          48.0\n",
       "11328     1534      9               1   4928.173852          23.0\n",
       "11329     1534     11               4  13350.015305          78.0\n",
       "11330     1534     12               1   2371.711192          16.0\n",
       "\n",
       "[11331 rows x 5 columns]"
      ]
     },
     "execution_count": 51,
     "metadata": {},
     "output_type": "execute_result"
    }
   ],
   "source": [
    "final_data_group = final_data.groupby(['user_id', 'month']).agg({'distance': ['count', 'sum'],\n",
    "                                                   'duration': 'sum'}).reset_index()\n",
    "\n",
    "final_data_group.columns = final_data_group.columns.droplevel(0)\n",
    "final_data_group.columns = ['user_id', 'month', 'distance_count', 'distance_sum', 'duration_sum']\n",
    "final_data_group\n",
    "\n",
    "                 \n",
    "\n",
    "\n"
   ]
  },
  {
   "cell_type": "code",
   "execution_count": 52,
   "id": "0f8724c0",
   "metadata": {},
   "outputs": [
    {
     "data": {
      "text/html": [
       "<div>\n",
       "<style scoped>\n",
       "    .dataframe tbody tr th:only-of-type {\n",
       "        vertical-align: middle;\n",
       "    }\n",
       "\n",
       "    .dataframe tbody tr th {\n",
       "        vertical-align: top;\n",
       "    }\n",
       "\n",
       "    .dataframe thead th {\n",
       "        text-align: right;\n",
       "    }\n",
       "</style>\n",
       "<table border=\"1\" class=\"dataframe\">\n",
       "  <thead>\n",
       "    <tr style=\"text-align: right;\">\n",
       "      <th></th>\n",
       "      <th>user_id</th>\n",
       "      <th>name</th>\n",
       "      <th>age</th>\n",
       "      <th>city</th>\n",
       "      <th>subscription_type</th>\n",
       "      <th>distance</th>\n",
       "      <th>duration</th>\n",
       "      <th>date</th>\n",
       "      <th>month</th>\n",
       "      <th>minute_price</th>\n",
       "      <th>start_ride_price</th>\n",
       "      <th>subscription_fee</th>\n",
       "    </tr>\n",
       "  </thead>\n",
       "  <tbody>\n",
       "    <tr>\n",
       "      <th>0</th>\n",
       "      <td>1</td>\n",
       "      <td>Кира</td>\n",
       "      <td>22</td>\n",
       "      <td>Тюмень</td>\n",
       "      <td>ultra</td>\n",
       "      <td>4409.919140</td>\n",
       "      <td>26.0</td>\n",
       "      <td>2021-01-01</td>\n",
       "      <td>1</td>\n",
       "      <td>6</td>\n",
       "      <td>0</td>\n",
       "      <td>199</td>\n",
       "    </tr>\n",
       "    <tr>\n",
       "      <th>1</th>\n",
       "      <td>1</td>\n",
       "      <td>Кира</td>\n",
       "      <td>22</td>\n",
       "      <td>Тюмень</td>\n",
       "      <td>ultra</td>\n",
       "      <td>2617.592153</td>\n",
       "      <td>16.0</td>\n",
       "      <td>2021-01-18</td>\n",
       "      <td>1</td>\n",
       "      <td>6</td>\n",
       "      <td>0</td>\n",
       "      <td>199</td>\n",
       "    </tr>\n",
       "    <tr>\n",
       "      <th>2</th>\n",
       "      <td>1</td>\n",
       "      <td>Кира</td>\n",
       "      <td>22</td>\n",
       "      <td>Тюмень</td>\n",
       "      <td>ultra</td>\n",
       "      <td>754.159807</td>\n",
       "      <td>7.0</td>\n",
       "      <td>2021-04-20</td>\n",
       "      <td>4</td>\n",
       "      <td>6</td>\n",
       "      <td>0</td>\n",
       "      <td>199</td>\n",
       "    </tr>\n",
       "    <tr>\n",
       "      <th>3</th>\n",
       "      <td>1</td>\n",
       "      <td>Кира</td>\n",
       "      <td>22</td>\n",
       "      <td>Тюмень</td>\n",
       "      <td>ultra</td>\n",
       "      <td>2694.783254</td>\n",
       "      <td>19.0</td>\n",
       "      <td>2021-08-11</td>\n",
       "      <td>8</td>\n",
       "      <td>6</td>\n",
       "      <td>0</td>\n",
       "      <td>199</td>\n",
       "    </tr>\n",
       "    <tr>\n",
       "      <th>4</th>\n",
       "      <td>1</td>\n",
       "      <td>Кира</td>\n",
       "      <td>22</td>\n",
       "      <td>Тюмень</td>\n",
       "      <td>ultra</td>\n",
       "      <td>4028.687306</td>\n",
       "      <td>27.0</td>\n",
       "      <td>2021-08-28</td>\n",
       "      <td>8</td>\n",
       "      <td>6</td>\n",
       "      <td>0</td>\n",
       "      <td>199</td>\n",
       "    </tr>\n",
       "  </tbody>\n",
       "</table>\n",
       "</div>"
      ],
      "text/plain": [
       "   user_id  name  age    city subscription_type     distance  duration  \\\n",
       "0        1  Кира   22  Тюмень             ultra  4409.919140      26.0   \n",
       "1        1  Кира   22  Тюмень             ultra  2617.592153      16.0   \n",
       "2        1  Кира   22  Тюмень             ultra   754.159807       7.0   \n",
       "3        1  Кира   22  Тюмень             ultra  2694.783254      19.0   \n",
       "4        1  Кира   22  Тюмень             ultra  4028.687306      27.0   \n",
       "\n",
       "        date  month  minute_price  start_ride_price  subscription_fee  \n",
       "0 2021-01-01      1             6                 0               199  \n",
       "1 2021-01-18      1             6                 0               199  \n",
       "2 2021-04-20      4             6                 0               199  \n",
       "3 2021-08-11      8             6                 0               199  \n",
       "4 2021-08-28      8             6                 0               199  "
      ]
     },
     "execution_count": 52,
     "metadata": {},
     "output_type": "execute_result"
    }
   ],
   "source": [
    "final_data.head()\n",
    "\n"
   ]
  },
  {
   "cell_type": "code",
   "execution_count": 53,
   "id": "0f0afb19",
   "metadata": {},
   "outputs": [
    {
     "data": {
      "text/html": [
       "<div>\n",
       "<style scoped>\n",
       "    .dataframe tbody tr th:only-of-type {\n",
       "        vertical-align: middle;\n",
       "    }\n",
       "\n",
       "    .dataframe tbody tr th {\n",
       "        vertical-align: top;\n",
       "    }\n",
       "\n",
       "    .dataframe thead th {\n",
       "        text-align: right;\n",
       "    }\n",
       "</style>\n",
       "<table border=\"1\" class=\"dataframe\">\n",
       "  <thead>\n",
       "    <tr style=\"text-align: right;\">\n",
       "      <th></th>\n",
       "      <th>user_id</th>\n",
       "      <th>name</th>\n",
       "      <th>minute_price</th>\n",
       "      <th>subscription_type</th>\n",
       "      <th>start_ride_price</th>\n",
       "      <th>subscription_fee</th>\n",
       "      <th>month</th>\n",
       "      <th>distance_count</th>\n",
       "      <th>distance_sum</th>\n",
       "      <th>duration_sum</th>\n",
       "    </tr>\n",
       "  </thead>\n",
       "  <tbody>\n",
       "    <tr>\n",
       "      <th>0</th>\n",
       "      <td>1</td>\n",
       "      <td>Кира</td>\n",
       "      <td>6</td>\n",
       "      <td>ultra</td>\n",
       "      <td>0</td>\n",
       "      <td>199</td>\n",
       "      <td>1</td>\n",
       "      <td>2</td>\n",
       "      <td>7027.511294</td>\n",
       "      <td>42.0</td>\n",
       "    </tr>\n",
       "    <tr>\n",
       "      <th>1</th>\n",
       "      <td>1</td>\n",
       "      <td>Кира</td>\n",
       "      <td>6</td>\n",
       "      <td>ultra</td>\n",
       "      <td>0</td>\n",
       "      <td>199</td>\n",
       "      <td>4</td>\n",
       "      <td>1</td>\n",
       "      <td>754.159807</td>\n",
       "      <td>7.0</td>\n",
       "    </tr>\n",
       "    <tr>\n",
       "      <th>2</th>\n",
       "      <td>1</td>\n",
       "      <td>Кира</td>\n",
       "      <td>6</td>\n",
       "      <td>ultra</td>\n",
       "      <td>0</td>\n",
       "      <td>199</td>\n",
       "      <td>8</td>\n",
       "      <td>2</td>\n",
       "      <td>6723.470560</td>\n",
       "      <td>46.0</td>\n",
       "    </tr>\n",
       "    <tr>\n",
       "      <th>3</th>\n",
       "      <td>1</td>\n",
       "      <td>Кира</td>\n",
       "      <td>6</td>\n",
       "      <td>ultra</td>\n",
       "      <td>0</td>\n",
       "      <td>199</td>\n",
       "      <td>10</td>\n",
       "      <td>2</td>\n",
       "      <td>5809.911100</td>\n",
       "      <td>32.0</td>\n",
       "    </tr>\n",
       "    <tr>\n",
       "      <th>4</th>\n",
       "      <td>1</td>\n",
       "      <td>Кира</td>\n",
       "      <td>6</td>\n",
       "      <td>ultra</td>\n",
       "      <td>0</td>\n",
       "      <td>199</td>\n",
       "      <td>11</td>\n",
       "      <td>3</td>\n",
       "      <td>7003.499363</td>\n",
       "      <td>56.0</td>\n",
       "    </tr>\n",
       "    <tr>\n",
       "      <th>...</th>\n",
       "      <td>...</td>\n",
       "      <td>...</td>\n",
       "      <td>...</td>\n",
       "      <td>...</td>\n",
       "      <td>...</td>\n",
       "      <td>...</td>\n",
       "      <td>...</td>\n",
       "      <td>...</td>\n",
       "      <td>...</td>\n",
       "      <td>...</td>\n",
       "    </tr>\n",
       "    <tr>\n",
       "      <th>11326</th>\n",
       "      <td>1534</td>\n",
       "      <td>Альберт</td>\n",
       "      <td>8</td>\n",
       "      <td>free</td>\n",
       "      <td>50</td>\n",
       "      <td>0</td>\n",
       "      <td>6</td>\n",
       "      <td>2</td>\n",
       "      <td>3409.468534</td>\n",
       "      <td>26.0</td>\n",
       "    </tr>\n",
       "    <tr>\n",
       "      <th>11327</th>\n",
       "      <td>1534</td>\n",
       "      <td>Альберт</td>\n",
       "      <td>8</td>\n",
       "      <td>free</td>\n",
       "      <td>50</td>\n",
       "      <td>0</td>\n",
       "      <td>8</td>\n",
       "      <td>2</td>\n",
       "      <td>7622.453034</td>\n",
       "      <td>48.0</td>\n",
       "    </tr>\n",
       "    <tr>\n",
       "      <th>11328</th>\n",
       "      <td>1534</td>\n",
       "      <td>Альберт</td>\n",
       "      <td>8</td>\n",
       "      <td>free</td>\n",
       "      <td>50</td>\n",
       "      <td>0</td>\n",
       "      <td>9</td>\n",
       "      <td>1</td>\n",
       "      <td>4928.173852</td>\n",
       "      <td>23.0</td>\n",
       "    </tr>\n",
       "    <tr>\n",
       "      <th>11329</th>\n",
       "      <td>1534</td>\n",
       "      <td>Альберт</td>\n",
       "      <td>8</td>\n",
       "      <td>free</td>\n",
       "      <td>50</td>\n",
       "      <td>0</td>\n",
       "      <td>11</td>\n",
       "      <td>4</td>\n",
       "      <td>13350.015305</td>\n",
       "      <td>78.0</td>\n",
       "    </tr>\n",
       "    <tr>\n",
       "      <th>11330</th>\n",
       "      <td>1534</td>\n",
       "      <td>Альберт</td>\n",
       "      <td>8</td>\n",
       "      <td>free</td>\n",
       "      <td>50</td>\n",
       "      <td>0</td>\n",
       "      <td>12</td>\n",
       "      <td>1</td>\n",
       "      <td>2371.711192</td>\n",
       "      <td>16.0</td>\n",
       "    </tr>\n",
       "  </tbody>\n",
       "</table>\n",
       "<p>11331 rows × 10 columns</p>\n",
       "</div>"
      ],
      "text/plain": [
       "       user_id     name  minute_price subscription_type  start_ride_price  \\\n",
       "0            1     Кира             6             ultra                 0   \n",
       "1            1     Кира             6             ultra                 0   \n",
       "2            1     Кира             6             ultra                 0   \n",
       "3            1     Кира             6             ultra                 0   \n",
       "4            1     Кира             6             ultra                 0   \n",
       "...        ...      ...           ...               ...               ...   \n",
       "11326     1534  Альберт             8              free                50   \n",
       "11327     1534  Альберт             8              free                50   \n",
       "11328     1534  Альберт             8              free                50   \n",
       "11329     1534  Альберт             8              free                50   \n",
       "11330     1534  Альберт             8              free                50   \n",
       "\n",
       "       subscription_fee  month  distance_count  distance_sum  duration_sum  \n",
       "0                   199      1               2   7027.511294          42.0  \n",
       "1                   199      4               1    754.159807           7.0  \n",
       "2                   199      8               2   6723.470560          46.0  \n",
       "3                   199     10               2   5809.911100          32.0  \n",
       "4                   199     11               3   7003.499363          56.0  \n",
       "...                 ...    ...             ...           ...           ...  \n",
       "11326                 0      6               2   3409.468534          26.0  \n",
       "11327                 0      8               2   7622.453034          48.0  \n",
       "11328                 0      9               1   4928.173852          23.0  \n",
       "11329                 0     11               4  13350.015305          78.0  \n",
       "11330                 0     12               1   2371.711192          16.0  \n",
       "\n",
       "[11331 rows x 10 columns]"
      ]
     },
     "execution_count": 53,
     "metadata": {},
     "output_type": "execute_result"
    }
   ],
   "source": [
    "final_data_group = final_data.groupby(['user_id', 'name', 'minute_price', 'subscription_type','start_ride_price', 'subscription_fee', 'month']).agg({'distance': ['count', 'sum'], 'duration': 'sum'}).reset_index()\n",
    "\n",
    "final_data_group.columns = final_data_group.columns.droplevel(0)\n",
    "final_data_group.columns = ['user_id', 'name', 'minute_price', 'subscription_type','start_ride_price', 'subscription_fee', 'month', 'distance_count', 'distance_sum', 'duration_sum']\n",
    "final_data_group"
   ]
  },
  {
   "cell_type": "code",
   "execution_count": 54,
   "id": "3f206da8",
   "metadata": {},
   "outputs": [
    {
     "data": {
      "text/html": [
       "<div>\n",
       "<style scoped>\n",
       "    .dataframe tbody tr th:only-of-type {\n",
       "        vertical-align: middle;\n",
       "    }\n",
       "\n",
       "    .dataframe tbody tr th {\n",
       "        vertical-align: top;\n",
       "    }\n",
       "\n",
       "    .dataframe thead th {\n",
       "        text-align: right;\n",
       "    }\n",
       "</style>\n",
       "<table border=\"1\" class=\"dataframe\">\n",
       "  <thead>\n",
       "    <tr style=\"text-align: right;\">\n",
       "      <th></th>\n",
       "      <th>user_id</th>\n",
       "      <th>name</th>\n",
       "      <th>minute_price</th>\n",
       "      <th>subscription_type</th>\n",
       "      <th>start_ride_price</th>\n",
       "      <th>subscription_fee</th>\n",
       "      <th>month</th>\n",
       "      <th>distance_count</th>\n",
       "      <th>distance_sum</th>\n",
       "      <th>duration_sum</th>\n",
       "      <th>revenue</th>\n",
       "    </tr>\n",
       "  </thead>\n",
       "  <tbody>\n",
       "    <tr>\n",
       "      <th>0</th>\n",
       "      <td>1</td>\n",
       "      <td>Кира</td>\n",
       "      <td>6</td>\n",
       "      <td>ultra</td>\n",
       "      <td>0</td>\n",
       "      <td>199</td>\n",
       "      <td>1</td>\n",
       "      <td>2</td>\n",
       "      <td>7027.511294</td>\n",
       "      <td>42.0</td>\n",
       "      <td>451.0</td>\n",
       "    </tr>\n",
       "    <tr>\n",
       "      <th>1</th>\n",
       "      <td>1</td>\n",
       "      <td>Кира</td>\n",
       "      <td>6</td>\n",
       "      <td>ultra</td>\n",
       "      <td>0</td>\n",
       "      <td>199</td>\n",
       "      <td>4</td>\n",
       "      <td>1</td>\n",
       "      <td>754.159807</td>\n",
       "      <td>7.0</td>\n",
       "      <td>241.0</td>\n",
       "    </tr>\n",
       "    <tr>\n",
       "      <th>2</th>\n",
       "      <td>1</td>\n",
       "      <td>Кира</td>\n",
       "      <td>6</td>\n",
       "      <td>ultra</td>\n",
       "      <td>0</td>\n",
       "      <td>199</td>\n",
       "      <td>8</td>\n",
       "      <td>2</td>\n",
       "      <td>6723.470560</td>\n",
       "      <td>46.0</td>\n",
       "      <td>475.0</td>\n",
       "    </tr>\n",
       "    <tr>\n",
       "      <th>3</th>\n",
       "      <td>1</td>\n",
       "      <td>Кира</td>\n",
       "      <td>6</td>\n",
       "      <td>ultra</td>\n",
       "      <td>0</td>\n",
       "      <td>199</td>\n",
       "      <td>10</td>\n",
       "      <td>2</td>\n",
       "      <td>5809.911100</td>\n",
       "      <td>32.0</td>\n",
       "      <td>391.0</td>\n",
       "    </tr>\n",
       "    <tr>\n",
       "      <th>4</th>\n",
       "      <td>1</td>\n",
       "      <td>Кира</td>\n",
       "      <td>6</td>\n",
       "      <td>ultra</td>\n",
       "      <td>0</td>\n",
       "      <td>199</td>\n",
       "      <td>11</td>\n",
       "      <td>3</td>\n",
       "      <td>7003.499363</td>\n",
       "      <td>56.0</td>\n",
       "      <td>535.0</td>\n",
       "    </tr>\n",
       "  </tbody>\n",
       "</table>\n",
       "</div>"
      ],
      "text/plain": [
       "   user_id  name  minute_price subscription_type  start_ride_price  \\\n",
       "0        1  Кира             6             ultra                 0   \n",
       "1        1  Кира             6             ultra                 0   \n",
       "2        1  Кира             6             ultra                 0   \n",
       "3        1  Кира             6             ultra                 0   \n",
       "4        1  Кира             6             ultra                 0   \n",
       "\n",
       "   subscription_fee  month  distance_count  distance_sum  duration_sum  \\\n",
       "0               199      1               2   7027.511294          42.0   \n",
       "1               199      4               1    754.159807           7.0   \n",
       "2               199      8               2   6723.470560          46.0   \n",
       "3               199     10               2   5809.911100          32.0   \n",
       "4               199     11               3   7003.499363          56.0   \n",
       "\n",
       "   revenue  \n",
       "0    451.0  \n",
       "1    241.0  \n",
       "2    475.0  \n",
       "3    391.0  \n",
       "4    535.0  "
      ]
     },
     "execution_count": 54,
     "metadata": {},
     "output_type": "execute_result"
    }
   ],
   "source": [
    "def revenue(row):\n",
    "    try:\n",
    "        revenue = row['start_ride_price'] * row['distance_count']\\\n",
    "        + row['minute_price'] * row['duration_sum'] + row['subscription_fee']\n",
    "        return revenue\n",
    "    except:\n",
    "        return 'ошибка'\n",
    "\n",
    "final_data_group['revenue'] = final_data_group.apply(revenue, axis=1)\n",
    "final_data_group.head()\n"
   ]
  },
  {
   "cell_type": "code",
   "execution_count": 58,
   "id": "66f08454",
   "metadata": {},
   "outputs": [
    {
     "data": {
      "text/html": [
       "<div>\n",
       "<style scoped>\n",
       "    .dataframe tbody tr th:only-of-type {\n",
       "        vertical-align: middle;\n",
       "    }\n",
       "\n",
       "    .dataframe tbody tr th {\n",
       "        vertical-align: top;\n",
       "    }\n",
       "\n",
       "    .dataframe thead th {\n",
       "        text-align: right;\n",
       "    }\n",
       "</style>\n",
       "<table border=\"1\" class=\"dataframe\">\n",
       "  <thead>\n",
       "    <tr style=\"text-align: right;\">\n",
       "      <th></th>\n",
       "      <th>user_id</th>\n",
       "      <th>name</th>\n",
       "      <th>minute_price</th>\n",
       "      <th>subscription_type</th>\n",
       "      <th>start_ride_price</th>\n",
       "      <th>subscription_fee</th>\n",
       "      <th>month</th>\n",
       "      <th>distance_count</th>\n",
       "      <th>distance_sum</th>\n",
       "      <th>duration_sum</th>\n",
       "      <th>revenue</th>\n",
       "    </tr>\n",
       "  </thead>\n",
       "  <tbody>\n",
       "    <tr>\n",
       "      <th>0</th>\n",
       "      <td>1</td>\n",
       "      <td>Кира</td>\n",
       "      <td>6</td>\n",
       "      <td>ultra</td>\n",
       "      <td>0</td>\n",
       "      <td>199</td>\n",
       "      <td>1</td>\n",
       "      <td>2</td>\n",
       "      <td>7027.511294</td>\n",
       "      <td>42.0</td>\n",
       "      <td>451.0</td>\n",
       "    </tr>\n",
       "    <tr>\n",
       "      <th>1</th>\n",
       "      <td>1</td>\n",
       "      <td>Кира</td>\n",
       "      <td>6</td>\n",
       "      <td>ultra</td>\n",
       "      <td>0</td>\n",
       "      <td>199</td>\n",
       "      <td>4</td>\n",
       "      <td>1</td>\n",
       "      <td>754.159807</td>\n",
       "      <td>7.0</td>\n",
       "      <td>241.0</td>\n",
       "    </tr>\n",
       "    <tr>\n",
       "      <th>2</th>\n",
       "      <td>1</td>\n",
       "      <td>Кира</td>\n",
       "      <td>6</td>\n",
       "      <td>ultra</td>\n",
       "      <td>0</td>\n",
       "      <td>199</td>\n",
       "      <td>8</td>\n",
       "      <td>2</td>\n",
       "      <td>6723.470560</td>\n",
       "      <td>46.0</td>\n",
       "      <td>475.0</td>\n",
       "    </tr>\n",
       "    <tr>\n",
       "      <th>3</th>\n",
       "      <td>1</td>\n",
       "      <td>Кира</td>\n",
       "      <td>6</td>\n",
       "      <td>ultra</td>\n",
       "      <td>0</td>\n",
       "      <td>199</td>\n",
       "      <td>10</td>\n",
       "      <td>2</td>\n",
       "      <td>5809.911100</td>\n",
       "      <td>32.0</td>\n",
       "      <td>391.0</td>\n",
       "    </tr>\n",
       "    <tr>\n",
       "      <th>4</th>\n",
       "      <td>1</td>\n",
       "      <td>Кира</td>\n",
       "      <td>6</td>\n",
       "      <td>ultra</td>\n",
       "      <td>0</td>\n",
       "      <td>199</td>\n",
       "      <td>11</td>\n",
       "      <td>3</td>\n",
       "      <td>7003.499363</td>\n",
       "      <td>56.0</td>\n",
       "      <td>535.0</td>\n",
       "    </tr>\n",
       "    <tr>\n",
       "      <th>...</th>\n",
       "      <td>...</td>\n",
       "      <td>...</td>\n",
       "      <td>...</td>\n",
       "      <td>...</td>\n",
       "      <td>...</td>\n",
       "      <td>...</td>\n",
       "      <td>...</td>\n",
       "      <td>...</td>\n",
       "      <td>...</td>\n",
       "      <td>...</td>\n",
       "      <td>...</td>\n",
       "    </tr>\n",
       "    <tr>\n",
       "      <th>11326</th>\n",
       "      <td>1534</td>\n",
       "      <td>Альберт</td>\n",
       "      <td>8</td>\n",
       "      <td>free</td>\n",
       "      <td>50</td>\n",
       "      <td>0</td>\n",
       "      <td>6</td>\n",
       "      <td>2</td>\n",
       "      <td>3409.468534</td>\n",
       "      <td>26.0</td>\n",
       "      <td>308.0</td>\n",
       "    </tr>\n",
       "    <tr>\n",
       "      <th>11327</th>\n",
       "      <td>1534</td>\n",
       "      <td>Альберт</td>\n",
       "      <td>8</td>\n",
       "      <td>free</td>\n",
       "      <td>50</td>\n",
       "      <td>0</td>\n",
       "      <td>8</td>\n",
       "      <td>2</td>\n",
       "      <td>7622.453034</td>\n",
       "      <td>48.0</td>\n",
       "      <td>484.0</td>\n",
       "    </tr>\n",
       "    <tr>\n",
       "      <th>11328</th>\n",
       "      <td>1534</td>\n",
       "      <td>Альберт</td>\n",
       "      <td>8</td>\n",
       "      <td>free</td>\n",
       "      <td>50</td>\n",
       "      <td>0</td>\n",
       "      <td>9</td>\n",
       "      <td>1</td>\n",
       "      <td>4928.173852</td>\n",
       "      <td>23.0</td>\n",
       "      <td>234.0</td>\n",
       "    </tr>\n",
       "    <tr>\n",
       "      <th>11329</th>\n",
       "      <td>1534</td>\n",
       "      <td>Альберт</td>\n",
       "      <td>8</td>\n",
       "      <td>free</td>\n",
       "      <td>50</td>\n",
       "      <td>0</td>\n",
       "      <td>11</td>\n",
       "      <td>4</td>\n",
       "      <td>13350.015305</td>\n",
       "      <td>78.0</td>\n",
       "      <td>824.0</td>\n",
       "    </tr>\n",
       "    <tr>\n",
       "      <th>11330</th>\n",
       "      <td>1534</td>\n",
       "      <td>Альберт</td>\n",
       "      <td>8</td>\n",
       "      <td>free</td>\n",
       "      <td>50</td>\n",
       "      <td>0</td>\n",
       "      <td>12</td>\n",
       "      <td>1</td>\n",
       "      <td>2371.711192</td>\n",
       "      <td>16.0</td>\n",
       "      <td>178.0</td>\n",
       "    </tr>\n",
       "  </tbody>\n",
       "</table>\n",
       "<p>11331 rows × 11 columns</p>\n",
       "</div>"
      ],
      "text/plain": [
       "       user_id     name  minute_price subscription_type  start_ride_price  \\\n",
       "0            1     Кира             6             ultra                 0   \n",
       "1            1     Кира             6             ultra                 0   \n",
       "2            1     Кира             6             ultra                 0   \n",
       "3            1     Кира             6             ultra                 0   \n",
       "4            1     Кира             6             ultra                 0   \n",
       "...        ...      ...           ...               ...               ...   \n",
       "11326     1534  Альберт             8              free                50   \n",
       "11327     1534  Альберт             8              free                50   \n",
       "11328     1534  Альберт             8              free                50   \n",
       "11329     1534  Альберт             8              free                50   \n",
       "11330     1534  Альберт             8              free                50   \n",
       "\n",
       "       subscription_fee  month  distance_count  distance_sum  duration_sum  \\\n",
       "0                   199      1               2   7027.511294          42.0   \n",
       "1                   199      4               1    754.159807           7.0   \n",
       "2                   199      8               2   6723.470560          46.0   \n",
       "3                   199     10               2   5809.911100          32.0   \n",
       "4                   199     11               3   7003.499363          56.0   \n",
       "...                 ...    ...             ...           ...           ...   \n",
       "11326                 0      6               2   3409.468534          26.0   \n",
       "11327                 0      8               2   7622.453034          48.0   \n",
       "11328                 0      9               1   4928.173852          23.0   \n",
       "11329                 0     11               4  13350.015305          78.0   \n",
       "11330                 0     12               1   2371.711192          16.0   \n",
       "\n",
       "       revenue  \n",
       "0        451.0  \n",
       "1        241.0  \n",
       "2        475.0  \n",
       "3        391.0  \n",
       "4        535.0  \n",
       "...        ...  \n",
       "11326    308.0  \n",
       "11327    484.0  \n",
       "11328    234.0  \n",
       "11329    824.0  \n",
       "11330    178.0  \n",
       "\n",
       "[11331 rows x 11 columns]"
      ]
     },
     "execution_count": 58,
     "metadata": {},
     "output_type": "execute_result"
    }
   ],
   "source": [
    "final_data_group"
   ]
  },
  {
   "cell_type": "markdown",
   "id": "26e7ae58",
   "metadata": {},
   "source": [
    "***Проверка гипотез***"
   ]
  },
  {
   "cell_type": "markdown",
   "id": "e5cc629c",
   "metadata": {},
   "source": [
    "**Чтобы проверить первую гипотезу, установим следующие ограничения:\n",
    "Н0 (нулевая гипотеза) - время(duration) поездок пользователей с подпиской = времени(duration) поездок пользователей без подписки. \n",
    "Н1 - альтернативная гипотеза,которую будем проверять - duration(время) поездок с подпиской больше времени(duration) поездок без подписки.**\n"
   ]
  },
  {
   "cell_type": "code",
   "execution_count": 55,
   "id": "f3fa7cdf",
   "metadata": {},
   "outputs": [
    {
     "name": "stdout",
     "output_type": "stream",
     "text": [
      "2.4959453720736625e-34\n",
      "Отвергаем нулевую гипотезу\n"
     ]
    }
   ],
   "source": [
    "duration_ultra = df_ultra['duration']\n",
    "duration_free = df_free['duration']\n",
    "\n",
    "\n",
    "\n",
    "results = st.ttest_ind(duration_ultra, duration_free, \n",
    "                    alternative='greater')\n",
    "                      \n",
    "print(results.pvalue)\n",
    "\n",
    "alpha = 0.05\n",
    "if results.pvalue<alpha:\n",
    "    print('Отвергаем нулевую гипотезу')\n",
    "else:\n",
    "    print('Не можем отвергнуть нулевую гипотезу')\n",
    "    "
   ]
  },
  {
   "cell_type": "markdown",
   "id": "72d51d2a",
   "metadata": {},
   "source": [
    "**При данном уровне статистической значимости в 0.5% по результатам теста мы отвергаем нулевую гипотезу о равенстве средней продолжительности поездок пользователей с подиской и без подписки, так как средняя продожительность поездок пользователейй с подпиской больше средней продолжительности поездок пользователей без подписки**"
   ]
  },
  {
   "cell_type": "markdown",
   "id": "ed10dd3c",
   "metadata": {},
   "source": [
    "**Установим гипотезу Н0 = среднее время поездки пользователей с подпиской равно оптимальному расстоянию с точки зрени износа самоката 3130 метров\n",
    "Н1 - альтернативная гипотеза -  среднее время поездки пользователей с подпиской больше 3130 метров**"
   ]
  },
  {
   "cell_type": "code",
   "execution_count": 56,
   "id": "bd1a2e9a",
   "metadata": {},
   "outputs": [
    {
     "name": "stdout",
     "output_type": "stream",
     "text": [
      "0.9195368847849785\n",
      "Не можем отвергнуть нулевую гипотезу\n"
     ]
    }
   ],
   "source": [
    "distance_ultra = df_ultra['distance']\n",
    "\n",
    "interested_value = 3130\n",
    "\n",
    "results = st.ttest_1samp(distance_ultra, interested_value,\n",
    "                        alternative = 'greater')\n",
    "print(results.pvalue)\n",
    "alpha = 0.05\n",
    "if results.pvalue < alpha:\n",
    "    print('Отвергаем нулевую гипотезу')\n",
    "else:\n",
    "    print('Не можем отвергнуть нулевую гипотезу')\n",
    "    \n"
   ]
  },
  {
   "cell_type": "markdown",
   "id": "07b54499",
   "metadata": {},
   "source": [
    "**Не удалось отвергнуть нулевую гипотез при статистическом уровне знаимости в 5% процентов. Поэтому мы не можем утверждать, что расстояние на тарифе ультра больше оптимального в 3130 метров**"
   ]
  },
  {
   "cell_type": "markdown",
   "id": "6ac49cdf",
   "metadata": {},
   "source": [
    "**Н0=Выручка от пользователей с подпиской больше выручки пользователей без подписки**"
   ]
  },
  {
   "cell_type": "code",
   "execution_count": 57,
   "id": "b633f25d",
   "metadata": {},
   "outputs": [
    {
     "name": "stdout",
     "output_type": "stream",
     "text": [
      "3.819490444237055e-17\n",
      "Отвергаем нулевую гипотезу\n"
     ]
    }
   ],
   "source": [
    "ultra_revenue = final_data_group.loc[final_data['subscription_type'] == 'ultra', 'revenue']\n",
    "                               \n",
    "free_revenue =  final_data_group.loc[final_data['subscription_type'] == 'free', 'revenue']\n",
    "\n",
    "\n",
    "\n",
    "results = st.ttest_ind(ultra_revenue, free_revenue,\n",
    "                        alternative = 'greater')\n",
    "alpha = 0.05\n",
    "                               \n",
    "print(results.pvalue)\n",
    "if results.pvalue < alpha:\n",
    "    print('Отвергаем нулевую гипотезу')\n",
    "else:\n",
    "    print('Не можем отвергнуть нулевую гипотезу')\n",
    "    \n",
    "                               "
   ]
  },
  {
   "cell_type": "markdown",
   "id": "390182a8",
   "metadata": {},
   "source": [
    "**Можно предположить, что по результатам проверки при данном уровне статистической значимости равным 5%, мы  отвергаем нулевую гипотезу, а значит можем утверждать, что гипотеза о том, что выручка от пользователей с подпиской больше выручки пользователей без подписки, не подтвердилась.**"
   ]
  },
  {
   "cell_type": "markdown",
   "id": "a19d92b7",
   "metadata": {},
   "source": [
    "***Можно использовать гипотезу о равенстве средних выборок\n",
    "Н0: μ1 = μ2\n",
    "H1: μ1 != μ2,\n",
    "где μ1, μ2 - это средние значения обращений пользователей в техподдержку до и после обновления\n",
    "используемый метод - scipy.stats.ttest.rel***"
   ]
  },
  {
   "cell_type": "markdown",
   "id": "860183e0",
   "metadata": {},
   "source": [
    "**Вывели, что количество пользователей по городам распределено примерно одинаково, нет выдающихся значений. Лидером по количеству пользователей является Пятигорск - 219 пользователей. Меньше всего пользователей в Москве - 168.\n",
    "Пользователей, использующих бесплатную подписку больше - 835 человек, что является ~54% от общего числа пользователей. На платной подписке сидит 699 пользователей, что соответственно является ~46%.\n",
    "Возраст пользователей укладывается в промежуток от 20 до 30 лет\n",
    "В основном пользователи проезжают от 2.5 км до 4 км.\n",
    "Чаще всего длительность поездки состовляет 13 - 22 минут\n",
    "Объединили данные о пользователях, поездках и подписках в один датафрейм. На основе объединенного датафрейма создали еще 2 датафрейма:**\n",
    "\n",
    "**Для пользователей с ultra подпиской\n",
    "Для пользователей с free подпиской\n",
    "Дальше визуализировали информацию о расстоянии и времени поездки для пользоватей каждого тарифа.**\n",
    "\n",
    "**Для бесплатного тарифа время поездки составляет от 10 до 30 минут, и проезжают от 2 до 5 км, есть пользователи, которые проехали даже 6, 6.5 км.\n",
    "Платный тариф. В основном время укладывается в промежуток от 15 до 25 минут. Пик расстояния приходится на 3км.\n",
    "Нашли суммарное расстояние, количество поездок и суммарное время для каждого пользователя за каждый месяц - вывели все данные в отдельный датафрейм total_data. Добавили в датафрейм total_data столбец с помесячной выручкой revenue_per_month.**\n",
    "\n",
    "**Проверили гипотезы:**\n",
    "\n",
    "**Пользователи с подпиской тратят больше времени на поездки, чем пользователи на бесплатном тарифе\n",
    "Отвергли нулевую гипотезу, и пришли к выводу, что пользователи с подпиской тратят не больше времени на поездки, чем пользователи на бесплатном тарифе\n",
    "Гипотезу, что пользователи с подпиской проезжают расстояние, не превышающее 3130 метров за одну поездку,\n",
    "не удалось отвергнуть, а значит она подтвердилась.\n",
    "Гпотезу о том, что помесячная выручка от пользователей с подпиской выше, чем выручка от пользователей без подписки\n",
    "подтвердилась**"
   ]
  }
 ],
 "metadata": {
  "ExecuteTimeLog": [
   {
    "duration": 710,
    "start_time": "2024-03-19T10:05:02.022Z"
   },
   {
    "duration": 110,
    "start_time": "2024-03-19T10:05:11.019Z"
   },
   {
    "duration": 73,
    "start_time": "2024-03-19T10:06:06.448Z"
   },
   {
    "duration": 94,
    "start_time": "2024-03-19T10:06:59.167Z"
   },
   {
    "duration": 95,
    "start_time": "2024-03-19T10:07:45.558Z"
   },
   {
    "duration": 7,
    "start_time": "2024-03-19T10:11:55.798Z"
   },
   {
    "duration": 826,
    "start_time": "2024-03-19T10:12:24.456Z"
   },
   {
    "duration": 781,
    "start_time": "2024-03-19T10:22:40.959Z"
   },
   {
    "duration": 8,
    "start_time": "2024-03-19T10:34:00.814Z"
   },
   {
    "duration": 58,
    "start_time": "2024-03-19T10:34:14.166Z"
   },
   {
    "duration": 10,
    "start_time": "2024-03-19T10:35:25.270Z"
   },
   {
    "duration": 6,
    "start_time": "2024-03-19T10:35:42.297Z"
   },
   {
    "duration": 5,
    "start_time": "2024-03-19T10:35:49.004Z"
   },
   {
    "duration": 6,
    "start_time": "2024-03-19T10:37:30.997Z"
   },
   {
    "duration": 5,
    "start_time": "2024-03-19T10:38:42.184Z"
   },
   {
    "duration": 14,
    "start_time": "2024-03-19T10:38:55.752Z"
   },
   {
    "duration": 6,
    "start_time": "2024-03-19T10:39:19.061Z"
   },
   {
    "duration": 8,
    "start_time": "2024-03-19T10:39:32.015Z"
   },
   {
    "duration": 7,
    "start_time": "2024-03-19T10:39:53.516Z"
   },
   {
    "duration": 5,
    "start_time": "2024-03-19T10:39:56.860Z"
   },
   {
    "duration": 89,
    "start_time": "2024-03-19T10:39:59.412Z"
   },
   {
    "duration": 12,
    "start_time": "2024-03-19T10:39:59.503Z"
   },
   {
    "duration": 6,
    "start_time": "2024-03-19T10:39:59.516Z"
   },
   {
    "duration": 19,
    "start_time": "2024-03-19T10:39:59.524Z"
   },
   {
    "duration": 14,
    "start_time": "2024-03-19T10:39:59.544Z"
   },
   {
    "duration": 26,
    "start_time": "2024-03-19T10:39:59.559Z"
   },
   {
    "duration": 7,
    "start_time": "2024-03-19T10:39:59.587Z"
   },
   {
    "duration": 18,
    "start_time": "2024-03-19T10:39:59.596Z"
   },
   {
    "duration": 9,
    "start_time": "2024-03-19T10:39:59.617Z"
   },
   {
    "duration": 6,
    "start_time": "2024-03-19T10:39:59.628Z"
   },
   {
    "duration": 9,
    "start_time": "2024-03-19T10:55:04.666Z"
   },
   {
    "duration": 5,
    "start_time": "2024-03-19T10:55:12.357Z"
   },
   {
    "duration": 6,
    "start_time": "2024-03-19T10:55:43.126Z"
   },
   {
    "duration": 7,
    "start_time": "2024-03-19T10:58:09.308Z"
   },
   {
    "duration": 4,
    "start_time": "2024-03-19T10:58:15.440Z"
   },
   {
    "duration": 497,
    "start_time": "2024-03-19T10:59:12.308Z"
   },
   {
    "duration": 134,
    "start_time": "2024-03-19T10:59:26.607Z"
   },
   {
    "duration": 135,
    "start_time": "2024-03-19T10:59:55.386Z"
   },
   {
    "duration": 202,
    "start_time": "2024-03-19T11:00:03.717Z"
   },
   {
    "duration": 142,
    "start_time": "2024-03-19T11:00:11.844Z"
   },
   {
    "duration": 133,
    "start_time": "2024-03-19T11:00:36.327Z"
   },
   {
    "duration": 148,
    "start_time": "2024-03-19T11:00:43.357Z"
   },
   {
    "duration": 113,
    "start_time": "2024-03-19T11:01:08.568Z"
   },
   {
    "duration": 170,
    "start_time": "2024-03-19T11:01:16.192Z"
   },
   {
    "duration": 104,
    "start_time": "2024-03-19T11:01:31.597Z"
   },
   {
    "duration": 164,
    "start_time": "2024-03-19T11:01:35.591Z"
   },
   {
    "duration": 176,
    "start_time": "2024-03-19T11:01:46.227Z"
   },
   {
    "duration": 158,
    "start_time": "2024-03-19T11:01:55.795Z"
   },
   {
    "duration": 210,
    "start_time": "2024-03-19T11:02:25.463Z"
   },
   {
    "duration": 196,
    "start_time": "2024-03-19T11:02:48.304Z"
   },
   {
    "duration": 21,
    "start_time": "2024-03-19T11:04:08.208Z"
   },
   {
    "duration": 72,
    "start_time": "2024-03-19T11:04:29.015Z"
   },
   {
    "duration": 104,
    "start_time": "2024-03-19T11:05:10.262Z"
   },
   {
    "duration": 138,
    "start_time": "2024-03-19T11:05:20.984Z"
   },
   {
    "duration": 16,
    "start_time": "2024-03-19T11:05:58.106Z"
   },
   {
    "duration": 73,
    "start_time": "2024-03-19T11:06:30.685Z"
   },
   {
    "duration": 69,
    "start_time": "2024-03-19T11:06:45.987Z"
   },
   {
    "duration": 69,
    "start_time": "2024-03-19T11:07:02.777Z"
   },
   {
    "duration": 72,
    "start_time": "2024-03-19T11:12:01.670Z"
   },
   {
    "duration": 70,
    "start_time": "2024-03-19T11:13:23.659Z"
   },
   {
    "duration": 8,
    "start_time": "2024-03-19T11:16:58.302Z"
   },
   {
    "duration": 7,
    "start_time": "2024-03-19T11:17:06.450Z"
   },
   {
    "duration": 3,
    "start_time": "2024-03-19T11:18:29.973Z"
   },
   {
    "duration": 7,
    "start_time": "2024-03-19T11:18:42.170Z"
   },
   {
    "duration": 6,
    "start_time": "2024-03-19T11:18:58.405Z"
   },
   {
    "duration": 11,
    "start_time": "2024-03-19T11:19:33.945Z"
   },
   {
    "duration": 106,
    "start_time": "2024-03-19T11:19:45.287Z"
   },
   {
    "duration": 4,
    "start_time": "2024-03-19T11:20:32.290Z"
   },
   {
    "duration": 5,
    "start_time": "2024-03-19T11:21:18.861Z"
   },
   {
    "duration": 4,
    "start_time": "2024-03-19T11:21:29.984Z"
   },
   {
    "duration": 10,
    "start_time": "2024-03-19T11:21:44.324Z"
   },
   {
    "duration": 5,
    "start_time": "2024-03-19T11:21:53.822Z"
   },
   {
    "duration": 13,
    "start_time": "2024-03-19T11:22:57.850Z"
   },
   {
    "duration": 6,
    "start_time": "2024-03-19T11:23:16.829Z"
   },
   {
    "duration": 6,
    "start_time": "2024-03-19T11:23:21.214Z"
   },
   {
    "duration": 4,
    "start_time": "2024-03-19T11:24:28.509Z"
   },
   {
    "duration": 7,
    "start_time": "2024-03-19T11:24:39.225Z"
   },
   {
    "duration": 11,
    "start_time": "2024-03-19T11:25:20.606Z"
   },
   {
    "duration": 22,
    "start_time": "2024-03-19T11:25:35.790Z"
   },
   {
    "duration": 104,
    "start_time": "2024-03-19T11:27:50.195Z"
   },
   {
    "duration": 101,
    "start_time": "2024-03-19T11:28:11.235Z"
   },
   {
    "duration": 114,
    "start_time": "2024-03-19T11:28:24.848Z"
   },
   {
    "duration": 3,
    "start_time": "2024-03-19T11:28:36.829Z"
   },
   {
    "duration": 7,
    "start_time": "2024-03-19T11:29:37.433Z"
   },
   {
    "duration": 4,
    "start_time": "2024-03-19T11:30:01.075Z"
   },
   {
    "duration": 7,
    "start_time": "2024-03-19T11:30:33.424Z"
   },
   {
    "duration": 4,
    "start_time": "2024-03-19T11:31:15.805Z"
   },
   {
    "duration": 49,
    "start_time": "2024-03-20T11:39:13.538Z"
   },
   {
    "duration": 691,
    "start_time": "2024-03-20T11:39:47.136Z"
   },
   {
    "duration": 0,
    "start_time": "2024-03-20T11:39:47.830Z"
   },
   {
    "duration": 0,
    "start_time": "2024-03-20T11:39:47.831Z"
   },
   {
    "duration": 0,
    "start_time": "2024-03-20T11:39:47.833Z"
   },
   {
    "duration": 0,
    "start_time": "2024-03-20T11:39:47.834Z"
   },
   {
    "duration": 0,
    "start_time": "2024-03-20T11:39:47.836Z"
   },
   {
    "duration": 0,
    "start_time": "2024-03-20T11:39:47.837Z"
   },
   {
    "duration": 1,
    "start_time": "2024-03-20T11:39:47.838Z"
   },
   {
    "duration": 0,
    "start_time": "2024-03-20T11:39:47.840Z"
   },
   {
    "duration": 1,
    "start_time": "2024-03-20T11:39:47.841Z"
   },
   {
    "duration": 0,
    "start_time": "2024-03-20T11:39:47.843Z"
   },
   {
    "duration": 0,
    "start_time": "2024-03-20T11:39:47.844Z"
   },
   {
    "duration": 0,
    "start_time": "2024-03-20T11:39:47.846Z"
   },
   {
    "duration": 0,
    "start_time": "2024-03-20T11:39:47.848Z"
   },
   {
    "duration": 0,
    "start_time": "2024-03-20T11:39:47.849Z"
   },
   {
    "duration": 0,
    "start_time": "2024-03-20T11:39:47.851Z"
   },
   {
    "duration": 0,
    "start_time": "2024-03-20T11:39:47.852Z"
   },
   {
    "duration": 78,
    "start_time": "2024-03-20T11:43:06.225Z"
   },
   {
    "duration": 0,
    "start_time": "2024-03-20T11:43:06.305Z"
   },
   {
    "duration": 1,
    "start_time": "2024-03-20T11:43:06.306Z"
   },
   {
    "duration": 0,
    "start_time": "2024-03-20T11:43:06.308Z"
   },
   {
    "duration": 0,
    "start_time": "2024-03-20T11:43:06.309Z"
   },
   {
    "duration": 0,
    "start_time": "2024-03-20T11:43:06.310Z"
   },
   {
    "duration": 0,
    "start_time": "2024-03-20T11:43:06.311Z"
   },
   {
    "duration": 0,
    "start_time": "2024-03-20T11:43:06.312Z"
   },
   {
    "duration": 0,
    "start_time": "2024-03-20T11:43:06.313Z"
   },
   {
    "duration": 0,
    "start_time": "2024-03-20T11:43:06.314Z"
   },
   {
    "duration": 0,
    "start_time": "2024-03-20T11:43:06.315Z"
   },
   {
    "duration": 0,
    "start_time": "2024-03-20T11:43:06.316Z"
   },
   {
    "duration": 0,
    "start_time": "2024-03-20T11:43:06.318Z"
   },
   {
    "duration": 0,
    "start_time": "2024-03-20T11:43:06.319Z"
   },
   {
    "duration": 0,
    "start_time": "2024-03-20T11:43:06.320Z"
   },
   {
    "duration": 0,
    "start_time": "2024-03-20T11:43:06.321Z"
   },
   {
    "duration": 0,
    "start_time": "2024-03-20T11:43:06.323Z"
   },
   {
    "duration": 1141,
    "start_time": "2024-03-20T12:20:13.962Z"
   },
   {
    "duration": 0,
    "start_time": "2024-03-20T12:20:15.105Z"
   },
   {
    "duration": 0,
    "start_time": "2024-03-20T12:20:15.106Z"
   },
   {
    "duration": 0,
    "start_time": "2024-03-20T12:20:15.107Z"
   },
   {
    "duration": 0,
    "start_time": "2024-03-20T12:20:15.108Z"
   },
   {
    "duration": 0,
    "start_time": "2024-03-20T12:20:15.110Z"
   },
   {
    "duration": 0,
    "start_time": "2024-03-20T12:20:15.111Z"
   },
   {
    "duration": 0,
    "start_time": "2024-03-20T12:20:15.112Z"
   },
   {
    "duration": 0,
    "start_time": "2024-03-20T12:20:15.113Z"
   },
   {
    "duration": 0,
    "start_time": "2024-03-20T12:20:15.114Z"
   },
   {
    "duration": 0,
    "start_time": "2024-03-20T12:20:15.115Z"
   },
   {
    "duration": 0,
    "start_time": "2024-03-20T12:20:15.116Z"
   },
   {
    "duration": 0,
    "start_time": "2024-03-20T12:20:15.117Z"
   },
   {
    "duration": 0,
    "start_time": "2024-03-20T12:20:15.118Z"
   },
   {
    "duration": 0,
    "start_time": "2024-03-20T12:20:15.119Z"
   },
   {
    "duration": 0,
    "start_time": "2024-03-20T12:20:15.120Z"
   },
   {
    "duration": 0,
    "start_time": "2024-03-20T12:20:15.121Z"
   },
   {
    "duration": 49,
    "start_time": "2024-03-20T14:50:59.002Z"
   },
   {
    "duration": 1682,
    "start_time": "2024-03-20T14:51:07.441Z"
   },
   {
    "duration": 7,
    "start_time": "2024-03-20T14:51:09.125Z"
   },
   {
    "duration": 11,
    "start_time": "2024-03-20T14:51:27.781Z"
   },
   {
    "duration": 3,
    "start_time": "2024-03-20T15:02:22.246Z"
   },
   {
    "duration": 3,
    "start_time": "2024-03-20T15:02:25.366Z"
   },
   {
    "duration": 3,
    "start_time": "2024-03-20T15:02:28.733Z"
   },
   {
    "duration": 3,
    "start_time": "2024-03-20T15:02:56.079Z"
   },
   {
    "duration": 81,
    "start_time": "2024-03-20T15:03:32.417Z"
   },
   {
    "duration": 2,
    "start_time": "2024-03-20T15:03:52.197Z"
   },
   {
    "duration": 3,
    "start_time": "2024-03-20T15:03:58.754Z"
   },
   {
    "duration": 69,
    "start_time": "2024-03-20T15:04:06.320Z"
   },
   {
    "duration": 5,
    "start_time": "2024-03-20T15:04:06.391Z"
   },
   {
    "duration": 24,
    "start_time": "2024-03-20T15:04:06.398Z"
   },
   {
    "duration": 3,
    "start_time": "2024-03-20T15:04:06.425Z"
   },
   {
    "duration": 16,
    "start_time": "2024-03-20T15:04:06.429Z"
   },
   {
    "duration": 0,
    "start_time": "2024-03-20T15:04:06.446Z"
   },
   {
    "duration": 0,
    "start_time": "2024-03-20T15:04:06.447Z"
   },
   {
    "duration": 0,
    "start_time": "2024-03-20T15:04:06.449Z"
   },
   {
    "duration": 0,
    "start_time": "2024-03-20T15:04:06.450Z"
   },
   {
    "duration": 0,
    "start_time": "2024-03-20T15:04:06.450Z"
   },
   {
    "duration": 0,
    "start_time": "2024-03-20T15:04:06.451Z"
   },
   {
    "duration": 0,
    "start_time": "2024-03-20T15:04:06.452Z"
   },
   {
    "duration": 0,
    "start_time": "2024-03-20T15:04:06.453Z"
   },
   {
    "duration": 0,
    "start_time": "2024-03-20T15:04:06.454Z"
   },
   {
    "duration": 0,
    "start_time": "2024-03-20T15:04:06.455Z"
   },
   {
    "duration": 0,
    "start_time": "2024-03-20T15:04:06.456Z"
   },
   {
    "duration": 0,
    "start_time": "2024-03-20T15:04:06.472Z"
   },
   {
    "duration": 0,
    "start_time": "2024-03-20T15:04:06.473Z"
   },
   {
    "duration": 0,
    "start_time": "2024-03-20T15:04:06.474Z"
   },
   {
    "duration": 0,
    "start_time": "2024-03-20T15:04:06.475Z"
   },
   {
    "duration": 0,
    "start_time": "2024-03-20T15:04:06.477Z"
   },
   {
    "duration": 70,
    "start_time": "2024-03-20T15:05:12.150Z"
   },
   {
    "duration": 5,
    "start_time": "2024-03-20T15:05:12.222Z"
   },
   {
    "duration": 15,
    "start_time": "2024-03-20T15:05:12.228Z"
   },
   {
    "duration": 5,
    "start_time": "2024-03-20T15:05:12.245Z"
   },
   {
    "duration": 20,
    "start_time": "2024-03-20T15:05:12.252Z"
   },
   {
    "duration": 102,
    "start_time": "2024-03-20T15:05:12.274Z"
   },
   {
    "duration": 0,
    "start_time": "2024-03-20T15:05:12.378Z"
   },
   {
    "duration": 0,
    "start_time": "2024-03-20T15:05:12.379Z"
   },
   {
    "duration": 0,
    "start_time": "2024-03-20T15:05:12.379Z"
   },
   {
    "duration": 0,
    "start_time": "2024-03-20T15:05:12.381Z"
   },
   {
    "duration": 0,
    "start_time": "2024-03-20T15:05:12.382Z"
   },
   {
    "duration": 0,
    "start_time": "2024-03-20T15:05:12.383Z"
   },
   {
    "duration": 0,
    "start_time": "2024-03-20T15:05:12.384Z"
   },
   {
    "duration": 0,
    "start_time": "2024-03-20T15:05:12.385Z"
   },
   {
    "duration": 0,
    "start_time": "2024-03-20T15:05:12.386Z"
   },
   {
    "duration": 0,
    "start_time": "2024-03-20T15:05:12.386Z"
   },
   {
    "duration": 0,
    "start_time": "2024-03-20T15:05:12.388Z"
   },
   {
    "duration": 0,
    "start_time": "2024-03-20T15:05:12.389Z"
   },
   {
    "duration": 0,
    "start_time": "2024-03-20T15:05:12.390Z"
   },
   {
    "duration": 0,
    "start_time": "2024-03-20T15:05:12.391Z"
   },
   {
    "duration": 0,
    "start_time": "2024-03-20T15:05:12.392Z"
   },
   {
    "duration": 8,
    "start_time": "2024-03-20T15:09:01.546Z"
   },
   {
    "duration": 11,
    "start_time": "2024-03-20T15:09:18.878Z"
   },
   {
    "duration": 8,
    "start_time": "2024-03-20T15:14:46.482Z"
   },
   {
    "duration": 11,
    "start_time": "2024-03-20T15:18:45.318Z"
   },
   {
    "duration": 1567,
    "start_time": "2024-03-20T15:19:39.753Z"
   },
   {
    "duration": 9,
    "start_time": "2024-03-20T15:19:59.334Z"
   },
   {
    "duration": 7,
    "start_time": "2024-03-20T15:21:41.159Z"
   },
   {
    "duration": 14,
    "start_time": "2024-03-20T15:22:21.265Z"
   },
   {
    "duration": 8,
    "start_time": "2024-03-20T15:24:11.123Z"
   },
   {
    "duration": 8,
    "start_time": "2024-03-20T15:25:17.728Z"
   },
   {
    "duration": 5,
    "start_time": "2024-03-20T15:28:41.939Z"
   },
   {
    "duration": 9,
    "start_time": "2024-03-20T15:28:46.571Z"
   },
   {
    "duration": 8,
    "start_time": "2024-03-20T15:28:53.471Z"
   },
   {
    "duration": 6,
    "start_time": "2024-03-20T15:28:57.417Z"
   },
   {
    "duration": 6,
    "start_time": "2024-03-20T15:29:08.427Z"
   },
   {
    "duration": 71,
    "start_time": "2024-03-20T15:30:27.617Z"
   },
   {
    "duration": 6,
    "start_time": "2024-03-20T15:30:27.690Z"
   },
   {
    "duration": 24,
    "start_time": "2024-03-20T15:30:27.697Z"
   },
   {
    "duration": 6,
    "start_time": "2024-03-20T15:30:27.723Z"
   },
   {
    "duration": 23,
    "start_time": "2024-03-20T15:30:27.731Z"
   },
   {
    "duration": 20,
    "start_time": "2024-03-20T15:30:27.756Z"
   },
   {
    "duration": 25,
    "start_time": "2024-03-20T15:30:27.777Z"
   },
   {
    "duration": 22,
    "start_time": "2024-03-20T15:30:27.804Z"
   },
   {
    "duration": 20,
    "start_time": "2024-03-20T15:30:27.828Z"
   },
   {
    "duration": 10,
    "start_time": "2024-03-20T15:30:27.852Z"
   },
   {
    "duration": 24,
    "start_time": "2024-03-20T15:30:27.863Z"
   },
   {
    "duration": 38,
    "start_time": "2024-03-20T15:30:27.889Z"
   },
   {
    "duration": 10,
    "start_time": "2024-03-20T15:30:27.929Z"
   },
   {
    "duration": 16,
    "start_time": "2024-03-20T15:30:27.942Z"
   },
   {
    "duration": 0,
    "start_time": "2024-03-20T15:30:27.960Z"
   },
   {
    "duration": 0,
    "start_time": "2024-03-20T15:30:27.962Z"
   },
   {
    "duration": 0,
    "start_time": "2024-03-20T15:30:27.964Z"
   },
   {
    "duration": 0,
    "start_time": "2024-03-20T15:30:27.966Z"
   },
   {
    "duration": 0,
    "start_time": "2024-03-20T15:30:27.967Z"
   },
   {
    "duration": 0,
    "start_time": "2024-03-20T15:30:27.968Z"
   },
   {
    "duration": 0,
    "start_time": "2024-03-20T15:30:27.970Z"
   },
   {
    "duration": 0,
    "start_time": "2024-03-20T15:30:27.972Z"
   },
   {
    "duration": 0,
    "start_time": "2024-03-20T15:30:27.974Z"
   },
   {
    "duration": 0,
    "start_time": "2024-03-20T15:30:27.975Z"
   },
   {
    "duration": 0,
    "start_time": "2024-03-20T15:30:27.976Z"
   },
   {
    "duration": 0,
    "start_time": "2024-03-20T15:30:27.978Z"
   },
   {
    "duration": 0,
    "start_time": "2024-03-20T15:30:27.980Z"
   },
   {
    "duration": 0,
    "start_time": "2024-03-20T15:30:27.981Z"
   },
   {
    "duration": 15,
    "start_time": "2024-03-20T15:30:57.000Z"
   },
   {
    "duration": 9,
    "start_time": "2024-03-20T15:31:02.755Z"
   },
   {
    "duration": 5,
    "start_time": "2024-03-20T15:31:07.417Z"
   },
   {
    "duration": 6,
    "start_time": "2024-03-20T15:32:01.374Z"
   },
   {
    "duration": 70,
    "start_time": "2024-03-20T15:32:09.867Z"
   },
   {
    "duration": 5,
    "start_time": "2024-03-20T15:32:09.939Z"
   },
   {
    "duration": 15,
    "start_time": "2024-03-20T15:32:09.945Z"
   },
   {
    "duration": 2,
    "start_time": "2024-03-20T15:32:09.962Z"
   },
   {
    "duration": 8,
    "start_time": "2024-03-20T15:32:09.966Z"
   },
   {
    "duration": 10,
    "start_time": "2024-03-20T15:32:09.975Z"
   },
   {
    "duration": 13,
    "start_time": "2024-03-20T15:32:09.987Z"
   },
   {
    "duration": 8,
    "start_time": "2024-03-20T15:32:10.002Z"
   },
   {
    "duration": 17,
    "start_time": "2024-03-20T15:32:10.012Z"
   },
   {
    "duration": 24,
    "start_time": "2024-03-20T15:32:10.032Z"
   },
   {
    "duration": 45,
    "start_time": "2024-03-20T15:32:10.057Z"
   },
   {
    "duration": 15,
    "start_time": "2024-03-20T15:32:10.104Z"
   },
   {
    "duration": 6,
    "start_time": "2024-03-20T15:32:10.121Z"
   },
   {
    "duration": 20,
    "start_time": "2024-03-20T15:32:10.129Z"
   },
   {
    "duration": 9,
    "start_time": "2024-03-20T15:32:10.150Z"
   },
   {
    "duration": 0,
    "start_time": "2024-03-20T15:32:10.160Z"
   },
   {
    "duration": 0,
    "start_time": "2024-03-20T15:32:10.162Z"
   },
   {
    "duration": 0,
    "start_time": "2024-03-20T15:32:10.163Z"
   },
   {
    "duration": 0,
    "start_time": "2024-03-20T15:32:10.164Z"
   },
   {
    "duration": 0,
    "start_time": "2024-03-20T15:32:10.165Z"
   },
   {
    "duration": 0,
    "start_time": "2024-03-20T15:32:10.166Z"
   },
   {
    "duration": 0,
    "start_time": "2024-03-20T15:32:10.173Z"
   },
   {
    "duration": 0,
    "start_time": "2024-03-20T15:32:10.174Z"
   },
   {
    "duration": 0,
    "start_time": "2024-03-20T15:32:10.175Z"
   },
   {
    "duration": 0,
    "start_time": "2024-03-20T15:32:10.175Z"
   },
   {
    "duration": 0,
    "start_time": "2024-03-20T15:32:10.177Z"
   },
   {
    "duration": 0,
    "start_time": "2024-03-20T15:32:10.178Z"
   },
   {
    "duration": 0,
    "start_time": "2024-03-20T15:32:10.179Z"
   },
   {
    "duration": 69,
    "start_time": "2024-03-20T15:32:25.892Z"
   },
   {
    "duration": 6,
    "start_time": "2024-03-20T15:32:25.963Z"
   },
   {
    "duration": 17,
    "start_time": "2024-03-20T15:32:25.970Z"
   },
   {
    "duration": 3,
    "start_time": "2024-03-20T15:32:25.990Z"
   },
   {
    "duration": 23,
    "start_time": "2024-03-20T15:32:25.995Z"
   },
   {
    "duration": 30,
    "start_time": "2024-03-20T15:32:26.019Z"
   },
   {
    "duration": 14,
    "start_time": "2024-03-20T15:32:26.051Z"
   },
   {
    "duration": 9,
    "start_time": "2024-03-20T15:32:26.067Z"
   },
   {
    "duration": 11,
    "start_time": "2024-03-20T15:32:26.078Z"
   },
   {
    "duration": 11,
    "start_time": "2024-03-20T15:32:26.093Z"
   },
   {
    "duration": 8,
    "start_time": "2024-03-20T15:32:26.105Z"
   },
   {
    "duration": 16,
    "start_time": "2024-03-20T15:32:26.114Z"
   },
   {
    "duration": 7,
    "start_time": "2024-03-20T15:32:26.131Z"
   },
   {
    "duration": 48,
    "start_time": "2024-03-20T15:32:26.139Z"
   },
   {
    "duration": 4,
    "start_time": "2024-03-20T15:32:26.189Z"
   },
   {
    "duration": 5,
    "start_time": "2024-03-20T15:32:26.195Z"
   },
   {
    "duration": 7,
    "start_time": "2024-03-20T15:32:26.202Z"
   },
   {
    "duration": 7,
    "start_time": "2024-03-20T15:32:26.211Z"
   },
   {
    "duration": 5,
    "start_time": "2024-03-20T15:32:26.220Z"
   },
   {
    "duration": 9,
    "start_time": "2024-03-20T15:32:26.227Z"
   },
   {
    "duration": 6,
    "start_time": "2024-03-20T15:32:26.274Z"
   },
   {
    "duration": 6,
    "start_time": "2024-03-20T15:32:26.282Z"
   },
   {
    "duration": 22,
    "start_time": "2024-03-20T15:32:26.290Z"
   },
   {
    "duration": 0,
    "start_time": "2024-03-20T15:32:26.313Z"
   },
   {
    "duration": 0,
    "start_time": "2024-03-20T15:32:26.315Z"
   },
   {
    "duration": 0,
    "start_time": "2024-03-20T15:32:26.317Z"
   },
   {
    "duration": 0,
    "start_time": "2024-03-20T15:32:26.320Z"
   },
   {
    "duration": 1,
    "start_time": "2024-03-20T15:32:26.321Z"
   },
   {
    "duration": 70,
    "start_time": "2024-03-20T15:32:50.598Z"
   },
   {
    "duration": 5,
    "start_time": "2024-03-20T15:32:50.670Z"
   },
   {
    "duration": 14,
    "start_time": "2024-03-20T15:32:50.677Z"
   },
   {
    "duration": 12,
    "start_time": "2024-03-20T15:32:50.693Z"
   },
   {
    "duration": 15,
    "start_time": "2024-03-20T15:32:50.706Z"
   },
   {
    "duration": 8,
    "start_time": "2024-03-20T15:32:50.723Z"
   },
   {
    "duration": 11,
    "start_time": "2024-03-20T15:32:50.732Z"
   },
   {
    "duration": 12,
    "start_time": "2024-03-20T15:32:50.745Z"
   },
   {
    "duration": 24,
    "start_time": "2024-03-20T15:32:50.759Z"
   },
   {
    "duration": 8,
    "start_time": "2024-03-20T15:32:50.785Z"
   },
   {
    "duration": 7,
    "start_time": "2024-03-20T15:32:50.794Z"
   },
   {
    "duration": 16,
    "start_time": "2024-03-20T15:32:50.802Z"
   },
   {
    "duration": 38,
    "start_time": "2024-03-20T15:32:50.819Z"
   },
   {
    "duration": 55,
    "start_time": "2024-03-20T15:32:50.858Z"
   },
   {
    "duration": 8,
    "start_time": "2024-03-20T15:32:50.915Z"
   },
   {
    "duration": 11,
    "start_time": "2024-03-20T15:32:50.925Z"
   },
   {
    "duration": 15,
    "start_time": "2024-03-20T15:32:50.937Z"
   },
   {
    "duration": 25,
    "start_time": "2024-03-20T15:32:50.953Z"
   },
   {
    "duration": 26,
    "start_time": "2024-03-20T15:32:50.980Z"
   },
   {
    "duration": 9,
    "start_time": "2024-03-20T15:32:51.007Z"
   },
   {
    "duration": 5,
    "start_time": "2024-03-20T15:32:51.017Z"
   },
   {
    "duration": 6,
    "start_time": "2024-03-20T15:32:51.023Z"
   },
   {
    "duration": 8,
    "start_time": "2024-03-20T15:32:51.030Z"
   },
   {
    "duration": 4,
    "start_time": "2024-03-20T15:32:51.040Z"
   },
   {
    "duration": 284,
    "start_time": "2024-03-20T15:32:51.046Z"
   },
   {
    "duration": 7,
    "start_time": "2024-03-20T15:32:51.332Z"
   },
   {
    "duration": 43,
    "start_time": "2024-03-20T15:32:51.341Z"
   },
   {
    "duration": 4,
    "start_time": "2024-03-20T15:32:51.388Z"
   },
   {
    "duration": 6,
    "start_time": "2024-03-20T15:33:22.000Z"
   },
   {
    "duration": 104,
    "start_time": "2024-03-21T18:08:57.359Z"
   },
   {
    "duration": 49,
    "start_time": "2024-03-21T18:09:09.540Z"
   },
   {
    "duration": 1780,
    "start_time": "2024-03-21T18:09:48.075Z"
   },
   {
    "duration": 7,
    "start_time": "2024-03-21T18:09:49.857Z"
   },
   {
    "duration": 28,
    "start_time": "2024-03-21T18:09:49.866Z"
   },
   {
    "duration": 14,
    "start_time": "2024-03-21T18:09:49.896Z"
   },
   {
    "duration": 8,
    "start_time": "2024-03-21T18:09:49.912Z"
   },
   {
    "duration": 11,
    "start_time": "2024-03-21T18:09:49.922Z"
   },
   {
    "duration": 13,
    "start_time": "2024-03-21T18:09:49.934Z"
   },
   {
    "duration": 10,
    "start_time": "2024-03-21T18:09:49.948Z"
   },
   {
    "duration": 11,
    "start_time": "2024-03-21T18:09:49.979Z"
   },
   {
    "duration": 33,
    "start_time": "2024-03-21T18:09:49.993Z"
   },
   {
    "duration": 12,
    "start_time": "2024-03-21T18:09:50.027Z"
   },
   {
    "duration": 24,
    "start_time": "2024-03-21T18:09:50.041Z"
   },
   {
    "duration": 25,
    "start_time": "2024-03-21T18:09:50.066Z"
   },
   {
    "duration": 17,
    "start_time": "2024-03-21T18:09:50.092Z"
   },
   {
    "duration": 5,
    "start_time": "2024-03-21T18:09:50.111Z"
   },
   {
    "duration": 17,
    "start_time": "2024-03-21T18:09:50.118Z"
   },
   {
    "duration": 30,
    "start_time": "2024-03-21T18:09:50.136Z"
   },
   {
    "duration": 24,
    "start_time": "2024-03-21T18:09:50.168Z"
   },
   {
    "duration": 7,
    "start_time": "2024-03-21T18:09:50.194Z"
   },
   {
    "duration": 15,
    "start_time": "2024-03-21T18:09:50.202Z"
   },
   {
    "duration": 32,
    "start_time": "2024-03-21T18:09:50.219Z"
   },
   {
    "duration": 7,
    "start_time": "2024-03-21T18:09:50.253Z"
   },
   {
    "duration": 9,
    "start_time": "2024-03-21T18:09:50.261Z"
   },
   {
    "duration": 11,
    "start_time": "2024-03-21T18:09:50.271Z"
   },
   {
    "duration": 263,
    "start_time": "2024-03-21T18:09:50.284Z"
   },
   {
    "duration": 7,
    "start_time": "2024-03-21T18:09:50.549Z"
   },
   {
    "duration": 349,
    "start_time": "2024-03-21T18:09:50.558Z"
   },
   {
    "duration": 4,
    "start_time": "2024-03-21T18:09:50.911Z"
   },
   {
    "duration": 96,
    "start_time": "2024-03-21T18:09:50.917Z"
   },
   {
    "duration": 341,
    "start_time": "2024-03-21T18:17:32.024Z"
   },
   {
    "duration": 368,
    "start_time": "2024-03-21T18:17:57.445Z"
   },
   {
    "duration": 69,
    "start_time": "2024-03-21T18:18:09.918Z"
   },
   {
    "duration": 5,
    "start_time": "2024-03-21T18:18:09.989Z"
   },
   {
    "duration": 30,
    "start_time": "2024-03-21T18:18:09.996Z"
   },
   {
    "duration": 22,
    "start_time": "2024-03-21T18:18:10.028Z"
   },
   {
    "duration": 40,
    "start_time": "2024-03-21T18:18:10.052Z"
   },
   {
    "duration": 26,
    "start_time": "2024-03-21T18:18:10.094Z"
   },
   {
    "duration": 21,
    "start_time": "2024-03-21T18:18:10.121Z"
   },
   {
    "duration": 10,
    "start_time": "2024-03-21T18:18:10.144Z"
   },
   {
    "duration": 20,
    "start_time": "2024-03-21T18:18:10.156Z"
   },
   {
    "duration": 9,
    "start_time": "2024-03-21T18:18:10.180Z"
   },
   {
    "duration": 13,
    "start_time": "2024-03-21T18:18:10.191Z"
   },
   {
    "duration": 37,
    "start_time": "2024-03-21T18:18:10.206Z"
   },
   {
    "duration": 23,
    "start_time": "2024-03-21T18:18:10.245Z"
   },
   {
    "duration": 32,
    "start_time": "2024-03-21T18:18:10.270Z"
   },
   {
    "duration": 26,
    "start_time": "2024-03-21T18:18:10.304Z"
   },
   {
    "duration": 12,
    "start_time": "2024-03-21T18:18:10.332Z"
   },
   {
    "duration": 33,
    "start_time": "2024-03-21T18:18:10.345Z"
   },
   {
    "duration": 28,
    "start_time": "2024-03-21T18:18:10.379Z"
   },
   {
    "duration": 22,
    "start_time": "2024-03-21T18:18:10.409Z"
   },
   {
    "duration": 16,
    "start_time": "2024-03-21T18:18:10.433Z"
   },
   {
    "duration": 19,
    "start_time": "2024-03-21T18:18:10.451Z"
   },
   {
    "duration": 29,
    "start_time": "2024-03-21T18:18:10.472Z"
   },
   {
    "duration": 29,
    "start_time": "2024-03-21T18:18:10.503Z"
   },
   {
    "duration": 14,
    "start_time": "2024-03-21T18:18:10.534Z"
   },
   {
    "duration": 257,
    "start_time": "2024-03-21T18:18:10.550Z"
   },
   {
    "duration": 6,
    "start_time": "2024-03-21T18:18:10.809Z"
   },
   {
    "duration": 317,
    "start_time": "2024-03-21T18:18:10.817Z"
   },
   {
    "duration": 4,
    "start_time": "2024-03-21T18:18:11.136Z"
   },
   {
    "duration": 20,
    "start_time": "2024-03-21T18:18:11.141Z"
   },
   {
    "duration": 291,
    "start_time": "2024-03-21T18:18:52.948Z"
   },
   {
    "duration": 337,
    "start_time": "2024-03-21T18:19:06.953Z"
   },
   {
    "duration": 1582,
    "start_time": "2024-03-21T18:21:56.748Z"
   },
   {
    "duration": 169,
    "start_time": "2024-03-21T18:22:28.200Z"
   },
   {
    "duration": 11,
    "start_time": "2024-03-21T18:23:38.400Z"
   },
   {
    "duration": 16,
    "start_time": "2024-03-21T18:24:09.810Z"
   },
   {
    "duration": 239,
    "start_time": "2024-03-21T18:24:49.981Z"
   },
   {
    "duration": 359,
    "start_time": "2024-03-21T18:25:01.568Z"
   },
   {
    "duration": 597,
    "start_time": "2024-03-21T18:26:41.738Z"
   },
   {
    "duration": 490,
    "start_time": "2024-03-21T18:27:14.357Z"
   },
   {
    "duration": 1516,
    "start_time": "2024-03-23T09:39:42.122Z"
   },
   {
    "duration": 8,
    "start_time": "2024-03-23T09:39:43.640Z"
   },
   {
    "duration": 20,
    "start_time": "2024-03-23T09:39:43.649Z"
   },
   {
    "duration": 17,
    "start_time": "2024-03-23T09:39:43.671Z"
   },
   {
    "duration": 7,
    "start_time": "2024-03-23T09:39:43.690Z"
   },
   {
    "duration": 10,
    "start_time": "2024-03-23T09:39:43.698Z"
   },
   {
    "duration": 16,
    "start_time": "2024-03-23T09:39:43.709Z"
   },
   {
    "duration": 26,
    "start_time": "2024-03-23T09:39:43.726Z"
   },
   {
    "duration": 19,
    "start_time": "2024-03-23T09:39:43.754Z"
   },
   {
    "duration": 20,
    "start_time": "2024-03-23T09:39:43.775Z"
   },
   {
    "duration": 11,
    "start_time": "2024-03-23T09:39:43.796Z"
   },
   {
    "duration": 24,
    "start_time": "2024-03-23T09:39:43.808Z"
   },
   {
    "duration": 24,
    "start_time": "2024-03-23T09:39:43.834Z"
   },
   {
    "duration": 15,
    "start_time": "2024-03-23T09:39:43.860Z"
   },
   {
    "duration": 8,
    "start_time": "2024-03-23T09:39:43.876Z"
   },
   {
    "duration": 14,
    "start_time": "2024-03-23T09:39:43.886Z"
   },
   {
    "duration": 6,
    "start_time": "2024-03-23T09:39:43.902Z"
   },
   {
    "duration": 9,
    "start_time": "2024-03-23T09:39:43.909Z"
   },
   {
    "duration": 9,
    "start_time": "2024-03-23T09:39:43.920Z"
   },
   {
    "duration": 15,
    "start_time": "2024-03-23T09:39:43.931Z"
   },
   {
    "duration": 5,
    "start_time": "2024-03-23T09:39:43.948Z"
   },
   {
    "duration": 15,
    "start_time": "2024-03-23T09:39:43.954Z"
   },
   {
    "duration": 7,
    "start_time": "2024-03-23T09:39:43.971Z"
   },
   {
    "duration": 9,
    "start_time": "2024-03-23T09:39:43.980Z"
   },
   {
    "duration": 224,
    "start_time": "2024-03-23T09:39:43.991Z"
   },
   {
    "duration": 6,
    "start_time": "2024-03-23T09:39:44.217Z"
   },
   {
    "duration": 443,
    "start_time": "2024-03-23T09:39:44.225Z"
   },
   {
    "duration": 4,
    "start_time": "2024-03-23T09:39:44.670Z"
   },
   {
    "duration": 103,
    "start_time": "2024-03-23T09:39:44.675Z"
   },
   {
    "duration": 69,
    "start_time": "2024-03-23T09:40:31.136Z"
   },
   {
    "duration": 57,
    "start_time": "2024-03-23T09:41:25.366Z"
   },
   {
    "duration": 66,
    "start_time": "2024-03-23T09:41:30.342Z"
   },
   {
    "duration": 5,
    "start_time": "2024-03-23T09:41:30.409Z"
   },
   {
    "duration": 75,
    "start_time": "2024-03-23T09:41:30.415Z"
   },
   {
    "duration": 76,
    "start_time": "2024-03-23T09:41:30.491Z"
   },
   {
    "duration": 193,
    "start_time": "2024-03-23T09:41:30.568Z"
   },
   {
    "duration": 118,
    "start_time": "2024-03-23T09:41:30.762Z"
   },
   {
    "duration": 53,
    "start_time": "2024-03-23T09:41:30.881Z"
   },
   {
    "duration": 44,
    "start_time": "2024-03-23T09:41:30.935Z"
   },
   {
    "duration": 50,
    "start_time": "2024-03-23T09:41:30.980Z"
   },
   {
    "duration": 46,
    "start_time": "2024-03-23T09:41:31.033Z"
   },
   {
    "duration": 16,
    "start_time": "2024-03-23T09:41:31.080Z"
   },
   {
    "duration": 27,
    "start_time": "2024-03-23T09:41:31.098Z"
   },
   {
    "duration": 25,
    "start_time": "2024-03-23T09:41:31.127Z"
   },
   {
    "duration": 37,
    "start_time": "2024-03-23T09:41:31.154Z"
   },
   {
    "duration": 13,
    "start_time": "2024-03-23T09:41:31.193Z"
   },
   {
    "duration": 32,
    "start_time": "2024-03-23T09:41:31.208Z"
   },
   {
    "duration": 27,
    "start_time": "2024-03-23T09:41:31.242Z"
   },
   {
    "duration": 32,
    "start_time": "2024-03-23T09:41:31.271Z"
   },
   {
    "duration": 25,
    "start_time": "2024-03-23T09:41:31.305Z"
   },
   {
    "duration": 46,
    "start_time": "2024-03-23T09:41:31.332Z"
   },
   {
    "duration": 22,
    "start_time": "2024-03-23T09:41:31.380Z"
   },
   {
    "duration": 53,
    "start_time": "2024-03-23T09:41:31.405Z"
   },
   {
    "duration": 44,
    "start_time": "2024-03-23T09:41:31.460Z"
   },
   {
    "duration": 32,
    "start_time": "2024-03-23T09:41:31.506Z"
   },
   {
    "duration": 217,
    "start_time": "2024-03-23T09:41:31.540Z"
   },
   {
    "duration": 5,
    "start_time": "2024-03-23T09:41:31.759Z"
   },
   {
    "duration": 494,
    "start_time": "2024-03-23T09:41:31.765Z"
   },
   {
    "duration": 63,
    "start_time": "2024-03-23T09:41:32.261Z"
   },
   {
    "duration": 0,
    "start_time": "2024-03-23T09:41:32.325Z"
   },
   {
    "duration": 61,
    "start_time": "2024-03-23T09:43:49.013Z"
   },
   {
    "duration": 4,
    "start_time": "2024-03-23T09:44:27.737Z"
   },
   {
    "duration": 64,
    "start_time": "2024-03-23T09:45:05.080Z"
   },
   {
    "duration": 64,
    "start_time": "2024-03-23T09:45:30.055Z"
   },
   {
    "duration": 72,
    "start_time": "2024-03-23T09:45:52.605Z"
   },
   {
    "duration": 57,
    "start_time": "2024-03-23T09:46:06.413Z"
   },
   {
    "duration": 61,
    "start_time": "2024-03-23T09:46:32.243Z"
   },
   {
    "duration": 63,
    "start_time": "2024-03-23T09:46:55.347Z"
   },
   {
    "duration": 6,
    "start_time": "2024-03-23T09:46:55.412Z"
   },
   {
    "duration": 14,
    "start_time": "2024-03-23T09:46:55.419Z"
   },
   {
    "duration": 5,
    "start_time": "2024-03-23T09:46:55.435Z"
   },
   {
    "duration": 16,
    "start_time": "2024-03-23T09:46:55.441Z"
   },
   {
    "duration": 9,
    "start_time": "2024-03-23T09:46:55.458Z"
   },
   {
    "duration": 13,
    "start_time": "2024-03-23T09:46:55.469Z"
   },
   {
    "duration": 17,
    "start_time": "2024-03-23T09:46:55.484Z"
   },
   {
    "duration": 8,
    "start_time": "2024-03-23T09:46:55.502Z"
   },
   {
    "duration": 7,
    "start_time": "2024-03-23T09:46:55.513Z"
   },
   {
    "duration": 6,
    "start_time": "2024-03-23T09:46:55.521Z"
   },
   {
    "duration": 8,
    "start_time": "2024-03-23T09:46:55.545Z"
   },
   {
    "duration": 6,
    "start_time": "2024-03-23T09:46:55.554Z"
   },
   {
    "duration": 11,
    "start_time": "2024-03-23T09:46:55.561Z"
   },
   {
    "duration": 4,
    "start_time": "2024-03-23T09:46:55.573Z"
   },
   {
    "duration": 11,
    "start_time": "2024-03-23T09:46:55.578Z"
   },
   {
    "duration": 6,
    "start_time": "2024-03-23T09:46:55.590Z"
   },
   {
    "duration": 10,
    "start_time": "2024-03-23T09:46:55.598Z"
   },
   {
    "duration": 35,
    "start_time": "2024-03-23T09:46:55.610Z"
   },
   {
    "duration": 15,
    "start_time": "2024-03-23T09:46:55.647Z"
   },
   {
    "duration": 14,
    "start_time": "2024-03-23T09:46:55.663Z"
   },
   {
    "duration": 15,
    "start_time": "2024-03-23T09:46:55.678Z"
   },
   {
    "duration": 26,
    "start_time": "2024-03-23T09:46:55.694Z"
   },
   {
    "duration": 4,
    "start_time": "2024-03-23T09:46:55.722Z"
   },
   {
    "duration": 199,
    "start_time": "2024-03-23T09:46:55.727Z"
   },
   {
    "duration": 5,
    "start_time": "2024-03-23T09:46:55.927Z"
   },
   {
    "duration": 448,
    "start_time": "2024-03-23T09:46:55.944Z"
   },
   {
    "duration": 80,
    "start_time": "2024-03-23T09:46:56.395Z"
   },
   {
    "duration": 0,
    "start_time": "2024-03-23T09:46:56.476Z"
   },
   {
    "duration": 58,
    "start_time": "2024-03-23T09:47:34.062Z"
   },
   {
    "duration": 65,
    "start_time": "2024-03-23T09:48:47.811Z"
   },
   {
    "duration": 8,
    "start_time": "2024-03-23T09:48:57.082Z"
   },
   {
    "duration": 318,
    "start_time": "2024-03-23T09:51:59.597Z"
   },
   {
    "duration": 66,
    "start_time": "2024-03-23T09:53:00.134Z"
   },
   {
    "duration": 35,
    "start_time": "2024-03-23T09:53:00.201Z"
   },
   {
    "duration": 214,
    "start_time": "2024-03-23T09:53:00.237Z"
   },
   {
    "duration": 112,
    "start_time": "2024-03-23T09:53:00.454Z"
   },
   {
    "duration": 49,
    "start_time": "2024-03-23T09:53:00.567Z"
   },
   {
    "duration": 46,
    "start_time": "2024-03-23T09:53:00.618Z"
   },
   {
    "duration": 52,
    "start_time": "2024-03-23T09:53:00.665Z"
   },
   {
    "duration": 55,
    "start_time": "2024-03-23T09:53:00.718Z"
   },
   {
    "duration": 84,
    "start_time": "2024-03-23T09:53:00.774Z"
   },
   {
    "duration": 64,
    "start_time": "2024-03-23T09:53:00.861Z"
   },
   {
    "duration": 44,
    "start_time": "2024-03-23T09:53:00.926Z"
   },
   {
    "duration": 47,
    "start_time": "2024-03-23T09:53:00.972Z"
   },
   {
    "duration": 32,
    "start_time": "2024-03-23T09:53:01.020Z"
   },
   {
    "duration": 50,
    "start_time": "2024-03-23T09:53:01.054Z"
   },
   {
    "duration": 29,
    "start_time": "2024-03-23T09:53:01.106Z"
   },
   {
    "duration": 40,
    "start_time": "2024-03-23T09:53:01.137Z"
   },
   {
    "duration": 36,
    "start_time": "2024-03-23T09:53:01.179Z"
   },
   {
    "duration": 66,
    "start_time": "2024-03-23T09:53:01.216Z"
   },
   {
    "duration": 53,
    "start_time": "2024-03-23T09:53:01.284Z"
   },
   {
    "duration": 46,
    "start_time": "2024-03-23T09:53:01.338Z"
   },
   {
    "duration": 55,
    "start_time": "2024-03-23T09:53:01.385Z"
   },
   {
    "duration": 111,
    "start_time": "2024-03-23T09:53:01.442Z"
   },
   {
    "duration": 175,
    "start_time": "2024-03-23T09:53:01.557Z"
   },
   {
    "duration": 70,
    "start_time": "2024-03-23T09:53:01.733Z"
   },
   {
    "duration": 242,
    "start_time": "2024-03-23T09:53:01.805Z"
   },
   {
    "duration": 6,
    "start_time": "2024-03-23T09:53:02.052Z"
   },
   {
    "duration": 373,
    "start_time": "2024-03-23T09:53:02.061Z"
   },
   {
    "duration": 17,
    "start_time": "2024-03-23T09:53:02.437Z"
   },
   {
    "duration": 0,
    "start_time": "2024-03-23T09:53:02.455Z"
   },
   {
    "duration": 73,
    "start_time": "2024-03-23T09:54:12.128Z"
   },
   {
    "duration": 65,
    "start_time": "2024-03-23T10:02:39.942Z"
   },
   {
    "duration": 33,
    "start_time": "2024-03-23T10:03:11.543Z"
   },
   {
    "duration": 18,
    "start_time": "2024-03-23T10:04:01.534Z"
   },
   {
    "duration": 4,
    "start_time": "2024-03-23T10:04:25.193Z"
   },
   {
    "duration": 5,
    "start_time": "2024-03-23T10:04:33.150Z"
   },
   {
    "duration": 5,
    "start_time": "2024-03-23T10:05:45.246Z"
   },
   {
    "duration": 17,
    "start_time": "2024-03-23T10:06:46.345Z"
   },
   {
    "duration": 66,
    "start_time": "2024-03-23T10:11:22.181Z"
   },
   {
    "duration": 10,
    "start_time": "2024-03-23T10:11:22.249Z"
   },
   {
    "duration": 28,
    "start_time": "2024-03-23T10:11:22.262Z"
   },
   {
    "duration": 13,
    "start_time": "2024-03-23T10:11:22.291Z"
   },
   {
    "duration": 22,
    "start_time": "2024-03-23T10:11:22.305Z"
   },
   {
    "duration": 24,
    "start_time": "2024-03-23T10:11:22.328Z"
   },
   {
    "duration": 29,
    "start_time": "2024-03-23T10:11:22.354Z"
   },
   {
    "duration": 15,
    "start_time": "2024-03-23T10:11:22.385Z"
   },
   {
    "duration": 20,
    "start_time": "2024-03-23T10:11:22.401Z"
   },
   {
    "duration": 36,
    "start_time": "2024-03-23T10:11:22.424Z"
   },
   {
    "duration": 20,
    "start_time": "2024-03-23T10:11:22.462Z"
   },
   {
    "duration": 37,
    "start_time": "2024-03-23T10:11:22.483Z"
   },
   {
    "duration": 37,
    "start_time": "2024-03-23T10:11:22.522Z"
   },
   {
    "duration": 34,
    "start_time": "2024-03-23T10:11:22.561Z"
   },
   {
    "duration": 8,
    "start_time": "2024-03-23T10:11:22.596Z"
   },
   {
    "duration": 23,
    "start_time": "2024-03-23T10:11:22.605Z"
   },
   {
    "duration": 16,
    "start_time": "2024-03-23T10:11:22.630Z"
   },
   {
    "duration": 25,
    "start_time": "2024-03-23T10:11:22.648Z"
   },
   {
    "duration": 19,
    "start_time": "2024-03-23T10:11:22.674Z"
   },
   {
    "duration": 18,
    "start_time": "2024-03-23T10:11:22.695Z"
   },
   {
    "duration": 10,
    "start_time": "2024-03-23T10:11:22.715Z"
   },
   {
    "duration": 28,
    "start_time": "2024-03-23T10:11:22.727Z"
   },
   {
    "duration": 22,
    "start_time": "2024-03-23T10:11:22.757Z"
   },
   {
    "duration": 19,
    "start_time": "2024-03-23T10:11:22.781Z"
   },
   {
    "duration": 238,
    "start_time": "2024-03-23T10:11:22.802Z"
   },
   {
    "duration": 8,
    "start_time": "2024-03-23T10:11:23.041Z"
   },
   {
    "duration": 319,
    "start_time": "2024-03-23T10:11:23.051Z"
   },
   {
    "duration": 3,
    "start_time": "2024-03-23T10:11:23.373Z"
   },
   {
    "duration": 15,
    "start_time": "2024-03-23T10:11:23.378Z"
   },
   {
    "duration": 15,
    "start_time": "2024-03-23T10:11:23.394Z"
   },
   {
    "duration": 346,
    "start_time": "2024-03-23T10:14:50.646Z"
   },
   {
    "duration": 430,
    "start_time": "2024-03-23T10:23:56.247Z"
   },
   {
    "duration": 132,
    "start_time": "2024-03-23T10:24:29.183Z"
   },
   {
    "duration": 435,
    "start_time": "2024-03-23T10:27:15.545Z"
   },
   {
    "duration": 64,
    "start_time": "2024-03-23T10:27:43.928Z"
   },
   {
    "duration": 5,
    "start_time": "2024-03-23T10:27:43.994Z"
   },
   {
    "duration": 12,
    "start_time": "2024-03-23T10:27:44.001Z"
   },
   {
    "duration": 8,
    "start_time": "2024-03-23T10:27:44.014Z"
   },
   {
    "duration": 9,
    "start_time": "2024-03-23T10:27:44.024Z"
   },
   {
    "duration": 10,
    "start_time": "2024-03-23T10:27:44.036Z"
   },
   {
    "duration": 14,
    "start_time": "2024-03-23T10:27:44.047Z"
   },
   {
    "duration": 19,
    "start_time": "2024-03-23T10:27:44.063Z"
   },
   {
    "duration": 9,
    "start_time": "2024-03-23T10:27:44.085Z"
   },
   {
    "duration": 9,
    "start_time": "2024-03-23T10:27:44.096Z"
   },
   {
    "duration": 12,
    "start_time": "2024-03-23T10:27:44.106Z"
   },
   {
    "duration": 40,
    "start_time": "2024-03-23T10:27:44.120Z"
   },
   {
    "duration": 11,
    "start_time": "2024-03-23T10:27:44.162Z"
   },
   {
    "duration": 29,
    "start_time": "2024-03-23T10:27:44.175Z"
   },
   {
    "duration": 5,
    "start_time": "2024-03-23T10:27:44.206Z"
   },
   {
    "duration": 8,
    "start_time": "2024-03-23T10:27:44.213Z"
   },
   {
    "duration": 9,
    "start_time": "2024-03-23T10:27:44.223Z"
   },
   {
    "duration": 13,
    "start_time": "2024-03-23T10:27:44.233Z"
   },
   {
    "duration": 13,
    "start_time": "2024-03-23T10:27:44.247Z"
   },
   {
    "duration": 16,
    "start_time": "2024-03-23T10:27:44.262Z"
   },
   {
    "duration": 8,
    "start_time": "2024-03-23T10:27:44.280Z"
   },
   {
    "duration": 18,
    "start_time": "2024-03-23T10:27:44.290Z"
   },
   {
    "duration": 20,
    "start_time": "2024-03-23T10:27:44.310Z"
   },
   {
    "duration": 6,
    "start_time": "2024-03-23T10:27:44.331Z"
   },
   {
    "duration": 231,
    "start_time": "2024-03-23T10:27:44.344Z"
   },
   {
    "duration": 5,
    "start_time": "2024-03-23T10:27:44.577Z"
   },
   {
    "duration": 371,
    "start_time": "2024-03-23T10:27:44.584Z"
   },
   {
    "duration": 0,
    "start_time": "2024-03-23T10:27:44.957Z"
   },
   {
    "duration": 0,
    "start_time": "2024-03-23T10:27:44.958Z"
   },
   {
    "duration": 0,
    "start_time": "2024-03-23T10:27:44.959Z"
   },
   {
    "duration": 60,
    "start_time": "2024-03-23T10:28:22.628Z"
   },
   {
    "duration": 492,
    "start_time": "2024-03-23T10:28:29.043Z"
   },
   {
    "duration": 65,
    "start_time": "2024-03-23T10:29:11.430Z"
   },
   {
    "duration": 5,
    "start_time": "2024-03-23T10:29:11.497Z"
   },
   {
    "duration": 14,
    "start_time": "2024-03-23T10:29:11.504Z"
   },
   {
    "duration": 3,
    "start_time": "2024-03-23T10:29:11.520Z"
   },
   {
    "duration": 18,
    "start_time": "2024-03-23T10:29:11.524Z"
   },
   {
    "duration": 15,
    "start_time": "2024-03-23T10:29:11.544Z"
   },
   {
    "duration": 41,
    "start_time": "2024-03-23T10:29:11.561Z"
   },
   {
    "duration": 31,
    "start_time": "2024-03-23T10:29:11.604Z"
   },
   {
    "duration": 22,
    "start_time": "2024-03-23T10:29:11.636Z"
   },
   {
    "duration": 21,
    "start_time": "2024-03-23T10:29:11.662Z"
   },
   {
    "duration": 19,
    "start_time": "2024-03-23T10:29:11.685Z"
   },
   {
    "duration": 26,
    "start_time": "2024-03-23T10:29:11.706Z"
   },
   {
    "duration": 28,
    "start_time": "2024-03-23T10:29:11.735Z"
   },
   {
    "duration": 37,
    "start_time": "2024-03-23T10:29:11.765Z"
   },
   {
    "duration": 4,
    "start_time": "2024-03-23T10:29:11.804Z"
   },
   {
    "duration": 17,
    "start_time": "2024-03-23T10:29:11.809Z"
   },
   {
    "duration": 48,
    "start_time": "2024-03-23T10:29:11.828Z"
   },
   {
    "duration": 45,
    "start_time": "2024-03-23T10:29:11.878Z"
   },
   {
    "duration": 28,
    "start_time": "2024-03-23T10:29:11.926Z"
   },
   {
    "duration": 28,
    "start_time": "2024-03-23T10:29:11.956Z"
   },
   {
    "duration": 36,
    "start_time": "2024-03-23T10:29:11.985Z"
   },
   {
    "duration": 16,
    "start_time": "2024-03-23T10:29:12.022Z"
   },
   {
    "duration": 31,
    "start_time": "2024-03-23T10:29:12.040Z"
   },
   {
    "duration": 24,
    "start_time": "2024-03-23T10:29:12.074Z"
   },
   {
    "duration": 212,
    "start_time": "2024-03-23T10:29:12.100Z"
   },
   {
    "duration": 5,
    "start_time": "2024-03-23T10:29:12.314Z"
   },
   {
    "duration": 564,
    "start_time": "2024-03-23T10:29:12.321Z"
   },
   {
    "duration": 3,
    "start_time": "2024-03-23T10:29:12.889Z"
   },
   {
    "duration": 7,
    "start_time": "2024-03-23T10:29:12.894Z"
   },
   {
    "duration": 10,
    "start_time": "2024-03-23T10:29:12.903Z"
   },
   {
    "duration": 6,
    "start_time": "2024-03-23T10:31:24.092Z"
   },
   {
    "duration": 4,
    "start_time": "2024-03-23T10:32:13.096Z"
   },
   {
    "duration": 6,
    "start_time": "2024-03-23T10:32:55.578Z"
   },
   {
    "duration": 6,
    "start_time": "2024-03-23T10:33:10.084Z"
   },
   {
    "duration": 6,
    "start_time": "2024-03-23T10:33:26.091Z"
   },
   {
    "duration": 4,
    "start_time": "2024-03-23T10:33:33.794Z"
   },
   {
    "duration": 68,
    "start_time": "2024-03-23T10:33:40.548Z"
   },
   {
    "duration": 5,
    "start_time": "2024-03-23T10:33:40.617Z"
   },
   {
    "duration": 15,
    "start_time": "2024-03-23T10:33:40.624Z"
   },
   {
    "duration": 3,
    "start_time": "2024-03-23T10:33:40.641Z"
   },
   {
    "duration": 13,
    "start_time": "2024-03-23T10:33:40.646Z"
   },
   {
    "duration": 45,
    "start_time": "2024-03-23T10:33:40.661Z"
   },
   {
    "duration": 11,
    "start_time": "2024-03-23T10:33:40.708Z"
   },
   {
    "duration": 9,
    "start_time": "2024-03-23T10:33:40.721Z"
   },
   {
    "duration": 7,
    "start_time": "2024-03-23T10:33:40.731Z"
   },
   {
    "duration": 8,
    "start_time": "2024-03-23T10:33:40.740Z"
   },
   {
    "duration": 7,
    "start_time": "2024-03-23T10:33:40.749Z"
   },
   {
    "duration": 16,
    "start_time": "2024-03-23T10:33:40.757Z"
   },
   {
    "duration": 5,
    "start_time": "2024-03-23T10:33:40.775Z"
   },
   {
    "duration": 18,
    "start_time": "2024-03-23T10:33:40.783Z"
   },
   {
    "duration": 5,
    "start_time": "2024-03-23T10:33:40.803Z"
   },
   {
    "duration": 36,
    "start_time": "2024-03-23T10:33:40.810Z"
   },
   {
    "duration": 6,
    "start_time": "2024-03-23T10:33:40.847Z"
   },
   {
    "duration": 9,
    "start_time": "2024-03-23T10:33:40.854Z"
   },
   {
    "duration": 5,
    "start_time": "2024-03-23T10:33:40.865Z"
   },
   {
    "duration": 6,
    "start_time": "2024-03-23T10:33:40.872Z"
   },
   {
    "duration": 20,
    "start_time": "2024-03-23T10:33:40.879Z"
   },
   {
    "duration": 17,
    "start_time": "2024-03-23T10:33:40.900Z"
   },
   {
    "duration": 7,
    "start_time": "2024-03-23T10:33:40.918Z"
   },
   {
    "duration": 22,
    "start_time": "2024-03-23T10:33:40.926Z"
   },
   {
    "duration": 208,
    "start_time": "2024-03-23T10:33:40.950Z"
   },
   {
    "duration": 6,
    "start_time": "2024-03-23T10:33:41.159Z"
   },
   {
    "duration": 489,
    "start_time": "2024-03-23T10:33:41.167Z"
   },
   {
    "duration": 3,
    "start_time": "2024-03-23T10:33:41.660Z"
   },
   {
    "duration": 4,
    "start_time": "2024-03-23T10:33:41.666Z"
   },
   {
    "duration": 6,
    "start_time": "2024-03-23T10:33:41.672Z"
   },
   {
    "duration": 5,
    "start_time": "2024-03-23T10:33:41.679Z"
   },
   {
    "duration": 9,
    "start_time": "2024-03-23T10:33:41.685Z"
   },
   {
    "duration": 5,
    "start_time": "2024-03-23T10:33:52.550Z"
   },
   {
    "duration": 7,
    "start_time": "2024-03-23T10:34:15.592Z"
   },
   {
    "duration": 4,
    "start_time": "2024-03-23T11:49:17.782Z"
   },
   {
    "duration": 73,
    "start_time": "2024-03-23T11:49:42.038Z"
   },
   {
    "duration": 62,
    "start_time": "2024-03-23T11:50:25.976Z"
   },
   {
    "duration": 136,
    "start_time": "2024-03-23T11:51:03.195Z"
   },
   {
    "duration": 82,
    "start_time": "2024-03-23T11:52:24.658Z"
   },
   {
    "duration": 6,
    "start_time": "2024-03-23T11:52:24.742Z"
   },
   {
    "duration": 23,
    "start_time": "2024-03-23T11:52:24.750Z"
   },
   {
    "duration": 4,
    "start_time": "2024-03-23T11:52:24.776Z"
   },
   {
    "duration": 23,
    "start_time": "2024-03-23T11:52:24.782Z"
   },
   {
    "duration": 10,
    "start_time": "2024-03-23T11:52:24.806Z"
   },
   {
    "duration": 26,
    "start_time": "2024-03-23T11:52:24.817Z"
   },
   {
    "duration": 19,
    "start_time": "2024-03-23T11:52:24.845Z"
   },
   {
    "duration": 10,
    "start_time": "2024-03-23T11:52:24.866Z"
   },
   {
    "duration": 8,
    "start_time": "2024-03-23T11:52:24.879Z"
   },
   {
    "duration": 7,
    "start_time": "2024-03-23T11:52:24.889Z"
   },
   {
    "duration": 23,
    "start_time": "2024-03-23T11:52:24.898Z"
   },
   {
    "duration": 8,
    "start_time": "2024-03-23T11:52:24.923Z"
   },
   {
    "duration": 29,
    "start_time": "2024-03-23T11:52:24.933Z"
   },
   {
    "duration": 4,
    "start_time": "2024-03-23T11:52:24.964Z"
   },
   {
    "duration": 24,
    "start_time": "2024-03-23T11:52:24.969Z"
   },
   {
    "duration": 24,
    "start_time": "2024-03-23T11:52:24.995Z"
   },
   {
    "duration": 42,
    "start_time": "2024-03-23T11:52:25.020Z"
   },
   {
    "duration": 28,
    "start_time": "2024-03-23T11:52:25.066Z"
   },
   {
    "duration": 17,
    "start_time": "2024-03-23T11:52:25.096Z"
   },
   {
    "duration": 16,
    "start_time": "2024-03-23T11:52:25.115Z"
   },
   {
    "duration": 15,
    "start_time": "2024-03-23T11:52:25.132Z"
   },
   {
    "duration": 17,
    "start_time": "2024-03-23T11:52:25.149Z"
   },
   {
    "duration": 26,
    "start_time": "2024-03-23T11:52:25.167Z"
   },
   {
    "duration": 215,
    "start_time": "2024-03-23T11:52:25.194Z"
   },
   {
    "duration": 6,
    "start_time": "2024-03-23T11:52:25.410Z"
   },
   {
    "duration": 289,
    "start_time": "2024-03-23T11:52:25.418Z"
   },
   {
    "duration": 0,
    "start_time": "2024-03-23T11:52:25.708Z"
   },
   {
    "duration": 0,
    "start_time": "2024-03-23T11:52:25.710Z"
   },
   {
    "duration": 0,
    "start_time": "2024-03-23T11:52:25.711Z"
   },
   {
    "duration": 0,
    "start_time": "2024-03-23T11:52:25.712Z"
   },
   {
    "duration": 0,
    "start_time": "2024-03-23T11:52:25.713Z"
   },
   {
    "duration": 133,
    "start_time": "2024-03-23T11:52:48.087Z"
   },
   {
    "duration": 133,
    "start_time": "2024-03-23T11:53:08.359Z"
   },
   {
    "duration": 164,
    "start_time": "2024-03-23T11:53:48.543Z"
   },
   {
    "duration": 170,
    "start_time": "2024-03-23T11:54:15.045Z"
   },
   {
    "duration": 66,
    "start_time": "2024-03-23T11:54:34.995Z"
   },
   {
    "duration": 9,
    "start_time": "2024-03-23T11:54:35.063Z"
   },
   {
    "duration": 11,
    "start_time": "2024-03-23T11:54:35.073Z"
   },
   {
    "duration": 6,
    "start_time": "2024-03-23T11:54:35.086Z"
   },
   {
    "duration": 9,
    "start_time": "2024-03-23T11:54:35.093Z"
   },
   {
    "duration": 7,
    "start_time": "2024-03-23T11:54:35.103Z"
   },
   {
    "duration": 24,
    "start_time": "2024-03-23T11:54:35.111Z"
   },
   {
    "duration": 22,
    "start_time": "2024-03-23T11:54:35.137Z"
   },
   {
    "duration": 7,
    "start_time": "2024-03-23T11:54:35.161Z"
   },
   {
    "duration": 6,
    "start_time": "2024-03-23T11:54:35.170Z"
   },
   {
    "duration": 9,
    "start_time": "2024-03-23T11:54:35.178Z"
   },
   {
    "duration": 8,
    "start_time": "2024-03-23T11:54:35.189Z"
   },
   {
    "duration": 12,
    "start_time": "2024-03-23T11:54:35.198Z"
   },
   {
    "duration": 22,
    "start_time": "2024-03-23T11:54:35.211Z"
   },
   {
    "duration": 13,
    "start_time": "2024-03-23T11:54:35.234Z"
   },
   {
    "duration": 12,
    "start_time": "2024-03-23T11:54:35.248Z"
   },
   {
    "duration": 8,
    "start_time": "2024-03-23T11:54:35.261Z"
   },
   {
    "duration": 8,
    "start_time": "2024-03-23T11:54:35.271Z"
   },
   {
    "duration": 8,
    "start_time": "2024-03-23T11:54:35.281Z"
   },
   {
    "duration": 13,
    "start_time": "2024-03-23T11:54:35.290Z"
   },
   {
    "duration": 16,
    "start_time": "2024-03-23T11:54:35.304Z"
   },
   {
    "duration": 14,
    "start_time": "2024-03-23T11:54:35.321Z"
   },
   {
    "duration": 9,
    "start_time": "2024-03-23T11:54:35.337Z"
   },
   {
    "duration": 4,
    "start_time": "2024-03-23T11:54:35.348Z"
   },
   {
    "duration": 226,
    "start_time": "2024-03-23T11:54:35.353Z"
   },
   {
    "duration": 131,
    "start_time": "2024-03-23T11:54:40.096Z"
   },
   {
    "duration": 136,
    "start_time": "2024-03-23T11:56:00.285Z"
   },
   {
    "duration": 132,
    "start_time": "2024-03-23T11:56:40.181Z"
   },
   {
    "duration": 71,
    "start_time": "2024-03-23T11:58:08.986Z"
   },
   {
    "duration": 72,
    "start_time": "2024-03-23T11:58:11.927Z"
   },
   {
    "duration": 5,
    "start_time": "2024-03-23T11:58:12.000Z"
   },
   {
    "duration": 18,
    "start_time": "2024-03-23T11:58:12.007Z"
   },
   {
    "duration": 4,
    "start_time": "2024-03-23T11:58:12.027Z"
   },
   {
    "duration": 7,
    "start_time": "2024-03-23T11:58:12.032Z"
   },
   {
    "duration": 9,
    "start_time": "2024-03-23T11:58:12.041Z"
   },
   {
    "duration": 13,
    "start_time": "2024-03-23T11:58:12.052Z"
   },
   {
    "duration": 11,
    "start_time": "2024-03-23T11:58:12.068Z"
   },
   {
    "duration": 9,
    "start_time": "2024-03-23T11:58:12.081Z"
   },
   {
    "duration": 8,
    "start_time": "2024-03-23T11:58:12.093Z"
   },
   {
    "duration": 59,
    "start_time": "2024-03-23T11:58:12.103Z"
   },
   {
    "duration": 12,
    "start_time": "2024-03-23T11:58:12.164Z"
   },
   {
    "duration": 7,
    "start_time": "2024-03-23T11:58:12.177Z"
   },
   {
    "duration": 15,
    "start_time": "2024-03-23T11:58:12.185Z"
   },
   {
    "duration": 5,
    "start_time": "2024-03-23T11:58:12.202Z"
   },
   {
    "duration": 5,
    "start_time": "2024-03-23T11:58:12.208Z"
   },
   {
    "duration": 6,
    "start_time": "2024-03-23T11:58:12.215Z"
   },
   {
    "duration": 26,
    "start_time": "2024-03-23T11:58:12.223Z"
   },
   {
    "duration": 9,
    "start_time": "2024-03-23T11:58:12.250Z"
   },
   {
    "duration": 17,
    "start_time": "2024-03-23T11:58:12.261Z"
   },
   {
    "duration": 4,
    "start_time": "2024-03-23T11:58:12.280Z"
   },
   {
    "duration": 5,
    "start_time": "2024-03-23T11:58:12.286Z"
   },
   {
    "duration": 9,
    "start_time": "2024-03-23T11:58:12.292Z"
   },
   {
    "duration": 8,
    "start_time": "2024-03-23T11:58:12.302Z"
   },
   {
    "duration": 271,
    "start_time": "2024-03-23T11:58:12.311Z"
   },
   {
    "duration": 6,
    "start_time": "2024-03-23T11:58:12.584Z"
   },
   {
    "duration": 180,
    "start_time": "2024-03-23T11:58:12.594Z"
   },
   {
    "duration": 0,
    "start_time": "2024-03-23T11:58:12.776Z"
   },
   {
    "duration": 0,
    "start_time": "2024-03-23T11:58:12.778Z"
   },
   {
    "duration": 0,
    "start_time": "2024-03-23T11:58:12.779Z"
   },
   {
    "duration": 0,
    "start_time": "2024-03-23T11:58:12.781Z"
   },
   {
    "duration": 0,
    "start_time": "2024-03-23T11:58:12.785Z"
   },
   {
    "duration": 85,
    "start_time": "2024-03-23T11:58:45.721Z"
   },
   {
    "duration": 146,
    "start_time": "2024-03-23T11:59:10.757Z"
   },
   {
    "duration": 150,
    "start_time": "2024-03-23T11:59:23.872Z"
   },
   {
    "duration": 93,
    "start_time": "2024-03-23T11:59:30.607Z"
   },
   {
    "duration": 173,
    "start_time": "2024-03-23T12:25:36.202Z"
   },
   {
    "duration": 139,
    "start_time": "2024-03-23T12:25:58.495Z"
   },
   {
    "duration": 196,
    "start_time": "2024-03-23T12:26:21.430Z"
   },
   {
    "duration": 119,
    "start_time": "2024-03-23T12:26:36.977Z"
   },
   {
    "duration": 152,
    "start_time": "2024-03-23T12:26:50.064Z"
   },
   {
    "duration": 197,
    "start_time": "2024-03-23T12:28:47.129Z"
   },
   {
    "duration": 162,
    "start_time": "2024-03-23T12:29:53.479Z"
   },
   {
    "duration": 283,
    "start_time": "2024-03-23T14:18:28.131Z"
   },
   {
    "duration": 175,
    "start_time": "2024-03-23T14:19:00.137Z"
   },
   {
    "duration": 122,
    "start_time": "2024-03-23T14:19:20.091Z"
   },
   {
    "duration": 163,
    "start_time": "2024-03-23T14:19:58.557Z"
   },
   {
    "duration": 65,
    "start_time": "2024-03-23T14:52:49.372Z"
   },
   {
    "duration": 5,
    "start_time": "2024-03-23T14:52:49.439Z"
   },
   {
    "duration": 11,
    "start_time": "2024-03-23T14:52:49.445Z"
   },
   {
    "duration": 3,
    "start_time": "2024-03-23T14:52:49.458Z"
   },
   {
    "duration": 11,
    "start_time": "2024-03-23T14:52:49.462Z"
   },
   {
    "duration": 7,
    "start_time": "2024-03-23T14:52:49.475Z"
   },
   {
    "duration": 13,
    "start_time": "2024-03-23T14:52:49.484Z"
   },
   {
    "duration": 53,
    "start_time": "2024-03-23T14:52:49.498Z"
   },
   {
    "duration": 7,
    "start_time": "2024-03-23T14:52:49.553Z"
   },
   {
    "duration": 7,
    "start_time": "2024-03-23T14:52:49.563Z"
   },
   {
    "duration": 12,
    "start_time": "2024-03-23T14:52:49.571Z"
   },
   {
    "duration": 9,
    "start_time": "2024-03-23T14:52:49.585Z"
   },
   {
    "duration": 50,
    "start_time": "2024-03-23T14:52:49.595Z"
   },
   {
    "duration": 13,
    "start_time": "2024-03-23T14:52:49.646Z"
   },
   {
    "duration": 4,
    "start_time": "2024-03-23T14:52:49.660Z"
   },
   {
    "duration": 5,
    "start_time": "2024-03-23T14:52:49.665Z"
   },
   {
    "duration": 6,
    "start_time": "2024-03-23T14:52:49.672Z"
   },
   {
    "duration": 5,
    "start_time": "2024-03-23T14:52:49.679Z"
   },
   {
    "duration": 5,
    "start_time": "2024-03-23T14:52:49.685Z"
   },
   {
    "duration": 56,
    "start_time": "2024-03-23T14:52:49.691Z"
   },
   {
    "duration": 4,
    "start_time": "2024-03-23T14:52:49.749Z"
   },
   {
    "duration": 8,
    "start_time": "2024-03-23T14:52:49.754Z"
   },
   {
    "duration": 7,
    "start_time": "2024-03-23T14:52:49.763Z"
   },
   {
    "duration": 5,
    "start_time": "2024-03-23T14:52:49.772Z"
   },
   {
    "duration": 276,
    "start_time": "2024-03-23T14:52:49.778Z"
   },
   {
    "duration": 7,
    "start_time": "2024-03-23T14:52:50.055Z"
   },
   {
    "duration": 158,
    "start_time": "2024-03-23T14:52:50.063Z"
   },
   {
    "duration": 3,
    "start_time": "2024-03-23T14:52:50.224Z"
   },
   {
    "duration": 18,
    "start_time": "2024-03-23T14:52:50.228Z"
   },
   {
    "duration": 5,
    "start_time": "2024-03-23T14:52:50.247Z"
   },
   {
    "duration": 8,
    "start_time": "2024-03-23T14:52:50.254Z"
   },
   {
    "duration": 9,
    "start_time": "2024-03-23T14:52:50.264Z"
   },
   {
    "duration": 10,
    "start_time": "2024-03-23T15:01:36.331Z"
   },
   {
    "duration": 8,
    "start_time": "2024-03-23T15:01:43.595Z"
   },
   {
    "duration": 4,
    "start_time": "2024-03-23T15:06:55.469Z"
   },
   {
    "duration": 8,
    "start_time": "2024-03-23T15:07:16.808Z"
   },
   {
    "duration": 5,
    "start_time": "2024-03-23T15:08:39.318Z"
   },
   {
    "duration": 11,
    "start_time": "2024-03-23T15:09:54.511Z"
   },
   {
    "duration": 10,
    "start_time": "2024-03-23T15:10:33.504Z"
   },
   {
    "duration": 800,
    "start_time": "2024-03-23T15:10:43.903Z"
   },
   {
    "duration": 67,
    "start_time": "2024-03-23T15:11:11.196Z"
   },
   {
    "duration": 5,
    "start_time": "2024-03-23T15:11:11.264Z"
   },
   {
    "duration": 11,
    "start_time": "2024-03-23T15:11:11.271Z"
   },
   {
    "duration": 11,
    "start_time": "2024-03-23T15:11:11.283Z"
   },
   {
    "duration": 13,
    "start_time": "2024-03-23T15:11:11.295Z"
   },
   {
    "duration": 15,
    "start_time": "2024-03-23T15:11:11.310Z"
   },
   {
    "duration": 12,
    "start_time": "2024-03-23T15:11:11.345Z"
   },
   {
    "duration": 15,
    "start_time": "2024-03-23T15:11:11.359Z"
   },
   {
    "duration": 15,
    "start_time": "2024-03-23T15:11:11.376Z"
   },
   {
    "duration": 15,
    "start_time": "2024-03-23T15:11:11.395Z"
   },
   {
    "duration": 34,
    "start_time": "2024-03-23T15:11:11.412Z"
   },
   {
    "duration": 11,
    "start_time": "2024-03-23T15:11:11.448Z"
   },
   {
    "duration": 23,
    "start_time": "2024-03-23T15:11:11.460Z"
   },
   {
    "duration": 40,
    "start_time": "2024-03-23T15:11:11.484Z"
   },
   {
    "duration": 4,
    "start_time": "2024-03-23T15:11:11.525Z"
   },
   {
    "duration": 30,
    "start_time": "2024-03-23T15:11:11.531Z"
   },
   {
    "duration": 23,
    "start_time": "2024-03-23T15:11:11.563Z"
   },
   {
    "duration": 20,
    "start_time": "2024-03-23T15:11:11.587Z"
   },
   {
    "duration": 26,
    "start_time": "2024-03-23T15:11:11.608Z"
   },
   {
    "duration": 26,
    "start_time": "2024-03-23T15:11:11.635Z"
   },
   {
    "duration": 30,
    "start_time": "2024-03-23T15:11:11.662Z"
   },
   {
    "duration": 51,
    "start_time": "2024-03-23T15:11:11.693Z"
   },
   {
    "duration": 39,
    "start_time": "2024-03-23T15:11:11.745Z"
   },
   {
    "duration": 15,
    "start_time": "2024-03-23T15:11:11.785Z"
   },
   {
    "duration": 236,
    "start_time": "2024-03-23T15:11:11.802Z"
   },
   {
    "duration": 9,
    "start_time": "2024-03-23T15:11:12.040Z"
   },
   {
    "duration": 172,
    "start_time": "2024-03-23T15:11:12.051Z"
   },
   {
    "duration": 2,
    "start_time": "2024-03-23T15:11:12.227Z"
   },
   {
    "duration": 23,
    "start_time": "2024-03-23T15:11:12.231Z"
   },
   {
    "duration": 28,
    "start_time": "2024-03-23T15:11:12.255Z"
   },
   {
    "duration": 83,
    "start_time": "2024-03-23T15:11:12.284Z"
   },
   {
    "duration": 0,
    "start_time": "2024-03-23T15:11:12.368Z"
   },
   {
    "duration": 0,
    "start_time": "2024-03-23T15:11:12.370Z"
   },
   {
    "duration": 0,
    "start_time": "2024-03-23T15:11:12.372Z"
   },
   {
    "duration": 4,
    "start_time": "2024-03-23T15:11:28.372Z"
   },
   {
    "duration": 829,
    "start_time": "2024-03-23T15:11:34.280Z"
   },
   {
    "duration": 65,
    "start_time": "2024-03-23T15:12:17.534Z"
   },
   {
    "duration": 6,
    "start_time": "2024-03-23T15:12:17.600Z"
   },
   {
    "duration": 24,
    "start_time": "2024-03-23T15:12:17.607Z"
   },
   {
    "duration": 36,
    "start_time": "2024-03-23T15:12:17.633Z"
   },
   {
    "duration": 26,
    "start_time": "2024-03-23T15:12:17.671Z"
   },
   {
    "duration": 11,
    "start_time": "2024-03-23T15:12:17.699Z"
   },
   {
    "duration": 13,
    "start_time": "2024-03-23T15:12:17.712Z"
   },
   {
    "duration": 9,
    "start_time": "2024-03-23T15:12:17.726Z"
   },
   {
    "duration": 12,
    "start_time": "2024-03-23T15:12:17.736Z"
   },
   {
    "duration": 14,
    "start_time": "2024-03-23T15:12:17.750Z"
   },
   {
    "duration": 6,
    "start_time": "2024-03-23T15:12:17.765Z"
   },
   {
    "duration": 11,
    "start_time": "2024-03-23T15:12:17.773Z"
   },
   {
    "duration": 60,
    "start_time": "2024-03-23T15:12:17.785Z"
   },
   {
    "duration": 13,
    "start_time": "2024-03-23T15:12:17.846Z"
   },
   {
    "duration": 12,
    "start_time": "2024-03-23T15:12:17.860Z"
   },
   {
    "duration": 8,
    "start_time": "2024-03-23T15:12:17.874Z"
   },
   {
    "duration": 10,
    "start_time": "2024-03-23T15:12:17.883Z"
   },
   {
    "duration": 51,
    "start_time": "2024-03-23T15:12:17.894Z"
   },
   {
    "duration": 6,
    "start_time": "2024-03-23T15:12:17.946Z"
   },
   {
    "duration": 8,
    "start_time": "2024-03-23T15:12:17.953Z"
   },
   {
    "duration": 7,
    "start_time": "2024-03-23T15:12:17.963Z"
   },
   {
    "duration": 13,
    "start_time": "2024-03-23T15:12:17.972Z"
   },
   {
    "duration": 9,
    "start_time": "2024-03-23T15:12:17.987Z"
   },
   {
    "duration": 50,
    "start_time": "2024-03-23T15:12:17.997Z"
   },
   {
    "duration": 231,
    "start_time": "2024-03-23T15:12:18.048Z"
   },
   {
    "duration": 7,
    "start_time": "2024-03-23T15:12:18.280Z"
   },
   {
    "duration": 168,
    "start_time": "2024-03-23T15:12:18.288Z"
   },
   {
    "duration": 2,
    "start_time": "2024-03-23T15:12:18.459Z"
   },
   {
    "duration": 5,
    "start_time": "2024-03-23T15:12:18.463Z"
   },
   {
    "duration": 8,
    "start_time": "2024-03-23T15:12:18.469Z"
   },
   {
    "duration": 14,
    "start_time": "2024-03-23T15:12:18.479Z"
   },
   {
    "duration": 836,
    "start_time": "2024-03-23T15:12:18.494Z"
   },
   {
    "duration": 0,
    "start_time": "2024-03-23T15:12:19.332Z"
   },
   {
    "duration": 0,
    "start_time": "2024-03-23T15:12:19.333Z"
   },
   {
    "duration": 66,
    "start_time": "2024-03-23T15:14:10.293Z"
   },
   {
    "duration": 6,
    "start_time": "2024-03-23T15:14:10.361Z"
   },
   {
    "duration": 39,
    "start_time": "2024-03-23T15:14:10.368Z"
   },
   {
    "duration": 4,
    "start_time": "2024-03-23T15:14:10.409Z"
   },
   {
    "duration": 7,
    "start_time": "2024-03-23T15:14:10.414Z"
   },
   {
    "duration": 7,
    "start_time": "2024-03-23T15:14:10.423Z"
   },
   {
    "duration": 20,
    "start_time": "2024-03-23T15:14:10.431Z"
   },
   {
    "duration": 7,
    "start_time": "2024-03-23T15:14:10.452Z"
   },
   {
    "duration": 20,
    "start_time": "2024-03-23T15:14:10.460Z"
   },
   {
    "duration": 15,
    "start_time": "2024-03-23T15:14:10.482Z"
   },
   {
    "duration": 5,
    "start_time": "2024-03-23T15:14:10.499Z"
   },
   {
    "duration": 16,
    "start_time": "2024-03-23T15:14:10.506Z"
   },
   {
    "duration": 25,
    "start_time": "2024-03-23T15:14:10.523Z"
   },
   {
    "duration": 18,
    "start_time": "2024-03-23T15:14:10.549Z"
   },
   {
    "duration": 4,
    "start_time": "2024-03-23T15:14:10.569Z"
   },
   {
    "duration": 10,
    "start_time": "2024-03-23T15:14:10.574Z"
   },
   {
    "duration": 7,
    "start_time": "2024-03-23T15:14:10.585Z"
   },
   {
    "duration": 5,
    "start_time": "2024-03-23T15:14:10.593Z"
   },
   {
    "duration": 5,
    "start_time": "2024-03-23T15:14:10.600Z"
   },
   {
    "duration": 5,
    "start_time": "2024-03-23T15:14:10.645Z"
   },
   {
    "duration": 6,
    "start_time": "2024-03-23T15:14:10.652Z"
   },
   {
    "duration": 13,
    "start_time": "2024-03-23T15:14:10.659Z"
   },
   {
    "duration": 10,
    "start_time": "2024-03-23T15:14:10.673Z"
   },
   {
    "duration": 5,
    "start_time": "2024-03-23T15:14:10.685Z"
   },
   {
    "duration": 224,
    "start_time": "2024-03-23T15:14:10.691Z"
   },
   {
    "duration": 5,
    "start_time": "2024-03-23T15:14:10.916Z"
   },
   {
    "duration": 156,
    "start_time": "2024-03-23T15:14:10.922Z"
   },
   {
    "duration": 3,
    "start_time": "2024-03-23T15:14:11.081Z"
   },
   {
    "duration": 5,
    "start_time": "2024-03-23T15:14:11.085Z"
   },
   {
    "duration": 6,
    "start_time": "2024-03-23T15:14:11.092Z"
   },
   {
    "duration": 4,
    "start_time": "2024-03-23T15:14:11.100Z"
   },
   {
    "duration": 60,
    "start_time": "2024-03-23T15:14:11.105Z"
   },
   {
    "duration": 0,
    "start_time": "2024-03-23T15:14:11.166Z"
   },
   {
    "duration": 0,
    "start_time": "2024-03-23T15:14:11.167Z"
   },
   {
    "duration": 13,
    "start_time": "2024-03-23T15:14:32.358Z"
   },
   {
    "duration": 70,
    "start_time": "2024-03-23T15:17:14.931Z"
   },
   {
    "duration": 748,
    "start_time": "2024-03-23T15:17:32.553Z"
   },
   {
    "duration": 750,
    "start_time": "2024-03-23T15:17:51.880Z"
   },
   {
    "duration": 5,
    "start_time": "2024-03-23T15:18:03.909Z"
   },
   {
    "duration": 77,
    "start_time": "2024-03-23T15:18:13.437Z"
   },
   {
    "duration": 5,
    "start_time": "2024-03-23T15:18:13.516Z"
   },
   {
    "duration": 24,
    "start_time": "2024-03-23T15:18:13.523Z"
   },
   {
    "duration": 20,
    "start_time": "2024-03-23T15:18:13.550Z"
   },
   {
    "duration": 9,
    "start_time": "2024-03-23T15:18:13.572Z"
   },
   {
    "duration": 9,
    "start_time": "2024-03-23T15:18:13.583Z"
   },
   {
    "duration": 16,
    "start_time": "2024-03-23T15:18:13.594Z"
   },
   {
    "duration": 41,
    "start_time": "2024-03-23T15:18:13.612Z"
   },
   {
    "duration": 8,
    "start_time": "2024-03-23T15:18:13.655Z"
   },
   {
    "duration": 9,
    "start_time": "2024-03-23T15:18:13.667Z"
   },
   {
    "duration": 12,
    "start_time": "2024-03-23T15:18:13.678Z"
   },
   {
    "duration": 54,
    "start_time": "2024-03-23T15:18:13.692Z"
   },
   {
    "duration": 7,
    "start_time": "2024-03-23T15:18:13.747Z"
   },
   {
    "duration": 16,
    "start_time": "2024-03-23T15:18:13.756Z"
   },
   {
    "duration": 6,
    "start_time": "2024-03-23T15:18:13.773Z"
   },
   {
    "duration": 6,
    "start_time": "2024-03-23T15:18:13.781Z"
   },
   {
    "duration": 9,
    "start_time": "2024-03-23T15:18:13.789Z"
   },
   {
    "duration": 8,
    "start_time": "2024-03-23T15:18:13.845Z"
   },
   {
    "duration": 7,
    "start_time": "2024-03-23T15:18:13.854Z"
   },
   {
    "duration": 8,
    "start_time": "2024-03-23T15:18:13.862Z"
   },
   {
    "duration": 5,
    "start_time": "2024-03-23T15:18:13.872Z"
   },
   {
    "duration": 9,
    "start_time": "2024-03-23T15:18:13.879Z"
   },
   {
    "duration": 10,
    "start_time": "2024-03-23T15:18:13.944Z"
   },
   {
    "duration": 6,
    "start_time": "2024-03-23T15:18:13.955Z"
   },
   {
    "duration": 222,
    "start_time": "2024-03-23T15:18:13.963Z"
   },
   {
    "duration": 6,
    "start_time": "2024-03-23T15:18:14.186Z"
   },
   {
    "duration": 328,
    "start_time": "2024-03-23T15:18:14.193Z"
   },
   {
    "duration": 2,
    "start_time": "2024-03-23T15:18:14.524Z"
   },
   {
    "duration": 17,
    "start_time": "2024-03-23T15:18:14.528Z"
   },
   {
    "duration": 5,
    "start_time": "2024-03-23T15:18:14.546Z"
   },
   {
    "duration": 4,
    "start_time": "2024-03-23T15:18:14.552Z"
   },
   {
    "duration": 144,
    "start_time": "2024-03-23T15:18:14.557Z"
   },
   {
    "duration": 0,
    "start_time": "2024-03-23T15:18:14.703Z"
   },
   {
    "duration": 0,
    "start_time": "2024-03-23T15:18:14.704Z"
   },
   {
    "duration": 7,
    "start_time": "2024-03-23T15:19:11.122Z"
   },
   {
    "duration": 75,
    "start_time": "2024-03-23T15:19:17.459Z"
   },
   {
    "duration": 7,
    "start_time": "2024-03-23T15:19:17.536Z"
   },
   {
    "duration": 13,
    "start_time": "2024-03-23T15:19:17.545Z"
   },
   {
    "duration": 8,
    "start_time": "2024-03-23T15:19:17.561Z"
   },
   {
    "duration": 17,
    "start_time": "2024-03-23T15:19:17.570Z"
   },
   {
    "duration": 11,
    "start_time": "2024-03-23T15:19:17.589Z"
   },
   {
    "duration": 50,
    "start_time": "2024-03-23T15:19:17.601Z"
   },
   {
    "duration": 9,
    "start_time": "2024-03-23T15:19:17.653Z"
   },
   {
    "duration": 9,
    "start_time": "2024-03-23T15:19:17.663Z"
   },
   {
    "duration": 17,
    "start_time": "2024-03-23T15:19:17.674Z"
   },
   {
    "duration": 36,
    "start_time": "2024-03-23T15:19:17.693Z"
   },
   {
    "duration": 19,
    "start_time": "2024-03-23T15:19:17.732Z"
   },
   {
    "duration": 4,
    "start_time": "2024-03-23T15:19:17.753Z"
   },
   {
    "duration": 16,
    "start_time": "2024-03-23T15:19:17.758Z"
   },
   {
    "duration": 14,
    "start_time": "2024-03-23T15:19:17.775Z"
   },
   {
    "duration": 11,
    "start_time": "2024-03-23T15:19:17.790Z"
   },
   {
    "duration": 12,
    "start_time": "2024-03-23T15:19:17.802Z"
   },
   {
    "duration": 33,
    "start_time": "2024-03-23T15:19:17.815Z"
   },
   {
    "duration": 5,
    "start_time": "2024-03-23T15:19:17.849Z"
   },
   {
    "duration": 11,
    "start_time": "2024-03-23T15:19:17.855Z"
   },
   {
    "duration": 4,
    "start_time": "2024-03-23T15:19:17.867Z"
   },
   {
    "duration": 8,
    "start_time": "2024-03-23T15:19:17.872Z"
   },
   {
    "duration": 15,
    "start_time": "2024-03-23T15:19:17.881Z"
   },
   {
    "duration": 50,
    "start_time": "2024-03-23T15:19:17.898Z"
   },
   {
    "duration": 224,
    "start_time": "2024-03-23T15:19:17.950Z"
   },
   {
    "duration": 5,
    "start_time": "2024-03-23T15:19:18.176Z"
   },
   {
    "duration": 170,
    "start_time": "2024-03-23T15:19:18.183Z"
   },
   {
    "duration": 3,
    "start_time": "2024-03-23T15:19:18.356Z"
   },
   {
    "duration": 5,
    "start_time": "2024-03-23T15:19:18.360Z"
   },
   {
    "duration": 6,
    "start_time": "2024-03-23T15:19:18.367Z"
   },
   {
    "duration": 17,
    "start_time": "2024-03-23T15:19:18.374Z"
   },
   {
    "duration": 133,
    "start_time": "2024-03-23T15:19:18.393Z"
   },
   {
    "duration": 0,
    "start_time": "2024-03-23T15:19:18.527Z"
   },
   {
    "duration": 0,
    "start_time": "2024-03-23T15:19:18.528Z"
   },
   {
    "duration": 6,
    "start_time": "2024-03-23T15:19:43.275Z"
   },
   {
    "duration": 107,
    "start_time": "2024-03-23T15:19:46.006Z"
   },
   {
    "duration": 4,
    "start_time": "2024-03-23T15:20:45.163Z"
   },
   {
    "duration": 14,
    "start_time": "2024-03-23T15:20:49.396Z"
   },
   {
    "duration": 63,
    "start_time": "2024-03-23T15:20:53.255Z"
   },
   {
    "duration": 4,
    "start_time": "2024-03-23T15:20:53.320Z"
   },
   {
    "duration": 34,
    "start_time": "2024-03-23T15:20:53.326Z"
   },
   {
    "duration": 10,
    "start_time": "2024-03-23T15:20:53.362Z"
   },
   {
    "duration": 9,
    "start_time": "2024-03-23T15:20:53.373Z"
   },
   {
    "duration": 13,
    "start_time": "2024-03-23T15:20:53.384Z"
   },
   {
    "duration": 16,
    "start_time": "2024-03-23T15:20:53.399Z"
   },
   {
    "duration": 34,
    "start_time": "2024-03-23T15:20:53.417Z"
   },
   {
    "duration": 9,
    "start_time": "2024-03-23T15:20:53.452Z"
   },
   {
    "duration": 8,
    "start_time": "2024-03-23T15:20:53.463Z"
   },
   {
    "duration": 19,
    "start_time": "2024-03-23T15:20:53.472Z"
   },
   {
    "duration": 20,
    "start_time": "2024-03-23T15:20:53.492Z"
   },
   {
    "duration": 32,
    "start_time": "2024-03-23T15:20:53.514Z"
   },
   {
    "duration": 12,
    "start_time": "2024-03-23T15:20:53.548Z"
   },
   {
    "duration": 4,
    "start_time": "2024-03-23T15:20:53.562Z"
   },
   {
    "duration": 7,
    "start_time": "2024-03-23T15:20:53.567Z"
   },
   {
    "duration": 6,
    "start_time": "2024-03-23T15:20:53.576Z"
   },
   {
    "duration": 8,
    "start_time": "2024-03-23T15:20:53.584Z"
   },
   {
    "duration": 5,
    "start_time": "2024-03-23T15:20:53.645Z"
   },
   {
    "duration": 9,
    "start_time": "2024-03-23T15:20:53.652Z"
   },
   {
    "duration": 4,
    "start_time": "2024-03-23T15:20:53.663Z"
   },
   {
    "duration": 9,
    "start_time": "2024-03-23T15:20:53.669Z"
   },
   {
    "duration": 7,
    "start_time": "2024-03-23T15:20:53.680Z"
   },
   {
    "duration": 5,
    "start_time": "2024-03-23T15:20:53.689Z"
   },
   {
    "duration": 260,
    "start_time": "2024-03-23T15:20:53.695Z"
   },
   {
    "duration": 6,
    "start_time": "2024-03-23T15:20:53.956Z"
   },
   {
    "duration": 190,
    "start_time": "2024-03-23T15:20:53.964Z"
   },
   {
    "duration": 4,
    "start_time": "2024-03-23T15:20:54.157Z"
   },
   {
    "duration": 4,
    "start_time": "2024-03-23T15:20:54.163Z"
   },
   {
    "duration": 13,
    "start_time": "2024-03-23T15:20:54.169Z"
   },
   {
    "duration": 4,
    "start_time": "2024-03-23T15:20:54.184Z"
   },
   {
    "duration": 19,
    "start_time": "2024-03-23T15:20:56.004Z"
   },
   {
    "duration": 4,
    "start_time": "2024-03-23T15:21:50.064Z"
   },
   {
    "duration": 75,
    "start_time": "2024-03-23T15:21:54.312Z"
   },
   {
    "duration": 7,
    "start_time": "2024-03-23T15:21:54.389Z"
   },
   {
    "duration": 42,
    "start_time": "2024-03-23T15:21:54.398Z"
   },
   {
    "duration": 4,
    "start_time": "2024-03-23T15:21:54.442Z"
   },
   {
    "duration": 25,
    "start_time": "2024-03-23T15:21:54.448Z"
   },
   {
    "duration": 10,
    "start_time": "2024-03-23T15:21:54.475Z"
   },
   {
    "duration": 12,
    "start_time": "2024-03-23T15:21:54.486Z"
   },
   {
    "duration": 9,
    "start_time": "2024-03-23T15:21:54.500Z"
   },
   {
    "duration": 36,
    "start_time": "2024-03-23T15:21:54.510Z"
   },
   {
    "duration": 10,
    "start_time": "2024-03-23T15:21:54.549Z"
   },
   {
    "duration": 8,
    "start_time": "2024-03-23T15:21:54.560Z"
   },
   {
    "duration": 12,
    "start_time": "2024-03-23T15:21:54.570Z"
   },
   {
    "duration": 5,
    "start_time": "2024-03-23T15:21:54.584Z"
   },
   {
    "duration": 70,
    "start_time": "2024-03-23T15:21:54.591Z"
   },
   {
    "duration": 5,
    "start_time": "2024-03-23T15:21:54.663Z"
   },
   {
    "duration": 14,
    "start_time": "2024-03-23T15:21:54.670Z"
   },
   {
    "duration": 6,
    "start_time": "2024-03-23T15:21:54.685Z"
   },
   {
    "duration": 7,
    "start_time": "2024-03-23T15:21:54.693Z"
   },
   {
    "duration": 48,
    "start_time": "2024-03-23T15:21:54.701Z"
   },
   {
    "duration": 6,
    "start_time": "2024-03-23T15:21:54.751Z"
   },
   {
    "duration": 6,
    "start_time": "2024-03-23T15:21:54.759Z"
   },
   {
    "duration": 7,
    "start_time": "2024-03-23T15:21:54.767Z"
   },
   {
    "duration": 17,
    "start_time": "2024-03-23T15:21:54.776Z"
   },
   {
    "duration": 55,
    "start_time": "2024-03-23T15:21:54.795Z"
   },
   {
    "duration": 218,
    "start_time": "2024-03-23T15:21:54.852Z"
   },
   {
    "duration": 5,
    "start_time": "2024-03-23T15:21:55.072Z"
   },
   {
    "duration": 172,
    "start_time": "2024-03-23T15:21:55.078Z"
   },
   {
    "duration": 3,
    "start_time": "2024-03-23T15:21:55.252Z"
   },
   {
    "duration": 8,
    "start_time": "2024-03-23T15:21:55.256Z"
   },
   {
    "duration": 21,
    "start_time": "2024-03-23T15:21:55.265Z"
   },
   {
    "duration": 22,
    "start_time": "2024-03-23T15:21:55.288Z"
   },
   {
    "duration": 24,
    "start_time": "2024-03-23T15:21:55.311Z"
   },
   {
    "duration": 0,
    "start_time": "2024-03-23T15:21:55.336Z"
   },
   {
    "duration": 0,
    "start_time": "2024-03-23T15:21:55.337Z"
   },
   {
    "duration": 10,
    "start_time": "2024-03-23T15:23:16.088Z"
   },
   {
    "duration": 9,
    "start_time": "2024-03-23T15:23:32.848Z"
   },
   {
    "duration": 79,
    "start_time": "2024-03-23T15:25:06.779Z"
   },
   {
    "duration": 8,
    "start_time": "2024-03-23T15:25:06.860Z"
   },
   {
    "duration": 28,
    "start_time": "2024-03-23T15:25:06.870Z"
   },
   {
    "duration": 10,
    "start_time": "2024-03-23T15:25:06.900Z"
   },
   {
    "duration": 10,
    "start_time": "2024-03-23T15:25:06.911Z"
   },
   {
    "duration": 23,
    "start_time": "2024-03-23T15:25:06.923Z"
   },
   {
    "duration": 13,
    "start_time": "2024-03-23T15:25:06.948Z"
   },
   {
    "duration": 8,
    "start_time": "2024-03-23T15:25:06.963Z"
   },
   {
    "duration": 10,
    "start_time": "2024-03-23T15:25:06.973Z"
   },
   {
    "duration": 8,
    "start_time": "2024-03-23T15:25:06.985Z"
   },
   {
    "duration": 51,
    "start_time": "2024-03-23T15:25:06.995Z"
   },
   {
    "duration": 25,
    "start_time": "2024-03-23T15:25:07.048Z"
   },
   {
    "duration": 15,
    "start_time": "2024-03-23T15:25:07.075Z"
   },
   {
    "duration": 23,
    "start_time": "2024-03-23T15:25:07.091Z"
   },
   {
    "duration": 4,
    "start_time": "2024-03-23T15:25:07.115Z"
   },
   {
    "duration": 8,
    "start_time": "2024-03-23T15:25:07.121Z"
   },
   {
    "duration": 15,
    "start_time": "2024-03-23T15:25:07.131Z"
   },
   {
    "duration": 7,
    "start_time": "2024-03-23T15:25:07.148Z"
   },
   {
    "duration": 8,
    "start_time": "2024-03-23T15:25:07.157Z"
   },
   {
    "duration": 10,
    "start_time": "2024-03-23T15:25:07.166Z"
   },
   {
    "duration": 7,
    "start_time": "2024-03-23T15:25:07.178Z"
   },
   {
    "duration": 7,
    "start_time": "2024-03-23T15:25:07.246Z"
   },
   {
    "duration": 18,
    "start_time": "2024-03-23T15:25:07.255Z"
   },
   {
    "duration": 6,
    "start_time": "2024-03-23T15:25:07.275Z"
   },
   {
    "duration": 250,
    "start_time": "2024-03-23T15:25:07.283Z"
   },
   {
    "duration": 13,
    "start_time": "2024-03-23T15:25:07.535Z"
   },
   {
    "duration": 183,
    "start_time": "2024-03-23T15:25:07.550Z"
   },
   {
    "duration": 10,
    "start_time": "2024-03-23T15:25:07.736Z"
   },
   {
    "duration": 9,
    "start_time": "2024-03-23T15:25:07.747Z"
   },
   {
    "duration": 11,
    "start_time": "2024-03-23T15:25:07.758Z"
   },
   {
    "duration": 26,
    "start_time": "2024-03-23T15:25:07.770Z"
   },
   {
    "duration": 0,
    "start_time": "2024-03-23T15:25:07.798Z"
   },
   {
    "duration": 0,
    "start_time": "2024-03-23T15:25:07.800Z"
   },
   {
    "duration": 3,
    "start_time": "2024-03-23T15:27:09.223Z"
   },
   {
    "duration": 4,
    "start_time": "2024-03-23T15:27:14.508Z"
   },
   {
    "duration": 13,
    "start_time": "2024-03-23T15:28:11.898Z"
   },
   {
    "duration": 21,
    "start_time": "2024-03-23T15:28:57.423Z"
   },
   {
    "duration": 13,
    "start_time": "2024-03-23T15:29:36.119Z"
   },
   {
    "duration": 66,
    "start_time": "2024-03-23T15:29:45.104Z"
   },
   {
    "duration": 5,
    "start_time": "2024-03-23T15:29:45.172Z"
   },
   {
    "duration": 45,
    "start_time": "2024-03-23T15:29:45.179Z"
   },
   {
    "duration": 53,
    "start_time": "2024-03-23T15:29:45.226Z"
   },
   {
    "duration": 39,
    "start_time": "2024-03-23T15:29:45.281Z"
   },
   {
    "duration": 31,
    "start_time": "2024-03-23T15:29:45.321Z"
   },
   {
    "duration": 39,
    "start_time": "2024-03-23T15:29:45.353Z"
   },
   {
    "duration": 24,
    "start_time": "2024-03-23T15:29:45.394Z"
   },
   {
    "duration": 16,
    "start_time": "2024-03-23T15:29:45.420Z"
   },
   {
    "duration": 9,
    "start_time": "2024-03-23T15:29:45.438Z"
   },
   {
    "duration": 18,
    "start_time": "2024-03-23T15:29:45.448Z"
   },
   {
    "duration": 28,
    "start_time": "2024-03-23T15:29:45.468Z"
   },
   {
    "duration": 38,
    "start_time": "2024-03-23T15:29:45.498Z"
   },
   {
    "duration": 51,
    "start_time": "2024-03-23T15:29:45.538Z"
   },
   {
    "duration": 26,
    "start_time": "2024-03-23T15:29:45.590Z"
   },
   {
    "duration": 15,
    "start_time": "2024-03-23T15:29:45.617Z"
   },
   {
    "duration": 11,
    "start_time": "2024-03-23T15:29:45.634Z"
   },
   {
    "duration": 23,
    "start_time": "2024-03-23T15:29:45.646Z"
   },
   {
    "duration": 9,
    "start_time": "2024-03-23T15:29:45.678Z"
   },
   {
    "duration": 19,
    "start_time": "2024-03-23T15:29:45.688Z"
   },
   {
    "duration": 22,
    "start_time": "2024-03-23T15:29:45.708Z"
   },
   {
    "duration": 16,
    "start_time": "2024-03-23T15:29:45.731Z"
   },
   {
    "duration": 27,
    "start_time": "2024-03-23T15:29:45.749Z"
   },
   {
    "duration": 14,
    "start_time": "2024-03-23T15:29:45.778Z"
   },
   {
    "duration": 205,
    "start_time": "2024-03-23T15:29:45.794Z"
   },
   {
    "duration": 5,
    "start_time": "2024-03-23T15:29:46.000Z"
   },
   {
    "duration": 178,
    "start_time": "2024-03-23T15:29:46.007Z"
   },
   {
    "duration": 4,
    "start_time": "2024-03-23T15:29:46.188Z"
   },
   {
    "duration": 10,
    "start_time": "2024-03-23T15:29:46.193Z"
   },
   {
    "duration": 24,
    "start_time": "2024-03-23T15:29:46.204Z"
   },
   {
    "duration": 23,
    "start_time": "2024-03-23T15:29:46.230Z"
   },
   {
    "duration": 0,
    "start_time": "2024-03-23T15:29:46.255Z"
   },
   {
    "duration": 0,
    "start_time": "2024-03-23T15:29:46.257Z"
   },
   {
    "duration": 90,
    "start_time": "2024-03-23T15:30:56.266Z"
   },
   {
    "duration": 88,
    "start_time": "2024-03-23T15:31:06.370Z"
   },
   {
    "duration": 120,
    "start_time": "2024-03-23T15:32:00.716Z"
   },
   {
    "duration": 70,
    "start_time": "2024-03-23T15:40:17.215Z"
   },
   {
    "duration": 6,
    "start_time": "2024-03-23T15:40:17.286Z"
   },
   {
    "duration": 15,
    "start_time": "2024-03-23T15:40:17.293Z"
   },
   {
    "duration": 3,
    "start_time": "2024-03-23T15:40:17.311Z"
   },
   {
    "duration": 8,
    "start_time": "2024-03-23T15:40:17.316Z"
   },
   {
    "duration": 11,
    "start_time": "2024-03-23T15:40:17.345Z"
   },
   {
    "duration": 41,
    "start_time": "2024-03-23T15:40:17.358Z"
   },
   {
    "duration": 21,
    "start_time": "2024-03-23T15:40:17.401Z"
   },
   {
    "duration": 11,
    "start_time": "2024-03-23T15:40:17.423Z"
   },
   {
    "duration": 11,
    "start_time": "2024-03-23T15:40:17.446Z"
   },
   {
    "duration": 13,
    "start_time": "2024-03-23T15:40:17.459Z"
   },
   {
    "duration": 9,
    "start_time": "2024-03-23T15:40:17.474Z"
   },
   {
    "duration": 11,
    "start_time": "2024-03-23T15:40:17.484Z"
   },
   {
    "duration": 60,
    "start_time": "2024-03-23T15:40:17.496Z"
   },
   {
    "duration": 5,
    "start_time": "2024-03-23T15:40:17.558Z"
   },
   {
    "duration": 20,
    "start_time": "2024-03-23T15:40:17.564Z"
   },
   {
    "duration": 14,
    "start_time": "2024-03-23T15:40:17.586Z"
   },
   {
    "duration": 5,
    "start_time": "2024-03-23T15:40:17.602Z"
   },
   {
    "duration": 4,
    "start_time": "2024-03-23T15:40:17.609Z"
   },
   {
    "duration": 39,
    "start_time": "2024-03-23T15:40:17.614Z"
   },
   {
    "duration": 7,
    "start_time": "2024-03-23T15:40:17.654Z"
   },
   {
    "duration": 7,
    "start_time": "2024-03-23T15:40:17.663Z"
   },
   {
    "duration": 9,
    "start_time": "2024-03-23T15:40:17.672Z"
   },
   {
    "duration": 5,
    "start_time": "2024-03-23T15:40:17.683Z"
   },
   {
    "duration": 243,
    "start_time": "2024-03-23T15:40:17.689Z"
   },
   {
    "duration": 12,
    "start_time": "2024-03-23T15:40:17.933Z"
   },
   {
    "duration": 343,
    "start_time": "2024-03-23T15:40:17.946Z"
   },
   {
    "duration": 3,
    "start_time": "2024-03-23T15:40:18.292Z"
   },
   {
    "duration": 5,
    "start_time": "2024-03-23T15:40:18.296Z"
   },
   {
    "duration": 10,
    "start_time": "2024-03-23T15:40:18.302Z"
   },
   {
    "duration": 42,
    "start_time": "2024-03-23T15:40:18.313Z"
   },
   {
    "duration": 0,
    "start_time": "2024-03-23T15:40:18.356Z"
   },
   {
    "duration": 0,
    "start_time": "2024-03-23T15:40:18.357Z"
   },
   {
    "duration": 14,
    "start_time": "2024-03-23T15:41:49.060Z"
   },
   {
    "duration": 67,
    "start_time": "2024-03-23T15:43:04.322Z"
   },
   {
    "duration": 5,
    "start_time": "2024-03-23T15:43:04.391Z"
   },
   {
    "duration": 32,
    "start_time": "2024-03-23T15:43:04.397Z"
   },
   {
    "duration": 22,
    "start_time": "2024-03-23T15:43:04.431Z"
   },
   {
    "duration": 20,
    "start_time": "2024-03-23T15:43:04.454Z"
   },
   {
    "duration": 25,
    "start_time": "2024-03-23T15:43:04.475Z"
   },
   {
    "duration": 14,
    "start_time": "2024-03-23T15:43:04.501Z"
   },
   {
    "duration": 7,
    "start_time": "2024-03-23T15:43:04.517Z"
   },
   {
    "duration": 11,
    "start_time": "2024-03-23T15:43:04.525Z"
   },
   {
    "duration": 14,
    "start_time": "2024-03-23T15:43:04.539Z"
   },
   {
    "duration": 9,
    "start_time": "2024-03-23T15:43:04.558Z"
   },
   {
    "duration": 16,
    "start_time": "2024-03-23T15:43:04.568Z"
   },
   {
    "duration": 8,
    "start_time": "2024-03-23T15:43:04.585Z"
   },
   {
    "duration": 17,
    "start_time": "2024-03-23T15:43:04.594Z"
   },
   {
    "duration": 10,
    "start_time": "2024-03-23T15:43:04.612Z"
   },
   {
    "duration": 8,
    "start_time": "2024-03-23T15:43:04.645Z"
   },
   {
    "duration": 9,
    "start_time": "2024-03-23T15:43:04.655Z"
   },
   {
    "duration": 11,
    "start_time": "2024-03-23T15:43:04.666Z"
   },
   {
    "duration": 4,
    "start_time": "2024-03-23T15:43:04.679Z"
   },
   {
    "duration": 5,
    "start_time": "2024-03-23T15:43:04.685Z"
   },
   {
    "duration": 4,
    "start_time": "2024-03-23T15:43:04.691Z"
   },
   {
    "duration": 7,
    "start_time": "2024-03-23T15:43:04.696Z"
   },
   {
    "duration": 50,
    "start_time": "2024-03-23T15:43:04.704Z"
   },
   {
    "duration": 5,
    "start_time": "2024-03-23T15:43:04.756Z"
   },
   {
    "duration": 249,
    "start_time": "2024-03-23T15:43:04.764Z"
   },
   {
    "duration": 5,
    "start_time": "2024-03-23T15:43:05.014Z"
   },
   {
    "duration": 195,
    "start_time": "2024-03-23T15:43:05.020Z"
   },
   {
    "duration": 3,
    "start_time": "2024-03-23T15:43:05.218Z"
   },
   {
    "duration": 6,
    "start_time": "2024-03-23T15:43:05.223Z"
   },
   {
    "duration": 19,
    "start_time": "2024-03-23T15:43:05.230Z"
   },
   {
    "duration": 21,
    "start_time": "2024-03-23T15:43:05.250Z"
   },
   {
    "duration": 0,
    "start_time": "2024-03-23T15:43:05.273Z"
   },
   {
    "duration": 0,
    "start_time": "2024-03-23T15:43:05.275Z"
   },
   {
    "duration": 70,
    "start_time": "2024-03-23T15:52:26.925Z"
   },
   {
    "duration": 5,
    "start_time": "2024-03-23T15:52:26.997Z"
   },
   {
    "duration": 45,
    "start_time": "2024-03-23T15:52:27.003Z"
   },
   {
    "duration": 8,
    "start_time": "2024-03-23T15:52:27.052Z"
   },
   {
    "duration": 12,
    "start_time": "2024-03-23T15:52:27.063Z"
   },
   {
    "duration": 8,
    "start_time": "2024-03-23T15:52:27.077Z"
   },
   {
    "duration": 14,
    "start_time": "2024-03-23T15:52:27.086Z"
   },
   {
    "duration": 56,
    "start_time": "2024-03-23T15:52:27.101Z"
   },
   {
    "duration": 22,
    "start_time": "2024-03-23T15:52:27.162Z"
   },
   {
    "duration": 9,
    "start_time": "2024-03-23T15:52:27.188Z"
   },
   {
    "duration": 8,
    "start_time": "2024-03-23T15:52:27.199Z"
   },
   {
    "duration": 67,
    "start_time": "2024-03-23T15:52:27.208Z"
   },
   {
    "duration": 6,
    "start_time": "2024-03-23T15:52:27.278Z"
   },
   {
    "duration": 16,
    "start_time": "2024-03-23T15:52:27.285Z"
   },
   {
    "duration": 5,
    "start_time": "2024-03-23T15:52:27.302Z"
   },
   {
    "duration": 14,
    "start_time": "2024-03-23T15:52:27.308Z"
   },
   {
    "duration": 36,
    "start_time": "2024-03-23T15:52:27.323Z"
   },
   {
    "duration": 10,
    "start_time": "2024-03-23T15:52:27.366Z"
   },
   {
    "duration": 6,
    "start_time": "2024-03-23T15:52:27.377Z"
   },
   {
    "duration": 7,
    "start_time": "2024-03-23T15:52:27.385Z"
   },
   {
    "duration": 4,
    "start_time": "2024-03-23T15:52:27.394Z"
   },
   {
    "duration": 5,
    "start_time": "2024-03-23T15:52:27.399Z"
   },
   {
    "duration": 46,
    "start_time": "2024-03-23T15:52:27.405Z"
   },
   {
    "duration": 8,
    "start_time": "2024-03-23T15:52:27.453Z"
   },
   {
    "duration": 285,
    "start_time": "2024-03-23T15:52:27.462Z"
   },
   {
    "duration": 16,
    "start_time": "2024-03-23T15:52:27.749Z"
   },
   {
    "duration": 177,
    "start_time": "2024-03-23T15:52:27.767Z"
   },
   {
    "duration": 5,
    "start_time": "2024-03-23T15:52:27.948Z"
   },
   {
    "duration": 9,
    "start_time": "2024-03-23T15:52:27.957Z"
   },
   {
    "duration": 7,
    "start_time": "2024-03-23T15:52:27.968Z"
   },
   {
    "duration": 78,
    "start_time": "2024-03-23T15:52:27.976Z"
   },
   {
    "duration": 0,
    "start_time": "2024-03-23T15:52:28.056Z"
   },
   {
    "duration": 0,
    "start_time": "2024-03-23T15:52:28.058Z"
   },
   {
    "duration": 54,
    "start_time": "2024-03-23T15:53:16.355Z"
   },
   {
    "duration": 65,
    "start_time": "2024-03-23T15:54:03.235Z"
   },
   {
    "duration": 8,
    "start_time": "2024-03-23T15:54:14.611Z"
   },
   {
    "duration": 718,
    "start_time": "2024-03-23T15:54:31.262Z"
   },
   {
    "duration": 720,
    "start_time": "2024-03-23T15:54:44.185Z"
   },
   {
    "duration": 713,
    "start_time": "2024-03-23T15:55:02.884Z"
   },
   {
    "duration": 72,
    "start_time": "2024-03-23T15:55:23.792Z"
   },
   {
    "duration": 8,
    "start_time": "2024-03-23T15:55:23.867Z"
   },
   {
    "duration": 14,
    "start_time": "2024-03-23T15:55:23.877Z"
   },
   {
    "duration": 4,
    "start_time": "2024-03-23T15:55:23.893Z"
   },
   {
    "duration": 13,
    "start_time": "2024-03-23T15:55:23.898Z"
   },
   {
    "duration": 7,
    "start_time": "2024-03-23T15:55:23.912Z"
   },
   {
    "duration": 32,
    "start_time": "2024-03-23T15:55:23.921Z"
   },
   {
    "duration": 25,
    "start_time": "2024-03-23T15:55:23.955Z"
   },
   {
    "duration": 12,
    "start_time": "2024-03-23T15:55:23.982Z"
   },
   {
    "duration": 14,
    "start_time": "2024-03-23T15:55:23.996Z"
   },
   {
    "duration": 12,
    "start_time": "2024-03-23T15:55:24.011Z"
   },
   {
    "duration": 32,
    "start_time": "2024-03-23T15:55:24.024Z"
   },
   {
    "duration": 7,
    "start_time": "2024-03-23T15:55:24.057Z"
   },
   {
    "duration": 21,
    "start_time": "2024-03-23T15:55:24.066Z"
   },
   {
    "duration": 4,
    "start_time": "2024-03-23T15:55:24.088Z"
   },
   {
    "duration": 31,
    "start_time": "2024-03-23T15:55:24.094Z"
   },
   {
    "duration": 25,
    "start_time": "2024-03-23T15:55:24.127Z"
   },
   {
    "duration": 7,
    "start_time": "2024-03-23T15:55:24.154Z"
   },
   {
    "duration": 15,
    "start_time": "2024-03-23T15:55:24.163Z"
   },
   {
    "duration": 20,
    "start_time": "2024-03-23T15:55:24.179Z"
   },
   {
    "duration": 7,
    "start_time": "2024-03-23T15:55:24.200Z"
   },
   {
    "duration": 45,
    "start_time": "2024-03-23T15:55:24.208Z"
   },
   {
    "duration": 31,
    "start_time": "2024-03-23T15:55:24.255Z"
   },
   {
    "duration": 15,
    "start_time": "2024-03-23T15:55:24.287Z"
   },
   {
    "duration": 268,
    "start_time": "2024-03-23T15:55:24.303Z"
   },
   {
    "duration": 9,
    "start_time": "2024-03-23T15:55:24.573Z"
   },
   {
    "duration": 192,
    "start_time": "2024-03-23T15:55:24.584Z"
   },
   {
    "duration": 4,
    "start_time": "2024-03-23T15:55:24.780Z"
   },
   {
    "duration": 7,
    "start_time": "2024-03-23T15:55:24.786Z"
   },
   {
    "duration": 20,
    "start_time": "2024-03-23T15:55:24.794Z"
   },
   {
    "duration": 44,
    "start_time": "2024-03-23T15:55:24.816Z"
   },
   {
    "duration": 0,
    "start_time": "2024-03-23T15:55:24.862Z"
   },
   {
    "duration": 0,
    "start_time": "2024-03-23T15:55:24.862Z"
   },
   {
    "duration": 738,
    "start_time": "2024-03-23T15:56:26.631Z"
   },
   {
    "duration": 687,
    "start_time": "2024-03-23T15:56:55.010Z"
   },
   {
    "duration": 782,
    "start_time": "2024-03-23T15:57:19.787Z"
   },
   {
    "duration": 294,
    "start_time": "2024-03-23T15:57:35.399Z"
   },
   {
    "duration": 8,
    "start_time": "2024-03-23T15:58:41.424Z"
   },
   {
    "duration": 50,
    "start_time": "2024-03-24T06:34:49.936Z"
   },
   {
    "duration": 6,
    "start_time": "2024-03-24T06:35:37.992Z"
   },
   {
    "duration": 66,
    "start_time": "2024-03-24T06:36:43.207Z"
   },
   {
    "duration": 7,
    "start_time": "2024-03-24T06:37:21.776Z"
   },
   {
    "duration": 1561,
    "start_time": "2024-03-24T06:37:55.831Z"
   },
   {
    "duration": 7,
    "start_time": "2024-03-24T06:37:57.394Z"
   },
   {
    "duration": 20,
    "start_time": "2024-03-24T06:37:57.402Z"
   },
   {
    "duration": 6,
    "start_time": "2024-03-24T06:37:57.424Z"
   },
   {
    "duration": 10,
    "start_time": "2024-03-24T06:37:57.431Z"
   },
   {
    "duration": 10,
    "start_time": "2024-03-24T06:37:57.443Z"
   },
   {
    "duration": 12,
    "start_time": "2024-03-24T06:37:57.454Z"
   },
   {
    "duration": 7,
    "start_time": "2024-03-24T06:37:57.468Z"
   },
   {
    "duration": 9,
    "start_time": "2024-03-24T06:37:57.476Z"
   },
   {
    "duration": 7,
    "start_time": "2024-03-24T06:37:57.487Z"
   },
   {
    "duration": 7,
    "start_time": "2024-03-24T06:37:57.495Z"
   },
   {
    "duration": 13,
    "start_time": "2024-03-24T06:37:57.503Z"
   },
   {
    "duration": 12,
    "start_time": "2024-03-24T06:37:57.518Z"
   },
   {
    "duration": 53,
    "start_time": "2024-03-24T06:37:57.531Z"
   },
   {
    "duration": 4,
    "start_time": "2024-03-24T06:37:57.586Z"
   },
   {
    "duration": 8,
    "start_time": "2024-03-24T06:37:57.591Z"
   },
   {
    "duration": 9,
    "start_time": "2024-03-24T06:37:57.600Z"
   },
   {
    "duration": 7,
    "start_time": "2024-03-24T06:37:57.610Z"
   },
   {
    "duration": 8,
    "start_time": "2024-03-24T06:37:57.618Z"
   },
   {
    "duration": 7,
    "start_time": "2024-03-24T06:37:57.627Z"
   },
   {
    "duration": 6,
    "start_time": "2024-03-24T06:37:57.665Z"
   },
   {
    "duration": 21,
    "start_time": "2024-03-24T06:37:57.672Z"
   },
   {
    "duration": 7,
    "start_time": "2024-03-24T06:37:57.695Z"
   },
   {
    "duration": 5,
    "start_time": "2024-03-24T06:37:57.704Z"
   },
   {
    "duration": 245,
    "start_time": "2024-03-24T06:37:57.710Z"
   },
   {
    "duration": 11,
    "start_time": "2024-03-24T06:37:57.957Z"
   },
   {
    "duration": 178,
    "start_time": "2024-03-24T06:37:57.970Z"
   },
   {
    "duration": 81,
    "start_time": "2024-03-24T06:37:58.151Z"
   },
   {
    "duration": 0,
    "start_time": "2024-03-24T06:37:58.234Z"
   },
   {
    "duration": 0,
    "start_time": "2024-03-24T06:37:58.235Z"
   },
   {
    "duration": 0,
    "start_time": "2024-03-24T06:37:58.236Z"
   },
   {
    "duration": 0,
    "start_time": "2024-03-24T06:37:58.238Z"
   },
   {
    "duration": 0,
    "start_time": "2024-03-24T06:37:58.239Z"
   },
   {
    "duration": 0,
    "start_time": "2024-03-24T06:37:58.240Z"
   },
   {
    "duration": 293,
    "start_time": "2024-03-24T06:38:20.360Z"
   },
   {
    "duration": 286,
    "start_time": "2024-03-24T06:38:37.280Z"
   },
   {
    "duration": 425,
    "start_time": "2024-03-24T06:38:55.136Z"
   },
   {
    "duration": 275,
    "start_time": "2024-03-24T06:39:09.968Z"
   },
   {
    "duration": 255,
    "start_time": "2024-03-24T06:39:21.594Z"
   },
   {
    "duration": 293,
    "start_time": "2024-03-24T06:39:36.519Z"
   },
   {
    "duration": 259,
    "start_time": "2024-03-24T06:39:43.099Z"
   },
   {
    "duration": 15,
    "start_time": "2024-03-24T06:40:29.671Z"
   },
   {
    "duration": 25,
    "start_time": "2024-03-24T06:40:47.989Z"
   },
   {
    "duration": 882,
    "start_time": "2024-03-24T06:41:23.236Z"
   },
   {
    "duration": 20,
    "start_time": "2024-03-24T06:41:41.319Z"
   },
   {
    "duration": 17,
    "start_time": "2024-03-24T06:43:16.031Z"
   },
   {
    "duration": 13,
    "start_time": "2024-03-24T06:43:49.761Z"
   },
   {
    "duration": 65,
    "start_time": "2024-03-24T06:44:31.258Z"
   },
   {
    "duration": 185,
    "start_time": "2024-03-24T06:44:36.147Z"
   },
   {
    "duration": 129,
    "start_time": "2024-03-24T06:46:20.499Z"
   },
   {
    "duration": 733,
    "start_time": "2024-03-24T06:46:46.304Z"
   },
   {
    "duration": 11,
    "start_time": "2024-03-24T06:46:58.983Z"
   },
   {
    "duration": 19,
    "start_time": "2024-03-24T06:47:17.752Z"
   },
   {
    "duration": 0,
    "start_time": "2024-03-24T06:47:58.300Z"
   },
   {
    "duration": 66,
    "start_time": "2024-03-24T06:48:20.993Z"
   },
   {
    "duration": 5,
    "start_time": "2024-03-24T06:48:21.061Z"
   },
   {
    "duration": 26,
    "start_time": "2024-03-24T06:48:21.068Z"
   },
   {
    "duration": 24,
    "start_time": "2024-03-24T06:48:21.095Z"
   },
   {
    "duration": 24,
    "start_time": "2024-03-24T06:48:21.120Z"
   },
   {
    "duration": 22,
    "start_time": "2024-03-24T06:48:21.146Z"
   },
   {
    "duration": 19,
    "start_time": "2024-03-24T06:48:21.170Z"
   },
   {
    "duration": 18,
    "start_time": "2024-03-24T06:48:21.191Z"
   },
   {
    "duration": 21,
    "start_time": "2024-03-24T06:48:21.211Z"
   },
   {
    "duration": 19,
    "start_time": "2024-03-24T06:48:21.234Z"
   },
   {
    "duration": 23,
    "start_time": "2024-03-24T06:48:21.254Z"
   },
   {
    "duration": 24,
    "start_time": "2024-03-24T06:48:21.279Z"
   },
   {
    "duration": 12,
    "start_time": "2024-03-24T06:48:21.305Z"
   },
   {
    "duration": 29,
    "start_time": "2024-03-24T06:48:21.318Z"
   },
   {
    "duration": 26,
    "start_time": "2024-03-24T06:48:21.348Z"
   },
   {
    "duration": 23,
    "start_time": "2024-03-24T06:48:21.375Z"
   },
   {
    "duration": 26,
    "start_time": "2024-03-24T06:48:21.399Z"
   },
   {
    "duration": 24,
    "start_time": "2024-03-24T06:48:21.427Z"
   },
   {
    "duration": 11,
    "start_time": "2024-03-24T06:48:21.453Z"
   },
   {
    "duration": 11,
    "start_time": "2024-03-24T06:48:21.466Z"
   },
   {
    "duration": 9,
    "start_time": "2024-03-24T06:48:21.479Z"
   },
   {
    "duration": 11,
    "start_time": "2024-03-24T06:48:21.489Z"
   },
   {
    "duration": 14,
    "start_time": "2024-03-24T06:48:21.501Z"
   },
   {
    "duration": 5,
    "start_time": "2024-03-24T06:48:21.516Z"
   },
   {
    "duration": 234,
    "start_time": "2024-03-24T06:48:21.522Z"
   },
   {
    "duration": 10,
    "start_time": "2024-03-24T06:48:21.758Z"
   },
   {
    "duration": 186,
    "start_time": "2024-03-24T06:48:21.771Z"
   },
   {
    "duration": 8,
    "start_time": "2024-03-24T06:48:21.959Z"
   },
   {
    "duration": 0,
    "start_time": "2024-03-24T06:48:21.969Z"
   },
   {
    "duration": 0,
    "start_time": "2024-03-24T06:48:21.970Z"
   },
   {
    "duration": 0,
    "start_time": "2024-03-24T06:48:21.972Z"
   },
   {
    "duration": 0,
    "start_time": "2024-03-24T06:48:21.973Z"
   },
   {
    "duration": 0,
    "start_time": "2024-03-24T06:48:21.975Z"
   },
   {
    "duration": 0,
    "start_time": "2024-03-24T06:48:21.976Z"
   },
   {
    "duration": 215,
    "start_time": "2024-03-24T06:49:06.050Z"
   },
   {
    "duration": 190,
    "start_time": "2024-03-24T06:49:23.286Z"
   },
   {
    "duration": 205,
    "start_time": "2024-03-24T06:49:33.414Z"
   },
   {
    "duration": 219,
    "start_time": "2024-03-24T06:50:59.032Z"
   },
   {
    "duration": 568,
    "start_time": "2024-03-24T06:51:25.968Z"
   },
   {
    "duration": 120,
    "start_time": "2024-03-24T06:52:15.365Z"
   },
   {
    "duration": 64,
    "start_time": "2024-03-24T06:52:53.070Z"
   },
   {
    "duration": 5,
    "start_time": "2024-03-24T06:52:53.136Z"
   },
   {
    "duration": 32,
    "start_time": "2024-03-24T06:52:53.143Z"
   },
   {
    "duration": 32,
    "start_time": "2024-03-24T06:52:53.177Z"
   },
   {
    "duration": 30,
    "start_time": "2024-03-24T06:52:53.210Z"
   },
   {
    "duration": 27,
    "start_time": "2024-03-24T06:52:53.241Z"
   },
   {
    "duration": 29,
    "start_time": "2024-03-24T06:52:53.270Z"
   },
   {
    "duration": 26,
    "start_time": "2024-03-24T06:52:53.300Z"
   },
   {
    "duration": 33,
    "start_time": "2024-03-24T06:52:53.328Z"
   },
   {
    "duration": 11,
    "start_time": "2024-03-24T06:52:53.363Z"
   },
   {
    "duration": 21,
    "start_time": "2024-03-24T06:52:53.376Z"
   },
   {
    "duration": 33,
    "start_time": "2024-03-24T06:52:53.398Z"
   },
   {
    "duration": 20,
    "start_time": "2024-03-24T06:52:53.433Z"
   },
   {
    "duration": 26,
    "start_time": "2024-03-24T06:52:53.455Z"
   },
   {
    "duration": 12,
    "start_time": "2024-03-24T06:52:53.483Z"
   },
   {
    "duration": 36,
    "start_time": "2024-03-24T06:52:53.497Z"
   },
   {
    "duration": 23,
    "start_time": "2024-03-24T06:52:53.535Z"
   },
   {
    "duration": 24,
    "start_time": "2024-03-24T06:52:53.560Z"
   },
   {
    "duration": 32,
    "start_time": "2024-03-24T06:52:53.586Z"
   },
   {
    "duration": 34,
    "start_time": "2024-03-24T06:52:53.620Z"
   },
   {
    "duration": 23,
    "start_time": "2024-03-24T06:52:53.656Z"
   },
   {
    "duration": 15,
    "start_time": "2024-03-24T06:52:53.681Z"
   },
   {
    "duration": 13,
    "start_time": "2024-03-24T06:52:53.697Z"
   },
   {
    "duration": 21,
    "start_time": "2024-03-24T06:52:53.711Z"
   },
   {
    "duration": 223,
    "start_time": "2024-03-24T06:52:53.733Z"
   },
   {
    "duration": 6,
    "start_time": "2024-03-24T06:52:53.965Z"
   },
   {
    "duration": 199,
    "start_time": "2024-03-24T06:52:53.974Z"
   },
   {
    "duration": 10,
    "start_time": "2024-03-24T06:52:54.176Z"
   },
   {
    "duration": 0,
    "start_time": "2024-03-24T06:52:54.187Z"
   },
   {
    "duration": 0,
    "start_time": "2024-03-24T06:52:54.188Z"
   },
   {
    "duration": 0,
    "start_time": "2024-03-24T06:52:54.189Z"
   },
   {
    "duration": 0,
    "start_time": "2024-03-24T06:52:54.190Z"
   },
   {
    "duration": 0,
    "start_time": "2024-03-24T06:52:54.192Z"
   },
   {
    "duration": 0,
    "start_time": "2024-03-24T06:52:54.193Z"
   },
   {
    "duration": 21489,
    "start_time": "2024-03-24T06:53:03.782Z"
   },
   {
    "duration": 146,
    "start_time": "2024-03-24T07:00:21.683Z"
   },
   {
    "duration": 15,
    "start_time": "2024-03-24T07:00:36.167Z"
   },
   {
    "duration": 66,
    "start_time": "2024-03-24T07:06:24.587Z"
   },
   {
    "duration": 6,
    "start_time": "2024-03-24T07:06:24.654Z"
   },
   {
    "duration": 23,
    "start_time": "2024-03-24T07:06:24.662Z"
   },
   {
    "duration": 20,
    "start_time": "2024-03-24T07:06:24.687Z"
   },
   {
    "duration": 29,
    "start_time": "2024-03-24T07:06:24.708Z"
   },
   {
    "duration": 22,
    "start_time": "2024-03-24T07:06:24.739Z"
   },
   {
    "duration": 22,
    "start_time": "2024-03-24T07:06:24.762Z"
   },
   {
    "duration": 16,
    "start_time": "2024-03-24T07:06:24.786Z"
   },
   {
    "duration": 18,
    "start_time": "2024-03-24T07:06:24.805Z"
   },
   {
    "duration": 16,
    "start_time": "2024-03-24T07:06:24.825Z"
   },
   {
    "duration": 13,
    "start_time": "2024-03-24T07:06:24.843Z"
   },
   {
    "duration": 19,
    "start_time": "2024-03-24T07:06:24.858Z"
   },
   {
    "duration": 15,
    "start_time": "2024-03-24T07:06:24.879Z"
   },
   {
    "duration": 24,
    "start_time": "2024-03-24T07:06:24.896Z"
   },
   {
    "duration": 8,
    "start_time": "2024-03-24T07:06:24.922Z"
   },
   {
    "duration": 28,
    "start_time": "2024-03-24T07:06:24.932Z"
   },
   {
    "duration": 14,
    "start_time": "2024-03-24T07:06:24.962Z"
   },
   {
    "duration": 29,
    "start_time": "2024-03-24T07:06:24.978Z"
   },
   {
    "duration": 21,
    "start_time": "2024-03-24T07:06:25.009Z"
   },
   {
    "duration": 15,
    "start_time": "2024-03-24T07:06:25.032Z"
   },
   {
    "duration": 21,
    "start_time": "2024-03-24T07:06:25.049Z"
   },
   {
    "duration": 15,
    "start_time": "2024-03-24T07:06:25.072Z"
   },
   {
    "duration": 21,
    "start_time": "2024-03-24T07:06:25.089Z"
   },
   {
    "duration": 8,
    "start_time": "2024-03-24T07:06:25.112Z"
   },
   {
    "duration": 245,
    "start_time": "2024-03-24T07:06:25.122Z"
   },
   {
    "duration": 5,
    "start_time": "2024-03-24T07:06:25.368Z"
   },
   {
    "duration": 169,
    "start_time": "2024-03-24T07:06:25.376Z"
   },
   {
    "duration": 8,
    "start_time": "2024-03-24T07:06:25.546Z"
   },
   {
    "duration": 0,
    "start_time": "2024-03-24T07:06:25.556Z"
   },
   {
    "duration": 0,
    "start_time": "2024-03-24T07:06:25.557Z"
   },
   {
    "duration": 0,
    "start_time": "2024-03-24T07:06:25.558Z"
   },
   {
    "duration": 0,
    "start_time": "2024-03-24T07:06:25.566Z"
   },
   {
    "duration": 0,
    "start_time": "2024-03-24T07:06:25.566Z"
   },
   {
    "duration": 0,
    "start_time": "2024-03-24T07:06:25.567Z"
   },
   {
    "duration": 15,
    "start_time": "2024-03-24T07:06:38.111Z"
   },
   {
    "duration": 18,
    "start_time": "2024-03-24T07:06:47.332Z"
   },
   {
    "duration": 20,
    "start_time": "2024-03-24T07:07:23.089Z"
   },
   {
    "duration": 67,
    "start_time": "2024-03-24T07:09:32.533Z"
   },
   {
    "duration": 64,
    "start_time": "2024-03-24T07:09:54.621Z"
   },
   {
    "duration": 62,
    "start_time": "2024-03-24T07:10:33.102Z"
   },
   {
    "duration": 64,
    "start_time": "2024-03-24T07:10:44.339Z"
   },
   {
    "duration": 61,
    "start_time": "2024-03-24T07:11:02.071Z"
   },
   {
    "duration": 241,
    "start_time": "2024-03-24T07:11:20.765Z"
   },
   {
    "duration": 226,
    "start_time": "2024-03-24T07:11:28.284Z"
   },
   {
    "duration": 661,
    "start_time": "2024-03-24T07:11:35.637Z"
   },
   {
    "duration": 200,
    "start_time": "2024-03-24T07:11:48.437Z"
   },
   {
    "duration": 10,
    "start_time": "2024-03-24T07:13:15.144Z"
   },
   {
    "duration": 137,
    "start_time": "2024-03-24T07:13:26.832Z"
   },
   {
    "duration": 11,
    "start_time": "2024-03-24T07:13:49.892Z"
   },
   {
    "duration": 66,
    "start_time": "2024-03-24T07:14:45.705Z"
   },
   {
    "duration": 5,
    "start_time": "2024-03-24T07:14:45.773Z"
   },
   {
    "duration": 17,
    "start_time": "2024-03-24T07:14:45.779Z"
   },
   {
    "duration": 17,
    "start_time": "2024-03-24T07:14:45.798Z"
   },
   {
    "duration": 12,
    "start_time": "2024-03-24T07:14:45.817Z"
   },
   {
    "duration": 14,
    "start_time": "2024-03-24T07:14:45.830Z"
   },
   {
    "duration": 22,
    "start_time": "2024-03-24T07:14:45.846Z"
   },
   {
    "duration": 14,
    "start_time": "2024-03-24T07:14:45.871Z"
   },
   {
    "duration": 10,
    "start_time": "2024-03-24T07:14:45.886Z"
   },
   {
    "duration": 13,
    "start_time": "2024-03-24T07:14:45.898Z"
   },
   {
    "duration": 10,
    "start_time": "2024-03-24T07:14:45.913Z"
   },
   {
    "duration": 12,
    "start_time": "2024-03-24T07:14:45.966Z"
   },
   {
    "duration": 7,
    "start_time": "2024-03-24T07:14:45.980Z"
   },
   {
    "duration": 17,
    "start_time": "2024-03-24T07:14:45.989Z"
   },
   {
    "duration": 6,
    "start_time": "2024-03-24T07:14:46.008Z"
   },
   {
    "duration": 13,
    "start_time": "2024-03-24T07:14:46.015Z"
   },
   {
    "duration": 41,
    "start_time": "2024-03-24T07:14:46.030Z"
   },
   {
    "duration": 11,
    "start_time": "2024-03-24T07:14:46.072Z"
   },
   {
    "duration": 5,
    "start_time": "2024-03-24T07:14:46.084Z"
   },
   {
    "duration": 8,
    "start_time": "2024-03-24T07:14:46.090Z"
   },
   {
    "duration": 9,
    "start_time": "2024-03-24T07:14:46.099Z"
   },
   {
    "duration": 9,
    "start_time": "2024-03-24T07:14:46.109Z"
   },
   {
    "duration": 10,
    "start_time": "2024-03-24T07:14:46.119Z"
   },
   {
    "duration": 5,
    "start_time": "2024-03-24T07:14:46.165Z"
   },
   {
    "duration": 219,
    "start_time": "2024-03-24T07:14:46.172Z"
   },
   {
    "duration": 5,
    "start_time": "2024-03-24T07:14:46.394Z"
   },
   {
    "duration": 172,
    "start_time": "2024-03-24T07:14:46.400Z"
   },
   {
    "duration": 8,
    "start_time": "2024-03-24T07:14:46.573Z"
   },
   {
    "duration": 0,
    "start_time": "2024-03-24T07:14:46.583Z"
   },
   {
    "duration": 0,
    "start_time": "2024-03-24T07:14:46.584Z"
   },
   {
    "duration": 0,
    "start_time": "2024-03-24T07:14:46.585Z"
   },
   {
    "duration": 0,
    "start_time": "2024-03-24T07:14:46.586Z"
   },
   {
    "duration": 0,
    "start_time": "2024-03-24T07:14:46.588Z"
   },
   {
    "duration": 0,
    "start_time": "2024-03-24T07:14:46.590Z"
   },
   {
    "duration": 18486,
    "start_time": "2024-03-24T07:14:48.484Z"
   },
   {
    "duration": 18181,
    "start_time": "2024-03-24T07:15:20.551Z"
   },
   {
    "duration": 60,
    "start_time": "2024-03-24T07:15:50.428Z"
   },
   {
    "duration": 72,
    "start_time": "2024-03-24T07:16:05.734Z"
   },
   {
    "duration": 71,
    "start_time": "2024-03-24T07:16:17.193Z"
   },
   {
    "duration": 18217,
    "start_time": "2024-03-24T07:16:41.631Z"
   },
   {
    "duration": 3244,
    "start_time": "2024-03-24T07:17:24.151Z"
   },
   {
    "duration": 257,
    "start_time": "2024-03-24T07:19:14.398Z"
   },
   {
    "duration": 256,
    "start_time": "2024-03-24T07:19:31.587Z"
   },
   {
    "duration": 151,
    "start_time": "2024-03-24T07:19:42.806Z"
   },
   {
    "duration": 2973,
    "start_time": "2024-03-24T07:19:54.356Z"
   },
   {
    "duration": 138,
    "start_time": "2024-03-24T07:20:09.176Z"
   },
   {
    "duration": 12,
    "start_time": "2024-03-24T07:20:26.493Z"
   },
   {
    "duration": 11,
    "start_time": "2024-03-24T07:20:39.533Z"
   },
   {
    "duration": 14,
    "start_time": "2024-03-24T07:20:59.913Z"
   },
   {
    "duration": 4,
    "start_time": "2024-03-24T07:25:35.622Z"
   },
   {
    "duration": 67,
    "start_time": "2024-03-24T07:27:06.860Z"
   },
   {
    "duration": 170,
    "start_time": "2024-03-24T07:27:12.260Z"
   },
   {
    "duration": 66,
    "start_time": "2024-03-24T07:28:35.720Z"
   },
   {
    "duration": 66,
    "start_time": "2024-03-24T07:28:52.205Z"
   },
   {
    "duration": 57,
    "start_time": "2024-03-24T07:28:59.341Z"
   },
   {
    "duration": 62,
    "start_time": "2024-03-24T07:29:07.427Z"
   },
   {
    "duration": 66,
    "start_time": "2024-03-24T07:29:21.630Z"
   },
   {
    "duration": 5,
    "start_time": "2024-03-24T07:29:21.698Z"
   },
   {
    "duration": 24,
    "start_time": "2024-03-24T07:29:21.704Z"
   },
   {
    "duration": 17,
    "start_time": "2024-03-24T07:29:21.730Z"
   },
   {
    "duration": 12,
    "start_time": "2024-03-24T07:29:21.749Z"
   },
   {
    "duration": 13,
    "start_time": "2024-03-24T07:29:21.763Z"
   },
   {
    "duration": 15,
    "start_time": "2024-03-24T07:29:21.778Z"
   },
   {
    "duration": 9,
    "start_time": "2024-03-24T07:29:21.795Z"
   },
   {
    "duration": 15,
    "start_time": "2024-03-24T07:29:21.806Z"
   },
   {
    "duration": 250,
    "start_time": "2024-03-24T07:29:21.824Z"
   },
   {
    "duration": 8,
    "start_time": "2024-03-24T07:29:22.075Z"
   },
   {
    "duration": 14,
    "start_time": "2024-03-24T07:29:22.084Z"
   },
   {
    "duration": 15,
    "start_time": "2024-03-24T07:29:22.099Z"
   },
   {
    "duration": 21,
    "start_time": "2024-03-24T07:29:22.115Z"
   },
   {
    "duration": 11,
    "start_time": "2024-03-24T07:29:22.138Z"
   },
   {
    "duration": 14,
    "start_time": "2024-03-24T07:29:22.151Z"
   },
   {
    "duration": 32,
    "start_time": "2024-03-24T07:29:22.167Z"
   },
   {
    "duration": 10,
    "start_time": "2024-03-24T07:29:22.201Z"
   },
   {
    "duration": 13,
    "start_time": "2024-03-24T07:29:22.212Z"
   },
   {
    "duration": 11,
    "start_time": "2024-03-24T07:29:22.227Z"
   },
   {
    "duration": 7,
    "start_time": "2024-03-24T07:29:22.240Z"
   },
   {
    "duration": 14,
    "start_time": "2024-03-24T07:29:22.249Z"
   },
   {
    "duration": 22,
    "start_time": "2024-03-24T07:29:22.265Z"
   },
   {
    "duration": 7,
    "start_time": "2024-03-24T07:29:22.289Z"
   },
   {
    "duration": 214,
    "start_time": "2024-03-24T07:29:22.297Z"
   },
   {
    "duration": 5,
    "start_time": "2024-03-24T07:29:22.513Z"
   },
   {
    "duration": 168,
    "start_time": "2024-03-24T07:29:22.520Z"
   },
   {
    "duration": 8,
    "start_time": "2024-03-24T07:29:22.691Z"
   },
   {
    "duration": 0,
    "start_time": "2024-03-24T07:29:22.701Z"
   },
   {
    "duration": 0,
    "start_time": "2024-03-24T07:29:22.702Z"
   },
   {
    "duration": 0,
    "start_time": "2024-03-24T07:29:22.703Z"
   },
   {
    "duration": 0,
    "start_time": "2024-03-24T07:29:22.704Z"
   },
   {
    "duration": 0,
    "start_time": "2024-03-24T07:29:22.705Z"
   },
   {
    "duration": 0,
    "start_time": "2024-03-24T07:29:22.706Z"
   },
   {
    "duration": 62,
    "start_time": "2024-03-24T07:29:37.743Z"
   },
   {
    "duration": 57,
    "start_time": "2024-03-24T07:30:18.092Z"
   },
   {
    "duration": 8,
    "start_time": "2024-03-24T07:31:54.218Z"
   },
   {
    "duration": 8,
    "start_time": "2024-03-24T07:32:08.231Z"
   },
   {
    "duration": 9,
    "start_time": "2024-03-24T07:37:18.676Z"
   },
   {
    "duration": 101,
    "start_time": "2024-03-24T07:37:23.615Z"
   },
   {
    "duration": 56,
    "start_time": "2024-03-24T07:42:44.097Z"
   },
   {
    "duration": 11,
    "start_time": "2024-03-24T07:42:59.987Z"
   },
   {
    "duration": 12,
    "start_time": "2024-03-24T07:43:08.788Z"
   },
   {
    "duration": 70,
    "start_time": "2024-03-24T07:43:33.197Z"
   },
   {
    "duration": 113,
    "start_time": "2024-03-24T07:43:52.700Z"
   },
   {
    "duration": 8,
    "start_time": "2024-03-24T07:45:41.892Z"
   },
   {
    "duration": 8,
    "start_time": "2024-03-24T07:46:05.564Z"
   },
   {
    "duration": 8,
    "start_time": "2024-03-24T07:46:20.387Z"
   },
   {
    "duration": 8,
    "start_time": "2024-03-24T07:46:31.380Z"
   },
   {
    "duration": 98,
    "start_time": "2024-03-24T07:57:13.241Z"
   },
   {
    "duration": 91,
    "start_time": "2024-03-24T07:57:53.233Z"
   },
   {
    "duration": 106,
    "start_time": "2024-03-24T07:59:00.461Z"
   },
   {
    "duration": 115,
    "start_time": "2024-03-24T07:59:57.066Z"
   },
   {
    "duration": 99,
    "start_time": "2024-03-24T08:00:04.019Z"
   },
   {
    "duration": 99,
    "start_time": "2024-03-24T08:00:11.017Z"
   },
   {
    "duration": 111,
    "start_time": "2024-03-24T08:00:52.466Z"
   },
   {
    "duration": 93,
    "start_time": "2024-03-24T08:01:19.407Z"
   },
   {
    "duration": 63,
    "start_time": "2024-03-24T08:01:53.666Z"
   },
   {
    "duration": 70,
    "start_time": "2024-03-24T08:02:36.544Z"
   },
   {
    "duration": 61,
    "start_time": "2024-03-24T08:02:54.107Z"
   },
   {
    "duration": 57,
    "start_time": "2024-03-24T08:02:59.451Z"
   },
   {
    "duration": 110,
    "start_time": "2024-03-24T08:03:14.971Z"
   },
   {
    "duration": 101,
    "start_time": "2024-03-24T08:03:22.379Z"
   },
   {
    "duration": 96,
    "start_time": "2024-03-24T08:03:31.401Z"
   },
   {
    "duration": 68,
    "start_time": "2024-03-24T08:09:01.165Z"
   },
   {
    "duration": 26,
    "start_time": "2024-03-24T08:09:01.235Z"
   },
   {
    "duration": 77,
    "start_time": "2024-03-24T08:09:01.263Z"
   },
   {
    "duration": 57,
    "start_time": "2024-03-24T08:09:01.342Z"
   },
   {
    "duration": 58,
    "start_time": "2024-03-24T08:09:01.400Z"
   },
   {
    "duration": 103,
    "start_time": "2024-03-24T08:09:01.459Z"
   },
   {
    "duration": 42,
    "start_time": "2024-03-24T08:09:01.564Z"
   },
   {
    "duration": 46,
    "start_time": "2024-03-24T08:09:01.608Z"
   },
   {
    "duration": 69,
    "start_time": "2024-03-24T08:09:01.656Z"
   },
   {
    "duration": 203,
    "start_time": "2024-03-24T08:09:01.728Z"
   },
   {
    "duration": 7,
    "start_time": "2024-03-24T08:09:01.933Z"
   },
   {
    "duration": 30,
    "start_time": "2024-03-24T08:09:01.941Z"
   },
   {
    "duration": 42,
    "start_time": "2024-03-24T08:09:01.973Z"
   },
   {
    "duration": 26,
    "start_time": "2024-03-24T08:09:02.016Z"
   },
   {
    "duration": 5,
    "start_time": "2024-03-24T08:09:02.043Z"
   },
   {
    "duration": 24,
    "start_time": "2024-03-24T08:09:02.049Z"
   },
   {
    "duration": 24,
    "start_time": "2024-03-24T08:09:02.075Z"
   },
   {
    "duration": 41,
    "start_time": "2024-03-24T08:09:02.101Z"
   },
   {
    "duration": 66,
    "start_time": "2024-03-24T08:09:02.144Z"
   },
   {
    "duration": 31,
    "start_time": "2024-03-24T08:09:02.212Z"
   },
   {
    "duration": 61,
    "start_time": "2024-03-24T08:09:02.244Z"
   },
   {
    "duration": 29,
    "start_time": "2024-03-24T08:09:02.307Z"
   },
   {
    "duration": 54,
    "start_time": "2024-03-24T08:09:02.337Z"
   },
   {
    "duration": 52,
    "start_time": "2024-03-24T08:09:02.392Z"
   },
   {
    "duration": 261,
    "start_time": "2024-03-24T08:09:02.446Z"
   },
   {
    "duration": 6,
    "start_time": "2024-03-24T08:09:02.709Z"
   },
   {
    "duration": 167,
    "start_time": "2024-03-24T08:09:02.716Z"
   },
   {
    "duration": 8,
    "start_time": "2024-03-24T08:09:02.887Z"
   },
   {
    "duration": 0,
    "start_time": "2024-03-24T08:09:02.896Z"
   },
   {
    "duration": 0,
    "start_time": "2024-03-24T08:09:02.897Z"
   },
   {
    "duration": 0,
    "start_time": "2024-03-24T08:09:02.898Z"
   },
   {
    "duration": 0,
    "start_time": "2024-03-24T08:09:02.899Z"
   },
   {
    "duration": 0,
    "start_time": "2024-03-24T08:09:02.900Z"
   },
   {
    "duration": 0,
    "start_time": "2024-03-24T08:09:02.901Z"
   },
   {
    "duration": 1,
    "start_time": "2024-03-24T08:09:02.902Z"
   },
   {
    "duration": 68,
    "start_time": "2024-03-24T08:12:20.338Z"
   },
   {
    "duration": 17,
    "start_time": "2024-03-24T08:12:34.190Z"
   },
   {
    "duration": 14,
    "start_time": "2024-03-24T08:12:54.473Z"
   },
   {
    "duration": 14,
    "start_time": "2024-03-24T08:13:52.567Z"
   },
   {
    "duration": 14,
    "start_time": "2024-03-24T08:14:22.982Z"
   },
   {
    "duration": 14,
    "start_time": "2024-03-24T08:14:36.565Z"
   },
   {
    "duration": 12,
    "start_time": "2024-03-24T08:16:39.382Z"
   },
   {
    "duration": 15,
    "start_time": "2024-03-24T08:17:11.177Z"
   },
   {
    "duration": 17,
    "start_time": "2024-03-24T08:17:46.659Z"
   },
   {
    "duration": 150,
    "start_time": "2024-03-24T08:18:24.910Z"
   },
   {
    "duration": 153,
    "start_time": "2024-03-24T08:19:04.604Z"
   },
   {
    "duration": 18,
    "start_time": "2024-03-24T08:20:55.721Z"
   },
   {
    "duration": 164,
    "start_time": "2024-03-24T08:21:15.966Z"
   },
   {
    "duration": 15,
    "start_time": "2024-03-24T08:21:31.442Z"
   },
   {
    "duration": 17,
    "start_time": "2024-03-24T08:23:19.630Z"
   },
   {
    "duration": 70,
    "start_time": "2024-03-24T08:23:48.964Z"
   },
   {
    "duration": 5,
    "start_time": "2024-03-24T08:23:49.036Z"
   },
   {
    "duration": 14,
    "start_time": "2024-03-24T08:23:49.043Z"
   },
   {
    "duration": 12,
    "start_time": "2024-03-24T08:23:49.059Z"
   },
   {
    "duration": 20,
    "start_time": "2024-03-24T08:23:49.073Z"
   },
   {
    "duration": 8,
    "start_time": "2024-03-24T08:23:49.094Z"
   },
   {
    "duration": 12,
    "start_time": "2024-03-24T08:23:49.104Z"
   },
   {
    "duration": 9,
    "start_time": "2024-03-24T08:23:49.117Z"
   },
   {
    "duration": 41,
    "start_time": "2024-03-24T08:23:49.128Z"
   },
   {
    "duration": 10,
    "start_time": "2024-03-24T08:23:49.172Z"
   },
   {
    "duration": 6,
    "start_time": "2024-03-24T08:23:49.184Z"
   },
   {
    "duration": 11,
    "start_time": "2024-03-24T08:23:49.192Z"
   },
   {
    "duration": 9,
    "start_time": "2024-03-24T08:23:49.205Z"
   },
   {
    "duration": 62,
    "start_time": "2024-03-24T08:23:49.215Z"
   },
   {
    "duration": 5,
    "start_time": "2024-03-24T08:23:49.278Z"
   },
   {
    "duration": 13,
    "start_time": "2024-03-24T08:23:49.284Z"
   },
   {
    "duration": 9,
    "start_time": "2024-03-24T08:23:49.299Z"
   },
   {
    "duration": 7,
    "start_time": "2024-03-24T08:23:49.309Z"
   },
   {
    "duration": 49,
    "start_time": "2024-03-24T08:23:49.317Z"
   },
   {
    "duration": 6,
    "start_time": "2024-03-24T08:23:49.368Z"
   },
   {
    "duration": 7,
    "start_time": "2024-03-24T08:23:49.376Z"
   },
   {
    "duration": 15,
    "start_time": "2024-03-24T08:23:49.384Z"
   },
   {
    "duration": 13,
    "start_time": "2024-03-24T08:23:49.401Z"
   },
   {
    "duration": 13,
    "start_time": "2024-03-24T08:23:49.416Z"
   },
   {
    "duration": 251,
    "start_time": "2024-03-24T08:23:49.431Z"
   },
   {
    "duration": 6,
    "start_time": "2024-03-24T08:23:49.683Z"
   },
   {
    "duration": 22,
    "start_time": "2024-03-24T08:23:49.690Z"
   },
   {
    "duration": 0,
    "start_time": "2024-03-24T08:23:49.713Z"
   },
   {
    "duration": 0,
    "start_time": "2024-03-24T08:23:49.715Z"
   },
   {
    "duration": 0,
    "start_time": "2024-03-24T08:23:49.716Z"
   },
   {
    "duration": 0,
    "start_time": "2024-03-24T08:23:49.717Z"
   },
   {
    "duration": 0,
    "start_time": "2024-03-24T08:23:49.718Z"
   },
   {
    "duration": 0,
    "start_time": "2024-03-24T08:23:49.719Z"
   },
   {
    "duration": 0,
    "start_time": "2024-03-24T08:23:49.720Z"
   },
   {
    "duration": 0,
    "start_time": "2024-03-24T08:23:49.721Z"
   },
   {
    "duration": 17,
    "start_time": "2024-03-24T08:24:24.807Z"
   },
   {
    "duration": 1003,
    "start_time": "2024-03-24T08:24:59.306Z"
   },
   {
    "duration": 66,
    "start_time": "2024-03-24T08:27:22.443Z"
   },
   {
    "duration": 7,
    "start_time": "2024-03-24T08:27:22.511Z"
   },
   {
    "duration": 52,
    "start_time": "2024-03-24T08:27:22.520Z"
   },
   {
    "duration": 3,
    "start_time": "2024-03-24T08:27:22.573Z"
   },
   {
    "duration": 12,
    "start_time": "2024-03-24T08:27:22.578Z"
   },
   {
    "duration": 16,
    "start_time": "2024-03-24T08:27:22.592Z"
   },
   {
    "duration": 18,
    "start_time": "2024-03-24T08:27:22.609Z"
   },
   {
    "duration": 38,
    "start_time": "2024-03-24T08:27:22.629Z"
   },
   {
    "duration": 475,
    "start_time": "2024-03-24T08:27:22.670Z"
   },
   {
    "duration": 20,
    "start_time": "2024-03-24T08:27:23.146Z"
   },
   {
    "duration": 6,
    "start_time": "2024-03-24T08:27:23.167Z"
   },
   {
    "duration": 19,
    "start_time": "2024-03-24T08:27:23.175Z"
   },
   {
    "duration": 9,
    "start_time": "2024-03-24T08:27:23.195Z"
   },
   {
    "duration": 14,
    "start_time": "2024-03-24T08:27:23.205Z"
   },
   {
    "duration": 4,
    "start_time": "2024-03-24T08:27:23.221Z"
   },
   {
    "duration": 40,
    "start_time": "2024-03-24T08:27:23.226Z"
   },
   {
    "duration": 8,
    "start_time": "2024-03-24T08:27:23.268Z"
   },
   {
    "duration": 21,
    "start_time": "2024-03-24T08:27:23.278Z"
   },
   {
    "duration": 10,
    "start_time": "2024-03-24T08:27:23.301Z"
   },
   {
    "duration": 16,
    "start_time": "2024-03-24T08:27:23.313Z"
   },
   {
    "duration": 7,
    "start_time": "2024-03-24T08:27:23.330Z"
   },
   {
    "duration": 7,
    "start_time": "2024-03-24T08:27:23.338Z"
   },
   {
    "duration": 8,
    "start_time": "2024-03-24T08:27:23.365Z"
   },
   {
    "duration": 14,
    "start_time": "2024-03-24T08:27:23.374Z"
   },
   {
    "duration": 233,
    "start_time": "2024-03-24T08:27:23.390Z"
   },
   {
    "duration": 22,
    "start_time": "2024-03-24T08:28:25.753Z"
   },
   {
    "duration": 0,
    "start_time": "2024-03-24T08:28:25.778Z"
   },
   {
    "duration": 0,
    "start_time": "2024-03-24T08:28:25.780Z"
   },
   {
    "duration": 0,
    "start_time": "2024-03-24T08:28:25.781Z"
   },
   {
    "duration": 0,
    "start_time": "2024-03-24T08:28:25.783Z"
   },
   {
    "duration": 0,
    "start_time": "2024-03-24T08:28:25.784Z"
   },
   {
    "duration": 0,
    "start_time": "2024-03-24T08:28:25.785Z"
   },
   {
    "duration": 0,
    "start_time": "2024-03-24T08:28:25.786Z"
   },
   {
    "duration": 0,
    "start_time": "2024-03-24T08:28:25.789Z"
   },
   {
    "duration": 0,
    "start_time": "2024-03-24T08:28:25.790Z"
   },
   {
    "duration": 58054,
    "start_time": "2024-03-24T08:31:43.267Z"
   },
   {
    "duration": 15,
    "start_time": "2024-03-24T09:40:04.196Z"
   },
   {
    "duration": 66,
    "start_time": "2024-03-24T09:40:34.682Z"
   },
   {
    "duration": 6,
    "start_time": "2024-03-24T09:40:34.750Z"
   },
   {
    "duration": 30,
    "start_time": "2024-03-24T09:40:34.757Z"
   },
   {
    "duration": 4,
    "start_time": "2024-03-24T09:40:34.789Z"
   },
   {
    "duration": 11,
    "start_time": "2024-03-24T09:40:34.794Z"
   },
   {
    "duration": 8,
    "start_time": "2024-03-24T09:40:34.806Z"
   },
   {
    "duration": 14,
    "start_time": "2024-03-24T09:40:34.816Z"
   },
   {
    "duration": 12,
    "start_time": "2024-03-24T09:40:34.870Z"
   },
   {
    "duration": 9,
    "start_time": "2024-03-24T09:40:34.884Z"
   },
   {
    "duration": 16,
    "start_time": "2024-03-24T09:40:34.896Z"
   },
   {
    "duration": 7,
    "start_time": "2024-03-24T09:40:34.913Z"
   },
   {
    "duration": 52,
    "start_time": "2024-03-24T09:40:34.921Z"
   },
   {
    "duration": 8,
    "start_time": "2024-03-24T09:40:34.974Z"
   },
   {
    "duration": 26,
    "start_time": "2024-03-24T09:40:34.984Z"
   },
   {
    "duration": 4,
    "start_time": "2024-03-24T09:40:35.012Z"
   },
   {
    "duration": 7,
    "start_time": "2024-03-24T09:40:35.018Z"
   },
   {
    "duration": 7,
    "start_time": "2024-03-24T09:40:35.027Z"
   },
   {
    "duration": 8,
    "start_time": "2024-03-24T09:40:35.065Z"
   },
   {
    "duration": 11,
    "start_time": "2024-03-24T09:40:35.075Z"
   },
   {
    "duration": 20,
    "start_time": "2024-03-24T09:40:35.088Z"
   },
   {
    "duration": 5,
    "start_time": "2024-03-24T09:40:35.109Z"
   },
   {
    "duration": 5,
    "start_time": "2024-03-24T09:40:35.116Z"
   },
   {
    "duration": 7,
    "start_time": "2024-03-24T09:40:35.123Z"
   },
   {
    "duration": 17,
    "start_time": "2024-03-24T09:40:35.168Z"
   },
   {
    "duration": 262,
    "start_time": "2024-03-24T09:40:35.186Z"
   },
   {
    "duration": 5,
    "start_time": "2024-03-24T09:40:35.450Z"
   },
   {
    "duration": 9,
    "start_time": "2024-03-24T09:41:38.102Z"
   },
   {
    "duration": 0,
    "start_time": "2024-03-24T09:41:38.114Z"
   },
   {
    "duration": 0,
    "start_time": "2024-03-24T09:41:38.116Z"
   },
   {
    "duration": 0,
    "start_time": "2024-03-24T09:41:38.117Z"
   },
   {
    "duration": 0,
    "start_time": "2024-03-24T09:41:38.119Z"
   },
   {
    "duration": 0,
    "start_time": "2024-03-24T09:41:38.120Z"
   },
   {
    "duration": 0,
    "start_time": "2024-03-24T09:41:38.122Z"
   },
   {
    "duration": 0,
    "start_time": "2024-03-24T09:41:38.125Z"
   },
   {
    "duration": 1,
    "start_time": "2024-03-24T09:41:38.170Z"
   },
   {
    "duration": 9,
    "start_time": "2024-03-24T09:46:39.808Z"
   },
   {
    "duration": 62,
    "start_time": "2024-03-24T09:48:53.986Z"
   },
   {
    "duration": 62,
    "start_time": "2024-03-24T09:48:59.081Z"
   },
   {
    "duration": 719,
    "start_time": "2024-03-24T09:49:08.552Z"
   },
   {
    "duration": 847,
    "start_time": "2024-03-24T09:49:32.300Z"
   },
   {
    "duration": 11,
    "start_time": "2024-03-24T09:49:45.198Z"
   },
   {
    "duration": 9,
    "start_time": "2024-03-24T09:50:04.300Z"
   },
   {
    "duration": 373,
    "start_time": "2024-03-24T09:50:29.606Z"
   },
   {
    "duration": 4,
    "start_time": "2024-03-24T09:51:09.794Z"
   },
   {
    "duration": 61,
    "start_time": "2024-03-24T09:52:24.145Z"
   },
   {
    "duration": 57,
    "start_time": "2024-03-24T09:52:35.415Z"
   },
   {
    "duration": 378,
    "start_time": "2024-03-24T09:52:52.760Z"
   },
   {
    "duration": 379,
    "start_time": "2024-03-24T09:53:22.761Z"
   },
   {
    "duration": 76,
    "start_time": "2024-03-24T09:54:49.023Z"
   },
   {
    "duration": 28,
    "start_time": "2024-03-24T09:54:59.311Z"
   },
   {
    "duration": 67,
    "start_time": "2024-03-24T09:55:54.070Z"
   },
   {
    "duration": 5,
    "start_time": "2024-03-24T09:56:55.757Z"
   },
   {
    "duration": 5,
    "start_time": "2024-03-24T09:58:22.892Z"
   },
   {
    "duration": 6,
    "start_time": "2024-03-24T09:58:33.071Z"
   },
   {
    "duration": 6,
    "start_time": "2024-03-24T09:58:41.530Z"
   },
   {
    "duration": 7,
    "start_time": "2024-03-24T09:58:51.283Z"
   },
   {
    "duration": 6,
    "start_time": "2024-03-24T09:59:00.076Z"
   },
   {
    "duration": 6,
    "start_time": "2024-03-24T09:59:34.345Z"
   },
   {
    "duration": 91,
    "start_time": "2024-03-24T10:00:59.876Z"
   },
   {
    "duration": 16,
    "start_time": "2024-03-24T10:00:59.981Z"
   },
   {
    "duration": 27,
    "start_time": "2024-03-24T10:00:59.998Z"
   },
   {
    "duration": 46,
    "start_time": "2024-03-24T10:01:00.026Z"
   },
   {
    "duration": 128,
    "start_time": "2024-03-24T10:01:00.074Z"
   },
   {
    "duration": 41,
    "start_time": "2024-03-24T10:01:00.204Z"
   },
   {
    "duration": 43,
    "start_time": "2024-03-24T10:01:00.247Z"
   },
   {
    "duration": 52,
    "start_time": "2024-03-24T10:01:00.294Z"
   },
   {
    "duration": 67,
    "start_time": "2024-03-24T10:01:00.347Z"
   },
   {
    "duration": 42,
    "start_time": "2024-03-24T10:01:00.416Z"
   },
   {
    "duration": 30,
    "start_time": "2024-03-24T10:01:00.460Z"
   },
   {
    "duration": 36,
    "start_time": "2024-03-24T10:01:00.491Z"
   },
   {
    "duration": 37,
    "start_time": "2024-03-24T10:01:00.529Z"
   },
   {
    "duration": 38,
    "start_time": "2024-03-24T10:01:00.567Z"
   },
   {
    "duration": 45,
    "start_time": "2024-03-24T10:01:00.606Z"
   },
   {
    "duration": 44,
    "start_time": "2024-03-24T10:01:00.652Z"
   },
   {
    "duration": 45,
    "start_time": "2024-03-24T10:01:00.698Z"
   },
   {
    "duration": 59,
    "start_time": "2024-03-24T10:01:00.744Z"
   },
   {
    "duration": 75,
    "start_time": "2024-03-24T10:01:00.805Z"
   },
   {
    "duration": 190,
    "start_time": "2024-03-24T10:01:00.882Z"
   },
   {
    "duration": 139,
    "start_time": "2024-03-24T10:01:01.074Z"
   },
   {
    "duration": 44,
    "start_time": "2024-03-24T10:01:01.215Z"
   },
   {
    "duration": 85,
    "start_time": "2024-03-24T10:01:01.261Z"
   },
   {
    "duration": 268,
    "start_time": "2024-03-24T10:01:01.348Z"
   },
   {
    "duration": 6,
    "start_time": "2024-03-24T10:01:01.617Z"
   },
   {
    "duration": 164,
    "start_time": "2024-03-24T10:01:01.629Z"
   },
   {
    "duration": 0,
    "start_time": "2024-03-24T10:01:01.835Z"
   },
   {
    "duration": 0,
    "start_time": "2024-03-24T10:01:01.837Z"
   },
   {
    "duration": 0,
    "start_time": "2024-03-24T10:01:01.838Z"
   },
   {
    "duration": 0,
    "start_time": "2024-03-24T10:01:01.840Z"
   },
   {
    "duration": 0,
    "start_time": "2024-03-24T10:01:01.841Z"
   },
   {
    "duration": 0,
    "start_time": "2024-03-24T10:01:01.843Z"
   },
   {
    "duration": 0,
    "start_time": "2024-03-24T10:01:01.844Z"
   },
   {
    "duration": 0,
    "start_time": "2024-03-24T10:01:01.847Z"
   },
   {
    "duration": 11,
    "start_time": "2024-03-24T10:03:15.321Z"
   },
   {
    "duration": 3,
    "start_time": "2024-03-24T10:03:36.437Z"
   },
   {
    "duration": 58277,
    "start_time": "2024-03-24T10:03:59.562Z"
   },
   {
    "duration": 83,
    "start_time": "2024-03-24T10:05:27.331Z"
   },
   {
    "duration": 0,
    "start_time": "2024-03-24T10:09:28.792Z"
   },
   {
    "duration": 0,
    "start_time": "2024-03-24T10:09:28.793Z"
   },
   {
    "duration": 0,
    "start_time": "2024-03-24T10:09:28.794Z"
   },
   {
    "duration": 0,
    "start_time": "2024-03-24T10:09:28.796Z"
   },
   {
    "duration": 0,
    "start_time": "2024-03-24T10:09:28.797Z"
   },
   {
    "duration": 0,
    "start_time": "2024-03-24T10:09:28.798Z"
   },
   {
    "duration": 0,
    "start_time": "2024-03-24T10:09:28.799Z"
   },
   {
    "duration": 0,
    "start_time": "2024-03-24T10:09:28.800Z"
   },
   {
    "duration": 0,
    "start_time": "2024-03-24T10:09:28.801Z"
   },
   {
    "duration": 0,
    "start_time": "2024-03-24T10:09:28.803Z"
   },
   {
    "duration": 0,
    "start_time": "2024-03-24T10:09:28.804Z"
   },
   {
    "duration": 0,
    "start_time": "2024-03-24T10:09:28.805Z"
   },
   {
    "duration": 0,
    "start_time": "2024-03-24T10:09:28.807Z"
   },
   {
    "duration": 0,
    "start_time": "2024-03-24T10:09:28.865Z"
   },
   {
    "duration": 0,
    "start_time": "2024-03-24T10:09:28.867Z"
   },
   {
    "duration": 0,
    "start_time": "2024-03-24T10:09:28.868Z"
   },
   {
    "duration": 0,
    "start_time": "2024-03-24T10:09:28.868Z"
   },
   {
    "duration": 0,
    "start_time": "2024-03-24T10:09:28.869Z"
   },
   {
    "duration": 0,
    "start_time": "2024-03-24T10:09:28.870Z"
   },
   {
    "duration": 0,
    "start_time": "2024-03-24T10:09:28.871Z"
   },
   {
    "duration": 0,
    "start_time": "2024-03-24T10:09:28.872Z"
   },
   {
    "duration": 0,
    "start_time": "2024-03-24T10:09:28.873Z"
   },
   {
    "duration": 0,
    "start_time": "2024-03-24T10:09:28.874Z"
   },
   {
    "duration": 0,
    "start_time": "2024-03-24T10:09:28.875Z"
   },
   {
    "duration": 0,
    "start_time": "2024-03-24T10:09:28.876Z"
   },
   {
    "duration": 0,
    "start_time": "2024-03-24T10:09:28.877Z"
   },
   {
    "duration": 0,
    "start_time": "2024-03-24T10:09:28.878Z"
   },
   {
    "duration": 0,
    "start_time": "2024-03-24T10:09:28.879Z"
   },
   {
    "duration": 0,
    "start_time": "2024-03-24T10:09:28.881Z"
   },
   {
    "duration": 0,
    "start_time": "2024-03-24T10:09:28.882Z"
   },
   {
    "duration": 0,
    "start_time": "2024-03-24T10:09:28.883Z"
   },
   {
    "duration": 0,
    "start_time": "2024-03-24T10:09:28.884Z"
   },
   {
    "duration": 0,
    "start_time": "2024-03-24T10:09:28.885Z"
   },
   {
    "duration": 0,
    "start_time": "2024-03-24T10:09:28.886Z"
   },
   {
    "duration": 5,
    "start_time": "2024-03-24T10:10:46.203Z"
   },
   {
    "duration": 3,
    "start_time": "2024-03-24T10:10:49.500Z"
   },
   {
    "duration": 6,
    "start_time": "2024-03-24T10:10:51.457Z"
   },
   {
    "duration": 9,
    "start_time": "2024-03-24T10:10:54.869Z"
   },
   {
    "duration": 12,
    "start_time": "2024-03-24T10:10:56.730Z"
   },
   {
    "duration": 12,
    "start_time": "2024-03-24T10:11:06.100Z"
   },
   {
    "duration": 65,
    "start_time": "2024-03-24T10:11:09.893Z"
   },
   {
    "duration": 6,
    "start_time": "2024-03-24T10:11:09.960Z"
   },
   {
    "duration": 10,
    "start_time": "2024-03-24T10:11:09.967Z"
   },
   {
    "duration": 10,
    "start_time": "2024-03-24T10:11:09.979Z"
   },
   {
    "duration": 11,
    "start_time": "2024-03-24T10:11:09.990Z"
   },
   {
    "duration": 26,
    "start_time": "2024-03-24T10:11:10.003Z"
   },
   {
    "duration": 23,
    "start_time": "2024-03-24T10:11:10.031Z"
   },
   {
    "duration": 8,
    "start_time": "2024-03-24T10:11:10.066Z"
   },
   {
    "duration": 19,
    "start_time": "2024-03-24T10:11:10.075Z"
   },
   {
    "duration": 27,
    "start_time": "2024-03-24T10:11:10.096Z"
   },
   {
    "duration": 12,
    "start_time": "2024-03-24T10:11:10.124Z"
   },
   {
    "duration": 17,
    "start_time": "2024-03-24T10:11:10.138Z"
   },
   {
    "duration": 21,
    "start_time": "2024-03-24T10:11:10.157Z"
   },
   {
    "duration": 4,
    "start_time": "2024-03-24T10:11:10.180Z"
   },
   {
    "duration": 7,
    "start_time": "2024-03-24T10:11:10.185Z"
   },
   {
    "duration": 11,
    "start_time": "2024-03-24T10:11:10.193Z"
   },
   {
    "duration": 10,
    "start_time": "2024-03-24T10:11:10.205Z"
   },
   {
    "duration": 12,
    "start_time": "2024-03-24T10:11:10.216Z"
   },
   {
    "duration": 38,
    "start_time": "2024-03-24T10:11:10.230Z"
   },
   {
    "duration": 8,
    "start_time": "2024-03-24T10:11:10.270Z"
   },
   {
    "duration": 7,
    "start_time": "2024-03-24T10:11:10.280Z"
   },
   {
    "duration": 9,
    "start_time": "2024-03-24T10:11:10.288Z"
   },
   {
    "duration": 5,
    "start_time": "2024-03-24T10:11:10.298Z"
   },
   {
    "duration": 278,
    "start_time": "2024-03-24T10:11:10.305Z"
   },
   {
    "duration": 6,
    "start_time": "2024-03-24T10:11:10.585Z"
   },
   {
    "duration": 10,
    "start_time": "2024-03-24T10:11:10.593Z"
   },
   {
    "duration": 10,
    "start_time": "2024-03-24T10:11:10.605Z"
   },
   {
    "duration": 50,
    "start_time": "2024-03-24T10:11:10.618Z"
   },
   {
    "duration": 0,
    "start_time": "2024-03-24T10:11:10.669Z"
   },
   {
    "duration": 0,
    "start_time": "2024-03-24T10:11:10.671Z"
   },
   {
    "duration": 0,
    "start_time": "2024-03-24T10:11:10.672Z"
   },
   {
    "duration": 0,
    "start_time": "2024-03-24T10:11:10.673Z"
   },
   {
    "duration": 0,
    "start_time": "2024-03-24T10:11:10.674Z"
   },
   {
    "duration": 0,
    "start_time": "2024-03-24T10:11:10.676Z"
   },
   {
    "duration": 761,
    "start_time": "2024-03-24T10:12:59.608Z"
   },
   {
    "duration": 722,
    "start_time": "2024-03-24T10:13:26.943Z"
   },
   {
    "duration": 57612,
    "start_time": "2024-03-24T10:18:50.213Z"
   },
   {
    "duration": 74,
    "start_time": "2024-03-24T10:21:25.357Z"
   },
   {
    "duration": 6,
    "start_time": "2024-03-24T10:21:25.432Z"
   },
   {
    "duration": 4,
    "start_time": "2024-03-24T10:21:25.465Z"
   },
   {
    "duration": 27,
    "start_time": "2024-03-24T10:21:25.470Z"
   },
   {
    "duration": 20,
    "start_time": "2024-03-24T10:21:25.499Z"
   },
   {
    "duration": 35,
    "start_time": "2024-03-24T10:21:25.520Z"
   },
   {
    "duration": 32,
    "start_time": "2024-03-24T10:21:25.556Z"
   },
   {
    "duration": 23,
    "start_time": "2024-03-24T10:21:25.590Z"
   },
   {
    "duration": 25,
    "start_time": "2024-03-24T10:21:25.616Z"
   },
   {
    "duration": 24,
    "start_time": "2024-03-24T10:21:25.643Z"
   },
   {
    "duration": 27,
    "start_time": "2024-03-24T10:21:25.669Z"
   },
   {
    "duration": 33,
    "start_time": "2024-03-24T10:21:25.698Z"
   },
   {
    "duration": 33,
    "start_time": "2024-03-24T10:21:25.733Z"
   },
   {
    "duration": 9,
    "start_time": "2024-03-24T10:21:25.768Z"
   },
   {
    "duration": 21,
    "start_time": "2024-03-24T10:21:25.778Z"
   },
   {
    "duration": 26,
    "start_time": "2024-03-24T10:21:25.801Z"
   },
   {
    "duration": 23,
    "start_time": "2024-03-24T10:21:25.829Z"
   },
   {
    "duration": 17,
    "start_time": "2024-03-24T10:21:25.854Z"
   },
   {
    "duration": 35,
    "start_time": "2024-03-24T10:21:25.874Z"
   },
   {
    "duration": 15,
    "start_time": "2024-03-24T10:21:25.911Z"
   },
   {
    "duration": 21,
    "start_time": "2024-03-24T10:21:25.928Z"
   },
   {
    "duration": 45,
    "start_time": "2024-03-24T10:21:25.951Z"
   },
   {
    "duration": 14,
    "start_time": "2024-03-24T10:21:25.998Z"
   },
   {
    "duration": 223,
    "start_time": "2024-03-24T10:21:26.014Z"
   },
   {
    "duration": 6,
    "start_time": "2024-03-24T10:21:26.240Z"
   },
   {
    "duration": 20,
    "start_time": "2024-03-24T10:21:26.248Z"
   },
   {
    "duration": 24,
    "start_time": "2024-03-24T10:21:26.272Z"
   },
   {
    "duration": 5,
    "start_time": "2024-03-24T10:22:25.395Z"
   },
   {
    "duration": 17,
    "start_time": "2024-03-24T10:22:25.401Z"
   },
   {
    "duration": 8,
    "start_time": "2024-03-24T10:22:25.420Z"
   },
   {
    "duration": 182,
    "start_time": "2024-03-24T10:22:25.430Z"
   },
   {
    "duration": 113,
    "start_time": "2024-03-24T10:22:25.614Z"
   },
   {
    "duration": 9,
    "start_time": "2024-03-24T10:22:25.728Z"
   },
   {
    "duration": 0,
    "start_time": "2024-03-24T10:22:25.738Z"
   },
   {
    "duration": 46,
    "start_time": "2024-03-24T12:55:53.017Z"
   },
   {
    "duration": 7,
    "start_time": "2024-03-24T13:03:40.360Z"
   },
   {
    "duration": 8,
    "start_time": "2024-03-24T13:18:52.606Z"
   },
   {
    "duration": 6,
    "start_time": "2024-03-24T13:19:33.763Z"
   },
   {
    "duration": 1623,
    "start_time": "2024-03-24T13:19:39.134Z"
   },
   {
    "duration": 8,
    "start_time": "2024-03-24T13:19:40.761Z"
   },
   {
    "duration": 19,
    "start_time": "2024-03-24T13:19:40.770Z"
   },
   {
    "duration": 13,
    "start_time": "2024-03-24T13:19:40.791Z"
   },
   {
    "duration": 11,
    "start_time": "2024-03-24T13:19:40.806Z"
   },
   {
    "duration": 16,
    "start_time": "2024-03-24T13:19:40.818Z"
   },
   {
    "duration": 7,
    "start_time": "2024-03-24T13:19:40.836Z"
   },
   {
    "duration": 8,
    "start_time": "2024-03-24T13:19:40.844Z"
   },
   {
    "duration": 8,
    "start_time": "2024-03-24T13:19:40.853Z"
   },
   {
    "duration": 32,
    "start_time": "2024-03-24T13:19:40.863Z"
   },
   {
    "duration": 11,
    "start_time": "2024-03-24T13:19:40.897Z"
   },
   {
    "duration": 8,
    "start_time": "2024-03-24T13:19:40.910Z"
   },
   {
    "duration": 26,
    "start_time": "2024-03-24T13:19:40.920Z"
   },
   {
    "duration": 5,
    "start_time": "2024-03-24T13:19:40.948Z"
   },
   {
    "duration": 6,
    "start_time": "2024-03-24T13:19:40.955Z"
   },
   {
    "duration": 33,
    "start_time": "2024-03-24T13:19:40.962Z"
   },
   {
    "duration": 5,
    "start_time": "2024-03-24T13:19:40.997Z"
   },
   {
    "duration": 8,
    "start_time": "2024-03-24T13:19:41.004Z"
   },
   {
    "duration": 21,
    "start_time": "2024-03-24T13:19:41.013Z"
   },
   {
    "duration": 27,
    "start_time": "2024-03-24T13:19:41.035Z"
   },
   {
    "duration": 20,
    "start_time": "2024-03-24T13:19:41.064Z"
   },
   {
    "duration": 12,
    "start_time": "2024-03-24T13:19:41.086Z"
   },
   {
    "duration": 10,
    "start_time": "2024-03-24T13:19:41.100Z"
   },
   {
    "duration": 235,
    "start_time": "2024-03-24T13:19:41.111Z"
   },
   {
    "duration": 6,
    "start_time": "2024-03-24T13:19:41.348Z"
   },
   {
    "duration": 8,
    "start_time": "2024-03-24T13:19:41.355Z"
   },
   {
    "duration": 14,
    "start_time": "2024-03-24T13:19:41.364Z"
   },
   {
    "duration": 70,
    "start_time": "2024-03-24T13:19:41.394Z"
   },
   {
    "duration": 0,
    "start_time": "2024-03-24T13:19:41.466Z"
   },
   {
    "duration": 0,
    "start_time": "2024-03-24T13:19:41.467Z"
   },
   {
    "duration": 0,
    "start_time": "2024-03-24T13:19:41.468Z"
   },
   {
    "duration": 0,
    "start_time": "2024-03-24T13:19:41.469Z"
   },
   {
    "duration": 0,
    "start_time": "2024-03-24T13:19:41.470Z"
   },
   {
    "duration": 0,
    "start_time": "2024-03-24T13:19:41.471Z"
   },
   {
    "duration": 7,
    "start_time": "2024-03-24T13:20:25.028Z"
   },
   {
    "duration": 9,
    "start_time": "2024-03-24T13:22:36.132Z"
   },
   {
    "duration": 8,
    "start_time": "2024-03-24T13:23:04.174Z"
   },
   {
    "duration": 69,
    "start_time": "2024-03-24T13:23:20.696Z"
   },
   {
    "duration": 6,
    "start_time": "2024-03-24T13:23:20.766Z"
   },
   {
    "duration": 13,
    "start_time": "2024-03-24T13:23:20.773Z"
   },
   {
    "duration": 11,
    "start_time": "2024-03-24T13:23:20.788Z"
   },
   {
    "duration": 16,
    "start_time": "2024-03-24T13:23:20.800Z"
   },
   {
    "duration": 24,
    "start_time": "2024-03-24T13:23:20.818Z"
   },
   {
    "duration": 13,
    "start_time": "2024-03-24T13:23:20.843Z"
   },
   {
    "duration": 15,
    "start_time": "2024-03-24T13:23:20.857Z"
   },
   {
    "duration": 27,
    "start_time": "2024-03-24T13:23:20.873Z"
   },
   {
    "duration": 16,
    "start_time": "2024-03-24T13:23:20.902Z"
   },
   {
    "duration": 14,
    "start_time": "2024-03-24T13:23:20.919Z"
   },
   {
    "duration": 7,
    "start_time": "2024-03-24T13:23:20.935Z"
   },
   {
    "duration": 14,
    "start_time": "2024-03-24T13:23:20.944Z"
   },
   {
    "duration": 35,
    "start_time": "2024-03-24T13:23:20.959Z"
   },
   {
    "duration": 15,
    "start_time": "2024-03-24T13:23:20.996Z"
   },
   {
    "duration": 18,
    "start_time": "2024-03-24T13:23:21.012Z"
   },
   {
    "duration": 40,
    "start_time": "2024-03-24T13:23:21.031Z"
   },
   {
    "duration": 25,
    "start_time": "2024-03-24T13:23:21.073Z"
   },
   {
    "duration": 16,
    "start_time": "2024-03-24T13:23:21.100Z"
   },
   {
    "duration": 11,
    "start_time": "2024-03-24T13:23:21.118Z"
   },
   {
    "duration": 17,
    "start_time": "2024-03-24T13:23:21.130Z"
   },
   {
    "duration": 23,
    "start_time": "2024-03-24T13:23:21.149Z"
   },
   {
    "duration": 11,
    "start_time": "2024-03-24T13:23:21.173Z"
   },
   {
    "duration": 225,
    "start_time": "2024-03-24T13:23:21.186Z"
   },
   {
    "duration": 6,
    "start_time": "2024-03-24T13:23:21.413Z"
   },
   {
    "duration": 31,
    "start_time": "2024-03-24T13:23:21.420Z"
   },
   {
    "duration": 18,
    "start_time": "2024-03-24T13:23:21.453Z"
   },
   {
    "duration": 12,
    "start_time": "2024-03-24T13:23:21.474Z"
   },
   {
    "duration": 0,
    "start_time": "2024-03-24T13:23:21.487Z"
   },
   {
    "duration": 0,
    "start_time": "2024-03-24T13:23:21.489Z"
   },
   {
    "duration": 0,
    "start_time": "2024-03-24T13:23:21.489Z"
   },
   {
    "duration": 0,
    "start_time": "2024-03-24T13:23:21.490Z"
   },
   {
    "duration": 0,
    "start_time": "2024-03-24T13:23:21.491Z"
   },
   {
    "duration": 0,
    "start_time": "2024-03-24T13:23:21.492Z"
   },
   {
    "duration": 5,
    "start_time": "2024-03-24T13:23:59.717Z"
   },
   {
    "duration": 4,
    "start_time": "2024-03-24T13:24:27.730Z"
   },
   {
    "duration": 5,
    "start_time": "2024-03-24T13:24:42.599Z"
   },
   {
    "duration": 9,
    "start_time": "2024-03-24T13:25:31.246Z"
   },
   {
    "duration": 595,
    "start_time": "2024-03-24T13:26:28.329Z"
   },
   {
    "duration": 1182,
    "start_time": "2024-03-24T13:26:49.077Z"
   },
   {
    "duration": 1150,
    "start_time": "2024-03-24T13:27:02.021Z"
   },
   {
    "duration": 8,
    "start_time": "2024-03-24T13:27:19.231Z"
   },
   {
    "duration": 1154,
    "start_time": "2024-03-24T13:29:44.257Z"
   },
   {
    "duration": 1108,
    "start_time": "2024-03-24T13:31:54.898Z"
   },
   {
    "duration": 4,
    "start_time": "2024-03-24T13:32:12.351Z"
   },
   {
    "duration": 65,
    "start_time": "2024-03-24T13:32:25.528Z"
   },
   {
    "duration": 5,
    "start_time": "2024-03-24T13:32:25.595Z"
   },
   {
    "duration": 27,
    "start_time": "2024-03-24T13:32:25.602Z"
   },
   {
    "duration": 30,
    "start_time": "2024-03-24T13:32:25.630Z"
   },
   {
    "duration": 14,
    "start_time": "2024-03-24T13:32:25.661Z"
   },
   {
    "duration": 13,
    "start_time": "2024-03-24T13:32:25.676Z"
   },
   {
    "duration": 19,
    "start_time": "2024-03-24T13:32:25.690Z"
   },
   {
    "duration": 26,
    "start_time": "2024-03-24T13:32:25.711Z"
   },
   {
    "duration": 31,
    "start_time": "2024-03-24T13:32:25.738Z"
   },
   {
    "duration": 27,
    "start_time": "2024-03-24T13:32:25.772Z"
   },
   {
    "duration": 13,
    "start_time": "2024-03-24T13:32:25.800Z"
   },
   {
    "duration": 19,
    "start_time": "2024-03-24T13:32:25.814Z"
   },
   {
    "duration": 19,
    "start_time": "2024-03-24T13:32:25.835Z"
   },
   {
    "duration": 10,
    "start_time": "2024-03-24T13:32:25.855Z"
   },
   {
    "duration": 14,
    "start_time": "2024-03-24T13:32:25.867Z"
   },
   {
    "duration": 14,
    "start_time": "2024-03-24T13:32:25.883Z"
   },
   {
    "duration": 21,
    "start_time": "2024-03-24T13:32:25.898Z"
   },
   {
    "duration": 23,
    "start_time": "2024-03-24T13:32:25.921Z"
   },
   {
    "duration": 42,
    "start_time": "2024-03-24T13:32:25.945Z"
   },
   {
    "duration": 17,
    "start_time": "2024-03-24T13:32:25.988Z"
   },
   {
    "duration": 24,
    "start_time": "2024-03-24T13:32:26.007Z"
   },
   {
    "duration": 40,
    "start_time": "2024-03-24T13:32:26.032Z"
   },
   {
    "duration": 31,
    "start_time": "2024-03-24T13:32:26.073Z"
   },
   {
    "duration": 224,
    "start_time": "2024-03-24T13:32:26.105Z"
   },
   {
    "duration": 6,
    "start_time": "2024-03-24T13:32:26.330Z"
   },
   {
    "duration": 19,
    "start_time": "2024-03-24T13:32:26.337Z"
   },
   {
    "duration": 29,
    "start_time": "2024-03-24T13:32:26.357Z"
   },
   {
    "duration": 13,
    "start_time": "2024-03-24T13:32:26.389Z"
   },
   {
    "duration": 25,
    "start_time": "2024-03-24T13:32:26.403Z"
   },
   {
    "duration": 9,
    "start_time": "2024-03-24T13:32:26.430Z"
   },
   {
    "duration": 582,
    "start_time": "2024-03-24T13:32:26.440Z"
   },
   {
    "duration": 1,
    "start_time": "2024-03-24T13:32:27.023Z"
   },
   {
    "duration": 0,
    "start_time": "2024-03-24T13:32:27.025Z"
   },
   {
    "duration": 0,
    "start_time": "2024-03-24T13:32:27.026Z"
   },
   {
    "duration": 0,
    "start_time": "2024-03-24T13:32:27.027Z"
   },
   {
    "duration": 101,
    "start_time": "2024-03-24T13:33:37.724Z"
   },
   {
    "duration": 89,
    "start_time": "2024-03-24T13:41:06.596Z"
   },
   {
    "duration": 117,
    "start_time": "2024-03-24T13:41:47.406Z"
   },
   {
    "duration": 354,
    "start_time": "2024-03-24T13:42:16.286Z"
   },
   {
    "duration": 9,
    "start_time": "2024-03-24T13:42:55.813Z"
   },
   {
    "duration": 8,
    "start_time": "2024-03-24T13:46:11.958Z"
   },
   {
    "duration": 5,
    "start_time": "2024-03-24T13:47:49.020Z"
   },
   {
    "duration": 6,
    "start_time": "2024-03-24T13:48:02.067Z"
   },
   {
    "duration": 9,
    "start_time": "2024-03-24T13:48:54.122Z"
   },
   {
    "duration": 12,
    "start_time": "2024-03-24T13:51:03.808Z"
   },
   {
    "duration": 3,
    "start_time": "2024-03-24T13:51:23.125Z"
   },
   {
    "duration": 4,
    "start_time": "2024-03-24T13:51:40.448Z"
   },
   {
    "duration": 4,
    "start_time": "2024-03-24T13:52:31.558Z"
   },
   {
    "duration": 5,
    "start_time": "2024-03-24T13:52:39.282Z"
   },
   {
    "duration": 86,
    "start_time": "2024-03-24T13:55:07.579Z"
   },
   {
    "duration": 10,
    "start_time": "2024-03-24T13:55:22.406Z"
   },
   {
    "duration": 9,
    "start_time": "2024-03-24T13:55:58.905Z"
   },
   {
    "duration": 13,
    "start_time": "2024-03-24T13:59:45.859Z"
   },
   {
    "duration": 13,
    "start_time": "2024-03-24T14:00:10.530Z"
   },
   {
    "duration": 14,
    "start_time": "2024-03-24T14:02:18.185Z"
   },
   {
    "duration": 11,
    "start_time": "2024-03-24T14:02:31.641Z"
   },
   {
    "duration": 66,
    "start_time": "2024-03-24T14:03:06.600Z"
   },
   {
    "duration": 7,
    "start_time": "2024-03-24T14:03:06.669Z"
   },
   {
    "duration": 42,
    "start_time": "2024-03-24T14:03:06.678Z"
   },
   {
    "duration": 17,
    "start_time": "2024-03-24T14:03:06.723Z"
   },
   {
    "duration": 26,
    "start_time": "2024-03-24T14:03:06.742Z"
   },
   {
    "duration": 20,
    "start_time": "2024-03-24T14:03:06.770Z"
   },
   {
    "duration": 14,
    "start_time": "2024-03-24T14:03:06.792Z"
   },
   {
    "duration": 14,
    "start_time": "2024-03-24T14:03:06.808Z"
   },
   {
    "duration": 16,
    "start_time": "2024-03-24T14:03:06.824Z"
   },
   {
    "duration": 51,
    "start_time": "2024-03-24T14:03:06.842Z"
   },
   {
    "duration": 50,
    "start_time": "2024-03-24T14:03:06.895Z"
   },
   {
    "duration": 17,
    "start_time": "2024-03-24T14:03:06.947Z"
   },
   {
    "duration": 40,
    "start_time": "2024-03-24T14:03:06.966Z"
   },
   {
    "duration": 19,
    "start_time": "2024-03-24T14:03:07.009Z"
   },
   {
    "duration": 21,
    "start_time": "2024-03-24T14:03:07.030Z"
   },
   {
    "duration": 24,
    "start_time": "2024-03-24T14:03:07.053Z"
   },
   {
    "duration": 19,
    "start_time": "2024-03-24T14:03:07.079Z"
   },
   {
    "duration": 17,
    "start_time": "2024-03-24T14:03:07.100Z"
   },
   {
    "duration": 15,
    "start_time": "2024-03-24T14:03:07.119Z"
   },
   {
    "duration": 22,
    "start_time": "2024-03-24T14:03:07.136Z"
   },
   {
    "duration": 8,
    "start_time": "2024-03-24T14:03:07.160Z"
   },
   {
    "duration": 17,
    "start_time": "2024-03-24T14:03:07.170Z"
   },
   {
    "duration": 8,
    "start_time": "2024-03-24T14:03:07.189Z"
   },
   {
    "duration": 235,
    "start_time": "2024-03-24T14:03:07.199Z"
   },
   {
    "duration": 5,
    "start_time": "2024-03-24T14:03:07.436Z"
   },
   {
    "duration": 38,
    "start_time": "2024-03-24T14:03:07.443Z"
   },
   {
    "duration": 20,
    "start_time": "2024-03-24T14:03:07.482Z"
   },
   {
    "duration": 21,
    "start_time": "2024-03-24T14:03:07.504Z"
   },
   {
    "duration": 37,
    "start_time": "2024-03-24T14:03:07.526Z"
   },
   {
    "duration": 298,
    "start_time": "2024-03-24T14:03:07.564Z"
   },
   {
    "duration": 7,
    "start_time": "2024-03-24T14:03:07.864Z"
   },
   {
    "duration": 42,
    "start_time": "2024-03-24T14:03:07.872Z"
   },
   {
    "duration": 37,
    "start_time": "2024-03-24T14:03:07.916Z"
   },
   {
    "duration": 38,
    "start_time": "2024-03-24T14:03:07.954Z"
   },
   {
    "duration": 11,
    "start_time": "2024-03-24T14:03:07.993Z"
   },
   {
    "duration": 0,
    "start_time": "2024-03-24T14:03:08.006Z"
   },
   {
    "duration": 10,
    "start_time": "2024-03-24T14:03:22.406Z"
   },
   {
    "duration": 10,
    "start_time": "2024-03-24T14:03:39.721Z"
   },
   {
    "duration": 11,
    "start_time": "2024-03-24T14:03:42.239Z"
   },
   {
    "duration": 9,
    "start_time": "2024-03-24T14:04:28.963Z"
   },
   {
    "duration": 11,
    "start_time": "2024-03-24T14:07:42.199Z"
   },
   {
    "duration": 64,
    "start_time": "2024-03-24T14:08:03.548Z"
   },
   {
    "duration": 5,
    "start_time": "2024-03-24T14:08:03.614Z"
   },
   {
    "duration": 16,
    "start_time": "2024-03-24T14:08:03.620Z"
   },
   {
    "duration": 23,
    "start_time": "2024-03-24T14:08:03.638Z"
   },
   {
    "duration": 34,
    "start_time": "2024-03-24T14:08:03.663Z"
   },
   {
    "duration": 15,
    "start_time": "2024-03-24T14:08:03.698Z"
   },
   {
    "duration": 14,
    "start_time": "2024-03-24T14:08:03.714Z"
   },
   {
    "duration": 8,
    "start_time": "2024-03-24T14:08:03.730Z"
   },
   {
    "duration": 8,
    "start_time": "2024-03-24T14:08:03.740Z"
   },
   {
    "duration": 9,
    "start_time": "2024-03-24T14:08:03.750Z"
   },
   {
    "duration": 33,
    "start_time": "2024-03-24T14:08:03.761Z"
   },
   {
    "duration": 10,
    "start_time": "2024-03-24T14:08:03.796Z"
   },
   {
    "duration": 26,
    "start_time": "2024-03-24T14:08:03.808Z"
   },
   {
    "duration": 5,
    "start_time": "2024-03-24T14:08:03.836Z"
   },
   {
    "duration": 30,
    "start_time": "2024-03-24T14:08:03.842Z"
   },
   {
    "duration": 29,
    "start_time": "2024-03-24T14:08:03.874Z"
   },
   {
    "duration": 17,
    "start_time": "2024-03-24T14:08:03.904Z"
   },
   {
    "duration": 28,
    "start_time": "2024-03-24T14:08:03.923Z"
   },
   {
    "duration": 21,
    "start_time": "2024-03-24T14:08:03.952Z"
   },
   {
    "duration": 22,
    "start_time": "2024-03-24T14:08:03.974Z"
   },
   {
    "duration": 30,
    "start_time": "2024-03-24T14:08:03.998Z"
   },
   {
    "duration": 24,
    "start_time": "2024-03-24T14:08:04.029Z"
   },
   {
    "duration": 16,
    "start_time": "2024-03-24T14:08:04.054Z"
   },
   {
    "duration": 236,
    "start_time": "2024-03-24T14:08:04.071Z"
   },
   {
    "duration": 5,
    "start_time": "2024-03-24T14:08:04.308Z"
   },
   {
    "duration": 40,
    "start_time": "2024-03-24T14:08:04.314Z"
   },
   {
    "duration": 21,
    "start_time": "2024-03-24T14:08:04.356Z"
   },
   {
    "duration": 40,
    "start_time": "2024-03-24T14:08:04.380Z"
   },
   {
    "duration": 11,
    "start_time": "2024-03-24T14:08:04.421Z"
   },
   {
    "duration": 307,
    "start_time": "2024-03-24T14:08:04.433Z"
   },
   {
    "duration": 9,
    "start_time": "2024-03-24T14:08:04.741Z"
   },
   {
    "duration": 14,
    "start_time": "2024-03-24T14:08:04.752Z"
   },
   {
    "duration": 22,
    "start_time": "2024-03-24T14:08:04.768Z"
   },
   {
    "duration": 16,
    "start_time": "2024-03-24T14:08:04.792Z"
   },
   {
    "duration": 50,
    "start_time": "2024-03-24T14:08:04.810Z"
   },
   {
    "duration": 10,
    "start_time": "2024-03-24T14:08:28.322Z"
   },
   {
    "duration": 10,
    "start_time": "2024-03-24T14:08:44.066Z"
   },
   {
    "duration": 10,
    "start_time": "2024-03-24T14:08:57.746Z"
   },
   {
    "duration": 16,
    "start_time": "2024-03-24T14:09:16.372Z"
   },
   {
    "duration": 18,
    "start_time": "2024-03-24T14:09:45.971Z"
   },
   {
    "duration": 65,
    "start_time": "2024-03-24T14:10:08.163Z"
   },
   {
    "duration": 5,
    "start_time": "2024-03-24T14:10:08.229Z"
   },
   {
    "duration": 18,
    "start_time": "2024-03-24T14:10:08.236Z"
   },
   {
    "duration": 19,
    "start_time": "2024-03-24T14:10:08.256Z"
   },
   {
    "duration": 11,
    "start_time": "2024-03-24T14:10:08.277Z"
   },
   {
    "duration": 25,
    "start_time": "2024-03-24T14:10:08.289Z"
   },
   {
    "duration": 37,
    "start_time": "2024-03-24T14:10:08.316Z"
   },
   {
    "duration": 19,
    "start_time": "2024-03-24T14:10:08.354Z"
   },
   {
    "duration": 15,
    "start_time": "2024-03-24T14:10:08.375Z"
   },
   {
    "duration": 7,
    "start_time": "2024-03-24T14:10:08.392Z"
   },
   {
    "duration": 17,
    "start_time": "2024-03-24T14:10:08.400Z"
   },
   {
    "duration": 26,
    "start_time": "2024-03-24T14:10:08.418Z"
   },
   {
    "duration": 24,
    "start_time": "2024-03-24T14:10:08.446Z"
   },
   {
    "duration": 14,
    "start_time": "2024-03-24T14:10:08.471Z"
   },
   {
    "duration": 18,
    "start_time": "2024-03-24T14:10:08.486Z"
   },
   {
    "duration": 15,
    "start_time": "2024-03-24T14:10:08.505Z"
   },
   {
    "duration": 40,
    "start_time": "2024-03-24T14:10:08.522Z"
   },
   {
    "duration": 8,
    "start_time": "2024-03-24T14:10:08.563Z"
   },
   {
    "duration": 26,
    "start_time": "2024-03-24T14:10:08.572Z"
   },
   {
    "duration": 10,
    "start_time": "2024-03-24T14:10:08.599Z"
   },
   {
    "duration": 14,
    "start_time": "2024-03-24T14:10:08.610Z"
   },
   {
    "duration": 23,
    "start_time": "2024-03-24T14:10:08.626Z"
   },
   {
    "duration": 45,
    "start_time": "2024-03-24T14:10:08.650Z"
   },
   {
    "duration": 216,
    "start_time": "2024-03-24T14:10:08.696Z"
   },
   {
    "duration": 8,
    "start_time": "2024-03-24T14:10:08.914Z"
   },
   {
    "duration": 19,
    "start_time": "2024-03-24T14:10:08.923Z"
   },
   {
    "duration": 7,
    "start_time": "2024-03-24T14:10:08.944Z"
   },
   {
    "duration": 16,
    "start_time": "2024-03-24T14:10:08.954Z"
   },
   {
    "duration": 10,
    "start_time": "2024-03-24T14:10:08.971Z"
   },
   {
    "duration": 432,
    "start_time": "2024-03-24T14:10:08.983Z"
   },
   {
    "duration": 9,
    "start_time": "2024-03-24T14:10:09.416Z"
   },
   {
    "duration": 14,
    "start_time": "2024-03-24T14:10:09.426Z"
   },
   {
    "duration": 17,
    "start_time": "2024-03-24T14:10:09.442Z"
   },
   {
    "duration": 11,
    "start_time": "2024-03-24T14:10:09.461Z"
   },
   {
    "duration": 35,
    "start_time": "2024-03-24T14:10:09.474Z"
   },
   {
    "duration": 9,
    "start_time": "2024-03-24T14:18:39.823Z"
   },
   {
    "duration": 16,
    "start_time": "2024-03-24T14:19:02.834Z"
   },
   {
    "duration": 30,
    "start_time": "2024-03-24T14:19:14.688Z"
   },
   {
    "duration": 20,
    "start_time": "2024-03-24T14:24:12.324Z"
   },
   {
    "duration": 5,
    "start_time": "2024-03-24T14:25:07.888Z"
   },
   {
    "duration": 19,
    "start_time": "2024-03-24T14:25:17.894Z"
   },
   {
    "duration": 10,
    "start_time": "2024-03-24T14:47:09.639Z"
   },
   {
    "duration": 103,
    "start_time": "2024-03-24T14:51:30.235Z"
   },
   {
    "duration": 88,
    "start_time": "2024-03-24T14:52:06.149Z"
   },
   {
    "duration": 92,
    "start_time": "2024-03-24T14:52:18.105Z"
   },
   {
    "duration": 89,
    "start_time": "2024-03-24T14:52:56.569Z"
   },
   {
    "duration": 86,
    "start_time": "2024-03-24T14:53:16.777Z"
   },
   {
    "duration": 96,
    "start_time": "2024-03-24T14:53:22.967Z"
   },
   {
    "duration": 89,
    "start_time": "2024-03-24T14:53:53.659Z"
   },
   {
    "duration": 126,
    "start_time": "2024-03-24T14:54:16.983Z"
   },
   {
    "duration": 101,
    "start_time": "2024-03-24T15:04:30.053Z"
   },
   {
    "duration": 32,
    "start_time": "2024-03-24T15:04:51.625Z"
   },
   {
    "duration": 29,
    "start_time": "2024-03-24T15:05:11.525Z"
   },
   {
    "duration": 65,
    "start_time": "2024-03-24T15:05:32.215Z"
   },
   {
    "duration": 76,
    "start_time": "2024-03-24T15:05:32.282Z"
   },
   {
    "duration": 35,
    "start_time": "2024-03-24T15:05:32.359Z"
   },
   {
    "duration": 25,
    "start_time": "2024-03-24T15:05:32.396Z"
   },
   {
    "duration": 22,
    "start_time": "2024-03-24T15:05:32.424Z"
   },
   {
    "duration": 22,
    "start_time": "2024-03-24T15:05:32.448Z"
   },
   {
    "duration": 19,
    "start_time": "2024-03-24T15:05:32.472Z"
   },
   {
    "duration": 31,
    "start_time": "2024-03-24T15:05:32.493Z"
   },
   {
    "duration": 14,
    "start_time": "2024-03-24T15:05:32.526Z"
   },
   {
    "duration": 20,
    "start_time": "2024-03-24T15:05:32.542Z"
   },
   {
    "duration": 28,
    "start_time": "2024-03-24T15:05:32.564Z"
   },
   {
    "duration": 21,
    "start_time": "2024-03-24T15:05:32.594Z"
   },
   {
    "duration": 23,
    "start_time": "2024-03-24T15:05:32.617Z"
   },
   {
    "duration": 10,
    "start_time": "2024-03-24T15:05:32.643Z"
   },
   {
    "duration": 13,
    "start_time": "2024-03-24T15:05:32.654Z"
   },
   {
    "duration": 14,
    "start_time": "2024-03-24T15:05:32.669Z"
   },
   {
    "duration": 16,
    "start_time": "2024-03-24T15:05:32.685Z"
   },
   {
    "duration": 35,
    "start_time": "2024-03-24T15:05:32.703Z"
   },
   {
    "duration": 46,
    "start_time": "2024-03-24T15:05:32.740Z"
   },
   {
    "duration": 15,
    "start_time": "2024-03-24T15:05:32.788Z"
   },
   {
    "duration": 9,
    "start_time": "2024-03-24T15:05:32.805Z"
   },
   {
    "duration": 18,
    "start_time": "2024-03-24T15:05:32.816Z"
   },
   {
    "duration": 13,
    "start_time": "2024-03-24T15:05:32.836Z"
   },
   {
    "duration": 226,
    "start_time": "2024-03-24T15:05:32.851Z"
   },
   {
    "duration": 5,
    "start_time": "2024-03-24T15:05:33.079Z"
   },
   {
    "duration": 31,
    "start_time": "2024-03-24T15:05:33.094Z"
   },
   {
    "duration": 20,
    "start_time": "2024-03-24T15:05:33.126Z"
   },
   {
    "duration": 39,
    "start_time": "2024-03-24T15:05:33.147Z"
   },
   {
    "duration": 24,
    "start_time": "2024-03-24T15:05:33.188Z"
   },
   {
    "duration": 332,
    "start_time": "2024-03-24T15:05:33.214Z"
   },
   {
    "duration": 8,
    "start_time": "2024-03-24T15:05:33.548Z"
   },
   {
    "duration": 10,
    "start_time": "2024-03-24T15:05:33.558Z"
   },
   {
    "duration": 115,
    "start_time": "2024-03-24T15:05:33.570Z"
   },
   {
    "duration": 44,
    "start_time": "2024-03-24T15:05:33.687Z"
   },
   {
    "duration": 32,
    "start_time": "2024-03-24T15:05:33.733Z"
   },
   {
    "duration": 8,
    "start_time": "2024-03-24T15:05:33.767Z"
   },
   {
    "duration": 43,
    "start_time": "2024-03-24T15:05:33.777Z"
   },
   {
    "duration": 18,
    "start_time": "2024-03-24T15:05:33.822Z"
   },
   {
    "duration": 50,
    "start_time": "2024-03-24T15:05:33.841Z"
   },
   {
    "duration": 11,
    "start_time": "2024-03-24T15:06:22.881Z"
   },
   {
    "duration": 10,
    "start_time": "2024-03-24T15:06:33.098Z"
   },
   {
    "duration": 66,
    "start_time": "2024-03-24T15:07:15.526Z"
   },
   {
    "duration": 5,
    "start_time": "2024-03-24T15:07:15.594Z"
   },
   {
    "duration": 32,
    "start_time": "2024-03-24T15:07:15.600Z"
   },
   {
    "duration": 36,
    "start_time": "2024-03-24T15:07:15.635Z"
   },
   {
    "duration": 73,
    "start_time": "2024-03-24T15:07:15.672Z"
   },
   {
    "duration": 28,
    "start_time": "2024-03-24T15:07:15.746Z"
   },
   {
    "duration": 32,
    "start_time": "2024-03-24T15:07:15.776Z"
   },
   {
    "duration": 47,
    "start_time": "2024-03-24T15:07:15.810Z"
   },
   {
    "duration": 25,
    "start_time": "2024-03-24T15:07:15.859Z"
   },
   {
    "duration": 12,
    "start_time": "2024-03-24T15:07:15.887Z"
   },
   {
    "duration": 29,
    "start_time": "2024-03-24T15:07:15.900Z"
   },
   {
    "duration": 31,
    "start_time": "2024-03-24T15:07:15.931Z"
   },
   {
    "duration": 39,
    "start_time": "2024-03-24T15:07:15.964Z"
   },
   {
    "duration": 23,
    "start_time": "2024-03-24T15:07:16.004Z"
   },
   {
    "duration": 28,
    "start_time": "2024-03-24T15:07:16.029Z"
   },
   {
    "duration": 27,
    "start_time": "2024-03-24T15:07:16.058Z"
   },
   {
    "duration": 37,
    "start_time": "2024-03-24T15:07:16.087Z"
   },
   {
    "duration": 29,
    "start_time": "2024-03-24T15:07:16.126Z"
   },
   {
    "duration": 26,
    "start_time": "2024-03-24T15:07:16.156Z"
   },
   {
    "duration": 37,
    "start_time": "2024-03-24T15:07:16.184Z"
   },
   {
    "duration": 20,
    "start_time": "2024-03-24T15:07:16.223Z"
   },
   {
    "duration": 38,
    "start_time": "2024-03-24T15:07:16.244Z"
   },
   {
    "duration": 23,
    "start_time": "2024-03-24T15:07:16.283Z"
   },
   {
    "duration": 243,
    "start_time": "2024-03-24T15:07:16.308Z"
   },
   {
    "duration": 6,
    "start_time": "2024-03-24T15:07:16.553Z"
   },
   {
    "duration": 41,
    "start_time": "2024-03-24T15:07:16.561Z"
   },
   {
    "duration": 47,
    "start_time": "2024-03-24T15:07:16.604Z"
   },
   {
    "duration": 50,
    "start_time": "2024-03-24T15:07:16.655Z"
   },
   {
    "duration": 26,
    "start_time": "2024-03-24T15:07:16.706Z"
   },
   {
    "duration": 312,
    "start_time": "2024-03-24T15:07:16.734Z"
   },
   {
    "duration": 8,
    "start_time": "2024-03-24T15:07:17.048Z"
   },
   {
    "duration": 55,
    "start_time": "2024-03-24T15:07:17.057Z"
   },
   {
    "duration": 37,
    "start_time": "2024-03-24T15:07:17.113Z"
   },
   {
    "duration": 28,
    "start_time": "2024-03-24T15:07:17.152Z"
   },
   {
    "duration": 54,
    "start_time": "2024-03-24T15:07:17.182Z"
   },
   {
    "duration": 17,
    "start_time": "2024-03-24T15:07:17.238Z"
   },
   {
    "duration": 41,
    "start_time": "2024-03-24T15:07:17.257Z"
   },
   {
    "duration": 34,
    "start_time": "2024-03-24T15:07:17.300Z"
   },
   {
    "duration": 3,
    "start_time": "2024-03-24T15:07:17.336Z"
   },
   {
    "duration": 51,
    "start_time": "2024-03-24T15:07:17.341Z"
   },
   {
    "duration": 337,
    "start_time": "2024-03-24T15:16:15.929Z"
   },
   {
    "duration": 242,
    "start_time": "2024-03-24T15:17:12.445Z"
   },
   {
    "duration": 250,
    "start_time": "2024-03-24T15:18:19.898Z"
   },
   {
    "duration": 569,
    "start_time": "2024-03-24T15:19:27.380Z"
   },
   {
    "duration": 14,
    "start_time": "2024-03-24T15:45:36.955Z"
   },
   {
    "duration": 9,
    "start_time": "2024-03-24T15:46:04.517Z"
   },
   {
    "duration": 29,
    "start_time": "2024-03-24T15:47:20.891Z"
   },
   {
    "duration": 8,
    "start_time": "2024-03-24T15:47:40.534Z"
   },
   {
    "duration": 67,
    "start_time": "2024-03-24T15:48:09.403Z"
   },
   {
    "duration": 7,
    "start_time": "2024-03-24T15:48:09.472Z"
   },
   {
    "duration": 39,
    "start_time": "2024-03-24T15:48:09.480Z"
   },
   {
    "duration": 44,
    "start_time": "2024-03-24T15:48:09.520Z"
   },
   {
    "duration": 24,
    "start_time": "2024-03-24T15:48:09.566Z"
   },
   {
    "duration": 29,
    "start_time": "2024-03-24T15:48:09.592Z"
   },
   {
    "duration": 20,
    "start_time": "2024-03-24T15:48:09.622Z"
   },
   {
    "duration": 14,
    "start_time": "2024-03-24T15:48:09.643Z"
   },
   {
    "duration": 32,
    "start_time": "2024-03-24T15:48:09.659Z"
   },
   {
    "duration": 22,
    "start_time": "2024-03-24T15:48:09.694Z"
   },
   {
    "duration": 27,
    "start_time": "2024-03-24T15:48:09.717Z"
   },
   {
    "duration": 45,
    "start_time": "2024-03-24T15:48:09.745Z"
   },
   {
    "duration": 51,
    "start_time": "2024-03-24T15:48:09.791Z"
   },
   {
    "duration": 11,
    "start_time": "2024-03-24T15:48:09.844Z"
   },
   {
    "duration": 36,
    "start_time": "2024-03-24T15:48:09.857Z"
   },
   {
    "duration": 16,
    "start_time": "2024-03-24T15:48:09.894Z"
   },
   {
    "duration": 120,
    "start_time": "2024-03-24T15:48:09.912Z"
   },
   {
    "duration": 61,
    "start_time": "2024-03-24T15:48:10.034Z"
   },
   {
    "duration": 30,
    "start_time": "2024-03-24T15:48:10.096Z"
   },
   {
    "duration": 32,
    "start_time": "2024-03-24T15:48:10.128Z"
   },
   {
    "duration": 58,
    "start_time": "2024-03-24T15:48:10.161Z"
   },
   {
    "duration": 54,
    "start_time": "2024-03-24T15:48:10.221Z"
   },
   {
    "duration": 35,
    "start_time": "2024-03-24T15:48:10.277Z"
   },
   {
    "duration": 276,
    "start_time": "2024-03-24T15:48:10.313Z"
   },
   {
    "duration": 7,
    "start_time": "2024-03-24T15:48:10.590Z"
   },
   {
    "duration": 26,
    "start_time": "2024-03-24T15:48:10.599Z"
   },
   {
    "duration": 67,
    "start_time": "2024-03-24T15:48:10.627Z"
   },
   {
    "duration": 36,
    "start_time": "2024-03-24T15:48:10.698Z"
   },
   {
    "duration": 38,
    "start_time": "2024-03-24T15:48:10.735Z"
   },
   {
    "duration": 361,
    "start_time": "2024-03-24T15:48:10.775Z"
   },
   {
    "duration": 8,
    "start_time": "2024-03-24T15:48:11.138Z"
   },
   {
    "duration": 69,
    "start_time": "2024-03-24T15:48:11.148Z"
   },
   {
    "duration": 20,
    "start_time": "2024-03-24T15:48:11.218Z"
   },
   {
    "duration": 40,
    "start_time": "2024-03-24T15:48:11.240Z"
   },
   {
    "duration": 46,
    "start_time": "2024-03-24T15:48:11.281Z"
   },
   {
    "duration": 17,
    "start_time": "2024-03-24T15:48:11.328Z"
   },
   {
    "duration": 53,
    "start_time": "2024-03-24T15:48:11.347Z"
   },
   {
    "duration": 12,
    "start_time": "2024-03-24T15:48:11.401Z"
   },
   {
    "duration": 51,
    "start_time": "2024-03-24T15:48:11.415Z"
   },
   {
    "duration": 15,
    "start_time": "2024-03-24T15:48:11.468Z"
   },
   {
    "duration": 187,
    "start_time": "2024-03-24T15:48:11.485Z"
   },
   {
    "duration": 1603,
    "start_time": "2024-03-25T10:36:12.123Z"
   },
   {
    "duration": 8,
    "start_time": "2024-03-25T10:36:13.728Z"
   },
   {
    "duration": 38,
    "start_time": "2024-03-25T10:36:13.737Z"
   },
   {
    "duration": 29,
    "start_time": "2024-03-25T10:36:13.777Z"
   },
   {
    "duration": 27,
    "start_time": "2024-03-25T10:36:13.808Z"
   },
   {
    "duration": 23,
    "start_time": "2024-03-25T10:36:13.837Z"
   },
   {
    "duration": 18,
    "start_time": "2024-03-25T10:36:13.862Z"
   },
   {
    "duration": 10,
    "start_time": "2024-03-25T10:36:13.882Z"
   },
   {
    "duration": 15,
    "start_time": "2024-03-25T10:36:13.895Z"
   },
   {
    "duration": 10,
    "start_time": "2024-03-25T10:36:13.914Z"
   },
   {
    "duration": 16,
    "start_time": "2024-03-25T10:36:13.925Z"
   },
   {
    "duration": 43,
    "start_time": "2024-03-25T10:36:13.943Z"
   },
   {
    "duration": 18,
    "start_time": "2024-03-25T10:36:13.988Z"
   },
   {
    "duration": 4,
    "start_time": "2024-03-25T10:36:14.008Z"
   },
   {
    "duration": 6,
    "start_time": "2024-03-25T10:36:14.014Z"
   },
   {
    "duration": 8,
    "start_time": "2024-03-25T10:36:14.022Z"
   },
   {
    "duration": 54,
    "start_time": "2024-03-25T10:36:14.031Z"
   },
   {
    "duration": 7,
    "start_time": "2024-03-25T10:36:14.087Z"
   },
   {
    "duration": 9,
    "start_time": "2024-03-25T10:36:14.096Z"
   },
   {
    "duration": 6,
    "start_time": "2024-03-25T10:36:14.108Z"
   },
   {
    "duration": 17,
    "start_time": "2024-03-25T10:36:14.116Z"
   },
   {
    "duration": 47,
    "start_time": "2024-03-25T10:36:14.135Z"
   },
   {
    "duration": 5,
    "start_time": "2024-03-25T10:36:14.184Z"
   },
   {
    "duration": 270,
    "start_time": "2024-03-25T10:36:14.191Z"
   },
   {
    "duration": 7,
    "start_time": "2024-03-25T10:36:14.463Z"
   },
   {
    "duration": 23,
    "start_time": "2024-03-25T10:36:14.481Z"
   },
   {
    "duration": 17,
    "start_time": "2024-03-25T10:36:14.506Z"
   },
   {
    "duration": 35,
    "start_time": "2024-03-25T10:36:14.526Z"
   },
   {
    "duration": 20,
    "start_time": "2024-03-25T10:36:14.563Z"
   },
   {
    "duration": 331,
    "start_time": "2024-03-25T10:36:14.584Z"
   },
   {
    "duration": 7,
    "start_time": "2024-03-25T10:36:14.917Z"
   },
   {
    "duration": 28,
    "start_time": "2024-03-25T10:36:14.926Z"
   },
   {
    "duration": 37,
    "start_time": "2024-03-25T10:36:14.956Z"
   },
   {
    "duration": 50,
    "start_time": "2024-03-25T10:36:14.994Z"
   },
   {
    "duration": 46,
    "start_time": "2024-03-25T10:36:15.046Z"
   },
   {
    "duration": 31,
    "start_time": "2024-03-25T10:36:15.094Z"
   },
   {
    "duration": 32,
    "start_time": "2024-03-25T10:36:15.126Z"
   },
   {
    "duration": 22,
    "start_time": "2024-03-25T10:36:15.160Z"
   },
   {
    "duration": 63,
    "start_time": "2024-03-25T10:36:15.184Z"
   },
   {
    "duration": 10,
    "start_time": "2024-03-25T10:36:15.249Z"
   },
   {
    "duration": 197,
    "start_time": "2024-03-25T10:36:15.261Z"
   },
   {
    "duration": 105,
    "start_time": "2024-03-25T10:36:15.460Z"
   },
   {
    "duration": 8,
    "start_time": "2024-03-25T10:38:47.139Z"
   },
   {
    "duration": 9,
    "start_time": "2024-03-25T10:39:29.110Z"
   },
   {
    "duration": 170,
    "start_time": "2024-03-25T10:39:29.244Z"
   },
   {
    "duration": 71,
    "start_time": "2024-03-25T10:40:11.714Z"
   },
   {
    "duration": 7,
    "start_time": "2024-03-25T10:40:11.787Z"
   },
   {
    "duration": 6,
    "start_time": "2024-03-25T10:40:11.795Z"
   },
   {
    "duration": 12,
    "start_time": "2024-03-25T10:40:11.804Z"
   },
   {
    "duration": 12,
    "start_time": "2024-03-25T10:40:11.818Z"
   },
   {
    "duration": 17,
    "start_time": "2024-03-25T10:40:11.832Z"
   },
   {
    "duration": 12,
    "start_time": "2024-03-25T10:40:11.885Z"
   },
   {
    "duration": 11,
    "start_time": "2024-03-25T10:40:11.900Z"
   },
   {
    "duration": 12,
    "start_time": "2024-03-25T10:40:11.912Z"
   },
   {
    "duration": 56,
    "start_time": "2024-03-25T10:40:11.927Z"
   },
   {
    "duration": 20,
    "start_time": "2024-03-25T10:40:11.985Z"
   },
   {
    "duration": 23,
    "start_time": "2024-03-25T10:40:12.007Z"
   },
   {
    "duration": 35,
    "start_time": "2024-03-25T10:40:12.032Z"
   },
   {
    "duration": 5,
    "start_time": "2024-03-25T10:40:12.069Z"
   },
   {
    "duration": 13,
    "start_time": "2024-03-25T10:40:12.076Z"
   },
   {
    "duration": 12,
    "start_time": "2024-03-25T10:40:12.091Z"
   },
   {
    "duration": 18,
    "start_time": "2024-03-25T10:40:12.105Z"
   },
   {
    "duration": 21,
    "start_time": "2024-03-25T10:40:12.125Z"
   },
   {
    "duration": 20,
    "start_time": "2024-03-25T10:40:12.148Z"
   },
   {
    "duration": 23,
    "start_time": "2024-03-25T10:40:12.169Z"
   },
   {
    "duration": 13,
    "start_time": "2024-03-25T10:40:12.194Z"
   },
   {
    "duration": 23,
    "start_time": "2024-03-25T10:40:12.209Z"
   },
   {
    "duration": 7,
    "start_time": "2024-03-25T10:40:12.234Z"
   },
   {
    "duration": 243,
    "start_time": "2024-03-25T10:40:12.243Z"
   },
   {
    "duration": 6,
    "start_time": "2024-03-25T10:40:12.487Z"
   },
   {
    "duration": 14,
    "start_time": "2024-03-25T10:40:12.494Z"
   },
   {
    "duration": 5,
    "start_time": "2024-03-25T10:40:12.510Z"
   },
   {
    "duration": 15,
    "start_time": "2024-03-25T10:40:12.519Z"
   },
   {
    "duration": 8,
    "start_time": "2024-03-25T10:40:12.536Z"
   },
   {
    "duration": 412,
    "start_time": "2024-03-25T10:40:12.546Z"
   },
   {
    "duration": 9,
    "start_time": "2024-03-25T10:40:12.960Z"
   },
   {
    "duration": 12,
    "start_time": "2024-03-25T10:40:12.982Z"
   },
   {
    "duration": 14,
    "start_time": "2024-03-25T10:40:12.995Z"
   },
   {
    "duration": 23,
    "start_time": "2024-03-25T10:40:13.010Z"
   },
   {
    "duration": 49,
    "start_time": "2024-03-25T10:40:13.034Z"
   },
   {
    "duration": 11,
    "start_time": "2024-03-25T10:40:13.085Z"
   },
   {
    "duration": 19,
    "start_time": "2024-03-25T10:40:13.098Z"
   },
   {
    "duration": 18,
    "start_time": "2024-03-25T10:40:13.119Z"
   },
   {
    "duration": 43,
    "start_time": "2024-03-25T10:40:13.139Z"
   },
   {
    "duration": 26,
    "start_time": "2024-03-25T10:40:13.184Z"
   },
   {
    "duration": 9,
    "start_time": "2024-03-25T10:40:13.212Z"
   },
   {
    "duration": 24,
    "start_time": "2024-03-25T10:40:13.223Z"
   },
   {
    "duration": 205,
    "start_time": "2024-03-25T10:40:13.249Z"
   },
   {
    "duration": 191,
    "start_time": "2024-03-25T10:40:13.456Z"
   },
   {
    "duration": 183,
    "start_time": "2024-03-25T10:40:27.774Z"
   },
   {
    "duration": 17,
    "start_time": "2024-03-25T11:03:20.968Z"
   },
   {
    "duration": 8,
    "start_time": "2024-03-25T11:06:30.840Z"
   },
   {
    "duration": 57,
    "start_time": "2024-03-25T11:08:05.701Z"
   },
   {
    "duration": 18,
    "start_time": "2024-03-25T11:08:11.287Z"
   },
   {
    "duration": 9,
    "start_time": "2024-03-25T11:08:21.453Z"
   },
   {
    "duration": 7,
    "start_time": "2024-03-25T11:09:26.150Z"
   },
   {
    "duration": 10,
    "start_time": "2024-03-25T11:10:09.225Z"
   },
   {
    "duration": 13,
    "start_time": "2024-03-25T11:11:01.695Z"
   },
   {
    "duration": 10,
    "start_time": "2024-03-25T11:11:08.874Z"
   },
   {
    "duration": 65,
    "start_time": "2024-03-25T11:11:29.828Z"
   },
   {
    "duration": 14,
    "start_time": "2024-03-25T11:11:44.731Z"
   },
   {
    "duration": 0,
    "start_time": "2024-03-25T11:19:28.134Z"
   },
   {
    "duration": 0,
    "start_time": "2024-03-25T11:19:28.135Z"
   },
   {
    "duration": 0,
    "start_time": "2024-03-25T11:19:28.136Z"
   },
   {
    "duration": 0,
    "start_time": "2024-03-25T11:19:28.137Z"
   },
   {
    "duration": 0,
    "start_time": "2024-03-25T11:19:28.138Z"
   },
   {
    "duration": 0,
    "start_time": "2024-03-25T11:19:28.139Z"
   },
   {
    "duration": 0,
    "start_time": "2024-03-25T11:19:28.140Z"
   },
   {
    "duration": 0,
    "start_time": "2024-03-25T11:19:28.141Z"
   },
   {
    "duration": 0,
    "start_time": "2024-03-25T11:19:28.142Z"
   },
   {
    "duration": 0,
    "start_time": "2024-03-25T11:19:28.143Z"
   },
   {
    "duration": 0,
    "start_time": "2024-03-25T11:19:28.144Z"
   },
   {
    "duration": 0,
    "start_time": "2024-03-25T11:19:28.144Z"
   },
   {
    "duration": 0,
    "start_time": "2024-03-25T11:19:28.145Z"
   },
   {
    "duration": 0,
    "start_time": "2024-03-25T11:19:28.146Z"
   },
   {
    "duration": 0,
    "start_time": "2024-03-25T11:19:28.147Z"
   },
   {
    "duration": 0,
    "start_time": "2024-03-25T11:19:28.148Z"
   },
   {
    "duration": 1,
    "start_time": "2024-03-25T11:19:28.148Z"
   },
   {
    "duration": 0,
    "start_time": "2024-03-25T11:19:28.149Z"
   },
   {
    "duration": 0,
    "start_time": "2024-03-25T11:19:28.150Z"
   },
   {
    "duration": 0,
    "start_time": "2024-03-25T11:19:28.151Z"
   },
   {
    "duration": 0,
    "start_time": "2024-03-25T11:19:28.182Z"
   },
   {
    "duration": 0,
    "start_time": "2024-03-25T11:19:28.183Z"
   },
   {
    "duration": 0,
    "start_time": "2024-03-25T11:19:28.183Z"
   },
   {
    "duration": 0,
    "start_time": "2024-03-25T11:19:28.184Z"
   },
   {
    "duration": 0,
    "start_time": "2024-03-25T11:19:28.185Z"
   },
   {
    "duration": 0,
    "start_time": "2024-03-25T11:19:28.186Z"
   },
   {
    "duration": 0,
    "start_time": "2024-03-25T11:19:28.187Z"
   },
   {
    "duration": 0,
    "start_time": "2024-03-25T11:19:28.188Z"
   },
   {
    "duration": 0,
    "start_time": "2024-03-25T11:19:28.189Z"
   },
   {
    "duration": 0,
    "start_time": "2024-03-25T11:19:28.190Z"
   },
   {
    "duration": 0,
    "start_time": "2024-03-25T11:19:28.191Z"
   },
   {
    "duration": 0,
    "start_time": "2024-03-25T11:19:28.192Z"
   },
   {
    "duration": 0,
    "start_time": "2024-03-25T11:19:28.193Z"
   },
   {
    "duration": 0,
    "start_time": "2024-03-25T11:19:28.194Z"
   },
   {
    "duration": 0,
    "start_time": "2024-03-25T11:19:28.195Z"
   },
   {
    "duration": 0,
    "start_time": "2024-03-25T11:19:28.196Z"
   },
   {
    "duration": 0,
    "start_time": "2024-03-25T11:19:28.196Z"
   },
   {
    "duration": 0,
    "start_time": "2024-03-25T11:19:28.197Z"
   },
   {
    "duration": 0,
    "start_time": "2024-03-25T11:19:28.198Z"
   },
   {
    "duration": 0,
    "start_time": "2024-03-25T11:19:28.199Z"
   },
   {
    "duration": 0,
    "start_time": "2024-03-25T11:19:28.200Z"
   },
   {
    "duration": 0,
    "start_time": "2024-03-25T11:19:28.201Z"
   },
   {
    "duration": 0,
    "start_time": "2024-03-25T11:19:28.202Z"
   },
   {
    "duration": 0,
    "start_time": "2024-03-25T11:19:28.204Z"
   },
   {
    "duration": 0,
    "start_time": "2024-03-25T11:19:28.206Z"
   },
   {
    "duration": 0,
    "start_time": "2024-03-25T11:19:28.206Z"
   },
   {
    "duration": 69,
    "start_time": "2024-03-25T11:19:34.104Z"
   },
   {
    "duration": 6,
    "start_time": "2024-03-25T11:19:34.176Z"
   },
   {
    "duration": 17,
    "start_time": "2024-03-25T11:19:34.184Z"
   },
   {
    "duration": 16,
    "start_time": "2024-03-25T11:19:34.203Z"
   },
   {
    "duration": 8,
    "start_time": "2024-03-25T11:19:34.220Z"
   },
   {
    "duration": 15,
    "start_time": "2024-03-25T11:19:34.230Z"
   },
   {
    "duration": 9,
    "start_time": "2024-03-25T11:19:34.247Z"
   },
   {
    "duration": 25,
    "start_time": "2024-03-25T11:19:34.258Z"
   },
   {
    "duration": 8,
    "start_time": "2024-03-25T11:19:34.285Z"
   },
   {
    "duration": 7,
    "start_time": "2024-03-25T11:19:34.296Z"
   },
   {
    "duration": 10,
    "start_time": "2024-03-25T11:19:34.304Z"
   },
   {
    "duration": 6,
    "start_time": "2024-03-25T11:19:34.315Z"
   },
   {
    "duration": 15,
    "start_time": "2024-03-25T11:19:34.322Z"
   },
   {
    "duration": 46,
    "start_time": "2024-03-25T11:19:34.338Z"
   },
   {
    "duration": 16,
    "start_time": "2024-03-25T11:19:34.385Z"
   },
   {
    "duration": 24,
    "start_time": "2024-03-25T11:19:34.403Z"
   },
   {
    "duration": 35,
    "start_time": "2024-03-25T11:19:34.429Z"
   },
   {
    "duration": 14,
    "start_time": "2024-03-25T11:19:34.466Z"
   },
   {
    "duration": 10,
    "start_time": "2024-03-25T11:19:34.482Z"
   },
   {
    "duration": 5,
    "start_time": "2024-03-25T11:19:34.493Z"
   },
   {
    "duration": 7,
    "start_time": "2024-03-25T11:19:34.500Z"
   },
   {
    "duration": 7,
    "start_time": "2024-03-25T11:19:34.509Z"
   },
   {
    "duration": 5,
    "start_time": "2024-03-25T11:19:34.517Z"
   },
   {
    "duration": 260,
    "start_time": "2024-03-25T11:19:34.523Z"
   },
   {
    "duration": 6,
    "start_time": "2024-03-25T11:19:34.785Z"
   },
   {
    "duration": 8,
    "start_time": "2024-03-25T11:19:34.792Z"
   },
   {
    "duration": 5,
    "start_time": "2024-03-25T11:19:34.801Z"
   },
   {
    "duration": 19,
    "start_time": "2024-03-25T11:19:34.809Z"
   },
   {
    "duration": 14,
    "start_time": "2024-03-25T11:19:34.829Z"
   },
   {
    "duration": 312,
    "start_time": "2024-03-25T11:19:34.845Z"
   },
   {
    "duration": 8,
    "start_time": "2024-03-25T11:19:35.159Z"
   },
   {
    "duration": 9,
    "start_time": "2024-03-25T11:19:35.182Z"
   },
   {
    "duration": 14,
    "start_time": "2024-03-25T11:19:35.192Z"
   },
   {
    "duration": 9,
    "start_time": "2024-03-25T11:19:35.208Z"
   },
   {
    "duration": 29,
    "start_time": "2024-03-25T11:19:35.218Z"
   },
   {
    "duration": 8,
    "start_time": "2024-03-25T11:19:35.248Z"
   },
   {
    "duration": 53,
    "start_time": "2024-03-25T11:19:35.258Z"
   },
   {
    "duration": 16,
    "start_time": "2024-03-25T11:19:35.314Z"
   },
   {
    "duration": 20,
    "start_time": "2024-03-25T11:19:35.332Z"
   },
   {
    "duration": 39,
    "start_time": "2024-03-25T11:19:35.354Z"
   },
   {
    "duration": 7,
    "start_time": "2024-03-25T11:19:35.394Z"
   },
   {
    "duration": 12,
    "start_time": "2024-03-25T11:19:35.403Z"
   },
   {
    "duration": 174,
    "start_time": "2024-03-25T11:19:35.417Z"
   },
   {
    "duration": 175,
    "start_time": "2024-03-25T11:19:35.593Z"
   },
   {
    "duration": 25,
    "start_time": "2024-03-25T11:19:35.770Z"
   },
   {
    "duration": 44688,
    "start_time": "2024-03-25T11:19:35.797Z"
   },
   {
    "duration": 16,
    "start_time": "2024-03-25T11:49:33.093Z"
   },
   {
    "duration": 20,
    "start_time": "2024-03-25T11:49:45.741Z"
   },
   {
    "duration": 69,
    "start_time": "2024-03-25T11:51:00.704Z"
   },
   {
    "duration": 21,
    "start_time": "2024-03-25T11:51:00.775Z"
   },
   {
    "duration": 87,
    "start_time": "2024-03-25T11:51:00.797Z"
   },
   {
    "duration": 96,
    "start_time": "2024-03-25T11:51:00.886Z"
   },
   {
    "duration": 151,
    "start_time": "2024-03-25T11:51:00.984Z"
   },
   {
    "duration": 80,
    "start_time": "2024-03-25T11:51:01.137Z"
   },
   {
    "duration": 49,
    "start_time": "2024-03-25T11:51:01.219Z"
   },
   {
    "duration": 73,
    "start_time": "2024-03-25T11:51:01.269Z"
   },
   {
    "duration": 105,
    "start_time": "2024-03-25T11:51:01.343Z"
   },
   {
    "duration": 119,
    "start_time": "2024-03-25T11:51:01.451Z"
   },
   {
    "duration": 129,
    "start_time": "2024-03-25T11:51:01.572Z"
   },
   {
    "duration": 150,
    "start_time": "2024-03-25T11:51:01.703Z"
   },
   {
    "duration": 85,
    "start_time": "2024-03-25T11:51:01.855Z"
   },
   {
    "duration": 126,
    "start_time": "2024-03-25T11:51:01.942Z"
   },
   {
    "duration": 94,
    "start_time": "2024-03-25T11:51:02.070Z"
   },
   {
    "duration": 35,
    "start_time": "2024-03-25T11:51:02.165Z"
   },
   {
    "duration": 33,
    "start_time": "2024-03-25T11:51:02.202Z"
   },
   {
    "duration": 13,
    "start_time": "2024-03-25T11:51:02.237Z"
   },
   {
    "duration": 36,
    "start_time": "2024-03-25T11:51:02.252Z"
   },
   {
    "duration": 58,
    "start_time": "2024-03-25T11:51:02.290Z"
   },
   {
    "duration": 35,
    "start_time": "2024-03-25T11:51:02.350Z"
   },
   {
    "duration": 29,
    "start_time": "2024-03-25T11:51:02.387Z"
   },
   {
    "duration": 34,
    "start_time": "2024-03-25T11:51:02.418Z"
   },
   {
    "duration": 292,
    "start_time": "2024-03-25T11:51:02.454Z"
   },
   {
    "duration": 6,
    "start_time": "2024-03-25T11:51:02.748Z"
   },
   {
    "duration": 44,
    "start_time": "2024-03-25T11:51:02.755Z"
   },
   {
    "duration": 18,
    "start_time": "2024-03-25T11:51:02.800Z"
   },
   {
    "duration": 37,
    "start_time": "2024-03-25T11:51:02.823Z"
   },
   {
    "duration": 16,
    "start_time": "2024-03-25T11:51:02.862Z"
   },
   {
    "duration": 351,
    "start_time": "2024-03-25T11:51:02.880Z"
   },
   {
    "duration": 8,
    "start_time": "2024-03-25T11:51:03.233Z"
   },
   {
    "duration": 15,
    "start_time": "2024-03-25T11:51:03.242Z"
   },
   {
    "duration": 51,
    "start_time": "2024-03-25T11:51:03.259Z"
   },
   {
    "duration": 38,
    "start_time": "2024-03-25T11:51:03.311Z"
   },
   {
    "duration": 29,
    "start_time": "2024-03-25T11:51:03.351Z"
   },
   {
    "duration": 8,
    "start_time": "2024-03-25T11:51:03.382Z"
   },
   {
    "duration": 19,
    "start_time": "2024-03-25T11:51:03.392Z"
   },
   {
    "duration": 11,
    "start_time": "2024-03-25T11:51:03.413Z"
   },
   {
    "duration": 8,
    "start_time": "2024-03-25T11:51:03.426Z"
   },
   {
    "duration": 59,
    "start_time": "2024-03-25T11:51:03.435Z"
   },
   {
    "duration": 10,
    "start_time": "2024-03-25T11:51:03.496Z"
   },
   {
    "duration": 10,
    "start_time": "2024-03-25T11:51:03.508Z"
   },
   {
    "duration": 212,
    "start_time": "2024-03-25T11:51:03.520Z"
   },
   {
    "duration": 192,
    "start_time": "2024-03-25T11:51:03.734Z"
   },
   {
    "duration": 23,
    "start_time": "2024-03-25T11:51:03.928Z"
   },
   {
    "duration": 38,
    "start_time": "2024-03-25T11:51:03.954Z"
   },
   {
    "duration": 27,
    "start_time": "2024-03-25T11:51:28.589Z"
   },
   {
    "duration": 20,
    "start_time": "2024-03-25T12:03:40.040Z"
   },
   {
    "duration": 64,
    "start_time": "2024-03-25T12:17:40.914Z"
   },
   {
    "duration": 67,
    "start_time": "2024-03-25T12:17:52.914Z"
   },
   {
    "duration": 4,
    "start_time": "2024-03-25T12:19:05.329Z"
   },
   {
    "duration": 4,
    "start_time": "2024-03-25T12:19:16.142Z"
   },
   {
    "duration": 30,
    "start_time": "2024-03-25T12:19:28.207Z"
   },
   {
    "duration": 68,
    "start_time": "2024-03-25T12:22:03.505Z"
   },
   {
    "duration": 6,
    "start_time": "2024-03-25T12:22:03.575Z"
   },
   {
    "duration": 7,
    "start_time": "2024-03-25T12:22:03.582Z"
   },
   {
    "duration": 24,
    "start_time": "2024-03-25T12:22:03.591Z"
   },
   {
    "duration": 9,
    "start_time": "2024-03-25T12:22:03.617Z"
   },
   {
    "duration": 18,
    "start_time": "2024-03-25T12:22:03.627Z"
   },
   {
    "duration": 9,
    "start_time": "2024-03-25T12:22:03.646Z"
   },
   {
    "duration": 28,
    "start_time": "2024-03-25T12:22:03.657Z"
   },
   {
    "duration": 9,
    "start_time": "2024-03-25T12:22:03.686Z"
   },
   {
    "duration": 21,
    "start_time": "2024-03-25T12:22:03.698Z"
   },
   {
    "duration": 11,
    "start_time": "2024-03-25T12:22:03.720Z"
   },
   {
    "duration": 5,
    "start_time": "2024-03-25T12:22:03.733Z"
   },
   {
    "duration": 15,
    "start_time": "2024-03-25T12:22:03.740Z"
   },
   {
    "duration": 28,
    "start_time": "2024-03-25T12:22:03.757Z"
   },
   {
    "duration": 6,
    "start_time": "2024-03-25T12:22:03.787Z"
   },
   {
    "duration": 9,
    "start_time": "2024-03-25T12:22:03.795Z"
   },
   {
    "duration": 8,
    "start_time": "2024-03-25T12:22:03.805Z"
   },
   {
    "duration": 6,
    "start_time": "2024-03-25T12:22:03.814Z"
   },
   {
    "duration": 13,
    "start_time": "2024-03-25T12:22:03.822Z"
   },
   {
    "duration": 5,
    "start_time": "2024-03-25T12:22:03.837Z"
   },
   {
    "duration": 43,
    "start_time": "2024-03-25T12:22:03.844Z"
   },
   {
    "duration": 11,
    "start_time": "2024-03-25T12:22:03.889Z"
   },
   {
    "duration": 6,
    "start_time": "2024-03-25T12:22:03.902Z"
   },
   {
    "duration": 239,
    "start_time": "2024-03-25T12:22:03.910Z"
   },
   {
    "duration": 7,
    "start_time": "2024-03-25T12:22:04.151Z"
   },
   {
    "duration": 27,
    "start_time": "2024-03-25T12:22:04.159Z"
   },
   {
    "duration": 4,
    "start_time": "2024-03-25T12:22:04.190Z"
   },
   {
    "duration": 9,
    "start_time": "2024-03-25T12:22:04.195Z"
   },
   {
    "duration": 13,
    "start_time": "2024-03-25T12:22:04.206Z"
   },
   {
    "duration": 314,
    "start_time": "2024-03-25T12:22:04.221Z"
   },
   {
    "duration": 8,
    "start_time": "2024-03-25T12:22:04.536Z"
   },
   {
    "duration": 12,
    "start_time": "2024-03-25T12:22:04.546Z"
   },
   {
    "duration": 23,
    "start_time": "2024-03-25T12:22:04.560Z"
   },
   {
    "duration": 16,
    "start_time": "2024-03-25T12:22:04.585Z"
   },
   {
    "duration": 33,
    "start_time": "2024-03-25T12:22:04.602Z"
   },
   {
    "duration": 9,
    "start_time": "2024-03-25T12:22:04.636Z"
   },
   {
    "duration": 45,
    "start_time": "2024-03-25T12:22:04.647Z"
   },
   {
    "duration": 9,
    "start_time": "2024-03-25T12:22:04.694Z"
   },
   {
    "duration": 12,
    "start_time": "2024-03-25T12:22:04.705Z"
   },
   {
    "duration": 24,
    "start_time": "2024-03-25T12:22:04.719Z"
   },
   {
    "duration": 38,
    "start_time": "2024-03-25T12:22:04.745Z"
   },
   {
    "duration": 9,
    "start_time": "2024-03-25T12:22:04.784Z"
   },
   {
    "duration": 188,
    "start_time": "2024-03-25T12:22:04.794Z"
   },
   {
    "duration": 280,
    "start_time": "2024-03-25T12:22:04.984Z"
   },
   {
    "duration": 56,
    "start_time": "2024-03-25T12:22:05.266Z"
   },
   {
    "duration": 0,
    "start_time": "2024-03-25T12:22:05.324Z"
   },
   {
    "duration": 23,
    "start_time": "2024-03-25T12:22:12.003Z"
   },
   {
    "duration": 23,
    "start_time": "2024-03-25T12:23:06.945Z"
   },
   {
    "duration": 21,
    "start_time": "2024-03-25T12:23:40.088Z"
   },
   {
    "duration": 23,
    "start_time": "2024-03-25T12:23:59.893Z"
   },
   {
    "duration": 65,
    "start_time": "2024-03-25T12:24:19.488Z"
   },
   {
    "duration": 70,
    "start_time": "2024-03-25T12:24:49.715Z"
   },
   {
    "duration": 95,
    "start_time": "2024-03-25T16:18:32.290Z"
   },
   {
    "duration": 132,
    "start_time": "2024-03-25T16:18:52.022Z"
   },
   {
    "duration": 52,
    "start_time": "2024-03-25T16:19:19.884Z"
   },
   {
    "duration": 1665,
    "start_time": "2024-03-25T16:19:34.112Z"
   },
   {
    "duration": 8,
    "start_time": "2024-03-25T16:19:35.779Z"
   },
   {
    "duration": 10,
    "start_time": "2024-03-25T16:19:35.788Z"
   },
   {
    "duration": 11,
    "start_time": "2024-03-25T16:19:35.800Z"
   },
   {
    "duration": 12,
    "start_time": "2024-03-25T16:19:35.813Z"
   },
   {
    "duration": 22,
    "start_time": "2024-03-25T16:19:35.827Z"
   },
   {
    "duration": 11,
    "start_time": "2024-03-25T16:19:35.850Z"
   },
   {
    "duration": 12,
    "start_time": "2024-03-25T16:19:35.863Z"
   },
   {
    "duration": 8,
    "start_time": "2024-03-25T16:19:35.876Z"
   },
   {
    "duration": 13,
    "start_time": "2024-03-25T16:19:35.885Z"
   },
   {
    "duration": 16,
    "start_time": "2024-03-25T16:19:35.899Z"
   },
   {
    "duration": 15,
    "start_time": "2024-03-25T16:19:35.916Z"
   },
   {
    "duration": 21,
    "start_time": "2024-03-25T16:19:35.932Z"
   },
   {
    "duration": 16,
    "start_time": "2024-03-25T16:19:35.957Z"
   },
   {
    "duration": 6,
    "start_time": "2024-03-25T16:19:35.975Z"
   },
   {
    "duration": 8,
    "start_time": "2024-03-25T16:19:35.982Z"
   },
   {
    "duration": 10,
    "start_time": "2024-03-25T16:19:35.991Z"
   },
   {
    "duration": 6,
    "start_time": "2024-03-25T16:19:36.002Z"
   },
   {
    "duration": 8,
    "start_time": "2024-03-25T16:19:36.009Z"
   },
   {
    "duration": 5,
    "start_time": "2024-03-25T16:19:36.018Z"
   },
   {
    "duration": 8,
    "start_time": "2024-03-25T16:19:36.024Z"
   },
   {
    "duration": 42,
    "start_time": "2024-03-25T16:19:36.034Z"
   },
   {
    "duration": 6,
    "start_time": "2024-03-25T16:19:36.077Z"
   },
   {
    "duration": 276,
    "start_time": "2024-03-25T16:19:36.084Z"
   },
   {
    "duration": 5,
    "start_time": "2024-03-25T16:19:36.362Z"
   },
   {
    "duration": 18,
    "start_time": "2024-03-25T16:19:36.373Z"
   },
   {
    "duration": 26,
    "start_time": "2024-03-25T16:19:36.392Z"
   },
   {
    "duration": 4,
    "start_time": "2024-03-25T16:19:36.420Z"
   },
   {
    "duration": 5,
    "start_time": "2024-03-25T16:19:36.426Z"
   },
   {
    "duration": 323,
    "start_time": "2024-03-25T16:19:36.432Z"
   },
   {
    "duration": 16,
    "start_time": "2024-03-25T16:19:36.757Z"
   },
   {
    "duration": 27,
    "start_time": "2024-03-25T16:19:36.774Z"
   },
   {
    "duration": 25,
    "start_time": "2024-03-25T16:19:36.802Z"
   },
   {
    "duration": 16,
    "start_time": "2024-03-25T16:19:36.829Z"
   },
   {
    "duration": 38,
    "start_time": "2024-03-25T16:19:36.847Z"
   },
   {
    "duration": 9,
    "start_time": "2024-03-25T16:19:36.886Z"
   },
   {
    "duration": 32,
    "start_time": "2024-03-25T16:19:36.897Z"
   },
   {
    "duration": 12,
    "start_time": "2024-03-25T16:19:36.931Z"
   },
   {
    "duration": 10,
    "start_time": "2024-03-25T16:19:36.944Z"
   },
   {
    "duration": 22,
    "start_time": "2024-03-25T16:19:36.955Z"
   },
   {
    "duration": 20,
    "start_time": "2024-03-25T16:19:36.981Z"
   },
   {
    "duration": 32,
    "start_time": "2024-03-25T16:19:37.003Z"
   },
   {
    "duration": 193,
    "start_time": "2024-03-25T16:19:37.037Z"
   },
   {
    "duration": 176,
    "start_time": "2024-03-25T16:19:37.232Z"
   },
   {
    "duration": 91,
    "start_time": "2024-03-25T16:19:37.410Z"
   },
   {
    "duration": 0,
    "start_time": "2024-03-25T16:19:37.502Z"
   },
   {
    "duration": 82,
    "start_time": "2024-03-25T16:20:40.937Z"
   },
   {
    "duration": 24,
    "start_time": "2024-03-25T16:21:02.634Z"
   },
   {
    "duration": 333,
    "start_time": "2024-03-25T16:26:40.386Z"
   },
   {
    "duration": 69,
    "start_time": "2024-03-25T16:27:57.546Z"
   },
   {
    "duration": 5,
    "start_time": "2024-03-25T16:27:57.617Z"
   },
   {
    "duration": 6,
    "start_time": "2024-03-25T16:27:57.624Z"
   },
   {
    "duration": 9,
    "start_time": "2024-03-25T16:27:57.631Z"
   },
   {
    "duration": 8,
    "start_time": "2024-03-25T16:27:57.642Z"
   },
   {
    "duration": 20,
    "start_time": "2024-03-25T16:27:57.651Z"
   },
   {
    "duration": 8,
    "start_time": "2024-03-25T16:27:57.673Z"
   },
   {
    "duration": 8,
    "start_time": "2024-03-25T16:27:57.683Z"
   },
   {
    "duration": 9,
    "start_time": "2024-03-25T16:27:57.692Z"
   },
   {
    "duration": 8,
    "start_time": "2024-03-25T16:27:57.702Z"
   },
   {
    "duration": 36,
    "start_time": "2024-03-25T16:27:57.712Z"
   },
   {
    "duration": 25,
    "start_time": "2024-03-25T16:27:57.750Z"
   },
   {
    "duration": 16,
    "start_time": "2024-03-25T16:27:57.777Z"
   },
   {
    "duration": 5,
    "start_time": "2024-03-25T16:27:57.796Z"
   },
   {
    "duration": 9,
    "start_time": "2024-03-25T16:27:57.802Z"
   },
   {
    "duration": 9,
    "start_time": "2024-03-25T16:27:57.812Z"
   },
   {
    "duration": 13,
    "start_time": "2024-03-25T16:27:57.822Z"
   },
   {
    "duration": 21,
    "start_time": "2024-03-25T16:27:57.836Z"
   },
   {
    "duration": 7,
    "start_time": "2024-03-25T16:27:57.859Z"
   },
   {
    "duration": 19,
    "start_time": "2024-03-25T16:27:57.867Z"
   },
   {
    "duration": 13,
    "start_time": "2024-03-25T16:27:57.888Z"
   },
   {
    "duration": 10,
    "start_time": "2024-03-25T16:27:57.903Z"
   },
   {
    "duration": 5,
    "start_time": "2024-03-25T16:27:57.915Z"
   },
   {
    "duration": 399,
    "start_time": "2024-03-25T16:27:57.921Z"
   },
   {
    "duration": 5,
    "start_time": "2024-03-25T16:27:58.322Z"
   },
   {
    "duration": 13,
    "start_time": "2024-03-25T16:27:58.329Z"
   },
   {
    "duration": 8,
    "start_time": "2024-03-25T16:27:58.344Z"
   },
   {
    "duration": 19,
    "start_time": "2024-03-25T16:27:58.354Z"
   },
   {
    "duration": 5,
    "start_time": "2024-03-25T16:27:58.375Z"
   },
   {
    "duration": 423,
    "start_time": "2024-03-25T16:27:58.381Z"
   },
   {
    "duration": 8,
    "start_time": "2024-03-25T16:27:58.805Z"
   },
   {
    "duration": 20,
    "start_time": "2024-03-25T16:27:58.815Z"
   },
   {
    "duration": 9,
    "start_time": "2024-03-25T16:27:58.837Z"
   },
   {
    "duration": 13,
    "start_time": "2024-03-25T16:27:58.847Z"
   },
   {
    "duration": 34,
    "start_time": "2024-03-25T16:27:58.872Z"
   },
   {
    "duration": 8,
    "start_time": "2024-03-25T16:27:58.907Z"
   },
   {
    "duration": 15,
    "start_time": "2024-03-25T16:27:58.917Z"
   },
   {
    "duration": 8,
    "start_time": "2024-03-25T16:27:58.933Z"
   },
   {
    "duration": 36,
    "start_time": "2024-03-25T16:27:58.942Z"
   },
   {
    "duration": 20,
    "start_time": "2024-03-25T16:27:58.980Z"
   },
   {
    "duration": 8,
    "start_time": "2024-03-25T16:27:59.004Z"
   },
   {
    "duration": 13,
    "start_time": "2024-03-25T16:27:59.013Z"
   },
   {
    "duration": 208,
    "start_time": "2024-03-25T16:27:59.028Z"
   },
   {
    "duration": 196,
    "start_time": "2024-03-25T16:27:59.238Z"
   },
   {
    "duration": 88,
    "start_time": "2024-03-25T16:27:59.436Z"
   },
   {
    "duration": 0,
    "start_time": "2024-03-25T16:27:59.525Z"
   },
   {
    "duration": 21,
    "start_time": "2024-03-25T16:28:23.158Z"
   },
   {
    "duration": 15,
    "start_time": "2024-03-25T16:29:04.956Z"
   },
   {
    "duration": 367,
    "start_time": "2024-03-25T16:29:11.314Z"
   },
   {
    "duration": 68,
    "start_time": "2024-03-25T16:32:17.858Z"
   },
   {
    "duration": 5,
    "start_time": "2024-03-25T16:32:17.928Z"
   },
   {
    "duration": 15,
    "start_time": "2024-03-25T16:32:17.935Z"
   },
   {
    "duration": 15,
    "start_time": "2024-03-25T16:32:17.952Z"
   },
   {
    "duration": 33,
    "start_time": "2024-03-25T16:32:17.969Z"
   },
   {
    "duration": 20,
    "start_time": "2024-03-25T16:32:18.004Z"
   },
   {
    "duration": 8,
    "start_time": "2024-03-25T16:32:18.025Z"
   },
   {
    "duration": 11,
    "start_time": "2024-03-25T16:32:18.035Z"
   },
   {
    "duration": 8,
    "start_time": "2024-03-25T16:32:18.047Z"
   },
   {
    "duration": 8,
    "start_time": "2024-03-25T16:32:18.058Z"
   },
   {
    "duration": 20,
    "start_time": "2024-03-25T16:32:18.067Z"
   },
   {
    "duration": 12,
    "start_time": "2024-03-25T16:32:18.093Z"
   },
   {
    "duration": 32,
    "start_time": "2024-03-25T16:32:18.107Z"
   },
   {
    "duration": 9,
    "start_time": "2024-03-25T16:32:18.141Z"
   },
   {
    "duration": 7,
    "start_time": "2024-03-25T16:32:18.152Z"
   },
   {
    "duration": 9,
    "start_time": "2024-03-25T16:32:18.161Z"
   },
   {
    "duration": 23,
    "start_time": "2024-03-25T16:32:18.172Z"
   },
   {
    "duration": 7,
    "start_time": "2024-03-25T16:32:18.197Z"
   },
   {
    "duration": 10,
    "start_time": "2024-03-25T16:32:18.205Z"
   },
   {
    "duration": 10,
    "start_time": "2024-03-25T16:32:18.216Z"
   },
   {
    "duration": 12,
    "start_time": "2024-03-25T16:32:18.227Z"
   },
   {
    "duration": 23,
    "start_time": "2024-03-25T16:32:18.240Z"
   },
   {
    "duration": 8,
    "start_time": "2024-03-25T16:32:18.265Z"
   },
   {
    "duration": 253,
    "start_time": "2024-03-25T16:32:18.275Z"
   },
   {
    "duration": 15,
    "start_time": "2024-03-25T16:32:18.530Z"
   },
   {
    "duration": 20,
    "start_time": "2024-03-25T16:32:18.547Z"
   },
   {
    "duration": 20,
    "start_time": "2024-03-25T16:32:18.569Z"
   },
   {
    "duration": 13,
    "start_time": "2024-03-25T16:32:18.593Z"
   },
   {
    "duration": 17,
    "start_time": "2024-03-25T16:32:18.608Z"
   },
   {
    "duration": 312,
    "start_time": "2024-03-25T16:32:18.627Z"
   },
   {
    "duration": 10,
    "start_time": "2024-03-25T16:32:18.940Z"
   },
   {
    "duration": 23,
    "start_time": "2024-03-25T16:32:18.952Z"
   },
   {
    "duration": 24,
    "start_time": "2024-03-25T16:32:18.977Z"
   },
   {
    "duration": 18,
    "start_time": "2024-03-25T16:32:19.002Z"
   },
   {
    "duration": 34,
    "start_time": "2024-03-25T16:32:19.022Z"
   },
   {
    "duration": 9,
    "start_time": "2024-03-25T16:32:19.058Z"
   },
   {
    "duration": 22,
    "start_time": "2024-03-25T16:32:19.068Z"
   },
   {
    "duration": 14,
    "start_time": "2024-03-25T16:32:19.092Z"
   },
   {
    "duration": 38,
    "start_time": "2024-03-25T16:32:19.108Z"
   },
   {
    "duration": 29,
    "start_time": "2024-03-25T16:32:19.148Z"
   },
   {
    "duration": 9,
    "start_time": "2024-03-25T16:32:19.178Z"
   },
   {
    "duration": 15,
    "start_time": "2024-03-25T16:32:19.188Z"
   },
   {
    "duration": 188,
    "start_time": "2024-03-25T16:32:19.205Z"
   },
   {
    "duration": 179,
    "start_time": "2024-03-25T16:32:19.395Z"
   },
   {
    "duration": 16,
    "start_time": "2024-03-25T16:32:19.576Z"
   },
   {
    "duration": 8,
    "start_time": "2024-03-25T16:32:19.593Z"
   },
   {
    "duration": 390,
    "start_time": "2024-03-25T16:32:19.602Z"
   },
   {
    "duration": 47,
    "start_time": "2024-03-25T19:26:47.600Z"
   },
   {
    "duration": 1636,
    "start_time": "2024-03-25T19:27:01.999Z"
   },
   {
    "duration": 8,
    "start_time": "2024-03-25T19:27:03.637Z"
   },
   {
    "duration": 31,
    "start_time": "2024-03-25T19:27:03.647Z"
   },
   {
    "duration": 13,
    "start_time": "2024-03-25T19:27:03.680Z"
   },
   {
    "duration": 12,
    "start_time": "2024-03-25T19:27:03.695Z"
   },
   {
    "duration": 25,
    "start_time": "2024-03-25T19:27:03.709Z"
   },
   {
    "duration": 23,
    "start_time": "2024-03-25T19:27:03.735Z"
   },
   {
    "duration": 23,
    "start_time": "2024-03-25T19:27:03.759Z"
   },
   {
    "duration": 36,
    "start_time": "2024-03-25T19:27:03.783Z"
   },
   {
    "duration": 14,
    "start_time": "2024-03-25T19:27:03.821Z"
   },
   {
    "duration": 47,
    "start_time": "2024-03-25T19:27:03.836Z"
   },
   {
    "duration": 63,
    "start_time": "2024-03-25T19:27:03.884Z"
   },
   {
    "duration": 50,
    "start_time": "2024-03-25T19:27:03.948Z"
   },
   {
    "duration": 6,
    "start_time": "2024-03-25T19:27:04.000Z"
   },
   {
    "duration": 43,
    "start_time": "2024-03-25T19:27:04.008Z"
   },
   {
    "duration": 13,
    "start_time": "2024-03-25T19:27:04.053Z"
   },
   {
    "duration": 14,
    "start_time": "2024-03-25T19:27:04.068Z"
   },
   {
    "duration": 23,
    "start_time": "2024-03-25T19:27:04.084Z"
   },
   {
    "duration": 31,
    "start_time": "2024-03-25T19:27:04.109Z"
   },
   {
    "duration": 20,
    "start_time": "2024-03-25T19:27:04.142Z"
   },
   {
    "duration": 14,
    "start_time": "2024-03-25T19:27:04.164Z"
   },
   {
    "duration": 9,
    "start_time": "2024-03-25T19:27:04.180Z"
   },
   {
    "duration": 12,
    "start_time": "2024-03-25T19:27:04.190Z"
   },
   {
    "duration": 234,
    "start_time": "2024-03-25T19:27:04.204Z"
   },
   {
    "duration": 5,
    "start_time": "2024-03-25T19:27:04.439Z"
   },
   {
    "duration": 17,
    "start_time": "2024-03-25T19:27:04.446Z"
   },
   {
    "duration": 7,
    "start_time": "2024-03-25T19:27:04.464Z"
   },
   {
    "duration": 4,
    "start_time": "2024-03-25T19:27:04.474Z"
   },
   {
    "duration": 17,
    "start_time": "2024-03-25T19:27:04.480Z"
   },
   {
    "duration": 289,
    "start_time": "2024-03-25T19:27:04.499Z"
   },
   {
    "duration": 8,
    "start_time": "2024-03-25T19:27:04.793Z"
   },
   {
    "duration": 24,
    "start_time": "2024-03-25T19:27:04.803Z"
   },
   {
    "duration": 12,
    "start_time": "2024-03-25T19:27:04.829Z"
   },
   {
    "duration": 17,
    "start_time": "2024-03-25T19:27:04.843Z"
   },
   {
    "duration": 47,
    "start_time": "2024-03-25T19:27:04.862Z"
   },
   {
    "duration": 10,
    "start_time": "2024-03-25T19:27:04.911Z"
   },
   {
    "duration": 27,
    "start_time": "2024-03-25T19:27:04.923Z"
   },
   {
    "duration": 12,
    "start_time": "2024-03-25T19:27:04.951Z"
   },
   {
    "duration": 21,
    "start_time": "2024-03-25T19:27:04.964Z"
   },
   {
    "duration": 35,
    "start_time": "2024-03-25T19:27:04.987Z"
   },
   {
    "duration": 29,
    "start_time": "2024-03-25T19:27:05.023Z"
   },
   {
    "duration": 27,
    "start_time": "2024-03-25T19:27:05.053Z"
   },
   {
    "duration": 175,
    "start_time": "2024-03-25T19:27:05.082Z"
   },
   {
    "duration": 165,
    "start_time": "2024-03-25T19:27:05.259Z"
   },
   {
    "duration": 15,
    "start_time": "2024-03-25T19:27:05.426Z"
   },
   {
    "duration": 33,
    "start_time": "2024-03-25T19:27:05.442Z"
   },
   {
    "duration": 402,
    "start_time": "2024-03-25T19:27:05.477Z"
   },
   {
    "duration": 12,
    "start_time": "2024-03-25T19:31:00.149Z"
   },
   {
    "duration": 11,
    "start_time": "2024-03-25T19:31:51.656Z"
   },
   {
    "duration": 42,
    "start_time": "2024-03-26T03:45:15.272Z"
   },
   {
    "duration": 1410,
    "start_time": "2024-03-26T03:45:23.360Z"
   },
   {
    "duration": 7,
    "start_time": "2024-03-26T03:45:24.772Z"
   },
   {
    "duration": 11,
    "start_time": "2024-03-26T03:45:24.780Z"
   },
   {
    "duration": 11,
    "start_time": "2024-03-26T03:45:24.793Z"
   },
   {
    "duration": 14,
    "start_time": "2024-03-26T03:45:24.805Z"
   },
   {
    "duration": 11,
    "start_time": "2024-03-26T03:45:24.820Z"
   },
   {
    "duration": 9,
    "start_time": "2024-03-26T03:45:24.833Z"
   },
   {
    "duration": 8,
    "start_time": "2024-03-26T03:45:24.843Z"
   },
   {
    "duration": 11,
    "start_time": "2024-03-26T03:45:24.852Z"
   },
   {
    "duration": 11,
    "start_time": "2024-03-26T03:45:24.865Z"
   },
   {
    "duration": 10,
    "start_time": "2024-03-26T03:45:24.877Z"
   },
   {
    "duration": 16,
    "start_time": "2024-03-26T03:45:24.888Z"
   },
   {
    "duration": 15,
    "start_time": "2024-03-26T03:45:24.905Z"
   },
   {
    "duration": 8,
    "start_time": "2024-03-26T03:45:24.921Z"
   },
   {
    "duration": 14,
    "start_time": "2024-03-26T03:45:24.930Z"
   },
   {
    "duration": 18,
    "start_time": "2024-03-26T03:45:24.946Z"
   },
   {
    "duration": 9,
    "start_time": "2024-03-26T03:45:24.965Z"
   },
   {
    "duration": 9,
    "start_time": "2024-03-26T03:45:24.975Z"
   },
   {
    "duration": 14,
    "start_time": "2024-03-26T03:45:24.986Z"
   },
   {
    "duration": 26,
    "start_time": "2024-03-26T03:45:25.002Z"
   },
   {
    "duration": 28,
    "start_time": "2024-03-26T03:45:25.030Z"
   },
   {
    "duration": 11,
    "start_time": "2024-03-26T03:45:25.060Z"
   },
   {
    "duration": 9,
    "start_time": "2024-03-26T03:45:25.073Z"
   },
   {
    "duration": 207,
    "start_time": "2024-03-26T03:45:25.083Z"
   },
   {
    "duration": 11,
    "start_time": "2024-03-26T03:45:25.291Z"
   },
   {
    "duration": 32,
    "start_time": "2024-03-26T03:45:25.304Z"
   },
   {
    "duration": 16,
    "start_time": "2024-03-26T03:45:25.337Z"
   },
   {
    "duration": 9,
    "start_time": "2024-03-26T03:45:25.356Z"
   },
   {
    "duration": 36,
    "start_time": "2024-03-26T03:45:25.366Z"
   },
   {
    "duration": 276,
    "start_time": "2024-03-26T03:45:25.403Z"
   },
   {
    "duration": 6,
    "start_time": "2024-03-26T03:45:25.680Z"
   },
   {
    "duration": 36,
    "start_time": "2024-03-26T03:45:25.688Z"
   },
   {
    "duration": 18,
    "start_time": "2024-03-26T03:45:25.725Z"
   },
   {
    "duration": 51,
    "start_time": "2024-03-26T03:45:25.744Z"
   },
   {
    "duration": 45,
    "start_time": "2024-03-26T03:45:25.796Z"
   },
   {
    "duration": 8,
    "start_time": "2024-03-26T03:45:25.842Z"
   },
   {
    "duration": 18,
    "start_time": "2024-03-26T03:45:25.851Z"
   },
   {
    "duration": 6,
    "start_time": "2024-03-26T03:45:25.871Z"
   },
   {
    "duration": 15,
    "start_time": "2024-03-26T03:45:25.878Z"
   },
   {
    "duration": 44,
    "start_time": "2024-03-26T03:45:25.895Z"
   },
   {
    "duration": 6,
    "start_time": "2024-03-26T03:45:25.940Z"
   },
   {
    "duration": 6,
    "start_time": "2024-03-26T03:45:25.947Z"
   },
   {
    "duration": 158,
    "start_time": "2024-03-26T03:45:25.954Z"
   },
   {
    "duration": 141,
    "start_time": "2024-03-26T03:45:26.114Z"
   },
   {
    "duration": 14,
    "start_time": "2024-03-26T03:45:26.256Z"
   },
   {
    "duration": 25,
    "start_time": "2024-03-26T03:45:26.271Z"
   },
   {
    "duration": 21,
    "start_time": "2024-03-26T03:45:26.297Z"
   },
   {
    "duration": 78,
    "start_time": "2024-03-26T03:45:26.319Z"
   },
   {
    "duration": 11,
    "start_time": "2024-03-26T03:47:15.707Z"
   },
   {
    "duration": 264,
    "start_time": "2024-03-26T04:09:49.943Z"
   },
   {
    "duration": 25,
    "start_time": "2024-03-26T04:10:45.466Z"
   },
   {
    "duration": 28,
    "start_time": "2024-03-26T04:11:00.243Z"
   },
   {
    "duration": 221,
    "start_time": "2024-03-26T04:11:30.180Z"
   },
   {
    "duration": 216,
    "start_time": "2024-03-26T04:11:52.653Z"
   },
   {
    "duration": 203,
    "start_time": "2024-03-26T04:12:13.831Z"
   },
   {
    "duration": 19,
    "start_time": "2024-03-26T04:12:23.419Z"
   },
   {
    "duration": 7,
    "start_time": "2024-03-26T04:18:26.789Z"
   },
   {
    "duration": 7,
    "start_time": "2024-03-26T04:18:43.575Z"
   },
   {
    "duration": 63,
    "start_time": "2024-03-26T04:18:50.962Z"
   },
   {
    "duration": 5,
    "start_time": "2024-03-26T04:18:51.027Z"
   },
   {
    "duration": 23,
    "start_time": "2024-03-26T04:18:51.033Z"
   },
   {
    "duration": 27,
    "start_time": "2024-03-26T04:18:51.058Z"
   },
   {
    "duration": 8,
    "start_time": "2024-03-26T04:18:51.086Z"
   },
   {
    "duration": 17,
    "start_time": "2024-03-26T04:18:51.096Z"
   },
   {
    "duration": 9,
    "start_time": "2024-03-26T04:18:51.115Z"
   },
   {
    "duration": 7,
    "start_time": "2024-03-26T04:18:51.125Z"
   },
   {
    "duration": 7,
    "start_time": "2024-03-26T04:18:51.133Z"
   },
   {
    "duration": 5,
    "start_time": "2024-03-26T04:18:51.143Z"
   },
   {
    "duration": 11,
    "start_time": "2024-03-26T04:18:51.149Z"
   },
   {
    "duration": 6,
    "start_time": "2024-03-26T04:18:51.162Z"
   },
   {
    "duration": 33,
    "start_time": "2024-03-26T04:18:51.169Z"
   },
   {
    "duration": 3,
    "start_time": "2024-03-26T04:18:51.204Z"
   },
   {
    "duration": 13,
    "start_time": "2024-03-26T04:18:51.208Z"
   },
   {
    "duration": 8,
    "start_time": "2024-03-26T04:18:51.223Z"
   },
   {
    "duration": 6,
    "start_time": "2024-03-26T04:18:51.232Z"
   },
   {
    "duration": 6,
    "start_time": "2024-03-26T04:18:51.239Z"
   },
   {
    "duration": 9,
    "start_time": "2024-03-26T04:18:51.246Z"
   },
   {
    "duration": 6,
    "start_time": "2024-03-26T04:18:51.256Z"
   },
   {
    "duration": 11,
    "start_time": "2024-03-26T04:18:51.263Z"
   },
   {
    "duration": 8,
    "start_time": "2024-03-26T04:18:51.276Z"
   },
   {
    "duration": 5,
    "start_time": "2024-03-26T04:18:51.301Z"
   },
   {
    "duration": 196,
    "start_time": "2024-03-26T04:18:51.307Z"
   },
   {
    "duration": 5,
    "start_time": "2024-03-26T04:18:51.504Z"
   },
   {
    "duration": 8,
    "start_time": "2024-03-26T04:18:51.511Z"
   },
   {
    "duration": 4,
    "start_time": "2024-03-26T04:18:51.521Z"
   },
   {
    "duration": 11,
    "start_time": "2024-03-26T04:18:51.528Z"
   },
   {
    "duration": 16,
    "start_time": "2024-03-26T04:18:51.541Z"
   },
   {
    "duration": 300,
    "start_time": "2024-03-26T04:18:51.558Z"
   },
   {
    "duration": 7,
    "start_time": "2024-03-26T04:18:51.860Z"
   },
   {
    "duration": 14,
    "start_time": "2024-03-26T04:18:51.868Z"
   },
   {
    "duration": 15,
    "start_time": "2024-03-26T04:18:51.883Z"
   },
   {
    "duration": 23,
    "start_time": "2024-03-26T04:18:51.899Z"
   },
   {
    "duration": 26,
    "start_time": "2024-03-26T04:18:51.923Z"
   },
   {
    "duration": 13,
    "start_time": "2024-03-26T04:18:51.951Z"
   },
   {
    "duration": 13,
    "start_time": "2024-03-26T04:18:51.966Z"
   },
   {
    "duration": 9,
    "start_time": "2024-03-26T04:18:51.980Z"
   },
   {
    "duration": 16,
    "start_time": "2024-03-26T04:18:51.990Z"
   },
   {
    "duration": 32,
    "start_time": "2024-03-26T04:18:52.008Z"
   },
   {
    "duration": 45,
    "start_time": "2024-03-26T04:18:52.042Z"
   },
   {
    "duration": 24,
    "start_time": "2024-03-26T04:18:52.088Z"
   },
   {
    "duration": 138,
    "start_time": "2024-03-26T04:18:52.114Z"
   },
   {
    "duration": 142,
    "start_time": "2024-03-26T04:18:52.254Z"
   },
   {
    "duration": 13,
    "start_time": "2024-03-26T04:18:52.401Z"
   },
   {
    "duration": 11,
    "start_time": "2024-03-26T04:18:52.415Z"
   },
   {
    "duration": 14,
    "start_time": "2024-03-26T04:18:52.428Z"
   },
   {
    "duration": 27,
    "start_time": "2024-03-26T04:18:52.443Z"
   },
   {
    "duration": 7,
    "start_time": "2024-03-26T04:18:52.471Z"
   },
   {
    "duration": 188,
    "start_time": "2024-03-26T04:27:34.065Z"
   },
   {
    "duration": 62,
    "start_time": "2024-03-26T04:27:45.922Z"
   },
   {
    "duration": 5,
    "start_time": "2024-03-26T04:27:45.985Z"
   },
   {
    "duration": 11,
    "start_time": "2024-03-26T04:27:45.991Z"
   },
   {
    "duration": 33,
    "start_time": "2024-03-26T04:27:46.003Z"
   },
   {
    "duration": 9,
    "start_time": "2024-03-26T04:27:46.037Z"
   },
   {
    "duration": 11,
    "start_time": "2024-03-26T04:27:46.047Z"
   },
   {
    "duration": 10,
    "start_time": "2024-03-26T04:27:46.059Z"
   },
   {
    "duration": 18,
    "start_time": "2024-03-26T04:27:46.071Z"
   },
   {
    "duration": 16,
    "start_time": "2024-03-26T04:27:46.091Z"
   },
   {
    "duration": 7,
    "start_time": "2024-03-26T04:27:46.109Z"
   },
   {
    "duration": 15,
    "start_time": "2024-03-26T04:27:46.117Z"
   },
   {
    "duration": 28,
    "start_time": "2024-03-26T04:27:46.133Z"
   },
   {
    "duration": 22,
    "start_time": "2024-03-26T04:27:46.162Z"
   },
   {
    "duration": 6,
    "start_time": "2024-03-26T04:27:46.185Z"
   },
   {
    "duration": 5,
    "start_time": "2024-03-26T04:27:46.193Z"
   },
   {
    "duration": 11,
    "start_time": "2024-03-26T04:27:46.199Z"
   },
   {
    "duration": 19,
    "start_time": "2024-03-26T04:27:46.212Z"
   },
   {
    "duration": 4,
    "start_time": "2024-03-26T04:27:46.232Z"
   },
   {
    "duration": 9,
    "start_time": "2024-03-26T04:27:46.237Z"
   },
   {
    "duration": 15,
    "start_time": "2024-03-26T04:27:46.247Z"
   },
   {
    "duration": 6,
    "start_time": "2024-03-26T04:27:46.263Z"
   },
   {
    "duration": 5,
    "start_time": "2024-03-26T04:27:46.271Z"
   },
   {
    "duration": 5,
    "start_time": "2024-03-26T04:27:46.277Z"
   },
   {
    "duration": 195,
    "start_time": "2024-03-26T04:27:46.284Z"
   },
   {
    "duration": 4,
    "start_time": "2024-03-26T04:27:46.481Z"
   },
   {
    "duration": 16,
    "start_time": "2024-03-26T04:27:46.487Z"
   },
   {
    "duration": 6,
    "start_time": "2024-03-26T04:27:46.505Z"
   },
   {
    "duration": 7,
    "start_time": "2024-03-26T04:27:46.514Z"
   },
   {
    "duration": 20,
    "start_time": "2024-03-26T04:27:46.523Z"
   },
   {
    "duration": 251,
    "start_time": "2024-03-26T04:27:46.544Z"
   },
   {
    "duration": 9,
    "start_time": "2024-03-26T04:27:46.796Z"
   },
   {
    "duration": 7,
    "start_time": "2024-03-26T04:27:46.807Z"
   },
   {
    "duration": 5,
    "start_time": "2024-03-26T04:27:46.815Z"
   },
   {
    "duration": 12,
    "start_time": "2024-03-26T04:27:46.821Z"
   },
   {
    "duration": 25,
    "start_time": "2024-03-26T04:27:46.834Z"
   },
   {
    "duration": 6,
    "start_time": "2024-03-26T04:27:46.860Z"
   },
   {
    "duration": 41,
    "start_time": "2024-03-26T04:27:46.867Z"
   },
   {
    "duration": 7,
    "start_time": "2024-03-26T04:27:46.909Z"
   },
   {
    "duration": 19,
    "start_time": "2024-03-26T04:27:46.917Z"
   },
   {
    "duration": 42,
    "start_time": "2024-03-26T04:27:46.938Z"
   },
   {
    "duration": 7,
    "start_time": "2024-03-26T04:27:46.982Z"
   },
   {
    "duration": 7,
    "start_time": "2024-03-26T04:27:46.990Z"
   },
   {
    "duration": 132,
    "start_time": "2024-03-26T04:27:46.998Z"
   },
   {
    "duration": 151,
    "start_time": "2024-03-26T04:27:47.131Z"
   },
   {
    "duration": 18,
    "start_time": "2024-03-26T04:27:47.283Z"
   },
   {
    "duration": 2,
    "start_time": "2024-03-26T04:27:47.303Z"
   },
   {
    "duration": 12,
    "start_time": "2024-03-26T04:27:47.306Z"
   },
   {
    "duration": 230,
    "start_time": "2024-03-26T04:27:47.320Z"
   },
   {
    "duration": 26,
    "start_time": "2024-03-26T04:28:33.313Z"
   },
   {
    "duration": 60,
    "start_time": "2024-03-26T04:39:07.402Z"
   },
   {
    "duration": 752,
    "start_time": "2024-03-26T04:39:39.715Z"
   },
   {
    "duration": 739,
    "start_time": "2024-03-26T04:40:09.850Z"
   },
   {
    "duration": 63,
    "start_time": "2024-03-26T04:42:05.284Z"
   },
   {
    "duration": 5,
    "start_time": "2024-03-26T04:42:05.349Z"
   },
   {
    "duration": 4,
    "start_time": "2024-03-26T04:42:05.356Z"
   },
   {
    "duration": 34,
    "start_time": "2024-03-26T04:42:05.362Z"
   },
   {
    "duration": 8,
    "start_time": "2024-03-26T04:42:05.397Z"
   },
   {
    "duration": 25,
    "start_time": "2024-03-26T04:42:05.406Z"
   },
   {
    "duration": 8,
    "start_time": "2024-03-26T04:42:05.432Z"
   },
   {
    "duration": 9,
    "start_time": "2024-03-26T04:42:05.442Z"
   },
   {
    "duration": 7,
    "start_time": "2024-03-26T04:42:05.453Z"
   },
   {
    "duration": 6,
    "start_time": "2024-03-26T04:42:05.463Z"
   },
   {
    "duration": 9,
    "start_time": "2024-03-26T04:42:05.470Z"
   },
   {
    "duration": 23,
    "start_time": "2024-03-26T04:42:05.481Z"
   },
   {
    "duration": 19,
    "start_time": "2024-03-26T04:42:05.506Z"
   },
   {
    "duration": 5,
    "start_time": "2024-03-26T04:42:05.526Z"
   },
   {
    "duration": 6,
    "start_time": "2024-03-26T04:42:05.532Z"
   },
   {
    "duration": 10,
    "start_time": "2024-03-26T04:42:05.540Z"
   },
   {
    "duration": 21,
    "start_time": "2024-03-26T04:42:05.552Z"
   },
   {
    "duration": 14,
    "start_time": "2024-03-26T04:42:05.575Z"
   },
   {
    "duration": 15,
    "start_time": "2024-03-26T04:42:05.590Z"
   },
   {
    "duration": 15,
    "start_time": "2024-03-26T04:42:05.607Z"
   },
   {
    "duration": 7,
    "start_time": "2024-03-26T04:42:05.623Z"
   },
   {
    "duration": 25,
    "start_time": "2024-03-26T04:42:05.632Z"
   },
   {
    "duration": 20,
    "start_time": "2024-03-26T04:42:05.658Z"
   },
   {
    "duration": 184,
    "start_time": "2024-03-26T04:42:05.679Z"
   },
   {
    "duration": 5,
    "start_time": "2024-03-26T04:42:05.864Z"
   },
   {
    "duration": 31,
    "start_time": "2024-03-26T04:42:05.870Z"
   },
   {
    "duration": 19,
    "start_time": "2024-03-26T04:42:05.902Z"
   },
   {
    "duration": 32,
    "start_time": "2024-03-26T04:42:05.924Z"
   },
   {
    "duration": 8,
    "start_time": "2024-03-26T04:42:05.958Z"
   },
   {
    "duration": 306,
    "start_time": "2024-03-26T04:42:05.967Z"
   },
   {
    "duration": 6,
    "start_time": "2024-03-26T04:42:06.274Z"
   },
   {
    "duration": 16,
    "start_time": "2024-03-26T04:42:06.281Z"
   },
   {
    "duration": 13,
    "start_time": "2024-03-26T04:42:06.298Z"
   },
   {
    "duration": 7,
    "start_time": "2024-03-26T04:42:06.312Z"
   },
   {
    "duration": 25,
    "start_time": "2024-03-26T04:42:06.320Z"
   },
   {
    "duration": 7,
    "start_time": "2024-03-26T04:42:06.346Z"
   },
   {
    "duration": 12,
    "start_time": "2024-03-26T04:42:06.354Z"
   },
   {
    "duration": 11,
    "start_time": "2024-03-26T04:42:06.367Z"
   },
   {
    "duration": 26,
    "start_time": "2024-03-26T04:42:06.379Z"
   },
   {
    "duration": 33,
    "start_time": "2024-03-26T04:42:06.407Z"
   },
   {
    "duration": 17,
    "start_time": "2024-03-26T04:42:06.441Z"
   },
   {
    "duration": 34,
    "start_time": "2024-03-26T04:42:06.459Z"
   },
   {
    "duration": 133,
    "start_time": "2024-03-26T04:42:06.494Z"
   },
   {
    "duration": 135,
    "start_time": "2024-03-26T04:42:06.628Z"
   },
   {
    "duration": 12,
    "start_time": "2024-03-26T04:42:06.765Z"
   },
   {
    "duration": 19,
    "start_time": "2024-03-26T04:42:06.779Z"
   },
   {
    "duration": 19,
    "start_time": "2024-03-26T04:42:06.799Z"
   },
   {
    "duration": 48,
    "start_time": "2024-03-26T04:42:06.820Z"
   },
   {
    "duration": 694,
    "start_time": "2024-03-26T04:42:06.869Z"
   },
   {
    "duration": 27,
    "start_time": "2024-03-26T04:42:46.317Z"
   },
   {
    "duration": 62,
    "start_time": "2024-03-26T04:43:32.456Z"
   },
   {
    "duration": 5,
    "start_time": "2024-03-26T04:43:32.519Z"
   },
   {
    "duration": 17,
    "start_time": "2024-03-26T04:43:32.525Z"
   },
   {
    "duration": 22,
    "start_time": "2024-03-26T04:43:32.543Z"
   },
   {
    "duration": 22,
    "start_time": "2024-03-26T04:43:32.566Z"
   },
   {
    "duration": 20,
    "start_time": "2024-03-26T04:43:32.590Z"
   },
   {
    "duration": 9,
    "start_time": "2024-03-26T04:43:32.612Z"
   },
   {
    "duration": 18,
    "start_time": "2024-03-26T04:43:32.622Z"
   },
   {
    "duration": 7,
    "start_time": "2024-03-26T04:43:32.642Z"
   },
   {
    "duration": 8,
    "start_time": "2024-03-26T04:43:32.652Z"
   },
   {
    "duration": 27,
    "start_time": "2024-03-26T04:43:32.661Z"
   },
   {
    "duration": 20,
    "start_time": "2024-03-26T04:43:32.690Z"
   },
   {
    "duration": 14,
    "start_time": "2024-03-26T04:43:32.712Z"
   },
   {
    "duration": 4,
    "start_time": "2024-03-26T04:43:32.728Z"
   },
   {
    "duration": 9,
    "start_time": "2024-03-26T04:43:32.733Z"
   },
   {
    "duration": 17,
    "start_time": "2024-03-26T04:43:32.744Z"
   },
   {
    "duration": 11,
    "start_time": "2024-03-26T04:43:32.762Z"
   },
   {
    "duration": 10,
    "start_time": "2024-03-26T04:43:32.774Z"
   },
   {
    "duration": 15,
    "start_time": "2024-03-26T04:43:32.785Z"
   },
   {
    "duration": 40,
    "start_time": "2024-03-26T04:43:32.802Z"
   },
   {
    "duration": 15,
    "start_time": "2024-03-26T04:43:32.843Z"
   },
   {
    "duration": 24,
    "start_time": "2024-03-26T04:43:32.859Z"
   },
   {
    "duration": 23,
    "start_time": "2024-03-26T04:43:32.884Z"
   },
   {
    "duration": 183,
    "start_time": "2024-03-26T04:43:32.909Z"
   },
   {
    "duration": 8,
    "start_time": "2024-03-26T04:43:33.094Z"
   },
   {
    "duration": 10,
    "start_time": "2024-03-26T04:43:33.103Z"
   },
   {
    "duration": 12,
    "start_time": "2024-03-26T04:43:33.115Z"
   },
   {
    "duration": 4,
    "start_time": "2024-03-26T04:43:33.130Z"
   },
   {
    "duration": 5,
    "start_time": "2024-03-26T04:43:33.135Z"
   },
   {
    "duration": 255,
    "start_time": "2024-03-26T04:43:33.141Z"
   },
   {
    "duration": 9,
    "start_time": "2024-03-26T04:43:33.397Z"
   },
   {
    "duration": 14,
    "start_time": "2024-03-26T04:43:33.407Z"
   },
   {
    "duration": 6,
    "start_time": "2024-03-26T04:43:33.422Z"
   },
   {
    "duration": 7,
    "start_time": "2024-03-26T04:43:33.429Z"
   },
   {
    "duration": 25,
    "start_time": "2024-03-26T04:43:33.437Z"
   },
   {
    "duration": 6,
    "start_time": "2024-03-26T04:43:33.464Z"
   },
   {
    "duration": 33,
    "start_time": "2024-03-26T04:43:33.471Z"
   },
   {
    "duration": 7,
    "start_time": "2024-03-26T04:43:33.505Z"
   },
   {
    "duration": 9,
    "start_time": "2024-03-26T04:43:33.513Z"
   },
   {
    "duration": 24,
    "start_time": "2024-03-26T04:43:33.524Z"
   },
   {
    "duration": 7,
    "start_time": "2024-03-26T04:43:33.549Z"
   },
   {
    "duration": 6,
    "start_time": "2024-03-26T04:43:33.557Z"
   },
   {
    "duration": 150,
    "start_time": "2024-03-26T04:43:33.565Z"
   },
   {
    "duration": 139,
    "start_time": "2024-03-26T04:43:33.717Z"
   },
   {
    "duration": 14,
    "start_time": "2024-03-26T04:43:33.857Z"
   },
   {
    "duration": 6,
    "start_time": "2024-03-26T04:43:33.872Z"
   },
   {
    "duration": 23,
    "start_time": "2024-03-26T04:43:33.879Z"
   },
   {
    "duration": 26,
    "start_time": "2024-03-26T04:43:33.903Z"
   },
   {
    "duration": 699,
    "start_time": "2024-03-26T04:43:33.930Z"
   },
   {
    "duration": 244,
    "start_time": "2024-03-26T04:44:33.514Z"
   },
   {
    "duration": 23,
    "start_time": "2024-03-26T04:44:54.647Z"
   },
   {
    "duration": 28,
    "start_time": "2024-03-26T04:45:28.995Z"
   },
   {
    "duration": 84,
    "start_time": "2024-03-26T04:51:20.631Z"
   },
   {
    "duration": 29,
    "start_time": "2024-03-26T04:51:40.417Z"
   },
   {
    "duration": 58,
    "start_time": "2024-03-26T04:54:19.716Z"
   },
   {
    "duration": 223,
    "start_time": "2024-03-26T04:54:33.361Z"
   },
   {
    "duration": 207,
    "start_time": "2024-03-26T04:54:55.135Z"
   },
   {
    "duration": 217,
    "start_time": "2024-03-26T04:55:11.830Z"
   },
   {
    "duration": 64,
    "start_time": "2024-03-26T05:23:05.179Z"
   },
   {
    "duration": 5,
    "start_time": "2024-03-26T05:23:05.244Z"
   },
   {
    "duration": 18,
    "start_time": "2024-03-26T05:23:05.250Z"
   },
   {
    "duration": 25,
    "start_time": "2024-03-26T05:23:05.269Z"
   },
   {
    "duration": 29,
    "start_time": "2024-03-26T05:23:05.295Z"
   },
   {
    "duration": 16,
    "start_time": "2024-03-26T05:23:05.326Z"
   },
   {
    "duration": 15,
    "start_time": "2024-03-26T05:23:05.343Z"
   },
   {
    "duration": 8,
    "start_time": "2024-03-26T05:23:05.359Z"
   },
   {
    "duration": 6,
    "start_time": "2024-03-26T05:23:05.369Z"
   },
   {
    "duration": 6,
    "start_time": "2024-03-26T05:23:05.377Z"
   },
   {
    "duration": 24,
    "start_time": "2024-03-26T05:23:05.384Z"
   },
   {
    "duration": 14,
    "start_time": "2024-03-26T05:23:05.409Z"
   },
   {
    "duration": 17,
    "start_time": "2024-03-26T05:23:05.424Z"
   },
   {
    "duration": 10,
    "start_time": "2024-03-26T05:23:05.442Z"
   },
   {
    "duration": 6,
    "start_time": "2024-03-26T05:23:05.453Z"
   },
   {
    "duration": 8,
    "start_time": "2024-03-26T05:23:05.461Z"
   },
   {
    "duration": 24,
    "start_time": "2024-03-26T05:23:05.470Z"
   },
   {
    "duration": 14,
    "start_time": "2024-03-26T05:23:05.496Z"
   },
   {
    "duration": 18,
    "start_time": "2024-03-26T05:23:05.512Z"
   },
   {
    "duration": 5,
    "start_time": "2024-03-26T05:23:05.532Z"
   },
   {
    "duration": 6,
    "start_time": "2024-03-26T05:23:05.538Z"
   },
   {
    "duration": 18,
    "start_time": "2024-03-26T05:23:05.545Z"
   },
   {
    "duration": 11,
    "start_time": "2024-03-26T05:23:05.564Z"
   },
   {
    "duration": 179,
    "start_time": "2024-03-26T05:23:05.576Z"
   },
   {
    "duration": 5,
    "start_time": "2024-03-26T05:23:05.756Z"
   },
   {
    "duration": 32,
    "start_time": "2024-03-26T05:23:05.762Z"
   },
   {
    "duration": 9,
    "start_time": "2024-03-26T05:23:05.796Z"
   },
   {
    "duration": 5,
    "start_time": "2024-03-26T05:23:05.809Z"
   },
   {
    "duration": 10,
    "start_time": "2024-03-26T05:23:05.815Z"
   },
   {
    "duration": 242,
    "start_time": "2024-03-26T05:23:05.826Z"
   },
   {
    "duration": 8,
    "start_time": "2024-03-26T05:23:06.070Z"
   },
   {
    "duration": 36,
    "start_time": "2024-03-26T05:23:06.080Z"
   },
   {
    "duration": 24,
    "start_time": "2024-03-26T05:23:06.118Z"
   },
   {
    "duration": 17,
    "start_time": "2024-03-26T05:23:06.143Z"
   },
   {
    "duration": 54,
    "start_time": "2024-03-26T05:23:06.161Z"
   },
   {
    "duration": 9,
    "start_time": "2024-03-26T05:23:06.216Z"
   },
   {
    "duration": 18,
    "start_time": "2024-03-26T05:23:06.226Z"
   },
   {
    "duration": 8,
    "start_time": "2024-03-26T05:23:06.246Z"
   },
   {
    "duration": 12,
    "start_time": "2024-03-26T05:23:06.255Z"
   },
   {
    "duration": 111,
    "start_time": "2024-03-26T05:23:06.269Z"
   },
   {
    "duration": 7,
    "start_time": "2024-03-26T05:23:06.382Z"
   },
   {
    "duration": 7,
    "start_time": "2024-03-26T05:23:06.401Z"
   },
   {
    "duration": 142,
    "start_time": "2024-03-26T05:23:06.410Z"
   },
   {
    "duration": 154,
    "start_time": "2024-03-26T05:23:06.553Z"
   },
   {
    "duration": 13,
    "start_time": "2024-03-26T05:23:06.709Z"
   },
   {
    "duration": 27,
    "start_time": "2024-03-26T05:23:06.723Z"
   },
   {
    "duration": 13,
    "start_time": "2024-03-26T05:23:06.751Z"
   },
   {
    "duration": 51,
    "start_time": "2024-03-26T05:23:06.766Z"
   },
   {
    "duration": 7,
    "start_time": "2024-03-26T05:23:06.818Z"
   },
   {
    "duration": 0,
    "start_time": "2024-03-26T05:23:06.826Z"
   },
   {
    "duration": 43,
    "start_time": "2024-03-26T05:28:12.056Z"
   },
   {
    "duration": 25,
    "start_time": "2024-03-26T05:30:29.661Z"
   },
   {
    "duration": 67,
    "start_time": "2024-03-26T05:32:04.737Z"
   },
   {
    "duration": 102,
    "start_time": "2024-03-26T06:10:33.185Z"
   },
   {
    "duration": 65,
    "start_time": "2024-03-26T06:10:41.953Z"
   },
   {
    "duration": 53,
    "start_time": "2024-03-26T06:11:19.339Z"
   },
   {
    "duration": 21,
    "start_time": "2024-03-26T06:11:27.171Z"
   },
   {
    "duration": 30,
    "start_time": "2024-03-26T06:12:30.440Z"
   },
   {
    "duration": 23,
    "start_time": "2024-03-26T06:13:06.731Z"
   },
   {
    "duration": 35,
    "start_time": "2024-03-26T06:15:25.986Z"
   },
   {
    "duration": 25,
    "start_time": "2024-03-26T06:15:58.532Z"
   },
   {
    "duration": 33,
    "start_time": "2024-03-26T06:16:03.040Z"
   },
   {
    "duration": 26,
    "start_time": "2024-03-26T06:17:02.216Z"
   },
   {
    "duration": 25,
    "start_time": "2024-03-26T06:17:51.010Z"
   },
   {
    "duration": 29,
    "start_time": "2024-03-26T06:18:24.441Z"
   },
   {
    "duration": 38,
    "start_time": "2024-03-26T06:31:10.282Z"
   },
   {
    "duration": 19,
    "start_time": "2024-03-26T06:33:49.567Z"
   },
   {
    "duration": 36,
    "start_time": "2024-03-26T06:34:01.494Z"
   },
   {
    "duration": 24,
    "start_time": "2024-03-26T06:43:27.645Z"
   },
   {
    "duration": 21,
    "start_time": "2024-03-26T06:43:52.463Z"
   },
   {
    "duration": 29,
    "start_time": "2024-03-26T06:44:01.640Z"
   },
   {
    "duration": 10,
    "start_time": "2024-03-26T06:47:49.810Z"
   },
   {
    "duration": 63,
    "start_time": "2024-03-26T06:48:21.433Z"
   },
   {
    "duration": 5,
    "start_time": "2024-03-26T06:48:21.497Z"
   },
   {
    "duration": 7,
    "start_time": "2024-03-26T06:48:21.503Z"
   },
   {
    "duration": 8,
    "start_time": "2024-03-26T06:48:21.512Z"
   },
   {
    "duration": 10,
    "start_time": "2024-03-26T06:48:21.522Z"
   },
   {
    "duration": 15,
    "start_time": "2024-03-26T06:48:21.533Z"
   },
   {
    "duration": 8,
    "start_time": "2024-03-26T06:48:21.549Z"
   },
   {
    "duration": 9,
    "start_time": "2024-03-26T06:48:21.558Z"
   },
   {
    "duration": 6,
    "start_time": "2024-03-26T06:48:21.568Z"
   },
   {
    "duration": 28,
    "start_time": "2024-03-26T06:48:21.576Z"
   },
   {
    "duration": 12,
    "start_time": "2024-03-26T06:48:21.605Z"
   },
   {
    "duration": 6,
    "start_time": "2024-03-26T06:48:21.618Z"
   },
   {
    "duration": 13,
    "start_time": "2024-03-26T06:48:21.625Z"
   },
   {
    "duration": 3,
    "start_time": "2024-03-26T06:48:21.639Z"
   },
   {
    "duration": 24,
    "start_time": "2024-03-26T06:48:21.643Z"
   },
   {
    "duration": 54,
    "start_time": "2024-03-26T06:48:21.668Z"
   },
   {
    "duration": 15,
    "start_time": "2024-03-26T06:48:21.723Z"
   },
   {
    "duration": 6,
    "start_time": "2024-03-26T06:48:21.739Z"
   },
   {
    "duration": 6,
    "start_time": "2024-03-26T06:48:21.747Z"
   },
   {
    "duration": 5,
    "start_time": "2024-03-26T06:48:21.754Z"
   },
   {
    "duration": 9,
    "start_time": "2024-03-26T06:48:21.761Z"
   },
   {
    "duration": 19,
    "start_time": "2024-03-26T06:48:21.771Z"
   },
   {
    "duration": 5,
    "start_time": "2024-03-26T06:48:21.791Z"
   },
   {
    "duration": 202,
    "start_time": "2024-03-26T06:48:21.797Z"
   },
   {
    "duration": 5,
    "start_time": "2024-03-26T06:48:22.000Z"
   },
   {
    "duration": 10,
    "start_time": "2024-03-26T06:48:22.007Z"
   },
   {
    "duration": 7,
    "start_time": "2024-03-26T06:48:22.018Z"
   },
   {
    "duration": 14,
    "start_time": "2024-03-26T06:48:22.026Z"
   },
   {
    "duration": 4,
    "start_time": "2024-03-26T06:48:22.042Z"
   },
   {
    "duration": 262,
    "start_time": "2024-03-26T06:48:22.047Z"
   },
   {
    "duration": 7,
    "start_time": "2024-03-26T06:48:22.311Z"
   },
   {
    "duration": 14,
    "start_time": "2024-03-26T06:48:22.319Z"
   },
   {
    "duration": 15,
    "start_time": "2024-03-26T06:48:22.334Z"
   },
   {
    "duration": 18,
    "start_time": "2024-03-26T06:48:22.350Z"
   },
   {
    "duration": 31,
    "start_time": "2024-03-26T06:48:22.370Z"
   },
   {
    "duration": 8,
    "start_time": "2024-03-26T06:48:22.402Z"
   },
   {
    "duration": 40,
    "start_time": "2024-03-26T06:48:22.412Z"
   },
   {
    "duration": 30,
    "start_time": "2024-03-26T06:48:22.453Z"
   },
   {
    "duration": 11,
    "start_time": "2024-03-26T06:48:22.484Z"
   },
   {
    "duration": 21,
    "start_time": "2024-03-26T06:48:22.496Z"
   },
   {
    "duration": 14,
    "start_time": "2024-03-26T06:48:22.519Z"
   },
   {
    "duration": 11,
    "start_time": "2024-03-26T06:48:22.536Z"
   },
   {
    "duration": 158,
    "start_time": "2024-03-26T06:48:22.549Z"
   },
   {
    "duration": 138,
    "start_time": "2024-03-26T06:48:22.709Z"
   },
   {
    "duration": 14,
    "start_time": "2024-03-26T06:48:22.849Z"
   },
   {
    "duration": 3,
    "start_time": "2024-03-26T06:48:22.864Z"
   },
   {
    "duration": 13,
    "start_time": "2024-03-26T06:48:22.869Z"
   },
   {
    "duration": 27,
    "start_time": "2024-03-26T06:48:22.884Z"
   },
   {
    "duration": 0,
    "start_time": "2024-03-26T06:48:22.912Z"
   },
   {
    "duration": 11,
    "start_time": "2024-03-26T06:48:37.641Z"
   },
   {
    "duration": 11,
    "start_time": "2024-03-26T06:49:37.197Z"
   },
   {
    "duration": 196,
    "start_time": "2024-03-26T06:50:08.159Z"
   },
   {
    "duration": 65,
    "start_time": "2024-03-26T06:50:17.689Z"
   },
   {
    "duration": 4,
    "start_time": "2024-03-26T06:50:17.756Z"
   },
   {
    "duration": 13,
    "start_time": "2024-03-26T06:50:17.761Z"
   },
   {
    "duration": 14,
    "start_time": "2024-03-26T06:50:17.776Z"
   },
   {
    "duration": 23,
    "start_time": "2024-03-26T06:50:17.791Z"
   },
   {
    "duration": 19,
    "start_time": "2024-03-26T06:50:17.815Z"
   },
   {
    "duration": 8,
    "start_time": "2024-03-26T06:50:17.835Z"
   },
   {
    "duration": 14,
    "start_time": "2024-03-26T06:50:17.844Z"
   },
   {
    "duration": 7,
    "start_time": "2024-03-26T06:50:17.859Z"
   },
   {
    "duration": 6,
    "start_time": "2024-03-26T06:50:17.868Z"
   },
   {
    "duration": 9,
    "start_time": "2024-03-26T06:50:17.875Z"
   },
   {
    "duration": 16,
    "start_time": "2024-03-26T06:50:17.885Z"
   },
   {
    "duration": 18,
    "start_time": "2024-03-26T06:50:17.902Z"
   },
   {
    "duration": 3,
    "start_time": "2024-03-26T06:50:17.922Z"
   },
   {
    "duration": 10,
    "start_time": "2024-03-26T06:50:17.926Z"
   },
   {
    "duration": 15,
    "start_time": "2024-03-26T06:50:17.937Z"
   },
   {
    "duration": 10,
    "start_time": "2024-03-26T06:50:17.953Z"
   },
   {
    "duration": 14,
    "start_time": "2024-03-26T06:50:17.964Z"
   },
   {
    "duration": 21,
    "start_time": "2024-03-26T06:50:17.979Z"
   },
   {
    "duration": 5,
    "start_time": "2024-03-26T06:50:18.001Z"
   },
   {
    "duration": 14,
    "start_time": "2024-03-26T06:50:18.007Z"
   },
   {
    "duration": 10,
    "start_time": "2024-03-26T06:50:18.022Z"
   },
   {
    "duration": 4,
    "start_time": "2024-03-26T06:50:18.033Z"
   },
   {
    "duration": 193,
    "start_time": "2024-03-26T06:50:18.038Z"
   },
   {
    "duration": 6,
    "start_time": "2024-03-26T06:50:18.232Z"
   },
   {
    "duration": 33,
    "start_time": "2024-03-26T06:50:18.242Z"
   },
   {
    "duration": 23,
    "start_time": "2024-03-26T06:50:18.277Z"
   },
   {
    "duration": 8,
    "start_time": "2024-03-26T06:50:18.301Z"
   },
   {
    "duration": 5,
    "start_time": "2024-03-26T06:50:18.311Z"
   },
   {
    "duration": 246,
    "start_time": "2024-03-26T06:50:18.318Z"
   },
   {
    "duration": 7,
    "start_time": "2024-03-26T06:50:18.565Z"
   },
   {
    "duration": 23,
    "start_time": "2024-03-26T06:50:18.573Z"
   },
   {
    "duration": 45,
    "start_time": "2024-03-26T06:50:18.598Z"
   },
   {
    "duration": 26,
    "start_time": "2024-03-26T06:50:18.644Z"
   },
   {
    "duration": 33,
    "start_time": "2024-03-26T06:50:18.672Z"
   },
   {
    "duration": 7,
    "start_time": "2024-03-26T06:50:18.707Z"
   },
   {
    "duration": 24,
    "start_time": "2024-03-26T06:50:18.715Z"
   },
   {
    "duration": 7,
    "start_time": "2024-03-26T06:50:18.740Z"
   },
   {
    "duration": 25,
    "start_time": "2024-03-26T06:50:18.749Z"
   },
   {
    "duration": 97,
    "start_time": "2024-03-26T06:50:18.775Z"
   },
   {
    "duration": 7,
    "start_time": "2024-03-26T06:50:18.873Z"
   },
   {
    "duration": 18,
    "start_time": "2024-03-26T06:50:18.881Z"
   },
   {
    "duration": 134,
    "start_time": "2024-03-26T06:50:18.901Z"
   },
   {
    "duration": 144,
    "start_time": "2024-03-26T06:50:19.037Z"
   },
   {
    "duration": 14,
    "start_time": "2024-03-26T06:50:19.182Z"
   },
   {
    "duration": 10,
    "start_time": "2024-03-26T06:50:19.197Z"
   },
   {
    "duration": 28,
    "start_time": "2024-03-26T06:50:19.208Z"
   },
   {
    "duration": 218,
    "start_time": "2024-03-26T06:50:19.238Z"
   },
   {
    "duration": 0,
    "start_time": "2024-03-26T06:50:19.457Z"
   },
   {
    "duration": 199,
    "start_time": "2024-03-26T06:52:05.387Z"
   },
   {
    "duration": 194,
    "start_time": "2024-03-26T06:55:18.673Z"
   },
   {
    "duration": 199,
    "start_time": "2024-03-26T06:55:42.394Z"
   },
   {
    "duration": 210,
    "start_time": "2024-03-26T06:56:09.079Z"
   },
   {
    "duration": 196,
    "start_time": "2024-03-26T07:00:09.840Z"
   },
   {
    "duration": 206,
    "start_time": "2024-03-26T07:05:52.670Z"
   },
   {
    "duration": 244,
    "start_time": "2024-03-26T07:07:15.873Z"
   },
   {
    "duration": 227,
    "start_time": "2024-03-26T07:08:09.172Z"
   },
   {
    "duration": 224,
    "start_time": "2024-03-26T09:46:31.642Z"
   },
   {
    "duration": 231,
    "start_time": "2024-03-26T09:50:44.931Z"
   },
   {
    "duration": 65,
    "start_time": "2024-03-26T09:52:28.363Z"
   },
   {
    "duration": 5,
    "start_time": "2024-03-26T09:52:28.430Z"
   },
   {
    "duration": 12,
    "start_time": "2024-03-26T09:52:28.437Z"
   },
   {
    "duration": 8,
    "start_time": "2024-03-26T09:52:28.451Z"
   },
   {
    "duration": 7,
    "start_time": "2024-03-26T09:52:28.460Z"
   },
   {
    "duration": 9,
    "start_time": "2024-03-26T09:52:28.468Z"
   },
   {
    "duration": 8,
    "start_time": "2024-03-26T09:52:28.478Z"
   },
   {
    "duration": 19,
    "start_time": "2024-03-26T09:52:28.487Z"
   },
   {
    "duration": 17,
    "start_time": "2024-03-26T09:52:28.507Z"
   },
   {
    "duration": 5,
    "start_time": "2024-03-26T09:52:28.526Z"
   },
   {
    "duration": 12,
    "start_time": "2024-03-26T09:52:28.533Z"
   },
   {
    "duration": 4,
    "start_time": "2024-03-26T09:52:28.546Z"
   },
   {
    "duration": 11,
    "start_time": "2024-03-26T09:52:28.552Z"
   },
   {
    "duration": 3,
    "start_time": "2024-03-26T09:52:28.564Z"
   },
   {
    "duration": 33,
    "start_time": "2024-03-26T09:52:28.568Z"
   },
   {
    "duration": 5,
    "start_time": "2024-03-26T09:52:28.603Z"
   },
   {
    "duration": 10,
    "start_time": "2024-03-26T09:52:28.609Z"
   },
   {
    "duration": 5,
    "start_time": "2024-03-26T09:52:28.621Z"
   },
   {
    "duration": 6,
    "start_time": "2024-03-26T09:52:28.628Z"
   },
   {
    "duration": 6,
    "start_time": "2024-03-26T09:52:28.635Z"
   },
   {
    "duration": 4,
    "start_time": "2024-03-26T09:52:28.642Z"
   },
   {
    "duration": 9,
    "start_time": "2024-03-26T09:52:28.647Z"
   },
   {
    "duration": 4,
    "start_time": "2024-03-26T09:52:28.657Z"
   },
   {
    "duration": 217,
    "start_time": "2024-03-26T09:52:28.662Z"
   },
   {
    "duration": 5,
    "start_time": "2024-03-26T09:52:28.882Z"
   },
   {
    "duration": 15,
    "start_time": "2024-03-26T09:52:28.888Z"
   },
   {
    "duration": 3,
    "start_time": "2024-03-26T09:52:28.904Z"
   },
   {
    "duration": 5,
    "start_time": "2024-03-26T09:52:28.908Z"
   },
   {
    "duration": 4,
    "start_time": "2024-03-26T09:52:28.914Z"
   },
   {
    "duration": 253,
    "start_time": "2024-03-26T09:52:28.919Z"
   },
   {
    "duration": 6,
    "start_time": "2024-03-26T09:52:29.174Z"
   },
   {
    "duration": 10,
    "start_time": "2024-03-26T09:52:29.181Z"
   },
   {
    "duration": 13,
    "start_time": "2024-03-26T09:52:29.193Z"
   },
   {
    "duration": 14,
    "start_time": "2024-03-26T09:52:29.208Z"
   },
   {
    "duration": 25,
    "start_time": "2024-03-26T09:52:29.223Z"
   },
   {
    "duration": 6,
    "start_time": "2024-03-26T09:52:29.249Z"
   },
   {
    "duration": 11,
    "start_time": "2024-03-26T09:52:29.256Z"
   },
   {
    "duration": 6,
    "start_time": "2024-03-26T09:52:29.268Z"
   },
   {
    "duration": 29,
    "start_time": "2024-03-26T09:52:29.275Z"
   },
   {
    "duration": 14,
    "start_time": "2024-03-26T09:52:29.306Z"
   },
   {
    "duration": 5,
    "start_time": "2024-03-26T09:52:29.322Z"
   },
   {
    "duration": 7,
    "start_time": "2024-03-26T09:52:29.328Z"
   },
   {
    "duration": 150,
    "start_time": "2024-03-26T09:52:29.336Z"
   },
   {
    "duration": 148,
    "start_time": "2024-03-26T09:52:29.488Z"
   },
   {
    "duration": 15,
    "start_time": "2024-03-26T09:52:29.638Z"
   },
   {
    "duration": 10,
    "start_time": "2024-03-26T09:52:29.654Z"
   },
   {
    "duration": 11,
    "start_time": "2024-03-26T09:52:29.665Z"
   },
   {
    "duration": 201,
    "start_time": "2024-03-26T09:52:29.677Z"
   },
   {
    "duration": 215,
    "start_time": "2024-03-26T09:56:43.597Z"
   },
   {
    "duration": 61,
    "start_time": "2024-03-26T09:57:19.785Z"
   },
   {
    "duration": 5,
    "start_time": "2024-03-26T09:57:19.847Z"
   },
   {
    "duration": 10,
    "start_time": "2024-03-26T09:57:19.853Z"
   },
   {
    "duration": 23,
    "start_time": "2024-03-26T09:57:19.864Z"
   },
   {
    "duration": 12,
    "start_time": "2024-03-26T09:57:19.888Z"
   },
   {
    "duration": 17,
    "start_time": "2024-03-26T09:57:19.901Z"
   },
   {
    "duration": 7,
    "start_time": "2024-03-26T09:57:19.919Z"
   },
   {
    "duration": 14,
    "start_time": "2024-03-26T09:57:19.927Z"
   },
   {
    "duration": 6,
    "start_time": "2024-03-26T09:57:19.943Z"
   },
   {
    "duration": 6,
    "start_time": "2024-03-26T09:57:19.951Z"
   },
   {
    "duration": 12,
    "start_time": "2024-03-26T09:57:19.958Z"
   },
   {
    "duration": 24,
    "start_time": "2024-03-26T09:57:19.972Z"
   },
   {
    "duration": 51,
    "start_time": "2024-03-26T09:57:19.997Z"
   },
   {
    "duration": 8,
    "start_time": "2024-03-26T09:57:20.049Z"
   },
   {
    "duration": 11,
    "start_time": "2024-03-26T09:57:20.058Z"
   },
   {
    "duration": 11,
    "start_time": "2024-03-26T09:57:20.070Z"
   },
   {
    "duration": 5,
    "start_time": "2024-03-26T09:57:20.083Z"
   },
   {
    "duration": 4,
    "start_time": "2024-03-26T09:57:20.090Z"
   },
   {
    "duration": 5,
    "start_time": "2024-03-26T09:57:20.095Z"
   },
   {
    "duration": 4,
    "start_time": "2024-03-26T09:57:20.101Z"
   },
   {
    "duration": 4,
    "start_time": "2024-03-26T09:57:20.106Z"
   },
   {
    "duration": 6,
    "start_time": "2024-03-26T09:57:20.111Z"
   },
   {
    "duration": 4,
    "start_time": "2024-03-26T09:57:20.119Z"
   },
   {
    "duration": 214,
    "start_time": "2024-03-26T09:57:20.124Z"
   },
   {
    "duration": 12,
    "start_time": "2024-03-26T09:57:20.339Z"
   },
   {
    "duration": 13,
    "start_time": "2024-03-26T09:57:20.352Z"
   },
   {
    "duration": 9,
    "start_time": "2024-03-26T09:57:20.369Z"
   },
   {
    "duration": 11,
    "start_time": "2024-03-26T09:57:20.380Z"
   },
   {
    "duration": 9,
    "start_time": "2024-03-26T09:57:20.393Z"
   },
   {
    "duration": 238,
    "start_time": "2024-03-26T09:57:20.404Z"
   },
   {
    "duration": 7,
    "start_time": "2024-03-26T09:57:20.643Z"
   },
   {
    "duration": 38,
    "start_time": "2024-03-26T09:57:20.651Z"
   },
   {
    "duration": 42,
    "start_time": "2024-03-26T09:57:20.690Z"
   },
   {
    "duration": 16,
    "start_time": "2024-03-26T09:57:20.733Z"
   },
   {
    "duration": 53,
    "start_time": "2024-03-26T09:57:20.750Z"
   },
   {
    "duration": 6,
    "start_time": "2024-03-26T09:57:20.805Z"
   },
   {
    "duration": 31,
    "start_time": "2024-03-26T09:57:20.812Z"
   },
   {
    "duration": 15,
    "start_time": "2024-03-26T09:57:20.844Z"
   },
   {
    "duration": 11,
    "start_time": "2024-03-26T09:57:20.860Z"
   },
   {
    "duration": 36,
    "start_time": "2024-03-26T09:57:20.873Z"
   },
   {
    "duration": 6,
    "start_time": "2024-03-26T09:57:20.910Z"
   },
   {
    "duration": 11,
    "start_time": "2024-03-26T09:57:20.917Z"
   },
   {
    "duration": 138,
    "start_time": "2024-03-26T09:57:20.930Z"
   },
   {
    "duration": 222,
    "start_time": "2024-03-26T09:57:21.069Z"
   },
   {
    "duration": 14,
    "start_time": "2024-03-26T09:57:21.292Z"
   },
   {
    "duration": 44,
    "start_time": "2024-03-26T09:57:21.308Z"
   },
   {
    "duration": 26,
    "start_time": "2024-03-26T09:57:21.354Z"
   },
   {
    "duration": 220,
    "start_time": "2024-03-26T09:57:21.381Z"
   },
   {
    "duration": 78,
    "start_time": "2024-03-26T10:02:57.323Z"
   },
   {
    "duration": 63,
    "start_time": "2024-03-26T10:03:09.164Z"
   },
   {
    "duration": 64,
    "start_time": "2024-03-26T10:03:38.305Z"
   },
   {
    "duration": 5,
    "start_time": "2024-03-26T10:03:38.371Z"
   },
   {
    "duration": 13,
    "start_time": "2024-03-26T10:03:38.378Z"
   },
   {
    "duration": 33,
    "start_time": "2024-03-26T10:03:38.393Z"
   },
   {
    "duration": 22,
    "start_time": "2024-03-26T10:03:38.427Z"
   },
   {
    "duration": 31,
    "start_time": "2024-03-26T10:03:38.450Z"
   },
   {
    "duration": 11,
    "start_time": "2024-03-26T10:03:38.482Z"
   },
   {
    "duration": 8,
    "start_time": "2024-03-26T10:03:38.494Z"
   },
   {
    "duration": 8,
    "start_time": "2024-03-26T10:03:38.503Z"
   },
   {
    "duration": 10,
    "start_time": "2024-03-26T10:03:38.513Z"
   },
   {
    "duration": 24,
    "start_time": "2024-03-26T10:03:38.524Z"
   },
   {
    "duration": 20,
    "start_time": "2024-03-26T10:03:38.549Z"
   },
   {
    "duration": 24,
    "start_time": "2024-03-26T10:03:38.570Z"
   },
   {
    "duration": 27,
    "start_time": "2024-03-26T10:03:38.595Z"
   },
   {
    "duration": 37,
    "start_time": "2024-03-26T10:03:38.623Z"
   },
   {
    "duration": 12,
    "start_time": "2024-03-26T10:03:38.662Z"
   },
   {
    "duration": 10,
    "start_time": "2024-03-26T10:03:38.675Z"
   },
   {
    "duration": 15,
    "start_time": "2024-03-26T10:03:38.686Z"
   },
   {
    "duration": 18,
    "start_time": "2024-03-26T10:03:38.702Z"
   },
   {
    "duration": 8,
    "start_time": "2024-03-26T10:03:38.721Z"
   },
   {
    "duration": 5,
    "start_time": "2024-03-26T10:03:38.730Z"
   },
   {
    "duration": 14,
    "start_time": "2024-03-26T10:03:38.736Z"
   },
   {
    "duration": 19,
    "start_time": "2024-03-26T10:03:38.751Z"
   },
   {
    "duration": 170,
    "start_time": "2024-03-26T10:03:38.772Z"
   },
   {
    "duration": 4,
    "start_time": "2024-03-26T10:03:38.944Z"
   },
   {
    "duration": 20,
    "start_time": "2024-03-26T10:03:38.950Z"
   },
   {
    "duration": 8,
    "start_time": "2024-03-26T10:03:38.971Z"
   },
   {
    "duration": 22,
    "start_time": "2024-03-26T10:03:38.982Z"
   },
   {
    "duration": 13,
    "start_time": "2024-03-26T10:03:39.006Z"
   },
   {
    "duration": 317,
    "start_time": "2024-03-26T10:03:39.020Z"
   },
   {
    "duration": 6,
    "start_time": "2024-03-26T10:03:39.338Z"
   },
   {
    "duration": 16,
    "start_time": "2024-03-26T10:03:39.345Z"
   },
   {
    "duration": 20,
    "start_time": "2024-03-26T10:03:39.362Z"
   },
   {
    "duration": 15,
    "start_time": "2024-03-26T10:03:39.383Z"
   },
   {
    "duration": 26,
    "start_time": "2024-03-26T10:03:39.400Z"
   },
   {
    "duration": 5,
    "start_time": "2024-03-26T10:03:39.428Z"
   },
   {
    "duration": 12,
    "start_time": "2024-03-26T10:03:39.434Z"
   },
   {
    "duration": 6,
    "start_time": "2024-03-26T10:03:39.447Z"
   },
   {
    "duration": 5,
    "start_time": "2024-03-26T10:03:39.454Z"
   },
   {
    "duration": 15,
    "start_time": "2024-03-26T10:03:39.460Z"
   },
   {
    "duration": 29,
    "start_time": "2024-03-26T10:03:39.476Z"
   },
   {
    "duration": 20,
    "start_time": "2024-03-26T10:03:39.506Z"
   },
   {
    "duration": 132,
    "start_time": "2024-03-26T10:03:39.527Z"
   },
   {
    "duration": 131,
    "start_time": "2024-03-26T10:03:39.660Z"
   },
   {
    "duration": 14,
    "start_time": "2024-03-26T10:03:39.793Z"
   },
   {
    "duration": 12,
    "start_time": "2024-03-26T10:03:39.809Z"
   },
   {
    "duration": 12,
    "start_time": "2024-03-26T10:03:39.822Z"
   },
   {
    "duration": 69,
    "start_time": "2024-03-26T10:03:39.835Z"
   },
   {
    "duration": 63,
    "start_time": "2024-03-26T10:04:07.351Z"
   },
   {
    "duration": 79,
    "start_time": "2024-03-26T10:04:28.385Z"
   },
   {
    "duration": 59,
    "start_time": "2024-03-26T10:04:48.658Z"
   },
   {
    "duration": 65,
    "start_time": "2024-03-26T10:05:19.976Z"
   },
   {
    "duration": 71,
    "start_time": "2024-03-26T10:05:37.857Z"
   },
   {
    "duration": 71,
    "start_time": "2024-03-26T10:06:04.283Z"
   },
   {
    "duration": 69,
    "start_time": "2024-03-26T10:06:40.670Z"
   },
   {
    "duration": 59,
    "start_time": "2024-03-26T10:07:08.517Z"
   },
   {
    "duration": 741,
    "start_time": "2024-03-26T10:07:21.340Z"
   },
   {
    "duration": 3,
    "start_time": "2024-03-26T10:08:40.843Z"
   },
   {
    "duration": 870,
    "start_time": "2024-03-26T10:08:50.224Z"
   },
   {
    "duration": 809,
    "start_time": "2024-03-26T10:09:12.066Z"
   },
   {
    "duration": 61,
    "start_time": "2024-03-26T10:09:16.597Z"
   },
   {
    "duration": 5,
    "start_time": "2024-03-26T10:09:16.660Z"
   },
   {
    "duration": 14,
    "start_time": "2024-03-26T10:09:16.666Z"
   },
   {
    "duration": 13,
    "start_time": "2024-03-26T10:09:16.681Z"
   },
   {
    "duration": 21,
    "start_time": "2024-03-26T10:09:16.695Z"
   },
   {
    "duration": 21,
    "start_time": "2024-03-26T10:09:16.718Z"
   },
   {
    "duration": 11,
    "start_time": "2024-03-26T10:09:16.741Z"
   },
   {
    "duration": 10,
    "start_time": "2024-03-26T10:09:16.753Z"
   },
   {
    "duration": 40,
    "start_time": "2024-03-26T10:09:16.764Z"
   },
   {
    "duration": 11,
    "start_time": "2024-03-26T10:09:16.806Z"
   },
   {
    "duration": 22,
    "start_time": "2024-03-26T10:09:16.818Z"
   },
   {
    "duration": 11,
    "start_time": "2024-03-26T10:09:16.841Z"
   },
   {
    "duration": 30,
    "start_time": "2024-03-26T10:09:16.853Z"
   },
   {
    "duration": 14,
    "start_time": "2024-03-26T10:09:16.884Z"
   },
   {
    "duration": 22,
    "start_time": "2024-03-26T10:09:16.899Z"
   },
   {
    "duration": 15,
    "start_time": "2024-03-26T10:09:16.922Z"
   },
   {
    "duration": 17,
    "start_time": "2024-03-26T10:09:16.938Z"
   },
   {
    "duration": 10,
    "start_time": "2024-03-26T10:09:16.956Z"
   },
   {
    "duration": 13,
    "start_time": "2024-03-26T10:09:16.967Z"
   },
   {
    "duration": 27,
    "start_time": "2024-03-26T10:09:16.981Z"
   },
   {
    "duration": 11,
    "start_time": "2024-03-26T10:09:17.009Z"
   },
   {
    "duration": 14,
    "start_time": "2024-03-26T10:09:17.021Z"
   },
   {
    "duration": 12,
    "start_time": "2024-03-26T10:09:17.037Z"
   },
   {
    "duration": 199,
    "start_time": "2024-03-26T10:09:17.051Z"
   },
   {
    "duration": 6,
    "start_time": "2024-03-26T10:09:17.251Z"
   },
   {
    "duration": 11,
    "start_time": "2024-03-26T10:09:17.258Z"
   },
   {
    "duration": 16,
    "start_time": "2024-03-26T10:09:17.270Z"
   },
   {
    "duration": 4,
    "start_time": "2024-03-26T10:09:17.289Z"
   },
   {
    "duration": 21,
    "start_time": "2024-03-26T10:09:17.294Z"
   },
   {
    "duration": 243,
    "start_time": "2024-03-26T10:09:17.316Z"
   },
   {
    "duration": 7,
    "start_time": "2024-03-26T10:09:17.561Z"
   },
   {
    "duration": 14,
    "start_time": "2024-03-26T10:09:17.569Z"
   },
   {
    "duration": 5,
    "start_time": "2024-03-26T10:09:17.584Z"
   },
   {
    "duration": 16,
    "start_time": "2024-03-26T10:09:17.590Z"
   },
   {
    "duration": 36,
    "start_time": "2024-03-26T10:09:17.607Z"
   },
   {
    "duration": 10,
    "start_time": "2024-03-26T10:09:17.644Z"
   },
   {
    "duration": 32,
    "start_time": "2024-03-26T10:09:17.655Z"
   },
   {
    "duration": 6,
    "start_time": "2024-03-26T10:09:17.688Z"
   },
   {
    "duration": 8,
    "start_time": "2024-03-26T10:09:17.695Z"
   },
   {
    "duration": 16,
    "start_time": "2024-03-26T10:09:17.704Z"
   },
   {
    "duration": 8,
    "start_time": "2024-03-26T10:09:17.721Z"
   },
   {
    "duration": 8,
    "start_time": "2024-03-26T10:09:17.730Z"
   },
   {
    "duration": 148,
    "start_time": "2024-03-26T10:09:17.739Z"
   },
   {
    "duration": 141,
    "start_time": "2024-03-26T10:09:17.889Z"
   },
   {
    "duration": 13,
    "start_time": "2024-03-26T10:09:18.031Z"
   },
   {
    "duration": 6,
    "start_time": "2024-03-26T10:09:18.046Z"
   },
   {
    "duration": 15,
    "start_time": "2024-03-26T10:09:18.053Z"
   },
   {
    "duration": 779,
    "start_time": "2024-03-26T10:09:18.070Z"
   },
   {
    "duration": 62,
    "start_time": "2024-03-26T11:11:00.737Z"
   },
   {
    "duration": 91,
    "start_time": "2024-03-26T11:11:00.801Z"
   },
   {
    "duration": 198,
    "start_time": "2024-03-26T11:11:00.893Z"
   },
   {
    "duration": 137,
    "start_time": "2024-03-26T11:11:01.093Z"
   },
   {
    "duration": 84,
    "start_time": "2024-03-26T11:11:01.232Z"
   },
   {
    "duration": 70,
    "start_time": "2024-03-26T11:11:01.317Z"
   },
   {
    "duration": 97,
    "start_time": "2024-03-26T11:11:01.388Z"
   },
   {
    "duration": 247,
    "start_time": "2024-03-26T11:11:01.486Z"
   },
   {
    "duration": 71,
    "start_time": "2024-03-26T11:11:01.734Z"
   },
   {
    "duration": 35,
    "start_time": "2024-03-26T11:11:01.807Z"
   },
   {
    "duration": 62,
    "start_time": "2024-03-26T11:11:01.843Z"
   },
   {
    "duration": 17,
    "start_time": "2024-03-26T11:11:01.906Z"
   },
   {
    "duration": 40,
    "start_time": "2024-03-26T11:11:01.924Z"
   },
   {
    "duration": 38,
    "start_time": "2024-03-26T11:11:01.965Z"
   },
   {
    "duration": 17,
    "start_time": "2024-03-26T11:11:02.005Z"
   },
   {
    "duration": 35,
    "start_time": "2024-03-26T11:11:02.023Z"
   },
   {
    "duration": 43,
    "start_time": "2024-03-26T11:11:02.059Z"
   },
   {
    "duration": 35,
    "start_time": "2024-03-26T11:11:02.103Z"
   },
   {
    "duration": 18,
    "start_time": "2024-03-26T11:11:02.140Z"
   },
   {
    "duration": 27,
    "start_time": "2024-03-26T11:11:02.160Z"
   },
   {
    "duration": 66,
    "start_time": "2024-03-26T11:11:02.188Z"
   },
   {
    "duration": 7,
    "start_time": "2024-03-26T11:11:02.256Z"
   },
   {
    "duration": 18,
    "start_time": "2024-03-26T11:11:02.265Z"
   },
   {
    "duration": 283,
    "start_time": "2024-03-26T11:11:02.284Z"
   },
   {
    "duration": 5,
    "start_time": "2024-03-26T11:11:02.568Z"
   },
   {
    "duration": 39,
    "start_time": "2024-03-26T11:11:02.574Z"
   },
   {
    "duration": 30,
    "start_time": "2024-03-26T11:11:02.614Z"
   },
   {
    "duration": 29,
    "start_time": "2024-03-26T11:11:02.646Z"
   },
   {
    "duration": 10,
    "start_time": "2024-03-26T11:11:02.676Z"
   },
   {
    "duration": 286,
    "start_time": "2024-03-26T11:11:02.687Z"
   },
   {
    "duration": 6,
    "start_time": "2024-03-26T11:11:02.974Z"
   },
   {
    "duration": 25,
    "start_time": "2024-03-26T11:11:02.981Z"
   },
   {
    "duration": 12,
    "start_time": "2024-03-26T11:11:03.007Z"
   },
   {
    "duration": 8,
    "start_time": "2024-03-26T11:11:03.020Z"
   },
   {
    "duration": 24,
    "start_time": "2024-03-26T11:11:03.029Z"
   },
   {
    "duration": 7,
    "start_time": "2024-03-26T11:11:03.054Z"
   },
   {
    "duration": 88,
    "start_time": "2024-03-26T11:11:03.062Z"
   },
   {
    "duration": 31,
    "start_time": "2024-03-26T11:11:03.151Z"
   },
   {
    "duration": 50,
    "start_time": "2024-03-26T11:11:03.183Z"
   },
   {
    "duration": 22,
    "start_time": "2024-03-26T11:11:03.235Z"
   },
   {
    "duration": 8,
    "start_time": "2024-03-26T11:11:03.258Z"
   },
   {
    "duration": 6,
    "start_time": "2024-03-26T11:11:03.267Z"
   },
   {
    "duration": 153,
    "start_time": "2024-03-26T11:11:03.275Z"
   },
   {
    "duration": 143,
    "start_time": "2024-03-26T11:11:03.430Z"
   },
   {
    "duration": 12,
    "start_time": "2024-03-26T11:11:03.574Z"
   },
   {
    "duration": 14,
    "start_time": "2024-03-26T11:11:03.587Z"
   },
   {
    "duration": 12,
    "start_time": "2024-03-26T11:11:03.602Z"
   },
   {
    "duration": 826,
    "start_time": "2024-03-26T11:11:03.615Z"
   },
   {
    "duration": 44,
    "start_time": "2024-03-26T11:12:57.549Z"
   },
   {
    "duration": 8,
    "start_time": "2024-03-26T11:16:04.497Z"
   },
   {
    "duration": 4,
    "start_time": "2024-03-26T11:16:31.329Z"
   },
   {
    "duration": 11,
    "start_time": "2024-03-26T11:16:55.172Z"
   },
   {
    "duration": 63,
    "start_time": "2024-03-26T12:24:27.346Z"
   },
   {
    "duration": 4,
    "start_time": "2024-03-26T12:24:27.411Z"
   },
   {
    "duration": 7,
    "start_time": "2024-03-26T12:24:27.417Z"
   },
   {
    "duration": 14,
    "start_time": "2024-03-26T12:24:27.425Z"
   },
   {
    "duration": 6,
    "start_time": "2024-03-26T12:24:27.440Z"
   },
   {
    "duration": 12,
    "start_time": "2024-03-26T12:24:27.448Z"
   },
   {
    "duration": 6,
    "start_time": "2024-03-26T12:24:27.462Z"
   },
   {
    "duration": 6,
    "start_time": "2024-03-26T12:24:27.470Z"
   },
   {
    "duration": 28,
    "start_time": "2024-03-26T12:24:27.477Z"
   },
   {
    "duration": 6,
    "start_time": "2024-03-26T12:24:27.507Z"
   },
   {
    "duration": 10,
    "start_time": "2024-03-26T12:24:27.514Z"
   },
   {
    "duration": 9,
    "start_time": "2024-03-26T12:24:27.525Z"
   },
   {
    "duration": 19,
    "start_time": "2024-03-26T12:24:27.535Z"
   },
   {
    "duration": 3,
    "start_time": "2024-03-26T12:24:27.555Z"
   },
   {
    "duration": 5,
    "start_time": "2024-03-26T12:24:27.559Z"
   },
   {
    "duration": 7,
    "start_time": "2024-03-26T12:24:27.565Z"
   },
   {
    "duration": 29,
    "start_time": "2024-03-26T12:24:27.573Z"
   },
   {
    "duration": 5,
    "start_time": "2024-03-26T12:24:27.603Z"
   },
   {
    "duration": 30,
    "start_time": "2024-03-26T12:24:27.609Z"
   },
   {
    "duration": 4,
    "start_time": "2024-03-26T12:24:27.640Z"
   },
   {
    "duration": 6,
    "start_time": "2024-03-26T12:24:27.645Z"
   },
   {
    "duration": 7,
    "start_time": "2024-03-26T12:24:27.652Z"
   },
   {
    "duration": 3,
    "start_time": "2024-03-26T12:24:27.662Z"
   },
   {
    "duration": 189,
    "start_time": "2024-03-26T12:24:27.666Z"
   },
   {
    "duration": 4,
    "start_time": "2024-03-26T12:24:27.856Z"
   },
   {
    "duration": 19,
    "start_time": "2024-03-26T12:24:27.862Z"
   },
   {
    "duration": 3,
    "start_time": "2024-03-26T12:24:27.883Z"
   },
   {
    "duration": 4,
    "start_time": "2024-03-26T12:24:27.887Z"
   },
   {
    "duration": 10,
    "start_time": "2024-03-26T12:24:27.892Z"
   },
   {
    "duration": 252,
    "start_time": "2024-03-26T12:24:27.903Z"
   },
   {
    "duration": 6,
    "start_time": "2024-03-26T12:24:28.157Z"
   },
   {
    "duration": 8,
    "start_time": "2024-03-26T12:24:28.164Z"
   },
   {
    "duration": 5,
    "start_time": "2024-03-26T12:24:28.174Z"
   },
   {
    "duration": 7,
    "start_time": "2024-03-26T12:24:28.180Z"
   },
   {
    "duration": 25,
    "start_time": "2024-03-26T12:24:28.202Z"
   },
   {
    "duration": 6,
    "start_time": "2024-03-26T12:24:28.228Z"
   },
   {
    "duration": 20,
    "start_time": "2024-03-26T12:24:28.235Z"
   },
   {
    "duration": 26,
    "start_time": "2024-03-26T12:24:28.256Z"
   },
   {
    "duration": 7,
    "start_time": "2024-03-26T12:24:28.283Z"
   },
   {
    "duration": 16,
    "start_time": "2024-03-26T12:24:28.293Z"
   },
   {
    "duration": 6,
    "start_time": "2024-03-26T12:24:28.310Z"
   },
   {
    "duration": 5,
    "start_time": "2024-03-26T12:24:28.317Z"
   },
   {
    "duration": 142,
    "start_time": "2024-03-26T12:24:28.323Z"
   },
   {
    "duration": 140,
    "start_time": "2024-03-26T12:24:28.467Z"
   },
   {
    "duration": 12,
    "start_time": "2024-03-26T12:24:28.608Z"
   },
   {
    "duration": 5,
    "start_time": "2024-03-26T12:24:28.621Z"
   },
   {
    "duration": 25,
    "start_time": "2024-03-26T12:24:28.627Z"
   },
   {
    "duration": 63,
    "start_time": "2024-03-26T12:24:30.779Z"
   },
   {
    "duration": 125,
    "start_time": "2024-03-26T12:24:30.844Z"
   },
   {
    "duration": 99,
    "start_time": "2024-03-26T12:24:30.970Z"
   },
   {
    "duration": 62,
    "start_time": "2024-03-26T12:24:31.070Z"
   },
   {
    "duration": 101,
    "start_time": "2024-03-26T12:24:31.134Z"
   },
   {
    "duration": 174,
    "start_time": "2024-03-26T12:24:31.237Z"
   },
   {
    "duration": 33,
    "start_time": "2024-03-26T12:24:31.412Z"
   },
   {
    "duration": 9,
    "start_time": "2024-03-26T12:24:31.446Z"
   },
   {
    "duration": 49,
    "start_time": "2024-03-26T12:24:31.457Z"
   },
   {
    "duration": 19,
    "start_time": "2024-03-26T12:24:31.508Z"
   },
   {
    "duration": 31,
    "start_time": "2024-03-26T12:24:31.529Z"
   },
   {
    "duration": 35,
    "start_time": "2024-03-26T12:24:31.561Z"
   },
   {
    "duration": 39,
    "start_time": "2024-03-26T12:24:31.597Z"
   },
   {
    "duration": 13,
    "start_time": "2024-03-26T12:24:31.637Z"
   },
   {
    "duration": 42,
    "start_time": "2024-03-26T12:24:31.651Z"
   },
   {
    "duration": 25,
    "start_time": "2024-03-26T12:24:31.695Z"
   },
   {
    "duration": 31,
    "start_time": "2024-03-26T12:24:31.722Z"
   },
   {
    "duration": 35,
    "start_time": "2024-03-26T12:24:31.754Z"
   },
   {
    "duration": 43,
    "start_time": "2024-03-26T12:24:31.790Z"
   },
   {
    "duration": 14,
    "start_time": "2024-03-26T12:24:31.834Z"
   },
   {
    "duration": 10,
    "start_time": "2024-03-26T12:24:31.849Z"
   },
   {
    "duration": 14,
    "start_time": "2024-03-26T12:24:31.860Z"
   },
   {
    "duration": 12,
    "start_time": "2024-03-26T12:24:31.875Z"
   },
   {
    "duration": 196,
    "start_time": "2024-03-26T12:24:31.888Z"
   },
   {
    "duration": 5,
    "start_time": "2024-03-26T12:24:32.085Z"
   },
   {
    "duration": 18,
    "start_time": "2024-03-26T12:24:32.092Z"
   },
   {
    "duration": 9,
    "start_time": "2024-03-26T12:24:32.111Z"
   },
   {
    "duration": 12,
    "start_time": "2024-03-26T12:24:32.122Z"
   },
   {
    "duration": 13,
    "start_time": "2024-03-26T12:24:32.135Z"
   },
   {
    "duration": 248,
    "start_time": "2024-03-26T12:24:32.149Z"
   },
   {
    "duration": 8,
    "start_time": "2024-03-26T12:24:32.399Z"
   },
   {
    "duration": 96,
    "start_time": "2024-03-26T12:24:32.408Z"
   },
   {
    "duration": 33,
    "start_time": "2024-03-26T12:24:32.505Z"
   },
   {
    "duration": 10,
    "start_time": "2024-03-26T12:24:32.540Z"
   },
   {
    "duration": 26,
    "start_time": "2024-03-26T12:24:32.551Z"
   },
   {
    "duration": 6,
    "start_time": "2024-03-26T12:24:32.578Z"
   },
   {
    "duration": 13,
    "start_time": "2024-03-26T12:24:32.585Z"
   },
   {
    "duration": 6,
    "start_time": "2024-03-26T12:24:32.599Z"
   },
   {
    "duration": 13,
    "start_time": "2024-03-26T12:24:32.606Z"
   },
   {
    "duration": 22,
    "start_time": "2024-03-26T12:24:32.620Z"
   },
   {
    "duration": 6,
    "start_time": "2024-03-26T12:24:32.644Z"
   },
   {
    "duration": 19,
    "start_time": "2024-03-26T12:24:32.651Z"
   },
   {
    "duration": 152,
    "start_time": "2024-03-26T12:24:32.671Z"
   },
   {
    "duration": 244,
    "start_time": "2024-03-26T12:24:32.824Z"
   },
   {
    "duration": 13,
    "start_time": "2024-03-26T12:24:33.069Z"
   },
   {
    "duration": 13,
    "start_time": "2024-03-26T12:24:33.083Z"
   },
   {
    "duration": 14,
    "start_time": "2024-03-26T12:24:33.097Z"
   },
   {
    "duration": 53,
    "start_time": "2024-03-26T12:24:33.112Z"
   },
   {
    "duration": 4,
    "start_time": "2024-03-26T12:24:33.167Z"
   },
   {
    "duration": 19,
    "start_time": "2024-03-26T12:24:33.172Z"
   },
   {
    "duration": 43,
    "start_time": "2024-03-26T12:24:46.536Z"
   },
   {
    "duration": 43,
    "start_time": "2024-03-26T12:25:26.871Z"
   },
   {
    "duration": 29,
    "start_time": "2024-03-26T12:27:04.085Z"
   },
   {
    "duration": 33,
    "start_time": "2024-03-26T12:27:42.154Z"
   },
   {
    "duration": 16,
    "start_time": "2024-03-26T12:31:05.207Z"
   },
   {
    "duration": 5,
    "start_time": "2024-03-26T12:33:18.701Z"
   },
   {
    "duration": 17,
    "start_time": "2024-03-26T12:33:30.416Z"
   },
   {
    "duration": 15,
    "start_time": "2024-03-26T12:34:05.854Z"
   },
   {
    "duration": 64,
    "start_time": "2024-03-26T12:35:21.887Z"
   },
   {
    "duration": 6,
    "start_time": "2024-03-26T12:35:21.953Z"
   },
   {
    "duration": 15,
    "start_time": "2024-03-26T12:35:21.960Z"
   },
   {
    "duration": 9,
    "start_time": "2024-03-26T12:35:21.977Z"
   },
   {
    "duration": 9,
    "start_time": "2024-03-26T12:35:21.988Z"
   },
   {
    "duration": 10,
    "start_time": "2024-03-26T12:35:21.999Z"
   },
   {
    "duration": 7,
    "start_time": "2024-03-26T12:35:22.011Z"
   },
   {
    "duration": 11,
    "start_time": "2024-03-26T12:35:22.019Z"
   },
   {
    "duration": 10,
    "start_time": "2024-03-26T12:35:22.032Z"
   },
   {
    "duration": 9,
    "start_time": "2024-03-26T12:35:22.045Z"
   },
   {
    "duration": 34,
    "start_time": "2024-03-26T12:35:22.055Z"
   },
   {
    "duration": 9,
    "start_time": "2024-03-26T12:35:22.090Z"
   },
   {
    "duration": 43,
    "start_time": "2024-03-26T12:35:22.101Z"
   },
   {
    "duration": 3,
    "start_time": "2024-03-26T12:35:22.145Z"
   },
   {
    "duration": 20,
    "start_time": "2024-03-26T12:35:22.149Z"
   },
   {
    "duration": 22,
    "start_time": "2024-03-26T12:35:22.170Z"
   },
   {
    "duration": 6,
    "start_time": "2024-03-26T12:35:22.193Z"
   },
   {
    "duration": 5,
    "start_time": "2024-03-26T12:35:22.200Z"
   },
   {
    "duration": 4,
    "start_time": "2024-03-26T12:35:22.206Z"
   },
   {
    "duration": 4,
    "start_time": "2024-03-26T12:35:22.211Z"
   },
   {
    "duration": 6,
    "start_time": "2024-03-26T12:35:22.217Z"
   },
   {
    "duration": 12,
    "start_time": "2024-03-26T12:35:22.225Z"
   },
   {
    "duration": 6,
    "start_time": "2024-03-26T12:35:22.238Z"
   },
   {
    "duration": 199,
    "start_time": "2024-03-26T12:35:22.245Z"
   },
   {
    "duration": 5,
    "start_time": "2024-03-26T12:35:22.447Z"
   },
   {
    "duration": 25,
    "start_time": "2024-03-26T12:35:22.453Z"
   },
   {
    "duration": 5,
    "start_time": "2024-03-26T12:35:22.479Z"
   },
   {
    "duration": 9,
    "start_time": "2024-03-26T12:35:22.485Z"
   },
   {
    "duration": 19,
    "start_time": "2024-03-26T12:35:22.495Z"
   },
   {
    "duration": 233,
    "start_time": "2024-03-26T12:35:22.515Z"
   },
   {
    "duration": 6,
    "start_time": "2024-03-26T12:35:22.749Z"
   },
   {
    "duration": 19,
    "start_time": "2024-03-26T12:35:22.757Z"
   },
   {
    "duration": 8,
    "start_time": "2024-03-26T12:35:22.778Z"
   },
   {
    "duration": 15,
    "start_time": "2024-03-26T12:35:22.788Z"
   },
   {
    "duration": 24,
    "start_time": "2024-03-26T12:35:22.804Z"
   },
   {
    "duration": 6,
    "start_time": "2024-03-26T12:35:22.830Z"
   },
   {
    "duration": 16,
    "start_time": "2024-03-26T12:35:22.838Z"
   },
   {
    "duration": 11,
    "start_time": "2024-03-26T12:35:22.855Z"
   },
   {
    "duration": 9,
    "start_time": "2024-03-26T12:35:22.867Z"
   },
   {
    "duration": 32,
    "start_time": "2024-03-26T12:35:22.878Z"
   },
   {
    "duration": 7,
    "start_time": "2024-03-26T12:35:22.912Z"
   },
   {
    "duration": 46,
    "start_time": "2024-03-26T12:35:22.920Z"
   },
   {
    "duration": 148,
    "start_time": "2024-03-26T12:35:22.967Z"
   },
   {
    "duration": 152,
    "start_time": "2024-03-26T12:35:23.116Z"
   },
   {
    "duration": 13,
    "start_time": "2024-03-26T12:35:23.269Z"
   },
   {
    "duration": 19,
    "start_time": "2024-03-26T12:35:23.284Z"
   },
   {
    "duration": 12,
    "start_time": "2024-03-26T12:35:23.305Z"
   },
   {
    "duration": 35,
    "start_time": "2024-03-26T12:35:23.318Z"
   },
   {
    "duration": 0,
    "start_time": "2024-03-26T12:35:23.354Z"
   },
   {
    "duration": 0,
    "start_time": "2024-03-26T12:35:23.355Z"
   },
   {
    "duration": 10,
    "start_time": "2024-03-26T12:42:01.669Z"
   },
   {
    "duration": 9,
    "start_time": "2024-03-26T12:43:18.270Z"
   },
   {
    "duration": 17,
    "start_time": "2024-03-26T12:45:49.281Z"
   },
   {
    "duration": 8,
    "start_time": "2024-03-26T12:48:58.650Z"
   },
   {
    "duration": 63,
    "start_time": "2024-03-26T12:49:10.751Z"
   },
   {
    "duration": 4,
    "start_time": "2024-03-26T12:49:10.816Z"
   },
   {
    "duration": 3,
    "start_time": "2024-03-26T12:49:10.822Z"
   },
   {
    "duration": 7,
    "start_time": "2024-03-26T12:49:10.827Z"
   },
   {
    "duration": 6,
    "start_time": "2024-03-26T12:49:10.836Z"
   },
   {
    "duration": 10,
    "start_time": "2024-03-26T12:49:10.843Z"
   },
   {
    "duration": 8,
    "start_time": "2024-03-26T12:49:10.854Z"
   },
   {
    "duration": 6,
    "start_time": "2024-03-26T12:49:10.864Z"
   },
   {
    "duration": 7,
    "start_time": "2024-03-26T12:49:10.872Z"
   },
   {
    "duration": 5,
    "start_time": "2024-03-26T12:49:10.902Z"
   },
   {
    "duration": 9,
    "start_time": "2024-03-26T12:49:10.908Z"
   },
   {
    "duration": 3,
    "start_time": "2024-03-26T12:49:10.918Z"
   },
   {
    "duration": 14,
    "start_time": "2024-03-26T12:49:10.922Z"
   },
   {
    "duration": 3,
    "start_time": "2024-03-26T12:49:10.937Z"
   },
   {
    "duration": 7,
    "start_time": "2024-03-26T12:49:10.942Z"
   },
   {
    "duration": 24,
    "start_time": "2024-03-26T12:49:10.950Z"
   },
   {
    "duration": 4,
    "start_time": "2024-03-26T12:49:10.975Z"
   },
   {
    "duration": 24,
    "start_time": "2024-03-26T12:49:10.980Z"
   },
   {
    "duration": 11,
    "start_time": "2024-03-26T12:49:11.005Z"
   },
   {
    "duration": 6,
    "start_time": "2024-03-26T12:49:11.017Z"
   },
   {
    "duration": 8,
    "start_time": "2024-03-26T12:49:11.024Z"
   },
   {
    "duration": 6,
    "start_time": "2024-03-26T12:49:11.035Z"
   },
   {
    "duration": 17,
    "start_time": "2024-03-26T12:49:11.042Z"
   },
   {
    "duration": 192,
    "start_time": "2024-03-26T12:49:11.061Z"
   },
   {
    "duration": 4,
    "start_time": "2024-03-26T12:49:11.255Z"
   },
   {
    "duration": 14,
    "start_time": "2024-03-26T12:49:11.260Z"
   },
   {
    "duration": 3,
    "start_time": "2024-03-26T12:49:11.275Z"
   },
   {
    "duration": 7,
    "start_time": "2024-03-26T12:49:11.279Z"
   },
   {
    "duration": 4,
    "start_time": "2024-03-26T12:49:11.301Z"
   },
   {
    "duration": 314,
    "start_time": "2024-03-26T12:49:11.307Z"
   },
   {
    "duration": 7,
    "start_time": "2024-03-26T12:49:11.622Z"
   },
   {
    "duration": 21,
    "start_time": "2024-03-26T12:49:11.630Z"
   },
   {
    "duration": 20,
    "start_time": "2024-03-26T12:49:11.652Z"
   },
   {
    "duration": 14,
    "start_time": "2024-03-26T12:49:11.673Z"
   },
   {
    "duration": 25,
    "start_time": "2024-03-26T12:49:11.689Z"
   },
   {
    "duration": 6,
    "start_time": "2024-03-26T12:49:11.716Z"
   },
   {
    "duration": 18,
    "start_time": "2024-03-26T12:49:11.723Z"
   },
   {
    "duration": 14,
    "start_time": "2024-03-26T12:49:11.742Z"
   },
   {
    "duration": 7,
    "start_time": "2024-03-26T12:49:11.757Z"
   },
   {
    "duration": 21,
    "start_time": "2024-03-26T12:49:11.765Z"
   },
   {
    "duration": 17,
    "start_time": "2024-03-26T12:49:11.788Z"
   },
   {
    "duration": 9,
    "start_time": "2024-03-26T12:49:11.807Z"
   },
   {
    "duration": 141,
    "start_time": "2024-03-26T12:49:11.817Z"
   },
   {
    "duration": 143,
    "start_time": "2024-03-26T12:49:11.961Z"
   },
   {
    "duration": 12,
    "start_time": "2024-03-26T12:49:12.106Z"
   },
   {
    "duration": 30,
    "start_time": "2024-03-26T12:49:12.119Z"
   },
   {
    "duration": 23,
    "start_time": "2024-03-26T12:49:12.150Z"
   },
   {
    "duration": 33,
    "start_time": "2024-03-26T12:49:12.175Z"
   },
   {
    "duration": 0,
    "start_time": "2024-03-26T12:49:12.210Z"
   },
   {
    "duration": 0,
    "start_time": "2024-03-26T12:49:12.211Z"
   },
   {
    "duration": 22,
    "start_time": "2024-03-26T12:51:43.680Z"
   },
   {
    "duration": 64,
    "start_time": "2024-03-26T12:57:26.899Z"
   },
   {
    "duration": 18,
    "start_time": "2024-03-26T12:57:26.965Z"
   },
   {
    "duration": 14,
    "start_time": "2024-03-26T12:57:26.984Z"
   },
   {
    "duration": 19,
    "start_time": "2024-03-26T12:57:27.000Z"
   },
   {
    "duration": 8,
    "start_time": "2024-03-26T12:57:27.021Z"
   },
   {
    "duration": 19,
    "start_time": "2024-03-26T12:57:27.030Z"
   },
   {
    "duration": 20,
    "start_time": "2024-03-26T12:57:27.050Z"
   },
   {
    "duration": 27,
    "start_time": "2024-03-26T12:57:27.071Z"
   },
   {
    "duration": 15,
    "start_time": "2024-03-26T12:57:27.099Z"
   },
   {
    "duration": 6,
    "start_time": "2024-03-26T12:57:27.117Z"
   },
   {
    "duration": 22,
    "start_time": "2024-03-26T12:57:27.124Z"
   },
   {
    "duration": 17,
    "start_time": "2024-03-26T12:57:27.147Z"
   },
   {
    "duration": 13,
    "start_time": "2024-03-26T12:57:27.166Z"
   },
   {
    "duration": 3,
    "start_time": "2024-03-26T12:57:27.181Z"
   },
   {
    "duration": 17,
    "start_time": "2024-03-26T12:57:27.185Z"
   },
   {
    "duration": 18,
    "start_time": "2024-03-26T12:57:27.204Z"
   },
   {
    "duration": 29,
    "start_time": "2024-03-26T12:57:27.224Z"
   },
   {
    "duration": 14,
    "start_time": "2024-03-26T12:57:27.254Z"
   },
   {
    "duration": 14,
    "start_time": "2024-03-26T12:57:27.269Z"
   },
   {
    "duration": 10,
    "start_time": "2024-03-26T12:57:27.284Z"
   },
   {
    "duration": 11,
    "start_time": "2024-03-26T12:57:27.295Z"
   },
   {
    "duration": 11,
    "start_time": "2024-03-26T12:57:27.307Z"
   },
   {
    "duration": 4,
    "start_time": "2024-03-26T12:57:27.319Z"
   },
   {
    "duration": 188,
    "start_time": "2024-03-26T12:57:27.325Z"
   },
   {
    "duration": 5,
    "start_time": "2024-03-26T12:57:27.515Z"
   },
   {
    "duration": 29,
    "start_time": "2024-03-26T12:57:27.521Z"
   },
   {
    "duration": 5,
    "start_time": "2024-03-26T12:57:27.552Z"
   },
   {
    "duration": 5,
    "start_time": "2024-03-26T12:57:27.561Z"
   },
   {
    "duration": 8,
    "start_time": "2024-03-26T12:57:27.568Z"
   },
   {
    "duration": 233,
    "start_time": "2024-03-26T12:57:27.577Z"
   },
   {
    "duration": 7,
    "start_time": "2024-03-26T12:57:27.812Z"
   },
   {
    "duration": 13,
    "start_time": "2024-03-26T12:57:27.821Z"
   },
   {
    "duration": 8,
    "start_time": "2024-03-26T12:57:27.835Z"
   },
   {
    "duration": 8,
    "start_time": "2024-03-26T12:57:27.845Z"
   },
   {
    "duration": 25,
    "start_time": "2024-03-26T12:57:27.855Z"
   },
   {
    "duration": 26,
    "start_time": "2024-03-26T12:57:27.881Z"
   },
   {
    "duration": 25,
    "start_time": "2024-03-26T12:57:27.908Z"
   },
   {
    "duration": 7,
    "start_time": "2024-03-26T12:57:27.935Z"
   },
   {
    "duration": 9,
    "start_time": "2024-03-26T12:57:27.943Z"
   },
   {
    "duration": 144,
    "start_time": "2024-03-26T12:57:27.953Z"
   },
   {
    "duration": 7,
    "start_time": "2024-03-26T12:57:28.102Z"
   },
   {
    "duration": 9,
    "start_time": "2024-03-26T12:57:28.111Z"
   },
   {
    "duration": 154,
    "start_time": "2024-03-26T12:57:28.122Z"
   },
   {
    "duration": 150,
    "start_time": "2024-03-26T12:57:28.278Z"
   },
   {
    "duration": 16,
    "start_time": "2024-03-26T12:57:28.429Z"
   },
   {
    "duration": 24,
    "start_time": "2024-03-26T12:57:28.447Z"
   },
   {
    "duration": 19,
    "start_time": "2024-03-26T12:57:28.473Z"
   },
   {
    "duration": 38,
    "start_time": "2024-03-26T12:57:28.493Z"
   },
   {
    "duration": 4,
    "start_time": "2024-03-26T12:57:28.532Z"
   },
   {
    "duration": 14,
    "start_time": "2024-03-26T12:57:28.537Z"
   },
   {
    "duration": 10,
    "start_time": "2024-03-26T13:00:25.128Z"
   },
   {
    "duration": 23,
    "start_time": "2024-03-26T13:00:37.465Z"
   },
   {
    "duration": 69,
    "start_time": "2024-03-26T13:01:39.129Z"
   },
   {
    "duration": 5,
    "start_time": "2024-03-26T13:01:39.200Z"
   },
   {
    "duration": 10,
    "start_time": "2024-03-26T13:01:39.206Z"
   },
   {
    "duration": 19,
    "start_time": "2024-03-26T13:01:39.218Z"
   },
   {
    "duration": 15,
    "start_time": "2024-03-26T13:01:39.238Z"
   },
   {
    "duration": 12,
    "start_time": "2024-03-26T13:01:39.254Z"
   },
   {
    "duration": 19,
    "start_time": "2024-03-26T13:01:39.268Z"
   },
   {
    "duration": 9,
    "start_time": "2024-03-26T13:01:39.288Z"
   },
   {
    "duration": 10,
    "start_time": "2024-03-26T13:01:39.298Z"
   },
   {
    "duration": 23,
    "start_time": "2024-03-26T13:01:39.311Z"
   },
   {
    "duration": 23,
    "start_time": "2024-03-26T13:01:39.336Z"
   },
   {
    "duration": 32,
    "start_time": "2024-03-26T13:01:39.360Z"
   },
   {
    "duration": 37,
    "start_time": "2024-03-26T13:01:39.394Z"
   },
   {
    "duration": 31,
    "start_time": "2024-03-26T13:01:39.432Z"
   },
   {
    "duration": 19,
    "start_time": "2024-03-26T13:01:39.464Z"
   },
   {
    "duration": 12,
    "start_time": "2024-03-26T13:01:39.484Z"
   },
   {
    "duration": 16,
    "start_time": "2024-03-26T13:01:39.497Z"
   },
   {
    "duration": 24,
    "start_time": "2024-03-26T13:01:39.515Z"
   },
   {
    "duration": 22,
    "start_time": "2024-03-26T13:01:39.540Z"
   },
   {
    "duration": 7,
    "start_time": "2024-03-26T13:01:39.564Z"
   },
   {
    "duration": 26,
    "start_time": "2024-03-26T13:01:39.572Z"
   },
   {
    "duration": 10,
    "start_time": "2024-03-26T13:01:39.599Z"
   },
   {
    "duration": 7,
    "start_time": "2024-03-26T13:01:39.610Z"
   },
   {
    "duration": 182,
    "start_time": "2024-03-26T13:01:39.618Z"
   },
   {
    "duration": 5,
    "start_time": "2024-03-26T13:01:39.803Z"
   },
   {
    "duration": 17,
    "start_time": "2024-03-26T13:01:39.809Z"
   },
   {
    "duration": 11,
    "start_time": "2024-03-26T13:01:39.827Z"
   },
   {
    "duration": 5,
    "start_time": "2024-03-26T13:01:39.839Z"
   },
   {
    "duration": 7,
    "start_time": "2024-03-26T13:01:39.845Z"
   },
   {
    "duration": 228,
    "start_time": "2024-03-26T13:01:39.853Z"
   },
   {
    "duration": 6,
    "start_time": "2024-03-26T13:01:40.082Z"
   },
   {
    "duration": 75,
    "start_time": "2024-03-26T13:01:40.090Z"
   },
   {
    "duration": 69,
    "start_time": "2024-03-26T13:01:40.166Z"
   },
   {
    "duration": 11,
    "start_time": "2024-03-26T13:01:40.236Z"
   },
   {
    "duration": 30,
    "start_time": "2024-03-26T13:01:40.249Z"
   },
   {
    "duration": 6,
    "start_time": "2024-03-26T13:01:40.281Z"
   },
   {
    "duration": 23,
    "start_time": "2024-03-26T13:01:40.289Z"
   },
   {
    "duration": 8,
    "start_time": "2024-03-26T13:01:40.313Z"
   },
   {
    "duration": 11,
    "start_time": "2024-03-26T13:01:40.323Z"
   },
   {
    "duration": 25,
    "start_time": "2024-03-26T13:01:40.336Z"
   },
   {
    "duration": 8,
    "start_time": "2024-03-26T13:01:40.362Z"
   },
   {
    "duration": 19,
    "start_time": "2024-03-26T13:01:40.371Z"
   },
   {
    "duration": 147,
    "start_time": "2024-03-26T13:01:40.403Z"
   },
   {
    "duration": 133,
    "start_time": "2024-03-26T13:01:40.551Z"
   },
   {
    "duration": 19,
    "start_time": "2024-03-26T13:01:40.686Z"
   },
   {
    "duration": 16,
    "start_time": "2024-03-26T13:01:40.706Z"
   },
   {
    "duration": 16,
    "start_time": "2024-03-26T13:01:40.723Z"
   },
   {
    "duration": 44,
    "start_time": "2024-03-26T13:01:40.740Z"
   },
   {
    "duration": 767,
    "start_time": "2024-03-26T13:01:40.785Z"
   },
   {
    "duration": 0,
    "start_time": "2024-03-26T13:01:41.554Z"
   },
   {
    "duration": 191,
    "start_time": "2024-03-26T13:05:37.322Z"
   },
   {
    "duration": 16,
    "start_time": "2024-03-26T13:20:38.056Z"
   },
   {
    "duration": 694,
    "start_time": "2024-03-26T13:27:24.662Z"
   },
   {
    "duration": 15,
    "start_time": "2024-03-26T13:28:17.586Z"
   },
   {
    "duration": 11,
    "start_time": "2024-03-26T15:46:16.638Z"
   },
   {
    "duration": 57,
    "start_time": "2024-03-26T15:48:58.231Z"
   },
   {
    "duration": 9,
    "start_time": "2024-03-26T15:51:34.367Z"
   },
   {
    "duration": 3,
    "start_time": "2024-03-26T15:52:07.780Z"
   },
   {
    "duration": 9,
    "start_time": "2024-03-26T15:52:21.006Z"
   },
   {
    "duration": 62,
    "start_time": "2024-03-26T15:53:30.550Z"
   },
   {
    "duration": 83,
    "start_time": "2024-03-26T15:53:30.614Z"
   },
   {
    "duration": 46,
    "start_time": "2024-03-26T15:53:30.698Z"
   },
   {
    "duration": 75,
    "start_time": "2024-03-26T15:53:30.746Z"
   },
   {
    "duration": 85,
    "start_time": "2024-03-26T15:53:30.822Z"
   },
   {
    "duration": 53,
    "start_time": "2024-03-26T15:53:30.909Z"
   },
   {
    "duration": 71,
    "start_time": "2024-03-26T15:53:30.963Z"
   },
   {
    "duration": 51,
    "start_time": "2024-03-26T15:53:31.035Z"
   },
   {
    "duration": 42,
    "start_time": "2024-03-26T15:53:31.087Z"
   },
   {
    "duration": 53,
    "start_time": "2024-03-26T15:53:31.131Z"
   },
   {
    "duration": 64,
    "start_time": "2024-03-26T15:53:31.185Z"
   },
   {
    "duration": 35,
    "start_time": "2024-03-26T15:53:31.250Z"
   },
   {
    "duration": 52,
    "start_time": "2024-03-26T15:53:31.286Z"
   },
   {
    "duration": 41,
    "start_time": "2024-03-26T15:53:31.339Z"
   },
   {
    "duration": 32,
    "start_time": "2024-03-26T15:53:31.382Z"
   },
   {
    "duration": 41,
    "start_time": "2024-03-26T15:53:31.415Z"
   },
   {
    "duration": 66,
    "start_time": "2024-03-26T15:53:31.458Z"
   },
   {
    "duration": 31,
    "start_time": "2024-03-26T15:53:31.525Z"
   },
   {
    "duration": 59,
    "start_time": "2024-03-26T15:53:31.557Z"
   },
   {
    "duration": 92,
    "start_time": "2024-03-26T15:53:31.617Z"
   },
   {
    "duration": 51,
    "start_time": "2024-03-26T15:53:31.711Z"
   },
   {
    "duration": 51,
    "start_time": "2024-03-26T15:53:31.764Z"
   },
   {
    "duration": 13,
    "start_time": "2024-03-26T15:53:31.816Z"
   },
   {
    "duration": 204,
    "start_time": "2024-03-26T15:53:31.830Z"
   },
   {
    "duration": 5,
    "start_time": "2024-03-26T15:53:32.035Z"
   },
   {
    "duration": 6,
    "start_time": "2024-03-26T15:53:32.041Z"
   },
   {
    "duration": 5,
    "start_time": "2024-03-26T15:53:32.048Z"
   },
   {
    "duration": 15,
    "start_time": "2024-03-26T15:53:32.056Z"
   },
   {
    "duration": 7,
    "start_time": "2024-03-26T15:53:32.072Z"
   },
   {
    "duration": 258,
    "start_time": "2024-03-26T15:53:32.081Z"
   },
   {
    "duration": 6,
    "start_time": "2024-03-26T15:53:32.341Z"
   },
   {
    "duration": 16,
    "start_time": "2024-03-26T15:53:32.348Z"
   },
   {
    "duration": 5,
    "start_time": "2024-03-26T15:53:32.365Z"
   },
   {
    "duration": 8,
    "start_time": "2024-03-26T15:53:32.371Z"
   },
   {
    "duration": 37,
    "start_time": "2024-03-26T15:53:32.381Z"
   },
   {
    "duration": 6,
    "start_time": "2024-03-26T15:53:32.419Z"
   },
   {
    "duration": 18,
    "start_time": "2024-03-26T15:53:32.426Z"
   },
   {
    "duration": 6,
    "start_time": "2024-03-26T15:53:32.445Z"
   },
   {
    "duration": 6,
    "start_time": "2024-03-26T15:53:32.452Z"
   },
   {
    "duration": 15,
    "start_time": "2024-03-26T15:53:32.459Z"
   },
   {
    "duration": 5,
    "start_time": "2024-03-26T15:53:32.475Z"
   },
   {
    "duration": 25,
    "start_time": "2024-03-26T15:53:32.481Z"
   },
   {
    "duration": 133,
    "start_time": "2024-03-26T15:53:32.507Z"
   },
   {
    "duration": 132,
    "start_time": "2024-03-26T15:53:32.641Z"
   },
   {
    "duration": 12,
    "start_time": "2024-03-26T15:53:32.775Z"
   },
   {
    "duration": 3,
    "start_time": "2024-03-26T15:53:32.801Z"
   },
   {
    "duration": 31,
    "start_time": "2024-03-26T15:53:32.805Z"
   },
   {
    "duration": 19,
    "start_time": "2024-03-26T15:53:32.838Z"
   },
   {
    "duration": 2,
    "start_time": "2024-03-26T15:53:32.858Z"
   },
   {
    "duration": 55,
    "start_time": "2024-03-26T15:53:32.862Z"
   },
   {
    "duration": 6,
    "start_time": "2024-03-26T15:53:32.918Z"
   },
   {
    "duration": 9,
    "start_time": "2024-03-26T15:53:55.838Z"
   },
   {
    "duration": 61,
    "start_time": "2024-03-26T15:55:55.599Z"
   },
   {
    "duration": 5,
    "start_time": "2024-03-26T15:55:55.661Z"
   },
   {
    "duration": 10,
    "start_time": "2024-03-26T15:55:55.667Z"
   },
   {
    "duration": 6,
    "start_time": "2024-03-26T15:55:55.679Z"
   },
   {
    "duration": 6,
    "start_time": "2024-03-26T15:55:55.686Z"
   },
   {
    "duration": 9,
    "start_time": "2024-03-26T15:55:55.694Z"
   },
   {
    "duration": 7,
    "start_time": "2024-03-26T15:55:55.704Z"
   },
   {
    "duration": 6,
    "start_time": "2024-03-26T15:55:55.712Z"
   },
   {
    "duration": 10,
    "start_time": "2024-03-26T15:55:55.719Z"
   },
   {
    "duration": 12,
    "start_time": "2024-03-26T15:55:55.731Z"
   },
   {
    "duration": 8,
    "start_time": "2024-03-26T15:55:55.744Z"
   },
   {
    "duration": 3,
    "start_time": "2024-03-26T15:55:55.753Z"
   },
   {
    "duration": 16,
    "start_time": "2024-03-26T15:55:55.757Z"
   },
   {
    "duration": 4,
    "start_time": "2024-03-26T15:55:55.774Z"
   },
   {
    "duration": 5,
    "start_time": "2024-03-26T15:55:55.801Z"
   },
   {
    "duration": 7,
    "start_time": "2024-03-26T15:55:55.807Z"
   },
   {
    "duration": 6,
    "start_time": "2024-03-26T15:55:55.815Z"
   },
   {
    "duration": 4,
    "start_time": "2024-03-26T15:55:55.823Z"
   },
   {
    "duration": 5,
    "start_time": "2024-03-26T15:55:55.828Z"
   },
   {
    "duration": 4,
    "start_time": "2024-03-26T15:55:55.834Z"
   },
   {
    "duration": 5,
    "start_time": "2024-03-26T15:55:55.840Z"
   },
   {
    "duration": 9,
    "start_time": "2024-03-26T15:55:55.846Z"
   },
   {
    "duration": 4,
    "start_time": "2024-03-26T15:55:55.856Z"
   },
   {
    "duration": 210,
    "start_time": "2024-03-26T15:55:55.861Z"
   },
   {
    "duration": 5,
    "start_time": "2024-03-26T15:55:56.072Z"
   },
   {
    "duration": 6,
    "start_time": "2024-03-26T15:55:56.079Z"
   },
   {
    "duration": 3,
    "start_time": "2024-03-26T15:55:56.101Z"
   },
   {
    "duration": 8,
    "start_time": "2024-03-26T15:55:56.106Z"
   },
   {
    "duration": 3,
    "start_time": "2024-03-26T15:55:56.116Z"
   },
   {
    "duration": 245,
    "start_time": "2024-03-26T15:55:56.121Z"
   },
   {
    "duration": 7,
    "start_time": "2024-03-26T15:55:56.367Z"
   },
   {
    "duration": 9,
    "start_time": "2024-03-26T15:55:56.375Z"
   },
   {
    "duration": 17,
    "start_time": "2024-03-26T15:55:56.385Z"
   },
   {
    "duration": 7,
    "start_time": "2024-03-26T15:55:56.403Z"
   },
   {
    "duration": 25,
    "start_time": "2024-03-26T15:55:56.411Z"
   },
   {
    "duration": 6,
    "start_time": "2024-03-26T15:55:56.439Z"
   },
   {
    "duration": 13,
    "start_time": "2024-03-26T15:55:56.446Z"
   },
   {
    "duration": 7,
    "start_time": "2024-03-26T15:55:56.460Z"
   },
   {
    "duration": 36,
    "start_time": "2024-03-26T15:55:56.468Z"
   },
   {
    "duration": 15,
    "start_time": "2024-03-26T15:55:56.505Z"
   },
   {
    "duration": 6,
    "start_time": "2024-03-26T15:55:56.522Z"
   },
   {
    "duration": 7,
    "start_time": "2024-03-26T15:55:56.529Z"
   },
   {
    "duration": 271,
    "start_time": "2024-03-26T15:55:56.538Z"
   },
   {
    "duration": 134,
    "start_time": "2024-03-26T15:55:56.811Z"
   },
   {
    "duration": 12,
    "start_time": "2024-03-26T15:55:56.947Z"
   },
   {
    "duration": 15,
    "start_time": "2024-03-26T15:55:56.961Z"
   },
   {
    "duration": 18,
    "start_time": "2024-03-26T15:55:56.978Z"
   },
   {
    "duration": 21,
    "start_time": "2024-03-26T15:55:56.998Z"
   },
   {
    "duration": 63,
    "start_time": "2024-03-26T15:55:57.021Z"
   },
   {
    "duration": 792,
    "start_time": "2024-03-26T16:00:19.704Z"
   },
   {
    "duration": 61,
    "start_time": "2024-03-26T16:03:32.647Z"
   },
   {
    "duration": 5,
    "start_time": "2024-03-26T16:03:32.710Z"
   },
   {
    "duration": 9,
    "start_time": "2024-03-26T16:03:32.716Z"
   },
   {
    "duration": 7,
    "start_time": "2024-03-26T16:03:32.727Z"
   },
   {
    "duration": 7,
    "start_time": "2024-03-26T16:03:32.735Z"
   },
   {
    "duration": 27,
    "start_time": "2024-03-26T16:03:32.743Z"
   },
   {
    "duration": 14,
    "start_time": "2024-03-26T16:03:32.771Z"
   },
   {
    "duration": 16,
    "start_time": "2024-03-26T16:03:32.786Z"
   },
   {
    "duration": 8,
    "start_time": "2024-03-26T16:03:32.804Z"
   },
   {
    "duration": 12,
    "start_time": "2024-03-26T16:03:32.813Z"
   },
   {
    "duration": 9,
    "start_time": "2024-03-26T16:03:32.826Z"
   },
   {
    "duration": 18,
    "start_time": "2024-03-26T16:03:32.837Z"
   },
   {
    "duration": 38,
    "start_time": "2024-03-26T16:03:32.856Z"
   },
   {
    "duration": 3,
    "start_time": "2024-03-26T16:03:32.895Z"
   },
   {
    "duration": 15,
    "start_time": "2024-03-26T16:03:32.900Z"
   },
   {
    "duration": 11,
    "start_time": "2024-03-26T16:03:32.916Z"
   },
   {
    "duration": 5,
    "start_time": "2024-03-26T16:03:32.928Z"
   },
   {
    "duration": 5,
    "start_time": "2024-03-26T16:03:32.935Z"
   },
   {
    "duration": 12,
    "start_time": "2024-03-26T16:03:32.941Z"
   },
   {
    "duration": 4,
    "start_time": "2024-03-26T16:03:32.954Z"
   },
   {
    "duration": 7,
    "start_time": "2024-03-26T16:03:32.959Z"
   },
   {
    "duration": 15,
    "start_time": "2024-03-26T16:03:32.968Z"
   },
   {
    "duration": 4,
    "start_time": "2024-03-26T16:03:32.984Z"
   },
   {
    "duration": 257,
    "start_time": "2024-03-26T16:03:32.990Z"
   },
   {
    "duration": 5,
    "start_time": "2024-03-26T16:03:33.248Z"
   },
   {
    "duration": 61,
    "start_time": "2024-03-26T16:03:33.257Z"
   },
   {
    "duration": 61,
    "start_time": "2024-03-26T16:03:33.319Z"
   },
   {
    "duration": 41,
    "start_time": "2024-03-26T16:03:33.382Z"
   },
   {
    "duration": 21,
    "start_time": "2024-03-26T16:03:33.425Z"
   },
   {
    "duration": 236,
    "start_time": "2024-03-26T16:03:33.448Z"
   },
   {
    "duration": 6,
    "start_time": "2024-03-26T16:03:33.686Z"
   },
   {
    "duration": 20,
    "start_time": "2024-03-26T16:03:33.693Z"
   },
   {
    "duration": 11,
    "start_time": "2024-03-26T16:03:33.714Z"
   },
   {
    "duration": 20,
    "start_time": "2024-03-26T16:03:33.726Z"
   },
   {
    "duration": 35,
    "start_time": "2024-03-26T16:03:33.747Z"
   },
   {
    "duration": 6,
    "start_time": "2024-03-26T16:03:33.784Z"
   },
   {
    "duration": 13,
    "start_time": "2024-03-26T16:03:33.792Z"
   },
   {
    "duration": 13,
    "start_time": "2024-03-26T16:03:33.806Z"
   },
   {
    "duration": 18,
    "start_time": "2024-03-26T16:03:33.820Z"
   },
   {
    "duration": 16,
    "start_time": "2024-03-26T16:03:33.839Z"
   },
   {
    "duration": 19,
    "start_time": "2024-03-26T16:03:33.856Z"
   },
   {
    "duration": 12,
    "start_time": "2024-03-26T16:03:33.876Z"
   },
   {
    "duration": 131,
    "start_time": "2024-03-26T16:03:33.889Z"
   },
   {
    "duration": 127,
    "start_time": "2024-03-26T16:03:34.022Z"
   },
   {
    "duration": 12,
    "start_time": "2024-03-26T16:03:34.150Z"
   },
   {
    "duration": 4,
    "start_time": "2024-03-26T16:03:34.163Z"
   },
   {
    "duration": 32,
    "start_time": "2024-03-26T16:03:34.168Z"
   },
   {
    "duration": 28,
    "start_time": "2024-03-26T16:03:34.202Z"
   },
   {
    "duration": 52,
    "start_time": "2024-03-26T16:03:34.233Z"
   },
   {
    "duration": 710,
    "start_time": "2024-03-26T16:03:34.286Z"
   },
   {
    "duration": 736,
    "start_time": "2024-03-26T16:03:54.800Z"
   },
   {
    "duration": 58,
    "start_time": "2024-03-26T16:04:32.185Z"
   },
   {
    "duration": 59,
    "start_time": "2024-03-26T16:04:49.485Z"
   },
   {
    "duration": 5,
    "start_time": "2024-03-26T16:04:49.546Z"
   },
   {
    "duration": 20,
    "start_time": "2024-03-26T16:04:49.552Z"
   },
   {
    "duration": 33,
    "start_time": "2024-03-26T16:04:49.573Z"
   },
   {
    "duration": 23,
    "start_time": "2024-03-26T16:04:49.607Z"
   },
   {
    "duration": 19,
    "start_time": "2024-03-26T16:04:49.631Z"
   },
   {
    "duration": 11,
    "start_time": "2024-03-26T16:04:49.652Z"
   },
   {
    "duration": 22,
    "start_time": "2024-03-26T16:04:49.664Z"
   },
   {
    "duration": 23,
    "start_time": "2024-03-26T16:04:49.687Z"
   },
   {
    "duration": 6,
    "start_time": "2024-03-26T16:04:49.712Z"
   },
   {
    "duration": 20,
    "start_time": "2024-03-26T16:04:49.718Z"
   },
   {
    "duration": 12,
    "start_time": "2024-03-26T16:04:49.740Z"
   },
   {
    "duration": 23,
    "start_time": "2024-03-26T16:04:49.753Z"
   },
   {
    "duration": 11,
    "start_time": "2024-03-26T16:04:49.778Z"
   },
   {
    "duration": 18,
    "start_time": "2024-03-26T16:04:49.791Z"
   },
   {
    "duration": 21,
    "start_time": "2024-03-26T16:04:49.810Z"
   },
   {
    "duration": 25,
    "start_time": "2024-03-26T16:04:49.832Z"
   },
   {
    "duration": 9,
    "start_time": "2024-03-26T16:04:49.858Z"
   },
   {
    "duration": 32,
    "start_time": "2024-03-26T16:04:49.868Z"
   },
   {
    "duration": 14,
    "start_time": "2024-03-26T16:04:49.901Z"
   },
   {
    "duration": 28,
    "start_time": "2024-03-26T16:04:49.916Z"
   },
   {
    "duration": 16,
    "start_time": "2024-03-26T16:04:49.946Z"
   },
   {
    "duration": 24,
    "start_time": "2024-03-26T16:04:49.963Z"
   },
   {
    "duration": 227,
    "start_time": "2024-03-26T16:04:49.989Z"
   },
   {
    "duration": 5,
    "start_time": "2024-03-26T16:04:50.217Z"
   },
   {
    "duration": 12,
    "start_time": "2024-03-26T16:04:50.223Z"
   },
   {
    "duration": 12,
    "start_time": "2024-03-26T16:04:50.236Z"
   },
   {
    "duration": 20,
    "start_time": "2024-03-26T16:04:50.250Z"
   },
   {
    "duration": 55,
    "start_time": "2024-03-26T16:04:50.272Z"
   },
   {
    "duration": 256,
    "start_time": "2024-03-26T16:04:50.329Z"
   },
   {
    "duration": 14,
    "start_time": "2024-03-26T16:04:50.587Z"
   },
   {
    "duration": 61,
    "start_time": "2024-03-26T16:04:50.603Z"
   },
   {
    "duration": 38,
    "start_time": "2024-03-26T16:04:50.666Z"
   },
   {
    "duration": 17,
    "start_time": "2024-03-26T16:04:50.706Z"
   },
   {
    "duration": 34,
    "start_time": "2024-03-26T16:04:50.725Z"
   },
   {
    "duration": 6,
    "start_time": "2024-03-26T16:04:50.760Z"
   },
   {
    "duration": 36,
    "start_time": "2024-03-26T16:04:50.767Z"
   },
   {
    "duration": 32,
    "start_time": "2024-03-26T16:04:50.804Z"
   },
   {
    "duration": 12,
    "start_time": "2024-03-26T16:04:50.838Z"
   },
   {
    "duration": 25,
    "start_time": "2024-03-26T16:04:50.851Z"
   },
   {
    "duration": 18,
    "start_time": "2024-03-26T16:04:50.877Z"
   },
   {
    "duration": 16,
    "start_time": "2024-03-26T16:04:50.897Z"
   },
   {
    "duration": 165,
    "start_time": "2024-03-26T16:04:50.915Z"
   },
   {
    "duration": 149,
    "start_time": "2024-03-26T16:04:51.082Z"
   },
   {
    "duration": 15,
    "start_time": "2024-03-26T16:04:51.232Z"
   },
   {
    "duration": 16,
    "start_time": "2024-03-26T16:04:51.248Z"
   },
   {
    "duration": 20,
    "start_time": "2024-03-26T16:04:51.266Z"
   },
   {
    "duration": 52,
    "start_time": "2024-03-26T16:04:51.287Z"
   },
   {
    "duration": 64,
    "start_time": "2024-03-26T16:04:51.340Z"
   },
   {
    "duration": 732,
    "start_time": "2024-03-26T16:04:51.405Z"
   },
   {
    "duration": 59,
    "start_time": "2024-03-26T16:05:42.840Z"
   },
   {
    "duration": 51,
    "start_time": "2024-03-26T16:12:06.275Z"
   },
   {
    "duration": 3,
    "start_time": "2024-03-26T16:13:49.959Z"
   },
   {
    "duration": 8,
    "start_time": "2024-03-26T16:14:02.506Z"
   },
   {
    "duration": 60,
    "start_time": "2024-03-26T16:14:47.041Z"
   },
   {
    "duration": 4,
    "start_time": "2024-03-26T16:14:47.103Z"
   },
   {
    "duration": 4,
    "start_time": "2024-03-26T16:14:47.108Z"
   },
   {
    "duration": 7,
    "start_time": "2024-03-26T16:14:47.113Z"
   },
   {
    "duration": 11,
    "start_time": "2024-03-26T16:14:47.121Z"
   },
   {
    "duration": 23,
    "start_time": "2024-03-26T16:14:47.134Z"
   },
   {
    "duration": 14,
    "start_time": "2024-03-26T16:14:47.158Z"
   },
   {
    "duration": 39,
    "start_time": "2024-03-26T16:14:47.173Z"
   },
   {
    "duration": 7,
    "start_time": "2024-03-26T16:14:47.214Z"
   },
   {
    "duration": 6,
    "start_time": "2024-03-26T16:14:47.224Z"
   },
   {
    "duration": 17,
    "start_time": "2024-03-26T16:14:47.232Z"
   },
   {
    "duration": 6,
    "start_time": "2024-03-26T16:14:47.251Z"
   },
   {
    "duration": 13,
    "start_time": "2024-03-26T16:14:47.258Z"
   },
   {
    "duration": 4,
    "start_time": "2024-03-26T16:14:47.273Z"
   },
   {
    "duration": 5,
    "start_time": "2024-03-26T16:14:47.301Z"
   },
   {
    "duration": 6,
    "start_time": "2024-03-26T16:14:47.307Z"
   },
   {
    "duration": 14,
    "start_time": "2024-03-26T16:14:47.314Z"
   },
   {
    "duration": 21,
    "start_time": "2024-03-26T16:14:47.329Z"
   },
   {
    "duration": 14,
    "start_time": "2024-03-26T16:14:47.352Z"
   },
   {
    "duration": 6,
    "start_time": "2024-03-26T16:14:47.367Z"
   },
   {
    "duration": 11,
    "start_time": "2024-03-26T16:14:47.374Z"
   },
   {
    "duration": 7,
    "start_time": "2024-03-26T16:14:47.386Z"
   },
   {
    "duration": 4,
    "start_time": "2024-03-26T16:14:47.394Z"
   },
   {
    "duration": 187,
    "start_time": "2024-03-26T16:14:47.399Z"
   },
   {
    "duration": 4,
    "start_time": "2024-03-26T16:14:47.588Z"
   },
   {
    "duration": 21,
    "start_time": "2024-03-26T16:14:47.593Z"
   },
   {
    "duration": 4,
    "start_time": "2024-03-26T16:14:47.615Z"
   },
   {
    "duration": 14,
    "start_time": "2024-03-26T16:14:47.621Z"
   },
   {
    "duration": 12,
    "start_time": "2024-03-26T16:14:47.636Z"
   },
   {
    "duration": 232,
    "start_time": "2024-03-26T16:14:47.649Z"
   },
   {
    "duration": 7,
    "start_time": "2024-03-26T16:14:47.882Z"
   },
   {
    "duration": 38,
    "start_time": "2024-03-26T16:14:47.890Z"
   },
   {
    "duration": 17,
    "start_time": "2024-03-26T16:14:47.930Z"
   },
   {
    "duration": 13,
    "start_time": "2024-03-26T16:14:47.948Z"
   },
   {
    "duration": 24,
    "start_time": "2024-03-26T16:14:47.963Z"
   },
   {
    "duration": 7,
    "start_time": "2024-03-26T16:14:47.988Z"
   },
   {
    "duration": 16,
    "start_time": "2024-03-26T16:14:47.996Z"
   },
   {
    "duration": 7,
    "start_time": "2024-03-26T16:14:48.013Z"
   },
   {
    "duration": 14,
    "start_time": "2024-03-26T16:14:48.021Z"
   },
   {
    "duration": 21,
    "start_time": "2024-03-26T16:14:48.037Z"
   },
   {
    "duration": 6,
    "start_time": "2024-03-26T16:14:48.060Z"
   },
   {
    "duration": 9,
    "start_time": "2024-03-26T16:14:48.068Z"
   },
   {
    "duration": 140,
    "start_time": "2024-03-26T16:14:48.078Z"
   },
   {
    "duration": 145,
    "start_time": "2024-03-26T16:14:48.219Z"
   },
   {
    "duration": 13,
    "start_time": "2024-03-26T16:14:48.365Z"
   },
   {
    "duration": 8,
    "start_time": "2024-03-26T16:14:48.379Z"
   },
   {
    "duration": 18,
    "start_time": "2024-03-26T16:14:48.388Z"
   },
   {
    "duration": 16,
    "start_time": "2024-03-26T16:14:48.407Z"
   },
   {
    "duration": 8,
    "start_time": "2024-03-26T16:14:48.424Z"
   },
   {
    "duration": 542,
    "start_time": "2024-03-26T16:14:48.433Z"
   },
   {
    "duration": 63,
    "start_time": "2024-03-26T16:16:58.387Z"
   },
   {
    "duration": 5,
    "start_time": "2024-03-26T16:16:58.451Z"
   },
   {
    "duration": 7,
    "start_time": "2024-03-26T16:16:58.457Z"
   },
   {
    "duration": 12,
    "start_time": "2024-03-26T16:16:58.466Z"
   },
   {
    "duration": 6,
    "start_time": "2024-03-26T16:16:58.480Z"
   },
   {
    "duration": 13,
    "start_time": "2024-03-26T16:16:58.487Z"
   },
   {
    "duration": 7,
    "start_time": "2024-03-26T16:16:58.501Z"
   },
   {
    "duration": 7,
    "start_time": "2024-03-26T16:16:58.510Z"
   },
   {
    "duration": 15,
    "start_time": "2024-03-26T16:16:58.518Z"
   },
   {
    "duration": 6,
    "start_time": "2024-03-26T16:16:58.536Z"
   },
   {
    "duration": 179,
    "start_time": "2024-03-26T16:16:58.544Z"
   },
   {
    "duration": 14,
    "start_time": "2024-03-26T16:16:58.724Z"
   },
   {
    "duration": 18,
    "start_time": "2024-03-26T16:16:58.739Z"
   },
   {
    "duration": 4,
    "start_time": "2024-03-26T16:16:58.758Z"
   },
   {
    "duration": 10,
    "start_time": "2024-03-26T16:16:58.763Z"
   },
   {
    "duration": 7,
    "start_time": "2024-03-26T16:16:58.774Z"
   },
   {
    "duration": 20,
    "start_time": "2024-03-26T16:16:58.782Z"
   },
   {
    "duration": 5,
    "start_time": "2024-03-26T16:16:58.803Z"
   },
   {
    "duration": 11,
    "start_time": "2024-03-26T16:16:58.809Z"
   },
   {
    "duration": 4,
    "start_time": "2024-03-26T16:16:58.821Z"
   },
   {
    "duration": 8,
    "start_time": "2024-03-26T16:16:58.827Z"
   },
   {
    "duration": 16,
    "start_time": "2024-03-26T16:16:58.838Z"
   },
   {
    "duration": 6,
    "start_time": "2024-03-26T16:16:58.856Z"
   },
   {
    "duration": 189,
    "start_time": "2024-03-26T16:16:58.863Z"
   },
   {
    "duration": 5,
    "start_time": "2024-03-26T16:16:59.053Z"
   },
   {
    "duration": 12,
    "start_time": "2024-03-26T16:16:59.059Z"
   },
   {
    "duration": 7,
    "start_time": "2024-03-26T16:16:59.072Z"
   },
   {
    "duration": 11,
    "start_time": "2024-03-26T16:16:59.080Z"
   },
   {
    "duration": 11,
    "start_time": "2024-03-26T16:16:59.092Z"
   },
   {
    "duration": 262,
    "start_time": "2024-03-26T16:16:59.105Z"
   },
   {
    "duration": 7,
    "start_time": "2024-03-26T16:16:59.368Z"
   },
   {
    "duration": 11,
    "start_time": "2024-03-26T16:16:59.376Z"
   },
   {
    "duration": 7,
    "start_time": "2024-03-26T16:16:59.388Z"
   },
   {
    "duration": 11,
    "start_time": "2024-03-26T16:16:59.401Z"
   },
   {
    "duration": 34,
    "start_time": "2024-03-26T16:16:59.413Z"
   },
   {
    "duration": 7,
    "start_time": "2024-03-26T16:16:59.449Z"
   },
   {
    "duration": 26,
    "start_time": "2024-03-26T16:16:59.457Z"
   },
   {
    "duration": 12,
    "start_time": "2024-03-26T16:16:59.484Z"
   },
   {
    "duration": 17,
    "start_time": "2024-03-26T16:16:59.497Z"
   },
   {
    "duration": 33,
    "start_time": "2024-03-26T16:16:59.515Z"
   },
   {
    "duration": 14,
    "start_time": "2024-03-26T16:16:59.549Z"
   },
   {
    "duration": 6,
    "start_time": "2024-03-26T16:16:59.564Z"
   },
   {
    "duration": 131,
    "start_time": "2024-03-26T16:16:59.572Z"
   },
   {
    "duration": 135,
    "start_time": "2024-03-26T16:16:59.704Z"
   },
   {
    "duration": 12,
    "start_time": "2024-03-26T16:16:59.840Z"
   },
   {
    "duration": 9,
    "start_time": "2024-03-26T16:16:59.853Z"
   },
   {
    "duration": 24,
    "start_time": "2024-03-26T16:16:59.863Z"
   },
   {
    "duration": 15,
    "start_time": "2024-03-26T16:16:59.889Z"
   },
   {
    "duration": 6,
    "start_time": "2024-03-26T16:16:59.906Z"
   },
   {
    "duration": 233,
    "start_time": "2024-03-26T16:16:59.913Z"
   },
   {
    "duration": 0,
    "start_time": "2024-03-26T16:17:00.147Z"
   },
   {
    "duration": 59,
    "start_time": "2024-03-26T16:45:58.624Z"
   },
   {
    "duration": 4,
    "start_time": "2024-03-26T16:45:58.685Z"
   },
   {
    "duration": 5,
    "start_time": "2024-03-26T16:45:58.690Z"
   },
   {
    "duration": 9,
    "start_time": "2024-03-26T16:45:58.697Z"
   },
   {
    "duration": 6,
    "start_time": "2024-03-26T16:45:58.707Z"
   },
   {
    "duration": 10,
    "start_time": "2024-03-26T16:45:58.714Z"
   },
   {
    "duration": 7,
    "start_time": "2024-03-26T16:45:58.725Z"
   },
   {
    "duration": 6,
    "start_time": "2024-03-26T16:45:58.733Z"
   },
   {
    "duration": 7,
    "start_time": "2024-03-26T16:45:58.740Z"
   },
   {
    "duration": 5,
    "start_time": "2024-03-26T16:45:58.749Z"
   },
   {
    "duration": 9,
    "start_time": "2024-03-26T16:45:58.755Z"
   },
   {
    "duration": 37,
    "start_time": "2024-03-26T16:45:58.765Z"
   },
   {
    "duration": 11,
    "start_time": "2024-03-26T16:45:58.803Z"
   },
   {
    "duration": 3,
    "start_time": "2024-03-26T16:45:58.816Z"
   },
   {
    "duration": 7,
    "start_time": "2024-03-26T16:45:58.820Z"
   },
   {
    "duration": 6,
    "start_time": "2024-03-26T16:45:58.828Z"
   },
   {
    "duration": 5,
    "start_time": "2024-03-26T16:45:58.835Z"
   },
   {
    "duration": 5,
    "start_time": "2024-03-26T16:45:58.842Z"
   },
   {
    "duration": 12,
    "start_time": "2024-03-26T16:45:58.848Z"
   },
   {
    "duration": 4,
    "start_time": "2024-03-26T16:45:58.863Z"
   },
   {
    "duration": 37,
    "start_time": "2024-03-26T16:45:58.868Z"
   },
   {
    "duration": 6,
    "start_time": "2024-03-26T16:45:58.907Z"
   },
   {
    "duration": 4,
    "start_time": "2024-03-26T16:45:58.915Z"
   },
   {
    "duration": 211,
    "start_time": "2024-03-26T16:45:58.920Z"
   },
   {
    "duration": 5,
    "start_time": "2024-03-26T16:45:59.132Z"
   },
   {
    "duration": 8,
    "start_time": "2024-03-26T16:45:59.139Z"
   },
   {
    "duration": 4,
    "start_time": "2024-03-26T16:45:59.148Z"
   },
   {
    "duration": 10,
    "start_time": "2024-03-26T16:45:59.153Z"
   },
   {
    "duration": 7,
    "start_time": "2024-03-26T16:45:59.164Z"
   },
   {
    "duration": 258,
    "start_time": "2024-03-26T16:45:59.172Z"
   },
   {
    "duration": 6,
    "start_time": "2024-03-26T16:45:59.431Z"
   },
   {
    "duration": 15,
    "start_time": "2024-03-26T16:45:59.439Z"
   },
   {
    "duration": 11,
    "start_time": "2024-03-26T16:45:59.455Z"
   },
   {
    "duration": 18,
    "start_time": "2024-03-26T16:45:59.467Z"
   },
   {
    "duration": 34,
    "start_time": "2024-03-26T16:45:59.488Z"
   },
   {
    "duration": 6,
    "start_time": "2024-03-26T16:45:59.523Z"
   },
   {
    "duration": 11,
    "start_time": "2024-03-26T16:45:59.531Z"
   },
   {
    "duration": 12,
    "start_time": "2024-03-26T16:45:59.543Z"
   },
   {
    "duration": 5,
    "start_time": "2024-03-26T16:45:59.556Z"
   },
   {
    "duration": 15,
    "start_time": "2024-03-26T16:45:59.563Z"
   },
   {
    "duration": 27,
    "start_time": "2024-03-26T16:45:59.579Z"
   },
   {
    "duration": 17,
    "start_time": "2024-03-26T16:45:59.607Z"
   },
   {
    "duration": 129,
    "start_time": "2024-03-26T16:45:59.626Z"
   },
   {
    "duration": 159,
    "start_time": "2024-03-26T16:45:59.757Z"
   },
   {
    "duration": 13,
    "start_time": "2024-03-26T16:45:59.917Z"
   },
   {
    "duration": 12,
    "start_time": "2024-03-26T16:45:59.931Z"
   },
   {
    "duration": 10,
    "start_time": "2024-03-26T16:45:59.944Z"
   },
   {
    "duration": 17,
    "start_time": "2024-03-26T16:45:59.956Z"
   },
   {
    "duration": 7,
    "start_time": "2024-03-26T16:45:59.974Z"
   },
   {
    "duration": 229,
    "start_time": "2024-03-26T16:45:59.982Z"
   },
   {
    "duration": 0,
    "start_time": "2024-03-26T16:46:00.213Z"
   },
   {
    "duration": 52,
    "start_time": "2024-03-27T11:04:28.829Z"
   },
   {
    "duration": 1587,
    "start_time": "2024-03-27T11:04:40.241Z"
   },
   {
    "duration": 8,
    "start_time": "2024-03-27T11:04:41.830Z"
   },
   {
    "duration": 8,
    "start_time": "2024-03-27T11:04:41.840Z"
   },
   {
    "duration": 8,
    "start_time": "2024-03-27T11:04:41.851Z"
   },
   {
    "duration": 11,
    "start_time": "2024-03-27T11:04:41.861Z"
   },
   {
    "duration": 17,
    "start_time": "2024-03-27T11:04:41.874Z"
   },
   {
    "duration": 9,
    "start_time": "2024-03-27T11:04:41.893Z"
   },
   {
    "duration": 9,
    "start_time": "2024-03-27T11:04:41.903Z"
   },
   {
    "duration": 8,
    "start_time": "2024-03-27T11:04:41.913Z"
   },
   {
    "duration": 48,
    "start_time": "2024-03-27T11:04:41.923Z"
   },
   {
    "duration": 15,
    "start_time": "2024-03-27T11:04:41.973Z"
   },
   {
    "duration": 11,
    "start_time": "2024-03-27T11:04:41.990Z"
   },
   {
    "duration": 18,
    "start_time": "2024-03-27T11:04:42.003Z"
   },
   {
    "duration": 5,
    "start_time": "2024-03-27T11:04:42.023Z"
   },
   {
    "duration": 7,
    "start_time": "2024-03-27T11:04:42.029Z"
   },
   {
    "duration": 7,
    "start_time": "2024-03-27T11:04:42.065Z"
   },
   {
    "duration": 7,
    "start_time": "2024-03-27T11:04:42.074Z"
   },
   {
    "duration": 10,
    "start_time": "2024-03-27T11:04:42.083Z"
   },
   {
    "duration": 14,
    "start_time": "2024-03-27T11:04:42.095Z"
   },
   {
    "duration": 12,
    "start_time": "2024-03-27T11:04:42.111Z"
   },
   {
    "duration": 41,
    "start_time": "2024-03-27T11:04:42.125Z"
   },
   {
    "duration": 9,
    "start_time": "2024-03-27T11:04:42.168Z"
   },
   {
    "duration": 5,
    "start_time": "2024-03-27T11:04:42.179Z"
   },
   {
    "duration": 283,
    "start_time": "2024-03-27T11:04:42.186Z"
   },
   {
    "duration": 5,
    "start_time": "2024-03-27T11:04:42.471Z"
   },
   {
    "duration": 8,
    "start_time": "2024-03-27T11:04:42.478Z"
   },
   {
    "duration": 4,
    "start_time": "2024-03-27T11:04:42.488Z"
   },
   {
    "duration": 4,
    "start_time": "2024-03-27T11:04:42.496Z"
   },
   {
    "duration": 5,
    "start_time": "2024-03-27T11:04:42.502Z"
   },
   {
    "duration": 348,
    "start_time": "2024-03-27T11:04:42.509Z"
   },
   {
    "duration": 12,
    "start_time": "2024-03-27T11:04:42.858Z"
   },
   {
    "duration": 19,
    "start_time": "2024-03-27T11:04:42.871Z"
   },
   {
    "duration": 12,
    "start_time": "2024-03-27T11:04:42.891Z"
   },
   {
    "duration": 11,
    "start_time": "2024-03-27T11:04:42.904Z"
   },
   {
    "duration": 28,
    "start_time": "2024-03-27T11:04:42.916Z"
   },
   {
    "duration": 7,
    "start_time": "2024-03-27T11:04:42.945Z"
   },
   {
    "duration": 26,
    "start_time": "2024-03-27T11:04:42.954Z"
   },
   {
    "duration": 7,
    "start_time": "2024-03-27T11:04:42.982Z"
   },
   {
    "duration": 6,
    "start_time": "2024-03-27T11:04:42.991Z"
   },
   {
    "duration": 17,
    "start_time": "2024-03-27T11:04:42.999Z"
   },
   {
    "duration": 7,
    "start_time": "2024-03-27T11:04:43.017Z"
   },
   {
    "duration": 41,
    "start_time": "2024-03-27T11:04:43.026Z"
   },
   {
    "duration": 225,
    "start_time": "2024-03-27T11:04:43.069Z"
   },
   {
    "duration": 251,
    "start_time": "2024-03-27T11:04:43.296Z"
   },
   {
    "duration": 24,
    "start_time": "2024-03-27T11:04:43.549Z"
   },
   {
    "duration": 35,
    "start_time": "2024-03-27T11:04:43.576Z"
   },
   {
    "duration": 4,
    "start_time": "2024-03-27T11:04:43.613Z"
   },
   {
    "duration": 14,
    "start_time": "2024-03-27T11:04:43.619Z"
   },
   {
    "duration": 49,
    "start_time": "2024-03-27T11:04:43.635Z"
   },
   {
    "duration": 10,
    "start_time": "2024-03-27T11:04:43.686Z"
   },
   {
    "duration": 293,
    "start_time": "2024-03-27T11:04:43.697Z"
   },
   {
    "duration": 0,
    "start_time": "2024-03-27T11:04:43.992Z"
   },
   {
    "duration": 68,
    "start_time": "2024-03-27T11:48:00.472Z"
   },
   {
    "duration": 5,
    "start_time": "2024-03-27T11:48:00.542Z"
   },
   {
    "duration": 54,
    "start_time": "2024-03-27T11:48:00.548Z"
   },
   {
    "duration": 65,
    "start_time": "2024-03-27T11:48:00.604Z"
   },
   {
    "duration": 53,
    "start_time": "2024-03-27T11:48:00.671Z"
   },
   {
    "duration": 73,
    "start_time": "2024-03-27T11:48:00.725Z"
   },
   {
    "duration": 65,
    "start_time": "2024-03-27T11:48:00.800Z"
   },
   {
    "duration": 108,
    "start_time": "2024-03-27T11:48:00.867Z"
   },
   {
    "duration": 34,
    "start_time": "2024-03-27T11:48:00.977Z"
   },
   {
    "duration": 57,
    "start_time": "2024-03-27T11:48:01.013Z"
   },
   {
    "duration": 42,
    "start_time": "2024-03-27T11:48:01.071Z"
   },
   {
    "duration": 58,
    "start_time": "2024-03-27T11:48:01.115Z"
   },
   {
    "duration": 80,
    "start_time": "2024-03-27T11:48:01.174Z"
   },
   {
    "duration": 36,
    "start_time": "2024-03-27T11:48:01.255Z"
   },
   {
    "duration": 49,
    "start_time": "2024-03-27T11:48:01.292Z"
   },
   {
    "duration": 33,
    "start_time": "2024-03-27T11:48:01.342Z"
   },
   {
    "duration": 25,
    "start_time": "2024-03-27T11:48:01.377Z"
   },
   {
    "duration": 119,
    "start_time": "2024-03-27T11:48:01.404Z"
   },
   {
    "duration": 60,
    "start_time": "2024-03-27T11:48:01.525Z"
   },
   {
    "duration": 103,
    "start_time": "2024-03-27T11:48:01.587Z"
   },
   {
    "duration": 29,
    "start_time": "2024-03-27T11:48:01.692Z"
   },
   {
    "duration": 41,
    "start_time": "2024-03-27T11:48:01.723Z"
   },
   {
    "duration": 51,
    "start_time": "2024-03-27T11:48:01.765Z"
   },
   {
    "duration": 358,
    "start_time": "2024-03-27T11:48:01.818Z"
   },
   {
    "duration": 6,
    "start_time": "2024-03-27T11:48:02.177Z"
   },
   {
    "duration": 43,
    "start_time": "2024-03-27T11:48:02.184Z"
   },
   {
    "duration": 16,
    "start_time": "2024-03-27T11:48:02.228Z"
   },
   {
    "duration": 71,
    "start_time": "2024-03-27T11:48:02.247Z"
   },
   {
    "duration": 14,
    "start_time": "2024-03-27T11:48:02.320Z"
   },
   {
    "duration": 304,
    "start_time": "2024-03-27T11:48:02.336Z"
   },
   {
    "duration": 7,
    "start_time": "2024-03-27T11:48:02.642Z"
   },
   {
    "duration": 31,
    "start_time": "2024-03-27T11:48:02.650Z"
   },
   {
    "duration": 23,
    "start_time": "2024-03-27T11:48:02.683Z"
   },
   {
    "duration": 9,
    "start_time": "2024-03-27T11:48:02.708Z"
   },
   {
    "duration": 40,
    "start_time": "2024-03-27T11:48:02.718Z"
   },
   {
    "duration": 8,
    "start_time": "2024-03-27T11:48:02.760Z"
   },
   {
    "duration": 23,
    "start_time": "2024-03-27T11:48:02.769Z"
   },
   {
    "duration": 8,
    "start_time": "2024-03-27T11:48:02.794Z"
   },
   {
    "duration": 7,
    "start_time": "2024-03-27T11:48:02.803Z"
   },
   {
    "duration": 18,
    "start_time": "2024-03-27T11:48:02.811Z"
   },
   {
    "duration": 7,
    "start_time": "2024-03-27T11:48:02.830Z"
   },
   {
    "duration": 32,
    "start_time": "2024-03-27T11:48:02.839Z"
   },
   {
    "duration": 162,
    "start_time": "2024-03-27T11:48:02.872Z"
   },
   {
    "duration": 162,
    "start_time": "2024-03-27T11:48:03.035Z"
   },
   {
    "duration": 14,
    "start_time": "2024-03-27T11:48:03.198Z"
   },
   {
    "duration": 30,
    "start_time": "2024-03-27T11:48:03.214Z"
   },
   {
    "duration": 20,
    "start_time": "2024-03-27T11:48:03.245Z"
   },
   {
    "duration": 11,
    "start_time": "2024-03-27T11:48:03.267Z"
   },
   {
    "duration": 26,
    "start_time": "2024-03-27T11:48:03.279Z"
   },
   {
    "duration": 9,
    "start_time": "2024-03-27T11:48:03.306Z"
   },
   {
    "duration": 224,
    "start_time": "2024-03-27T11:48:03.316Z"
   },
   {
    "duration": 0,
    "start_time": "2024-03-27T11:48:03.541Z"
   },
   {
    "duration": 34,
    "start_time": "2024-03-27T11:51:04.968Z"
   },
   {
    "duration": 68,
    "start_time": "2024-03-27T11:51:26.670Z"
   },
   {
    "duration": 5,
    "start_time": "2024-03-27T11:51:26.740Z"
   },
   {
    "duration": 4,
    "start_time": "2024-03-27T11:51:26.747Z"
   },
   {
    "duration": 9,
    "start_time": "2024-03-27T11:51:26.754Z"
   },
   {
    "duration": 8,
    "start_time": "2024-03-27T11:51:26.764Z"
   },
   {
    "duration": 14,
    "start_time": "2024-03-27T11:51:26.773Z"
   },
   {
    "duration": 8,
    "start_time": "2024-03-27T11:51:26.788Z"
   },
   {
    "duration": 12,
    "start_time": "2024-03-27T11:51:26.798Z"
   },
   {
    "duration": 8,
    "start_time": "2024-03-27T11:51:26.812Z"
   },
   {
    "duration": 43,
    "start_time": "2024-03-27T11:51:26.823Z"
   },
   {
    "duration": 13,
    "start_time": "2024-03-27T11:51:26.868Z"
   },
   {
    "duration": 7,
    "start_time": "2024-03-27T11:51:26.883Z"
   },
   {
    "duration": 18,
    "start_time": "2024-03-27T11:51:26.892Z"
   },
   {
    "duration": 4,
    "start_time": "2024-03-27T11:51:26.912Z"
   },
   {
    "duration": 6,
    "start_time": "2024-03-27T11:51:26.917Z"
   },
   {
    "duration": 42,
    "start_time": "2024-03-27T11:51:26.924Z"
   },
   {
    "duration": 5,
    "start_time": "2024-03-27T11:51:26.968Z"
   },
   {
    "duration": 10,
    "start_time": "2024-03-27T11:51:26.975Z"
   },
   {
    "duration": 29,
    "start_time": "2024-03-27T11:51:26.986Z"
   },
   {
    "duration": 6,
    "start_time": "2024-03-27T11:51:27.016Z"
   },
   {
    "duration": 13,
    "start_time": "2024-03-27T11:51:27.024Z"
   },
   {
    "duration": 20,
    "start_time": "2024-03-27T11:51:27.039Z"
   },
   {
    "duration": 6,
    "start_time": "2024-03-27T11:51:27.061Z"
   },
   {
    "duration": 219,
    "start_time": "2024-03-27T11:51:27.068Z"
   },
   {
    "duration": 5,
    "start_time": "2024-03-27T11:51:27.290Z"
   },
   {
    "duration": 22,
    "start_time": "2024-03-27T11:51:27.296Z"
   },
   {
    "duration": 9,
    "start_time": "2024-03-27T11:51:27.319Z"
   },
   {
    "duration": 7,
    "start_time": "2024-03-27T11:51:27.330Z"
   },
   {
    "duration": 22,
    "start_time": "2024-03-27T11:51:27.339Z"
   },
   {
    "duration": 273,
    "start_time": "2024-03-27T11:51:27.362Z"
   },
   {
    "duration": 8,
    "start_time": "2024-03-27T11:51:27.636Z"
   },
   {
    "duration": 20,
    "start_time": "2024-03-27T11:51:27.645Z"
   },
   {
    "duration": 5,
    "start_time": "2024-03-27T11:51:27.666Z"
   },
   {
    "duration": 24,
    "start_time": "2024-03-27T11:51:27.672Z"
   },
   {
    "duration": 27,
    "start_time": "2024-03-27T11:51:27.697Z"
   },
   {
    "duration": 7,
    "start_time": "2024-03-27T11:51:27.726Z"
   },
   {
    "duration": 32,
    "start_time": "2024-03-27T11:51:27.735Z"
   },
   {
    "duration": 8,
    "start_time": "2024-03-27T11:51:27.768Z"
   },
   {
    "duration": 9,
    "start_time": "2024-03-27T11:51:27.778Z"
   },
   {
    "duration": 21,
    "start_time": "2024-03-27T11:51:27.789Z"
   },
   {
    "duration": 7,
    "start_time": "2024-03-27T11:51:27.812Z"
   },
   {
    "duration": 9,
    "start_time": "2024-03-27T11:51:27.821Z"
   },
   {
    "duration": 185,
    "start_time": "2024-03-27T11:51:27.831Z"
   },
   {
    "duration": 235,
    "start_time": "2024-03-27T11:51:28.017Z"
   },
   {
    "duration": 19,
    "start_time": "2024-03-27T11:51:28.254Z"
   },
   {
    "duration": 24,
    "start_time": "2024-03-27T11:51:28.274Z"
   },
   {
    "duration": 3,
    "start_time": "2024-03-27T11:51:28.300Z"
   },
   {
    "duration": 12,
    "start_time": "2024-03-27T11:51:28.305Z"
   },
   {
    "duration": 47,
    "start_time": "2024-03-27T11:51:28.319Z"
   },
   {
    "duration": 9,
    "start_time": "2024-03-27T11:51:28.368Z"
   },
   {
    "duration": 225,
    "start_time": "2024-03-27T11:51:28.378Z"
   },
   {
    "duration": 0,
    "start_time": "2024-03-27T11:51:28.605Z"
   },
   {
    "duration": 68,
    "start_time": "2024-03-27T11:55:19.796Z"
   },
   {
    "duration": 6,
    "start_time": "2024-03-27T11:55:19.866Z"
   },
   {
    "duration": 9,
    "start_time": "2024-03-27T11:55:19.873Z"
   },
   {
    "duration": 12,
    "start_time": "2024-03-27T11:55:19.884Z"
   },
   {
    "duration": 8,
    "start_time": "2024-03-27T11:55:19.898Z"
   },
   {
    "duration": 20,
    "start_time": "2024-03-27T11:55:19.908Z"
   },
   {
    "duration": 11,
    "start_time": "2024-03-27T11:55:19.929Z"
   },
   {
    "duration": 31,
    "start_time": "2024-03-27T11:55:19.941Z"
   },
   {
    "duration": 9,
    "start_time": "2024-03-27T11:55:19.973Z"
   },
   {
    "duration": 11,
    "start_time": "2024-03-27T11:55:19.983Z"
   },
   {
    "duration": 12,
    "start_time": "2024-03-27T11:55:19.995Z"
   },
   {
    "duration": 21,
    "start_time": "2024-03-27T11:55:20.008Z"
   },
   {
    "duration": 34,
    "start_time": "2024-03-27T11:55:20.030Z"
   },
   {
    "duration": 5,
    "start_time": "2024-03-27T11:55:20.067Z"
   },
   {
    "duration": 6,
    "start_time": "2024-03-27T11:55:20.074Z"
   },
   {
    "duration": 7,
    "start_time": "2024-03-27T11:55:20.082Z"
   },
   {
    "duration": 14,
    "start_time": "2024-03-27T11:55:20.090Z"
   },
   {
    "duration": 5,
    "start_time": "2024-03-27T11:55:20.106Z"
   },
   {
    "duration": 6,
    "start_time": "2024-03-27T11:55:20.113Z"
   },
   {
    "duration": 13,
    "start_time": "2024-03-27T11:55:20.120Z"
   },
   {
    "duration": 31,
    "start_time": "2024-03-27T11:55:20.134Z"
   },
   {
    "duration": 7,
    "start_time": "2024-03-27T11:55:20.167Z"
   },
   {
    "duration": 5,
    "start_time": "2024-03-27T11:55:20.175Z"
   },
   {
    "duration": 237,
    "start_time": "2024-03-27T11:55:20.181Z"
   },
   {
    "duration": 5,
    "start_time": "2024-03-27T11:55:20.419Z"
   },
   {
    "duration": 8,
    "start_time": "2024-03-27T11:55:20.426Z"
   },
   {
    "duration": 3,
    "start_time": "2024-03-27T11:55:20.436Z"
   },
   {
    "duration": 26,
    "start_time": "2024-03-27T11:55:20.441Z"
   },
   {
    "duration": 4,
    "start_time": "2024-03-27T11:55:20.469Z"
   },
   {
    "duration": 313,
    "start_time": "2024-03-27T11:55:20.475Z"
   },
   {
    "duration": 9,
    "start_time": "2024-03-27T11:55:20.790Z"
   },
   {
    "duration": 29,
    "start_time": "2024-03-27T11:55:20.800Z"
   },
   {
    "duration": 6,
    "start_time": "2024-03-27T11:55:20.830Z"
   },
   {
    "duration": 9,
    "start_time": "2024-03-27T11:55:20.837Z"
   },
   {
    "duration": 49,
    "start_time": "2024-03-27T11:55:20.848Z"
   },
   {
    "duration": 8,
    "start_time": "2024-03-27T11:55:20.899Z"
   },
   {
    "duration": 42,
    "start_time": "2024-03-27T11:55:20.908Z"
   },
   {
    "duration": 21,
    "start_time": "2024-03-27T11:55:20.953Z"
   },
   {
    "duration": 16,
    "start_time": "2024-03-27T11:55:20.976Z"
   },
   {
    "duration": 21,
    "start_time": "2024-03-27T11:55:20.993Z"
   },
   {
    "duration": 171,
    "start_time": "2024-03-27T11:55:21.016Z"
   },
   {
    "duration": 163,
    "start_time": "2024-03-27T11:55:21.189Z"
   },
   {
    "duration": 17,
    "start_time": "2024-03-27T11:55:21.353Z"
   },
   {
    "duration": 34,
    "start_time": "2024-03-27T11:55:21.372Z"
   },
   {
    "duration": 3,
    "start_time": "2024-03-27T11:55:21.408Z"
   },
   {
    "duration": 13,
    "start_time": "2024-03-27T11:55:21.412Z"
   },
   {
    "duration": 49,
    "start_time": "2024-03-27T11:55:21.427Z"
   },
   {
    "duration": 7,
    "start_time": "2024-03-27T11:55:21.477Z"
   },
   {
    "duration": 565,
    "start_time": "2024-03-27T11:55:21.486Z"
   },
   {
    "duration": 19,
    "start_time": "2024-03-27T11:56:07.321Z"
   },
   {
    "duration": 18,
    "start_time": "2024-03-27T11:57:29.763Z"
   },
   {
    "duration": 67,
    "start_time": "2024-03-27T11:59:38.092Z"
   },
   {
    "duration": 5,
    "start_time": "2024-03-27T11:59:38.161Z"
   },
   {
    "duration": 17,
    "start_time": "2024-03-27T11:59:38.168Z"
   },
   {
    "duration": 8,
    "start_time": "2024-03-27T11:59:38.187Z"
   },
   {
    "duration": 8,
    "start_time": "2024-03-27T11:59:38.196Z"
   },
   {
    "duration": 10,
    "start_time": "2024-03-27T11:59:38.205Z"
   },
   {
    "duration": 10,
    "start_time": "2024-03-27T11:59:38.216Z"
   },
   {
    "duration": 9,
    "start_time": "2024-03-27T11:59:38.228Z"
   },
   {
    "duration": 33,
    "start_time": "2024-03-27T11:59:38.238Z"
   },
   {
    "duration": 7,
    "start_time": "2024-03-27T11:59:38.273Z"
   },
   {
    "duration": 10,
    "start_time": "2024-03-27T11:59:38.281Z"
   },
   {
    "duration": 6,
    "start_time": "2024-03-27T11:59:38.292Z"
   },
   {
    "duration": 16,
    "start_time": "2024-03-27T11:59:38.299Z"
   },
   {
    "duration": 4,
    "start_time": "2024-03-27T11:59:38.316Z"
   },
   {
    "duration": 5,
    "start_time": "2024-03-27T11:59:38.322Z"
   },
   {
    "duration": 6,
    "start_time": "2024-03-27T11:59:38.366Z"
   },
   {
    "duration": 16,
    "start_time": "2024-03-27T11:59:38.374Z"
   },
   {
    "duration": 5,
    "start_time": "2024-03-27T11:59:38.391Z"
   },
   {
    "duration": 17,
    "start_time": "2024-03-27T11:59:38.398Z"
   },
   {
    "duration": 7,
    "start_time": "2024-03-27T11:59:38.417Z"
   },
   {
    "duration": 5,
    "start_time": "2024-03-27T11:59:38.426Z"
   },
   {
    "duration": 33,
    "start_time": "2024-03-27T11:59:38.432Z"
   },
   {
    "duration": 5,
    "start_time": "2024-03-27T11:59:38.466Z"
   },
   {
    "duration": 223,
    "start_time": "2024-03-27T11:59:38.473Z"
   },
   {
    "duration": 6,
    "start_time": "2024-03-27T11:59:38.697Z"
   },
   {
    "duration": 6,
    "start_time": "2024-03-27T11:59:38.706Z"
   },
   {
    "duration": 4,
    "start_time": "2024-03-27T11:59:38.713Z"
   },
   {
    "duration": 6,
    "start_time": "2024-03-27T11:59:38.718Z"
   },
   {
    "duration": 5,
    "start_time": "2024-03-27T11:59:38.725Z"
   },
   {
    "duration": 424,
    "start_time": "2024-03-27T11:59:38.732Z"
   },
   {
    "duration": 13,
    "start_time": "2024-03-27T11:59:39.157Z"
   },
   {
    "duration": 13,
    "start_time": "2024-03-27T11:59:39.171Z"
   },
   {
    "duration": 5,
    "start_time": "2024-03-27T11:59:39.185Z"
   },
   {
    "duration": 7,
    "start_time": "2024-03-27T11:59:39.192Z"
   },
   {
    "duration": 28,
    "start_time": "2024-03-27T11:59:39.200Z"
   },
   {
    "duration": 39,
    "start_time": "2024-03-27T11:59:39.230Z"
   },
   {
    "duration": 15,
    "start_time": "2024-03-27T11:59:39.270Z"
   },
   {
    "duration": 32,
    "start_time": "2024-03-27T11:59:39.287Z"
   },
   {
    "duration": 19,
    "start_time": "2024-03-27T11:59:39.320Z"
   },
   {
    "duration": 24,
    "start_time": "2024-03-27T11:59:39.365Z"
   },
   {
    "duration": 176,
    "start_time": "2024-03-27T11:59:39.391Z"
   },
   {
    "duration": 163,
    "start_time": "2024-03-27T11:59:39.568Z"
   },
   {
    "duration": 15,
    "start_time": "2024-03-27T11:59:39.733Z"
   },
   {
    "duration": 51,
    "start_time": "2024-03-27T11:59:39.749Z"
   },
   {
    "duration": 4,
    "start_time": "2024-03-27T11:59:39.802Z"
   },
   {
    "duration": 19,
    "start_time": "2024-03-27T11:59:39.807Z"
   },
   {
    "duration": 38,
    "start_time": "2024-03-27T11:59:39.827Z"
   },
   {
    "duration": 9,
    "start_time": "2024-03-27T11:59:39.866Z"
   },
   {
    "duration": 10,
    "start_time": "2024-03-27T12:02:00.893Z"
   },
   {
    "duration": 68,
    "start_time": "2024-03-27T12:02:20.787Z"
   },
   {
    "duration": 6,
    "start_time": "2024-03-27T12:02:20.857Z"
   },
   {
    "duration": 14,
    "start_time": "2024-03-27T12:02:20.865Z"
   },
   {
    "duration": 21,
    "start_time": "2024-03-27T12:02:20.881Z"
   },
   {
    "duration": 9,
    "start_time": "2024-03-27T12:02:20.903Z"
   },
   {
    "duration": 26,
    "start_time": "2024-03-27T12:02:20.914Z"
   },
   {
    "duration": 20,
    "start_time": "2024-03-27T12:02:20.943Z"
   },
   {
    "duration": 26,
    "start_time": "2024-03-27T12:02:20.965Z"
   },
   {
    "duration": 11,
    "start_time": "2024-03-27T12:02:20.993Z"
   },
   {
    "duration": 25,
    "start_time": "2024-03-27T12:02:21.007Z"
   },
   {
    "duration": 30,
    "start_time": "2024-03-27T12:02:21.034Z"
   },
   {
    "duration": 16,
    "start_time": "2024-03-27T12:02:21.066Z"
   },
   {
    "duration": 20,
    "start_time": "2024-03-27T12:02:21.084Z"
   },
   {
    "duration": 6,
    "start_time": "2024-03-27T12:02:21.106Z"
   },
   {
    "duration": 17,
    "start_time": "2024-03-27T12:02:21.113Z"
   },
   {
    "duration": 16,
    "start_time": "2024-03-27T12:02:21.131Z"
   },
   {
    "duration": 16,
    "start_time": "2024-03-27T12:02:21.149Z"
   },
   {
    "duration": 6,
    "start_time": "2024-03-27T12:02:21.166Z"
   },
   {
    "duration": 9,
    "start_time": "2024-03-27T12:02:21.173Z"
   },
   {
    "duration": 7,
    "start_time": "2024-03-27T12:02:21.184Z"
   },
   {
    "duration": 22,
    "start_time": "2024-03-27T12:02:21.192Z"
   },
   {
    "duration": 11,
    "start_time": "2024-03-27T12:02:21.215Z"
   },
   {
    "duration": 10,
    "start_time": "2024-03-27T12:02:21.228Z"
   },
   {
    "duration": 229,
    "start_time": "2024-03-27T12:02:21.239Z"
   },
   {
    "duration": 5,
    "start_time": "2024-03-27T12:02:21.470Z"
   },
   {
    "duration": 15,
    "start_time": "2024-03-27T12:02:21.477Z"
   },
   {
    "duration": 23,
    "start_time": "2024-03-27T12:02:21.495Z"
   },
   {
    "duration": 25,
    "start_time": "2024-03-27T12:02:21.520Z"
   },
   {
    "duration": 21,
    "start_time": "2024-03-27T12:02:21.546Z"
   },
   {
    "duration": 302,
    "start_time": "2024-03-27T12:02:21.569Z"
   },
   {
    "duration": 8,
    "start_time": "2024-03-27T12:02:21.873Z"
   },
   {
    "duration": 20,
    "start_time": "2024-03-27T12:02:21.883Z"
   },
   {
    "duration": 32,
    "start_time": "2024-03-27T12:02:21.905Z"
   },
   {
    "duration": 24,
    "start_time": "2024-03-27T12:02:21.939Z"
   },
   {
    "duration": 53,
    "start_time": "2024-03-27T12:02:21.965Z"
   },
   {
    "duration": 8,
    "start_time": "2024-03-27T12:02:22.020Z"
   },
   {
    "duration": 23,
    "start_time": "2024-03-27T12:02:22.029Z"
   },
   {
    "duration": 29,
    "start_time": "2024-03-27T12:02:22.054Z"
   },
   {
    "duration": 20,
    "start_time": "2024-03-27T12:02:22.085Z"
   },
   {
    "duration": 24,
    "start_time": "2024-03-27T12:02:22.107Z"
   },
   {
    "duration": 181,
    "start_time": "2024-03-27T12:02:22.133Z"
   },
   {
    "duration": 175,
    "start_time": "2024-03-27T12:02:22.316Z"
   },
   {
    "duration": 14,
    "start_time": "2024-03-27T12:02:22.493Z"
   },
   {
    "duration": 58,
    "start_time": "2024-03-27T12:02:22.509Z"
   },
   {
    "duration": 3,
    "start_time": "2024-03-27T12:02:22.569Z"
   },
   {
    "duration": 19,
    "start_time": "2024-03-27T12:02:22.573Z"
   },
   {
    "duration": 21,
    "start_time": "2024-03-27T12:02:22.594Z"
   },
   {
    "duration": 194,
    "start_time": "2024-03-27T12:02:22.616Z"
   },
   {
    "duration": 66,
    "start_time": "2024-03-27T12:05:03.879Z"
   },
   {
    "duration": 6,
    "start_time": "2024-03-27T12:05:03.946Z"
   },
   {
    "duration": 8,
    "start_time": "2024-03-27T12:05:03.953Z"
   },
   {
    "duration": 15,
    "start_time": "2024-03-27T12:05:03.963Z"
   },
   {
    "duration": 10,
    "start_time": "2024-03-27T12:05:03.979Z"
   },
   {
    "duration": 16,
    "start_time": "2024-03-27T12:05:03.990Z"
   },
   {
    "duration": 9,
    "start_time": "2024-03-27T12:05:04.007Z"
   },
   {
    "duration": 8,
    "start_time": "2024-03-27T12:05:04.017Z"
   },
   {
    "duration": 7,
    "start_time": "2024-03-27T12:05:04.027Z"
   },
   {
    "duration": 29,
    "start_time": "2024-03-27T12:05:04.037Z"
   },
   {
    "duration": 10,
    "start_time": "2024-03-27T12:05:04.068Z"
   },
   {
    "duration": 8,
    "start_time": "2024-03-27T12:05:04.080Z"
   },
   {
    "duration": 16,
    "start_time": "2024-03-27T12:05:04.089Z"
   },
   {
    "duration": 4,
    "start_time": "2024-03-27T12:05:04.107Z"
   },
   {
    "duration": 10,
    "start_time": "2024-03-27T12:05:04.113Z"
   },
   {
    "duration": 6,
    "start_time": "2024-03-27T12:05:04.124Z"
   },
   {
    "duration": 37,
    "start_time": "2024-03-27T12:05:04.132Z"
   },
   {
    "duration": 8,
    "start_time": "2024-03-27T12:05:04.170Z"
   },
   {
    "duration": 9,
    "start_time": "2024-03-27T12:05:04.179Z"
   },
   {
    "duration": 4,
    "start_time": "2024-03-27T12:05:04.189Z"
   },
   {
    "duration": 5,
    "start_time": "2024-03-27T12:05:04.195Z"
   },
   {
    "duration": 7,
    "start_time": "2024-03-27T12:05:04.202Z"
   },
   {
    "duration": 4,
    "start_time": "2024-03-27T12:05:04.211Z"
   },
   {
    "duration": 250,
    "start_time": "2024-03-27T12:05:04.218Z"
   },
   {
    "duration": 5,
    "start_time": "2024-03-27T12:05:04.469Z"
   },
   {
    "duration": 8,
    "start_time": "2024-03-27T12:05:04.475Z"
   },
   {
    "duration": 3,
    "start_time": "2024-03-27T12:05:04.485Z"
   },
   {
    "duration": 7,
    "start_time": "2024-03-27T12:05:04.489Z"
   },
   {
    "duration": 13,
    "start_time": "2024-03-27T12:05:04.497Z"
   },
   {
    "duration": 290,
    "start_time": "2024-03-27T12:05:04.511Z"
   },
   {
    "duration": 8,
    "start_time": "2024-03-27T12:05:04.802Z"
   },
   {
    "duration": 10,
    "start_time": "2024-03-27T12:05:04.811Z"
   },
   {
    "duration": 7,
    "start_time": "2024-03-27T12:05:04.822Z"
   },
   {
    "duration": 13,
    "start_time": "2024-03-27T12:05:04.831Z"
   },
   {
    "duration": 37,
    "start_time": "2024-03-27T12:05:04.846Z"
   },
   {
    "duration": 8,
    "start_time": "2024-03-27T12:05:04.884Z"
   },
   {
    "duration": 46,
    "start_time": "2024-03-27T12:05:04.893Z"
   },
   {
    "duration": 142,
    "start_time": "2024-03-27T12:05:04.941Z"
   },
   {
    "duration": 18,
    "start_time": "2024-03-27T12:05:05.084Z"
   },
   {
    "duration": 22,
    "start_time": "2024-03-27T12:05:05.103Z"
   },
   {
    "duration": 189,
    "start_time": "2024-03-27T12:05:05.127Z"
   },
   {
    "duration": 158,
    "start_time": "2024-03-27T12:05:05.319Z"
   },
   {
    "duration": 14,
    "start_time": "2024-03-27T12:05:05.478Z"
   },
   {
    "duration": 35,
    "start_time": "2024-03-27T12:05:05.493Z"
   },
   {
    "duration": 4,
    "start_time": "2024-03-27T12:05:05.529Z"
   },
   {
    "duration": 32,
    "start_time": "2024-03-27T12:05:05.534Z"
   },
   {
    "duration": 215,
    "start_time": "2024-03-27T12:05:05.567Z"
   },
   {
    "duration": 213,
    "start_time": "2024-03-27T12:05:56.746Z"
   },
   {
    "duration": 21,
    "start_time": "2024-03-27T12:06:19.514Z"
   },
   {
    "duration": 23,
    "start_time": "2024-03-27T12:07:53.181Z"
   },
   {
    "duration": 17,
    "start_time": "2024-03-27T12:24:42.881Z"
   },
   {
    "duration": 24,
    "start_time": "2024-03-27T12:25:10.497Z"
   },
   {
    "duration": 67,
    "start_time": "2024-03-27T12:27:05.325Z"
   },
   {
    "duration": 6,
    "start_time": "2024-03-27T12:27:05.394Z"
   },
   {
    "duration": 12,
    "start_time": "2024-03-27T12:27:05.402Z"
   },
   {
    "duration": 19,
    "start_time": "2024-03-27T12:27:05.416Z"
   },
   {
    "duration": 32,
    "start_time": "2024-03-27T12:27:05.437Z"
   },
   {
    "duration": 21,
    "start_time": "2024-03-27T12:27:05.471Z"
   },
   {
    "duration": 8,
    "start_time": "2024-03-27T12:27:05.494Z"
   },
   {
    "duration": 9,
    "start_time": "2024-03-27T12:27:05.504Z"
   },
   {
    "duration": 9,
    "start_time": "2024-03-27T12:27:05.514Z"
   },
   {
    "duration": 22,
    "start_time": "2024-03-27T12:27:05.525Z"
   },
   {
    "duration": 21,
    "start_time": "2024-03-27T12:27:05.564Z"
   },
   {
    "duration": 10,
    "start_time": "2024-03-27T12:27:05.587Z"
   },
   {
    "duration": 44,
    "start_time": "2024-03-27T12:27:05.599Z"
   },
   {
    "duration": 8,
    "start_time": "2024-03-27T12:27:05.645Z"
   },
   {
    "duration": 21,
    "start_time": "2024-03-27T12:27:05.655Z"
   },
   {
    "duration": 16,
    "start_time": "2024-03-27T12:27:05.677Z"
   },
   {
    "duration": 33,
    "start_time": "2024-03-27T12:27:05.694Z"
   },
   {
    "duration": 12,
    "start_time": "2024-03-27T12:27:05.728Z"
   },
   {
    "duration": 16,
    "start_time": "2024-03-27T12:27:05.741Z"
   },
   {
    "duration": 16,
    "start_time": "2024-03-27T12:27:05.759Z"
   },
   {
    "duration": 32,
    "start_time": "2024-03-27T12:27:05.777Z"
   },
   {
    "duration": 46,
    "start_time": "2024-03-27T12:27:05.811Z"
   },
   {
    "duration": 8,
    "start_time": "2024-03-27T12:27:05.858Z"
   },
   {
    "duration": 255,
    "start_time": "2024-03-27T12:27:05.867Z"
   },
   {
    "duration": 6,
    "start_time": "2024-03-27T12:27:06.123Z"
   },
   {
    "duration": 14,
    "start_time": "2024-03-27T12:27:06.131Z"
   },
   {
    "duration": 3,
    "start_time": "2024-03-27T12:27:06.147Z"
   },
   {
    "duration": 5,
    "start_time": "2024-03-27T12:27:06.164Z"
   },
   {
    "duration": 4,
    "start_time": "2024-03-27T12:27:06.170Z"
   },
   {
    "duration": 305,
    "start_time": "2024-03-27T12:27:06.175Z"
   },
   {
    "duration": 8,
    "start_time": "2024-03-27T12:27:06.482Z"
   },
   {
    "duration": 9,
    "start_time": "2024-03-27T12:27:06.491Z"
   },
   {
    "duration": 4,
    "start_time": "2024-03-27T12:27:06.501Z"
   },
   {
    "duration": 8,
    "start_time": "2024-03-27T12:27:06.507Z"
   },
   {
    "duration": 58,
    "start_time": "2024-03-27T12:27:06.516Z"
   },
   {
    "duration": 8,
    "start_time": "2024-03-27T12:27:06.575Z"
   },
   {
    "duration": 18,
    "start_time": "2024-03-27T12:27:06.584Z"
   },
   {
    "duration": 28,
    "start_time": "2024-03-27T12:27:06.604Z"
   },
   {
    "duration": 35,
    "start_time": "2024-03-27T12:27:06.633Z"
   },
   {
    "duration": 21,
    "start_time": "2024-03-27T12:27:06.670Z"
   },
   {
    "duration": 165,
    "start_time": "2024-03-27T12:27:06.692Z"
   },
   {
    "duration": 159,
    "start_time": "2024-03-27T12:27:06.858Z"
   },
   {
    "duration": 13,
    "start_time": "2024-03-27T12:27:07.019Z"
   },
   {
    "duration": 37,
    "start_time": "2024-03-27T12:27:07.033Z"
   },
   {
    "duration": 3,
    "start_time": "2024-03-27T12:27:07.072Z"
   },
   {
    "duration": 13,
    "start_time": "2024-03-27T12:27:07.076Z"
   },
   {
    "duration": 22,
    "start_time": "2024-03-27T12:27:07.090Z"
   },
   {
    "duration": 4,
    "start_time": "2024-03-27T12:28:00.250Z"
   },
   {
    "duration": 4,
    "start_time": "2024-03-27T12:28:07.622Z"
   },
   {
    "duration": 31,
    "start_time": "2024-03-27T12:28:33.771Z"
   },
   {
    "duration": 8,
    "start_time": "2024-03-27T12:33:28.482Z"
   },
   {
    "duration": 21,
    "start_time": "2024-03-27T12:33:47.526Z"
   },
   {
    "duration": 66,
    "start_time": "2024-03-27T12:36:29.740Z"
   },
   {
    "duration": 5,
    "start_time": "2024-03-27T12:36:29.809Z"
   },
   {
    "duration": 15,
    "start_time": "2024-03-27T12:36:29.816Z"
   },
   {
    "duration": 10,
    "start_time": "2024-03-27T12:36:29.833Z"
   },
   {
    "duration": 8,
    "start_time": "2024-03-27T12:36:29.845Z"
   },
   {
    "duration": 13,
    "start_time": "2024-03-27T12:36:29.855Z"
   },
   {
    "duration": 10,
    "start_time": "2024-03-27T12:36:29.869Z"
   },
   {
    "duration": 8,
    "start_time": "2024-03-27T12:36:29.880Z"
   },
   {
    "duration": 7,
    "start_time": "2024-03-27T12:36:29.890Z"
   },
   {
    "duration": 6,
    "start_time": "2024-03-27T12:36:29.899Z"
   },
   {
    "duration": 10,
    "start_time": "2024-03-27T12:36:29.906Z"
   },
   {
    "duration": 10,
    "start_time": "2024-03-27T12:36:29.917Z"
   },
   {
    "duration": 49,
    "start_time": "2024-03-27T12:36:29.928Z"
   },
   {
    "duration": 5,
    "start_time": "2024-03-27T12:36:29.979Z"
   },
   {
    "duration": 13,
    "start_time": "2024-03-27T12:36:29.986Z"
   },
   {
    "duration": 29,
    "start_time": "2024-03-27T12:36:30.000Z"
   },
   {
    "duration": 20,
    "start_time": "2024-03-27T12:36:30.031Z"
   },
   {
    "duration": 25,
    "start_time": "2024-03-27T12:36:30.053Z"
   },
   {
    "duration": 16,
    "start_time": "2024-03-27T12:36:30.080Z"
   },
   {
    "duration": 22,
    "start_time": "2024-03-27T12:36:30.098Z"
   },
   {
    "duration": 33,
    "start_time": "2024-03-27T12:36:30.122Z"
   },
   {
    "duration": 30,
    "start_time": "2024-03-27T12:36:30.157Z"
   },
   {
    "duration": 44,
    "start_time": "2024-03-27T12:36:30.188Z"
   },
   {
    "duration": 250,
    "start_time": "2024-03-27T12:36:30.233Z"
   },
   {
    "duration": 6,
    "start_time": "2024-03-27T12:36:30.487Z"
   },
   {
    "duration": 54,
    "start_time": "2024-03-27T12:36:30.494Z"
   },
   {
    "duration": 38,
    "start_time": "2024-03-27T12:36:30.550Z"
   },
   {
    "duration": 27,
    "start_time": "2024-03-27T12:36:30.590Z"
   },
   {
    "duration": 47,
    "start_time": "2024-03-27T12:36:30.619Z"
   },
   {
    "duration": 322,
    "start_time": "2024-03-27T12:36:30.667Z"
   },
   {
    "duration": 9,
    "start_time": "2024-03-27T12:36:30.990Z"
   },
   {
    "duration": 118,
    "start_time": "2024-03-27T12:36:31.000Z"
   },
   {
    "duration": 143,
    "start_time": "2024-03-27T12:36:31.120Z"
   },
   {
    "duration": 36,
    "start_time": "2024-03-27T12:36:31.264Z"
   },
   {
    "duration": 51,
    "start_time": "2024-03-27T12:36:31.301Z"
   },
   {
    "duration": 9,
    "start_time": "2024-03-27T12:36:31.354Z"
   },
   {
    "duration": 35,
    "start_time": "2024-03-27T12:36:31.365Z"
   },
   {
    "duration": 149,
    "start_time": "2024-03-27T12:36:31.402Z"
   },
   {
    "duration": 27,
    "start_time": "2024-03-27T12:36:31.553Z"
   },
   {
    "duration": 55,
    "start_time": "2024-03-27T12:36:31.582Z"
   },
   {
    "duration": 183,
    "start_time": "2024-03-27T12:36:31.639Z"
   },
   {
    "duration": 179,
    "start_time": "2024-03-27T12:36:31.824Z"
   },
   {
    "duration": 15,
    "start_time": "2024-03-27T12:36:32.005Z"
   },
   {
    "duration": 55,
    "start_time": "2024-03-27T12:36:32.022Z"
   },
   {
    "duration": 17,
    "start_time": "2024-03-27T12:36:32.079Z"
   },
   {
    "duration": 22,
    "start_time": "2024-03-27T12:36:32.097Z"
   },
   {
    "duration": 34,
    "start_time": "2024-03-27T12:36:32.121Z"
   },
   {
    "duration": 6,
    "start_time": "2024-03-27T12:37:01.686Z"
   },
   {
    "duration": 4,
    "start_time": "2024-03-27T12:38:54.720Z"
   },
   {
    "duration": 64,
    "start_time": "2024-03-27T12:40:02.107Z"
   },
   {
    "duration": 30,
    "start_time": "2024-03-27T12:40:02.173Z"
   },
   {
    "duration": 83,
    "start_time": "2024-03-27T12:40:02.205Z"
   },
   {
    "duration": 38,
    "start_time": "2024-03-27T12:40:02.291Z"
   },
   {
    "duration": 51,
    "start_time": "2024-03-27T12:40:02.330Z"
   },
   {
    "duration": 37,
    "start_time": "2024-03-27T12:40:02.383Z"
   },
   {
    "duration": 36,
    "start_time": "2024-03-27T12:40:02.422Z"
   },
   {
    "duration": 68,
    "start_time": "2024-03-27T12:40:02.460Z"
   },
   {
    "duration": 48,
    "start_time": "2024-03-27T12:40:02.530Z"
   },
   {
    "duration": 18,
    "start_time": "2024-03-27T12:40:02.582Z"
   },
   {
    "duration": 25,
    "start_time": "2024-03-27T12:40:02.602Z"
   },
   {
    "duration": 30,
    "start_time": "2024-03-27T12:40:02.629Z"
   },
   {
    "duration": 30,
    "start_time": "2024-03-27T12:40:02.660Z"
   },
   {
    "duration": 11,
    "start_time": "2024-03-27T12:40:02.692Z"
   },
   {
    "duration": 16,
    "start_time": "2024-03-27T12:40:02.704Z"
   },
   {
    "duration": 26,
    "start_time": "2024-03-27T12:40:02.722Z"
   },
   {
    "duration": 28,
    "start_time": "2024-03-27T12:40:02.750Z"
   },
   {
    "duration": 15,
    "start_time": "2024-03-27T12:40:02.780Z"
   },
   {
    "duration": 21,
    "start_time": "2024-03-27T12:40:02.796Z"
   },
   {
    "duration": 18,
    "start_time": "2024-03-27T12:40:02.818Z"
   },
   {
    "duration": 28,
    "start_time": "2024-03-27T12:40:02.837Z"
   },
   {
    "duration": 27,
    "start_time": "2024-03-27T12:40:02.867Z"
   },
   {
    "duration": 17,
    "start_time": "2024-03-27T12:40:02.895Z"
   },
   {
    "duration": 219,
    "start_time": "2024-03-27T12:40:02.914Z"
   },
   {
    "duration": 5,
    "start_time": "2024-03-27T12:40:03.134Z"
   },
   {
    "duration": 38,
    "start_time": "2024-03-27T12:40:03.141Z"
   },
   {
    "duration": 32,
    "start_time": "2024-03-27T12:40:03.181Z"
   },
   {
    "duration": 51,
    "start_time": "2024-03-27T12:40:03.216Z"
   },
   {
    "duration": 35,
    "start_time": "2024-03-27T12:40:03.268Z"
   },
   {
    "duration": 325,
    "start_time": "2024-03-27T12:40:03.305Z"
   },
   {
    "duration": 9,
    "start_time": "2024-03-27T12:40:03.631Z"
   },
   {
    "duration": 26,
    "start_time": "2024-03-27T12:40:03.641Z"
   },
   {
    "duration": 36,
    "start_time": "2024-03-27T12:40:03.669Z"
   },
   {
    "duration": 33,
    "start_time": "2024-03-27T12:40:03.707Z"
   },
   {
    "duration": 60,
    "start_time": "2024-03-27T12:40:03.742Z"
   },
   {
    "duration": 10,
    "start_time": "2024-03-27T12:40:03.804Z"
   },
   {
    "duration": 22,
    "start_time": "2024-03-27T12:40:03.816Z"
   },
   {
    "duration": 44,
    "start_time": "2024-03-27T12:40:03.839Z"
   },
   {
    "duration": 20,
    "start_time": "2024-03-27T12:40:03.885Z"
   },
   {
    "duration": 38,
    "start_time": "2024-03-27T12:40:03.906Z"
   },
   {
    "duration": 171,
    "start_time": "2024-03-27T12:40:03.945Z"
   },
   {
    "duration": 174,
    "start_time": "2024-03-27T12:40:04.118Z"
   },
   {
    "duration": 14,
    "start_time": "2024-03-27T12:40:04.294Z"
   },
   {
    "duration": 46,
    "start_time": "2024-03-27T12:40:04.310Z"
   },
   {
    "duration": 9,
    "start_time": "2024-03-27T12:40:04.358Z"
   },
   {
    "duration": 39,
    "start_time": "2024-03-27T12:40:04.369Z"
   },
   {
    "duration": 21,
    "start_time": "2024-03-27T12:40:04.409Z"
   },
   {
    "duration": 50,
    "start_time": "2024-03-27T12:40:04.432Z"
   },
   {
    "duration": 25,
    "start_time": "2024-03-27T12:43:30.446Z"
   },
   {
    "duration": 65,
    "start_time": "2024-03-27T12:44:14.606Z"
   },
   {
    "duration": 18,
    "start_time": "2024-03-27T12:44:20.971Z"
   },
   {
    "duration": 25,
    "start_time": "2024-03-27T12:45:04.933Z"
   },
   {
    "duration": 67,
    "start_time": "2024-03-27T12:45:51.163Z"
   },
   {
    "duration": 6,
    "start_time": "2024-03-27T12:45:51.232Z"
   },
   {
    "duration": 17,
    "start_time": "2024-03-27T12:45:51.239Z"
   },
   {
    "duration": 30,
    "start_time": "2024-03-27T12:45:51.258Z"
   },
   {
    "duration": 9,
    "start_time": "2024-03-27T12:45:51.290Z"
   },
   {
    "duration": 17,
    "start_time": "2024-03-27T12:45:51.300Z"
   },
   {
    "duration": 8,
    "start_time": "2024-03-27T12:45:51.318Z"
   },
   {
    "duration": 7,
    "start_time": "2024-03-27T12:45:51.328Z"
   },
   {
    "duration": 7,
    "start_time": "2024-03-27T12:45:51.337Z"
   },
   {
    "duration": 21,
    "start_time": "2024-03-27T12:45:51.346Z"
   },
   {
    "duration": 20,
    "start_time": "2024-03-27T12:45:51.369Z"
   },
   {
    "duration": 11,
    "start_time": "2024-03-27T12:45:51.390Z"
   },
   {
    "duration": 17,
    "start_time": "2024-03-27T12:45:51.403Z"
   },
   {
    "duration": 4,
    "start_time": "2024-03-27T12:45:51.421Z"
   },
   {
    "duration": 7,
    "start_time": "2024-03-27T12:45:51.427Z"
   },
   {
    "duration": 29,
    "start_time": "2024-03-27T12:45:51.436Z"
   },
   {
    "duration": 16,
    "start_time": "2024-03-27T12:45:51.467Z"
   },
   {
    "duration": 6,
    "start_time": "2024-03-27T12:45:51.485Z"
   },
   {
    "duration": 9,
    "start_time": "2024-03-27T12:45:51.493Z"
   },
   {
    "duration": 4,
    "start_time": "2024-03-27T12:45:51.504Z"
   },
   {
    "duration": 10,
    "start_time": "2024-03-27T12:45:51.510Z"
   },
   {
    "duration": 13,
    "start_time": "2024-03-27T12:45:51.521Z"
   },
   {
    "duration": 29,
    "start_time": "2024-03-27T12:45:51.536Z"
   },
   {
    "duration": 257,
    "start_time": "2024-03-27T12:45:51.567Z"
   },
   {
    "duration": 5,
    "start_time": "2024-03-27T12:45:51.829Z"
   },
   {
    "duration": 31,
    "start_time": "2024-03-27T12:45:51.836Z"
   },
   {
    "duration": 16,
    "start_time": "2024-03-27T12:45:51.869Z"
   },
   {
    "duration": 7,
    "start_time": "2024-03-27T12:45:51.887Z"
   },
   {
    "duration": 8,
    "start_time": "2024-03-27T12:45:51.896Z"
   },
   {
    "duration": 295,
    "start_time": "2024-03-27T12:45:51.906Z"
   },
   {
    "duration": 8,
    "start_time": "2024-03-27T12:45:52.203Z"
   },
   {
    "duration": 9,
    "start_time": "2024-03-27T12:45:52.213Z"
   },
   {
    "duration": 8,
    "start_time": "2024-03-27T12:45:52.224Z"
   },
   {
    "duration": 34,
    "start_time": "2024-03-27T12:45:52.234Z"
   },
   {
    "duration": 30,
    "start_time": "2024-03-27T12:45:52.269Z"
   },
   {
    "duration": 9,
    "start_time": "2024-03-27T12:45:52.301Z"
   },
   {
    "duration": 16,
    "start_time": "2024-03-27T12:45:52.312Z"
   },
   {
    "duration": 62,
    "start_time": "2024-03-27T12:45:52.330Z"
   },
   {
    "duration": 18,
    "start_time": "2024-03-27T12:45:52.395Z"
   },
   {
    "duration": 20,
    "start_time": "2024-03-27T12:45:52.415Z"
   },
   {
    "duration": 190,
    "start_time": "2024-03-27T12:45:52.436Z"
   },
   {
    "duration": 281,
    "start_time": "2024-03-27T12:45:52.628Z"
   },
   {
    "duration": 15,
    "start_time": "2024-03-27T12:45:52.910Z"
   },
   {
    "duration": 45,
    "start_time": "2024-03-27T12:45:52.926Z"
   },
   {
    "duration": 4,
    "start_time": "2024-03-27T12:45:52.973Z"
   },
   {
    "duration": 29,
    "start_time": "2024-03-27T12:45:52.978Z"
   },
   {
    "duration": 6,
    "start_time": "2024-03-27T12:45:53.008Z"
   },
   {
    "duration": 10,
    "start_time": "2024-03-27T12:45:53.016Z"
   },
   {
    "duration": 68,
    "start_time": "2024-03-27T12:46:17.891Z"
   },
   {
    "duration": 6,
    "start_time": "2024-03-27T12:46:17.961Z"
   },
   {
    "duration": 7,
    "start_time": "2024-03-27T12:46:17.969Z"
   },
   {
    "duration": 7,
    "start_time": "2024-03-27T12:46:17.978Z"
   },
   {
    "duration": 7,
    "start_time": "2024-03-27T12:46:17.987Z"
   },
   {
    "duration": 16,
    "start_time": "2024-03-27T12:46:17.996Z"
   },
   {
    "duration": 20,
    "start_time": "2024-03-27T12:46:18.014Z"
   },
   {
    "duration": 8,
    "start_time": "2024-03-27T12:46:18.035Z"
   },
   {
    "duration": 22,
    "start_time": "2024-03-27T12:46:18.044Z"
   },
   {
    "duration": 7,
    "start_time": "2024-03-27T12:46:18.068Z"
   },
   {
    "duration": 15,
    "start_time": "2024-03-27T12:46:18.077Z"
   },
   {
    "duration": 13,
    "start_time": "2024-03-27T12:46:18.093Z"
   },
   {
    "duration": 37,
    "start_time": "2024-03-27T12:46:18.108Z"
   },
   {
    "duration": 4,
    "start_time": "2024-03-27T12:46:18.147Z"
   },
   {
    "duration": 10,
    "start_time": "2024-03-27T12:46:18.152Z"
   },
   {
    "duration": 8,
    "start_time": "2024-03-27T12:46:18.165Z"
   },
   {
    "duration": 5,
    "start_time": "2024-03-27T12:46:18.175Z"
   },
   {
    "duration": 5,
    "start_time": "2024-03-27T12:46:18.182Z"
   },
   {
    "duration": 12,
    "start_time": "2024-03-27T12:46:18.188Z"
   },
   {
    "duration": 4,
    "start_time": "2024-03-27T12:46:18.201Z"
   },
   {
    "duration": 5,
    "start_time": "2024-03-27T12:46:18.206Z"
   },
   {
    "duration": 7,
    "start_time": "2024-03-27T12:46:18.213Z"
   },
   {
    "duration": 4,
    "start_time": "2024-03-27T12:46:18.221Z"
   },
   {
    "duration": 245,
    "start_time": "2024-03-27T12:46:18.227Z"
   },
   {
    "duration": 5,
    "start_time": "2024-03-27T12:46:18.474Z"
   },
   {
    "duration": 9,
    "start_time": "2024-03-27T12:46:18.481Z"
   },
   {
    "duration": 6,
    "start_time": "2024-03-27T12:46:18.491Z"
   },
   {
    "duration": 5,
    "start_time": "2024-03-27T12:46:18.501Z"
   },
   {
    "duration": 8,
    "start_time": "2024-03-27T12:46:18.507Z"
   },
   {
    "duration": 305,
    "start_time": "2024-03-27T12:46:18.516Z"
   },
   {
    "duration": 8,
    "start_time": "2024-03-27T12:46:18.822Z"
   },
   {
    "duration": 20,
    "start_time": "2024-03-27T12:46:18.831Z"
   },
   {
    "duration": 13,
    "start_time": "2024-03-27T12:46:18.853Z"
   },
   {
    "duration": 19,
    "start_time": "2024-03-27T12:46:18.868Z"
   },
   {
    "duration": 47,
    "start_time": "2024-03-27T12:46:18.888Z"
   },
   {
    "duration": 10,
    "start_time": "2024-03-27T12:46:18.936Z"
   },
   {
    "duration": 29,
    "start_time": "2024-03-27T12:46:18.948Z"
   },
   {
    "duration": 42,
    "start_time": "2024-03-27T12:46:18.978Z"
   },
   {
    "duration": 21,
    "start_time": "2024-03-27T12:46:19.022Z"
   },
   {
    "duration": 40,
    "start_time": "2024-03-27T12:46:19.045Z"
   },
   {
    "duration": 200,
    "start_time": "2024-03-27T12:46:19.087Z"
   },
   {
    "duration": 167,
    "start_time": "2024-03-27T12:46:19.289Z"
   },
   {
    "duration": 21,
    "start_time": "2024-03-27T12:46:19.457Z"
   },
   {
    "duration": 32,
    "start_time": "2024-03-27T12:46:19.480Z"
   },
   {
    "duration": 4,
    "start_time": "2024-03-27T12:46:19.514Z"
   },
   {
    "duration": 21,
    "start_time": "2024-03-27T12:46:19.519Z"
   },
   {
    "duration": 37,
    "start_time": "2024-03-27T12:46:19.541Z"
   },
   {
    "duration": 3,
    "start_time": "2024-03-27T12:46:19.580Z"
   },
   {
    "duration": 12,
    "start_time": "2024-03-27T12:57:57.591Z"
   },
   {
    "duration": 770,
    "start_time": "2024-03-27T12:58:13.764Z"
   },
   {
    "duration": 16,
    "start_time": "2024-03-27T12:58:28.402Z"
   },
   {
    "duration": 66,
    "start_time": "2024-03-27T12:58:39.251Z"
   },
   {
    "duration": 5,
    "start_time": "2024-03-27T12:58:39.319Z"
   },
   {
    "duration": 22,
    "start_time": "2024-03-27T12:58:39.326Z"
   },
   {
    "duration": 9,
    "start_time": "2024-03-27T12:58:39.351Z"
   },
   {
    "duration": 14,
    "start_time": "2024-03-27T12:58:39.362Z"
   },
   {
    "duration": 17,
    "start_time": "2024-03-27T12:58:39.378Z"
   },
   {
    "duration": 12,
    "start_time": "2024-03-27T12:58:39.397Z"
   },
   {
    "duration": 19,
    "start_time": "2024-03-27T12:58:39.411Z"
   },
   {
    "duration": 8,
    "start_time": "2024-03-27T12:58:39.431Z"
   },
   {
    "duration": 12,
    "start_time": "2024-03-27T12:58:39.441Z"
   },
   {
    "duration": 28,
    "start_time": "2024-03-27T12:58:39.464Z"
   },
   {
    "duration": 17,
    "start_time": "2024-03-27T12:58:39.494Z"
   },
   {
    "duration": 25,
    "start_time": "2024-03-27T12:58:39.512Z"
   },
   {
    "duration": 5,
    "start_time": "2024-03-27T12:58:39.539Z"
   },
   {
    "duration": 16,
    "start_time": "2024-03-27T12:58:39.546Z"
   },
   {
    "duration": 8,
    "start_time": "2024-03-27T12:58:39.564Z"
   },
   {
    "duration": 6,
    "start_time": "2024-03-27T12:58:39.573Z"
   },
   {
    "duration": 5,
    "start_time": "2024-03-27T12:58:39.581Z"
   },
   {
    "duration": 14,
    "start_time": "2024-03-27T12:58:39.587Z"
   },
   {
    "duration": 5,
    "start_time": "2024-03-27T12:58:39.603Z"
   },
   {
    "duration": 13,
    "start_time": "2024-03-27T12:58:39.609Z"
   },
   {
    "duration": 16,
    "start_time": "2024-03-27T12:58:39.623Z"
   },
   {
    "duration": 4,
    "start_time": "2024-03-27T12:58:39.641Z"
   },
   {
    "duration": 238,
    "start_time": "2024-03-27T12:58:39.647Z"
   },
   {
    "duration": 5,
    "start_time": "2024-03-27T12:58:39.886Z"
   },
   {
    "duration": 7,
    "start_time": "2024-03-27T12:58:39.893Z"
   },
   {
    "duration": 4,
    "start_time": "2024-03-27T12:58:39.901Z"
   },
   {
    "duration": 5,
    "start_time": "2024-03-27T12:58:39.908Z"
   },
   {
    "duration": 4,
    "start_time": "2024-03-27T12:58:39.914Z"
   },
   {
    "duration": 313,
    "start_time": "2024-03-27T12:58:39.920Z"
   },
   {
    "duration": 7,
    "start_time": "2024-03-27T12:58:40.234Z"
   },
   {
    "duration": 23,
    "start_time": "2024-03-27T12:58:40.243Z"
   },
   {
    "duration": 6,
    "start_time": "2024-03-27T12:58:40.267Z"
   },
   {
    "duration": 9,
    "start_time": "2024-03-27T12:58:40.275Z"
   },
   {
    "duration": 28,
    "start_time": "2024-03-27T12:58:40.286Z"
   },
   {
    "duration": 8,
    "start_time": "2024-03-27T12:58:40.316Z"
   },
   {
    "duration": 45,
    "start_time": "2024-03-27T12:58:40.326Z"
   },
   {
    "duration": 30,
    "start_time": "2024-03-27T12:58:40.373Z"
   },
   {
    "duration": 19,
    "start_time": "2024-03-27T12:58:40.405Z"
   },
   {
    "duration": 45,
    "start_time": "2024-03-27T12:58:40.426Z"
   },
   {
    "duration": 169,
    "start_time": "2024-03-27T12:58:40.472Z"
   },
   {
    "duration": 180,
    "start_time": "2024-03-27T12:58:40.642Z"
   },
   {
    "duration": 15,
    "start_time": "2024-03-27T12:58:40.824Z"
   },
   {
    "duration": 42,
    "start_time": "2024-03-27T12:58:40.841Z"
   },
   {
    "duration": 3,
    "start_time": "2024-03-27T12:58:40.885Z"
   },
   {
    "duration": 37,
    "start_time": "2024-03-27T12:58:40.889Z"
   },
   {
    "duration": 16,
    "start_time": "2024-03-27T12:58:40.927Z"
   },
   {
    "duration": 3,
    "start_time": "2024-03-27T12:58:40.945Z"
   },
   {
    "duration": 66,
    "start_time": "2024-03-27T12:59:00.919Z"
   },
   {
    "duration": 5,
    "start_time": "2024-03-27T12:59:00.987Z"
   },
   {
    "duration": 49,
    "start_time": "2024-03-27T12:59:00.994Z"
   },
   {
    "duration": 75,
    "start_time": "2024-03-27T12:59:01.045Z"
   },
   {
    "duration": 54,
    "start_time": "2024-03-27T12:59:01.121Z"
   },
   {
    "duration": 51,
    "start_time": "2024-03-27T12:59:01.176Z"
   },
   {
    "duration": 35,
    "start_time": "2024-03-27T12:59:01.229Z"
   },
   {
    "duration": 43,
    "start_time": "2024-03-27T12:59:01.266Z"
   },
   {
    "duration": 43,
    "start_time": "2024-03-27T12:59:01.311Z"
   },
   {
    "duration": 51,
    "start_time": "2024-03-27T12:59:01.357Z"
   },
   {
    "duration": 46,
    "start_time": "2024-03-27T12:59:01.410Z"
   },
   {
    "duration": 30,
    "start_time": "2024-03-27T12:59:01.457Z"
   },
   {
    "duration": 45,
    "start_time": "2024-03-27T12:59:01.489Z"
   },
   {
    "duration": 44,
    "start_time": "2024-03-27T12:59:01.536Z"
   },
   {
    "duration": 56,
    "start_time": "2024-03-27T12:59:01.581Z"
   },
   {
    "duration": 34,
    "start_time": "2024-03-27T12:59:01.638Z"
   },
   {
    "duration": 51,
    "start_time": "2024-03-27T12:59:01.674Z"
   },
   {
    "duration": 48,
    "start_time": "2024-03-27T12:59:01.727Z"
   },
   {
    "duration": 49,
    "start_time": "2024-03-27T12:59:01.777Z"
   },
   {
    "duration": 55,
    "start_time": "2024-03-27T12:59:01.828Z"
   },
   {
    "duration": 37,
    "start_time": "2024-03-27T12:59:01.885Z"
   },
   {
    "duration": 64,
    "start_time": "2024-03-27T12:59:01.924Z"
   },
   {
    "duration": 33,
    "start_time": "2024-03-27T12:59:01.989Z"
   },
   {
    "duration": 255,
    "start_time": "2024-03-27T12:59:02.024Z"
   },
   {
    "duration": 6,
    "start_time": "2024-03-27T12:59:02.280Z"
   },
   {
    "duration": 32,
    "start_time": "2024-03-27T12:59:02.288Z"
   },
   {
    "duration": 28,
    "start_time": "2024-03-27T12:59:02.322Z"
   },
   {
    "duration": 16,
    "start_time": "2024-03-27T12:59:02.354Z"
   },
   {
    "duration": 20,
    "start_time": "2024-03-27T12:59:02.372Z"
   },
   {
    "duration": 434,
    "start_time": "2024-03-27T12:59:02.394Z"
   },
   {
    "duration": 7,
    "start_time": "2024-03-27T12:59:02.830Z"
   },
   {
    "duration": 10,
    "start_time": "2024-03-27T12:59:02.839Z"
   },
   {
    "duration": 4,
    "start_time": "2024-03-27T12:59:02.865Z"
   },
   {
    "duration": 10,
    "start_time": "2024-03-27T12:59:02.870Z"
   },
   {
    "duration": 38,
    "start_time": "2024-03-27T12:59:02.881Z"
   },
   {
    "duration": 9,
    "start_time": "2024-03-27T12:59:02.920Z"
   },
   {
    "duration": 21,
    "start_time": "2024-03-27T12:59:02.930Z"
   },
   {
    "duration": 39,
    "start_time": "2024-03-27T12:59:02.953Z"
   },
   {
    "duration": 17,
    "start_time": "2024-03-27T12:59:02.993Z"
   },
   {
    "duration": 21,
    "start_time": "2024-03-27T12:59:03.011Z"
   },
   {
    "duration": 179,
    "start_time": "2024-03-27T12:59:03.033Z"
   },
   {
    "duration": 160,
    "start_time": "2024-03-27T12:59:03.214Z"
   },
   {
    "duration": 13,
    "start_time": "2024-03-27T12:59:03.376Z"
   },
   {
    "duration": 37,
    "start_time": "2024-03-27T12:59:03.390Z"
   },
   {
    "duration": 4,
    "start_time": "2024-03-27T12:59:03.428Z"
   },
   {
    "duration": 32,
    "start_time": "2024-03-27T12:59:03.433Z"
   },
   {
    "duration": 16,
    "start_time": "2024-03-27T12:59:03.466Z"
   },
   {
    "duration": 3,
    "start_time": "2024-03-27T12:59:03.484Z"
   },
   {
    "duration": 17,
    "start_time": "2024-03-27T13:07:44.390Z"
   },
   {
    "duration": 66,
    "start_time": "2024-03-27T13:07:58.418Z"
   },
   {
    "duration": 5,
    "start_time": "2024-03-27T13:07:58.486Z"
   },
   {
    "duration": 5,
    "start_time": "2024-03-27T13:07:58.492Z"
   },
   {
    "duration": 8,
    "start_time": "2024-03-27T13:07:58.499Z"
   },
   {
    "duration": 8,
    "start_time": "2024-03-27T13:07:58.509Z"
   },
   {
    "duration": 15,
    "start_time": "2024-03-27T13:07:58.518Z"
   },
   {
    "duration": 31,
    "start_time": "2024-03-27T13:07:58.534Z"
   },
   {
    "duration": 9,
    "start_time": "2024-03-27T13:07:58.567Z"
   },
   {
    "duration": 8,
    "start_time": "2024-03-27T13:07:58.577Z"
   },
   {
    "duration": 14,
    "start_time": "2024-03-27T13:07:58.587Z"
   },
   {
    "duration": 16,
    "start_time": "2024-03-27T13:07:58.603Z"
   },
   {
    "duration": 7,
    "start_time": "2024-03-27T13:07:58.621Z"
   },
   {
    "duration": 41,
    "start_time": "2024-03-27T13:07:58.629Z"
   },
   {
    "duration": 4,
    "start_time": "2024-03-27T13:07:58.672Z"
   },
   {
    "duration": 8,
    "start_time": "2024-03-27T13:07:58.677Z"
   },
   {
    "duration": 9,
    "start_time": "2024-03-27T13:07:58.687Z"
   },
   {
    "duration": 5,
    "start_time": "2024-03-27T13:07:58.698Z"
   },
   {
    "duration": 5,
    "start_time": "2024-03-27T13:07:58.704Z"
   },
   {
    "duration": 9,
    "start_time": "2024-03-27T13:07:58.710Z"
   },
   {
    "duration": 6,
    "start_time": "2024-03-27T13:07:58.720Z"
   },
   {
    "duration": 39,
    "start_time": "2024-03-27T13:07:58.727Z"
   },
   {
    "duration": 8,
    "start_time": "2024-03-27T13:07:58.767Z"
   },
   {
    "duration": 4,
    "start_time": "2024-03-27T13:07:58.777Z"
   },
   {
    "duration": 250,
    "start_time": "2024-03-27T13:07:58.783Z"
   },
   {
    "duration": 5,
    "start_time": "2024-03-27T13:07:59.035Z"
   },
   {
    "duration": 25,
    "start_time": "2024-03-27T13:07:59.042Z"
   },
   {
    "duration": 4,
    "start_time": "2024-03-27T13:07:59.069Z"
   },
   {
    "duration": 9,
    "start_time": "2024-03-27T13:07:59.076Z"
   },
   {
    "duration": 7,
    "start_time": "2024-03-27T13:07:59.087Z"
   },
   {
    "duration": 304,
    "start_time": "2024-03-27T13:07:59.096Z"
   },
   {
    "duration": 8,
    "start_time": "2024-03-27T13:07:59.401Z"
   },
   {
    "duration": 15,
    "start_time": "2024-03-27T13:07:59.410Z"
   },
   {
    "duration": 8,
    "start_time": "2024-03-27T13:07:59.426Z"
   },
   {
    "duration": 25,
    "start_time": "2024-03-27T13:07:59.435Z"
   },
   {
    "duration": 31,
    "start_time": "2024-03-27T13:07:59.461Z"
   },
   {
    "duration": 7,
    "start_time": "2024-03-27T13:07:59.493Z"
   },
   {
    "duration": 15,
    "start_time": "2024-03-27T13:07:59.501Z"
   },
   {
    "duration": 52,
    "start_time": "2024-03-27T13:07:59.517Z"
   },
   {
    "duration": 28,
    "start_time": "2024-03-27T13:07:59.570Z"
   },
   {
    "duration": 21,
    "start_time": "2024-03-27T13:07:59.600Z"
   },
   {
    "duration": 186,
    "start_time": "2024-03-27T13:07:59.622Z"
   },
   {
    "duration": 172,
    "start_time": "2024-03-27T13:07:59.809Z"
   },
   {
    "duration": 14,
    "start_time": "2024-03-27T13:07:59.983Z"
   },
   {
    "duration": 42,
    "start_time": "2024-03-27T13:07:59.998Z"
   },
   {
    "duration": 9,
    "start_time": "2024-03-27T13:08:00.041Z"
   },
   {
    "duration": 44,
    "start_time": "2024-03-27T13:08:00.052Z"
   },
   {
    "duration": 48,
    "start_time": "2024-03-27T13:08:00.098Z"
   },
   {
    "duration": 31,
    "start_time": "2024-03-27T14:44:41.300Z"
   },
   {
    "duration": 69,
    "start_time": "2024-03-27T14:44:49.494Z"
   },
   {
    "duration": 15,
    "start_time": "2024-03-27T14:44:49.565Z"
   },
   {
    "duration": 0,
    "start_time": "2024-03-27T14:44:49.581Z"
   },
   {
    "duration": 0,
    "start_time": "2024-03-27T14:44:49.582Z"
   },
   {
    "duration": 0,
    "start_time": "2024-03-27T14:44:49.583Z"
   },
   {
    "duration": 0,
    "start_time": "2024-03-27T14:44:49.584Z"
   },
   {
    "duration": 0,
    "start_time": "2024-03-27T14:44:49.585Z"
   },
   {
    "duration": 0,
    "start_time": "2024-03-27T14:44:49.586Z"
   },
   {
    "duration": 0,
    "start_time": "2024-03-27T14:44:49.587Z"
   },
   {
    "duration": 0,
    "start_time": "2024-03-27T14:44:49.588Z"
   },
   {
    "duration": 0,
    "start_time": "2024-03-27T14:44:49.589Z"
   },
   {
    "duration": 0,
    "start_time": "2024-03-27T14:44:49.590Z"
   },
   {
    "duration": 0,
    "start_time": "2024-03-27T14:44:49.591Z"
   },
   {
    "duration": 13,
    "start_time": "2024-03-27T14:44:49.592Z"
   },
   {
    "duration": 0,
    "start_time": "2024-03-27T14:44:49.607Z"
   },
   {
    "duration": 0,
    "start_time": "2024-03-27T14:44:49.608Z"
   },
   {
    "duration": 58,
    "start_time": "2024-03-27T14:44:49.610Z"
   },
   {
    "duration": 7,
    "start_time": "2024-03-27T14:44:49.670Z"
   },
   {
    "duration": 7,
    "start_time": "2024-03-27T14:44:49.679Z"
   },
   {
    "duration": 4,
    "start_time": "2024-03-27T14:44:49.688Z"
   },
   {
    "duration": 5,
    "start_time": "2024-03-27T14:44:49.693Z"
   },
   {
    "duration": 8,
    "start_time": "2024-03-27T14:44:49.700Z"
   },
   {
    "duration": 4,
    "start_time": "2024-03-27T14:44:49.709Z"
   },
   {
    "duration": 260,
    "start_time": "2024-03-27T14:44:49.715Z"
   },
   {
    "duration": 5,
    "start_time": "2024-03-27T14:44:49.977Z"
   },
   {
    "duration": 7,
    "start_time": "2024-03-27T14:44:49.984Z"
   },
   {
    "duration": 5,
    "start_time": "2024-03-27T14:44:49.992Z"
   },
   {
    "duration": 20,
    "start_time": "2024-03-27T14:44:49.999Z"
   },
   {
    "duration": 24,
    "start_time": "2024-03-27T14:44:50.021Z"
   },
   {
    "duration": 265,
    "start_time": "2024-03-27T14:44:50.046Z"
   },
   {
    "duration": 8,
    "start_time": "2024-03-27T14:44:50.312Z"
   },
   {
    "duration": 9,
    "start_time": "2024-03-27T14:44:50.321Z"
   },
   {
    "duration": 11,
    "start_time": "2024-03-27T14:44:50.331Z"
   },
   {
    "duration": 21,
    "start_time": "2024-03-27T14:44:50.344Z"
   },
   {
    "duration": 27,
    "start_time": "2024-03-27T14:44:50.366Z"
   },
   {
    "duration": 8,
    "start_time": "2024-03-27T14:44:50.394Z"
   },
   {
    "duration": 19,
    "start_time": "2024-03-27T14:44:50.404Z"
   },
   {
    "duration": 45,
    "start_time": "2024-03-27T14:44:50.424Z"
   },
   {
    "duration": 17,
    "start_time": "2024-03-27T14:44:50.471Z"
   },
   {
    "duration": 18,
    "start_time": "2024-03-27T14:44:50.490Z"
   },
   {
    "duration": 180,
    "start_time": "2024-03-27T14:44:50.509Z"
   },
   {
    "duration": 171,
    "start_time": "2024-03-27T14:44:50.690Z"
   },
   {
    "duration": 13,
    "start_time": "2024-03-27T14:44:50.864Z"
   },
   {
    "duration": 39,
    "start_time": "2024-03-27T14:44:50.881Z"
   },
   {
    "duration": 3,
    "start_time": "2024-03-27T14:44:50.922Z"
   },
   {
    "duration": 16,
    "start_time": "2024-03-27T14:44:50.927Z"
   },
   {
    "duration": 0,
    "start_time": "2024-03-27T14:44:50.944Z"
   },
   {
    "duration": 67,
    "start_time": "2024-03-27T14:45:54.006Z"
   },
   {
    "duration": 12,
    "start_time": "2024-03-27T14:45:54.075Z"
   },
   {
    "duration": 0,
    "start_time": "2024-03-27T14:45:54.088Z"
   },
   {
    "duration": 0,
    "start_time": "2024-03-27T14:45:54.089Z"
   },
   {
    "duration": 0,
    "start_time": "2024-03-27T14:45:54.090Z"
   },
   {
    "duration": 0,
    "start_time": "2024-03-27T14:45:54.092Z"
   },
   {
    "duration": 0,
    "start_time": "2024-03-27T14:45:54.093Z"
   },
   {
    "duration": 0,
    "start_time": "2024-03-27T14:45:54.094Z"
   },
   {
    "duration": 0,
    "start_time": "2024-03-27T14:45:54.095Z"
   },
   {
    "duration": 0,
    "start_time": "2024-03-27T14:45:54.096Z"
   },
   {
    "duration": 0,
    "start_time": "2024-03-27T14:45:54.097Z"
   },
   {
    "duration": 0,
    "start_time": "2024-03-27T14:45:54.098Z"
   },
   {
    "duration": 0,
    "start_time": "2024-03-27T14:45:54.099Z"
   },
   {
    "duration": 10,
    "start_time": "2024-03-27T14:45:54.101Z"
   },
   {
    "duration": 0,
    "start_time": "2024-03-27T14:45:54.112Z"
   },
   {
    "duration": 0,
    "start_time": "2024-03-27T14:45:54.113Z"
   },
   {
    "duration": 0,
    "start_time": "2024-03-27T14:45:54.114Z"
   },
   {
    "duration": 46,
    "start_time": "2024-03-27T14:45:54.119Z"
   },
   {
    "duration": 6,
    "start_time": "2024-03-27T14:45:54.167Z"
   },
   {
    "duration": 5,
    "start_time": "2024-03-27T14:45:54.175Z"
   },
   {
    "duration": 16,
    "start_time": "2024-03-27T14:45:54.181Z"
   },
   {
    "duration": 10,
    "start_time": "2024-03-27T14:45:54.200Z"
   },
   {
    "duration": 5,
    "start_time": "2024-03-27T14:45:54.211Z"
   },
   {
    "duration": 267,
    "start_time": "2024-03-27T14:45:54.218Z"
   },
   {
    "duration": 5,
    "start_time": "2024-03-27T14:45:54.487Z"
   },
   {
    "duration": 7,
    "start_time": "2024-03-27T14:45:54.494Z"
   },
   {
    "duration": 4,
    "start_time": "2024-03-27T14:45:54.503Z"
   },
   {
    "duration": 6,
    "start_time": "2024-03-27T14:45:54.509Z"
   },
   {
    "duration": 4,
    "start_time": "2024-03-27T14:45:54.516Z"
   },
   {
    "duration": 473,
    "start_time": "2024-03-27T14:45:54.522Z"
   },
   {
    "duration": 8,
    "start_time": "2024-03-27T14:45:54.996Z"
   },
   {
    "duration": 9,
    "start_time": "2024-03-27T14:45:55.006Z"
   },
   {
    "duration": 18,
    "start_time": "2024-03-27T14:45:55.017Z"
   },
   {
    "duration": 17,
    "start_time": "2024-03-27T14:45:55.036Z"
   },
   {
    "duration": 31,
    "start_time": "2024-03-27T14:45:55.055Z"
   },
   {
    "duration": 9,
    "start_time": "2024-03-27T14:45:55.088Z"
   },
   {
    "duration": 14,
    "start_time": "2024-03-27T14:45:55.098Z"
   },
   {
    "duration": 58,
    "start_time": "2024-03-27T14:45:55.114Z"
   },
   {
    "duration": 18,
    "start_time": "2024-03-27T14:45:55.174Z"
   },
   {
    "duration": 20,
    "start_time": "2024-03-27T14:45:55.194Z"
   },
   {
    "duration": 186,
    "start_time": "2024-03-27T14:45:55.216Z"
   },
   {
    "duration": 168,
    "start_time": "2024-03-27T14:45:55.404Z"
   },
   {
    "duration": 14,
    "start_time": "2024-03-27T14:45:55.574Z"
   },
   {
    "duration": 28,
    "start_time": "2024-03-27T14:45:55.590Z"
   },
   {
    "duration": 3,
    "start_time": "2024-03-27T14:45:55.620Z"
   },
   {
    "duration": 39,
    "start_time": "2024-03-27T14:45:55.626Z"
   },
   {
    "duration": 0,
    "start_time": "2024-03-27T14:45:55.667Z"
   },
   {
    "duration": 6,
    "start_time": "2024-03-27T14:46:31.319Z"
   },
   {
    "duration": 66,
    "start_time": "2024-03-27T14:46:58.502Z"
   },
   {
    "duration": 6,
    "start_time": "2024-03-27T14:46:58.570Z"
   },
   {
    "duration": 14,
    "start_time": "2024-03-27T14:46:58.578Z"
   },
   {
    "duration": 8,
    "start_time": "2024-03-27T14:46:58.594Z"
   },
   {
    "duration": 7,
    "start_time": "2024-03-27T14:46:58.603Z"
   },
   {
    "duration": 11,
    "start_time": "2024-03-27T14:46:58.612Z"
   },
   {
    "duration": 14,
    "start_time": "2024-03-27T14:46:58.625Z"
   },
   {
    "duration": 26,
    "start_time": "2024-03-27T14:46:58.641Z"
   },
   {
    "duration": 8,
    "start_time": "2024-03-27T14:46:58.669Z"
   },
   {
    "duration": 6,
    "start_time": "2024-03-27T14:46:58.679Z"
   },
   {
    "duration": 16,
    "start_time": "2024-03-27T14:46:58.687Z"
   },
   {
    "duration": 6,
    "start_time": "2024-03-27T14:46:58.704Z"
   },
   {
    "duration": 15,
    "start_time": "2024-03-27T14:46:58.712Z"
   },
   {
    "duration": 4,
    "start_time": "2024-03-27T14:46:58.728Z"
   },
   {
    "duration": 6,
    "start_time": "2024-03-27T14:46:58.766Z"
   },
   {
    "duration": 13,
    "start_time": "2024-03-27T14:46:58.774Z"
   },
   {
    "duration": 7,
    "start_time": "2024-03-27T14:46:58.788Z"
   },
   {
    "duration": 6,
    "start_time": "2024-03-27T14:46:58.796Z"
   },
   {
    "duration": 6,
    "start_time": "2024-03-27T14:46:58.803Z"
   },
   {
    "duration": 4,
    "start_time": "2024-03-27T14:46:58.811Z"
   },
   {
    "duration": 14,
    "start_time": "2024-03-27T14:46:58.816Z"
   },
   {
    "duration": 37,
    "start_time": "2024-03-27T14:46:58.832Z"
   },
   {
    "duration": 5,
    "start_time": "2024-03-27T14:46:58.870Z"
   },
   {
    "duration": 243,
    "start_time": "2024-03-27T14:46:58.876Z"
   },
   {
    "duration": 5,
    "start_time": "2024-03-27T14:46:59.121Z"
   },
   {
    "duration": 11,
    "start_time": "2024-03-27T14:46:59.127Z"
   },
   {
    "duration": 4,
    "start_time": "2024-03-27T14:46:59.139Z"
   },
   {
    "duration": 23,
    "start_time": "2024-03-27T14:46:59.146Z"
   },
   {
    "duration": 19,
    "start_time": "2024-03-27T14:46:59.171Z"
   },
   {
    "duration": 296,
    "start_time": "2024-03-27T14:46:59.192Z"
   },
   {
    "duration": 8,
    "start_time": "2024-03-27T14:46:59.489Z"
   },
   {
    "duration": 17,
    "start_time": "2024-03-27T14:46:59.498Z"
   },
   {
    "duration": 5,
    "start_time": "2024-03-27T14:46:59.516Z"
   },
   {
    "duration": 12,
    "start_time": "2024-03-27T14:46:59.523Z"
   },
   {
    "duration": 46,
    "start_time": "2024-03-27T14:46:59.537Z"
   },
   {
    "duration": 8,
    "start_time": "2024-03-27T14:46:59.584Z"
   },
   {
    "duration": 15,
    "start_time": "2024-03-27T14:46:59.593Z"
   },
   {
    "duration": 29,
    "start_time": "2024-03-27T14:46:59.609Z"
   },
   {
    "duration": 41,
    "start_time": "2024-03-27T14:46:59.639Z"
   },
   {
    "duration": 21,
    "start_time": "2024-03-27T14:46:59.682Z"
   },
   {
    "duration": 177,
    "start_time": "2024-03-27T14:46:59.704Z"
   },
   {
    "duration": 160,
    "start_time": "2024-03-27T14:46:59.882Z"
   },
   {
    "duration": 20,
    "start_time": "2024-03-27T14:47:00.044Z"
   },
   {
    "duration": 64,
    "start_time": "2024-03-27T14:47:00.066Z"
   },
   {
    "duration": 4,
    "start_time": "2024-03-27T14:47:00.131Z"
   },
   {
    "duration": 46,
    "start_time": "2024-03-27T14:47:00.136Z"
   },
   {
    "duration": 50,
    "start_time": "2024-03-27T14:47:00.184Z"
   },
   {
    "duration": 3,
    "start_time": "2024-03-27T14:54:46.235Z"
   },
   {
    "duration": 6,
    "start_time": "2024-03-27T14:55:23.756Z"
   },
   {
    "duration": 294,
    "start_time": "2024-03-27T14:56:23.104Z"
   },
   {
    "duration": 28,
    "start_time": "2024-03-27T14:57:33.249Z"
   },
   {
    "duration": 64,
    "start_time": "2024-03-27T15:18:26.652Z"
   },
   {
    "duration": 66,
    "start_time": "2024-03-27T15:19:38.423Z"
   },
   {
    "duration": 72,
    "start_time": "2024-03-27T15:21:43.192Z"
   },
   {
    "duration": 46,
    "start_time": "2024-03-27T15:22:18.634Z"
   },
   {
    "duration": 7,
    "start_time": "2024-03-27T15:24:02.195Z"
   },
   {
    "duration": 8,
    "start_time": "2024-03-27T15:25:04.655Z"
   },
   {
    "duration": 7,
    "start_time": "2024-03-27T15:25:26.721Z"
   },
   {
    "duration": 1315,
    "start_time": "2024-03-27T15:27:34.701Z"
   },
   {
    "duration": 7,
    "start_time": "2024-03-27T15:27:36.018Z"
   },
   {
    "duration": 7,
    "start_time": "2024-03-27T15:27:36.026Z"
   },
   {
    "duration": 8,
    "start_time": "2024-03-27T15:27:36.034Z"
   },
   {
    "duration": 11,
    "start_time": "2024-03-27T15:27:36.043Z"
   },
   {
    "duration": 11,
    "start_time": "2024-03-27T15:27:36.056Z"
   },
   {
    "duration": 21,
    "start_time": "2024-03-27T15:27:36.068Z"
   },
   {
    "duration": 8,
    "start_time": "2024-03-27T15:27:36.090Z"
   },
   {
    "duration": 7,
    "start_time": "2024-03-27T15:27:36.099Z"
   },
   {
    "duration": 6,
    "start_time": "2024-03-27T15:27:36.108Z"
   },
   {
    "duration": 9,
    "start_time": "2024-03-27T15:27:36.116Z"
   },
   {
    "duration": 4,
    "start_time": "2024-03-27T15:27:36.127Z"
   },
   {
    "duration": 38,
    "start_time": "2024-03-27T15:27:36.133Z"
   },
   {
    "duration": 5,
    "start_time": "2024-03-27T15:27:36.172Z"
   },
   {
    "duration": 5,
    "start_time": "2024-03-27T15:27:36.179Z"
   },
   {
    "duration": 9,
    "start_time": "2024-03-27T15:27:36.185Z"
   },
   {
    "duration": 5,
    "start_time": "2024-03-27T15:27:36.195Z"
   },
   {
    "duration": 5,
    "start_time": "2024-03-27T15:27:36.201Z"
   },
   {
    "duration": 5,
    "start_time": "2024-03-27T15:27:36.207Z"
   },
   {
    "duration": 5,
    "start_time": "2024-03-27T15:27:36.213Z"
   },
   {
    "duration": 7,
    "start_time": "2024-03-27T15:27:36.219Z"
   },
   {
    "duration": 8,
    "start_time": "2024-03-27T15:27:36.265Z"
   },
   {
    "duration": 5,
    "start_time": "2024-03-27T15:27:36.275Z"
   },
   {
    "duration": 231,
    "start_time": "2024-03-27T15:27:36.281Z"
   },
   {
    "duration": 6,
    "start_time": "2024-03-27T15:27:36.513Z"
   },
   {
    "duration": 18,
    "start_time": "2024-03-27T15:27:36.520Z"
   },
   {
    "duration": 14,
    "start_time": "2024-03-27T15:27:36.539Z"
   },
   {
    "duration": 5,
    "start_time": "2024-03-27T15:27:36.556Z"
   },
   {
    "duration": 3,
    "start_time": "2024-03-27T15:27:36.565Z"
   },
   {
    "duration": 304,
    "start_time": "2024-03-27T15:27:36.570Z"
   },
   {
    "duration": 9,
    "start_time": "2024-03-27T15:27:36.875Z"
   },
   {
    "duration": 12,
    "start_time": "2024-03-27T15:27:36.886Z"
   },
   {
    "duration": 7,
    "start_time": "2024-03-27T15:27:36.899Z"
   },
   {
    "duration": 9,
    "start_time": "2024-03-27T15:27:36.907Z"
   },
   {
    "duration": 49,
    "start_time": "2024-03-27T15:27:36.917Z"
   },
   {
    "duration": 8,
    "start_time": "2024-03-27T15:27:36.968Z"
   },
   {
    "duration": 17,
    "start_time": "2024-03-27T15:27:36.977Z"
   },
   {
    "duration": 31,
    "start_time": "2024-03-27T15:27:36.995Z"
   },
   {
    "duration": 48,
    "start_time": "2024-03-27T15:27:37.027Z"
   },
   {
    "duration": 20,
    "start_time": "2024-03-27T15:27:37.076Z"
   },
   {
    "duration": 162,
    "start_time": "2024-03-27T15:27:37.097Z"
   },
   {
    "duration": 156,
    "start_time": "2024-03-27T15:27:37.260Z"
   },
   {
    "duration": 13,
    "start_time": "2024-03-27T15:27:37.418Z"
   },
   {
    "duration": 40,
    "start_time": "2024-03-27T15:27:37.433Z"
   },
   {
    "duration": 3,
    "start_time": "2024-03-27T15:27:37.474Z"
   },
   {
    "duration": 23,
    "start_time": "2024-03-27T15:27:37.478Z"
   },
   {
    "duration": 849,
    "start_time": "2024-03-27T15:27:37.502Z"
   },
   {
    "duration": 318,
    "start_time": "2024-03-27T15:31:46.987Z"
   },
   {
    "duration": 12,
    "start_time": "2024-03-27T15:34:46.419Z"
   },
   {
    "duration": 5,
    "start_time": "2024-03-27T15:35:09.726Z"
   },
   {
    "duration": 7,
    "start_time": "2024-03-27T15:35:36.747Z"
   },
   {
    "duration": 7,
    "start_time": "2024-03-27T15:35:49.672Z"
   },
   {
    "duration": 14,
    "start_time": "2024-03-27T15:42:11.997Z"
   },
   {
    "duration": 11,
    "start_time": "2024-03-27T15:58:13.320Z"
   },
   {
    "duration": 8,
    "start_time": "2024-03-27T15:58:34.108Z"
   },
   {
    "duration": 12,
    "start_time": "2024-03-27T15:59:11.492Z"
   },
   {
    "duration": 12,
    "start_time": "2024-03-27T16:00:18.150Z"
   },
   {
    "duration": 13,
    "start_time": "2024-03-27T16:02:50.774Z"
   },
   {
    "duration": 10,
    "start_time": "2024-03-27T16:03:23.294Z"
   },
   {
    "duration": 69,
    "start_time": "2024-03-27T16:03:25.436Z"
   },
   {
    "duration": 6,
    "start_time": "2024-03-27T16:03:25.507Z"
   },
   {
    "duration": 16,
    "start_time": "2024-03-27T16:03:25.514Z"
   },
   {
    "duration": 10,
    "start_time": "2024-03-27T16:03:25.532Z"
   },
   {
    "duration": 11,
    "start_time": "2024-03-27T16:03:25.543Z"
   },
   {
    "duration": 26,
    "start_time": "2024-03-27T16:03:25.556Z"
   },
   {
    "duration": 15,
    "start_time": "2024-03-27T16:03:25.584Z"
   },
   {
    "duration": 11,
    "start_time": "2024-03-27T16:03:25.601Z"
   },
   {
    "duration": 10,
    "start_time": "2024-03-27T16:03:25.613Z"
   },
   {
    "duration": 10,
    "start_time": "2024-03-27T16:03:25.625Z"
   },
   {
    "duration": 29,
    "start_time": "2024-03-27T16:03:25.637Z"
   },
   {
    "duration": 13,
    "start_time": "2024-03-27T16:03:25.668Z"
   },
   {
    "duration": 21,
    "start_time": "2024-03-27T16:03:25.682Z"
   },
   {
    "duration": 5,
    "start_time": "2024-03-27T16:03:25.705Z"
   },
   {
    "duration": 7,
    "start_time": "2024-03-27T16:03:25.711Z"
   },
   {
    "duration": 8,
    "start_time": "2024-03-27T16:03:25.719Z"
   },
   {
    "duration": 6,
    "start_time": "2024-03-27T16:03:25.728Z"
   },
   {
    "duration": 7,
    "start_time": "2024-03-27T16:03:25.765Z"
   },
   {
    "duration": 19,
    "start_time": "2024-03-27T16:03:25.774Z"
   },
   {
    "duration": 6,
    "start_time": "2024-03-27T16:03:25.795Z"
   },
   {
    "duration": 9,
    "start_time": "2024-03-27T16:03:25.802Z"
   },
   {
    "duration": 15,
    "start_time": "2024-03-27T16:03:25.813Z"
   },
   {
    "duration": 5,
    "start_time": "2024-03-27T16:03:25.829Z"
   },
   {
    "duration": 241,
    "start_time": "2024-03-27T16:03:25.836Z"
   },
   {
    "duration": 6,
    "start_time": "2024-03-27T16:03:26.079Z"
   },
   {
    "duration": 13,
    "start_time": "2024-03-27T16:03:26.087Z"
   },
   {
    "duration": 17,
    "start_time": "2024-03-27T16:03:26.101Z"
   },
   {
    "duration": 7,
    "start_time": "2024-03-27T16:03:26.121Z"
   },
   {
    "duration": 5,
    "start_time": "2024-03-27T16:03:26.129Z"
   },
   {
    "duration": 292,
    "start_time": "2024-03-27T16:03:26.136Z"
   },
   {
    "duration": 8,
    "start_time": "2024-03-27T16:03:26.430Z"
   },
   {
    "duration": 22,
    "start_time": "2024-03-27T16:03:26.439Z"
   },
   {
    "duration": 17,
    "start_time": "2024-03-27T16:03:26.465Z"
   },
   {
    "duration": 12,
    "start_time": "2024-03-27T16:03:26.483Z"
   },
   {
    "duration": 32,
    "start_time": "2024-03-27T16:03:26.496Z"
   },
   {
    "duration": 7,
    "start_time": "2024-03-27T16:03:26.530Z"
   },
   {
    "duration": 14,
    "start_time": "2024-03-27T16:03:26.539Z"
   },
   {
    "duration": 37,
    "start_time": "2024-03-27T16:03:26.555Z"
   },
   {
    "duration": 18,
    "start_time": "2024-03-27T16:03:26.594Z"
   },
   {
    "duration": 22,
    "start_time": "2024-03-27T16:03:26.613Z"
   },
   {
    "duration": 182,
    "start_time": "2024-03-27T16:03:26.636Z"
   },
   {
    "duration": 175,
    "start_time": "2024-03-27T16:03:26.820Z"
   },
   {
    "duration": 23,
    "start_time": "2024-03-27T16:03:26.997Z"
   },
   {
    "duration": 49,
    "start_time": "2024-03-27T16:03:27.022Z"
   },
   {
    "duration": 4,
    "start_time": "2024-03-27T16:03:27.072Z"
   },
   {
    "duration": 23,
    "start_time": "2024-03-27T16:03:27.078Z"
   },
   {
    "duration": 285,
    "start_time": "2024-03-27T16:03:27.103Z"
   },
   {
    "duration": 13,
    "start_time": "2024-03-27T16:03:27.389Z"
   },
   {
    "duration": 10,
    "start_time": "2024-03-27T16:03:27.403Z"
   },
   {
    "duration": 68,
    "start_time": "2024-03-27T16:31:26.800Z"
   },
   {
    "duration": 6,
    "start_time": "2024-03-27T16:31:26.870Z"
   },
   {
    "duration": 12,
    "start_time": "2024-03-27T16:31:26.877Z"
   },
   {
    "duration": 16,
    "start_time": "2024-03-27T16:31:26.891Z"
   },
   {
    "duration": 10,
    "start_time": "2024-03-27T16:31:26.908Z"
   },
   {
    "duration": 13,
    "start_time": "2024-03-27T16:31:26.920Z"
   },
   {
    "duration": 11,
    "start_time": "2024-03-27T16:31:26.935Z"
   },
   {
    "duration": 21,
    "start_time": "2024-03-27T16:31:26.947Z"
   },
   {
    "duration": 9,
    "start_time": "2024-03-27T16:31:26.971Z"
   },
   {
    "duration": 7,
    "start_time": "2024-03-27T16:31:26.983Z"
   },
   {
    "duration": 17,
    "start_time": "2024-03-27T16:31:26.991Z"
   },
   {
    "duration": 8,
    "start_time": "2024-03-27T16:31:27.009Z"
   },
   {
    "duration": 49,
    "start_time": "2024-03-27T16:31:27.018Z"
   },
   {
    "duration": 5,
    "start_time": "2024-03-27T16:31:27.069Z"
   },
   {
    "duration": 13,
    "start_time": "2024-03-27T16:31:27.075Z"
   },
   {
    "duration": 20,
    "start_time": "2024-03-27T16:31:27.090Z"
   },
   {
    "duration": 8,
    "start_time": "2024-03-27T16:31:27.112Z"
   },
   {
    "duration": 43,
    "start_time": "2024-03-27T16:31:27.122Z"
   },
   {
    "duration": 9,
    "start_time": "2024-03-27T16:31:27.166Z"
   },
   {
    "duration": 12,
    "start_time": "2024-03-27T16:31:27.176Z"
   },
   {
    "duration": 8,
    "start_time": "2024-03-27T16:31:27.189Z"
   },
   {
    "duration": 9,
    "start_time": "2024-03-27T16:31:27.199Z"
   },
   {
    "duration": 5,
    "start_time": "2024-03-27T16:31:27.209Z"
   },
   {
    "duration": 225,
    "start_time": "2024-03-27T16:31:27.215Z"
   },
   {
    "duration": 5,
    "start_time": "2024-03-27T16:31:27.443Z"
   },
   {
    "duration": 16,
    "start_time": "2024-03-27T16:31:27.450Z"
   },
   {
    "duration": 5,
    "start_time": "2024-03-27T16:31:27.467Z"
   },
   {
    "duration": 7,
    "start_time": "2024-03-27T16:31:27.473Z"
   },
   {
    "duration": 4,
    "start_time": "2024-03-27T16:31:27.481Z"
   },
   {
    "duration": 412,
    "start_time": "2024-03-27T16:31:27.487Z"
   },
   {
    "duration": 8,
    "start_time": "2024-03-27T16:31:27.901Z"
   },
   {
    "duration": 13,
    "start_time": "2024-03-27T16:31:27.911Z"
   },
   {
    "duration": 5,
    "start_time": "2024-03-27T16:31:27.925Z"
   },
   {
    "duration": 28,
    "start_time": "2024-03-27T16:31:27.932Z"
   },
   {
    "duration": 34,
    "start_time": "2024-03-27T16:31:27.962Z"
   },
   {
    "duration": 8,
    "start_time": "2024-03-27T16:31:27.998Z"
   },
   {
    "duration": 14,
    "start_time": "2024-03-27T16:31:28.008Z"
   },
   {
    "duration": 65,
    "start_time": "2024-03-27T16:31:28.024Z"
   },
   {
    "duration": 18,
    "start_time": "2024-03-27T16:31:28.091Z"
   },
   {
    "duration": 22,
    "start_time": "2024-03-27T16:31:28.111Z"
   },
   {
    "duration": 182,
    "start_time": "2024-03-27T16:31:28.135Z"
   },
   {
    "duration": 155,
    "start_time": "2024-03-27T16:31:28.319Z"
   },
   {
    "duration": 14,
    "start_time": "2024-03-27T16:31:28.476Z"
   },
   {
    "duration": 29,
    "start_time": "2024-03-27T16:31:28.492Z"
   },
   {
    "duration": 3,
    "start_time": "2024-03-27T16:31:28.523Z"
   },
   {
    "duration": 45,
    "start_time": "2024-03-27T16:31:28.527Z"
   },
   {
    "duration": 269,
    "start_time": "2024-03-27T16:31:28.574Z"
   },
   {
    "duration": 21,
    "start_time": "2024-03-27T16:31:28.845Z"
   },
   {
    "duration": 10,
    "start_time": "2024-03-27T16:31:28.868Z"
   },
   {
    "duration": 66,
    "start_time": "2024-03-27T16:37:10.033Z"
   },
   {
    "duration": 5,
    "start_time": "2024-03-27T16:37:10.101Z"
   },
   {
    "duration": 13,
    "start_time": "2024-03-27T16:37:10.108Z"
   },
   {
    "duration": 9,
    "start_time": "2024-03-27T16:37:10.123Z"
   },
   {
    "duration": 12,
    "start_time": "2024-03-27T16:37:10.133Z"
   },
   {
    "duration": 11,
    "start_time": "2024-03-27T16:37:10.146Z"
   },
   {
    "duration": 8,
    "start_time": "2024-03-27T16:37:10.158Z"
   },
   {
    "duration": 7,
    "start_time": "2024-03-27T16:37:10.167Z"
   },
   {
    "duration": 10,
    "start_time": "2024-03-27T16:37:10.176Z"
   },
   {
    "duration": 6,
    "start_time": "2024-03-27T16:37:10.188Z"
   },
   {
    "duration": 10,
    "start_time": "2024-03-27T16:37:10.195Z"
   },
   {
    "duration": 10,
    "start_time": "2024-03-27T16:37:10.206Z"
   },
   {
    "duration": 14,
    "start_time": "2024-03-27T16:37:10.217Z"
   },
   {
    "duration": 35,
    "start_time": "2024-03-27T16:37:10.232Z"
   },
   {
    "duration": 6,
    "start_time": "2024-03-27T16:37:10.268Z"
   },
   {
    "duration": 11,
    "start_time": "2024-03-27T16:37:10.275Z"
   },
   {
    "duration": 12,
    "start_time": "2024-03-27T16:37:10.288Z"
   },
   {
    "duration": 18,
    "start_time": "2024-03-27T16:37:10.301Z"
   },
   {
    "duration": 28,
    "start_time": "2024-03-27T16:37:10.321Z"
   },
   {
    "duration": 9,
    "start_time": "2024-03-27T16:37:10.350Z"
   },
   {
    "duration": 6,
    "start_time": "2024-03-27T16:37:10.360Z"
   },
   {
    "duration": 12,
    "start_time": "2024-03-27T16:37:10.368Z"
   },
   {
    "duration": 8,
    "start_time": "2024-03-27T16:37:10.381Z"
   },
   {
    "duration": 236,
    "start_time": "2024-03-27T16:37:10.392Z"
   },
   {
    "duration": 5,
    "start_time": "2024-03-27T16:37:10.630Z"
   },
   {
    "duration": 21,
    "start_time": "2024-03-27T16:37:10.636Z"
   },
   {
    "duration": 7,
    "start_time": "2024-03-27T16:37:10.659Z"
   },
   {
    "duration": 6,
    "start_time": "2024-03-27T16:37:10.668Z"
   },
   {
    "duration": 4,
    "start_time": "2024-03-27T16:37:10.675Z"
   },
   {
    "duration": 316,
    "start_time": "2024-03-27T16:37:10.680Z"
   },
   {
    "duration": 8,
    "start_time": "2024-03-27T16:37:10.998Z"
   },
   {
    "duration": 21,
    "start_time": "2024-03-27T16:37:11.007Z"
   },
   {
    "duration": 30,
    "start_time": "2024-03-27T16:37:11.030Z"
   },
   {
    "duration": 11,
    "start_time": "2024-03-27T16:37:11.061Z"
   },
   {
    "duration": 46,
    "start_time": "2024-03-27T16:37:11.074Z"
   },
   {
    "duration": 13,
    "start_time": "2024-03-27T16:37:11.122Z"
   },
   {
    "duration": 13,
    "start_time": "2024-03-27T16:37:11.136Z"
   },
   {
    "duration": 20,
    "start_time": "2024-03-27T16:37:11.150Z"
   },
   {
    "duration": 30,
    "start_time": "2024-03-27T16:37:11.171Z"
   },
   {
    "duration": 19,
    "start_time": "2024-03-27T16:37:11.202Z"
   },
   {
    "duration": 22,
    "start_time": "2024-03-27T16:37:11.223Z"
   },
   {
    "duration": 169,
    "start_time": "2024-03-27T16:37:11.265Z"
   },
   {
    "duration": 163,
    "start_time": "2024-03-27T16:37:11.436Z"
   },
   {
    "duration": 15,
    "start_time": "2024-03-27T16:37:11.601Z"
   },
   {
    "duration": 35,
    "start_time": "2024-03-27T16:37:11.618Z"
   },
   {
    "duration": 3,
    "start_time": "2024-03-27T16:37:11.666Z"
   },
   {
    "duration": 33,
    "start_time": "2024-03-27T16:37:11.673Z"
   },
   {
    "duration": 364,
    "start_time": "2024-03-27T16:37:11.707Z"
   },
   {
    "duration": 14,
    "start_time": "2024-03-27T16:37:12.072Z"
   },
   {
    "duration": 11,
    "start_time": "2024-03-27T16:37:12.088Z"
   },
   {
    "duration": 66,
    "start_time": "2024-03-27T16:38:43.589Z"
   },
   {
    "duration": 6,
    "start_time": "2024-03-27T16:38:43.657Z"
   },
   {
    "duration": 4,
    "start_time": "2024-03-27T16:38:43.664Z"
   },
   {
    "duration": 8,
    "start_time": "2024-03-27T16:38:43.669Z"
   },
   {
    "duration": 8,
    "start_time": "2024-03-27T16:38:43.679Z"
   },
   {
    "duration": 16,
    "start_time": "2024-03-27T16:38:43.688Z"
   },
   {
    "duration": 8,
    "start_time": "2024-03-27T16:38:43.706Z"
   },
   {
    "duration": 8,
    "start_time": "2024-03-27T16:38:43.716Z"
   },
   {
    "duration": 8,
    "start_time": "2024-03-27T16:38:43.725Z"
   },
   {
    "duration": 36,
    "start_time": "2024-03-27T16:38:43.734Z"
   },
   {
    "duration": 14,
    "start_time": "2024-03-27T16:38:43.772Z"
   },
   {
    "duration": 11,
    "start_time": "2024-03-27T16:38:43.788Z"
   },
   {
    "duration": 21,
    "start_time": "2024-03-27T16:38:43.801Z"
   },
   {
    "duration": 5,
    "start_time": "2024-03-27T16:38:43.825Z"
   },
   {
    "duration": 36,
    "start_time": "2024-03-27T16:38:43.831Z"
   },
   {
    "duration": 7,
    "start_time": "2024-03-27T16:38:43.869Z"
   },
   {
    "duration": 7,
    "start_time": "2024-03-27T16:38:43.877Z"
   },
   {
    "duration": 18,
    "start_time": "2024-03-27T16:38:43.886Z"
   },
   {
    "duration": 5,
    "start_time": "2024-03-27T16:38:43.906Z"
   },
   {
    "duration": 4,
    "start_time": "2024-03-27T16:38:43.913Z"
   },
   {
    "duration": 50,
    "start_time": "2024-03-27T16:38:43.918Z"
   },
   {
    "duration": 7,
    "start_time": "2024-03-27T16:38:43.970Z"
   },
   {
    "duration": 4,
    "start_time": "2024-03-27T16:38:43.978Z"
   },
   {
    "duration": 222,
    "start_time": "2024-03-27T16:38:43.983Z"
   },
   {
    "duration": 5,
    "start_time": "2024-03-27T16:38:44.207Z"
   },
   {
    "duration": 7,
    "start_time": "2024-03-27T16:38:44.213Z"
   },
   {
    "duration": 20,
    "start_time": "2024-03-27T16:38:44.221Z"
   },
   {
    "duration": 15,
    "start_time": "2024-03-27T16:38:44.243Z"
   },
   {
    "duration": 6,
    "start_time": "2024-03-27T16:38:44.259Z"
   },
   {
    "duration": 499,
    "start_time": "2024-03-27T16:38:44.266Z"
   },
   {
    "duration": 8,
    "start_time": "2024-03-27T16:38:44.767Z"
   },
   {
    "duration": 8,
    "start_time": "2024-03-27T16:38:44.777Z"
   },
   {
    "duration": 4,
    "start_time": "2024-03-27T16:38:44.787Z"
   },
   {
    "duration": 8,
    "start_time": "2024-03-27T16:38:44.793Z"
   },
   {
    "duration": 27,
    "start_time": "2024-03-27T16:38:44.802Z"
   },
   {
    "duration": 41,
    "start_time": "2024-03-27T16:38:44.830Z"
   },
   {
    "duration": 3,
    "start_time": "2024-03-27T16:38:44.872Z"
   },
   {
    "duration": 14,
    "start_time": "2024-03-27T16:38:44.876Z"
   },
   {
    "duration": 28,
    "start_time": "2024-03-27T16:38:44.892Z"
   },
   {
    "duration": 45,
    "start_time": "2024-03-27T16:38:44.921Z"
   },
   {
    "duration": 22,
    "start_time": "2024-03-27T16:38:44.969Z"
   },
   {
    "duration": 175,
    "start_time": "2024-03-27T16:38:44.992Z"
   },
   {
    "duration": 162,
    "start_time": "2024-03-27T16:38:45.168Z"
   },
   {
    "duration": 15,
    "start_time": "2024-03-27T16:38:45.332Z"
   },
   {
    "duration": 68,
    "start_time": "2024-03-27T16:38:45.349Z"
   },
   {
    "duration": 4,
    "start_time": "2024-03-27T16:38:45.418Z"
   },
   {
    "duration": 46,
    "start_time": "2024-03-27T16:38:45.423Z"
   },
   {
    "duration": 291,
    "start_time": "2024-03-27T16:38:45.471Z"
   },
   {
    "duration": 13,
    "start_time": "2024-03-27T16:38:45.764Z"
   },
   {
    "duration": 12,
    "start_time": "2024-03-27T16:38:45.779Z"
   },
   {
    "duration": 35,
    "start_time": "2024-03-27T16:40:35.016Z"
   },
   {
    "duration": 12,
    "start_time": "2024-03-27T16:40:57.042Z"
   },
   {
    "duration": 40,
    "start_time": "2024-03-27T16:41:10.326Z"
   },
   {
    "duration": 27,
    "start_time": "2024-03-27T16:42:21.553Z"
   },
   {
    "duration": 111,
    "start_time": "2024-03-27T16:42:29.700Z"
   },
   {
    "duration": 6,
    "start_time": "2024-03-27T16:42:29.813Z"
   },
   {
    "duration": 46,
    "start_time": "2024-03-27T16:42:29.821Z"
   },
   {
    "duration": 21,
    "start_time": "2024-03-27T16:42:29.870Z"
   },
   {
    "duration": 10,
    "start_time": "2024-03-27T16:42:29.893Z"
   },
   {
    "duration": 31,
    "start_time": "2024-03-27T16:42:29.905Z"
   },
   {
    "duration": 12,
    "start_time": "2024-03-27T16:42:29.938Z"
   },
   {
    "duration": 23,
    "start_time": "2024-03-27T16:42:29.951Z"
   },
   {
    "duration": 11,
    "start_time": "2024-03-27T16:42:29.976Z"
   },
   {
    "duration": 8,
    "start_time": "2024-03-27T16:42:29.991Z"
   },
   {
    "duration": 46,
    "start_time": "2024-03-27T16:42:30.001Z"
   },
   {
    "duration": 8,
    "start_time": "2024-03-27T16:42:30.049Z"
   },
   {
    "duration": 31,
    "start_time": "2024-03-27T16:42:30.059Z"
   },
   {
    "duration": 5,
    "start_time": "2024-03-27T16:42:30.092Z"
   },
   {
    "duration": 22,
    "start_time": "2024-03-27T16:42:30.098Z"
   },
   {
    "duration": 20,
    "start_time": "2024-03-27T16:42:30.122Z"
   },
   {
    "duration": 11,
    "start_time": "2024-03-27T16:42:30.144Z"
   },
   {
    "duration": 33,
    "start_time": "2024-03-27T16:42:30.157Z"
   },
   {
    "duration": 40,
    "start_time": "2024-03-27T16:42:30.192Z"
   },
   {
    "duration": 20,
    "start_time": "2024-03-27T16:42:30.234Z"
   },
   {
    "duration": 36,
    "start_time": "2024-03-27T16:42:30.256Z"
   },
   {
    "duration": 29,
    "start_time": "2024-03-27T16:42:30.293Z"
   },
   {
    "duration": 28,
    "start_time": "2024-03-27T16:42:30.324Z"
   },
   {
    "duration": 376,
    "start_time": "2024-03-27T16:42:30.353Z"
   },
   {
    "duration": 5,
    "start_time": "2024-03-27T16:42:30.748Z"
   },
   {
    "duration": 40,
    "start_time": "2024-03-27T16:42:30.755Z"
   },
   {
    "duration": 108,
    "start_time": "2024-03-27T16:42:30.797Z"
   },
   {
    "duration": 82,
    "start_time": "2024-03-27T16:42:30.908Z"
   },
   {
    "duration": 30,
    "start_time": "2024-03-27T16:42:30.991Z"
   },
   {
    "duration": 335,
    "start_time": "2024-03-27T16:42:31.022Z"
   },
   {
    "duration": 23,
    "start_time": "2024-03-27T16:42:31.359Z"
   },
   {
    "duration": 110,
    "start_time": "2024-03-27T16:42:31.384Z"
   },
   {
    "duration": 27,
    "start_time": "2024-03-27T16:42:31.496Z"
   },
   {
    "duration": 24,
    "start_time": "2024-03-27T16:42:31.525Z"
   },
   {
    "duration": 63,
    "start_time": "2024-03-27T16:42:31.551Z"
   },
   {
    "duration": 9,
    "start_time": "2024-03-27T16:42:31.615Z"
   },
   {
    "duration": 14,
    "start_time": "2024-03-27T16:42:31.626Z"
   },
   {
    "duration": 42,
    "start_time": "2024-03-27T16:42:31.642Z"
   },
   {
    "duration": 33,
    "start_time": "2024-03-27T16:42:31.687Z"
   },
   {
    "duration": 21,
    "start_time": "2024-03-27T16:42:31.721Z"
   },
   {
    "duration": 63,
    "start_time": "2024-03-27T16:42:31.744Z"
   },
   {
    "duration": 194,
    "start_time": "2024-03-27T16:42:31.812Z"
   },
   {
    "duration": 181,
    "start_time": "2024-03-27T16:42:32.008Z"
   },
   {
    "duration": 15,
    "start_time": "2024-03-27T16:42:32.191Z"
   },
   {
    "duration": 40,
    "start_time": "2024-03-27T16:42:32.208Z"
   },
   {
    "duration": 20,
    "start_time": "2024-03-27T16:42:32.250Z"
   },
   {
    "duration": 24,
    "start_time": "2024-03-27T16:42:32.282Z"
   },
   {
    "duration": 308,
    "start_time": "2024-03-27T16:42:32.308Z"
   },
   {
    "duration": 12,
    "start_time": "2024-03-27T16:42:32.618Z"
   },
   {
    "duration": 10,
    "start_time": "2024-03-27T16:42:32.631Z"
   },
   {
    "duration": 16,
    "start_time": "2024-03-27T16:43:57.343Z"
   },
   {
    "duration": 15,
    "start_time": "2024-03-27T16:44:54.341Z"
   },
   {
    "duration": 5,
    "start_time": "2024-03-27T16:45:34.742Z"
   },
   {
    "duration": 68,
    "start_time": "2024-03-27T16:45:43.437Z"
   },
   {
    "duration": 6,
    "start_time": "2024-03-27T16:45:43.506Z"
   },
   {
    "duration": 5,
    "start_time": "2024-03-27T16:45:43.514Z"
   },
   {
    "duration": 10,
    "start_time": "2024-03-27T16:45:43.521Z"
   },
   {
    "duration": 8,
    "start_time": "2024-03-27T16:45:43.533Z"
   },
   {
    "duration": 23,
    "start_time": "2024-03-27T16:45:43.543Z"
   },
   {
    "duration": 14,
    "start_time": "2024-03-27T16:45:43.568Z"
   },
   {
    "duration": 11,
    "start_time": "2024-03-27T16:45:43.584Z"
   },
   {
    "duration": 14,
    "start_time": "2024-03-27T16:45:43.597Z"
   },
   {
    "duration": 17,
    "start_time": "2024-03-27T16:45:43.614Z"
   },
   {
    "duration": 32,
    "start_time": "2024-03-27T16:45:43.633Z"
   },
   {
    "duration": 6,
    "start_time": "2024-03-27T16:45:43.667Z"
   },
   {
    "duration": 21,
    "start_time": "2024-03-27T16:45:43.675Z"
   },
   {
    "duration": 5,
    "start_time": "2024-03-27T16:45:43.699Z"
   },
   {
    "duration": 7,
    "start_time": "2024-03-27T16:45:43.705Z"
   },
   {
    "duration": 15,
    "start_time": "2024-03-27T16:45:43.713Z"
   },
   {
    "duration": 42,
    "start_time": "2024-03-27T16:45:43.729Z"
   },
   {
    "duration": 12,
    "start_time": "2024-03-27T16:45:43.775Z"
   },
   {
    "duration": 10,
    "start_time": "2024-03-27T16:45:43.788Z"
   },
   {
    "duration": 10,
    "start_time": "2024-03-27T16:45:43.800Z"
   },
   {
    "duration": 32,
    "start_time": "2024-03-27T16:45:43.812Z"
   },
   {
    "duration": 15,
    "start_time": "2024-03-27T16:45:43.846Z"
   },
   {
    "duration": 9,
    "start_time": "2024-03-27T16:45:43.864Z"
   },
   {
    "duration": 241,
    "start_time": "2024-03-27T16:45:43.874Z"
   },
   {
    "duration": 7,
    "start_time": "2024-03-27T16:45:44.117Z"
   },
   {
    "duration": 18,
    "start_time": "2024-03-27T16:45:44.126Z"
   },
   {
    "duration": 5,
    "start_time": "2024-03-27T16:45:44.148Z"
   },
   {
    "duration": 9,
    "start_time": "2024-03-27T16:45:44.165Z"
   },
   {
    "duration": 6,
    "start_time": "2024-03-27T16:45:44.175Z"
   },
   {
    "duration": 312,
    "start_time": "2024-03-27T16:45:44.183Z"
   },
   {
    "duration": 9,
    "start_time": "2024-03-27T16:45:44.497Z"
   },
   {
    "duration": 9,
    "start_time": "2024-03-27T16:45:44.507Z"
   },
   {
    "duration": 14,
    "start_time": "2024-03-27T16:45:44.517Z"
   },
   {
    "duration": 9,
    "start_time": "2024-03-27T16:45:44.533Z"
   },
   {
    "duration": 48,
    "start_time": "2024-03-27T16:45:44.543Z"
   },
   {
    "duration": 8,
    "start_time": "2024-03-27T16:45:44.593Z"
   },
   {
    "duration": 4,
    "start_time": "2024-03-27T16:45:44.603Z"
   },
   {
    "duration": 20,
    "start_time": "2024-03-27T16:45:44.608Z"
   },
   {
    "duration": 150,
    "start_time": "2024-03-27T16:45:44.629Z"
   },
   {
    "duration": 20,
    "start_time": "2024-03-27T16:45:44.780Z"
   },
   {
    "duration": 23,
    "start_time": "2024-03-27T16:45:44.801Z"
   },
   {
    "duration": 191,
    "start_time": "2024-03-27T16:45:44.825Z"
   },
   {
    "duration": 165,
    "start_time": "2024-03-27T16:45:45.018Z"
   },
   {
    "duration": 15,
    "start_time": "2024-03-27T16:45:45.185Z"
   },
   {
    "duration": 59,
    "start_time": "2024-03-27T16:45:45.202Z"
   },
   {
    "duration": 4,
    "start_time": "2024-03-27T16:45:45.263Z"
   },
   {
    "duration": 36,
    "start_time": "2024-03-27T16:45:45.269Z"
   },
   {
    "duration": 307,
    "start_time": "2024-03-27T16:45:45.306Z"
   },
   {
    "duration": 14,
    "start_time": "2024-03-27T16:45:45.615Z"
   },
   {
    "duration": 11,
    "start_time": "2024-03-27T16:45:45.630Z"
   },
   {
    "duration": 23,
    "start_time": "2024-03-27T16:46:49.611Z"
   },
   {
    "duration": 67,
    "start_time": "2024-03-27T16:47:08.980Z"
   },
   {
    "duration": 5,
    "start_time": "2024-03-27T16:47:09.049Z"
   },
   {
    "duration": 5,
    "start_time": "2024-03-27T16:47:09.056Z"
   },
   {
    "duration": 8,
    "start_time": "2024-03-27T16:47:09.063Z"
   },
   {
    "duration": 8,
    "start_time": "2024-03-27T16:47:09.073Z"
   },
   {
    "duration": 10,
    "start_time": "2024-03-27T16:47:09.082Z"
   },
   {
    "duration": 9,
    "start_time": "2024-03-27T16:47:09.093Z"
   },
   {
    "duration": 8,
    "start_time": "2024-03-27T16:47:09.103Z"
   },
   {
    "duration": 7,
    "start_time": "2024-03-27T16:47:09.112Z"
   },
   {
    "duration": 45,
    "start_time": "2024-03-27T16:47:09.121Z"
   },
   {
    "duration": 9,
    "start_time": "2024-03-27T16:47:09.168Z"
   },
   {
    "duration": 7,
    "start_time": "2024-03-27T16:47:09.178Z"
   },
   {
    "duration": 16,
    "start_time": "2024-03-27T16:47:09.187Z"
   },
   {
    "duration": 4,
    "start_time": "2024-03-27T16:47:09.205Z"
   },
   {
    "duration": 6,
    "start_time": "2024-03-27T16:47:09.210Z"
   },
   {
    "duration": 7,
    "start_time": "2024-03-27T16:47:09.217Z"
   },
   {
    "duration": 40,
    "start_time": "2024-03-27T16:47:09.226Z"
   },
   {
    "duration": 6,
    "start_time": "2024-03-27T16:47:09.267Z"
   },
   {
    "duration": 7,
    "start_time": "2024-03-27T16:47:09.275Z"
   },
   {
    "duration": 5,
    "start_time": "2024-03-27T16:47:09.283Z"
   },
   {
    "duration": 6,
    "start_time": "2024-03-27T16:47:09.290Z"
   },
   {
    "duration": 7,
    "start_time": "2024-03-27T16:47:09.299Z"
   },
   {
    "duration": 7,
    "start_time": "2024-03-27T16:47:09.307Z"
   },
   {
    "duration": 255,
    "start_time": "2024-03-27T16:47:09.316Z"
   },
   {
    "duration": 6,
    "start_time": "2024-03-27T16:47:09.572Z"
   },
   {
    "duration": 7,
    "start_time": "2024-03-27T16:47:09.579Z"
   },
   {
    "duration": 4,
    "start_time": "2024-03-27T16:47:09.588Z"
   },
   {
    "duration": 13,
    "start_time": "2024-03-27T16:47:09.593Z"
   },
   {
    "duration": 9,
    "start_time": "2024-03-27T16:47:09.607Z"
   },
   {
    "duration": 317,
    "start_time": "2024-03-27T16:47:09.618Z"
   },
   {
    "duration": 8,
    "start_time": "2024-03-27T16:47:09.936Z"
   },
   {
    "duration": 21,
    "start_time": "2024-03-27T16:47:09.946Z"
   },
   {
    "duration": 10,
    "start_time": "2024-03-27T16:47:09.968Z"
   },
   {
    "duration": 18,
    "start_time": "2024-03-27T16:47:09.979Z"
   },
   {
    "duration": 28,
    "start_time": "2024-03-27T16:47:09.999Z"
   },
   {
    "duration": 8,
    "start_time": "2024-03-27T16:47:10.028Z"
   },
   {
    "duration": 35,
    "start_time": "2024-03-27T16:47:10.037Z"
   },
   {
    "duration": 15,
    "start_time": "2024-03-27T16:47:10.073Z"
   },
   {
    "duration": 30,
    "start_time": "2024-03-27T16:47:10.089Z"
   },
   {
    "duration": 19,
    "start_time": "2024-03-27T16:47:10.120Z"
   },
   {
    "duration": 23,
    "start_time": "2024-03-27T16:47:10.165Z"
   },
   {
    "duration": 182,
    "start_time": "2024-03-27T16:47:10.190Z"
   },
   {
    "duration": 178,
    "start_time": "2024-03-27T16:47:10.375Z"
   },
   {
    "duration": 20,
    "start_time": "2024-03-27T16:47:10.555Z"
   },
   {
    "duration": 32,
    "start_time": "2024-03-27T16:47:10.576Z"
   },
   {
    "duration": 4,
    "start_time": "2024-03-27T16:47:10.609Z"
   },
   {
    "duration": 24,
    "start_time": "2024-03-27T16:47:10.614Z"
   },
   {
    "duration": 387,
    "start_time": "2024-03-27T16:47:10.640Z"
   },
   {
    "duration": 12,
    "start_time": "2024-03-27T16:47:11.029Z"
   },
   {
    "duration": 23,
    "start_time": "2024-03-27T16:47:11.043Z"
   },
   {
    "duration": 29,
    "start_time": "2024-03-27T16:50:01.175Z"
   },
   {
    "duration": 69,
    "start_time": "2024-03-27T16:50:12.371Z"
   },
   {
    "duration": 6,
    "start_time": "2024-03-27T16:50:12.442Z"
   },
   {
    "duration": 9,
    "start_time": "2024-03-27T16:50:12.449Z"
   },
   {
    "duration": 8,
    "start_time": "2024-03-27T16:50:12.459Z"
   },
   {
    "duration": 7,
    "start_time": "2024-03-27T16:50:12.468Z"
   },
   {
    "duration": 10,
    "start_time": "2024-03-27T16:50:12.476Z"
   },
   {
    "duration": 7,
    "start_time": "2024-03-27T16:50:12.487Z"
   },
   {
    "duration": 7,
    "start_time": "2024-03-27T16:50:12.496Z"
   },
   {
    "duration": 7,
    "start_time": "2024-03-27T16:50:12.504Z"
   },
   {
    "duration": 6,
    "start_time": "2024-03-27T16:50:12.513Z"
   },
   {
    "duration": 50,
    "start_time": "2024-03-27T16:50:12.520Z"
   },
   {
    "duration": 9,
    "start_time": "2024-03-27T16:50:12.572Z"
   },
   {
    "duration": 27,
    "start_time": "2024-03-27T16:50:12.582Z"
   },
   {
    "duration": 4,
    "start_time": "2024-03-27T16:50:12.611Z"
   },
   {
    "duration": 5,
    "start_time": "2024-03-27T16:50:12.616Z"
   },
   {
    "duration": 17,
    "start_time": "2024-03-27T16:50:12.623Z"
   },
   {
    "duration": 12,
    "start_time": "2024-03-27T16:50:12.641Z"
   },
   {
    "duration": 13,
    "start_time": "2024-03-27T16:50:12.655Z"
   },
   {
    "duration": 15,
    "start_time": "2024-03-27T16:50:12.670Z"
   },
   {
    "duration": 4,
    "start_time": "2024-03-27T16:50:12.686Z"
   },
   {
    "duration": 5,
    "start_time": "2024-03-27T16:50:12.693Z"
   },
   {
    "duration": 10,
    "start_time": "2024-03-27T16:50:12.699Z"
   },
   {
    "duration": 4,
    "start_time": "2024-03-27T16:50:12.711Z"
   },
   {
    "duration": 237,
    "start_time": "2024-03-27T16:50:12.717Z"
   },
   {
    "duration": 13,
    "start_time": "2024-03-27T16:50:12.955Z"
   },
   {
    "duration": 8,
    "start_time": "2024-03-27T16:50:12.970Z"
   },
   {
    "duration": 14,
    "start_time": "2024-03-27T16:50:12.979Z"
   },
   {
    "duration": 6,
    "start_time": "2024-03-27T16:50:12.995Z"
   },
   {
    "duration": 5,
    "start_time": "2024-03-27T16:50:13.003Z"
   },
   {
    "duration": 341,
    "start_time": "2024-03-27T16:50:13.010Z"
   },
   {
    "duration": 15,
    "start_time": "2024-03-27T16:50:13.353Z"
   },
   {
    "duration": 9,
    "start_time": "2024-03-27T16:50:13.370Z"
   },
   {
    "duration": 12,
    "start_time": "2024-03-27T16:50:13.381Z"
   },
   {
    "duration": 9,
    "start_time": "2024-03-27T16:50:13.395Z"
   },
   {
    "duration": 28,
    "start_time": "2024-03-27T16:50:13.405Z"
   },
   {
    "duration": 37,
    "start_time": "2024-03-27T16:50:13.434Z"
   },
   {
    "duration": 21,
    "start_time": "2024-03-27T16:50:13.472Z"
   },
   {
    "duration": 18,
    "start_time": "2024-03-27T16:50:13.494Z"
   },
   {
    "duration": 30,
    "start_time": "2024-03-27T16:50:13.514Z"
   },
   {
    "duration": 18,
    "start_time": "2024-03-27T16:50:13.565Z"
   },
   {
    "duration": 29,
    "start_time": "2024-03-27T16:50:13.585Z"
   },
   {
    "duration": 190,
    "start_time": "2024-03-27T16:50:13.616Z"
   },
   {
    "duration": 154,
    "start_time": "2024-03-27T16:50:13.807Z"
   },
   {
    "duration": 15,
    "start_time": "2024-03-27T16:50:13.964Z"
   },
   {
    "duration": 33,
    "start_time": "2024-03-27T16:50:13.980Z"
   },
   {
    "duration": 3,
    "start_time": "2024-03-27T16:50:14.016Z"
   },
   {
    "duration": 45,
    "start_time": "2024-03-27T16:50:14.021Z"
   },
   {
    "duration": 285,
    "start_time": "2024-03-27T16:50:14.068Z"
   },
   {
    "duration": 18,
    "start_time": "2024-03-27T16:50:14.355Z"
   },
   {
    "duration": 10,
    "start_time": "2024-03-27T16:50:14.375Z"
   },
   {
    "duration": 11,
    "start_time": "2024-03-27T16:51:28.427Z"
   },
   {
    "duration": 8,
    "start_time": "2024-03-27T17:04:33.704Z"
   },
   {
    "duration": 11,
    "start_time": "2024-03-27T17:04:43.183Z"
   },
   {
    "duration": 12,
    "start_time": "2024-03-27T17:04:54.850Z"
   },
   {
    "duration": 12,
    "start_time": "2024-03-27T17:05:05.761Z"
   },
   {
    "duration": 11,
    "start_time": "2024-03-27T17:05:17.742Z"
   },
   {
    "duration": 20,
    "start_time": "2024-03-27T17:08:37.480Z"
   },
   {
    "duration": 67,
    "start_time": "2024-03-27T17:08:44.932Z"
   },
   {
    "duration": 6,
    "start_time": "2024-03-27T17:08:45.001Z"
   },
   {
    "duration": 33,
    "start_time": "2024-03-27T17:08:45.008Z"
   },
   {
    "duration": 30,
    "start_time": "2024-03-27T17:08:45.043Z"
   },
   {
    "duration": 14,
    "start_time": "2024-03-27T17:08:45.074Z"
   },
   {
    "duration": 26,
    "start_time": "2024-03-27T17:08:45.089Z"
   },
   {
    "duration": 8,
    "start_time": "2024-03-27T17:08:45.116Z"
   },
   {
    "duration": 7,
    "start_time": "2024-03-27T17:08:45.126Z"
   },
   {
    "duration": 9,
    "start_time": "2024-03-27T17:08:45.134Z"
   },
   {
    "duration": 23,
    "start_time": "2024-03-27T17:08:45.146Z"
   },
   {
    "duration": 10,
    "start_time": "2024-03-27T17:08:45.171Z"
   },
   {
    "duration": 12,
    "start_time": "2024-03-27T17:08:45.182Z"
   },
   {
    "duration": 25,
    "start_time": "2024-03-27T17:08:45.196Z"
   },
   {
    "duration": 10,
    "start_time": "2024-03-27T17:08:45.222Z"
   },
   {
    "duration": 22,
    "start_time": "2024-03-27T17:08:45.233Z"
   },
   {
    "duration": 12,
    "start_time": "2024-03-27T17:08:45.256Z"
   },
   {
    "duration": 27,
    "start_time": "2024-03-27T17:08:45.269Z"
   },
   {
    "duration": 17,
    "start_time": "2024-03-27T17:08:45.297Z"
   },
   {
    "duration": 45,
    "start_time": "2024-03-27T17:08:45.315Z"
   },
   {
    "duration": 27,
    "start_time": "2024-03-27T17:08:45.361Z"
   },
   {
    "duration": 27,
    "start_time": "2024-03-27T17:08:45.390Z"
   },
   {
    "duration": 26,
    "start_time": "2024-03-27T17:08:45.419Z"
   },
   {
    "duration": 19,
    "start_time": "2024-03-27T17:08:45.447Z"
   },
   {
    "duration": 235,
    "start_time": "2024-03-27T17:08:45.467Z"
   },
   {
    "duration": 6,
    "start_time": "2024-03-27T17:08:45.703Z"
   },
   {
    "duration": 11,
    "start_time": "2024-03-27T17:08:45.711Z"
   },
   {
    "duration": 20,
    "start_time": "2024-03-27T17:08:45.724Z"
   },
   {
    "duration": 16,
    "start_time": "2024-03-27T17:08:45.749Z"
   },
   {
    "duration": 9,
    "start_time": "2024-03-27T17:08:45.766Z"
   },
   {
    "duration": 421,
    "start_time": "2024-03-27T17:08:45.776Z"
   },
   {
    "duration": 8,
    "start_time": "2024-03-27T17:08:46.198Z"
   },
   {
    "duration": 17,
    "start_time": "2024-03-27T17:08:46.207Z"
   },
   {
    "duration": 24,
    "start_time": "2024-03-27T17:08:46.225Z"
   },
   {
    "duration": 10,
    "start_time": "2024-03-27T17:08:46.251Z"
   },
   {
    "duration": 28,
    "start_time": "2024-03-27T17:08:46.262Z"
   },
   {
    "duration": 8,
    "start_time": "2024-03-27T17:08:46.292Z"
   },
   {
    "duration": 20,
    "start_time": "2024-03-27T17:08:46.302Z"
   },
   {
    "duration": 41,
    "start_time": "2024-03-27T17:08:46.323Z"
   },
   {
    "duration": 32,
    "start_time": "2024-03-27T17:08:46.366Z"
   },
   {
    "duration": 18,
    "start_time": "2024-03-27T17:08:46.399Z"
   },
   {
    "duration": 47,
    "start_time": "2024-03-27T17:08:46.419Z"
   },
   {
    "duration": 166,
    "start_time": "2024-03-27T17:08:46.467Z"
   },
   {
    "duration": 164,
    "start_time": "2024-03-27T17:08:46.634Z"
   },
   {
    "duration": 15,
    "start_time": "2024-03-27T17:08:46.800Z"
   },
   {
    "duration": 45,
    "start_time": "2024-03-27T17:08:46.816Z"
   },
   {
    "duration": 4,
    "start_time": "2024-03-27T17:08:46.864Z"
   },
   {
    "duration": 26,
    "start_time": "2024-03-27T17:08:46.870Z"
   },
   {
    "duration": 287,
    "start_time": "2024-03-27T17:08:46.898Z"
   },
   {
    "duration": 13,
    "start_time": "2024-03-27T17:08:47.187Z"
   },
   {
    "duration": 21,
    "start_time": "2024-03-27T17:08:47.201Z"
   },
   {
    "duration": 67,
    "start_time": "2024-03-27T17:10:19.697Z"
   },
   {
    "duration": 6,
    "start_time": "2024-03-27T17:10:19.766Z"
   },
   {
    "duration": 6,
    "start_time": "2024-03-27T17:10:19.774Z"
   },
   {
    "duration": 7,
    "start_time": "2024-03-27T17:10:19.783Z"
   },
   {
    "duration": 8,
    "start_time": "2024-03-27T17:10:19.792Z"
   },
   {
    "duration": 9,
    "start_time": "2024-03-27T17:10:19.802Z"
   },
   {
    "duration": 9,
    "start_time": "2024-03-27T17:10:19.813Z"
   },
   {
    "duration": 42,
    "start_time": "2024-03-27T17:10:19.824Z"
   },
   {
    "duration": 8,
    "start_time": "2024-03-27T17:10:19.867Z"
   },
   {
    "duration": 7,
    "start_time": "2024-03-27T17:10:19.877Z"
   },
   {
    "duration": 12,
    "start_time": "2024-03-27T17:10:19.885Z"
   },
   {
    "duration": 7,
    "start_time": "2024-03-27T17:10:19.898Z"
   },
   {
    "duration": 13,
    "start_time": "2024-03-27T17:10:19.906Z"
   },
   {
    "duration": 4,
    "start_time": "2024-03-27T17:10:19.921Z"
   },
   {
    "duration": 42,
    "start_time": "2024-03-27T17:10:19.926Z"
   },
   {
    "duration": 8,
    "start_time": "2024-03-27T17:10:19.970Z"
   },
   {
    "duration": 7,
    "start_time": "2024-03-27T17:10:19.980Z"
   },
   {
    "duration": 5,
    "start_time": "2024-03-27T17:10:19.988Z"
   },
   {
    "duration": 5,
    "start_time": "2024-03-27T17:10:19.995Z"
   },
   {
    "duration": 6,
    "start_time": "2024-03-27T17:10:20.001Z"
   },
   {
    "duration": 18,
    "start_time": "2024-03-27T17:10:20.008Z"
   },
   {
    "duration": 7,
    "start_time": "2024-03-27T17:10:20.028Z"
   },
   {
    "duration": 32,
    "start_time": "2024-03-27T17:10:20.036Z"
   },
   {
    "duration": 214,
    "start_time": "2024-03-27T17:10:20.069Z"
   },
   {
    "duration": 6,
    "start_time": "2024-03-27T17:10:20.285Z"
   },
   {
    "duration": 14,
    "start_time": "2024-03-27T17:10:20.292Z"
   },
   {
    "duration": 4,
    "start_time": "2024-03-27T17:10:20.310Z"
   },
   {
    "duration": 11,
    "start_time": "2024-03-27T17:10:20.315Z"
   },
   {
    "duration": 4,
    "start_time": "2024-03-27T17:10:20.327Z"
   },
   {
    "duration": 298,
    "start_time": "2024-03-27T17:10:20.333Z"
   },
   {
    "duration": 8,
    "start_time": "2024-03-27T17:10:20.633Z"
   },
   {
    "duration": 10,
    "start_time": "2024-03-27T17:10:20.642Z"
   },
   {
    "duration": 4,
    "start_time": "2024-03-27T17:10:20.665Z"
   },
   {
    "duration": 8,
    "start_time": "2024-03-27T17:10:20.670Z"
   },
   {
    "duration": 43,
    "start_time": "2024-03-27T17:10:20.680Z"
   },
   {
    "duration": 7,
    "start_time": "2024-03-27T17:10:20.725Z"
   },
   {
    "duration": 34,
    "start_time": "2024-03-27T17:10:20.733Z"
   },
   {
    "duration": 14,
    "start_time": "2024-03-27T17:10:20.768Z"
   },
   {
    "duration": 30,
    "start_time": "2024-03-27T17:10:20.784Z"
   },
   {
    "duration": 19,
    "start_time": "2024-03-27T17:10:20.815Z"
   },
   {
    "duration": 58,
    "start_time": "2024-03-27T17:10:20.835Z"
   },
   {
    "duration": 162,
    "start_time": "2024-03-27T17:10:20.895Z"
   },
   {
    "duration": 169,
    "start_time": "2024-03-27T17:10:21.058Z"
   },
   {
    "duration": 13,
    "start_time": "2024-03-27T17:10:21.229Z"
   },
   {
    "duration": 41,
    "start_time": "2024-03-27T17:10:21.244Z"
   },
   {
    "duration": 4,
    "start_time": "2024-03-27T17:10:21.286Z"
   },
   {
    "duration": 31,
    "start_time": "2024-03-27T17:10:21.291Z"
   },
   {
    "duration": 377,
    "start_time": "2024-03-27T17:10:21.323Z"
   },
   {
    "duration": 11,
    "start_time": "2024-03-27T17:10:21.701Z"
   },
   {
    "duration": 14,
    "start_time": "2024-03-27T17:10:21.714Z"
   },
   {
    "duration": 16,
    "start_time": "2024-03-27T17:10:21.730Z"
   },
   {
    "duration": 15,
    "start_time": "2024-03-27T17:15:33.032Z"
   },
   {
    "duration": 58,
    "start_time": "2024-03-27T17:26:18.811Z"
   },
   {
    "duration": 17,
    "start_time": "2024-03-27T17:26:31.282Z"
   },
   {
    "duration": 13,
    "start_time": "2024-03-27T17:28:35.389Z"
   },
   {
    "duration": 67,
    "start_time": "2024-03-27T17:30:44.288Z"
   },
   {
    "duration": 5,
    "start_time": "2024-03-27T17:30:44.357Z"
   },
   {
    "duration": 4,
    "start_time": "2024-03-27T17:30:44.363Z"
   },
   {
    "duration": 8,
    "start_time": "2024-03-27T17:30:44.369Z"
   },
   {
    "duration": 7,
    "start_time": "2024-03-27T17:30:44.379Z"
   },
   {
    "duration": 12,
    "start_time": "2024-03-27T17:30:44.388Z"
   },
   {
    "duration": 8,
    "start_time": "2024-03-27T17:30:44.401Z"
   },
   {
    "duration": 9,
    "start_time": "2024-03-27T17:30:44.411Z"
   },
   {
    "duration": 45,
    "start_time": "2024-03-27T17:30:44.421Z"
   },
   {
    "duration": 6,
    "start_time": "2024-03-27T17:30:44.469Z"
   },
   {
    "duration": 9,
    "start_time": "2024-03-27T17:30:44.476Z"
   },
   {
    "duration": 16,
    "start_time": "2024-03-27T17:30:44.487Z"
   },
   {
    "duration": 23,
    "start_time": "2024-03-27T17:30:44.505Z"
   },
   {
    "duration": 6,
    "start_time": "2024-03-27T17:30:44.530Z"
   },
   {
    "duration": 32,
    "start_time": "2024-03-27T17:30:44.537Z"
   },
   {
    "duration": 6,
    "start_time": "2024-03-27T17:30:44.571Z"
   },
   {
    "duration": 5,
    "start_time": "2024-03-27T17:30:44.579Z"
   },
   {
    "duration": 9,
    "start_time": "2024-03-27T17:30:44.586Z"
   },
   {
    "duration": 10,
    "start_time": "2024-03-27T17:30:44.596Z"
   },
   {
    "duration": 13,
    "start_time": "2024-03-27T17:30:44.608Z"
   },
   {
    "duration": 12,
    "start_time": "2024-03-27T17:30:44.623Z"
   },
   {
    "duration": 9,
    "start_time": "2024-03-27T17:30:44.636Z"
   },
   {
    "duration": 5,
    "start_time": "2024-03-27T17:30:44.665Z"
   },
   {
    "duration": 217,
    "start_time": "2024-03-27T17:30:44.671Z"
   },
   {
    "duration": 5,
    "start_time": "2024-03-27T17:30:44.889Z"
   },
   {
    "duration": 7,
    "start_time": "2024-03-27T17:30:44.897Z"
   },
   {
    "duration": 4,
    "start_time": "2024-03-27T17:30:44.905Z"
   },
   {
    "duration": 4,
    "start_time": "2024-03-27T17:30:44.910Z"
   },
   {
    "duration": 4,
    "start_time": "2024-03-27T17:30:44.915Z"
   },
   {
    "duration": 317,
    "start_time": "2024-03-27T17:30:44.920Z"
   },
   {
    "duration": 8,
    "start_time": "2024-03-27T17:30:45.239Z"
   },
   {
    "duration": 28,
    "start_time": "2024-03-27T17:30:45.249Z"
   },
   {
    "duration": 23,
    "start_time": "2024-03-27T17:30:45.279Z"
   },
   {
    "duration": 22,
    "start_time": "2024-03-27T17:30:45.304Z"
   },
   {
    "duration": 41,
    "start_time": "2024-03-27T17:30:45.327Z"
   },
   {
    "duration": 7,
    "start_time": "2024-03-27T17:30:45.370Z"
   },
   {
    "duration": 21,
    "start_time": "2024-03-27T17:30:45.379Z"
   },
   {
    "duration": 15,
    "start_time": "2024-03-27T17:30:45.402Z"
   },
   {
    "duration": 49,
    "start_time": "2024-03-27T17:30:45.419Z"
   },
   {
    "duration": 18,
    "start_time": "2024-03-27T17:30:45.469Z"
   },
   {
    "duration": 30,
    "start_time": "2024-03-27T17:30:45.488Z"
   },
   {
    "duration": 186,
    "start_time": "2024-03-27T17:30:45.520Z"
   },
   {
    "duration": 168,
    "start_time": "2024-03-27T17:30:45.708Z"
   },
   {
    "duration": 15,
    "start_time": "2024-03-27T17:30:45.877Z"
   },
   {
    "duration": 32,
    "start_time": "2024-03-27T17:30:45.893Z"
   },
   {
    "duration": 4,
    "start_time": "2024-03-27T17:30:45.926Z"
   },
   {
    "duration": 48,
    "start_time": "2024-03-27T17:30:45.932Z"
   },
   {
    "duration": 279,
    "start_time": "2024-03-27T17:30:45.982Z"
   },
   {
    "duration": 12,
    "start_time": "2024-03-27T17:30:46.263Z"
   },
   {
    "duration": 15,
    "start_time": "2024-03-27T17:30:46.276Z"
   },
   {
    "duration": 11,
    "start_time": "2024-03-27T17:30:46.293Z"
   },
   {
    "duration": 0,
    "start_time": "2024-03-27T17:30:46.305Z"
   },
   {
    "duration": 15,
    "start_time": "2024-03-27T17:31:06.717Z"
   },
   {
    "duration": 73,
    "start_time": "2024-03-27T17:39:59.814Z"
   },
   {
    "duration": 6,
    "start_time": "2024-03-27T17:39:59.889Z"
   },
   {
    "duration": 3,
    "start_time": "2024-03-27T17:39:59.897Z"
   },
   {
    "duration": 9,
    "start_time": "2024-03-27T17:39:59.902Z"
   },
   {
    "duration": 9,
    "start_time": "2024-03-27T17:39:59.913Z"
   },
   {
    "duration": 15,
    "start_time": "2024-03-27T17:39:59.924Z"
   },
   {
    "duration": 26,
    "start_time": "2024-03-27T17:39:59.941Z"
   },
   {
    "duration": 9,
    "start_time": "2024-03-27T17:39:59.969Z"
   },
   {
    "duration": 9,
    "start_time": "2024-03-27T17:39:59.980Z"
   },
   {
    "duration": 7,
    "start_time": "2024-03-27T17:39:59.992Z"
   },
   {
    "duration": 30,
    "start_time": "2024-03-27T17:40:00.000Z"
   },
   {
    "duration": 57,
    "start_time": "2024-03-27T17:40:00.032Z"
   },
   {
    "duration": 28,
    "start_time": "2024-03-27T17:40:00.091Z"
   },
   {
    "duration": 14,
    "start_time": "2024-03-27T17:40:00.121Z"
   },
   {
    "duration": 62,
    "start_time": "2024-03-27T17:40:00.137Z"
   },
   {
    "duration": 67,
    "start_time": "2024-03-27T17:40:00.200Z"
   },
   {
    "duration": 80,
    "start_time": "2024-03-27T17:40:00.269Z"
   },
   {
    "duration": 33,
    "start_time": "2024-03-27T17:40:00.351Z"
   },
   {
    "duration": 12,
    "start_time": "2024-03-27T17:40:00.386Z"
   },
   {
    "duration": 47,
    "start_time": "2024-03-27T17:40:00.400Z"
   },
   {
    "duration": 73,
    "start_time": "2024-03-27T17:40:00.448Z"
   },
   {
    "duration": 155,
    "start_time": "2024-03-27T17:40:00.523Z"
   },
   {
    "duration": 80,
    "start_time": "2024-03-27T17:40:00.679Z"
   },
   {
    "duration": 390,
    "start_time": "2024-03-27T17:40:00.761Z"
   },
   {
    "duration": 14,
    "start_time": "2024-03-27T17:40:01.152Z"
   },
   {
    "duration": 35,
    "start_time": "2024-03-27T17:40:01.169Z"
   },
   {
    "duration": 45,
    "start_time": "2024-03-27T17:40:01.206Z"
   },
   {
    "duration": 59,
    "start_time": "2024-03-27T17:40:01.253Z"
   },
   {
    "duration": 44,
    "start_time": "2024-03-27T17:40:01.314Z"
   },
   {
    "duration": 309,
    "start_time": "2024-03-27T17:40:01.360Z"
   },
   {
    "duration": 7,
    "start_time": "2024-03-27T17:40:01.670Z"
   },
   {
    "duration": 84,
    "start_time": "2024-03-27T17:40:01.679Z"
   },
   {
    "duration": 33,
    "start_time": "2024-03-27T17:40:01.765Z"
   },
   {
    "duration": 36,
    "start_time": "2024-03-27T17:40:01.800Z"
   },
   {
    "duration": 52,
    "start_time": "2024-03-27T17:40:01.838Z"
   },
   {
    "duration": 13,
    "start_time": "2024-03-27T17:40:01.891Z"
   },
   {
    "duration": 51,
    "start_time": "2024-03-27T17:40:01.906Z"
   },
   {
    "duration": 24,
    "start_time": "2024-03-27T17:40:01.958Z"
   },
   {
    "duration": 43,
    "start_time": "2024-03-27T17:40:01.984Z"
   },
   {
    "duration": 43,
    "start_time": "2024-03-27T17:40:02.028Z"
   },
   {
    "duration": 30,
    "start_time": "2024-03-27T17:40:02.072Z"
   },
   {
    "duration": 170,
    "start_time": "2024-03-27T17:40:02.104Z"
   },
   {
    "duration": 172,
    "start_time": "2024-03-27T17:40:02.275Z"
   },
   {
    "duration": 21,
    "start_time": "2024-03-27T17:40:02.448Z"
   },
   {
    "duration": 54,
    "start_time": "2024-03-27T17:40:02.471Z"
   },
   {
    "duration": 27,
    "start_time": "2024-03-27T17:40:02.527Z"
   },
   {
    "duration": 43,
    "start_time": "2024-03-27T17:40:02.556Z"
   },
   {
    "duration": 317,
    "start_time": "2024-03-27T17:40:02.601Z"
   },
   {
    "duration": 14,
    "start_time": "2024-03-27T17:40:02.920Z"
   },
   {
    "duration": 37,
    "start_time": "2024-03-27T17:40:02.935Z"
   },
   {
    "duration": 21,
    "start_time": "2024-03-27T17:40:02.974Z"
   },
   {
    "duration": 0,
    "start_time": "2024-03-27T17:40:02.996Z"
   },
   {
    "duration": 10,
    "start_time": "2024-03-27T17:44:40.457Z"
   },
   {
    "duration": 11,
    "start_time": "2024-03-27T17:45:42.436Z"
   },
   {
    "duration": 63,
    "start_time": "2024-03-27T17:46:23.669Z"
   },
   {
    "duration": 16,
    "start_time": "2024-03-27T17:49:20.640Z"
   },
   {
    "duration": 11,
    "start_time": "2024-03-27T17:49:55.538Z"
   },
   {
    "duration": 1631,
    "start_time": "2024-03-27T19:27:09.489Z"
   },
   {
    "duration": 7,
    "start_time": "2024-03-27T19:27:11.123Z"
   },
   {
    "duration": 7,
    "start_time": "2024-03-27T19:27:11.131Z"
   },
   {
    "duration": 60,
    "start_time": "2024-03-27T19:27:11.139Z"
   },
   {
    "duration": 16,
    "start_time": "2024-03-27T19:27:11.202Z"
   },
   {
    "duration": 16,
    "start_time": "2024-03-27T19:27:11.219Z"
   },
   {
    "duration": 13,
    "start_time": "2024-03-27T19:27:11.292Z"
   },
   {
    "duration": 17,
    "start_time": "2024-03-27T19:27:11.307Z"
   },
   {
    "duration": 28,
    "start_time": "2024-03-27T19:27:11.326Z"
   },
   {
    "duration": 41,
    "start_time": "2024-03-27T19:27:11.355Z"
   },
   {
    "duration": 26,
    "start_time": "2024-03-27T19:27:11.397Z"
   },
   {
    "duration": 67,
    "start_time": "2024-03-27T19:27:11.425Z"
   },
   {
    "duration": 25,
    "start_time": "2024-03-27T19:27:11.493Z"
   },
   {
    "duration": 5,
    "start_time": "2024-03-27T19:27:11.521Z"
   },
   {
    "duration": 21,
    "start_time": "2024-03-27T19:27:11.527Z"
   },
   {
    "duration": 46,
    "start_time": "2024-03-27T19:27:11.550Z"
   },
   {
    "duration": 20,
    "start_time": "2024-03-27T19:27:11.597Z"
   },
   {
    "duration": 9,
    "start_time": "2024-03-27T19:27:11.618Z"
   },
   {
    "duration": 64,
    "start_time": "2024-03-27T19:27:11.629Z"
   },
   {
    "duration": 6,
    "start_time": "2024-03-27T19:27:11.695Z"
   },
   {
    "duration": 40,
    "start_time": "2024-03-27T19:27:11.702Z"
   },
   {
    "duration": 55,
    "start_time": "2024-03-27T19:27:11.744Z"
   },
   {
    "duration": 12,
    "start_time": "2024-03-27T19:27:11.801Z"
   },
   {
    "duration": 523,
    "start_time": "2024-03-27T19:27:11.815Z"
   },
   {
    "duration": 6,
    "start_time": "2024-03-27T19:27:12.340Z"
   },
   {
    "duration": 25,
    "start_time": "2024-03-27T19:27:12.348Z"
   },
   {
    "duration": 18,
    "start_time": "2024-03-27T19:27:12.374Z"
   },
   {
    "duration": 28,
    "start_time": "2024-03-27T19:27:12.394Z"
   },
   {
    "duration": 69,
    "start_time": "2024-03-27T19:27:12.424Z"
   },
   {
    "duration": 742,
    "start_time": "2024-03-27T19:27:12.495Z"
   },
   {
    "duration": 10,
    "start_time": "2024-03-27T19:27:13.291Z"
   },
   {
    "duration": 90,
    "start_time": "2024-03-27T19:27:13.303Z"
   },
   {
    "duration": 110,
    "start_time": "2024-03-27T19:27:13.395Z"
   },
   {
    "duration": 39,
    "start_time": "2024-03-27T19:27:13.506Z"
   },
   {
    "duration": 78,
    "start_time": "2024-03-27T19:27:13.547Z"
   },
   {
    "duration": 8,
    "start_time": "2024-03-27T19:27:13.627Z"
   },
   {
    "duration": 77,
    "start_time": "2024-03-27T19:27:13.636Z"
   },
   {
    "duration": 80,
    "start_time": "2024-03-27T19:27:13.715Z"
   },
   {
    "duration": 95,
    "start_time": "2024-03-27T19:27:13.797Z"
   },
   {
    "duration": 32,
    "start_time": "2024-03-27T19:27:13.894Z"
   },
   {
    "duration": 95,
    "start_time": "2024-03-27T19:27:13.930Z"
   },
   {
    "duration": 394,
    "start_time": "2024-03-27T19:27:14.027Z"
   },
   {
    "duration": 382,
    "start_time": "2024-03-27T19:27:14.423Z"
   },
   {
    "duration": 16,
    "start_time": "2024-03-27T19:27:14.807Z"
   },
   {
    "duration": 96,
    "start_time": "2024-03-27T19:27:14.825Z"
   },
   {
    "duration": 4,
    "start_time": "2024-03-27T19:27:14.923Z"
   },
   {
    "duration": 96,
    "start_time": "2024-03-27T19:27:14.929Z"
   },
   {
    "duration": 793,
    "start_time": "2024-03-27T19:27:15.027Z"
   },
   {
    "duration": 15,
    "start_time": "2024-03-27T19:27:15.822Z"
   },
   {
    "duration": 272,
    "start_time": "2024-03-27T19:27:15.838Z"
   },
   {
    "duration": 0,
    "start_time": "2024-03-27T19:27:16.111Z"
   },
   {
    "duration": 0,
    "start_time": "2024-03-27T19:27:16.113Z"
   },
   {
    "duration": 169,
    "start_time": "2024-03-27T19:39:01.488Z"
   },
   {
    "duration": 7,
    "start_time": "2024-03-27T19:39:25.485Z"
   },
   {
    "duration": 1299,
    "start_time": "2024-03-27T19:39:46.936Z"
   },
   {
    "duration": 8,
    "start_time": "2024-03-27T19:39:48.237Z"
   },
   {
    "duration": 11,
    "start_time": "2024-03-27T19:39:48.247Z"
   },
   {
    "duration": 28,
    "start_time": "2024-03-27T19:39:48.260Z"
   },
   {
    "duration": 12,
    "start_time": "2024-03-27T19:39:48.290Z"
   },
   {
    "duration": 22,
    "start_time": "2024-03-27T19:39:48.304Z"
   },
   {
    "duration": 17,
    "start_time": "2024-03-27T19:39:48.328Z"
   },
   {
    "duration": 10,
    "start_time": "2024-03-27T19:39:48.346Z"
   },
   {
    "duration": 9,
    "start_time": "2024-03-27T19:39:48.357Z"
   },
   {
    "duration": 49,
    "start_time": "2024-03-27T19:39:48.367Z"
   },
   {
    "duration": 24,
    "start_time": "2024-03-27T19:39:48.418Z"
   },
   {
    "duration": 12,
    "start_time": "2024-03-27T19:39:48.444Z"
   },
   {
    "duration": 35,
    "start_time": "2024-03-27T19:39:48.458Z"
   },
   {
    "duration": 26,
    "start_time": "2024-03-27T19:39:48.496Z"
   },
   {
    "duration": 13,
    "start_time": "2024-03-27T19:39:48.523Z"
   },
   {
    "duration": 11,
    "start_time": "2024-03-27T19:39:48.537Z"
   },
   {
    "duration": 18,
    "start_time": "2024-03-27T19:39:48.549Z"
   },
   {
    "duration": 26,
    "start_time": "2024-03-27T19:39:48.569Z"
   },
   {
    "duration": 18,
    "start_time": "2024-03-27T19:39:48.596Z"
   },
   {
    "duration": 9,
    "start_time": "2024-03-27T19:39:48.616Z"
   },
   {
    "duration": 13,
    "start_time": "2024-03-27T19:39:48.626Z"
   },
   {
    "duration": 16,
    "start_time": "2024-03-27T19:39:48.640Z"
   },
   {
    "duration": 26,
    "start_time": "2024-03-27T19:39:48.657Z"
   },
   {
    "duration": 263,
    "start_time": "2024-03-27T19:39:48.685Z"
   },
   {
    "duration": 5,
    "start_time": "2024-03-27T19:39:48.950Z"
   },
   {
    "duration": 13,
    "start_time": "2024-03-27T19:39:48.957Z"
   },
   {
    "duration": 4,
    "start_time": "2024-03-27T19:39:48.992Z"
   },
   {
    "duration": 11,
    "start_time": "2024-03-27T19:39:48.997Z"
   },
   {
    "duration": 6,
    "start_time": "2024-03-27T19:39:49.009Z"
   },
   {
    "duration": 342,
    "start_time": "2024-03-27T19:39:49.017Z"
   },
   {
    "duration": 8,
    "start_time": "2024-03-27T19:39:49.361Z"
   },
   {
    "duration": 20,
    "start_time": "2024-03-27T19:39:49.370Z"
   },
   {
    "duration": 6,
    "start_time": "2024-03-27T19:39:49.391Z"
   },
   {
    "duration": 9,
    "start_time": "2024-03-27T19:39:49.399Z"
   },
   {
    "duration": 31,
    "start_time": "2024-03-27T19:39:49.409Z"
   },
   {
    "duration": 9,
    "start_time": "2024-03-27T19:39:49.441Z"
   },
   {
    "duration": 51,
    "start_time": "2024-03-27T19:39:49.451Z"
   },
   {
    "duration": 17,
    "start_time": "2024-03-27T19:39:49.504Z"
   },
   {
    "duration": 31,
    "start_time": "2024-03-27T19:39:49.522Z"
   },
   {
    "duration": 42,
    "start_time": "2024-03-27T19:39:49.555Z"
   },
   {
    "duration": 32,
    "start_time": "2024-03-27T19:39:49.601Z"
   },
   {
    "duration": 200,
    "start_time": "2024-03-27T19:39:49.634Z"
   },
   {
    "duration": 204,
    "start_time": "2024-03-27T19:39:49.836Z"
   },
   {
    "duration": 16,
    "start_time": "2024-03-27T19:39:50.042Z"
   },
   {
    "duration": 57,
    "start_time": "2024-03-27T19:39:50.060Z"
   },
   {
    "duration": 7,
    "start_time": "2024-03-27T19:39:50.119Z"
   },
   {
    "duration": 31,
    "start_time": "2024-03-27T19:39:50.128Z"
   },
   {
    "duration": 380,
    "start_time": "2024-03-27T19:39:50.161Z"
   },
   {
    "duration": 14,
    "start_time": "2024-03-27T19:39:50.543Z"
   },
   {
    "duration": 7,
    "start_time": "2024-03-27T19:39:50.559Z"
   },
   {
    "duration": 136,
    "start_time": "2024-03-27T19:39:50.568Z"
   },
   {
    "duration": 0,
    "start_time": "2024-03-27T19:39:50.706Z"
   },
   {
    "duration": 0,
    "start_time": "2024-03-27T19:39:50.707Z"
   },
   {
    "duration": 43,
    "start_time": "2024-03-28T08:59:40.772Z"
   },
   {
    "duration": 1486,
    "start_time": "2024-03-28T09:00:00.147Z"
   },
   {
    "duration": 7,
    "start_time": "2024-03-28T09:00:01.635Z"
   },
   {
    "duration": 114,
    "start_time": "2024-03-28T09:00:01.643Z"
   },
   {
    "duration": 29,
    "start_time": "2024-03-28T09:00:01.759Z"
   },
   {
    "duration": 78,
    "start_time": "2024-03-28T09:00:01.789Z"
   },
   {
    "duration": 134,
    "start_time": "2024-03-28T09:00:01.868Z"
   },
   {
    "duration": 106,
    "start_time": "2024-03-28T09:00:02.003Z"
   },
   {
    "duration": 114,
    "start_time": "2024-03-28T09:00:02.110Z"
   },
   {
    "duration": 61,
    "start_time": "2024-03-28T09:00:02.226Z"
   },
   {
    "duration": 88,
    "start_time": "2024-03-28T09:00:02.289Z"
   },
   {
    "duration": 132,
    "start_time": "2024-03-28T09:00:02.378Z"
   },
   {
    "duration": 67,
    "start_time": "2024-03-28T09:00:02.511Z"
   },
   {
    "duration": 72,
    "start_time": "2024-03-28T09:00:02.580Z"
   },
   {
    "duration": 18,
    "start_time": "2024-03-28T09:00:02.653Z"
   },
   {
    "duration": 59,
    "start_time": "2024-03-28T09:00:02.673Z"
   },
   {
    "duration": 29,
    "start_time": "2024-03-28T09:00:02.734Z"
   },
   {
    "duration": 40,
    "start_time": "2024-03-28T09:00:02.764Z"
   },
   {
    "duration": 61,
    "start_time": "2024-03-28T09:00:02.805Z"
   },
   {
    "duration": 15,
    "start_time": "2024-03-28T09:00:02.868Z"
   },
   {
    "duration": 42,
    "start_time": "2024-03-28T09:00:02.884Z"
   },
   {
    "duration": 78,
    "start_time": "2024-03-28T09:00:02.928Z"
   },
   {
    "duration": 73,
    "start_time": "2024-03-28T09:00:03.008Z"
   },
   {
    "duration": 22,
    "start_time": "2024-03-28T09:00:03.082Z"
   },
   {
    "duration": 215,
    "start_time": "2024-03-28T09:00:03.106Z"
   },
   {
    "duration": 4,
    "start_time": "2024-03-28T09:00:03.323Z"
   },
   {
    "duration": 155,
    "start_time": "2024-03-28T09:00:03.329Z"
   },
   {
    "duration": 10,
    "start_time": "2024-03-28T09:00:03.485Z"
   },
   {
    "duration": 35,
    "start_time": "2024-03-28T09:00:03.498Z"
   },
   {
    "duration": 18,
    "start_time": "2024-03-28T09:00:03.535Z"
   },
   {
    "duration": 262,
    "start_time": "2024-03-28T09:00:03.554Z"
   },
   {
    "duration": 7,
    "start_time": "2024-03-28T09:00:03.817Z"
   },
   {
    "duration": 20,
    "start_time": "2024-03-28T09:00:03.825Z"
   },
   {
    "duration": 3,
    "start_time": "2024-03-28T09:00:03.846Z"
   },
   {
    "duration": 15,
    "start_time": "2024-03-28T09:00:03.850Z"
   },
   {
    "duration": 24,
    "start_time": "2024-03-28T09:00:03.866Z"
   },
   {
    "duration": 6,
    "start_time": "2024-03-28T09:00:03.892Z"
   },
   {
    "duration": 24,
    "start_time": "2024-03-28T09:00:03.899Z"
   },
   {
    "duration": 28,
    "start_time": "2024-03-28T09:00:03.925Z"
   },
   {
    "duration": 26,
    "start_time": "2024-03-28T09:00:03.955Z"
   },
   {
    "duration": 16,
    "start_time": "2024-03-28T09:00:03.982Z"
   },
   {
    "duration": 47,
    "start_time": "2024-03-28T09:00:03.999Z"
   },
   {
    "duration": 148,
    "start_time": "2024-03-28T09:00:04.047Z"
   },
   {
    "duration": 156,
    "start_time": "2024-03-28T09:00:04.196Z"
   },
   {
    "duration": 13,
    "start_time": "2024-03-28T09:00:04.353Z"
   },
   {
    "duration": 40,
    "start_time": "2024-03-28T09:00:04.367Z"
   },
   {
    "duration": 3,
    "start_time": "2024-03-28T09:00:04.409Z"
   },
   {
    "duration": 29,
    "start_time": "2024-03-28T09:00:04.414Z"
   },
   {
    "duration": 312,
    "start_time": "2024-03-28T09:00:04.445Z"
   },
   {
    "duration": 12,
    "start_time": "2024-03-28T09:00:04.759Z"
   },
   {
    "duration": 83,
    "start_time": "2024-03-28T09:00:04.773Z"
   },
   {
    "duration": 0,
    "start_time": "2024-03-28T09:00:04.857Z"
   },
   {
    "duration": 0,
    "start_time": "2024-03-28T09:00:04.858Z"
   },
   {
    "duration": 178,
    "start_time": "2024-03-28T09:00:52.836Z"
   },
   {
    "duration": 16,
    "start_time": "2024-03-28T09:01:20.180Z"
   },
   {
    "duration": 14,
    "start_time": "2024-03-28T09:01:42.969Z"
   },
   {
    "duration": 12,
    "start_time": "2024-03-28T09:05:51.197Z"
   },
   {
    "duration": 164,
    "start_time": "2024-03-28T09:06:57.242Z"
   },
   {
    "duration": 90,
    "start_time": "2024-03-28T09:07:16.462Z"
   },
   {
    "duration": 66,
    "start_time": "2024-03-28T09:07:39.826Z"
   },
   {
    "duration": 6,
    "start_time": "2024-03-28T09:07:39.894Z"
   },
   {
    "duration": 3,
    "start_time": "2024-03-28T09:07:39.901Z"
   },
   {
    "duration": 11,
    "start_time": "2024-03-28T09:07:39.906Z"
   },
   {
    "duration": 7,
    "start_time": "2024-03-28T09:07:39.918Z"
   },
   {
    "duration": 13,
    "start_time": "2024-03-28T09:07:39.926Z"
   },
   {
    "duration": 8,
    "start_time": "2024-03-28T09:07:39.940Z"
   },
   {
    "duration": 7,
    "start_time": "2024-03-28T09:07:39.949Z"
   },
   {
    "duration": 11,
    "start_time": "2024-03-28T09:07:39.957Z"
   },
   {
    "duration": 6,
    "start_time": "2024-03-28T09:07:39.969Z"
   },
   {
    "duration": 10,
    "start_time": "2024-03-28T09:07:39.976Z"
   },
   {
    "duration": 5,
    "start_time": "2024-03-28T09:07:39.987Z"
   },
   {
    "duration": 18,
    "start_time": "2024-03-28T09:07:39.993Z"
   },
   {
    "duration": 5,
    "start_time": "2024-03-28T09:07:40.044Z"
   },
   {
    "duration": 8,
    "start_time": "2024-03-28T09:07:40.050Z"
   },
   {
    "duration": 43,
    "start_time": "2024-03-28T09:07:40.059Z"
   },
   {
    "duration": 12,
    "start_time": "2024-03-28T09:07:40.103Z"
   },
   {
    "duration": 5,
    "start_time": "2024-03-28T09:07:40.117Z"
   },
   {
    "duration": 8,
    "start_time": "2024-03-28T09:07:40.124Z"
   },
   {
    "duration": 7,
    "start_time": "2024-03-28T09:07:40.133Z"
   },
   {
    "duration": 7,
    "start_time": "2024-03-28T09:07:40.141Z"
   },
   {
    "duration": 7,
    "start_time": "2024-03-28T09:07:40.150Z"
   },
   {
    "duration": 4,
    "start_time": "2024-03-28T09:07:40.158Z"
   },
   {
    "duration": 103,
    "start_time": "2024-03-28T09:07:40.164Z"
   },
   {
    "duration": 0,
    "start_time": "2024-03-28T09:07:40.269Z"
   },
   {
    "duration": 0,
    "start_time": "2024-03-28T09:07:40.270Z"
   },
   {
    "duration": 0,
    "start_time": "2024-03-28T09:07:40.271Z"
   },
   {
    "duration": 0,
    "start_time": "2024-03-28T09:07:40.272Z"
   },
   {
    "duration": 0,
    "start_time": "2024-03-28T09:07:40.273Z"
   },
   {
    "duration": 0,
    "start_time": "2024-03-28T09:07:40.274Z"
   },
   {
    "duration": 0,
    "start_time": "2024-03-28T09:07:40.275Z"
   },
   {
    "duration": 0,
    "start_time": "2024-03-28T09:07:40.276Z"
   },
   {
    "duration": 0,
    "start_time": "2024-03-28T09:07:40.277Z"
   },
   {
    "duration": 0,
    "start_time": "2024-03-28T09:07:40.278Z"
   },
   {
    "duration": 0,
    "start_time": "2024-03-28T09:07:40.279Z"
   },
   {
    "duration": 0,
    "start_time": "2024-03-28T09:07:40.280Z"
   },
   {
    "duration": 0,
    "start_time": "2024-03-28T09:07:40.281Z"
   },
   {
    "duration": 0,
    "start_time": "2024-03-28T09:07:40.282Z"
   },
   {
    "duration": 0,
    "start_time": "2024-03-28T09:07:40.283Z"
   },
   {
    "duration": 0,
    "start_time": "2024-03-28T09:07:40.283Z"
   },
   {
    "duration": 0,
    "start_time": "2024-03-28T09:07:40.284Z"
   },
   {
    "duration": 0,
    "start_time": "2024-03-28T09:07:40.285Z"
   },
   {
    "duration": 0,
    "start_time": "2024-03-28T09:07:40.286Z"
   },
   {
    "duration": 0,
    "start_time": "2024-03-28T09:07:40.287Z"
   },
   {
    "duration": 0,
    "start_time": "2024-03-28T09:07:40.288Z"
   },
   {
    "duration": 0,
    "start_time": "2024-03-28T09:07:40.289Z"
   },
   {
    "duration": 0,
    "start_time": "2024-03-28T09:07:40.290Z"
   },
   {
    "duration": 344,
    "start_time": "2024-03-28T09:07:40.292Z"
   },
   {
    "duration": 16,
    "start_time": "2024-03-28T09:07:40.638Z"
   },
   {
    "duration": 10,
    "start_time": "2024-03-28T09:07:40.657Z"
   },
   {
    "duration": 0,
    "start_time": "2024-03-28T09:07:40.668Z"
   },
   {
    "duration": 0,
    "start_time": "2024-03-28T09:07:40.669Z"
   },
   {
    "duration": 198,
    "start_time": "2024-03-28T09:22:14.834Z"
   },
   {
    "duration": 157,
    "start_time": "2024-03-28T09:22:33.436Z"
   },
   {
    "duration": 283,
    "start_time": "2024-03-28T09:27:19.828Z"
   },
   {
    "duration": 71,
    "start_time": "2024-03-28T09:27:35.688Z"
   },
   {
    "duration": 7,
    "start_time": "2024-03-28T09:27:35.761Z"
   },
   {
    "duration": 6,
    "start_time": "2024-03-28T09:27:35.769Z"
   },
   {
    "duration": 7,
    "start_time": "2024-03-28T09:27:35.778Z"
   },
   {
    "duration": 11,
    "start_time": "2024-03-28T09:27:35.787Z"
   },
   {
    "duration": 15,
    "start_time": "2024-03-28T09:27:35.799Z"
   },
   {
    "duration": 41,
    "start_time": "2024-03-28T09:27:35.816Z"
   },
   {
    "duration": 8,
    "start_time": "2024-03-28T09:27:35.861Z"
   },
   {
    "duration": 8,
    "start_time": "2024-03-28T09:27:35.870Z"
   },
   {
    "duration": 6,
    "start_time": "2024-03-28T09:27:35.880Z"
   },
   {
    "duration": 8,
    "start_time": "2024-03-28T09:27:35.888Z"
   },
   {
    "duration": 6,
    "start_time": "2024-03-28T09:27:35.897Z"
   },
   {
    "duration": 57,
    "start_time": "2024-03-28T09:27:35.904Z"
   },
   {
    "duration": 5,
    "start_time": "2024-03-28T09:27:35.962Z"
   },
   {
    "duration": 6,
    "start_time": "2024-03-28T09:27:35.968Z"
   },
   {
    "duration": 11,
    "start_time": "2024-03-28T09:27:35.975Z"
   },
   {
    "duration": 7,
    "start_time": "2024-03-28T09:27:35.987Z"
   },
   {
    "duration": 6,
    "start_time": "2024-03-28T09:27:35.995Z"
   },
   {
    "duration": 21,
    "start_time": "2024-03-28T09:27:36.002Z"
   },
   {
    "duration": 12,
    "start_time": "2024-03-28T09:27:36.024Z"
   },
   {
    "duration": 37,
    "start_time": "2024-03-28T09:27:36.038Z"
   },
   {
    "duration": 27,
    "start_time": "2024-03-28T09:27:36.077Z"
   },
   {
    "duration": 7,
    "start_time": "2024-03-28T09:27:36.105Z"
   },
   {
    "duration": 271,
    "start_time": "2024-03-28T09:27:36.116Z"
   },
   {
    "duration": 0,
    "start_time": "2024-03-28T09:27:36.389Z"
   },
   {
    "duration": 0,
    "start_time": "2024-03-28T09:27:36.390Z"
   },
   {
    "duration": 0,
    "start_time": "2024-03-28T09:27:36.390Z"
   },
   {
    "duration": 0,
    "start_time": "2024-03-28T09:27:36.392Z"
   },
   {
    "duration": 0,
    "start_time": "2024-03-28T09:27:36.392Z"
   },
   {
    "duration": 0,
    "start_time": "2024-03-28T09:27:36.393Z"
   },
   {
    "duration": 0,
    "start_time": "2024-03-28T09:27:36.394Z"
   },
   {
    "duration": 0,
    "start_time": "2024-03-28T09:27:36.395Z"
   },
   {
    "duration": 0,
    "start_time": "2024-03-28T09:27:36.396Z"
   },
   {
    "duration": 0,
    "start_time": "2024-03-28T09:27:36.397Z"
   },
   {
    "duration": 0,
    "start_time": "2024-03-28T09:27:36.398Z"
   },
   {
    "duration": 0,
    "start_time": "2024-03-28T09:27:36.399Z"
   },
   {
    "duration": 0,
    "start_time": "2024-03-28T09:27:36.400Z"
   },
   {
    "duration": 0,
    "start_time": "2024-03-28T09:27:36.401Z"
   },
   {
    "duration": 0,
    "start_time": "2024-03-28T09:27:36.402Z"
   },
   {
    "duration": 0,
    "start_time": "2024-03-28T09:27:36.403Z"
   },
   {
    "duration": 0,
    "start_time": "2024-03-28T09:27:36.403Z"
   },
   {
    "duration": 0,
    "start_time": "2024-03-28T09:27:36.404Z"
   },
   {
    "duration": 0,
    "start_time": "2024-03-28T09:27:36.405Z"
   },
   {
    "duration": 0,
    "start_time": "2024-03-28T09:27:36.406Z"
   },
   {
    "duration": 0,
    "start_time": "2024-03-28T09:27:36.407Z"
   },
   {
    "duration": 0,
    "start_time": "2024-03-28T09:27:36.408Z"
   },
   {
    "duration": 0,
    "start_time": "2024-03-28T09:27:36.409Z"
   },
   {
    "duration": 0,
    "start_time": "2024-03-28T09:27:36.444Z"
   },
   {
    "duration": 0,
    "start_time": "2024-03-28T09:27:36.445Z"
   },
   {
    "duration": 0,
    "start_time": "2024-03-28T09:27:36.446Z"
   },
   {
    "duration": 0,
    "start_time": "2024-03-28T09:27:36.446Z"
   },
   {
    "duration": 0,
    "start_time": "2024-03-28T09:27:36.448Z"
   },
   {
    "duration": 202,
    "start_time": "2024-03-28T09:28:43.512Z"
   },
   {
    "duration": 209,
    "start_time": "2024-03-28T09:28:53.160Z"
   },
   {
    "duration": 2112,
    "start_time": "2024-03-28T09:29:28.365Z"
   },
   {
    "duration": 203,
    "start_time": "2024-03-28T09:36:18.503Z"
   },
   {
    "duration": 204,
    "start_time": "2024-03-28T09:36:42.088Z"
   },
   {
    "duration": 250,
    "start_time": "2024-03-28T09:39:21.817Z"
   },
   {
    "duration": 184,
    "start_time": "2024-03-28T09:39:39.659Z"
   },
   {
    "duration": 66,
    "start_time": "2024-03-28T09:39:57.279Z"
   },
   {
    "duration": 6,
    "start_time": "2024-03-28T09:39:57.347Z"
   },
   {
    "duration": 14,
    "start_time": "2024-03-28T09:39:57.354Z"
   },
   {
    "duration": 20,
    "start_time": "2024-03-28T09:39:57.370Z"
   },
   {
    "duration": 41,
    "start_time": "2024-03-28T09:39:57.392Z"
   },
   {
    "duration": 45,
    "start_time": "2024-03-28T09:39:57.435Z"
   },
   {
    "duration": 12,
    "start_time": "2024-03-28T09:39:57.483Z"
   },
   {
    "duration": 9,
    "start_time": "2024-03-28T09:39:57.497Z"
   },
   {
    "duration": 10,
    "start_time": "2024-03-28T09:39:57.507Z"
   },
   {
    "duration": 8,
    "start_time": "2024-03-28T09:39:57.520Z"
   },
   {
    "duration": 22,
    "start_time": "2024-03-28T09:39:57.529Z"
   },
   {
    "duration": 6,
    "start_time": "2024-03-28T09:39:57.553Z"
   },
   {
    "duration": 25,
    "start_time": "2024-03-28T09:39:57.561Z"
   },
   {
    "duration": 6,
    "start_time": "2024-03-28T09:39:57.588Z"
   },
   {
    "duration": 10,
    "start_time": "2024-03-28T09:39:57.596Z"
   },
   {
    "duration": 41,
    "start_time": "2024-03-28T09:39:57.608Z"
   },
   {
    "duration": 8,
    "start_time": "2024-03-28T09:39:57.651Z"
   },
   {
    "duration": 6,
    "start_time": "2024-03-28T09:39:57.660Z"
   },
   {
    "duration": 6,
    "start_time": "2024-03-28T09:39:57.667Z"
   },
   {
    "duration": 4,
    "start_time": "2024-03-28T09:39:57.674Z"
   },
   {
    "duration": 8,
    "start_time": "2024-03-28T09:39:57.680Z"
   },
   {
    "duration": 13,
    "start_time": "2024-03-28T09:39:57.690Z"
   },
   {
    "duration": 6,
    "start_time": "2024-03-28T09:39:57.744Z"
   },
   {
    "duration": 193,
    "start_time": "2024-03-28T09:39:57.751Z"
   },
   {
    "duration": 0,
    "start_time": "2024-03-28T09:39:57.948Z"
   },
   {
    "duration": 0,
    "start_time": "2024-03-28T09:39:57.949Z"
   },
   {
    "duration": 0,
    "start_time": "2024-03-28T09:39:57.951Z"
   },
   {
    "duration": 0,
    "start_time": "2024-03-28T09:39:57.952Z"
   },
   {
    "duration": 0,
    "start_time": "2024-03-28T09:39:57.954Z"
   },
   {
    "duration": 0,
    "start_time": "2024-03-28T09:39:57.955Z"
   },
   {
    "duration": 0,
    "start_time": "2024-03-28T09:39:57.957Z"
   },
   {
    "duration": 0,
    "start_time": "2024-03-28T09:39:57.958Z"
   },
   {
    "duration": 0,
    "start_time": "2024-03-28T09:39:57.960Z"
   },
   {
    "duration": 0,
    "start_time": "2024-03-28T09:39:57.961Z"
   },
   {
    "duration": 0,
    "start_time": "2024-03-28T09:39:57.963Z"
   },
   {
    "duration": 0,
    "start_time": "2024-03-28T09:39:57.964Z"
   },
   {
    "duration": 0,
    "start_time": "2024-03-28T09:39:57.966Z"
   },
   {
    "duration": 0,
    "start_time": "2024-03-28T09:39:57.967Z"
   },
   {
    "duration": 0,
    "start_time": "2024-03-28T09:39:57.968Z"
   },
   {
    "duration": 0,
    "start_time": "2024-03-28T09:39:57.969Z"
   },
   {
    "duration": 0,
    "start_time": "2024-03-28T09:39:57.970Z"
   },
   {
    "duration": 0,
    "start_time": "2024-03-28T09:39:57.971Z"
   },
   {
    "duration": 0,
    "start_time": "2024-03-28T09:39:57.972Z"
   },
   {
    "duration": 0,
    "start_time": "2024-03-28T09:39:57.973Z"
   },
   {
    "duration": 0,
    "start_time": "2024-03-28T09:39:57.974Z"
   },
   {
    "duration": 0,
    "start_time": "2024-03-28T09:39:57.975Z"
   },
   {
    "duration": 0,
    "start_time": "2024-03-28T09:39:57.975Z"
   },
   {
    "duration": 0,
    "start_time": "2024-03-28T09:39:57.976Z"
   },
   {
    "duration": 0,
    "start_time": "2024-03-28T09:39:57.978Z"
   },
   {
    "duration": 0,
    "start_time": "2024-03-28T09:39:57.979Z"
   },
   {
    "duration": 0,
    "start_time": "2024-03-28T09:39:57.980Z"
   },
   {
    "duration": 0,
    "start_time": "2024-03-28T09:39:57.981Z"
   },
   {
    "duration": 4,
    "start_time": "2024-03-28T09:41:16.300Z"
   },
   {
    "duration": 204,
    "start_time": "2024-03-28T09:41:19.930Z"
   },
   {
    "duration": 5,
    "start_time": "2024-03-28T09:45:13.512Z"
   },
   {
    "duration": 335,
    "start_time": "2024-03-28T09:45:18.465Z"
   },
   {
    "duration": 192,
    "start_time": "2024-03-28T09:46:39.640Z"
   },
   {
    "duration": 1143,
    "start_time": "2024-03-28T09:46:53.164Z"
   },
   {
    "duration": 7,
    "start_time": "2024-03-28T09:46:54.308Z"
   },
   {
    "duration": 27,
    "start_time": "2024-03-28T09:46:54.316Z"
   },
   {
    "duration": 7,
    "start_time": "2024-03-28T09:46:54.345Z"
   },
   {
    "duration": 10,
    "start_time": "2024-03-28T09:46:54.354Z"
   },
   {
    "duration": 12,
    "start_time": "2024-03-28T09:46:54.365Z"
   },
   {
    "duration": 8,
    "start_time": "2024-03-28T09:46:54.379Z"
   },
   {
    "duration": 8,
    "start_time": "2024-03-28T09:46:54.389Z"
   },
   {
    "duration": 7,
    "start_time": "2024-03-28T09:46:54.398Z"
   },
   {
    "duration": 39,
    "start_time": "2024-03-28T09:46:54.408Z"
   },
   {
    "duration": 10,
    "start_time": "2024-03-28T09:46:54.449Z"
   },
   {
    "duration": 6,
    "start_time": "2024-03-28T09:46:54.460Z"
   },
   {
    "duration": 20,
    "start_time": "2024-03-28T09:46:54.468Z"
   },
   {
    "duration": 6,
    "start_time": "2024-03-28T09:46:54.489Z"
   },
   {
    "duration": 20,
    "start_time": "2024-03-28T09:46:54.496Z"
   },
   {
    "duration": 7,
    "start_time": "2024-03-28T09:46:54.517Z"
   },
   {
    "duration": 6,
    "start_time": "2024-03-28T09:46:54.545Z"
   },
   {
    "duration": 7,
    "start_time": "2024-03-28T09:46:54.553Z"
   },
   {
    "duration": 35,
    "start_time": "2024-03-28T09:46:54.562Z"
   },
   {
    "duration": 16,
    "start_time": "2024-03-28T09:46:54.599Z"
   },
   {
    "duration": 30,
    "start_time": "2024-03-28T09:46:54.616Z"
   },
   {
    "duration": 12,
    "start_time": "2024-03-28T09:46:54.648Z"
   },
   {
    "duration": 19,
    "start_time": "2024-03-28T09:46:54.662Z"
   },
   {
    "duration": 316,
    "start_time": "2024-03-28T09:46:54.683Z"
   },
   {
    "duration": 0,
    "start_time": "2024-03-28T09:46:55.002Z"
   },
   {
    "duration": 0,
    "start_time": "2024-03-28T09:46:55.003Z"
   },
   {
    "duration": 0,
    "start_time": "2024-03-28T09:46:55.004Z"
   },
   {
    "duration": 0,
    "start_time": "2024-03-28T09:46:55.005Z"
   },
   {
    "duration": 0,
    "start_time": "2024-03-28T09:46:55.005Z"
   },
   {
    "duration": 0,
    "start_time": "2024-03-28T09:46:55.006Z"
   },
   {
    "duration": 0,
    "start_time": "2024-03-28T09:46:55.007Z"
   },
   {
    "duration": 0,
    "start_time": "2024-03-28T09:46:55.008Z"
   },
   {
    "duration": 0,
    "start_time": "2024-03-28T09:46:55.009Z"
   },
   {
    "duration": 0,
    "start_time": "2024-03-28T09:46:55.010Z"
   },
   {
    "duration": 0,
    "start_time": "2024-03-28T09:46:55.011Z"
   },
   {
    "duration": 0,
    "start_time": "2024-03-28T09:46:55.012Z"
   },
   {
    "duration": 0,
    "start_time": "2024-03-28T09:46:55.013Z"
   },
   {
    "duration": 0,
    "start_time": "2024-03-28T09:46:55.014Z"
   },
   {
    "duration": 0,
    "start_time": "2024-03-28T09:46:55.015Z"
   },
   {
    "duration": 0,
    "start_time": "2024-03-28T09:46:55.016Z"
   },
   {
    "duration": 0,
    "start_time": "2024-03-28T09:46:55.017Z"
   },
   {
    "duration": 0,
    "start_time": "2024-03-28T09:46:55.017Z"
   },
   {
    "duration": 0,
    "start_time": "2024-03-28T09:46:55.018Z"
   },
   {
    "duration": 0,
    "start_time": "2024-03-28T09:46:55.019Z"
   },
   {
    "duration": 0,
    "start_time": "2024-03-28T09:46:55.022Z"
   },
   {
    "duration": 0,
    "start_time": "2024-03-28T09:46:55.023Z"
   },
   {
    "duration": 0,
    "start_time": "2024-03-28T09:46:55.024Z"
   },
   {
    "duration": 0,
    "start_time": "2024-03-28T09:46:55.025Z"
   },
   {
    "duration": 0,
    "start_time": "2024-03-28T09:46:55.026Z"
   },
   {
    "duration": 0,
    "start_time": "2024-03-28T09:46:55.026Z"
   },
   {
    "duration": 0,
    "start_time": "2024-03-28T09:46:55.027Z"
   },
   {
    "duration": 0,
    "start_time": "2024-03-28T09:46:55.028Z"
   },
   {
    "duration": 7,
    "start_time": "2024-03-28T09:47:29.549Z"
   },
   {
    "duration": 112,
    "start_time": "2024-03-28T09:53:29.527Z"
   },
   {
    "duration": 105,
    "start_time": "2024-03-28T09:54:00.473Z"
   },
   {
    "duration": 67,
    "start_time": "2024-03-28T09:54:16.813Z"
   },
   {
    "duration": 5,
    "start_time": "2024-03-28T09:54:16.881Z"
   },
   {
    "duration": 3,
    "start_time": "2024-03-28T09:54:16.888Z"
   },
   {
    "duration": 11,
    "start_time": "2024-03-28T09:54:16.892Z"
   },
   {
    "duration": 18,
    "start_time": "2024-03-28T09:54:16.904Z"
   },
   {
    "duration": 11,
    "start_time": "2024-03-28T09:54:16.924Z"
   },
   {
    "duration": 8,
    "start_time": "2024-03-28T09:54:16.936Z"
   },
   {
    "duration": 7,
    "start_time": "2024-03-28T09:54:16.946Z"
   },
   {
    "duration": 9,
    "start_time": "2024-03-28T09:54:16.954Z"
   },
   {
    "duration": 6,
    "start_time": "2024-03-28T09:54:16.965Z"
   },
   {
    "duration": 14,
    "start_time": "2024-03-28T09:54:16.972Z"
   },
   {
    "duration": 6,
    "start_time": "2024-03-28T09:54:16.988Z"
   },
   {
    "duration": 11,
    "start_time": "2024-03-28T09:54:16.995Z"
   },
   {
    "duration": 3,
    "start_time": "2024-03-28T09:54:17.008Z"
   },
   {
    "duration": 37,
    "start_time": "2024-03-28T09:54:17.012Z"
   },
   {
    "duration": 7,
    "start_time": "2024-03-28T09:54:17.050Z"
   },
   {
    "duration": 4,
    "start_time": "2024-03-28T09:54:17.059Z"
   },
   {
    "duration": 4,
    "start_time": "2024-03-28T09:54:17.065Z"
   },
   {
    "duration": 7,
    "start_time": "2024-03-28T09:54:17.071Z"
   },
   {
    "duration": 8,
    "start_time": "2024-03-28T09:54:17.079Z"
   },
   {
    "duration": 8,
    "start_time": "2024-03-28T09:54:17.088Z"
   },
   {
    "duration": 49,
    "start_time": "2024-03-28T09:54:17.097Z"
   },
   {
    "duration": 4,
    "start_time": "2024-03-28T09:54:17.147Z"
   },
   {
    "duration": 142,
    "start_time": "2024-03-28T09:54:17.153Z"
   },
   {
    "duration": 0,
    "start_time": "2024-03-28T09:54:17.296Z"
   },
   {
    "duration": 0,
    "start_time": "2024-03-28T09:54:17.298Z"
   },
   {
    "duration": 0,
    "start_time": "2024-03-28T09:54:17.299Z"
   },
   {
    "duration": 0,
    "start_time": "2024-03-28T09:54:17.300Z"
   },
   {
    "duration": 0,
    "start_time": "2024-03-28T09:54:17.301Z"
   },
   {
    "duration": 0,
    "start_time": "2024-03-28T09:54:17.302Z"
   },
   {
    "duration": 0,
    "start_time": "2024-03-28T09:54:17.303Z"
   },
   {
    "duration": 0,
    "start_time": "2024-03-28T09:54:17.304Z"
   },
   {
    "duration": 0,
    "start_time": "2024-03-28T09:54:17.305Z"
   },
   {
    "duration": 0,
    "start_time": "2024-03-28T09:54:17.306Z"
   },
   {
    "duration": 0,
    "start_time": "2024-03-28T09:54:17.307Z"
   },
   {
    "duration": 0,
    "start_time": "2024-03-28T09:54:17.308Z"
   },
   {
    "duration": 0,
    "start_time": "2024-03-28T09:54:17.309Z"
   },
   {
    "duration": 0,
    "start_time": "2024-03-28T09:54:17.310Z"
   },
   {
    "duration": 0,
    "start_time": "2024-03-28T09:54:17.311Z"
   },
   {
    "duration": 0,
    "start_time": "2024-03-28T09:54:17.345Z"
   },
   {
    "duration": 0,
    "start_time": "2024-03-28T09:54:17.346Z"
   },
   {
    "duration": 0,
    "start_time": "2024-03-28T09:54:17.347Z"
   },
   {
    "duration": 0,
    "start_time": "2024-03-28T09:54:17.348Z"
   },
   {
    "duration": 0,
    "start_time": "2024-03-28T09:54:17.349Z"
   },
   {
    "duration": 0,
    "start_time": "2024-03-28T09:54:17.350Z"
   },
   {
    "duration": 0,
    "start_time": "2024-03-28T09:54:17.351Z"
   },
   {
    "duration": 0,
    "start_time": "2024-03-28T09:54:17.352Z"
   },
   {
    "duration": 9,
    "start_time": "2024-03-28T09:54:17.355Z"
   },
   {
    "duration": 0,
    "start_time": "2024-03-28T09:54:17.365Z"
   },
   {
    "duration": 0,
    "start_time": "2024-03-28T09:54:17.367Z"
   },
   {
    "duration": 0,
    "start_time": "2024-03-28T09:54:17.367Z"
   },
   {
    "duration": 0,
    "start_time": "2024-03-28T09:54:17.368Z"
   },
   {
    "duration": 7,
    "start_time": "2024-03-28T09:54:17.370Z"
   },
   {
    "duration": 9,
    "start_time": "2024-03-28T09:57:38.197Z"
   },
   {
    "duration": 2,
    "start_time": "2024-03-28T09:58:17.973Z"
   },
   {
    "duration": 24,
    "start_time": "2024-03-28T09:58:17.979Z"
   },
   {
    "duration": 0,
    "start_time": "2024-03-28T09:58:18.004Z"
   },
   {
    "duration": 0,
    "start_time": "2024-03-28T09:58:18.005Z"
   },
   {
    "duration": 16,
    "start_time": "2024-03-28T09:58:18.007Z"
   },
   {
    "duration": 8,
    "start_time": "2024-03-28T09:58:18.025Z"
   },
   {
    "duration": 9,
    "start_time": "2024-03-28T09:58:18.034Z"
   },
   {
    "duration": 10,
    "start_time": "2024-03-28T09:58:18.045Z"
   },
   {
    "duration": 7,
    "start_time": "2024-03-28T09:58:18.056Z"
   },
   {
    "duration": 16,
    "start_time": "2024-03-28T09:58:18.064Z"
   },
   {
    "duration": 19,
    "start_time": "2024-03-28T09:58:18.081Z"
   },
   {
    "duration": 9,
    "start_time": "2024-03-28T09:58:18.101Z"
   },
   {
    "duration": 6,
    "start_time": "2024-03-28T09:58:18.111Z"
   },
   {
    "duration": 30,
    "start_time": "2024-03-28T09:58:18.119Z"
   },
   {
    "duration": 4,
    "start_time": "2024-03-28T09:58:18.150Z"
   },
   {
    "duration": 24,
    "start_time": "2024-03-28T09:58:18.155Z"
   },
   {
    "duration": 5,
    "start_time": "2024-03-28T09:58:18.181Z"
   },
   {
    "duration": 5,
    "start_time": "2024-03-28T09:58:18.187Z"
   },
   {
    "duration": 9,
    "start_time": "2024-03-28T09:58:18.193Z"
   },
   {
    "duration": 14,
    "start_time": "2024-03-28T09:58:18.203Z"
   },
   {
    "duration": 19,
    "start_time": "2024-03-28T09:58:18.218Z"
   },
   {
    "duration": 6,
    "start_time": "2024-03-28T09:58:18.238Z"
   },
   {
    "duration": 9,
    "start_time": "2024-03-28T09:58:18.245Z"
   },
   {
    "duration": 5,
    "start_time": "2024-03-28T09:58:18.256Z"
   },
   {
    "duration": 124,
    "start_time": "2024-03-28T09:58:18.263Z"
   },
   {
    "duration": 0,
    "start_time": "2024-03-28T09:58:18.389Z"
   },
   {
    "duration": 0,
    "start_time": "2024-03-28T09:58:18.390Z"
   },
   {
    "duration": 0,
    "start_time": "2024-03-28T09:58:18.391Z"
   },
   {
    "duration": 0,
    "start_time": "2024-03-28T09:58:18.392Z"
   },
   {
    "duration": 0,
    "start_time": "2024-03-28T09:58:18.392Z"
   },
   {
    "duration": 0,
    "start_time": "2024-03-28T09:58:18.393Z"
   },
   {
    "duration": 0,
    "start_time": "2024-03-28T09:58:18.394Z"
   },
   {
    "duration": 0,
    "start_time": "2024-03-28T09:58:18.395Z"
   },
   {
    "duration": 0,
    "start_time": "2024-03-28T09:58:18.396Z"
   },
   {
    "duration": 0,
    "start_time": "2024-03-28T09:58:18.397Z"
   },
   {
    "duration": 0,
    "start_time": "2024-03-28T09:58:18.398Z"
   },
   {
    "duration": 0,
    "start_time": "2024-03-28T09:58:18.399Z"
   },
   {
    "duration": 0,
    "start_time": "2024-03-28T09:58:18.400Z"
   },
   {
    "duration": 0,
    "start_time": "2024-03-28T09:58:18.400Z"
   },
   {
    "duration": 0,
    "start_time": "2024-03-28T09:58:18.401Z"
   },
   {
    "duration": 0,
    "start_time": "2024-03-28T09:58:18.402Z"
   },
   {
    "duration": 0,
    "start_time": "2024-03-28T09:58:18.403Z"
   },
   {
    "duration": 0,
    "start_time": "2024-03-28T09:58:18.404Z"
   },
   {
    "duration": 0,
    "start_time": "2024-03-28T09:58:18.405Z"
   },
   {
    "duration": 0,
    "start_time": "2024-03-28T09:58:18.406Z"
   },
   {
    "duration": 9,
    "start_time": "2024-03-28T09:58:18.444Z"
   },
   {
    "duration": 0,
    "start_time": "2024-03-28T09:58:18.454Z"
   },
   {
    "duration": 0,
    "start_time": "2024-03-28T09:58:18.455Z"
   },
   {
    "duration": 0,
    "start_time": "2024-03-28T09:58:18.456Z"
   },
   {
    "duration": 0,
    "start_time": "2024-03-28T09:58:18.457Z"
   },
   {
    "duration": 0,
    "start_time": "2024-03-28T09:58:18.458Z"
   },
   {
    "duration": 7,
    "start_time": "2024-03-28T09:58:18.470Z"
   },
   {
    "duration": 13,
    "start_time": "2024-03-28T09:58:18.484Z"
   },
   {
    "duration": 7,
    "start_time": "2024-03-28T09:58:18.504Z"
   },
   {
    "duration": 3,
    "start_time": "2024-03-28T09:58:58.567Z"
   },
   {
    "duration": 65,
    "start_time": "2024-03-28T09:58:58.571Z"
   },
   {
    "duration": 7,
    "start_time": "2024-03-28T09:58:58.639Z"
   },
   {
    "duration": 11,
    "start_time": "2024-03-28T09:58:58.648Z"
   },
   {
    "duration": 16,
    "start_time": "2024-03-28T09:58:58.662Z"
   },
   {
    "duration": 10,
    "start_time": "2024-03-28T09:58:58.680Z"
   },
   {
    "duration": 34,
    "start_time": "2024-03-28T09:58:58.692Z"
   },
   {
    "duration": 8,
    "start_time": "2024-03-28T09:58:58.728Z"
   },
   {
    "duration": 13,
    "start_time": "2024-03-28T09:58:58.737Z"
   },
   {
    "duration": 7,
    "start_time": "2024-03-28T09:58:58.751Z"
   },
   {
    "duration": 6,
    "start_time": "2024-03-28T09:58:58.760Z"
   },
   {
    "duration": 10,
    "start_time": "2024-03-28T09:58:58.768Z"
   },
   {
    "duration": 9,
    "start_time": "2024-03-28T09:58:58.779Z"
   },
   {
    "duration": 13,
    "start_time": "2024-03-28T09:58:58.789Z"
   },
   {
    "duration": 4,
    "start_time": "2024-03-28T09:58:58.804Z"
   },
   {
    "duration": 40,
    "start_time": "2024-03-28T09:58:58.809Z"
   },
   {
    "duration": 8,
    "start_time": "2024-03-28T09:58:58.850Z"
   },
   {
    "duration": 18,
    "start_time": "2024-03-28T09:58:58.859Z"
   },
   {
    "duration": 5,
    "start_time": "2024-03-28T09:58:58.878Z"
   },
   {
    "duration": 5,
    "start_time": "2024-03-28T09:58:58.885Z"
   },
   {
    "duration": 7,
    "start_time": "2024-03-28T09:58:58.891Z"
   },
   {
    "duration": 4,
    "start_time": "2024-03-28T09:58:58.899Z"
   },
   {
    "duration": 6,
    "start_time": "2024-03-28T09:58:58.905Z"
   },
   {
    "duration": 32,
    "start_time": "2024-03-28T09:58:58.913Z"
   },
   {
    "duration": 124,
    "start_time": "2024-03-28T09:58:58.946Z"
   },
   {
    "duration": 0,
    "start_time": "2024-03-28T09:58:59.072Z"
   },
   {
    "duration": 0,
    "start_time": "2024-03-28T09:58:59.073Z"
   },
   {
    "duration": 0,
    "start_time": "2024-03-28T09:58:59.074Z"
   },
   {
    "duration": 0,
    "start_time": "2024-03-28T09:58:59.075Z"
   },
   {
    "duration": 0,
    "start_time": "2024-03-28T09:58:59.076Z"
   },
   {
    "duration": 0,
    "start_time": "2024-03-28T09:58:59.077Z"
   },
   {
    "duration": 0,
    "start_time": "2024-03-28T09:58:59.078Z"
   },
   {
    "duration": 0,
    "start_time": "2024-03-28T09:58:59.079Z"
   },
   {
    "duration": 0,
    "start_time": "2024-03-28T09:58:59.080Z"
   },
   {
    "duration": 0,
    "start_time": "2024-03-28T09:58:59.081Z"
   },
   {
    "duration": 0,
    "start_time": "2024-03-28T09:58:59.082Z"
   },
   {
    "duration": 0,
    "start_time": "2024-03-28T09:58:59.083Z"
   },
   {
    "duration": 0,
    "start_time": "2024-03-28T09:58:59.084Z"
   },
   {
    "duration": 0,
    "start_time": "2024-03-28T09:58:59.085Z"
   },
   {
    "duration": 0,
    "start_time": "2024-03-28T09:58:59.086Z"
   },
   {
    "duration": 0,
    "start_time": "2024-03-28T09:58:59.087Z"
   },
   {
    "duration": 0,
    "start_time": "2024-03-28T09:58:59.088Z"
   },
   {
    "duration": 0,
    "start_time": "2024-03-28T09:58:59.089Z"
   },
   {
    "duration": 0,
    "start_time": "2024-03-28T09:58:59.090Z"
   },
   {
    "duration": 0,
    "start_time": "2024-03-28T09:58:59.091Z"
   },
   {
    "duration": 0,
    "start_time": "2024-03-28T09:58:59.091Z"
   },
   {
    "duration": 0,
    "start_time": "2024-03-28T09:58:59.093Z"
   },
   {
    "duration": 0,
    "start_time": "2024-03-28T09:58:59.093Z"
   },
   {
    "duration": 0,
    "start_time": "2024-03-28T09:58:59.094Z"
   },
   {
    "duration": 0,
    "start_time": "2024-03-28T09:58:59.095Z"
   },
   {
    "duration": 0,
    "start_time": "2024-03-28T09:58:59.096Z"
   },
   {
    "duration": 0,
    "start_time": "2024-03-28T09:58:59.097Z"
   },
   {
    "duration": 0,
    "start_time": "2024-03-28T09:58:59.145Z"
   },
   {
    "duration": 0,
    "start_time": "2024-03-28T09:58:59.146Z"
   },
   {
    "duration": 100,
    "start_time": "2024-03-28T09:59:46.711Z"
   },
   {
    "duration": 239,
    "start_time": "2024-03-28T10:01:02.922Z"
   },
   {
    "duration": 308,
    "start_time": "2024-03-28T10:01:49.044Z"
   },
   {
    "duration": 237,
    "start_time": "2024-03-28T10:02:00.632Z"
   },
   {
    "duration": 242,
    "start_time": "2024-03-28T10:02:13.279Z"
   },
   {
    "duration": 3,
    "start_time": "2024-03-28T10:02:44.950Z"
   },
   {
    "duration": 118,
    "start_time": "2024-03-28T10:06:42.667Z"
   },
   {
    "duration": 126,
    "start_time": "2024-03-28T10:07:59.642Z"
   },
   {
    "duration": 115,
    "start_time": "2024-03-28T10:08:20.781Z"
   },
   {
    "duration": 65,
    "start_time": "2024-03-28T10:08:36.177Z"
   },
   {
    "duration": 306,
    "start_time": "2024-03-28T10:09:17.083Z"
   },
   {
    "duration": 78,
    "start_time": "2024-03-28T10:18:59.147Z"
   },
   {
    "duration": 166,
    "start_time": "2024-03-28T10:19:31.761Z"
   },
   {
    "duration": 8,
    "start_time": "2024-03-28T10:19:47.226Z"
   },
   {
    "duration": 1034,
    "start_time": "2024-03-28T10:20:19.599Z"
   },
   {
    "duration": 65,
    "start_time": "2024-03-28T10:20:20.635Z"
   },
   {
    "duration": 5,
    "start_time": "2024-03-28T10:20:20.702Z"
   },
   {
    "duration": 21,
    "start_time": "2024-03-28T10:20:20.709Z"
   },
   {
    "duration": 11,
    "start_time": "2024-03-28T10:20:20.731Z"
   },
   {
    "duration": 22,
    "start_time": "2024-03-28T10:20:20.743Z"
   },
   {
    "duration": 17,
    "start_time": "2024-03-28T10:20:20.766Z"
   },
   {
    "duration": 7,
    "start_time": "2024-03-28T10:20:20.784Z"
   },
   {
    "duration": 7,
    "start_time": "2024-03-28T10:20:20.793Z"
   },
   {
    "duration": 8,
    "start_time": "2024-03-28T10:20:20.802Z"
   },
   {
    "duration": 8,
    "start_time": "2024-03-28T10:20:20.811Z"
   },
   {
    "duration": 11,
    "start_time": "2024-03-28T10:20:20.820Z"
   },
   {
    "duration": 16,
    "start_time": "2024-03-28T10:20:20.833Z"
   },
   {
    "duration": 13,
    "start_time": "2024-03-28T10:20:20.850Z"
   },
   {
    "duration": 9,
    "start_time": "2024-03-28T10:20:20.864Z"
   },
   {
    "duration": 14,
    "start_time": "2024-03-28T10:20:20.874Z"
   },
   {
    "duration": 16,
    "start_time": "2024-03-28T10:20:20.890Z"
   },
   {
    "duration": 6,
    "start_time": "2024-03-28T10:20:20.908Z"
   },
   {
    "duration": 8,
    "start_time": "2024-03-28T10:20:20.915Z"
   },
   {
    "duration": 29,
    "start_time": "2024-03-28T10:20:20.924Z"
   },
   {
    "duration": 5,
    "start_time": "2024-03-28T10:20:20.954Z"
   },
   {
    "duration": 5,
    "start_time": "2024-03-28T10:20:20.960Z"
   },
   {
    "duration": 7,
    "start_time": "2024-03-28T10:20:20.967Z"
   },
   {
    "duration": 8,
    "start_time": "2024-03-28T10:20:20.975Z"
   },
   {
    "duration": 5,
    "start_time": "2024-03-28T10:20:20.984Z"
   },
   {
    "duration": 328,
    "start_time": "2024-03-28T10:20:20.990Z"
   },
   {
    "duration": 5,
    "start_time": "2024-03-28T10:20:21.319Z"
   },
   {
    "duration": 18,
    "start_time": "2024-03-28T10:20:21.327Z"
   },
   {
    "duration": 201,
    "start_time": "2024-03-28T10:20:21.346Z"
   },
   {
    "duration": 4,
    "start_time": "2024-03-28T10:20:21.549Z"
   },
   {
    "duration": 6,
    "start_time": "2024-03-28T10:20:21.554Z"
   },
   {
    "duration": 3,
    "start_time": "2024-03-28T10:20:21.562Z"
   },
   {
    "duration": 295,
    "start_time": "2024-03-28T10:20:21.566Z"
   },
   {
    "duration": 7,
    "start_time": "2024-03-28T10:20:21.862Z"
   },
   {
    "duration": 15,
    "start_time": "2024-03-28T10:20:21.871Z"
   },
   {
    "duration": 10,
    "start_time": "2024-03-28T10:20:21.888Z"
   },
   {
    "duration": 11,
    "start_time": "2024-03-28T10:20:21.899Z"
   },
   {
    "duration": 40,
    "start_time": "2024-03-28T10:20:21.911Z"
   },
   {
    "duration": 7,
    "start_time": "2024-03-28T10:20:21.952Z"
   },
   {
    "duration": 39,
    "start_time": "2024-03-28T10:20:21.961Z"
   },
   {
    "duration": 13,
    "start_time": "2024-03-28T10:20:22.002Z"
   },
   {
    "duration": 27,
    "start_time": "2024-03-28T10:20:22.016Z"
   },
   {
    "duration": 17,
    "start_time": "2024-03-28T10:20:22.045Z"
   },
   {
    "duration": 28,
    "start_time": "2024-03-28T10:20:22.063Z"
   },
   {
    "duration": 170,
    "start_time": "2024-03-28T10:20:22.092Z"
   },
   {
    "duration": 143,
    "start_time": "2024-03-28T10:20:22.263Z"
   },
   {
    "duration": 12,
    "start_time": "2024-03-28T10:20:22.407Z"
   },
   {
    "duration": 41,
    "start_time": "2024-03-28T10:20:22.420Z"
   },
   {
    "duration": 3,
    "start_time": "2024-03-28T10:20:22.462Z"
   },
   {
    "duration": 24,
    "start_time": "2024-03-28T10:20:22.467Z"
   },
   {
    "duration": 318,
    "start_time": "2024-03-28T10:20:22.492Z"
   },
   {
    "duration": 12,
    "start_time": "2024-03-28T10:20:22.811Z"
   },
   {
    "duration": 110,
    "start_time": "2024-03-28T10:20:22.824Z"
   },
   {
    "duration": 0,
    "start_time": "2024-03-28T10:20:22.936Z"
   },
   {
    "duration": 0,
    "start_time": "2024-03-28T10:20:22.937Z"
   },
   {
    "duration": 9,
    "start_time": "2024-03-28T10:22:23.444Z"
   },
   {
    "duration": 5,
    "start_time": "2024-03-28T10:22:38.122Z"
   },
   {
    "duration": 483,
    "start_time": "2024-03-28T10:22:50.677Z"
   },
   {
    "duration": 67,
    "start_time": "2024-03-28T10:23:13.568Z"
   },
   {
    "duration": 68,
    "start_time": "2024-03-28T10:23:23.194Z"
   },
   {
    "duration": 416,
    "start_time": "2024-03-28T10:23:27.420Z"
   },
   {
    "duration": 502,
    "start_time": "2024-03-28T10:23:39.805Z"
   },
   {
    "duration": 201,
    "start_time": "2024-03-28T10:24:46.826Z"
   },
   {
    "duration": 9,
    "start_time": "2024-03-28T10:26:21.694Z"
   },
   {
    "duration": 130,
    "start_time": "2024-03-28T10:27:38.437Z"
   },
   {
    "duration": 141,
    "start_time": "2024-03-28T10:35:48.842Z"
   },
   {
    "duration": 136,
    "start_time": "2024-03-28T10:35:59.596Z"
   },
   {
    "duration": 137,
    "start_time": "2024-03-28T10:36:39.177Z"
   },
   {
    "duration": 145,
    "start_time": "2024-03-28T10:36:47.444Z"
   },
   {
    "duration": 141,
    "start_time": "2024-03-28T10:38:35.229Z"
   },
   {
    "duration": 135,
    "start_time": "2024-03-28T10:39:06.369Z"
   },
   {
    "duration": 1067,
    "start_time": "2024-03-28T10:47:38.965Z"
   },
   {
    "duration": 66,
    "start_time": "2024-03-28T10:47:40.034Z"
   },
   {
    "duration": 6,
    "start_time": "2024-03-28T10:47:40.102Z"
   },
   {
    "duration": 5,
    "start_time": "2024-03-28T10:47:40.110Z"
   },
   {
    "duration": 15,
    "start_time": "2024-03-28T10:47:40.116Z"
   },
   {
    "duration": 9,
    "start_time": "2024-03-28T10:47:40.132Z"
   },
   {
    "duration": 19,
    "start_time": "2024-03-28T10:47:40.142Z"
   },
   {
    "duration": 6,
    "start_time": "2024-03-28T10:47:40.163Z"
   },
   {
    "duration": 7,
    "start_time": "2024-03-28T10:47:40.170Z"
   },
   {
    "duration": 7,
    "start_time": "2024-03-28T10:47:40.179Z"
   },
   {
    "duration": 6,
    "start_time": "2024-03-28T10:47:40.187Z"
   },
   {
    "duration": 16,
    "start_time": "2024-03-28T10:47:40.194Z"
   },
   {
    "duration": 5,
    "start_time": "2024-03-28T10:47:40.211Z"
   },
   {
    "duration": 32,
    "start_time": "2024-03-28T10:47:40.217Z"
   },
   {
    "duration": 3,
    "start_time": "2024-03-28T10:47:40.251Z"
   },
   {
    "duration": 6,
    "start_time": "2024-03-28T10:47:40.255Z"
   },
   {
    "duration": 11,
    "start_time": "2024-03-28T10:47:40.263Z"
   },
   {
    "duration": 11,
    "start_time": "2024-03-28T10:47:40.275Z"
   },
   {
    "duration": 8,
    "start_time": "2024-03-28T10:47:40.287Z"
   },
   {
    "duration": 13,
    "start_time": "2024-03-28T10:47:40.296Z"
   },
   {
    "duration": 4,
    "start_time": "2024-03-28T10:47:40.310Z"
   },
   {
    "duration": 6,
    "start_time": "2024-03-28T10:47:40.315Z"
   },
   {
    "duration": 23,
    "start_time": "2024-03-28T10:47:40.322Z"
   },
   {
    "duration": 5,
    "start_time": "2024-03-28T10:47:40.346Z"
   },
   {
    "duration": 3,
    "start_time": "2024-03-28T10:47:40.352Z"
   },
   {
    "duration": 328,
    "start_time": "2024-03-28T10:47:40.356Z"
   },
   {
    "duration": 5,
    "start_time": "2024-03-28T10:47:40.686Z"
   },
   {
    "duration": 6,
    "start_time": "2024-03-28T10:47:40.694Z"
   },
   {
    "duration": 7,
    "start_time": "2024-03-28T10:47:40.701Z"
   },
   {
    "duration": 191,
    "start_time": "2024-03-28T10:47:40.709Z"
   },
   {
    "duration": 5,
    "start_time": "2024-03-28T10:47:40.902Z"
   },
   {
    "duration": 9,
    "start_time": "2024-03-28T10:47:40.909Z"
   },
   {
    "duration": 282,
    "start_time": "2024-03-28T10:47:40.920Z"
   },
   {
    "duration": 7,
    "start_time": "2024-03-28T10:47:41.203Z"
   },
   {
    "duration": 11,
    "start_time": "2024-03-28T10:47:41.212Z"
   },
   {
    "duration": 159,
    "start_time": "2024-03-28T10:47:41.224Z"
   },
   {
    "duration": 7,
    "start_time": "2024-03-28T10:47:41.385Z"
   },
   {
    "duration": 143,
    "start_time": "2024-03-28T10:47:41.393Z"
   },
   {
    "duration": 31,
    "start_time": "2024-03-28T10:47:41.537Z"
   },
   {
    "duration": 6,
    "start_time": "2024-03-28T10:47:41.570Z"
   },
   {
    "duration": 15,
    "start_time": "2024-03-28T10:47:41.578Z"
   },
   {
    "duration": 13,
    "start_time": "2024-03-28T10:47:41.594Z"
   },
   {
    "duration": 50,
    "start_time": "2024-03-28T10:47:41.608Z"
   },
   {
    "duration": 15,
    "start_time": "2024-03-28T10:47:41.659Z"
   },
   {
    "duration": 26,
    "start_time": "2024-03-28T10:47:41.675Z"
   },
   {
    "duration": 158,
    "start_time": "2024-03-28T10:47:41.702Z"
   },
   {
    "duration": 130,
    "start_time": "2024-03-28T10:47:41.861Z"
   },
   {
    "duration": 12,
    "start_time": "2024-03-28T10:47:41.993Z"
   },
   {
    "duration": 40,
    "start_time": "2024-03-28T10:47:42.006Z"
   },
   {
    "duration": 3,
    "start_time": "2024-03-28T10:47:42.047Z"
   },
   {
    "duration": 36,
    "start_time": "2024-03-28T10:47:42.051Z"
   },
   {
    "duration": 322,
    "start_time": "2024-03-28T10:47:42.088Z"
   },
   {
    "duration": 14,
    "start_time": "2024-03-28T10:47:42.412Z"
   },
   {
    "duration": 107,
    "start_time": "2024-03-28T10:47:42.428Z"
   },
   {
    "duration": 0,
    "start_time": "2024-03-28T10:47:42.537Z"
   },
   {
    "duration": 0,
    "start_time": "2024-03-28T10:47:42.545Z"
   },
   {
    "duration": 154,
    "start_time": "2024-03-28T10:49:19.231Z"
   },
   {
    "duration": 286,
    "start_time": "2024-03-28T10:49:34.208Z"
   },
   {
    "duration": 127,
    "start_time": "2024-03-28T10:53:44.779Z"
   },
   {
    "duration": 140,
    "start_time": "2024-03-28T10:54:26.922Z"
   },
   {
    "duration": 133,
    "start_time": "2024-03-28T10:55:14.444Z"
   },
   {
    "duration": 128,
    "start_time": "2024-03-28T11:07:02.717Z"
   },
   {
    "duration": 160,
    "start_time": "2024-03-28T11:07:24.817Z"
   },
   {
    "duration": 778,
    "start_time": "2024-03-28T11:17:57.796Z"
   },
   {
    "duration": 8,
    "start_time": "2024-03-28T11:18:45.015Z"
   },
   {
    "duration": 1040,
    "start_time": "2024-03-28T11:19:11.180Z"
   },
   {
    "duration": 65,
    "start_time": "2024-03-28T11:19:12.221Z"
   },
   {
    "duration": 6,
    "start_time": "2024-03-28T11:19:12.288Z"
   },
   {
    "duration": 4,
    "start_time": "2024-03-28T11:19:12.295Z"
   },
   {
    "duration": 25,
    "start_time": "2024-03-28T11:19:12.300Z"
   },
   {
    "duration": 9,
    "start_time": "2024-03-28T11:19:12.326Z"
   },
   {
    "duration": 11,
    "start_time": "2024-03-28T11:19:12.336Z"
   },
   {
    "duration": 10,
    "start_time": "2024-03-28T11:19:12.348Z"
   },
   {
    "duration": 6,
    "start_time": "2024-03-28T11:19:12.360Z"
   },
   {
    "duration": 7,
    "start_time": "2024-03-28T11:19:12.368Z"
   },
   {
    "duration": 6,
    "start_time": "2024-03-28T11:19:12.377Z"
   },
   {
    "duration": 13,
    "start_time": "2024-03-28T11:19:12.385Z"
   },
   {
    "duration": 5,
    "start_time": "2024-03-28T11:19:12.399Z"
   },
   {
    "duration": 21,
    "start_time": "2024-03-28T11:19:12.405Z"
   },
   {
    "duration": 4,
    "start_time": "2024-03-28T11:19:12.445Z"
   },
   {
    "duration": 4,
    "start_time": "2024-03-28T11:19:12.451Z"
   },
   {
    "duration": 11,
    "start_time": "2024-03-28T11:19:12.457Z"
   },
   {
    "duration": 5,
    "start_time": "2024-03-28T11:19:12.469Z"
   },
   {
    "duration": 5,
    "start_time": "2024-03-28T11:19:12.475Z"
   },
   {
    "duration": 12,
    "start_time": "2024-03-28T11:19:12.481Z"
   },
   {
    "duration": 4,
    "start_time": "2024-03-28T11:19:12.494Z"
   },
   {
    "duration": 6,
    "start_time": "2024-03-28T11:19:12.499Z"
   },
   {
    "duration": 10,
    "start_time": "2024-03-28T11:19:12.506Z"
   },
   {
    "duration": 29,
    "start_time": "2024-03-28T11:19:12.517Z"
   },
   {
    "duration": 17,
    "start_time": "2024-03-28T11:19:12.547Z"
   },
   {
    "duration": 323,
    "start_time": "2024-03-28T11:19:12.565Z"
   },
   {
    "duration": 4,
    "start_time": "2024-03-28T11:19:12.890Z"
   },
   {
    "duration": 56,
    "start_time": "2024-03-28T11:19:12.897Z"
   },
   {
    "duration": 21,
    "start_time": "2024-03-28T11:19:12.954Z"
   },
   {
    "duration": 171,
    "start_time": "2024-03-28T11:19:12.976Z"
   },
   {
    "duration": 5,
    "start_time": "2024-03-28T11:19:13.149Z"
   },
   {
    "duration": 5,
    "start_time": "2024-03-28T11:19:13.155Z"
   },
   {
    "duration": 267,
    "start_time": "2024-03-28T11:19:13.161Z"
   },
   {
    "duration": 7,
    "start_time": "2024-03-28T11:19:13.429Z"
   },
   {
    "duration": 15,
    "start_time": "2024-03-28T11:19:13.437Z"
   },
   {
    "duration": 158,
    "start_time": "2024-03-28T11:19:13.453Z"
   },
   {
    "duration": 8,
    "start_time": "2024-03-28T11:19:13.612Z"
   },
   {
    "duration": 147,
    "start_time": "2024-03-28T11:19:13.621Z"
   },
   {
    "duration": 26,
    "start_time": "2024-03-28T11:19:13.769Z"
   },
   {
    "duration": 7,
    "start_time": "2024-03-28T11:19:13.796Z"
   },
   {
    "duration": 19,
    "start_time": "2024-03-28T11:19:13.805Z"
   },
   {
    "duration": 28,
    "start_time": "2024-03-28T11:19:13.825Z"
   },
   {
    "duration": 26,
    "start_time": "2024-03-28T11:19:13.854Z"
   },
   {
    "duration": 16,
    "start_time": "2024-03-28T11:19:13.881Z"
   },
   {
    "duration": 52,
    "start_time": "2024-03-28T11:19:13.899Z"
   },
   {
    "duration": 156,
    "start_time": "2024-03-28T11:19:13.952Z"
   },
   {
    "duration": 144,
    "start_time": "2024-03-28T11:19:14.109Z"
   },
   {
    "duration": 12,
    "start_time": "2024-03-28T11:19:14.255Z"
   },
   {
    "duration": 28,
    "start_time": "2024-03-28T11:19:14.269Z"
   },
   {
    "duration": 4,
    "start_time": "2024-03-28T11:19:14.299Z"
   },
   {
    "duration": 70,
    "start_time": "2024-03-28T11:19:14.304Z"
   },
   {
    "duration": 317,
    "start_time": "2024-03-28T11:19:14.376Z"
   },
   {
    "duration": 8,
    "start_time": "2024-03-28T11:19:14.694Z"
   },
   {
    "duration": 24,
    "start_time": "2024-03-28T11:19:14.703Z"
   },
   {
    "duration": 93,
    "start_time": "2024-03-28T11:19:14.729Z"
   },
   {
    "duration": 0,
    "start_time": "2024-03-28T11:19:14.823Z"
   },
   {
    "duration": 0,
    "start_time": "2024-03-28T11:19:14.824Z"
   },
   {
    "duration": 10,
    "start_time": "2024-03-28T11:19:57.655Z"
   },
   {
    "duration": 11,
    "start_time": "2024-03-28T11:20:59.763Z"
   },
   {
    "duration": 4,
    "start_time": "2024-03-28T11:21:49.815Z"
   },
   {
    "duration": 11,
    "start_time": "2024-03-28T11:21:56.204Z"
   },
   {
    "duration": 1025,
    "start_time": "2024-03-28T11:24:02.288Z"
   },
   {
    "duration": 64,
    "start_time": "2024-03-28T11:24:03.315Z"
   },
   {
    "duration": 6,
    "start_time": "2024-03-28T11:24:03.381Z"
   },
   {
    "duration": 16,
    "start_time": "2024-03-28T11:24:03.389Z"
   },
   {
    "duration": 18,
    "start_time": "2024-03-28T11:24:03.406Z"
   },
   {
    "duration": 17,
    "start_time": "2024-03-28T11:24:03.425Z"
   },
   {
    "duration": 18,
    "start_time": "2024-03-28T11:24:03.443Z"
   },
   {
    "duration": 10,
    "start_time": "2024-03-28T11:24:03.463Z"
   },
   {
    "duration": 7,
    "start_time": "2024-03-28T11:24:03.474Z"
   },
   {
    "duration": 19,
    "start_time": "2024-03-28T11:24:03.483Z"
   },
   {
    "duration": 9,
    "start_time": "2024-03-28T11:24:03.503Z"
   },
   {
    "duration": 13,
    "start_time": "2024-03-28T11:24:03.513Z"
   },
   {
    "duration": 10,
    "start_time": "2024-03-28T11:24:03.528Z"
   },
   {
    "duration": 12,
    "start_time": "2024-03-28T11:24:03.545Z"
   },
   {
    "duration": 4,
    "start_time": "2024-03-28T11:24:03.558Z"
   },
   {
    "duration": 9,
    "start_time": "2024-03-28T11:24:03.564Z"
   },
   {
    "duration": 19,
    "start_time": "2024-03-28T11:24:03.574Z"
   },
   {
    "duration": 8,
    "start_time": "2024-03-28T11:24:03.595Z"
   },
   {
    "duration": 11,
    "start_time": "2024-03-28T11:24:03.605Z"
   },
   {
    "duration": 16,
    "start_time": "2024-03-28T11:24:03.618Z"
   },
   {
    "duration": 10,
    "start_time": "2024-03-28T11:24:03.636Z"
   },
   {
    "duration": 17,
    "start_time": "2024-03-28T11:24:03.647Z"
   },
   {
    "duration": 17,
    "start_time": "2024-03-28T11:24:03.665Z"
   },
   {
    "duration": 11,
    "start_time": "2024-03-28T11:24:03.683Z"
   },
   {
    "duration": 22,
    "start_time": "2024-03-28T11:24:03.695Z"
   },
   {
    "duration": 312,
    "start_time": "2024-03-28T11:24:03.719Z"
   },
   {
    "duration": 5,
    "start_time": "2024-03-28T11:24:04.032Z"
   },
   {
    "duration": 6,
    "start_time": "2024-03-28T11:24:04.047Z"
   },
   {
    "duration": 4,
    "start_time": "2024-03-28T11:24:04.054Z"
   },
   {
    "duration": 185,
    "start_time": "2024-03-28T11:24:04.060Z"
   },
   {
    "duration": 6,
    "start_time": "2024-03-28T11:24:04.246Z"
   },
   {
    "duration": 5,
    "start_time": "2024-03-28T11:24:04.253Z"
   },
   {
    "duration": 267,
    "start_time": "2024-03-28T11:24:04.259Z"
   },
   {
    "duration": 7,
    "start_time": "2024-03-28T11:24:04.528Z"
   },
   {
    "duration": 19,
    "start_time": "2024-03-28T11:24:04.537Z"
   },
   {
    "duration": 146,
    "start_time": "2024-03-28T11:24:04.557Z"
   },
   {
    "duration": 7,
    "start_time": "2024-03-28T11:24:04.704Z"
   },
   {
    "duration": 143,
    "start_time": "2024-03-28T11:24:04.712Z"
   },
   {
    "duration": 26,
    "start_time": "2024-03-28T11:24:04.856Z"
   },
   {
    "duration": 7,
    "start_time": "2024-03-28T11:24:04.883Z"
   },
   {
    "duration": 16,
    "start_time": "2024-03-28T11:24:04.891Z"
   },
   {
    "duration": 13,
    "start_time": "2024-03-28T11:24:04.908Z"
   },
   {
    "duration": 26,
    "start_time": "2024-03-28T11:24:04.945Z"
   },
   {
    "duration": 16,
    "start_time": "2024-03-28T11:24:04.972Z"
   },
   {
    "duration": 25,
    "start_time": "2024-03-28T11:24:04.990Z"
   },
   {
    "duration": 178,
    "start_time": "2024-03-28T11:24:05.016Z"
   },
   {
    "duration": 138,
    "start_time": "2024-03-28T11:24:05.195Z"
   },
   {
    "duration": 16,
    "start_time": "2024-03-28T11:24:05.334Z"
   },
   {
    "duration": 29,
    "start_time": "2024-03-28T11:24:05.352Z"
   },
   {
    "duration": 3,
    "start_time": "2024-03-28T11:24:05.382Z"
   },
   {
    "duration": 31,
    "start_time": "2024-03-28T11:24:05.387Z"
   },
   {
    "duration": 319,
    "start_time": "2024-03-28T11:24:05.420Z"
   },
   {
    "duration": 10,
    "start_time": "2024-03-28T11:24:05.740Z"
   },
   {
    "duration": 30,
    "start_time": "2024-03-28T11:24:05.751Z"
   },
   {
    "duration": 87,
    "start_time": "2024-03-28T11:24:05.783Z"
   },
   {
    "duration": 0,
    "start_time": "2024-03-28T11:24:05.871Z"
   },
   {
    "duration": 1,
    "start_time": "2024-03-28T11:24:05.872Z"
   },
   {
    "duration": 10,
    "start_time": "2024-03-28T11:25:06.519Z"
   },
   {
    "duration": 5,
    "start_time": "2024-03-28T11:25:38.335Z"
   },
   {
    "duration": 5,
    "start_time": "2024-03-28T11:25:49.147Z"
   },
   {
    "duration": 10,
    "start_time": "2024-03-28T11:27:10.534Z"
   },
   {
    "duration": 69,
    "start_time": "2024-03-28T11:28:20.400Z"
   },
   {
    "duration": 69,
    "start_time": "2024-03-28T11:29:52.569Z"
   },
   {
    "duration": 1078,
    "start_time": "2024-03-28T11:30:52.834Z"
   },
   {
    "duration": 65,
    "start_time": "2024-03-28T11:30:53.914Z"
   },
   {
    "duration": 6,
    "start_time": "2024-03-28T11:30:53.980Z"
   },
   {
    "duration": 8,
    "start_time": "2024-03-28T11:30:53.988Z"
   },
   {
    "duration": 23,
    "start_time": "2024-03-28T11:30:53.997Z"
   },
   {
    "duration": 26,
    "start_time": "2024-03-28T11:30:54.022Z"
   },
   {
    "duration": 35,
    "start_time": "2024-03-28T11:30:54.050Z"
   },
   {
    "duration": 19,
    "start_time": "2024-03-28T11:30:54.086Z"
   },
   {
    "duration": 10,
    "start_time": "2024-03-28T11:30:54.107Z"
   },
   {
    "duration": 31,
    "start_time": "2024-03-28T11:30:54.119Z"
   },
   {
    "duration": 10,
    "start_time": "2024-03-28T11:30:54.152Z"
   },
   {
    "duration": 32,
    "start_time": "2024-03-28T11:30:54.163Z"
   },
   {
    "duration": 26,
    "start_time": "2024-03-28T11:30:54.196Z"
   },
   {
    "duration": 29,
    "start_time": "2024-03-28T11:30:54.223Z"
   },
   {
    "duration": 23,
    "start_time": "2024-03-28T11:30:54.253Z"
   },
   {
    "duration": 13,
    "start_time": "2024-03-28T11:30:54.277Z"
   },
   {
    "duration": 22,
    "start_time": "2024-03-28T11:30:54.292Z"
   },
   {
    "duration": 17,
    "start_time": "2024-03-28T11:30:54.316Z"
   },
   {
    "duration": 23,
    "start_time": "2024-03-28T11:30:54.334Z"
   },
   {
    "duration": 7,
    "start_time": "2024-03-28T11:30:54.358Z"
   },
   {
    "duration": 36,
    "start_time": "2024-03-28T11:30:54.366Z"
   },
   {
    "duration": 14,
    "start_time": "2024-03-28T11:30:54.403Z"
   },
   {
    "duration": 38,
    "start_time": "2024-03-28T11:30:54.419Z"
   },
   {
    "duration": 30,
    "start_time": "2024-03-28T11:30:54.459Z"
   },
   {
    "duration": 27,
    "start_time": "2024-03-28T11:30:54.490Z"
   },
   {
    "duration": 310,
    "start_time": "2024-03-28T11:30:54.518Z"
   },
   {
    "duration": 6,
    "start_time": "2024-03-28T11:30:54.830Z"
   },
   {
    "duration": 12,
    "start_time": "2024-03-28T11:30:54.847Z"
   },
   {
    "duration": 27,
    "start_time": "2024-03-28T11:30:54.860Z"
   },
   {
    "duration": 180,
    "start_time": "2024-03-28T11:30:54.888Z"
   },
   {
    "duration": 4,
    "start_time": "2024-03-28T11:30:55.069Z"
   },
   {
    "duration": 18,
    "start_time": "2024-03-28T11:30:55.074Z"
   },
   {
    "duration": 289,
    "start_time": "2024-03-28T11:30:55.094Z"
   },
   {
    "duration": 7,
    "start_time": "2024-03-28T11:30:55.384Z"
   },
   {
    "duration": 13,
    "start_time": "2024-03-28T11:30:55.392Z"
   },
   {
    "duration": 168,
    "start_time": "2024-03-28T11:30:55.406Z"
   },
   {
    "duration": 8,
    "start_time": "2024-03-28T11:30:55.576Z"
   },
   {
    "duration": 136,
    "start_time": "2024-03-28T11:30:55.585Z"
   },
   {
    "duration": 35,
    "start_time": "2024-03-28T11:30:55.722Z"
   },
   {
    "duration": 9,
    "start_time": "2024-03-28T11:30:55.758Z"
   },
   {
    "duration": 22,
    "start_time": "2024-03-28T11:30:55.768Z"
   },
   {
    "duration": 12,
    "start_time": "2024-03-28T11:30:55.792Z"
   },
   {
    "duration": 45,
    "start_time": "2024-03-28T11:30:55.805Z"
   },
   {
    "duration": 17,
    "start_time": "2024-03-28T11:30:55.852Z"
   },
   {
    "duration": 26,
    "start_time": "2024-03-28T11:30:55.871Z"
   },
   {
    "duration": 171,
    "start_time": "2024-03-28T11:30:55.899Z"
   },
   {
    "duration": 134,
    "start_time": "2024-03-28T11:30:56.072Z"
   },
   {
    "duration": 13,
    "start_time": "2024-03-28T11:30:56.207Z"
   },
   {
    "duration": 37,
    "start_time": "2024-03-28T11:30:56.221Z"
   },
   {
    "duration": 3,
    "start_time": "2024-03-28T11:30:56.259Z"
   },
   {
    "duration": 27,
    "start_time": "2024-03-28T11:30:56.263Z"
   },
   {
    "duration": 323,
    "start_time": "2024-03-28T11:30:56.291Z"
   },
   {
    "duration": 7,
    "start_time": "2024-03-28T11:30:56.615Z"
   },
   {
    "duration": 22,
    "start_time": "2024-03-28T11:30:56.623Z"
   },
   {
    "duration": 5,
    "start_time": "2024-03-28T11:30:56.646Z"
   },
   {
    "duration": 7,
    "start_time": "2024-03-28T11:30:56.652Z"
   },
   {
    "duration": 55,
    "start_time": "2024-03-28T11:30:56.661Z"
   },
   {
    "duration": 88,
    "start_time": "2024-03-28T11:31:48.598Z"
   },
   {
    "duration": 69,
    "start_time": "2024-03-28T11:32:56.900Z"
   },
   {
    "duration": 69,
    "start_time": "2024-03-28T11:34:32.342Z"
   },
   {
    "duration": 70,
    "start_time": "2024-03-28T11:35:42.105Z"
   },
   {
    "duration": 841,
    "start_time": "2024-03-28T11:36:01.050Z"
   },
   {
    "duration": 742,
    "start_time": "2024-03-28T11:36:29.651Z"
   },
   {
    "duration": 3,
    "start_time": "2024-03-28T11:36:58.001Z"
   },
   {
    "duration": 67,
    "start_time": "2024-03-28T11:36:58.007Z"
   },
   {
    "duration": 4,
    "start_time": "2024-03-28T11:36:58.076Z"
   },
   {
    "duration": 3,
    "start_time": "2024-03-28T11:36:58.082Z"
   },
   {
    "duration": 8,
    "start_time": "2024-03-28T11:36:58.087Z"
   },
   {
    "duration": 7,
    "start_time": "2024-03-28T11:36:58.096Z"
   },
   {
    "duration": 12,
    "start_time": "2024-03-28T11:36:58.104Z"
   },
   {
    "duration": 7,
    "start_time": "2024-03-28T11:36:58.117Z"
   },
   {
    "duration": 24,
    "start_time": "2024-03-28T11:36:58.125Z"
   },
   {
    "duration": 7,
    "start_time": "2024-03-28T11:36:58.150Z"
   },
   {
    "duration": 6,
    "start_time": "2024-03-28T11:36:58.159Z"
   },
   {
    "duration": 13,
    "start_time": "2024-03-28T11:36:58.166Z"
   },
   {
    "duration": 8,
    "start_time": "2024-03-28T11:36:58.181Z"
   },
   {
    "duration": 12,
    "start_time": "2024-03-28T11:36:58.190Z"
   },
   {
    "duration": 4,
    "start_time": "2024-03-28T11:36:58.203Z"
   },
   {
    "duration": 37,
    "start_time": "2024-03-28T11:36:58.209Z"
   },
   {
    "duration": 12,
    "start_time": "2024-03-28T11:36:58.247Z"
   },
   {
    "duration": 8,
    "start_time": "2024-03-28T11:36:58.260Z"
   },
   {
    "duration": 5,
    "start_time": "2024-03-28T11:36:58.270Z"
   },
   {
    "duration": 8,
    "start_time": "2024-03-28T11:36:58.276Z"
   },
   {
    "duration": 4,
    "start_time": "2024-03-28T11:36:58.285Z"
   },
   {
    "duration": 5,
    "start_time": "2024-03-28T11:36:58.290Z"
   },
   {
    "duration": 7,
    "start_time": "2024-03-28T11:36:58.296Z"
   },
   {
    "duration": 4,
    "start_time": "2024-03-28T11:36:58.304Z"
   },
   {
    "duration": 37,
    "start_time": "2024-03-28T11:36:58.309Z"
   },
   {
    "duration": 328,
    "start_time": "2024-03-28T11:36:58.347Z"
   },
   {
    "duration": 5,
    "start_time": "2024-03-28T11:36:58.677Z"
   },
   {
    "duration": 7,
    "start_time": "2024-03-28T11:36:58.683Z"
   },
   {
    "duration": 4,
    "start_time": "2024-03-28T11:36:58.691Z"
   },
   {
    "duration": 186,
    "start_time": "2024-03-28T11:36:58.697Z"
   },
   {
    "duration": 5,
    "start_time": "2024-03-28T11:36:58.884Z"
   },
   {
    "duration": 6,
    "start_time": "2024-03-28T11:36:58.890Z"
   },
   {
    "duration": 255,
    "start_time": "2024-03-28T11:36:58.898Z"
   },
   {
    "duration": 7,
    "start_time": "2024-03-28T11:36:59.155Z"
   },
   {
    "duration": 11,
    "start_time": "2024-03-28T11:36:59.164Z"
   },
   {
    "duration": 159,
    "start_time": "2024-03-28T11:36:59.176Z"
   },
   {
    "duration": 13,
    "start_time": "2024-03-28T11:36:59.337Z"
   },
   {
    "duration": 145,
    "start_time": "2024-03-28T11:36:59.351Z"
   },
   {
    "duration": 28,
    "start_time": "2024-03-28T11:36:59.498Z"
   },
   {
    "duration": 19,
    "start_time": "2024-03-28T11:36:59.527Z"
   },
   {
    "duration": 16,
    "start_time": "2024-03-28T11:36:59.547Z"
   },
   {
    "duration": 14,
    "start_time": "2024-03-28T11:36:59.564Z"
   },
   {
    "duration": 26,
    "start_time": "2024-03-28T11:36:59.579Z"
   },
   {
    "duration": 40,
    "start_time": "2024-03-28T11:36:59.606Z"
   },
   {
    "duration": 38,
    "start_time": "2024-03-28T11:36:59.648Z"
   },
   {
    "duration": 158,
    "start_time": "2024-03-28T11:36:59.688Z"
   },
   {
    "duration": 134,
    "start_time": "2024-03-28T11:36:59.848Z"
   },
   {
    "duration": 12,
    "start_time": "2024-03-28T11:36:59.983Z"
   },
   {
    "duration": 60,
    "start_time": "2024-03-28T11:36:59.997Z"
   },
   {
    "duration": 32,
    "start_time": "2024-03-28T11:37:00.058Z"
   },
   {
    "duration": 97,
    "start_time": "2024-03-28T11:37:00.091Z"
   },
   {
    "duration": 350,
    "start_time": "2024-03-28T11:37:00.189Z"
   },
   {
    "duration": 10,
    "start_time": "2024-03-28T11:37:00.540Z"
   },
   {
    "duration": 109,
    "start_time": "2024-03-28T11:37:00.551Z"
   },
   {
    "duration": 33,
    "start_time": "2024-03-28T11:37:00.661Z"
   },
   {
    "duration": 50,
    "start_time": "2024-03-28T11:37:00.696Z"
   },
   {
    "duration": 424,
    "start_time": "2024-03-28T11:37:00.748Z"
   },
   {
    "duration": 8,
    "start_time": "2024-03-28T11:38:23.362Z"
   },
   {
    "duration": 9,
    "start_time": "2024-03-28T11:39:01.505Z"
   },
   {
    "duration": 2,
    "start_time": "2024-03-28T11:39:12.273Z"
   },
   {
    "duration": 93,
    "start_time": "2024-03-28T11:39:12.279Z"
   },
   {
    "duration": 5,
    "start_time": "2024-03-28T11:39:12.374Z"
   },
   {
    "duration": 22,
    "start_time": "2024-03-28T11:39:12.380Z"
   },
   {
    "duration": 32,
    "start_time": "2024-03-28T11:39:12.404Z"
   },
   {
    "duration": 11,
    "start_time": "2024-03-28T11:39:12.437Z"
   },
   {
    "duration": 33,
    "start_time": "2024-03-28T11:39:12.449Z"
   },
   {
    "duration": 29,
    "start_time": "2024-03-28T11:39:12.483Z"
   },
   {
    "duration": 10,
    "start_time": "2024-03-28T11:39:12.513Z"
   },
   {
    "duration": 12,
    "start_time": "2024-03-28T11:39:12.525Z"
   },
   {
    "duration": 28,
    "start_time": "2024-03-28T11:39:12.539Z"
   },
   {
    "duration": 19,
    "start_time": "2024-03-28T11:39:12.568Z"
   },
   {
    "duration": 17,
    "start_time": "2024-03-28T11:39:12.588Z"
   },
   {
    "duration": 35,
    "start_time": "2024-03-28T11:39:12.606Z"
   },
   {
    "duration": 17,
    "start_time": "2024-03-28T11:39:12.642Z"
   },
   {
    "duration": 55,
    "start_time": "2024-03-28T11:39:12.660Z"
   },
   {
    "duration": 31,
    "start_time": "2024-03-28T11:39:12.716Z"
   },
   {
    "duration": 50,
    "start_time": "2024-03-28T11:39:12.749Z"
   },
   {
    "duration": 10,
    "start_time": "2024-03-28T11:39:12.800Z"
   },
   {
    "duration": 24,
    "start_time": "2024-03-28T11:39:12.812Z"
   },
   {
    "duration": 21,
    "start_time": "2024-03-28T11:39:12.837Z"
   },
   {
    "duration": 32,
    "start_time": "2024-03-28T11:39:12.859Z"
   },
   {
    "duration": 22,
    "start_time": "2024-03-28T11:39:12.892Z"
   },
   {
    "duration": 34,
    "start_time": "2024-03-28T11:39:12.915Z"
   },
   {
    "duration": 31,
    "start_time": "2024-03-28T11:39:12.950Z"
   },
   {
    "duration": 336,
    "start_time": "2024-03-28T11:39:12.982Z"
   },
   {
    "duration": 5,
    "start_time": "2024-03-28T11:39:13.319Z"
   },
   {
    "duration": 23,
    "start_time": "2024-03-28T11:39:13.326Z"
   },
   {
    "duration": 30,
    "start_time": "2024-03-28T11:39:13.352Z"
   },
   {
    "duration": 182,
    "start_time": "2024-03-28T11:39:13.383Z"
   },
   {
    "duration": 5,
    "start_time": "2024-03-28T11:39:13.566Z"
   },
   {
    "duration": 27,
    "start_time": "2024-03-28T11:39:13.572Z"
   },
   {
    "duration": 274,
    "start_time": "2024-03-28T11:39:13.600Z"
   },
   {
    "duration": 7,
    "start_time": "2024-03-28T11:39:13.875Z"
   },
   {
    "duration": 23,
    "start_time": "2024-03-28T11:39:13.883Z"
   },
   {
    "duration": 151,
    "start_time": "2024-03-28T11:39:13.907Z"
   },
   {
    "duration": 8,
    "start_time": "2024-03-28T11:39:14.059Z"
   },
   {
    "duration": 140,
    "start_time": "2024-03-28T11:39:14.068Z"
   },
   {
    "duration": 36,
    "start_time": "2024-03-28T11:39:14.209Z"
   },
   {
    "duration": 7,
    "start_time": "2024-03-28T11:39:14.246Z"
   },
   {
    "duration": 17,
    "start_time": "2024-03-28T11:39:14.254Z"
   },
   {
    "duration": 13,
    "start_time": "2024-03-28T11:39:14.273Z"
   },
   {
    "duration": 27,
    "start_time": "2024-03-28T11:39:14.287Z"
   },
   {
    "duration": 44,
    "start_time": "2024-03-28T11:39:14.315Z"
   },
   {
    "duration": 27,
    "start_time": "2024-03-28T11:39:14.360Z"
   },
   {
    "duration": 170,
    "start_time": "2024-03-28T11:39:14.389Z"
   },
   {
    "duration": 136,
    "start_time": "2024-03-28T11:39:14.560Z"
   },
   {
    "duration": 13,
    "start_time": "2024-03-28T11:39:14.697Z"
   },
   {
    "duration": 40,
    "start_time": "2024-03-28T11:39:14.711Z"
   },
   {
    "duration": 3,
    "start_time": "2024-03-28T11:39:14.752Z"
   },
   {
    "duration": 22,
    "start_time": "2024-03-28T11:39:14.757Z"
   },
   {
    "duration": 338,
    "start_time": "2024-03-28T11:39:14.780Z"
   },
   {
    "duration": 7,
    "start_time": "2024-03-28T11:39:15.119Z"
   },
   {
    "duration": 35,
    "start_time": "2024-03-28T11:39:15.127Z"
   },
   {
    "duration": 6,
    "start_time": "2024-03-28T11:39:15.163Z"
   },
   {
    "duration": 48,
    "start_time": "2024-03-28T11:39:15.171Z"
   },
   {
    "duration": 435,
    "start_time": "2024-03-28T11:39:15.220Z"
   },
   {
    "duration": 1059,
    "start_time": "2024-03-28T11:40:10.155Z"
   },
   {
    "duration": 65,
    "start_time": "2024-03-28T11:40:11.227Z"
   },
   {
    "duration": 7,
    "start_time": "2024-03-28T11:40:11.293Z"
   },
   {
    "duration": 17,
    "start_time": "2024-03-28T11:40:11.302Z"
   },
   {
    "duration": 26,
    "start_time": "2024-03-28T11:40:11.320Z"
   },
   {
    "duration": 19,
    "start_time": "2024-03-28T11:40:11.347Z"
   },
   {
    "duration": 30,
    "start_time": "2024-03-28T11:40:11.367Z"
   },
   {
    "duration": 17,
    "start_time": "2024-03-28T11:40:11.399Z"
   },
   {
    "duration": 28,
    "start_time": "2024-03-28T11:40:11.417Z"
   },
   {
    "duration": 21,
    "start_time": "2024-03-28T11:40:11.447Z"
   },
   {
    "duration": 16,
    "start_time": "2024-03-28T11:40:11.470Z"
   },
   {
    "duration": 40,
    "start_time": "2024-03-28T11:40:11.487Z"
   },
   {
    "duration": 30,
    "start_time": "2024-03-28T11:40:11.528Z"
   },
   {
    "duration": 37,
    "start_time": "2024-03-28T11:40:11.559Z"
   },
   {
    "duration": 32,
    "start_time": "2024-03-28T11:40:11.597Z"
   },
   {
    "duration": 13,
    "start_time": "2024-03-28T11:40:11.631Z"
   },
   {
    "duration": 20,
    "start_time": "2024-03-28T11:40:11.645Z"
   },
   {
    "duration": 42,
    "start_time": "2024-03-28T11:40:11.666Z"
   },
   {
    "duration": 28,
    "start_time": "2024-03-28T11:40:11.710Z"
   },
   {
    "duration": 32,
    "start_time": "2024-03-28T11:40:11.739Z"
   },
   {
    "duration": 28,
    "start_time": "2024-03-28T11:40:11.772Z"
   },
   {
    "duration": 27,
    "start_time": "2024-03-28T11:40:11.801Z"
   },
   {
    "duration": 30,
    "start_time": "2024-03-28T11:40:11.829Z"
   },
   {
    "duration": 22,
    "start_time": "2024-03-28T11:40:11.860Z"
   },
   {
    "duration": 22,
    "start_time": "2024-03-28T11:40:11.883Z"
   },
   {
    "duration": 312,
    "start_time": "2024-03-28T11:40:11.907Z"
   },
   {
    "duration": 5,
    "start_time": "2024-03-28T11:40:12.220Z"
   },
   {
    "duration": 28,
    "start_time": "2024-03-28T11:40:12.228Z"
   },
   {
    "duration": 25,
    "start_time": "2024-03-28T11:40:12.258Z"
   },
   {
    "duration": 207,
    "start_time": "2024-03-28T11:40:12.284Z"
   },
   {
    "duration": 5,
    "start_time": "2024-03-28T11:40:12.492Z"
   },
   {
    "duration": 23,
    "start_time": "2024-03-28T11:40:12.498Z"
   },
   {
    "duration": 312,
    "start_time": "2024-03-28T11:40:12.522Z"
   },
   {
    "duration": 14,
    "start_time": "2024-03-28T11:40:12.835Z"
   },
   {
    "duration": 35,
    "start_time": "2024-03-28T11:40:12.851Z"
   },
   {
    "duration": 174,
    "start_time": "2024-03-28T11:40:12.887Z"
   },
   {
    "duration": 7,
    "start_time": "2024-03-28T11:40:13.062Z"
   },
   {
    "duration": 153,
    "start_time": "2024-03-28T11:40:13.070Z"
   },
   {
    "duration": 30,
    "start_time": "2024-03-28T11:40:13.224Z"
   },
   {
    "duration": 7,
    "start_time": "2024-03-28T11:40:13.256Z"
   },
   {
    "duration": 66,
    "start_time": "2024-03-28T11:40:13.264Z"
   },
   {
    "duration": 19,
    "start_time": "2024-03-28T11:40:13.332Z"
   },
   {
    "duration": 47,
    "start_time": "2024-03-28T11:40:13.352Z"
   },
   {
    "duration": 46,
    "start_time": "2024-03-28T11:40:13.400Z"
   },
   {
    "duration": 28,
    "start_time": "2024-03-28T11:40:13.448Z"
   },
   {
    "duration": 157,
    "start_time": "2024-03-28T11:40:13.477Z"
   },
   {
    "duration": 134,
    "start_time": "2024-03-28T11:40:13.635Z"
   },
   {
    "duration": 14,
    "start_time": "2024-03-28T11:40:13.771Z"
   },
   {
    "duration": 85,
    "start_time": "2024-03-28T11:40:13.786Z"
   },
   {
    "duration": 51,
    "start_time": "2024-03-28T11:40:13.872Z"
   },
   {
    "duration": 49,
    "start_time": "2024-03-28T11:40:13.924Z"
   },
   {
    "duration": 91,
    "start_time": "2024-03-28T11:40:13.975Z"
   },
   {
    "duration": 250,
    "start_time": "2024-03-28T11:40:14.067Z"
   },
   {
    "duration": 11,
    "start_time": "2024-03-28T11:40:14.318Z"
   },
   {
    "duration": 55,
    "start_time": "2024-03-28T11:40:14.330Z"
   },
   {
    "duration": 55,
    "start_time": "2024-03-28T11:40:14.386Z"
   },
   {
    "duration": 492,
    "start_time": "2024-03-28T11:40:14.442Z"
   },
   {
    "duration": 3,
    "start_time": "2024-03-28T11:48:07.674Z"
   },
   {
    "duration": 74,
    "start_time": "2024-03-28T11:48:07.680Z"
   },
   {
    "duration": 5,
    "start_time": "2024-03-28T11:48:07.756Z"
   },
   {
    "duration": 4,
    "start_time": "2024-03-28T11:48:07.762Z"
   },
   {
    "duration": 7,
    "start_time": "2024-03-28T11:48:07.768Z"
   },
   {
    "duration": 7,
    "start_time": "2024-03-28T11:48:07.777Z"
   },
   {
    "duration": 10,
    "start_time": "2024-03-28T11:48:07.786Z"
   },
   {
    "duration": 8,
    "start_time": "2024-03-28T11:48:07.798Z"
   },
   {
    "duration": 40,
    "start_time": "2024-03-28T11:48:07.807Z"
   },
   {
    "duration": 7,
    "start_time": "2024-03-28T11:48:07.848Z"
   },
   {
    "duration": 11,
    "start_time": "2024-03-28T11:48:07.858Z"
   },
   {
    "duration": 30,
    "start_time": "2024-03-28T11:48:07.871Z"
   },
   {
    "duration": 11,
    "start_time": "2024-03-28T11:48:07.903Z"
   },
   {
    "duration": 17,
    "start_time": "2024-03-28T11:48:07.915Z"
   },
   {
    "duration": 4,
    "start_time": "2024-03-28T11:48:07.933Z"
   },
   {
    "duration": 10,
    "start_time": "2024-03-28T11:48:07.938Z"
   },
   {
    "duration": 13,
    "start_time": "2024-03-28T11:48:07.949Z"
   },
   {
    "duration": 15,
    "start_time": "2024-03-28T11:48:07.963Z"
   },
   {
    "duration": 5,
    "start_time": "2024-03-28T11:48:07.979Z"
   },
   {
    "duration": 6,
    "start_time": "2024-03-28T11:48:07.985Z"
   },
   {
    "duration": 4,
    "start_time": "2024-03-28T11:48:07.994Z"
   },
   {
    "duration": 5,
    "start_time": "2024-03-28T11:48:07.999Z"
   },
   {
    "duration": 7,
    "start_time": "2024-03-28T11:48:08.006Z"
   },
   {
    "duration": 4,
    "start_time": "2024-03-28T11:48:08.014Z"
   },
   {
    "duration": 3,
    "start_time": "2024-03-28T11:48:08.045Z"
   },
   {
    "duration": 326,
    "start_time": "2024-03-28T11:48:08.050Z"
   },
   {
    "duration": 4,
    "start_time": "2024-03-28T11:48:08.378Z"
   },
   {
    "duration": 19,
    "start_time": "2024-03-28T11:48:08.383Z"
   },
   {
    "duration": 4,
    "start_time": "2024-03-28T11:48:08.403Z"
   },
   {
    "duration": 190,
    "start_time": "2024-03-28T11:48:08.409Z"
   },
   {
    "duration": 4,
    "start_time": "2024-03-28T11:48:08.601Z"
   },
   {
    "duration": 5,
    "start_time": "2024-03-28T11:48:08.606Z"
   },
   {
    "duration": 284,
    "start_time": "2024-03-28T11:48:08.612Z"
   },
   {
    "duration": 7,
    "start_time": "2024-03-28T11:48:08.899Z"
   },
   {
    "duration": 18,
    "start_time": "2024-03-28T11:48:08.907Z"
   },
   {
    "duration": 151,
    "start_time": "2024-03-28T11:48:08.926Z"
   },
   {
    "duration": 7,
    "start_time": "2024-03-28T11:48:09.079Z"
   },
   {
    "duration": 142,
    "start_time": "2024-03-28T11:48:09.087Z"
   },
   {
    "duration": 28,
    "start_time": "2024-03-28T11:48:09.231Z"
   },
   {
    "duration": 7,
    "start_time": "2024-03-28T11:48:09.260Z"
   },
   {
    "duration": 16,
    "start_time": "2024-03-28T11:48:09.268Z"
   },
   {
    "duration": 13,
    "start_time": "2024-03-28T11:48:09.285Z"
   },
   {
    "duration": 48,
    "start_time": "2024-03-28T11:48:09.299Z"
   },
   {
    "duration": 16,
    "start_time": "2024-03-28T11:48:09.348Z"
   },
   {
    "duration": 26,
    "start_time": "2024-03-28T11:48:09.366Z"
   },
   {
    "duration": 177,
    "start_time": "2024-03-28T11:48:09.393Z"
   },
   {
    "duration": 143,
    "start_time": "2024-03-28T11:48:09.572Z"
   },
   {
    "duration": 13,
    "start_time": "2024-03-28T11:48:09.717Z"
   },
   {
    "duration": 37,
    "start_time": "2024-03-28T11:48:09.731Z"
   },
   {
    "duration": 3,
    "start_time": "2024-03-28T11:48:09.770Z"
   },
   {
    "duration": 22,
    "start_time": "2024-03-28T11:48:09.774Z"
   },
   {
    "duration": 3,
    "start_time": "2024-03-28T11:48:09.797Z"
   },
   {
    "duration": 0,
    "start_time": "2024-03-28T11:48:09.801Z"
   },
   {
    "duration": 0,
    "start_time": "2024-03-28T11:48:09.802Z"
   },
   {
    "duration": 0,
    "start_time": "2024-03-28T11:48:09.803Z"
   },
   {
    "duration": 0,
    "start_time": "2024-03-28T11:48:09.804Z"
   },
   {
    "duration": 9,
    "start_time": "2024-03-28T11:48:51.305Z"
   },
   {
    "duration": 3,
    "start_time": "2024-03-28T11:48:57.248Z"
   },
   {
    "duration": 66,
    "start_time": "2024-03-28T11:48:57.254Z"
   },
   {
    "duration": 5,
    "start_time": "2024-03-28T11:48:57.321Z"
   },
   {
    "duration": 11,
    "start_time": "2024-03-28T11:48:57.328Z"
   },
   {
    "duration": 9,
    "start_time": "2024-03-28T11:48:57.341Z"
   },
   {
    "duration": 7,
    "start_time": "2024-03-28T11:48:57.352Z"
   },
   {
    "duration": 9,
    "start_time": "2024-03-28T11:48:57.360Z"
   },
   {
    "duration": 8,
    "start_time": "2024-03-28T11:48:57.370Z"
   },
   {
    "duration": 9,
    "start_time": "2024-03-28T11:48:57.379Z"
   },
   {
    "duration": 9,
    "start_time": "2024-03-28T11:48:57.389Z"
   },
   {
    "duration": 6,
    "start_time": "2024-03-28T11:48:57.400Z"
   },
   {
    "duration": 44,
    "start_time": "2024-03-28T11:48:57.408Z"
   },
   {
    "duration": 4,
    "start_time": "2024-03-28T11:48:57.454Z"
   },
   {
    "duration": 16,
    "start_time": "2024-03-28T11:48:57.460Z"
   },
   {
    "duration": 5,
    "start_time": "2024-03-28T11:48:57.477Z"
   },
   {
    "duration": 7,
    "start_time": "2024-03-28T11:48:57.484Z"
   },
   {
    "duration": 13,
    "start_time": "2024-03-28T11:48:57.493Z"
   },
   {
    "duration": 40,
    "start_time": "2024-03-28T11:48:57.508Z"
   },
   {
    "duration": 4,
    "start_time": "2024-03-28T11:48:57.549Z"
   },
   {
    "duration": 4,
    "start_time": "2024-03-28T11:48:57.555Z"
   },
   {
    "duration": 4,
    "start_time": "2024-03-28T11:48:57.560Z"
   },
   {
    "duration": 4,
    "start_time": "2024-03-28T11:48:57.566Z"
   },
   {
    "duration": 6,
    "start_time": "2024-03-28T11:48:57.572Z"
   },
   {
    "duration": 4,
    "start_time": "2024-03-28T11:48:57.579Z"
   },
   {
    "duration": 4,
    "start_time": "2024-03-28T11:48:57.585Z"
   },
   {
    "duration": 373,
    "start_time": "2024-03-28T11:48:57.590Z"
   },
   {
    "duration": 5,
    "start_time": "2024-03-28T11:48:57.966Z"
   },
   {
    "duration": 18,
    "start_time": "2024-03-28T11:48:57.972Z"
   },
   {
    "duration": 4,
    "start_time": "2024-03-28T11:48:57.991Z"
   },
   {
    "duration": 263,
    "start_time": "2024-03-28T11:48:57.996Z"
   },
   {
    "duration": 5,
    "start_time": "2024-03-28T11:48:58.260Z"
   },
   {
    "duration": 6,
    "start_time": "2024-03-28T11:48:58.266Z"
   },
   {
    "duration": 271,
    "start_time": "2024-03-28T11:48:58.274Z"
   },
   {
    "duration": 7,
    "start_time": "2024-03-28T11:48:58.546Z"
   },
   {
    "duration": 8,
    "start_time": "2024-03-28T11:48:58.554Z"
   },
   {
    "duration": 162,
    "start_time": "2024-03-28T11:48:58.564Z"
   },
   {
    "duration": 18,
    "start_time": "2024-03-28T11:48:58.727Z"
   },
   {
    "duration": 124,
    "start_time": "2024-03-28T11:48:58.746Z"
   },
   {
    "duration": 25,
    "start_time": "2024-03-28T11:48:58.871Z"
   },
   {
    "duration": 7,
    "start_time": "2024-03-28T11:48:58.897Z"
   },
   {
    "duration": 40,
    "start_time": "2024-03-28T11:48:58.905Z"
   },
   {
    "duration": 12,
    "start_time": "2024-03-28T11:48:58.947Z"
   },
   {
    "duration": 26,
    "start_time": "2024-03-28T11:48:58.960Z"
   },
   {
    "duration": 17,
    "start_time": "2024-03-28T11:48:58.987Z"
   },
   {
    "duration": 60,
    "start_time": "2024-03-28T11:48:59.005Z"
   },
   {
    "duration": 150,
    "start_time": "2024-03-28T11:48:59.066Z"
   },
   {
    "duration": 137,
    "start_time": "2024-03-28T11:48:59.218Z"
   },
   {
    "duration": 13,
    "start_time": "2024-03-28T11:48:59.356Z"
   },
   {
    "duration": 32,
    "start_time": "2024-03-28T11:48:59.370Z"
   },
   {
    "duration": 4,
    "start_time": "2024-03-28T11:48:59.403Z"
   },
   {
    "duration": 38,
    "start_time": "2024-03-28T11:48:59.408Z"
   },
   {
    "duration": 9,
    "start_time": "2024-03-28T11:48:59.448Z"
   },
   {
    "duration": 766,
    "start_time": "2024-03-28T11:48:59.460Z"
   },
   {
    "duration": 0,
    "start_time": "2024-03-28T11:49:00.228Z"
   },
   {
    "duration": 0,
    "start_time": "2024-03-28T11:49:00.229Z"
   },
   {
    "duration": 0,
    "start_time": "2024-03-28T11:49:00.230Z"
   },
   {
    "duration": 354,
    "start_time": "2024-03-28T11:49:10.714Z"
   },
   {
    "duration": 2,
    "start_time": "2024-03-28T11:50:29.038Z"
   },
   {
    "duration": 74,
    "start_time": "2024-03-28T11:50:29.042Z"
   },
   {
    "duration": 5,
    "start_time": "2024-03-28T11:50:29.117Z"
   },
   {
    "duration": 10,
    "start_time": "2024-03-28T11:50:29.123Z"
   },
   {
    "duration": 14,
    "start_time": "2024-03-28T11:50:29.134Z"
   },
   {
    "duration": 7,
    "start_time": "2024-03-28T11:50:29.149Z"
   },
   {
    "duration": 11,
    "start_time": "2024-03-28T11:50:29.157Z"
   },
   {
    "duration": 7,
    "start_time": "2024-03-28T11:50:29.169Z"
   },
   {
    "duration": 6,
    "start_time": "2024-03-28T11:50:29.177Z"
   },
   {
    "duration": 7,
    "start_time": "2024-03-28T11:50:29.184Z"
   },
   {
    "duration": 5,
    "start_time": "2024-03-28T11:50:29.193Z"
   },
   {
    "duration": 46,
    "start_time": "2024-03-28T11:50:29.199Z"
   },
   {
    "duration": 4,
    "start_time": "2024-03-28T11:50:29.247Z"
   },
   {
    "duration": 17,
    "start_time": "2024-03-28T11:50:29.252Z"
   },
   {
    "duration": 4,
    "start_time": "2024-03-28T11:50:29.270Z"
   },
   {
    "duration": 6,
    "start_time": "2024-03-28T11:50:29.275Z"
   },
   {
    "duration": 11,
    "start_time": "2024-03-28T11:50:29.283Z"
   },
   {
    "duration": 14,
    "start_time": "2024-03-28T11:50:29.295Z"
   },
   {
    "duration": 6,
    "start_time": "2024-03-28T11:50:29.310Z"
   },
   {
    "duration": 28,
    "start_time": "2024-03-28T11:50:29.318Z"
   },
   {
    "duration": 5,
    "start_time": "2024-03-28T11:50:29.347Z"
   },
   {
    "duration": 7,
    "start_time": "2024-03-28T11:50:29.353Z"
   },
   {
    "duration": 9,
    "start_time": "2024-03-28T11:50:29.361Z"
   },
   {
    "duration": 5,
    "start_time": "2024-03-28T11:50:29.371Z"
   },
   {
    "duration": 10,
    "start_time": "2024-03-28T11:50:29.377Z"
   },
   {
    "duration": 322,
    "start_time": "2024-03-28T11:50:29.389Z"
   },
   {
    "duration": 5,
    "start_time": "2024-03-28T11:50:29.712Z"
   },
   {
    "duration": 9,
    "start_time": "2024-03-28T11:50:29.718Z"
   },
   {
    "duration": 19,
    "start_time": "2024-03-28T11:50:29.728Z"
   },
   {
    "duration": 178,
    "start_time": "2024-03-28T11:50:29.749Z"
   },
   {
    "duration": 4,
    "start_time": "2024-03-28T11:50:29.929Z"
   },
   {
    "duration": 13,
    "start_time": "2024-03-28T11:50:29.934Z"
   },
   {
    "duration": 261,
    "start_time": "2024-03-28T11:50:29.948Z"
   },
   {
    "duration": 7,
    "start_time": "2024-03-28T11:50:30.211Z"
   },
   {
    "duration": 54,
    "start_time": "2024-03-28T11:50:30.220Z"
   },
   {
    "duration": 311,
    "start_time": "2024-03-28T11:50:30.275Z"
   },
   {
    "duration": 7,
    "start_time": "2024-03-28T11:50:30.588Z"
   },
   {
    "duration": 196,
    "start_time": "2024-03-28T11:50:30.597Z"
   },
   {
    "duration": 25,
    "start_time": "2024-03-28T11:50:30.794Z"
   },
   {
    "duration": 53,
    "start_time": "2024-03-28T11:50:30.820Z"
   },
   {
    "duration": 33,
    "start_time": "2024-03-28T11:50:30.875Z"
   },
   {
    "duration": 49,
    "start_time": "2024-03-28T11:50:30.910Z"
   },
   {
    "duration": 45,
    "start_time": "2024-03-28T11:50:30.960Z"
   },
   {
    "duration": 27,
    "start_time": "2024-03-28T11:50:31.006Z"
   },
   {
    "duration": 43,
    "start_time": "2024-03-28T11:50:31.035Z"
   },
   {
    "duration": 168,
    "start_time": "2024-03-28T11:50:31.079Z"
   },
   {
    "duration": 141,
    "start_time": "2024-03-28T11:50:31.248Z"
   },
   {
    "duration": 13,
    "start_time": "2024-03-28T11:50:31.390Z"
   },
   {
    "duration": 75,
    "start_time": "2024-03-28T11:50:31.404Z"
   },
   {
    "duration": 17,
    "start_time": "2024-03-28T11:50:31.480Z"
   },
   {
    "duration": 27,
    "start_time": "2024-03-28T11:50:31.499Z"
   },
   {
    "duration": 30,
    "start_time": "2024-03-28T11:50:31.527Z"
   },
   {
    "duration": 64,
    "start_time": "2024-03-28T11:50:31.558Z"
   },
   {
    "duration": 15,
    "start_time": "2024-03-28T11:50:31.624Z"
   },
   {
    "duration": 579,
    "start_time": "2024-03-28T11:50:31.640Z"
   },
   {
    "duration": 79,
    "start_time": "2024-03-28T11:51:18.528Z"
   },
   {
    "duration": 9,
    "start_time": "2024-03-28T11:51:52.778Z"
   },
   {
    "duration": 20,
    "start_time": "2024-03-28T11:52:03.711Z"
   },
   {
    "duration": 203,
    "start_time": "2024-03-28T11:56:57.789Z"
   },
   {
    "duration": 19,
    "start_time": "2024-03-28T11:57:38.952Z"
   },
   {
    "duration": 4,
    "start_time": "2024-03-28T11:59:12.147Z"
   },
   {
    "duration": 83,
    "start_time": "2024-03-28T11:59:12.153Z"
   },
   {
    "duration": 5,
    "start_time": "2024-03-28T11:59:12.238Z"
   },
   {
    "duration": 8,
    "start_time": "2024-03-28T11:59:12.245Z"
   },
   {
    "duration": 10,
    "start_time": "2024-03-28T11:59:12.255Z"
   },
   {
    "duration": 10,
    "start_time": "2024-03-28T11:59:12.267Z"
   },
   {
    "duration": 15,
    "start_time": "2024-03-28T11:59:12.279Z"
   },
   {
    "duration": 10,
    "start_time": "2024-03-28T11:59:12.296Z"
   },
   {
    "duration": 38,
    "start_time": "2024-03-28T11:59:12.307Z"
   },
   {
    "duration": 9,
    "start_time": "2024-03-28T11:59:12.347Z"
   },
   {
    "duration": 9,
    "start_time": "2024-03-28T11:59:12.359Z"
   },
   {
    "duration": 11,
    "start_time": "2024-03-28T11:59:12.369Z"
   },
   {
    "duration": 6,
    "start_time": "2024-03-28T11:59:12.382Z"
   },
   {
    "duration": 18,
    "start_time": "2024-03-28T11:59:12.389Z"
   },
   {
    "duration": 4,
    "start_time": "2024-03-28T11:59:12.408Z"
   },
   {
    "duration": 36,
    "start_time": "2024-03-28T11:59:12.413Z"
   },
   {
    "duration": 12,
    "start_time": "2024-03-28T11:59:12.450Z"
   },
   {
    "duration": 6,
    "start_time": "2024-03-28T11:59:12.463Z"
   },
   {
    "duration": 4,
    "start_time": "2024-03-28T11:59:12.470Z"
   },
   {
    "duration": 4,
    "start_time": "2024-03-28T11:59:12.476Z"
   },
   {
    "duration": 3,
    "start_time": "2024-03-28T11:59:12.482Z"
   },
   {
    "duration": 7,
    "start_time": "2024-03-28T11:59:12.486Z"
   },
   {
    "duration": 10,
    "start_time": "2024-03-28T11:59:12.494Z"
   },
   {
    "duration": 4,
    "start_time": "2024-03-28T11:59:12.507Z"
   },
   {
    "duration": 34,
    "start_time": "2024-03-28T11:59:12.512Z"
   },
   {
    "duration": 342,
    "start_time": "2024-03-28T11:59:12.547Z"
   },
   {
    "duration": 10,
    "start_time": "2024-03-28T11:59:12.891Z"
   },
   {
    "duration": 7,
    "start_time": "2024-03-28T11:59:12.902Z"
   },
   {
    "duration": 3,
    "start_time": "2024-03-28T11:59:12.911Z"
   },
   {
    "duration": 200,
    "start_time": "2024-03-28T11:59:12.916Z"
   },
   {
    "duration": 5,
    "start_time": "2024-03-28T11:59:13.118Z"
   },
   {
    "duration": 5,
    "start_time": "2024-03-28T11:59:13.125Z"
   },
   {
    "duration": 272,
    "start_time": "2024-03-28T11:59:13.145Z"
   },
   {
    "duration": 8,
    "start_time": "2024-03-28T11:59:13.418Z"
   },
   {
    "duration": 21,
    "start_time": "2024-03-28T11:59:13.427Z"
   },
   {
    "duration": 235,
    "start_time": "2024-03-28T11:59:13.450Z"
   },
   {
    "duration": 8,
    "start_time": "2024-03-28T11:59:13.686Z"
   },
   {
    "duration": 144,
    "start_time": "2024-03-28T11:59:13.695Z"
   },
   {
    "duration": 31,
    "start_time": "2024-03-28T11:59:13.840Z"
   },
   {
    "duration": 7,
    "start_time": "2024-03-28T11:59:13.872Z"
   },
   {
    "duration": 56,
    "start_time": "2024-03-28T11:59:13.881Z"
   },
   {
    "duration": 13,
    "start_time": "2024-03-28T11:59:13.939Z"
   },
   {
    "duration": 26,
    "start_time": "2024-03-28T11:59:13.955Z"
   },
   {
    "duration": 15,
    "start_time": "2024-03-28T11:59:13.983Z"
   },
   {
    "duration": 46,
    "start_time": "2024-03-28T11:59:13.999Z"
   },
   {
    "duration": 157,
    "start_time": "2024-03-28T11:59:14.046Z"
   },
   {
    "duration": 131,
    "start_time": "2024-03-28T11:59:14.205Z"
   },
   {
    "duration": 16,
    "start_time": "2024-03-28T11:59:14.338Z"
   },
   {
    "duration": 46,
    "start_time": "2024-03-28T11:59:14.356Z"
   },
   {
    "duration": 4,
    "start_time": "2024-03-28T11:59:14.404Z"
   },
   {
    "duration": 19,
    "start_time": "2024-03-28T11:59:14.409Z"
   },
   {
    "duration": 0,
    "start_time": "2024-03-28T11:59:14.429Z"
   },
   {
    "duration": 0,
    "start_time": "2024-03-28T11:59:14.430Z"
   },
   {
    "duration": 0,
    "start_time": "2024-03-28T11:59:14.432Z"
   },
   {
    "duration": 0,
    "start_time": "2024-03-28T11:59:14.433Z"
   },
   {
    "duration": 14,
    "start_time": "2024-03-28T12:00:22.264Z"
   },
   {
    "duration": 13,
    "start_time": "2024-03-28T12:00:25.334Z"
   },
   {
    "duration": 20,
    "start_time": "2024-03-28T12:00:40.191Z"
   },
   {
    "duration": 203,
    "start_time": "2024-03-28T12:02:18.496Z"
   },
   {
    "duration": 155,
    "start_time": "2024-03-28T12:03:07.720Z"
   },
   {
    "duration": 19,
    "start_time": "2024-03-28T12:03:12.213Z"
   },
   {
    "duration": 3,
    "start_time": "2024-03-28T12:06:13.631Z"
   },
   {
    "duration": 72,
    "start_time": "2024-03-28T12:06:13.637Z"
   },
   {
    "duration": 5,
    "start_time": "2024-03-28T12:06:13.710Z"
   },
   {
    "duration": 7,
    "start_time": "2024-03-28T12:06:13.716Z"
   },
   {
    "duration": 18,
    "start_time": "2024-03-28T12:06:13.724Z"
   },
   {
    "duration": 15,
    "start_time": "2024-03-28T12:06:13.744Z"
   },
   {
    "duration": 17,
    "start_time": "2024-03-28T12:06:13.760Z"
   },
   {
    "duration": 7,
    "start_time": "2024-03-28T12:06:13.779Z"
   },
   {
    "duration": 7,
    "start_time": "2024-03-28T12:06:13.788Z"
   },
   {
    "duration": 11,
    "start_time": "2024-03-28T12:06:13.797Z"
   },
   {
    "duration": 7,
    "start_time": "2024-03-28T12:06:13.810Z"
   },
   {
    "duration": 15,
    "start_time": "2024-03-28T12:06:13.818Z"
   },
   {
    "duration": 6,
    "start_time": "2024-03-28T12:06:13.844Z"
   },
   {
    "duration": 19,
    "start_time": "2024-03-28T12:06:13.852Z"
   },
   {
    "duration": 4,
    "start_time": "2024-03-28T12:06:13.873Z"
   },
   {
    "duration": 15,
    "start_time": "2024-03-28T12:06:13.878Z"
   },
   {
    "duration": 28,
    "start_time": "2024-03-28T12:06:13.895Z"
   },
   {
    "duration": 27,
    "start_time": "2024-03-28T12:06:13.925Z"
   },
   {
    "duration": 18,
    "start_time": "2024-03-28T12:06:13.953Z"
   },
   {
    "duration": 6,
    "start_time": "2024-03-28T12:06:13.972Z"
   },
   {
    "duration": 4,
    "start_time": "2024-03-28T12:06:13.981Z"
   },
   {
    "duration": 10,
    "start_time": "2024-03-28T12:06:13.987Z"
   },
   {
    "duration": 8,
    "start_time": "2024-03-28T12:06:13.998Z"
   },
   {
    "duration": 6,
    "start_time": "2024-03-28T12:06:14.007Z"
   },
   {
    "duration": 3,
    "start_time": "2024-03-28T12:06:14.015Z"
   },
   {
    "duration": 331,
    "start_time": "2024-03-28T12:06:14.020Z"
   },
   {
    "duration": 5,
    "start_time": "2024-03-28T12:06:14.353Z"
   },
   {
    "duration": 12,
    "start_time": "2024-03-28T12:06:14.359Z"
   },
   {
    "duration": 5,
    "start_time": "2024-03-28T12:06:14.372Z"
   },
   {
    "duration": 178,
    "start_time": "2024-03-28T12:06:14.378Z"
   },
   {
    "duration": 4,
    "start_time": "2024-03-28T12:06:14.557Z"
   },
   {
    "duration": 5,
    "start_time": "2024-03-28T12:06:14.562Z"
   },
   {
    "duration": 280,
    "start_time": "2024-03-28T12:06:14.568Z"
   },
   {
    "duration": 16,
    "start_time": "2024-03-28T12:06:14.850Z"
   },
   {
    "duration": 10,
    "start_time": "2024-03-28T12:06:14.867Z"
   },
   {
    "duration": 161,
    "start_time": "2024-03-28T12:06:14.878Z"
   },
   {
    "duration": 7,
    "start_time": "2024-03-28T12:06:15.045Z"
   },
   {
    "duration": 147,
    "start_time": "2024-03-28T12:06:15.054Z"
   },
   {
    "duration": 24,
    "start_time": "2024-03-28T12:06:15.203Z"
   },
   {
    "duration": 46,
    "start_time": "2024-03-28T12:06:15.229Z"
   },
   {
    "duration": 23,
    "start_time": "2024-03-28T12:06:15.276Z"
   },
   {
    "duration": 33,
    "start_time": "2024-03-28T12:06:15.300Z"
   },
   {
    "duration": 34,
    "start_time": "2024-03-28T12:06:15.334Z"
   },
   {
    "duration": 20,
    "start_time": "2024-03-28T12:06:15.369Z"
   },
   {
    "duration": 51,
    "start_time": "2024-03-28T12:06:15.390Z"
   },
   {
    "duration": 175,
    "start_time": "2024-03-28T12:06:15.443Z"
   },
   {
    "duration": 138,
    "start_time": "2024-03-28T12:06:15.620Z"
   },
   {
    "duration": 13,
    "start_time": "2024-03-28T12:06:15.759Z"
   },
   {
    "duration": 38,
    "start_time": "2024-03-28T12:06:15.774Z"
   },
   {
    "duration": 3,
    "start_time": "2024-03-28T12:06:15.814Z"
   },
   {
    "duration": 37,
    "start_time": "2024-03-28T12:06:15.819Z"
   },
   {
    "duration": 117,
    "start_time": "2024-03-28T12:06:15.858Z"
   },
   {
    "duration": 6,
    "start_time": "2024-03-28T12:06:15.976Z"
   },
   {
    "duration": 22,
    "start_time": "2024-03-28T12:06:15.983Z"
   },
   {
    "duration": 80,
    "start_time": "2024-03-28T12:06:16.006Z"
   },
   {
    "duration": 3,
    "start_time": "2024-03-28T12:07:50.106Z"
   },
   {
    "duration": 76,
    "start_time": "2024-03-28T12:07:50.112Z"
   },
   {
    "duration": 4,
    "start_time": "2024-03-28T12:07:50.190Z"
   },
   {
    "duration": 5,
    "start_time": "2024-03-28T12:07:50.195Z"
   },
   {
    "duration": 14,
    "start_time": "2024-03-28T12:07:50.202Z"
   },
   {
    "duration": 6,
    "start_time": "2024-03-28T12:07:50.217Z"
   },
   {
    "duration": 16,
    "start_time": "2024-03-28T12:07:50.224Z"
   },
   {
    "duration": 7,
    "start_time": "2024-03-28T12:07:50.241Z"
   },
   {
    "duration": 7,
    "start_time": "2024-03-28T12:07:50.249Z"
   },
   {
    "duration": 8,
    "start_time": "2024-03-28T12:07:50.257Z"
   },
   {
    "duration": 5,
    "start_time": "2024-03-28T12:07:50.267Z"
   },
   {
    "duration": 29,
    "start_time": "2024-03-28T12:07:50.273Z"
   },
   {
    "duration": 35,
    "start_time": "2024-03-28T12:07:50.303Z"
   },
   {
    "duration": 26,
    "start_time": "2024-03-28T12:07:50.339Z"
   },
   {
    "duration": 4,
    "start_time": "2024-03-28T12:07:50.366Z"
   },
   {
    "duration": 5,
    "start_time": "2024-03-28T12:07:50.371Z"
   },
   {
    "duration": 6,
    "start_time": "2024-03-28T12:07:50.377Z"
   },
   {
    "duration": 14,
    "start_time": "2024-03-28T12:07:50.385Z"
   },
   {
    "duration": 16,
    "start_time": "2024-03-28T12:07:50.400Z"
   },
   {
    "duration": 6,
    "start_time": "2024-03-28T12:07:50.417Z"
   },
   {
    "duration": 4,
    "start_time": "2024-03-28T12:07:50.424Z"
   },
   {
    "duration": 16,
    "start_time": "2024-03-28T12:07:50.430Z"
   },
   {
    "duration": 17,
    "start_time": "2024-03-28T12:07:50.447Z"
   },
   {
    "duration": 4,
    "start_time": "2024-03-28T12:07:50.466Z"
   },
   {
    "duration": 4,
    "start_time": "2024-03-28T12:07:50.471Z"
   },
   {
    "duration": 323,
    "start_time": "2024-03-28T12:07:50.476Z"
   },
   {
    "duration": 5,
    "start_time": "2024-03-28T12:07:50.800Z"
   },
   {
    "duration": 8,
    "start_time": "2024-03-28T12:07:50.807Z"
   },
   {
    "duration": 12,
    "start_time": "2024-03-28T12:07:50.816Z"
   },
   {
    "duration": 180,
    "start_time": "2024-03-28T12:07:50.829Z"
   },
   {
    "duration": 5,
    "start_time": "2024-03-28T12:07:51.010Z"
   },
   {
    "duration": 10,
    "start_time": "2024-03-28T12:07:51.018Z"
   },
   {
    "duration": 290,
    "start_time": "2024-03-28T12:07:51.029Z"
   },
   {
    "duration": 8,
    "start_time": "2024-03-28T12:07:51.321Z"
   },
   {
    "duration": 42,
    "start_time": "2024-03-28T12:07:51.331Z"
   },
   {
    "duration": 183,
    "start_time": "2024-03-28T12:07:51.375Z"
   },
   {
    "duration": 9,
    "start_time": "2024-03-28T12:07:51.559Z"
   },
   {
    "duration": 144,
    "start_time": "2024-03-28T12:07:51.570Z"
   },
   {
    "duration": 32,
    "start_time": "2024-03-28T12:07:51.716Z"
   },
   {
    "duration": 8,
    "start_time": "2024-03-28T12:07:51.749Z"
   },
   {
    "duration": 22,
    "start_time": "2024-03-28T12:07:51.759Z"
   },
   {
    "duration": 11,
    "start_time": "2024-03-28T12:07:51.783Z"
   },
   {
    "duration": 31,
    "start_time": "2024-03-28T12:07:51.795Z"
   },
   {
    "duration": 34,
    "start_time": "2024-03-28T12:07:51.828Z"
   },
   {
    "duration": 35,
    "start_time": "2024-03-28T12:07:51.864Z"
   },
   {
    "duration": 162,
    "start_time": "2024-03-28T12:07:51.901Z"
   },
   {
    "duration": 145,
    "start_time": "2024-03-28T12:07:52.065Z"
   },
   {
    "duration": 13,
    "start_time": "2024-03-28T12:07:52.211Z"
   },
   {
    "duration": 60,
    "start_time": "2024-03-28T12:07:52.225Z"
   },
   {
    "duration": 7,
    "start_time": "2024-03-28T12:07:52.287Z"
   },
   {
    "duration": 43,
    "start_time": "2024-03-28T12:07:52.296Z"
   },
   {
    "duration": 14,
    "start_time": "2024-03-28T12:07:52.341Z"
   },
   {
    "duration": 14,
    "start_time": "2024-03-28T12:07:52.356Z"
   },
   {
    "duration": 13,
    "start_time": "2024-03-28T12:07:52.371Z"
   },
   {
    "duration": 179,
    "start_time": "2024-03-28T12:07:52.385Z"
   },
   {
    "duration": 66,
    "start_time": "2024-03-28T12:09:31.288Z"
   },
   {
    "duration": 3,
    "start_time": "2024-03-28T12:09:39.781Z"
   },
   {
    "duration": 72,
    "start_time": "2024-03-28T12:09:39.786Z"
   },
   {
    "duration": 6,
    "start_time": "2024-03-28T12:09:39.862Z"
   },
   {
    "duration": 29,
    "start_time": "2024-03-28T12:09:39.869Z"
   },
   {
    "duration": 44,
    "start_time": "2024-03-28T12:09:39.899Z"
   },
   {
    "duration": 32,
    "start_time": "2024-03-28T12:09:39.944Z"
   },
   {
    "duration": 53,
    "start_time": "2024-03-28T12:09:39.978Z"
   },
   {
    "duration": 38,
    "start_time": "2024-03-28T12:09:40.032Z"
   },
   {
    "duration": 25,
    "start_time": "2024-03-28T12:09:40.072Z"
   },
   {
    "duration": 36,
    "start_time": "2024-03-28T12:09:40.099Z"
   },
   {
    "duration": 39,
    "start_time": "2024-03-28T12:09:40.138Z"
   },
   {
    "duration": 54,
    "start_time": "2024-03-28T12:09:40.178Z"
   },
   {
    "duration": 41,
    "start_time": "2024-03-28T12:09:40.234Z"
   },
   {
    "duration": 34,
    "start_time": "2024-03-28T12:09:40.276Z"
   },
   {
    "duration": 27,
    "start_time": "2024-03-28T12:09:40.312Z"
   },
   {
    "duration": 67,
    "start_time": "2024-03-28T12:09:40.340Z"
   },
   {
    "duration": 61,
    "start_time": "2024-03-28T12:09:40.408Z"
   },
   {
    "duration": 79,
    "start_time": "2024-03-28T12:09:40.471Z"
   },
   {
    "duration": 47,
    "start_time": "2024-03-28T12:09:40.551Z"
   },
   {
    "duration": 37,
    "start_time": "2024-03-28T12:09:40.600Z"
   },
   {
    "duration": 45,
    "start_time": "2024-03-28T12:09:40.638Z"
   },
   {
    "duration": 67,
    "start_time": "2024-03-28T12:09:40.685Z"
   },
   {
    "duration": 54,
    "start_time": "2024-03-28T12:09:40.754Z"
   },
   {
    "duration": 39,
    "start_time": "2024-03-28T12:09:40.809Z"
   },
   {
    "duration": 39,
    "start_time": "2024-03-28T12:09:40.849Z"
   },
   {
    "duration": 324,
    "start_time": "2024-03-28T12:09:40.889Z"
   },
   {
    "duration": 5,
    "start_time": "2024-03-28T12:09:41.215Z"
   },
   {
    "duration": 68,
    "start_time": "2024-03-28T12:09:41.221Z"
   },
   {
    "duration": 44,
    "start_time": "2024-03-28T12:09:41.292Z"
   },
   {
    "duration": 232,
    "start_time": "2024-03-28T12:09:41.337Z"
   },
   {
    "duration": 5,
    "start_time": "2024-03-28T12:09:41.570Z"
   },
   {
    "duration": 38,
    "start_time": "2024-03-28T12:09:41.576Z"
   },
   {
    "duration": 325,
    "start_time": "2024-03-28T12:09:41.615Z"
   },
   {
    "duration": 7,
    "start_time": "2024-03-28T12:09:41.944Z"
   },
   {
    "duration": 72,
    "start_time": "2024-03-28T12:09:41.952Z"
   },
   {
    "duration": 209,
    "start_time": "2024-03-28T12:09:42.025Z"
   },
   {
    "duration": 12,
    "start_time": "2024-03-28T12:09:42.236Z"
   },
   {
    "duration": 156,
    "start_time": "2024-03-28T12:09:42.250Z"
   },
   {
    "duration": 38,
    "start_time": "2024-03-28T12:09:42.408Z"
   },
   {
    "duration": 9,
    "start_time": "2024-03-28T12:09:42.448Z"
   },
   {
    "duration": 52,
    "start_time": "2024-03-28T12:09:42.459Z"
   },
   {
    "duration": 51,
    "start_time": "2024-03-28T12:09:42.512Z"
   },
   {
    "duration": 43,
    "start_time": "2024-03-28T12:09:42.565Z"
   },
   {
    "duration": 31,
    "start_time": "2024-03-28T12:09:42.609Z"
   },
   {
    "duration": 55,
    "start_time": "2024-03-28T12:09:42.642Z"
   },
   {
    "duration": 166,
    "start_time": "2024-03-28T12:09:42.699Z"
   },
   {
    "duration": 137,
    "start_time": "2024-03-28T12:09:42.867Z"
   },
   {
    "duration": 13,
    "start_time": "2024-03-28T12:09:43.006Z"
   },
   {
    "duration": 96,
    "start_time": "2024-03-28T12:09:43.021Z"
   },
   {
    "duration": 10,
    "start_time": "2024-03-28T12:09:43.119Z"
   },
   {
    "duration": 96,
    "start_time": "2024-03-28T12:09:43.130Z"
   },
   {
    "duration": 32,
    "start_time": "2024-03-28T12:09:43.228Z"
   },
   {
    "duration": 26,
    "start_time": "2024-03-28T12:09:43.261Z"
   },
   {
    "duration": 49,
    "start_time": "2024-03-28T12:09:43.288Z"
   },
   {
    "duration": 66,
    "start_time": "2024-03-28T12:09:43.338Z"
   },
   {
    "duration": 2,
    "start_time": "2024-03-28T12:14:10.610Z"
   },
   {
    "duration": 68,
    "start_time": "2024-03-28T12:14:10.615Z"
   },
   {
    "duration": 4,
    "start_time": "2024-03-28T12:14:10.685Z"
   },
   {
    "duration": 4,
    "start_time": "2024-03-28T12:14:10.691Z"
   },
   {
    "duration": 8,
    "start_time": "2024-03-28T12:14:10.697Z"
   },
   {
    "duration": 7,
    "start_time": "2024-03-28T12:14:10.707Z"
   },
   {
    "duration": 10,
    "start_time": "2024-03-28T12:14:10.716Z"
   },
   {
    "duration": 21,
    "start_time": "2024-03-28T12:14:10.727Z"
   },
   {
    "duration": 8,
    "start_time": "2024-03-28T12:14:10.749Z"
   },
   {
    "duration": 12,
    "start_time": "2024-03-28T12:14:10.759Z"
   },
   {
    "duration": 11,
    "start_time": "2024-03-28T12:14:10.773Z"
   },
   {
    "duration": 10,
    "start_time": "2024-03-28T12:14:10.785Z"
   },
   {
    "duration": 17,
    "start_time": "2024-03-28T12:14:10.797Z"
   },
   {
    "duration": 13,
    "start_time": "2024-03-28T12:14:10.815Z"
   },
   {
    "duration": 5,
    "start_time": "2024-03-28T12:14:10.846Z"
   },
   {
    "duration": 20,
    "start_time": "2024-03-28T12:14:10.852Z"
   },
   {
    "duration": 8,
    "start_time": "2024-03-28T12:14:10.873Z"
   },
   {
    "duration": 22,
    "start_time": "2024-03-28T12:14:10.882Z"
   },
   {
    "duration": 8,
    "start_time": "2024-03-28T12:14:10.907Z"
   },
   {
    "duration": 6,
    "start_time": "2024-03-28T12:14:10.916Z"
   },
   {
    "duration": 5,
    "start_time": "2024-03-28T12:14:10.923Z"
   },
   {
    "duration": 9,
    "start_time": "2024-03-28T12:14:10.930Z"
   },
   {
    "duration": 7,
    "start_time": "2024-03-28T12:14:10.945Z"
   },
   {
    "duration": 4,
    "start_time": "2024-03-28T12:14:10.954Z"
   },
   {
    "duration": 7,
    "start_time": "2024-03-28T12:14:10.959Z"
   },
   {
    "duration": 329,
    "start_time": "2024-03-28T12:14:10.968Z"
   },
   {
    "duration": 4,
    "start_time": "2024-03-28T12:14:11.298Z"
   },
   {
    "duration": 13,
    "start_time": "2024-03-28T12:14:11.303Z"
   },
   {
    "duration": 22,
    "start_time": "2024-03-28T12:14:11.317Z"
   },
   {
    "duration": 183,
    "start_time": "2024-03-28T12:14:11.341Z"
   },
   {
    "duration": 5,
    "start_time": "2024-03-28T12:14:11.525Z"
   },
   {
    "duration": 13,
    "start_time": "2024-03-28T12:14:11.534Z"
   },
   {
    "duration": 260,
    "start_time": "2024-03-28T12:14:11.549Z"
   },
   {
    "duration": 7,
    "start_time": "2024-03-28T12:14:11.810Z"
   },
   {
    "duration": 26,
    "start_time": "2024-03-28T12:14:11.818Z"
   },
   {
    "duration": 272,
    "start_time": "2024-03-28T12:14:11.845Z"
   },
   {
    "duration": 7,
    "start_time": "2024-03-28T12:14:12.119Z"
   },
   {
    "duration": 143,
    "start_time": "2024-03-28T12:14:12.127Z"
   },
   {
    "duration": 25,
    "start_time": "2024-03-28T12:14:12.272Z"
   },
   {
    "duration": 10,
    "start_time": "2024-03-28T12:14:12.298Z"
   },
   {
    "duration": 23,
    "start_time": "2024-03-28T12:14:12.310Z"
   },
   {
    "duration": 12,
    "start_time": "2024-03-28T12:14:12.345Z"
   },
   {
    "duration": 51,
    "start_time": "2024-03-28T12:14:12.359Z"
   },
   {
    "duration": 16,
    "start_time": "2024-03-28T12:14:12.411Z"
   },
   {
    "duration": 55,
    "start_time": "2024-03-28T12:14:12.429Z"
   },
   {
    "duration": 146,
    "start_time": "2024-03-28T12:14:12.485Z"
   },
   {
    "duration": 132,
    "start_time": "2024-03-28T12:14:12.632Z"
   },
   {
    "duration": 12,
    "start_time": "2024-03-28T12:14:12.765Z"
   },
   {
    "duration": 36,
    "start_time": "2024-03-28T12:14:12.778Z"
   },
   {
    "duration": 3,
    "start_time": "2024-03-28T12:14:12.815Z"
   },
   {
    "duration": 43,
    "start_time": "2024-03-28T12:14:12.819Z"
   },
   {
    "duration": 13,
    "start_time": "2024-03-28T12:14:12.863Z"
   },
   {
    "duration": 28,
    "start_time": "2024-03-28T12:14:12.877Z"
   },
   {
    "duration": 18,
    "start_time": "2024-03-28T12:14:12.906Z"
   },
   {
    "duration": 79,
    "start_time": "2024-03-28T12:14:12.925Z"
   },
   {
    "duration": 2,
    "start_time": "2024-03-28T12:20:52.608Z"
   },
   {
    "duration": 64,
    "start_time": "2024-03-28T12:20:52.613Z"
   },
   {
    "duration": 4,
    "start_time": "2024-03-28T12:20:52.679Z"
   },
   {
    "duration": 5,
    "start_time": "2024-03-28T12:20:52.685Z"
   },
   {
    "duration": 9,
    "start_time": "2024-03-28T12:20:52.692Z"
   },
   {
    "duration": 9,
    "start_time": "2024-03-28T12:20:52.703Z"
   },
   {
    "duration": 10,
    "start_time": "2024-03-28T12:20:52.714Z"
   },
   {
    "duration": 23,
    "start_time": "2024-03-28T12:20:52.726Z"
   },
   {
    "duration": 8,
    "start_time": "2024-03-28T12:20:52.750Z"
   },
   {
    "duration": 16,
    "start_time": "2024-03-28T12:20:52.760Z"
   },
   {
    "duration": 8,
    "start_time": "2024-03-28T12:20:52.779Z"
   },
   {
    "duration": 11,
    "start_time": "2024-03-28T12:20:52.788Z"
   },
   {
    "duration": 6,
    "start_time": "2024-03-28T12:20:52.800Z"
   },
   {
    "duration": 43,
    "start_time": "2024-03-28T12:20:52.807Z"
   },
   {
    "duration": 4,
    "start_time": "2024-03-28T12:20:52.852Z"
   },
   {
    "duration": 6,
    "start_time": "2024-03-28T12:20:52.857Z"
   },
   {
    "duration": 6,
    "start_time": "2024-03-28T12:20:52.864Z"
   },
   {
    "duration": 5,
    "start_time": "2024-03-28T12:20:52.871Z"
   },
   {
    "duration": 4,
    "start_time": "2024-03-28T12:20:52.878Z"
   },
   {
    "duration": 6,
    "start_time": "2024-03-28T12:20:52.883Z"
   },
   {
    "duration": 4,
    "start_time": "2024-03-28T12:20:52.890Z"
   },
   {
    "duration": 8,
    "start_time": "2024-03-28T12:20:52.895Z"
   },
   {
    "duration": 42,
    "start_time": "2024-03-28T12:20:52.904Z"
   },
   {
    "duration": 11,
    "start_time": "2024-03-28T12:20:52.948Z"
   },
   {
    "duration": 4,
    "start_time": "2024-03-28T12:20:52.960Z"
   },
   {
    "duration": 314,
    "start_time": "2024-03-28T12:20:52.965Z"
   },
   {
    "duration": 5,
    "start_time": "2024-03-28T12:20:53.280Z"
   },
   {
    "duration": 16,
    "start_time": "2024-03-28T12:20:53.288Z"
   },
   {
    "duration": 9,
    "start_time": "2024-03-28T12:20:53.305Z"
   },
   {
    "duration": 167,
    "start_time": "2024-03-28T12:20:53.315Z"
   },
   {
    "duration": 4,
    "start_time": "2024-03-28T12:20:53.484Z"
   },
   {
    "duration": 18,
    "start_time": "2024-03-28T12:20:53.489Z"
   },
   {
    "duration": 266,
    "start_time": "2024-03-28T12:20:53.508Z"
   },
   {
    "duration": 7,
    "start_time": "2024-03-28T12:20:53.775Z"
   },
   {
    "duration": 14,
    "start_time": "2024-03-28T12:20:53.783Z"
   },
   {
    "duration": 175,
    "start_time": "2024-03-28T12:20:53.798Z"
   },
   {
    "duration": 7,
    "start_time": "2024-03-28T12:20:53.975Z"
   },
   {
    "duration": 153,
    "start_time": "2024-03-28T12:20:53.983Z"
   },
   {
    "duration": 29,
    "start_time": "2024-03-28T12:20:54.137Z"
   },
   {
    "duration": 7,
    "start_time": "2024-03-28T12:20:54.167Z"
   },
   {
    "duration": 25,
    "start_time": "2024-03-28T12:20:54.175Z"
   },
   {
    "duration": 13,
    "start_time": "2024-03-28T12:20:54.201Z"
   },
   {
    "duration": 41,
    "start_time": "2024-03-28T12:20:54.215Z"
   },
   {
    "duration": 16,
    "start_time": "2024-03-28T12:20:54.258Z"
   },
   {
    "duration": 26,
    "start_time": "2024-03-28T12:20:54.275Z"
   },
   {
    "duration": 159,
    "start_time": "2024-03-28T12:20:54.302Z"
   },
   {
    "duration": 135,
    "start_time": "2024-03-28T12:20:54.462Z"
   },
   {
    "duration": 11,
    "start_time": "2024-03-28T12:20:54.599Z"
   },
   {
    "duration": 39,
    "start_time": "2024-03-28T12:20:54.611Z"
   },
   {
    "duration": 4,
    "start_time": "2024-03-28T12:20:54.651Z"
   },
   {
    "duration": 34,
    "start_time": "2024-03-28T12:20:54.656Z"
   },
   {
    "duration": 3,
    "start_time": "2024-03-28T12:20:54.691Z"
   },
   {
    "duration": 7,
    "start_time": "2024-03-28T12:20:54.695Z"
   },
   {
    "duration": 4,
    "start_time": "2024-03-28T12:20:54.705Z"
   },
   {
    "duration": 66,
    "start_time": "2024-03-28T12:20:54.711Z"
   },
   {
    "duration": 8,
    "start_time": "2024-03-28T12:22:29.015Z"
   },
   {
    "duration": 123,
    "start_time": "2024-03-28T12:22:45.797Z"
   },
   {
    "duration": 130,
    "start_time": "2024-03-28T12:22:59.593Z"
   },
   {
    "duration": 3,
    "start_time": "2024-03-28T12:24:06.924Z"
   },
   {
    "duration": 82,
    "start_time": "2024-03-28T12:24:06.930Z"
   },
   {
    "duration": 5,
    "start_time": "2024-03-28T12:24:07.013Z"
   },
   {
    "duration": 23,
    "start_time": "2024-03-28T12:24:07.019Z"
   },
   {
    "duration": 19,
    "start_time": "2024-03-28T12:24:07.044Z"
   },
   {
    "duration": 36,
    "start_time": "2024-03-28T12:24:07.065Z"
   },
   {
    "duration": 31,
    "start_time": "2024-03-28T12:24:07.102Z"
   },
   {
    "duration": 16,
    "start_time": "2024-03-28T12:24:07.134Z"
   },
   {
    "duration": 15,
    "start_time": "2024-03-28T12:24:07.151Z"
   },
   {
    "duration": 10,
    "start_time": "2024-03-28T12:24:07.168Z"
   },
   {
    "duration": 12,
    "start_time": "2024-03-28T12:24:07.181Z"
   },
   {
    "duration": 36,
    "start_time": "2024-03-28T12:24:07.194Z"
   },
   {
    "duration": 12,
    "start_time": "2024-03-28T12:24:07.232Z"
   },
   {
    "duration": 49,
    "start_time": "2024-03-28T12:24:07.246Z"
   },
   {
    "duration": 18,
    "start_time": "2024-03-28T12:24:07.297Z"
   },
   {
    "duration": 14,
    "start_time": "2024-03-28T12:24:07.316Z"
   },
   {
    "duration": 36,
    "start_time": "2024-03-28T12:24:07.331Z"
   },
   {
    "duration": 21,
    "start_time": "2024-03-28T12:24:07.368Z"
   },
   {
    "duration": 21,
    "start_time": "2024-03-28T12:24:07.390Z"
   },
   {
    "duration": 22,
    "start_time": "2024-03-28T12:24:07.412Z"
   },
   {
    "duration": 10,
    "start_time": "2024-03-28T12:24:07.436Z"
   },
   {
    "duration": 30,
    "start_time": "2024-03-28T12:24:07.447Z"
   },
   {
    "duration": 23,
    "start_time": "2024-03-28T12:24:07.479Z"
   },
   {
    "duration": 29,
    "start_time": "2024-03-28T12:24:07.503Z"
   },
   {
    "duration": 26,
    "start_time": "2024-03-28T12:24:07.533Z"
   },
   {
    "duration": 316,
    "start_time": "2024-03-28T12:24:07.560Z"
   },
   {
    "duration": 5,
    "start_time": "2024-03-28T12:24:07.879Z"
   },
   {
    "duration": 14,
    "start_time": "2024-03-28T12:24:07.885Z"
   },
   {
    "duration": 31,
    "start_time": "2024-03-28T12:24:07.901Z"
   },
   {
    "duration": 199,
    "start_time": "2024-03-28T12:24:07.933Z"
   },
   {
    "duration": 11,
    "start_time": "2024-03-28T12:24:08.134Z"
   },
   {
    "duration": 10,
    "start_time": "2024-03-28T12:24:08.146Z"
   },
   {
    "duration": 266,
    "start_time": "2024-03-28T12:24:08.157Z"
   },
   {
    "duration": 7,
    "start_time": "2024-03-28T12:24:08.425Z"
   },
   {
    "duration": 28,
    "start_time": "2024-03-28T12:24:08.433Z"
   },
   {
    "duration": 286,
    "start_time": "2024-03-28T12:24:08.463Z"
   },
   {
    "duration": 7,
    "start_time": "2024-03-28T12:24:08.751Z"
   },
   {
    "duration": 145,
    "start_time": "2024-03-28T12:24:08.759Z"
   },
   {
    "duration": 26,
    "start_time": "2024-03-28T12:24:08.905Z"
   },
   {
    "duration": 18,
    "start_time": "2024-03-28T12:24:08.932Z"
   },
   {
    "duration": 25,
    "start_time": "2024-03-28T12:24:08.952Z"
   },
   {
    "duration": 18,
    "start_time": "2024-03-28T12:24:08.979Z"
   },
   {
    "duration": 27,
    "start_time": "2024-03-28T12:24:08.999Z"
   },
   {
    "duration": 35,
    "start_time": "2024-03-28T12:24:09.028Z"
   },
   {
    "duration": 30,
    "start_time": "2024-03-28T12:24:09.065Z"
   },
   {
    "duration": 163,
    "start_time": "2024-03-28T12:24:09.096Z"
   },
   {
    "duration": 141,
    "start_time": "2024-03-28T12:24:09.260Z"
   },
   {
    "duration": 13,
    "start_time": "2024-03-28T12:24:09.402Z"
   },
   {
    "duration": 42,
    "start_time": "2024-03-28T12:24:09.416Z"
   },
   {
    "duration": 4,
    "start_time": "2024-03-28T12:24:09.459Z"
   },
   {
    "duration": 46,
    "start_time": "2024-03-28T12:24:09.464Z"
   },
   {
    "duration": 136,
    "start_time": "2024-03-28T12:24:09.511Z"
   },
   {
    "duration": 4,
    "start_time": "2024-03-28T12:24:09.649Z"
   },
   {
    "duration": 6,
    "start_time": "2024-03-28T12:24:09.654Z"
   },
   {
    "duration": 59,
    "start_time": "2024-03-28T12:24:09.661Z"
   },
   {
    "duration": 139,
    "start_time": "2024-03-28T12:26:00.136Z"
   },
   {
    "duration": 4,
    "start_time": "2024-03-28T12:26:07.048Z"
   },
   {
    "duration": 99,
    "start_time": "2024-03-28T12:26:07.054Z"
   },
   {
    "duration": 6,
    "start_time": "2024-03-28T12:26:07.155Z"
   },
   {
    "duration": 49,
    "start_time": "2024-03-28T12:26:07.162Z"
   },
   {
    "duration": 31,
    "start_time": "2024-03-28T12:26:07.213Z"
   },
   {
    "duration": 58,
    "start_time": "2024-03-28T12:26:07.245Z"
   },
   {
    "duration": 41,
    "start_time": "2024-03-28T12:26:07.304Z"
   },
   {
    "duration": 35,
    "start_time": "2024-03-28T12:26:07.347Z"
   },
   {
    "duration": 47,
    "start_time": "2024-03-28T12:26:07.383Z"
   },
   {
    "duration": 44,
    "start_time": "2024-03-28T12:26:07.431Z"
   },
   {
    "duration": 34,
    "start_time": "2024-03-28T12:26:07.478Z"
   },
   {
    "duration": 43,
    "start_time": "2024-03-28T12:26:07.514Z"
   },
   {
    "duration": 43,
    "start_time": "2024-03-28T12:26:07.558Z"
   },
   {
    "duration": 42,
    "start_time": "2024-03-28T12:26:07.602Z"
   },
   {
    "duration": 40,
    "start_time": "2024-03-28T12:26:07.646Z"
   },
   {
    "duration": 50,
    "start_time": "2024-03-28T12:26:07.687Z"
   },
   {
    "duration": 20,
    "start_time": "2024-03-28T12:26:07.739Z"
   },
   {
    "duration": 15,
    "start_time": "2024-03-28T12:26:07.760Z"
   },
   {
    "duration": 37,
    "start_time": "2024-03-28T12:26:07.776Z"
   },
   {
    "duration": 22,
    "start_time": "2024-03-28T12:26:07.814Z"
   },
   {
    "duration": 24,
    "start_time": "2024-03-28T12:26:07.837Z"
   },
   {
    "duration": 25,
    "start_time": "2024-03-28T12:26:07.863Z"
   },
   {
    "duration": 37,
    "start_time": "2024-03-28T12:26:07.889Z"
   },
   {
    "duration": 26,
    "start_time": "2024-03-28T12:26:07.928Z"
   },
   {
    "duration": 20,
    "start_time": "2024-03-28T12:26:07.955Z"
   },
   {
    "duration": 313,
    "start_time": "2024-03-28T12:26:07.976Z"
   },
   {
    "duration": 7,
    "start_time": "2024-03-28T12:26:08.290Z"
   },
   {
    "duration": 29,
    "start_time": "2024-03-28T12:26:08.298Z"
   },
   {
    "duration": 26,
    "start_time": "2024-03-28T12:26:08.332Z"
   },
   {
    "duration": 194,
    "start_time": "2024-03-28T12:26:08.359Z"
   },
   {
    "duration": 5,
    "start_time": "2024-03-28T12:26:08.555Z"
   },
   {
    "duration": 18,
    "start_time": "2024-03-28T12:26:08.562Z"
   },
   {
    "duration": 296,
    "start_time": "2024-03-28T12:26:08.581Z"
   },
   {
    "duration": 8,
    "start_time": "2024-03-28T12:26:08.879Z"
   },
   {
    "duration": 39,
    "start_time": "2024-03-28T12:26:08.889Z"
   },
   {
    "duration": 162,
    "start_time": "2024-03-28T12:26:08.930Z"
   },
   {
    "duration": 10,
    "start_time": "2024-03-28T12:26:09.093Z"
   },
   {
    "duration": 180,
    "start_time": "2024-03-28T12:26:09.104Z"
   },
   {
    "duration": 25,
    "start_time": "2024-03-28T12:26:09.286Z"
   },
   {
    "duration": 18,
    "start_time": "2024-03-28T12:26:09.312Z"
   },
   {
    "duration": 29,
    "start_time": "2024-03-28T12:26:09.331Z"
   },
   {
    "duration": 20,
    "start_time": "2024-03-28T12:26:09.362Z"
   },
   {
    "duration": 53,
    "start_time": "2024-03-28T12:26:09.383Z"
   },
   {
    "duration": 23,
    "start_time": "2024-03-28T12:26:09.438Z"
   },
   {
    "duration": 27,
    "start_time": "2024-03-28T12:26:09.463Z"
   },
   {
    "duration": 156,
    "start_time": "2024-03-28T12:26:09.491Z"
   },
   {
    "duration": 136,
    "start_time": "2024-03-28T12:26:09.648Z"
   },
   {
    "duration": 12,
    "start_time": "2024-03-28T12:26:09.785Z"
   },
   {
    "duration": 30,
    "start_time": "2024-03-28T12:26:09.799Z"
   },
   {
    "duration": 3,
    "start_time": "2024-03-28T12:26:09.845Z"
   },
   {
    "duration": 27,
    "start_time": "2024-03-28T12:26:09.849Z"
   },
   {
    "duration": 163,
    "start_time": "2024-03-28T12:26:09.877Z"
   },
   {
    "duration": 6,
    "start_time": "2024-03-28T12:26:10.042Z"
   },
   {
    "duration": 6,
    "start_time": "2024-03-28T12:26:10.049Z"
   },
   {
    "duration": 67,
    "start_time": "2024-03-28T12:26:10.057Z"
   },
   {
    "duration": 3,
    "start_time": "2024-03-28T12:28:42.982Z"
   },
   {
    "duration": 71,
    "start_time": "2024-03-28T12:28:42.988Z"
   },
   {
    "duration": 5,
    "start_time": "2024-03-28T12:28:43.061Z"
   },
   {
    "duration": 9,
    "start_time": "2024-03-28T12:28:43.067Z"
   },
   {
    "duration": 8,
    "start_time": "2024-03-28T12:28:43.078Z"
   },
   {
    "duration": 13,
    "start_time": "2024-03-28T12:28:43.087Z"
   },
   {
    "duration": 14,
    "start_time": "2024-03-28T12:28:43.101Z"
   },
   {
    "duration": 8,
    "start_time": "2024-03-28T12:28:43.116Z"
   },
   {
    "duration": 7,
    "start_time": "2024-03-28T12:28:43.125Z"
   },
   {
    "duration": 14,
    "start_time": "2024-03-28T12:28:43.133Z"
   },
   {
    "duration": 6,
    "start_time": "2024-03-28T12:28:43.149Z"
   },
   {
    "duration": 8,
    "start_time": "2024-03-28T12:28:43.156Z"
   },
   {
    "duration": 9,
    "start_time": "2024-03-28T12:28:43.166Z"
   },
   {
    "duration": 12,
    "start_time": "2024-03-28T12:28:43.176Z"
   },
   {
    "duration": 8,
    "start_time": "2024-03-28T12:28:43.189Z"
   },
   {
    "duration": 20,
    "start_time": "2024-03-28T12:28:43.198Z"
   },
   {
    "duration": 15,
    "start_time": "2024-03-28T12:28:43.219Z"
   },
   {
    "duration": 8,
    "start_time": "2024-03-28T12:28:43.245Z"
   },
   {
    "duration": 11,
    "start_time": "2024-03-28T12:28:43.254Z"
   },
   {
    "duration": 13,
    "start_time": "2024-03-28T12:28:43.266Z"
   },
   {
    "duration": 10,
    "start_time": "2024-03-28T12:28:43.281Z"
   },
   {
    "duration": 13,
    "start_time": "2024-03-28T12:28:43.292Z"
   },
   {
    "duration": 13,
    "start_time": "2024-03-28T12:28:43.307Z"
   },
   {
    "duration": 20,
    "start_time": "2024-03-28T12:28:43.322Z"
   },
   {
    "duration": 12,
    "start_time": "2024-03-28T12:28:43.343Z"
   },
   {
    "duration": 326,
    "start_time": "2024-03-28T12:28:43.356Z"
   },
   {
    "duration": 5,
    "start_time": "2024-03-28T12:28:43.683Z"
   },
   {
    "duration": 7,
    "start_time": "2024-03-28T12:28:43.689Z"
   },
   {
    "duration": 3,
    "start_time": "2024-03-28T12:28:43.697Z"
   },
   {
    "duration": 181,
    "start_time": "2024-03-28T12:28:43.702Z"
   },
   {
    "duration": 4,
    "start_time": "2024-03-28T12:28:43.884Z"
   },
   {
    "duration": 7,
    "start_time": "2024-03-28T12:28:43.890Z"
   },
   {
    "duration": 272,
    "start_time": "2024-03-28T12:28:43.898Z"
   },
   {
    "duration": 6,
    "start_time": "2024-03-28T12:28:44.171Z"
   },
   {
    "duration": 10,
    "start_time": "2024-03-28T12:28:44.178Z"
   },
   {
    "duration": 264,
    "start_time": "2024-03-28T12:28:44.190Z"
   },
   {
    "duration": 17,
    "start_time": "2024-03-28T12:28:44.455Z"
   },
   {
    "duration": 136,
    "start_time": "2024-03-28T12:28:44.473Z"
   },
   {
    "duration": 35,
    "start_time": "2024-03-28T12:28:44.610Z"
   },
   {
    "duration": 8,
    "start_time": "2024-03-28T12:28:44.646Z"
   },
   {
    "duration": 17,
    "start_time": "2024-03-28T12:28:44.655Z"
   },
   {
    "duration": 14,
    "start_time": "2024-03-28T12:28:44.673Z"
   },
   {
    "duration": 27,
    "start_time": "2024-03-28T12:28:44.688Z"
   },
   {
    "duration": 44,
    "start_time": "2024-03-28T12:28:44.717Z"
   },
   {
    "duration": 28,
    "start_time": "2024-03-28T12:28:44.762Z"
   },
   {
    "duration": 166,
    "start_time": "2024-03-28T12:28:44.791Z"
   },
   {
    "duration": 142,
    "start_time": "2024-03-28T12:28:44.958Z"
   },
   {
    "duration": 13,
    "start_time": "2024-03-28T12:28:45.101Z"
   },
   {
    "duration": 54,
    "start_time": "2024-03-28T12:28:45.115Z"
   },
   {
    "duration": 3,
    "start_time": "2024-03-28T12:28:45.172Z"
   },
   {
    "duration": 40,
    "start_time": "2024-03-28T12:28:45.177Z"
   },
   {
    "duration": 160,
    "start_time": "2024-03-28T12:28:45.219Z"
   },
   {
    "duration": 6,
    "start_time": "2024-03-28T12:28:45.380Z"
   },
   {
    "duration": 23,
    "start_time": "2024-03-28T12:28:45.387Z"
   },
   {
    "duration": 69,
    "start_time": "2024-03-28T12:28:45.411Z"
   },
   {
    "duration": 3,
    "start_time": "2024-03-28T12:29:37.218Z"
   },
   {
    "duration": 66,
    "start_time": "2024-03-28T12:29:37.226Z"
   },
   {
    "duration": 5,
    "start_time": "2024-03-28T12:29:37.294Z"
   },
   {
    "duration": 4,
    "start_time": "2024-03-28T12:29:37.300Z"
   },
   {
    "duration": 8,
    "start_time": "2024-03-28T12:29:37.306Z"
   },
   {
    "duration": 6,
    "start_time": "2024-03-28T12:29:37.316Z"
   },
   {
    "duration": 16,
    "start_time": "2024-03-28T12:29:37.323Z"
   },
   {
    "duration": 7,
    "start_time": "2024-03-28T12:29:37.340Z"
   },
   {
    "duration": 10,
    "start_time": "2024-03-28T12:29:37.348Z"
   },
   {
    "duration": 6,
    "start_time": "2024-03-28T12:29:37.359Z"
   },
   {
    "duration": 6,
    "start_time": "2024-03-28T12:29:37.367Z"
   },
   {
    "duration": 9,
    "start_time": "2024-03-28T12:29:37.374Z"
   },
   {
    "duration": 9,
    "start_time": "2024-03-28T12:29:37.384Z"
   },
   {
    "duration": 16,
    "start_time": "2024-03-28T12:29:37.395Z"
   },
   {
    "duration": 4,
    "start_time": "2024-03-28T12:29:37.412Z"
   },
   {
    "duration": 6,
    "start_time": "2024-03-28T12:29:37.444Z"
   },
   {
    "duration": 5,
    "start_time": "2024-03-28T12:29:37.452Z"
   },
   {
    "duration": 4,
    "start_time": "2024-03-28T12:29:37.459Z"
   },
   {
    "duration": 5,
    "start_time": "2024-03-28T12:29:37.465Z"
   },
   {
    "duration": 6,
    "start_time": "2024-03-28T12:29:37.471Z"
   },
   {
    "duration": 4,
    "start_time": "2024-03-28T12:29:37.478Z"
   },
   {
    "duration": 5,
    "start_time": "2024-03-28T12:29:37.484Z"
   },
   {
    "duration": 6,
    "start_time": "2024-03-28T12:29:37.491Z"
   },
   {
    "duration": 48,
    "start_time": "2024-03-28T12:29:37.499Z"
   },
   {
    "duration": 8,
    "start_time": "2024-03-28T12:29:37.548Z"
   },
   {
    "duration": 333,
    "start_time": "2024-03-28T12:29:37.558Z"
   },
   {
    "duration": 5,
    "start_time": "2024-03-28T12:29:37.893Z"
   },
   {
    "duration": 9,
    "start_time": "2024-03-28T12:29:37.899Z"
   },
   {
    "duration": 4,
    "start_time": "2024-03-28T12:29:37.909Z"
   },
   {
    "duration": 194,
    "start_time": "2024-03-28T12:29:37.914Z"
   },
   {
    "duration": 6,
    "start_time": "2024-03-28T12:29:38.110Z"
   },
   {
    "duration": 7,
    "start_time": "2024-03-28T12:29:38.117Z"
   },
   {
    "duration": 286,
    "start_time": "2024-03-28T12:29:38.126Z"
   },
   {
    "duration": 7,
    "start_time": "2024-03-28T12:29:38.413Z"
   },
   {
    "duration": 9,
    "start_time": "2024-03-28T12:29:38.421Z"
   },
   {
    "duration": 149,
    "start_time": "2024-03-28T12:29:38.445Z"
   },
   {
    "duration": 7,
    "start_time": "2024-03-28T12:29:38.595Z"
   },
   {
    "duration": 140,
    "start_time": "2024-03-28T12:29:38.604Z"
   },
   {
    "duration": 24,
    "start_time": "2024-03-28T12:29:38.746Z"
   },
   {
    "duration": 6,
    "start_time": "2024-03-28T12:29:38.772Z"
   },
   {
    "duration": 16,
    "start_time": "2024-03-28T12:29:38.779Z"
   },
   {
    "duration": 12,
    "start_time": "2024-03-28T12:29:38.796Z"
   },
   {
    "duration": 52,
    "start_time": "2024-03-28T12:29:38.809Z"
   },
   {
    "duration": 16,
    "start_time": "2024-03-28T12:29:38.863Z"
   },
   {
    "duration": 25,
    "start_time": "2024-03-28T12:29:38.880Z"
   },
   {
    "duration": 158,
    "start_time": "2024-03-28T12:29:38.907Z"
   },
   {
    "duration": 148,
    "start_time": "2024-03-28T12:29:39.067Z"
   },
   {
    "duration": 13,
    "start_time": "2024-03-28T12:29:39.216Z"
   },
   {
    "duration": 37,
    "start_time": "2024-03-28T12:29:39.231Z"
   },
   {
    "duration": 4,
    "start_time": "2024-03-28T12:29:39.270Z"
   },
   {
    "duration": 41,
    "start_time": "2024-03-28T12:29:39.275Z"
   },
   {
    "duration": 167,
    "start_time": "2024-03-28T12:29:39.318Z"
   },
   {
    "duration": 5,
    "start_time": "2024-03-28T12:29:39.487Z"
   },
   {
    "duration": 9,
    "start_time": "2024-03-28T12:29:39.494Z"
   },
   {
    "duration": 62,
    "start_time": "2024-03-28T12:29:39.504Z"
   },
   {
    "duration": 3,
    "start_time": "2024-03-28T12:30:07.881Z"
   },
   {
    "duration": 70,
    "start_time": "2024-03-28T12:30:07.887Z"
   },
   {
    "duration": 4,
    "start_time": "2024-03-28T12:30:07.959Z"
   },
   {
    "duration": 5,
    "start_time": "2024-03-28T12:30:07.964Z"
   },
   {
    "duration": 8,
    "start_time": "2024-03-28T12:30:07.970Z"
   },
   {
    "duration": 15,
    "start_time": "2024-03-28T12:30:07.979Z"
   },
   {
    "duration": 14,
    "start_time": "2024-03-28T12:30:07.995Z"
   },
   {
    "duration": 7,
    "start_time": "2024-03-28T12:30:08.011Z"
   },
   {
    "duration": 7,
    "start_time": "2024-03-28T12:30:08.019Z"
   },
   {
    "duration": 21,
    "start_time": "2024-03-28T12:30:08.027Z"
   },
   {
    "duration": 6,
    "start_time": "2024-03-28T12:30:08.050Z"
   },
   {
    "duration": 9,
    "start_time": "2024-03-28T12:30:08.057Z"
   },
   {
    "duration": 7,
    "start_time": "2024-03-28T12:30:08.067Z"
   },
   {
    "duration": 13,
    "start_time": "2024-03-28T12:30:08.075Z"
   },
   {
    "duration": 4,
    "start_time": "2024-03-28T12:30:08.089Z"
   },
   {
    "duration": 7,
    "start_time": "2024-03-28T12:30:08.095Z"
   },
   {
    "duration": 5,
    "start_time": "2024-03-28T12:30:08.103Z"
   },
   {
    "duration": 39,
    "start_time": "2024-03-28T12:30:08.109Z"
   },
   {
    "duration": 4,
    "start_time": "2024-03-28T12:30:08.149Z"
   },
   {
    "duration": 7,
    "start_time": "2024-03-28T12:30:08.155Z"
   },
   {
    "duration": 4,
    "start_time": "2024-03-28T12:30:08.163Z"
   },
   {
    "duration": 25,
    "start_time": "2024-03-28T12:30:08.169Z"
   },
   {
    "duration": 11,
    "start_time": "2024-03-28T12:30:08.195Z"
   },
   {
    "duration": 5,
    "start_time": "2024-03-28T12:30:08.208Z"
   },
   {
    "duration": 7,
    "start_time": "2024-03-28T12:30:08.215Z"
   },
   {
    "duration": 310,
    "start_time": "2024-03-28T12:30:08.224Z"
   },
   {
    "duration": 12,
    "start_time": "2024-03-28T12:30:08.536Z"
   },
   {
    "duration": 11,
    "start_time": "2024-03-28T12:30:08.549Z"
   },
   {
    "duration": 11,
    "start_time": "2024-03-28T12:30:08.561Z"
   },
   {
    "duration": 182,
    "start_time": "2024-03-28T12:30:08.573Z"
   },
   {
    "duration": 5,
    "start_time": "2024-03-28T12:30:08.759Z"
   },
   {
    "duration": 9,
    "start_time": "2024-03-28T12:30:08.766Z"
   },
   {
    "duration": 382,
    "start_time": "2024-03-28T12:30:08.776Z"
   },
   {
    "duration": 7,
    "start_time": "2024-03-28T12:30:09.159Z"
   },
   {
    "duration": 13,
    "start_time": "2024-03-28T12:30:09.167Z"
   },
   {
    "duration": 157,
    "start_time": "2024-03-28T12:30:09.181Z"
   },
   {
    "duration": 11,
    "start_time": "2024-03-28T12:30:09.339Z"
   },
   {
    "duration": 137,
    "start_time": "2024-03-28T12:30:09.351Z"
   },
   {
    "duration": 25,
    "start_time": "2024-03-28T12:30:09.490Z"
   },
   {
    "duration": 7,
    "start_time": "2024-03-28T12:30:09.516Z"
   },
   {
    "duration": 32,
    "start_time": "2024-03-28T12:30:09.524Z"
   },
   {
    "duration": 13,
    "start_time": "2024-03-28T12:30:09.558Z"
   },
   {
    "duration": 27,
    "start_time": "2024-03-28T12:30:09.572Z"
   },
   {
    "duration": 17,
    "start_time": "2024-03-28T12:30:09.600Z"
   },
   {
    "duration": 28,
    "start_time": "2024-03-28T12:30:09.644Z"
   },
   {
    "duration": 163,
    "start_time": "2024-03-28T12:30:09.673Z"
   },
   {
    "duration": 135,
    "start_time": "2024-03-28T12:30:09.844Z"
   },
   {
    "duration": 12,
    "start_time": "2024-03-28T12:30:09.981Z"
   },
   {
    "duration": 31,
    "start_time": "2024-03-28T12:30:09.994Z"
   },
   {
    "duration": 2,
    "start_time": "2024-03-28T12:30:10.027Z"
   },
   {
    "duration": 43,
    "start_time": "2024-03-28T12:30:10.031Z"
   },
   {
    "duration": 139,
    "start_time": "2024-03-28T12:30:10.076Z"
   },
   {
    "duration": 4,
    "start_time": "2024-03-28T12:30:10.216Z"
   },
   {
    "duration": 7,
    "start_time": "2024-03-28T12:30:10.221Z"
   },
   {
    "duration": 55,
    "start_time": "2024-03-28T12:30:10.229Z"
   },
   {
    "duration": 61,
    "start_time": "2024-03-28T12:35:04.175Z"
   },
   {
    "duration": 12,
    "start_time": "2024-03-28T12:35:20.480Z"
   },
   {
    "duration": 2,
    "start_time": "2024-03-28T12:35:29.399Z"
   },
   {
    "duration": 75,
    "start_time": "2024-03-28T12:35:29.404Z"
   },
   {
    "duration": 5,
    "start_time": "2024-03-28T12:35:29.481Z"
   },
   {
    "duration": 11,
    "start_time": "2024-03-28T12:35:29.488Z"
   },
   {
    "duration": 16,
    "start_time": "2024-03-28T12:35:29.501Z"
   },
   {
    "duration": 16,
    "start_time": "2024-03-28T12:35:29.518Z"
   },
   {
    "duration": 15,
    "start_time": "2024-03-28T12:35:29.535Z"
   },
   {
    "duration": 12,
    "start_time": "2024-03-28T12:35:29.552Z"
   },
   {
    "duration": 7,
    "start_time": "2024-03-28T12:35:29.565Z"
   },
   {
    "duration": 11,
    "start_time": "2024-03-28T12:35:29.573Z"
   },
   {
    "duration": 6,
    "start_time": "2024-03-28T12:35:29.586Z"
   },
   {
    "duration": 17,
    "start_time": "2024-03-28T12:35:29.594Z"
   },
   {
    "duration": 7,
    "start_time": "2024-03-28T12:35:29.613Z"
   },
   {
    "duration": 34,
    "start_time": "2024-03-28T12:35:29.621Z"
   },
   {
    "duration": 4,
    "start_time": "2024-03-28T12:35:29.657Z"
   },
   {
    "duration": 6,
    "start_time": "2024-03-28T12:35:29.662Z"
   },
   {
    "duration": 10,
    "start_time": "2024-03-28T12:35:29.669Z"
   },
   {
    "duration": 17,
    "start_time": "2024-03-28T12:35:29.680Z"
   },
   {
    "duration": 8,
    "start_time": "2024-03-28T12:35:29.698Z"
   },
   {
    "duration": 6,
    "start_time": "2024-03-28T12:35:29.708Z"
   },
   {
    "duration": 4,
    "start_time": "2024-03-28T12:35:29.715Z"
   },
   {
    "duration": 24,
    "start_time": "2024-03-28T12:35:29.721Z"
   },
   {
    "duration": 6,
    "start_time": "2024-03-28T12:35:29.747Z"
   },
   {
    "duration": 14,
    "start_time": "2024-03-28T12:35:29.754Z"
   },
   {
    "duration": 7,
    "start_time": "2024-03-28T12:35:29.769Z"
   },
   {
    "duration": 315,
    "start_time": "2024-03-28T12:35:29.777Z"
   },
   {
    "duration": 6,
    "start_time": "2024-03-28T12:35:30.093Z"
   },
   {
    "duration": 90,
    "start_time": "2024-03-28T12:35:30.100Z"
   },
   {
    "duration": 34,
    "start_time": "2024-03-28T12:35:30.191Z"
   },
   {
    "duration": 193,
    "start_time": "2024-03-28T12:35:30.226Z"
   },
   {
    "duration": 6,
    "start_time": "2024-03-28T12:35:30.420Z"
   },
   {
    "duration": 38,
    "start_time": "2024-03-28T12:35:30.427Z"
   },
   {
    "duration": 304,
    "start_time": "2024-03-28T12:35:30.466Z"
   },
   {
    "duration": 7,
    "start_time": "2024-03-28T12:35:30.772Z"
   },
   {
    "duration": 65,
    "start_time": "2024-03-28T12:35:30.782Z"
   },
   {
    "duration": 220,
    "start_time": "2024-03-28T12:35:30.848Z"
   },
   {
    "duration": 8,
    "start_time": "2024-03-28T12:35:31.070Z"
   },
   {
    "duration": 144,
    "start_time": "2024-03-28T12:35:31.080Z"
   },
   {
    "duration": 34,
    "start_time": "2024-03-28T12:35:31.225Z"
   },
   {
    "duration": 9,
    "start_time": "2024-03-28T12:35:31.261Z"
   },
   {
    "duration": 44,
    "start_time": "2024-03-28T12:35:31.271Z"
   },
   {
    "duration": 51,
    "start_time": "2024-03-28T12:35:31.317Z"
   },
   {
    "duration": 141,
    "start_time": "2024-03-28T12:35:31.369Z"
   },
   {
    "duration": 61,
    "start_time": "2024-03-28T12:35:31.512Z"
   },
   {
    "duration": 126,
    "start_time": "2024-03-28T12:35:31.574Z"
   },
   {
    "duration": 157,
    "start_time": "2024-03-28T12:35:31.701Z"
   },
   {
    "duration": 139,
    "start_time": "2024-03-28T12:35:31.859Z"
   },
   {
    "duration": 12,
    "start_time": "2024-03-28T12:35:31.999Z"
   },
   {
    "duration": 49,
    "start_time": "2024-03-28T12:35:32.013Z"
   },
   {
    "duration": 5,
    "start_time": "2024-03-28T12:35:32.063Z"
   },
   {
    "duration": 148,
    "start_time": "2024-03-28T12:35:32.070Z"
   },
   {
    "duration": 267,
    "start_time": "2024-03-28T12:35:32.220Z"
   },
   {
    "duration": 11,
    "start_time": "2024-03-28T12:35:32.489Z"
   },
   {
    "duration": 10,
    "start_time": "2024-03-28T12:35:32.501Z"
   },
   {
    "duration": 8,
    "start_time": "2024-03-28T12:35:32.512Z"
   },
   {
    "duration": 62,
    "start_time": "2024-03-28T12:35:32.521Z"
   },
   {
    "duration": 3,
    "start_time": "2024-03-28T12:38:24.073Z"
   },
   {
    "duration": 81,
    "start_time": "2024-03-28T12:38:24.081Z"
   },
   {
    "duration": 5,
    "start_time": "2024-03-28T12:38:24.163Z"
   },
   {
    "duration": 23,
    "start_time": "2024-03-28T12:38:24.169Z"
   },
   {
    "duration": 30,
    "start_time": "2024-03-28T12:38:24.194Z"
   },
   {
    "duration": 24,
    "start_time": "2024-03-28T12:38:24.225Z"
   },
   {
    "duration": 33,
    "start_time": "2024-03-28T12:38:24.250Z"
   },
   {
    "duration": 23,
    "start_time": "2024-03-28T12:38:24.284Z"
   },
   {
    "duration": 33,
    "start_time": "2024-03-28T12:38:24.309Z"
   },
   {
    "duration": 19,
    "start_time": "2024-03-28T12:38:24.343Z"
   },
   {
    "duration": 6,
    "start_time": "2024-03-28T12:38:24.364Z"
   },
   {
    "duration": 34,
    "start_time": "2024-03-28T12:38:24.371Z"
   },
   {
    "duration": 12,
    "start_time": "2024-03-28T12:38:24.406Z"
   },
   {
    "duration": 31,
    "start_time": "2024-03-28T12:38:24.420Z"
   },
   {
    "duration": 4,
    "start_time": "2024-03-28T12:38:24.452Z"
   },
   {
    "duration": 16,
    "start_time": "2024-03-28T12:38:24.458Z"
   },
   {
    "duration": 25,
    "start_time": "2024-03-28T12:38:24.475Z"
   },
   {
    "duration": 14,
    "start_time": "2024-03-28T12:38:24.501Z"
   },
   {
    "duration": 29,
    "start_time": "2024-03-28T12:38:24.516Z"
   },
   {
    "duration": 25,
    "start_time": "2024-03-28T12:38:24.546Z"
   },
   {
    "duration": 12,
    "start_time": "2024-03-28T12:38:24.572Z"
   },
   {
    "duration": 22,
    "start_time": "2024-03-28T12:38:24.585Z"
   },
   {
    "duration": 17,
    "start_time": "2024-03-28T12:38:24.608Z"
   },
   {
    "duration": 38,
    "start_time": "2024-03-28T12:38:24.626Z"
   },
   {
    "duration": 28,
    "start_time": "2024-03-28T12:38:24.666Z"
   },
   {
    "duration": 302,
    "start_time": "2024-03-28T12:38:24.695Z"
   },
   {
    "duration": 4,
    "start_time": "2024-03-28T12:38:24.999Z"
   },
   {
    "duration": 31,
    "start_time": "2024-03-28T12:38:25.004Z"
   },
   {
    "duration": 21,
    "start_time": "2024-03-28T12:38:25.038Z"
   },
   {
    "duration": 192,
    "start_time": "2024-03-28T12:38:25.060Z"
   },
   {
    "duration": 5,
    "start_time": "2024-03-28T12:38:25.253Z"
   },
   {
    "duration": 32,
    "start_time": "2024-03-28T12:38:25.259Z"
   },
   {
    "duration": 284,
    "start_time": "2024-03-28T12:38:25.293Z"
   },
   {
    "duration": 8,
    "start_time": "2024-03-28T12:38:25.578Z"
   },
   {
    "duration": 18,
    "start_time": "2024-03-28T12:38:25.587Z"
   },
   {
    "duration": 170,
    "start_time": "2024-03-28T12:38:25.606Z"
   },
   {
    "duration": 8,
    "start_time": "2024-03-28T12:38:25.777Z"
   },
   {
    "duration": 295,
    "start_time": "2024-03-28T12:38:25.786Z"
   },
   {
    "duration": 26,
    "start_time": "2024-03-28T12:38:26.082Z"
   },
   {
    "duration": 17,
    "start_time": "2024-03-28T12:38:26.109Z"
   },
   {
    "duration": 30,
    "start_time": "2024-03-28T12:38:26.127Z"
   },
   {
    "duration": 18,
    "start_time": "2024-03-28T12:38:26.159Z"
   },
   {
    "duration": 27,
    "start_time": "2024-03-28T12:38:26.179Z"
   },
   {
    "duration": 21,
    "start_time": "2024-03-28T12:38:26.207Z"
   },
   {
    "duration": 39,
    "start_time": "2024-03-28T12:38:26.230Z"
   },
   {
    "duration": 152,
    "start_time": "2024-03-28T12:38:26.270Z"
   },
   {
    "duration": 147,
    "start_time": "2024-03-28T12:38:26.424Z"
   },
   {
    "duration": 13,
    "start_time": "2024-03-28T12:38:26.573Z"
   },
   {
    "duration": 43,
    "start_time": "2024-03-28T12:38:26.588Z"
   },
   {
    "duration": 3,
    "start_time": "2024-03-28T12:38:26.633Z"
   },
   {
    "duration": 43,
    "start_time": "2024-03-28T12:38:26.637Z"
   },
   {
    "duration": 134,
    "start_time": "2024-03-28T12:38:26.682Z"
   },
   {
    "duration": 12,
    "start_time": "2024-03-28T12:38:26.817Z"
   },
   {
    "duration": 26,
    "start_time": "2024-03-28T12:38:26.830Z"
   },
   {
    "duration": 27,
    "start_time": "2024-03-28T12:38:26.858Z"
   },
   {
    "duration": 20,
    "start_time": "2024-03-28T12:38:26.886Z"
   },
   {
    "duration": 1093,
    "start_time": "2024-03-28T12:40:21.927Z"
   },
   {
    "duration": 71,
    "start_time": "2024-03-28T12:40:23.022Z"
   },
   {
    "duration": 6,
    "start_time": "2024-03-28T12:40:23.094Z"
   },
   {
    "duration": 15,
    "start_time": "2024-03-28T12:40:23.101Z"
   },
   {
    "duration": 9,
    "start_time": "2024-03-28T12:40:23.117Z"
   },
   {
    "duration": 9,
    "start_time": "2024-03-28T12:40:23.127Z"
   },
   {
    "duration": 11,
    "start_time": "2024-03-28T12:40:23.137Z"
   },
   {
    "duration": 7,
    "start_time": "2024-03-28T12:40:23.149Z"
   },
   {
    "duration": 7,
    "start_time": "2024-03-28T12:40:23.157Z"
   },
   {
    "duration": 7,
    "start_time": "2024-03-28T12:40:23.166Z"
   },
   {
    "duration": 5,
    "start_time": "2024-03-28T12:40:23.174Z"
   },
   {
    "duration": 12,
    "start_time": "2024-03-28T12:40:23.180Z"
   },
   {
    "duration": 8,
    "start_time": "2024-03-28T12:40:23.193Z"
   },
   {
    "duration": 12,
    "start_time": "2024-03-28T12:40:23.202Z"
   },
   {
    "duration": 4,
    "start_time": "2024-03-28T12:40:23.244Z"
   },
   {
    "duration": 11,
    "start_time": "2024-03-28T12:40:23.250Z"
   },
   {
    "duration": 6,
    "start_time": "2024-03-28T12:40:23.262Z"
   },
   {
    "duration": 8,
    "start_time": "2024-03-28T12:40:23.270Z"
   },
   {
    "duration": 8,
    "start_time": "2024-03-28T12:40:23.279Z"
   },
   {
    "duration": 9,
    "start_time": "2024-03-28T12:40:23.288Z"
   },
   {
    "duration": 5,
    "start_time": "2024-03-28T12:40:23.298Z"
   },
   {
    "duration": 7,
    "start_time": "2024-03-28T12:40:23.305Z"
   },
   {
    "duration": 6,
    "start_time": "2024-03-28T12:40:23.314Z"
   },
   {
    "duration": 24,
    "start_time": "2024-03-28T12:40:23.321Z"
   },
   {
    "duration": 3,
    "start_time": "2024-03-28T12:40:23.346Z"
   },
   {
    "duration": 320,
    "start_time": "2024-03-28T12:40:23.350Z"
   },
   {
    "duration": 5,
    "start_time": "2024-03-28T12:40:23.672Z"
   },
   {
    "duration": 13,
    "start_time": "2024-03-28T12:40:23.681Z"
   },
   {
    "duration": 4,
    "start_time": "2024-03-28T12:40:23.695Z"
   },
   {
    "duration": 180,
    "start_time": "2024-03-28T12:40:23.700Z"
   },
   {
    "duration": 5,
    "start_time": "2024-03-28T12:40:23.881Z"
   },
   {
    "duration": 7,
    "start_time": "2024-03-28T12:40:23.887Z"
   },
   {
    "duration": 258,
    "start_time": "2024-03-28T12:40:23.895Z"
   },
   {
    "duration": 7,
    "start_time": "2024-03-28T12:40:24.154Z"
   },
   {
    "duration": 16,
    "start_time": "2024-03-28T12:40:24.162Z"
   },
   {
    "duration": 158,
    "start_time": "2024-03-28T12:40:24.180Z"
   },
   {
    "duration": 8,
    "start_time": "2024-03-28T12:40:24.344Z"
   },
   {
    "duration": 156,
    "start_time": "2024-03-28T12:40:24.353Z"
   },
   {
    "duration": 36,
    "start_time": "2024-03-28T12:40:24.510Z"
   },
   {
    "duration": 8,
    "start_time": "2024-03-28T12:40:24.547Z"
   },
   {
    "duration": 17,
    "start_time": "2024-03-28T12:40:24.556Z"
   },
   {
    "duration": 13,
    "start_time": "2024-03-28T12:40:24.575Z"
   },
   {
    "duration": 59,
    "start_time": "2024-03-28T12:40:24.589Z"
   },
   {
    "duration": 17,
    "start_time": "2024-03-28T12:40:24.650Z"
   },
   {
    "duration": 28,
    "start_time": "2024-03-28T12:40:24.668Z"
   },
   {
    "duration": 184,
    "start_time": "2024-03-28T12:40:24.698Z"
   },
   {
    "duration": 145,
    "start_time": "2024-03-28T12:40:24.884Z"
   },
   {
    "duration": 16,
    "start_time": "2024-03-28T12:40:25.030Z"
   },
   {
    "duration": 32,
    "start_time": "2024-03-28T12:40:25.048Z"
   },
   {
    "duration": 3,
    "start_time": "2024-03-28T12:40:25.082Z"
   },
   {
    "duration": 117,
    "start_time": "2024-03-28T12:40:25.086Z"
   },
   {
    "duration": 151,
    "start_time": "2024-03-28T12:40:25.204Z"
   },
   {
    "duration": 17,
    "start_time": "2024-03-28T12:40:25.356Z"
   },
   {
    "duration": 22,
    "start_time": "2024-03-28T12:40:25.375Z"
   },
   {
    "duration": 6,
    "start_time": "2024-03-28T12:40:25.399Z"
   },
   {
    "duration": 10,
    "start_time": "2024-03-28T12:40:25.407Z"
   },
   {
    "duration": 1062,
    "start_time": "2024-03-28T12:42:16.473Z"
   },
   {
    "duration": 66,
    "start_time": "2024-03-28T12:42:17.537Z"
   },
   {
    "duration": 6,
    "start_time": "2024-03-28T12:42:17.604Z"
   },
   {
    "duration": 23,
    "start_time": "2024-03-28T12:42:17.611Z"
   },
   {
    "duration": 15,
    "start_time": "2024-03-28T12:42:17.635Z"
   },
   {
    "duration": 10,
    "start_time": "2024-03-28T12:42:17.652Z"
   },
   {
    "duration": 24,
    "start_time": "2024-03-28T12:42:17.664Z"
   },
   {
    "duration": 9,
    "start_time": "2024-03-28T12:42:17.689Z"
   },
   {
    "duration": 11,
    "start_time": "2024-03-28T12:42:17.699Z"
   },
   {
    "duration": 20,
    "start_time": "2024-03-28T12:42:17.713Z"
   },
   {
    "duration": 9,
    "start_time": "2024-03-28T12:42:17.746Z"
   },
   {
    "duration": 11,
    "start_time": "2024-03-28T12:42:17.756Z"
   },
   {
    "duration": 18,
    "start_time": "2024-03-28T12:42:17.768Z"
   },
   {
    "duration": 20,
    "start_time": "2024-03-28T12:42:17.787Z"
   },
   {
    "duration": 10,
    "start_time": "2024-03-28T12:42:17.808Z"
   },
   {
    "duration": 10,
    "start_time": "2024-03-28T12:42:17.819Z"
   },
   {
    "duration": 15,
    "start_time": "2024-03-28T12:42:17.830Z"
   },
   {
    "duration": 7,
    "start_time": "2024-03-28T12:42:17.847Z"
   },
   {
    "duration": 6,
    "start_time": "2024-03-28T12:42:17.856Z"
   },
   {
    "duration": 11,
    "start_time": "2024-03-28T12:42:17.863Z"
   },
   {
    "duration": 4,
    "start_time": "2024-03-28T12:42:17.875Z"
   },
   {
    "duration": 7,
    "start_time": "2024-03-28T12:42:17.880Z"
   },
   {
    "duration": 8,
    "start_time": "2024-03-28T12:42:17.888Z"
   },
   {
    "duration": 4,
    "start_time": "2024-03-28T12:42:17.897Z"
   },
   {
    "duration": 4,
    "start_time": "2024-03-28T12:42:17.903Z"
   },
   {
    "duration": 374,
    "start_time": "2024-03-28T12:42:17.908Z"
   },
   {
    "duration": 5,
    "start_time": "2024-03-28T12:42:18.284Z"
   },
   {
    "duration": 7,
    "start_time": "2024-03-28T12:42:18.292Z"
   },
   {
    "duration": 4,
    "start_time": "2024-03-28T12:42:18.300Z"
   },
   {
    "duration": 217,
    "start_time": "2024-03-28T12:42:18.305Z"
   },
   {
    "duration": 5,
    "start_time": "2024-03-28T12:42:18.523Z"
   },
   {
    "duration": 17,
    "start_time": "2024-03-28T12:42:18.529Z"
   },
   {
    "duration": 282,
    "start_time": "2024-03-28T12:42:18.547Z"
   },
   {
    "duration": 7,
    "start_time": "2024-03-28T12:42:18.830Z"
   },
   {
    "duration": 8,
    "start_time": "2024-03-28T12:42:18.845Z"
   },
   {
    "duration": 161,
    "start_time": "2024-03-28T12:42:18.854Z"
   },
   {
    "duration": 10,
    "start_time": "2024-03-28T12:42:19.017Z"
   },
   {
    "duration": 159,
    "start_time": "2024-03-28T12:42:19.029Z"
   },
   {
    "duration": 38,
    "start_time": "2024-03-28T12:42:19.190Z"
   },
   {
    "duration": 18,
    "start_time": "2024-03-28T12:42:19.230Z"
   },
   {
    "duration": 17,
    "start_time": "2024-03-28T12:42:19.249Z"
   },
   {
    "duration": 25,
    "start_time": "2024-03-28T12:42:19.268Z"
   },
   {
    "duration": 26,
    "start_time": "2024-03-28T12:42:19.294Z"
   },
   {
    "duration": 33,
    "start_time": "2024-03-28T12:42:19.322Z"
   },
   {
    "duration": 27,
    "start_time": "2024-03-28T12:42:19.356Z"
   },
   {
    "duration": 183,
    "start_time": "2024-03-28T12:42:19.384Z"
   },
   {
    "duration": 145,
    "start_time": "2024-03-28T12:42:19.568Z"
   },
   {
    "duration": 13,
    "start_time": "2024-03-28T12:42:19.714Z"
   },
   {
    "duration": 38,
    "start_time": "2024-03-28T12:42:19.729Z"
   },
   {
    "duration": 3,
    "start_time": "2024-03-28T12:42:19.769Z"
   },
   {
    "duration": 105,
    "start_time": "2024-03-28T12:42:19.774Z"
   },
   {
    "duration": 154,
    "start_time": "2024-03-28T12:42:19.881Z"
   },
   {
    "duration": 17,
    "start_time": "2024-03-28T12:42:20.036Z"
   },
   {
    "duration": 5,
    "start_time": "2024-03-28T12:42:20.055Z"
   },
   {
    "duration": 17,
    "start_time": "2024-03-28T12:42:20.061Z"
   },
   {
    "duration": 7,
    "start_time": "2024-03-28T12:42:20.079Z"
   },
   {
    "duration": 1392,
    "start_time": "2024-03-28T18:05:10.876Z"
   },
   {
    "duration": 208,
    "start_time": "2024-03-28T18:05:12.270Z"
   },
   {
    "duration": 8,
    "start_time": "2024-03-28T18:05:12.480Z"
   },
   {
    "duration": 4,
    "start_time": "2024-03-28T18:05:12.489Z"
   },
   {
    "duration": 10,
    "start_time": "2024-03-28T18:05:12.495Z"
   },
   {
    "duration": 13,
    "start_time": "2024-03-28T18:05:12.506Z"
   },
   {
    "duration": 18,
    "start_time": "2024-03-28T18:05:12.520Z"
   },
   {
    "duration": 9,
    "start_time": "2024-03-28T18:05:12.539Z"
   },
   {
    "duration": 8,
    "start_time": "2024-03-28T18:05:12.550Z"
   },
   {
    "duration": 8,
    "start_time": "2024-03-28T18:05:12.559Z"
   },
   {
    "duration": 7,
    "start_time": "2024-03-28T18:05:12.568Z"
   },
   {
    "duration": 50,
    "start_time": "2024-03-28T18:05:12.577Z"
   },
   {
    "duration": 6,
    "start_time": "2024-03-28T18:05:12.629Z"
   },
   {
    "duration": 26,
    "start_time": "2024-03-28T18:05:12.638Z"
   },
   {
    "duration": 5,
    "start_time": "2024-03-28T18:05:12.666Z"
   },
   {
    "duration": 9,
    "start_time": "2024-03-28T18:05:12.673Z"
   },
   {
    "duration": 8,
    "start_time": "2024-03-28T18:05:12.684Z"
   },
   {
    "duration": 10,
    "start_time": "2024-03-28T18:05:12.693Z"
   },
   {
    "duration": 16,
    "start_time": "2024-03-28T18:05:12.705Z"
   },
   {
    "duration": 6,
    "start_time": "2024-03-28T18:05:12.727Z"
   },
   {
    "duration": 6,
    "start_time": "2024-03-28T18:05:12.734Z"
   },
   {
    "duration": 13,
    "start_time": "2024-03-28T18:05:12.742Z"
   },
   {
    "duration": 9,
    "start_time": "2024-03-28T18:05:12.757Z"
   },
   {
    "duration": 4,
    "start_time": "2024-03-28T18:05:12.768Z"
   },
   {
    "duration": 4,
    "start_time": "2024-03-28T18:05:12.774Z"
   },
   {
    "duration": 412,
    "start_time": "2024-03-28T18:05:12.780Z"
   },
   {
    "duration": 6,
    "start_time": "2024-03-28T18:05:13.193Z"
   },
   {
    "duration": 28,
    "start_time": "2024-03-28T18:05:13.200Z"
   },
   {
    "duration": 3,
    "start_time": "2024-03-28T18:05:13.230Z"
   },
   {
    "duration": 214,
    "start_time": "2024-03-28T18:05:13.235Z"
   },
   {
    "duration": 6,
    "start_time": "2024-03-28T18:05:13.451Z"
   },
   {
    "duration": 11,
    "start_time": "2024-03-28T18:05:13.458Z"
   },
   {
    "duration": 342,
    "start_time": "2024-03-28T18:05:13.470Z"
   },
   {
    "duration": 17,
    "start_time": "2024-03-28T18:05:13.814Z"
   },
   {
    "duration": 9,
    "start_time": "2024-03-28T18:05:13.832Z"
   },
   {
    "duration": 192,
    "start_time": "2024-03-28T18:05:13.843Z"
   },
   {
    "duration": 8,
    "start_time": "2024-03-28T18:05:14.037Z"
   },
   {
    "duration": 186,
    "start_time": "2024-03-28T18:05:14.046Z"
   },
   {
    "duration": 33,
    "start_time": "2024-03-28T18:05:14.233Z"
   },
   {
    "duration": 8,
    "start_time": "2024-03-28T18:05:14.269Z"
   },
   {
    "duration": 47,
    "start_time": "2024-03-28T18:05:14.281Z"
   },
   {
    "duration": 16,
    "start_time": "2024-03-28T18:05:14.330Z"
   },
   {
    "duration": 30,
    "start_time": "2024-03-28T18:05:14.348Z"
   },
   {
    "duration": 50,
    "start_time": "2024-03-28T18:05:14.379Z"
   },
   {
    "duration": 36,
    "start_time": "2024-03-28T18:05:14.430Z"
   },
   {
    "duration": 185,
    "start_time": "2024-03-28T18:05:14.468Z"
   },
   {
    "duration": 183,
    "start_time": "2024-03-28T18:05:14.654Z"
   },
   {
    "duration": 15,
    "start_time": "2024-03-28T18:05:14.839Z"
   },
   {
    "duration": 38,
    "start_time": "2024-03-28T18:05:14.856Z"
   },
   {
    "duration": 21,
    "start_time": "2024-03-28T18:05:14.896Z"
   },
   {
    "duration": 120,
    "start_time": "2024-03-28T18:05:14.923Z"
   },
   {
    "duration": 184,
    "start_time": "2024-03-28T18:05:15.045Z"
   },
   {
    "duration": 14,
    "start_time": "2024-03-28T18:05:15.231Z"
   },
   {
    "duration": 17,
    "start_time": "2024-03-28T18:05:15.247Z"
   },
   {
    "duration": 32,
    "start_time": "2024-03-28T18:05:15.265Z"
   },
   {
    "duration": 37,
    "start_time": "2024-03-28T18:05:15.299Z"
   },
   {
    "duration": 7,
    "start_time": "2024-03-28T18:07:02.687Z"
   },
   {
    "duration": 1190,
    "start_time": "2024-03-28T18:07:21.259Z"
   },
   {
    "duration": 78,
    "start_time": "2024-03-28T18:07:22.451Z"
   },
   {
    "duration": 9,
    "start_time": "2024-03-28T18:07:22.531Z"
   },
   {
    "duration": 7,
    "start_time": "2024-03-28T18:07:22.542Z"
   },
   {
    "duration": 8,
    "start_time": "2024-03-28T18:07:22.552Z"
   },
   {
    "duration": 14,
    "start_time": "2024-03-28T18:07:22.562Z"
   },
   {
    "duration": 12,
    "start_time": "2024-03-28T18:07:22.577Z"
   },
   {
    "duration": 31,
    "start_time": "2024-03-28T18:07:22.590Z"
   },
   {
    "duration": 11,
    "start_time": "2024-03-28T18:07:22.623Z"
   },
   {
    "duration": 7,
    "start_time": "2024-03-28T18:07:22.636Z"
   },
   {
    "duration": 6,
    "start_time": "2024-03-28T18:07:22.644Z"
   },
   {
    "duration": 12,
    "start_time": "2024-03-28T18:07:22.652Z"
   },
   {
    "duration": 12,
    "start_time": "2024-03-28T18:07:22.666Z"
   },
   {
    "duration": 49,
    "start_time": "2024-03-28T18:07:22.681Z"
   },
   {
    "duration": 5,
    "start_time": "2024-03-28T18:07:22.731Z"
   },
   {
    "duration": 5,
    "start_time": "2024-03-28T18:07:22.738Z"
   },
   {
    "duration": 7,
    "start_time": "2024-03-28T18:07:22.745Z"
   },
   {
    "duration": 5,
    "start_time": "2024-03-28T18:07:22.754Z"
   },
   {
    "duration": 9,
    "start_time": "2024-03-28T18:07:22.760Z"
   },
   {
    "duration": 24,
    "start_time": "2024-03-28T18:07:22.770Z"
   },
   {
    "duration": 24,
    "start_time": "2024-03-28T18:07:22.796Z"
   },
   {
    "duration": 7,
    "start_time": "2024-03-28T18:07:22.821Z"
   },
   {
    "duration": 14,
    "start_time": "2024-03-28T18:07:22.831Z"
   },
   {
    "duration": 5,
    "start_time": "2024-03-28T18:07:22.846Z"
   },
   {
    "duration": 15,
    "start_time": "2024-03-28T18:07:22.852Z"
   },
   {
    "duration": 436,
    "start_time": "2024-03-28T18:07:22.868Z"
   },
   {
    "duration": 18,
    "start_time": "2024-03-28T18:07:23.306Z"
   },
   {
    "duration": 11,
    "start_time": "2024-03-28T18:07:23.328Z"
   },
   {
    "duration": 4,
    "start_time": "2024-03-28T18:07:23.340Z"
   },
   {
    "duration": 220,
    "start_time": "2024-03-28T18:07:23.346Z"
   },
   {
    "duration": 5,
    "start_time": "2024-03-28T18:07:23.568Z"
   },
   {
    "duration": 18,
    "start_time": "2024-03-28T18:07:23.574Z"
   },
   {
    "duration": 327,
    "start_time": "2024-03-28T18:07:23.594Z"
   },
   {
    "duration": 22,
    "start_time": "2024-03-28T18:07:23.924Z"
   },
   {
    "duration": 8,
    "start_time": "2024-03-28T18:07:23.947Z"
   },
   {
    "duration": 199,
    "start_time": "2024-03-28T18:07:23.957Z"
   },
   {
    "duration": 9,
    "start_time": "2024-03-28T18:07:24.158Z"
   },
   {
    "duration": 191,
    "start_time": "2024-03-28T18:07:24.169Z"
   },
   {
    "duration": 33,
    "start_time": "2024-03-28T18:07:24.362Z"
   },
   {
    "duration": 38,
    "start_time": "2024-03-28T18:07:24.396Z"
   },
   {
    "duration": 26,
    "start_time": "2024-03-28T18:07:24.439Z"
   },
   {
    "duration": 17,
    "start_time": "2024-03-28T18:07:24.467Z"
   },
   {
    "duration": 60,
    "start_time": "2024-03-28T18:07:24.487Z"
   },
   {
    "duration": 22,
    "start_time": "2024-03-28T18:07:24.549Z"
   },
   {
    "duration": 58,
    "start_time": "2024-03-28T18:07:24.573Z"
   },
   {
    "duration": 228,
    "start_time": "2024-03-28T18:07:24.634Z"
   },
   {
    "duration": 180,
    "start_time": "2024-03-28T18:07:24.864Z"
   },
   {
    "duration": 15,
    "start_time": "2024-03-28T18:07:25.046Z"
   },
   {
    "duration": 34,
    "start_time": "2024-03-28T18:07:25.063Z"
   },
   {
    "duration": 15,
    "start_time": "2024-03-28T18:07:25.114Z"
   },
   {
    "duration": 105,
    "start_time": "2024-03-28T18:07:25.134Z"
   },
   {
    "duration": 184,
    "start_time": "2024-03-28T18:07:25.240Z"
   },
   {
    "duration": 17,
    "start_time": "2024-03-28T18:07:25.425Z"
   },
   {
    "duration": 7,
    "start_time": "2024-03-28T18:07:25.444Z"
   },
   {
    "duration": 7,
    "start_time": "2024-03-28T18:07:25.452Z"
   },
   {
    "duration": 9,
    "start_time": "2024-03-28T18:07:25.460Z"
   },
   {
    "duration": 15,
    "start_time": "2024-03-28T18:07:25.471Z"
   },
   {
    "duration": 24,
    "start_time": "2024-03-28T18:11:22.848Z"
   },
   {
    "duration": 12,
    "start_time": "2024-03-28T18:11:39.763Z"
   },
   {
    "duration": 9,
    "start_time": "2024-03-28T18:11:45.256Z"
   },
   {
    "duration": 20,
    "start_time": "2024-03-28T18:12:55.424Z"
   },
   {
    "duration": 47,
    "start_time": "2024-03-29T03:42:57.210Z"
   },
   {
    "duration": 1349,
    "start_time": "2024-03-29T03:43:49.226Z"
   },
   {
    "duration": 202,
    "start_time": "2024-03-29T03:43:50.577Z"
   },
   {
    "duration": 9,
    "start_time": "2024-03-29T03:43:50.781Z"
   },
   {
    "duration": 35,
    "start_time": "2024-03-29T03:43:50.793Z"
   },
   {
    "duration": 32,
    "start_time": "2024-03-29T03:43:50.830Z"
   },
   {
    "duration": 33,
    "start_time": "2024-03-29T03:43:50.865Z"
   },
   {
    "duration": 40,
    "start_time": "2024-03-29T03:43:50.900Z"
   },
   {
    "duration": 16,
    "start_time": "2024-03-29T03:43:50.942Z"
   },
   {
    "duration": 11,
    "start_time": "2024-03-29T03:43:50.960Z"
   },
   {
    "duration": 9,
    "start_time": "2024-03-29T03:43:50.975Z"
   },
   {
    "duration": 31,
    "start_time": "2024-03-29T03:43:50.986Z"
   },
   {
    "duration": 44,
    "start_time": "2024-03-29T03:43:51.019Z"
   },
   {
    "duration": 6,
    "start_time": "2024-03-29T03:43:51.065Z"
   },
   {
    "duration": 21,
    "start_time": "2024-03-29T03:43:51.072Z"
   },
   {
    "duration": 4,
    "start_time": "2024-03-29T03:43:51.095Z"
   },
   {
    "duration": 20,
    "start_time": "2024-03-29T03:43:51.101Z"
   },
   {
    "duration": 16,
    "start_time": "2024-03-29T03:43:51.123Z"
   },
   {
    "duration": 15,
    "start_time": "2024-03-29T03:43:51.140Z"
   },
   {
    "duration": 19,
    "start_time": "2024-03-29T03:43:51.156Z"
   },
   {
    "duration": 29,
    "start_time": "2024-03-29T03:43:51.177Z"
   },
   {
    "duration": 19,
    "start_time": "2024-03-29T03:43:51.208Z"
   },
   {
    "duration": 17,
    "start_time": "2024-03-29T03:43:51.228Z"
   },
   {
    "duration": 25,
    "start_time": "2024-03-29T03:43:51.246Z"
   },
   {
    "duration": 12,
    "start_time": "2024-03-29T03:43:51.272Z"
   },
   {
    "duration": 27,
    "start_time": "2024-03-29T03:43:51.286Z"
   },
   {
    "duration": 400,
    "start_time": "2024-03-29T03:43:51.315Z"
   },
   {
    "duration": 5,
    "start_time": "2024-03-29T03:43:51.717Z"
   },
   {
    "duration": 17,
    "start_time": "2024-03-29T03:43:51.726Z"
   },
   {
    "duration": 6,
    "start_time": "2024-03-29T03:43:51.745Z"
   },
   {
    "duration": 242,
    "start_time": "2024-03-29T03:43:51.752Z"
   },
   {
    "duration": 6,
    "start_time": "2024-03-29T03:43:51.996Z"
   },
   {
    "duration": 40,
    "start_time": "2024-03-29T03:43:52.004Z"
   },
   {
    "duration": 292,
    "start_time": "2024-03-29T03:43:52.046Z"
   },
   {
    "duration": 8,
    "start_time": "2024-03-29T03:43:52.340Z"
   },
   {
    "duration": 15,
    "start_time": "2024-03-29T03:43:52.349Z"
   },
   {
    "duration": 216,
    "start_time": "2024-03-29T03:43:52.366Z"
   },
   {
    "duration": 8,
    "start_time": "2024-03-29T03:43:52.584Z"
   },
   {
    "duration": 161,
    "start_time": "2024-03-29T03:43:52.593Z"
   },
   {
    "duration": 45,
    "start_time": "2024-03-29T03:43:52.756Z"
   },
   {
    "duration": 8,
    "start_time": "2024-03-29T03:43:52.803Z"
   },
   {
    "duration": 38,
    "start_time": "2024-03-29T03:43:52.812Z"
   },
   {
    "duration": 43,
    "start_time": "2024-03-29T03:43:52.851Z"
   },
   {
    "duration": 52,
    "start_time": "2024-03-29T03:43:52.895Z"
   },
   {
    "duration": 19,
    "start_time": "2024-03-29T03:43:52.948Z"
   },
   {
    "duration": 37,
    "start_time": "2024-03-29T03:43:52.968Z"
   },
   {
    "duration": 193,
    "start_time": "2024-03-29T03:43:53.007Z"
   },
   {
    "duration": 227,
    "start_time": "2024-03-29T03:43:53.203Z"
   },
   {
    "duration": 4,
    "start_time": "2024-03-29T03:43:53.432Z"
   },
   {
    "duration": 50,
    "start_time": "2024-03-29T03:43:53.437Z"
   },
   {
    "duration": 4,
    "start_time": "2024-03-29T03:43:53.488Z"
   },
   {
    "duration": 35,
    "start_time": "2024-03-29T03:43:53.494Z"
   },
   {
    "duration": 176,
    "start_time": "2024-03-29T03:43:53.531Z"
   },
   {
    "duration": 15,
    "start_time": "2024-03-29T03:43:53.709Z"
   },
   {
    "duration": 41,
    "start_time": "2024-03-29T03:43:53.725Z"
   },
   {
    "duration": 27,
    "start_time": "2024-03-29T03:43:53.768Z"
   },
   {
    "duration": 18,
    "start_time": "2024-03-29T03:43:53.796Z"
   },
   {
    "duration": 17,
    "start_time": "2024-03-29T04:32:23.307Z"
   },
   {
    "duration": 15,
    "start_time": "2024-03-29T04:32:28.230Z"
   },
   {
    "duration": 3,
    "start_time": "2024-03-29T04:32:31.001Z"
   },
   {
    "duration": 143,
    "start_time": "2024-03-29T04:32:31.008Z"
   },
   {
    "duration": 8,
    "start_time": "2024-03-29T04:32:31.153Z"
   },
   {
    "duration": 44,
    "start_time": "2024-03-29T04:32:31.163Z"
   },
   {
    "duration": 66,
    "start_time": "2024-03-29T04:32:31.209Z"
   },
   {
    "duration": 35,
    "start_time": "2024-03-29T04:32:31.277Z"
   },
   {
    "duration": 78,
    "start_time": "2024-03-29T04:32:31.314Z"
   },
   {
    "duration": 32,
    "start_time": "2024-03-29T04:32:31.394Z"
   },
   {
    "duration": 40,
    "start_time": "2024-03-29T04:32:31.428Z"
   },
   {
    "duration": 16,
    "start_time": "2024-03-29T04:32:31.470Z"
   },
   {
    "duration": 26,
    "start_time": "2024-03-29T04:32:31.489Z"
   },
   {
    "duration": 51,
    "start_time": "2024-03-29T04:32:31.517Z"
   },
   {
    "duration": 58,
    "start_time": "2024-03-29T04:32:31.569Z"
   },
   {
    "duration": 75,
    "start_time": "2024-03-29T04:32:31.629Z"
   },
   {
    "duration": 20,
    "start_time": "2024-03-29T04:32:31.706Z"
   },
   {
    "duration": 25,
    "start_time": "2024-03-29T04:32:31.728Z"
   },
   {
    "duration": 13,
    "start_time": "2024-03-29T04:32:31.754Z"
   },
   {
    "duration": 10,
    "start_time": "2024-03-29T04:32:31.769Z"
   },
   {
    "duration": 26,
    "start_time": "2024-03-29T04:32:31.780Z"
   },
   {
    "duration": 15,
    "start_time": "2024-03-29T04:32:31.807Z"
   },
   {
    "duration": 43,
    "start_time": "2024-03-29T04:32:31.823Z"
   },
   {
    "duration": 20,
    "start_time": "2024-03-29T04:32:31.867Z"
   },
   {
    "duration": 8,
    "start_time": "2024-03-29T04:32:31.888Z"
   },
   {
    "duration": 13,
    "start_time": "2024-03-29T04:32:31.897Z"
   },
   {
    "duration": 6,
    "start_time": "2024-03-29T04:32:31.912Z"
   },
   {
    "duration": 336,
    "start_time": "2024-03-29T04:32:31.919Z"
   },
   {
    "duration": 5,
    "start_time": "2024-03-29T04:32:32.256Z"
   },
   {
    "duration": 20,
    "start_time": "2024-03-29T04:32:32.263Z"
   },
   {
    "duration": 4,
    "start_time": "2024-03-29T04:32:32.286Z"
   },
   {
    "duration": 195,
    "start_time": "2024-03-29T04:32:32.291Z"
   },
   {
    "duration": 5,
    "start_time": "2024-03-29T04:32:32.487Z"
   },
   {
    "duration": 6,
    "start_time": "2024-03-29T04:32:32.493Z"
   },
   {
    "duration": 312,
    "start_time": "2024-03-29T04:32:32.500Z"
   },
   {
    "duration": 8,
    "start_time": "2024-03-29T04:32:32.813Z"
   },
   {
    "duration": 10,
    "start_time": "2024-03-29T04:32:32.823Z"
   },
   {
    "duration": 182,
    "start_time": "2024-03-29T04:32:32.834Z"
   },
   {
    "duration": 8,
    "start_time": "2024-03-29T04:32:33.018Z"
   },
   {
    "duration": 175,
    "start_time": "2024-03-29T04:32:33.027Z"
   },
   {
    "duration": 27,
    "start_time": "2024-03-29T04:32:33.204Z"
   },
   {
    "duration": 8,
    "start_time": "2024-03-29T04:32:33.232Z"
   },
   {
    "duration": 41,
    "start_time": "2024-03-29T04:32:33.241Z"
   },
   {
    "duration": 15,
    "start_time": "2024-03-29T04:32:33.284Z"
   },
   {
    "duration": 29,
    "start_time": "2024-03-29T04:32:33.300Z"
   },
   {
    "duration": 18,
    "start_time": "2024-03-29T04:32:33.331Z"
   },
   {
    "duration": 53,
    "start_time": "2024-03-29T04:32:33.350Z"
   },
   {
    "duration": 178,
    "start_time": "2024-03-29T04:32:33.404Z"
   },
   {
    "duration": 160,
    "start_time": "2024-03-29T04:32:33.583Z"
   },
   {
    "duration": 4,
    "start_time": "2024-03-29T04:32:33.745Z"
   },
   {
    "duration": 49,
    "start_time": "2024-03-29T04:32:33.751Z"
   },
   {
    "duration": 4,
    "start_time": "2024-03-29T04:32:33.801Z"
   },
   {
    "duration": 20,
    "start_time": "2024-03-29T04:32:33.806Z"
   },
   {
    "duration": 899,
    "start_time": "2024-03-29T04:32:33.827Z"
   },
   {
    "duration": 0,
    "start_time": "2024-03-29T04:32:34.728Z"
   },
   {
    "duration": 0,
    "start_time": "2024-03-29T04:32:34.729Z"
   },
   {
    "duration": 0,
    "start_time": "2024-03-29T04:32:34.731Z"
   },
   {
    "duration": 0,
    "start_time": "2024-03-29T04:32:34.732Z"
   },
   {
    "duration": 24,
    "start_time": "2024-03-29T04:32:53.713Z"
   },
   {
    "duration": 886,
    "start_time": "2024-03-29T04:33:26.494Z"
   },
   {
    "duration": 60,
    "start_time": "2024-03-29T04:34:35.657Z"
   },
   {
    "duration": 16,
    "start_time": "2024-03-29T04:35:42.217Z"
   },
   {
    "duration": 5,
    "start_time": "2024-03-29T04:36:37.951Z"
   },
   {
    "duration": 23,
    "start_time": "2024-03-29T04:36:52.373Z"
   },
   {
    "duration": 21,
    "start_time": "2024-03-29T04:38:18.775Z"
   },
   {
    "duration": 10,
    "start_time": "2024-03-29T04:39:11.297Z"
   },
   {
    "duration": 22,
    "start_time": "2024-03-29T04:39:30.213Z"
   },
   {
    "duration": 26,
    "start_time": "2024-03-29T04:40:45.480Z"
   },
   {
    "duration": 813,
    "start_time": "2024-03-29T04:45:59.574Z"
   },
   {
    "duration": 4,
    "start_time": "2024-03-29T04:49:38.656Z"
   },
   {
    "duration": 25,
    "start_time": "2024-03-29T04:49:54.145Z"
   },
   {
    "duration": 8,
    "start_time": "2024-03-29T04:50:14.705Z"
   },
   {
    "duration": 9,
    "start_time": "2024-03-29T04:50:29.581Z"
   },
   {
    "duration": 9,
    "start_time": "2024-03-29T04:50:33.271Z"
   },
   {
    "duration": 9,
    "start_time": "2024-03-29T04:50:49.752Z"
   },
   {
    "duration": 23,
    "start_time": "2024-03-29T04:51:01.898Z"
   },
   {
    "duration": 2,
    "start_time": "2024-03-29T04:51:04.733Z"
   },
   {
    "duration": 65,
    "start_time": "2024-03-29T04:51:04.744Z"
   },
   {
    "duration": 5,
    "start_time": "2024-03-29T04:51:04.811Z"
   },
   {
    "duration": 5,
    "start_time": "2024-03-29T04:51:04.818Z"
   },
   {
    "duration": 14,
    "start_time": "2024-03-29T04:51:04.825Z"
   },
   {
    "duration": 7,
    "start_time": "2024-03-29T04:51:04.841Z"
   },
   {
    "duration": 11,
    "start_time": "2024-03-29T04:51:04.850Z"
   },
   {
    "duration": 25,
    "start_time": "2024-03-29T04:51:04.862Z"
   },
   {
    "duration": 8,
    "start_time": "2024-03-29T04:51:04.888Z"
   },
   {
    "duration": 7,
    "start_time": "2024-03-29T04:51:04.899Z"
   },
   {
    "duration": 6,
    "start_time": "2024-03-29T04:51:04.908Z"
   },
   {
    "duration": 9,
    "start_time": "2024-03-29T04:51:04.916Z"
   },
   {
    "duration": 6,
    "start_time": "2024-03-29T04:51:04.927Z"
   },
   {
    "duration": 52,
    "start_time": "2024-03-29T04:51:04.934Z"
   },
   {
    "duration": 4,
    "start_time": "2024-03-29T04:51:04.987Z"
   },
   {
    "duration": 9,
    "start_time": "2024-03-29T04:51:04.993Z"
   },
   {
    "duration": 6,
    "start_time": "2024-03-29T04:51:05.005Z"
   },
   {
    "duration": 6,
    "start_time": "2024-03-29T04:51:05.012Z"
   },
   {
    "duration": 12,
    "start_time": "2024-03-29T04:51:05.020Z"
   },
   {
    "duration": 10,
    "start_time": "2024-03-29T04:51:05.033Z"
   },
   {
    "duration": 6,
    "start_time": "2024-03-29T04:51:05.044Z"
   },
   {
    "duration": 34,
    "start_time": "2024-03-29T04:51:05.051Z"
   },
   {
    "duration": 7,
    "start_time": "2024-03-29T04:51:05.087Z"
   },
   {
    "duration": 4,
    "start_time": "2024-03-29T04:51:05.096Z"
   },
   {
    "duration": 7,
    "start_time": "2024-03-29T04:51:05.101Z"
   },
   {
    "duration": 373,
    "start_time": "2024-03-29T04:51:05.111Z"
   },
   {
    "duration": 6,
    "start_time": "2024-03-29T04:51:05.485Z"
   },
   {
    "duration": 8,
    "start_time": "2024-03-29T04:51:05.492Z"
   },
   {
    "duration": 7,
    "start_time": "2024-03-29T04:51:05.501Z"
   },
   {
    "duration": 208,
    "start_time": "2024-03-29T04:51:05.509Z"
   },
   {
    "duration": 5,
    "start_time": "2024-03-29T04:51:05.718Z"
   },
   {
    "duration": 17,
    "start_time": "2024-03-29T04:51:05.724Z"
   },
   {
    "duration": 334,
    "start_time": "2024-03-29T04:51:05.742Z"
   },
   {
    "duration": 8,
    "start_time": "2024-03-29T04:51:06.081Z"
   },
   {
    "duration": 14,
    "start_time": "2024-03-29T04:51:06.090Z"
   },
   {
    "duration": 182,
    "start_time": "2024-03-29T04:51:06.106Z"
   },
   {
    "duration": 9,
    "start_time": "2024-03-29T04:51:06.290Z"
   },
   {
    "duration": 162,
    "start_time": "2024-03-29T04:51:06.301Z"
   },
   {
    "duration": 36,
    "start_time": "2024-03-29T04:51:06.464Z"
   },
   {
    "duration": 8,
    "start_time": "2024-03-29T04:51:06.501Z"
   },
   {
    "duration": 23,
    "start_time": "2024-03-29T04:51:06.510Z"
   },
   {
    "duration": 14,
    "start_time": "2024-03-29T04:51:06.535Z"
   },
   {
    "duration": 52,
    "start_time": "2024-03-29T04:51:06.550Z"
   },
   {
    "duration": 18,
    "start_time": "2024-03-29T04:51:06.604Z"
   },
   {
    "duration": 30,
    "start_time": "2024-03-29T04:51:06.624Z"
   },
   {
    "duration": 186,
    "start_time": "2024-03-29T04:51:06.656Z"
   },
   {
    "duration": 160,
    "start_time": "2024-03-29T04:51:06.843Z"
   },
   {
    "duration": 14,
    "start_time": "2024-03-29T04:51:07.004Z"
   },
   {
    "duration": 28,
    "start_time": "2024-03-29T04:51:07.020Z"
   },
   {
    "duration": 45,
    "start_time": "2024-03-29T04:51:07.050Z"
   },
   {
    "duration": 4,
    "start_time": "2024-03-29T04:51:07.096Z"
   },
   {
    "duration": 31,
    "start_time": "2024-03-29T04:51:07.102Z"
   },
   {
    "duration": 1163,
    "start_time": "2024-03-29T04:51:07.135Z"
   },
   {
    "duration": 0,
    "start_time": "2024-03-29T04:51:08.300Z"
   },
   {
    "duration": 0,
    "start_time": "2024-03-29T04:51:08.301Z"
   },
   {
    "duration": 0,
    "start_time": "2024-03-29T04:51:08.302Z"
   },
   {
    "duration": 0,
    "start_time": "2024-03-29T04:51:08.303Z"
   },
   {
    "duration": 24,
    "start_time": "2024-03-29T04:51:36.411Z"
   },
   {
    "duration": 22,
    "start_time": "2024-03-29T04:52:51.531Z"
   },
   {
    "duration": 27,
    "start_time": "2024-03-29T04:54:04.563Z"
   },
   {
    "duration": 8,
    "start_time": "2024-03-29T04:55:03.468Z"
   },
   {
    "duration": 7,
    "start_time": "2024-03-29T05:36:46.088Z"
   },
   {
    "duration": 5,
    "start_time": "2024-03-29T05:40:54.298Z"
   },
   {
    "duration": 6,
    "start_time": "2024-03-29T06:02:52.053Z"
   },
   {
    "duration": 5,
    "start_time": "2024-03-29T06:03:02.326Z"
   },
   {
    "duration": 5,
    "start_time": "2024-03-29T06:03:19.667Z"
   },
   {
    "duration": 81,
    "start_time": "2024-03-29T06:03:19.674Z"
   },
   {
    "duration": 6,
    "start_time": "2024-03-29T06:03:19.757Z"
   },
   {
    "duration": 5,
    "start_time": "2024-03-29T06:03:19.764Z"
   },
   {
    "duration": 7,
    "start_time": "2024-03-29T06:03:19.770Z"
   },
   {
    "duration": 8,
    "start_time": "2024-03-29T06:03:19.779Z"
   },
   {
    "duration": 22,
    "start_time": "2024-03-29T06:03:19.789Z"
   },
   {
    "duration": 10,
    "start_time": "2024-03-29T06:03:19.813Z"
   },
   {
    "duration": 17,
    "start_time": "2024-03-29T06:03:19.825Z"
   },
   {
    "duration": 9,
    "start_time": "2024-03-29T06:03:19.844Z"
   },
   {
    "duration": 32,
    "start_time": "2024-03-29T06:03:19.856Z"
   },
   {
    "duration": 10,
    "start_time": "2024-03-29T06:03:19.890Z"
   },
   {
    "duration": 10,
    "start_time": "2024-03-29T06:03:19.902Z"
   },
   {
    "duration": 15,
    "start_time": "2024-03-29T06:03:19.913Z"
   },
   {
    "duration": 4,
    "start_time": "2024-03-29T06:03:19.930Z"
   },
   {
    "duration": 46,
    "start_time": "2024-03-29T06:03:19.936Z"
   },
   {
    "duration": 6,
    "start_time": "2024-03-29T06:03:19.984Z"
   },
   {
    "duration": 6,
    "start_time": "2024-03-29T06:03:19.992Z"
   },
   {
    "duration": 21,
    "start_time": "2024-03-29T06:03:20.000Z"
   },
   {
    "duration": 10,
    "start_time": "2024-03-29T06:03:20.023Z"
   },
   {
    "duration": 5,
    "start_time": "2024-03-29T06:03:20.034Z"
   },
   {
    "duration": 8,
    "start_time": "2024-03-29T06:03:20.040Z"
   },
   {
    "duration": 41,
    "start_time": "2024-03-29T06:03:20.049Z"
   },
   {
    "duration": 7,
    "start_time": "2024-03-29T06:03:20.091Z"
   },
   {
    "duration": 5,
    "start_time": "2024-03-29T06:03:20.100Z"
   },
   {
    "duration": 361,
    "start_time": "2024-03-29T06:03:20.106Z"
   },
   {
    "duration": 5,
    "start_time": "2024-03-29T06:03:20.468Z"
   },
   {
    "duration": 7,
    "start_time": "2024-03-29T06:03:20.482Z"
   },
   {
    "duration": 4,
    "start_time": "2024-03-29T06:03:20.492Z"
   },
   {
    "duration": 216,
    "start_time": "2024-03-29T06:03:20.497Z"
   },
   {
    "duration": 5,
    "start_time": "2024-03-29T06:03:20.714Z"
   },
   {
    "duration": 7,
    "start_time": "2024-03-29T06:03:20.720Z"
   },
   {
    "duration": 311,
    "start_time": "2024-03-29T06:03:20.728Z"
   },
   {
    "duration": 8,
    "start_time": "2024-03-29T06:03:21.041Z"
   },
   {
    "duration": 17,
    "start_time": "2024-03-29T06:03:21.051Z"
   },
   {
    "duration": 196,
    "start_time": "2024-03-29T06:03:21.069Z"
   },
   {
    "duration": 19,
    "start_time": "2024-03-29T06:03:21.267Z"
   },
   {
    "duration": 164,
    "start_time": "2024-03-29T06:03:21.288Z"
   },
   {
    "duration": 39,
    "start_time": "2024-03-29T06:03:21.454Z"
   },
   {
    "duration": 8,
    "start_time": "2024-03-29T06:03:21.495Z"
   },
   {
    "duration": 19,
    "start_time": "2024-03-29T06:03:21.504Z"
   },
   {
    "duration": 14,
    "start_time": "2024-03-29T06:03:21.524Z"
   },
   {
    "duration": 65,
    "start_time": "2024-03-29T06:03:21.540Z"
   },
   {
    "duration": 19,
    "start_time": "2024-03-29T06:03:21.607Z"
   },
   {
    "duration": 30,
    "start_time": "2024-03-29T06:03:21.627Z"
   },
   {
    "duration": 198,
    "start_time": "2024-03-29T06:03:21.659Z"
   },
   {
    "duration": 170,
    "start_time": "2024-03-29T06:03:21.858Z"
   },
   {
    "duration": 14,
    "start_time": "2024-03-29T06:03:22.029Z"
   },
   {
    "duration": 48,
    "start_time": "2024-03-29T06:03:22.044Z"
   },
   {
    "duration": 5,
    "start_time": "2024-03-29T06:03:22.094Z"
   },
   {
    "duration": 38,
    "start_time": "2024-03-29T06:03:22.101Z"
   },
   {
    "duration": 22,
    "start_time": "2024-03-29T06:03:22.140Z"
   },
   {
    "duration": 43,
    "start_time": "2024-03-29T06:03:22.163Z"
   },
   {
    "duration": 5,
    "start_time": "2024-03-29T06:03:22.208Z"
   },
   {
    "duration": 6,
    "start_time": "2024-03-29T06:03:22.216Z"
   },
   {
    "duration": 17,
    "start_time": "2024-03-29T06:03:22.224Z"
   },
   {
    "duration": 3,
    "start_time": "2024-03-29T06:13:40.843Z"
   },
   {
    "duration": 68,
    "start_time": "2024-03-29T06:13:40.850Z"
   },
   {
    "duration": 5,
    "start_time": "2024-03-29T06:13:40.920Z"
   },
   {
    "duration": 3,
    "start_time": "2024-03-29T06:13:40.927Z"
   },
   {
    "duration": 8,
    "start_time": "2024-03-29T06:13:40.931Z"
   },
   {
    "duration": 7,
    "start_time": "2024-03-29T06:13:40.940Z"
   },
   {
    "duration": 13,
    "start_time": "2024-03-29T06:13:40.948Z"
   },
   {
    "duration": 20,
    "start_time": "2024-03-29T06:13:40.962Z"
   },
   {
    "duration": 8,
    "start_time": "2024-03-29T06:13:40.984Z"
   },
   {
    "duration": 8,
    "start_time": "2024-03-29T06:13:40.994Z"
   },
   {
    "duration": 6,
    "start_time": "2024-03-29T06:13:41.004Z"
   },
   {
    "duration": 15,
    "start_time": "2024-03-29T06:13:41.012Z"
   },
   {
    "duration": 7,
    "start_time": "2024-03-29T06:13:41.029Z"
   },
   {
    "duration": 46,
    "start_time": "2024-03-29T06:13:41.037Z"
   },
   {
    "duration": 5,
    "start_time": "2024-03-29T06:13:41.084Z"
   },
   {
    "duration": 5,
    "start_time": "2024-03-29T06:13:41.092Z"
   },
   {
    "duration": 7,
    "start_time": "2024-03-29T06:13:41.098Z"
   },
   {
    "duration": 5,
    "start_time": "2024-03-29T06:13:41.107Z"
   },
   {
    "duration": 6,
    "start_time": "2024-03-29T06:13:41.113Z"
   },
   {
    "duration": 5,
    "start_time": "2024-03-29T06:13:41.120Z"
   },
   {
    "duration": 4,
    "start_time": "2024-03-29T06:13:41.126Z"
   },
   {
    "duration": 51,
    "start_time": "2024-03-29T06:13:41.132Z"
   },
   {
    "duration": 8,
    "start_time": "2024-03-29T06:13:41.184Z"
   },
   {
    "duration": 9,
    "start_time": "2024-03-29T06:13:41.193Z"
   },
   {
    "duration": 4,
    "start_time": "2024-03-29T06:13:41.204Z"
   },
   {
    "duration": 368,
    "start_time": "2024-03-29T06:13:41.209Z"
   },
   {
    "duration": 7,
    "start_time": "2024-03-29T06:13:41.579Z"
   },
   {
    "duration": 8,
    "start_time": "2024-03-29T06:13:41.588Z"
   },
   {
    "duration": 3,
    "start_time": "2024-03-29T06:13:41.598Z"
   },
   {
    "duration": 314,
    "start_time": "2024-03-29T06:13:41.603Z"
   },
   {
    "duration": 5,
    "start_time": "2024-03-29T06:13:41.919Z"
   },
   {
    "duration": 5,
    "start_time": "2024-03-29T06:13:41.925Z"
   },
   {
    "duration": 294,
    "start_time": "2024-03-29T06:13:41.931Z"
   },
   {
    "duration": 7,
    "start_time": "2024-03-29T06:13:42.228Z"
   },
   {
    "duration": 12,
    "start_time": "2024-03-29T06:13:42.237Z"
   },
   {
    "duration": 174,
    "start_time": "2024-03-29T06:13:42.251Z"
   },
   {
    "duration": 9,
    "start_time": "2024-03-29T06:13:42.427Z"
   },
   {
    "duration": 195,
    "start_time": "2024-03-29T06:13:42.438Z"
   },
   {
    "duration": 29,
    "start_time": "2024-03-29T06:13:42.635Z"
   },
   {
    "duration": 22,
    "start_time": "2024-03-29T06:13:42.665Z"
   },
   {
    "duration": 35,
    "start_time": "2024-03-29T06:13:42.689Z"
   },
   {
    "duration": 22,
    "start_time": "2024-03-29T06:13:42.726Z"
   },
   {
    "duration": 60,
    "start_time": "2024-03-29T06:13:42.750Z"
   },
   {
    "duration": 25,
    "start_time": "2024-03-29T06:13:42.811Z"
   },
   {
    "duration": 50,
    "start_time": "2024-03-29T06:13:42.838Z"
   },
   {
    "duration": 172,
    "start_time": "2024-03-29T06:13:42.889Z"
   },
   {
    "duration": 170,
    "start_time": "2024-03-29T06:13:43.063Z"
   },
   {
    "duration": 14,
    "start_time": "2024-03-29T06:13:43.235Z"
   },
   {
    "duration": 39,
    "start_time": "2024-03-29T06:13:43.250Z"
   },
   {
    "duration": 3,
    "start_time": "2024-03-29T06:13:43.291Z"
   },
   {
    "duration": 23,
    "start_time": "2024-03-29T06:13:43.296Z"
   },
   {
    "duration": 21,
    "start_time": "2024-03-29T06:13:43.321Z"
   },
   {
    "duration": 50,
    "start_time": "2024-03-29T06:13:43.344Z"
   },
   {
    "duration": 5,
    "start_time": "2024-03-29T06:13:43.395Z"
   },
   {
    "duration": 5,
    "start_time": "2024-03-29T06:13:43.402Z"
   },
   {
    "duration": 11,
    "start_time": "2024-03-29T06:13:43.409Z"
   },
   {
    "duration": 6,
    "start_time": "2024-03-29T06:14:31.863Z"
   },
   {
    "duration": 6,
    "start_time": "2024-03-29T06:16:23.502Z"
   },
   {
    "duration": 5,
    "start_time": "2024-03-29T06:20:45.032Z"
   },
   {
    "duration": 7,
    "start_time": "2024-03-29T06:21:14.009Z"
   },
   {
    "duration": 8,
    "start_time": "2024-03-29T06:25:40.883Z"
   },
   {
    "duration": 66,
    "start_time": "2024-03-29T06:27:13.790Z"
   },
   {
    "duration": 6,
    "start_time": "2024-03-29T06:27:52.745Z"
   },
   {
    "duration": 6,
    "start_time": "2024-03-29T06:31:27.890Z"
   },
   {
    "duration": 6,
    "start_time": "2024-03-29T06:34:29.132Z"
   },
   {
    "duration": 3,
    "start_time": "2024-03-29T06:36:13.196Z"
   },
   {
    "duration": 72,
    "start_time": "2024-03-29T06:36:13.203Z"
   },
   {
    "duration": 5,
    "start_time": "2024-03-29T06:36:13.277Z"
   },
   {
    "duration": 5,
    "start_time": "2024-03-29T06:36:13.284Z"
   },
   {
    "duration": 8,
    "start_time": "2024-03-29T06:36:13.291Z"
   },
   {
    "duration": 11,
    "start_time": "2024-03-29T06:36:13.301Z"
   },
   {
    "duration": 17,
    "start_time": "2024-03-29T06:36:13.314Z"
   },
   {
    "duration": 12,
    "start_time": "2024-03-29T06:36:13.333Z"
   },
   {
    "duration": 11,
    "start_time": "2024-03-29T06:36:13.382Z"
   },
   {
    "duration": 10,
    "start_time": "2024-03-29T06:36:13.395Z"
   },
   {
    "duration": 7,
    "start_time": "2024-03-29T06:36:13.408Z"
   },
   {
    "duration": 18,
    "start_time": "2024-03-29T06:36:13.417Z"
   },
   {
    "duration": 6,
    "start_time": "2024-03-29T06:36:13.437Z"
   },
   {
    "duration": 46,
    "start_time": "2024-03-29T06:36:13.446Z"
   },
   {
    "duration": 5,
    "start_time": "2024-03-29T06:36:13.493Z"
   },
   {
    "duration": 9,
    "start_time": "2024-03-29T06:36:13.499Z"
   },
   {
    "duration": 6,
    "start_time": "2024-03-29T06:36:13.509Z"
   },
   {
    "duration": 6,
    "start_time": "2024-03-29T06:36:13.516Z"
   },
   {
    "duration": 5,
    "start_time": "2024-03-29T06:36:13.523Z"
   },
   {
    "duration": 5,
    "start_time": "2024-03-29T06:36:13.530Z"
   },
   {
    "duration": 46,
    "start_time": "2024-03-29T06:36:13.536Z"
   },
   {
    "duration": 7,
    "start_time": "2024-03-29T06:36:13.585Z"
   },
   {
    "duration": 10,
    "start_time": "2024-03-29T06:36:13.593Z"
   },
   {
    "duration": 12,
    "start_time": "2024-03-29T06:36:13.604Z"
   },
   {
    "duration": 4,
    "start_time": "2024-03-29T06:36:13.617Z"
   },
   {
    "duration": 412,
    "start_time": "2024-03-29T06:36:13.623Z"
   },
   {
    "duration": 5,
    "start_time": "2024-03-29T06:36:14.037Z"
   },
   {
    "duration": 10,
    "start_time": "2024-03-29T06:36:14.043Z"
   },
   {
    "duration": 4,
    "start_time": "2024-03-29T06:36:14.055Z"
   },
   {
    "duration": 216,
    "start_time": "2024-03-29T06:36:14.060Z"
   },
   {
    "duration": 5,
    "start_time": "2024-03-29T06:36:14.282Z"
   },
   {
    "duration": 5,
    "start_time": "2024-03-29T06:36:14.288Z"
   },
   {
    "duration": 307,
    "start_time": "2024-03-29T06:36:14.294Z"
   },
   {
    "duration": 8,
    "start_time": "2024-03-29T06:36:14.602Z"
   },
   {
    "duration": 9,
    "start_time": "2024-03-29T06:36:14.611Z"
   },
   {
    "duration": 183,
    "start_time": "2024-03-29T06:36:14.621Z"
   },
   {
    "duration": 8,
    "start_time": "2024-03-29T06:36:14.807Z"
   },
   {
    "duration": 265,
    "start_time": "2024-03-29T06:36:14.817Z"
   },
   {
    "duration": 29,
    "start_time": "2024-03-29T06:36:15.083Z"
   },
   {
    "duration": 9,
    "start_time": "2024-03-29T06:36:15.113Z"
   },
   {
    "duration": 57,
    "start_time": "2024-03-29T06:36:15.124Z"
   },
   {
    "duration": 21,
    "start_time": "2024-03-29T06:36:15.183Z"
   },
   {
    "duration": 48,
    "start_time": "2024-03-29T06:36:15.206Z"
   },
   {
    "duration": 26,
    "start_time": "2024-03-29T06:36:15.256Z"
   },
   {
    "duration": 31,
    "start_time": "2024-03-29T06:36:15.283Z"
   },
   {
    "duration": 188,
    "start_time": "2024-03-29T06:36:15.317Z"
   },
   {
    "duration": 156,
    "start_time": "2024-03-29T06:36:15.507Z"
   },
   {
    "duration": 22,
    "start_time": "2024-03-29T06:36:15.664Z"
   },
   {
    "duration": 39,
    "start_time": "2024-03-29T06:36:15.687Z"
   },
   {
    "duration": 3,
    "start_time": "2024-03-29T06:36:15.728Z"
   },
   {
    "duration": 31,
    "start_time": "2024-03-29T06:36:15.732Z"
   },
   {
    "duration": 33,
    "start_time": "2024-03-29T06:36:15.764Z"
   },
   {
    "duration": 28,
    "start_time": "2024-03-29T06:36:15.798Z"
   },
   {
    "duration": 6,
    "start_time": "2024-03-29T06:36:15.827Z"
   },
   {
    "duration": 28,
    "start_time": "2024-03-29T06:36:15.835Z"
   },
   {
    "duration": 35,
    "start_time": "2024-03-29T06:36:15.865Z"
   },
   {
    "duration": 5,
    "start_time": "2024-03-29T06:37:15.013Z"
   },
   {
    "duration": 6,
    "start_time": "2024-03-29T06:37:59.205Z"
   },
   {
    "duration": 5,
    "start_time": "2024-03-29T06:38:37.636Z"
   },
   {
    "duration": 3,
    "start_time": "2024-03-29T06:51:45.618Z"
   },
   {
    "duration": 84,
    "start_time": "2024-03-29T06:51:45.625Z"
   },
   {
    "duration": 5,
    "start_time": "2024-03-29T06:51:45.711Z"
   },
   {
    "duration": 5,
    "start_time": "2024-03-29T06:51:45.718Z"
   },
   {
    "duration": 10,
    "start_time": "2024-03-29T06:51:45.724Z"
   },
   {
    "duration": 8,
    "start_time": "2024-03-29T06:51:45.735Z"
   },
   {
    "duration": 14,
    "start_time": "2024-03-29T06:51:45.744Z"
   },
   {
    "duration": 23,
    "start_time": "2024-03-29T06:51:45.760Z"
   },
   {
    "duration": 8,
    "start_time": "2024-03-29T06:51:45.784Z"
   },
   {
    "duration": 7,
    "start_time": "2024-03-29T06:51:45.793Z"
   },
   {
    "duration": 6,
    "start_time": "2024-03-29T06:51:45.802Z"
   },
   {
    "duration": 11,
    "start_time": "2024-03-29T06:51:45.809Z"
   },
   {
    "duration": 6,
    "start_time": "2024-03-29T06:51:45.821Z"
   },
   {
    "duration": 16,
    "start_time": "2024-03-29T06:51:45.828Z"
   },
   {
    "duration": 5,
    "start_time": "2024-03-29T06:51:45.883Z"
   },
   {
    "duration": 13,
    "start_time": "2024-03-29T06:51:45.889Z"
   },
   {
    "duration": 12,
    "start_time": "2024-03-29T06:51:45.903Z"
   },
   {
    "duration": 16,
    "start_time": "2024-03-29T06:51:45.916Z"
   },
   {
    "duration": 31,
    "start_time": "2024-03-29T06:51:45.934Z"
   },
   {
    "duration": 21,
    "start_time": "2024-03-29T06:51:45.967Z"
   },
   {
    "duration": 17,
    "start_time": "2024-03-29T06:51:45.990Z"
   },
   {
    "duration": 15,
    "start_time": "2024-03-29T06:51:46.008Z"
   },
   {
    "duration": 12,
    "start_time": "2024-03-29T06:51:46.025Z"
   },
   {
    "duration": 6,
    "start_time": "2024-03-29T06:51:46.038Z"
   },
   {
    "duration": 12,
    "start_time": "2024-03-29T06:51:46.045Z"
   },
   {
    "duration": 370,
    "start_time": "2024-03-29T06:51:46.058Z"
   },
   {
    "duration": 6,
    "start_time": "2024-03-29T06:51:46.429Z"
   },
   {
    "duration": 12,
    "start_time": "2024-03-29T06:51:46.436Z"
   },
   {
    "duration": 14,
    "start_time": "2024-03-29T06:51:46.450Z"
   },
   {
    "duration": 202,
    "start_time": "2024-03-29T06:51:46.465Z"
   },
   {
    "duration": 14,
    "start_time": "2024-03-29T06:51:46.668Z"
   },
   {
    "duration": 4,
    "start_time": "2024-03-29T06:51:46.683Z"
   },
   {
    "duration": 310,
    "start_time": "2024-03-29T06:51:46.690Z"
   },
   {
    "duration": 7,
    "start_time": "2024-03-29T06:51:47.002Z"
   },
   {
    "duration": 15,
    "start_time": "2024-03-29T06:51:47.010Z"
   },
   {
    "duration": 171,
    "start_time": "2024-03-29T06:51:47.027Z"
   },
   {
    "duration": 9,
    "start_time": "2024-03-29T06:51:47.200Z"
   },
   {
    "duration": 160,
    "start_time": "2024-03-29T06:51:47.211Z"
   },
   {
    "duration": 35,
    "start_time": "2024-03-29T06:51:47.372Z"
   },
   {
    "duration": 7,
    "start_time": "2024-03-29T06:51:47.409Z"
   },
   {
    "duration": 18,
    "start_time": "2024-03-29T06:51:47.417Z"
   },
   {
    "duration": 15,
    "start_time": "2024-03-29T06:51:47.436Z"
   },
   {
    "duration": 54,
    "start_time": "2024-03-29T06:51:47.452Z"
   },
   {
    "duration": 18,
    "start_time": "2024-03-29T06:51:47.508Z"
   },
   {
    "duration": 32,
    "start_time": "2024-03-29T06:51:47.527Z"
   },
   {
    "duration": 180,
    "start_time": "2024-03-29T06:51:47.560Z"
   },
   {
    "duration": 163,
    "start_time": "2024-03-29T06:51:47.742Z"
   },
   {
    "duration": 15,
    "start_time": "2024-03-29T06:51:47.906Z"
   },
   {
    "duration": 55,
    "start_time": "2024-03-29T06:51:47.922Z"
   },
   {
    "duration": 4,
    "start_time": "2024-03-29T06:51:47.982Z"
   },
   {
    "duration": 30,
    "start_time": "2024-03-29T06:51:47.987Z"
   },
   {
    "duration": 22,
    "start_time": "2024-03-29T06:51:48.018Z"
   },
   {
    "duration": 45,
    "start_time": "2024-03-29T06:51:48.041Z"
   },
   {
    "duration": 5,
    "start_time": "2024-03-29T06:51:48.088Z"
   },
   {
    "duration": 6,
    "start_time": "2024-03-29T06:51:48.094Z"
   },
   {
    "duration": 12,
    "start_time": "2024-03-29T06:51:48.101Z"
   },
   {
    "duration": 780,
    "start_time": "2024-03-29T07:02:23.638Z"
   },
   {
    "duration": 9,
    "start_time": "2024-03-29T07:02:47.889Z"
   },
   {
    "duration": 63,
    "start_time": "2024-03-29T07:09:05.662Z"
   },
   {
    "duration": 1174,
    "start_time": "2024-03-29T07:14:09.793Z"
   },
   {
    "duration": 69,
    "start_time": "2024-03-29T07:14:10.969Z"
   },
   {
    "duration": 7,
    "start_time": "2024-03-29T07:14:11.040Z"
   },
   {
    "duration": 13,
    "start_time": "2024-03-29T07:14:11.049Z"
   },
   {
    "duration": 20,
    "start_time": "2024-03-29T07:14:11.064Z"
   },
   {
    "duration": 38,
    "start_time": "2024-03-29T07:14:11.085Z"
   },
   {
    "duration": 27,
    "start_time": "2024-03-29T07:14:11.124Z"
   },
   {
    "duration": 9,
    "start_time": "2024-03-29T07:14:11.153Z"
   },
   {
    "duration": 14,
    "start_time": "2024-03-29T07:14:11.164Z"
   },
   {
    "duration": 15,
    "start_time": "2024-03-29T07:14:11.181Z"
   },
   {
    "duration": 22,
    "start_time": "2024-03-29T07:14:11.198Z"
   },
   {
    "duration": 10,
    "start_time": "2024-03-29T07:14:11.222Z"
   },
   {
    "duration": 5,
    "start_time": "2024-03-29T07:14:11.234Z"
   },
   {
    "duration": 30,
    "start_time": "2024-03-29T07:14:11.240Z"
   },
   {
    "duration": 14,
    "start_time": "2024-03-29T07:14:11.271Z"
   },
   {
    "duration": 27,
    "start_time": "2024-03-29T07:14:11.286Z"
   },
   {
    "duration": 8,
    "start_time": "2024-03-29T07:14:11.314Z"
   },
   {
    "duration": 15,
    "start_time": "2024-03-29T07:14:11.323Z"
   },
   {
    "duration": 5,
    "start_time": "2024-03-29T07:14:11.340Z"
   },
   {
    "duration": 7,
    "start_time": "2024-03-29T07:14:11.346Z"
   },
   {
    "duration": 5,
    "start_time": "2024-03-29T07:14:11.354Z"
   },
   {
    "duration": 6,
    "start_time": "2024-03-29T07:14:11.360Z"
   },
   {
    "duration": 7,
    "start_time": "2024-03-29T07:14:11.367Z"
   },
   {
    "duration": 7,
    "start_time": "2024-03-29T07:14:11.376Z"
   },
   {
    "duration": 10,
    "start_time": "2024-03-29T07:14:11.384Z"
   },
   {
    "duration": 371,
    "start_time": "2024-03-29T07:14:11.395Z"
   },
   {
    "duration": 5,
    "start_time": "2024-03-29T07:14:11.768Z"
   },
   {
    "duration": 8,
    "start_time": "2024-03-29T07:14:11.781Z"
   },
   {
    "duration": 4,
    "start_time": "2024-03-29T07:14:11.790Z"
   },
   {
    "duration": 249,
    "start_time": "2024-03-29T07:14:11.796Z"
   },
   {
    "duration": 6,
    "start_time": "2024-03-29T07:14:12.046Z"
   },
   {
    "duration": 7,
    "start_time": "2024-03-29T07:14:12.053Z"
   },
   {
    "duration": 306,
    "start_time": "2024-03-29T07:14:12.062Z"
   },
   {
    "duration": 16,
    "start_time": "2024-03-29T07:14:12.370Z"
   },
   {
    "duration": 14,
    "start_time": "2024-03-29T07:14:12.387Z"
   },
   {
    "duration": 196,
    "start_time": "2024-03-29T07:14:12.403Z"
   },
   {
    "duration": 8,
    "start_time": "2024-03-29T07:14:12.601Z"
   },
   {
    "duration": 161,
    "start_time": "2024-03-29T07:14:12.611Z"
   },
   {
    "duration": 36,
    "start_time": "2024-03-29T07:14:12.773Z"
   },
   {
    "duration": 8,
    "start_time": "2024-03-29T07:14:12.811Z"
   },
   {
    "duration": 20,
    "start_time": "2024-03-29T07:14:12.820Z"
   },
   {
    "duration": 14,
    "start_time": "2024-03-29T07:14:12.842Z"
   },
   {
    "duration": 30,
    "start_time": "2024-03-29T07:14:12.881Z"
   },
   {
    "duration": 18,
    "start_time": "2024-03-29T07:14:12.912Z"
   },
   {
    "duration": 30,
    "start_time": "2024-03-29T07:14:12.931Z"
   },
   {
    "duration": 207,
    "start_time": "2024-03-29T07:14:12.982Z"
   },
   {
    "duration": 159,
    "start_time": "2024-03-29T07:14:13.191Z"
   },
   {
    "duration": 14,
    "start_time": "2024-03-29T07:14:13.351Z"
   },
   {
    "duration": 48,
    "start_time": "2024-03-29T07:14:13.367Z"
   },
   {
    "duration": 8,
    "start_time": "2024-03-29T07:14:13.416Z"
   },
   {
    "duration": 28,
    "start_time": "2024-03-29T07:14:13.425Z"
   },
   {
    "duration": 110,
    "start_time": "2024-03-29T07:14:13.455Z"
   },
   {
    "duration": 39,
    "start_time": "2024-03-29T07:14:13.566Z"
   },
   {
    "duration": 5,
    "start_time": "2024-03-29T07:14:13.607Z"
   },
   {
    "duration": 5,
    "start_time": "2024-03-29T07:14:13.614Z"
   },
   {
    "duration": 10,
    "start_time": "2024-03-29T07:14:13.621Z"
   },
   {
    "duration": 7,
    "start_time": "2024-03-29T07:17:58.582Z"
   },
   {
    "duration": 21,
    "start_time": "2024-03-29T07:19:18.451Z"
   },
   {
    "duration": 22,
    "start_time": "2024-03-29T07:25:59.807Z"
   },
   {
    "duration": 23,
    "start_time": "2024-03-29T07:26:05.472Z"
   },
   {
    "duration": 23,
    "start_time": "2024-03-29T07:26:30.351Z"
   },
   {
    "duration": 3,
    "start_time": "2024-03-29T07:33:22.360Z"
   },
   {
    "duration": 13,
    "start_time": "2024-03-29T07:40:00.246Z"
   },
   {
    "duration": 3,
    "start_time": "2024-03-29T07:40:34.540Z"
   },
   {
    "duration": 65,
    "start_time": "2024-03-29T07:40:34.547Z"
   },
   {
    "duration": 5,
    "start_time": "2024-03-29T07:40:34.614Z"
   },
   {
    "duration": 7,
    "start_time": "2024-03-29T07:40:34.621Z"
   },
   {
    "duration": 11,
    "start_time": "2024-03-29T07:40:34.630Z"
   },
   {
    "duration": 11,
    "start_time": "2024-03-29T07:40:34.643Z"
   },
   {
    "duration": 21,
    "start_time": "2024-03-29T07:40:34.655Z"
   },
   {
    "duration": 9,
    "start_time": "2024-03-29T07:40:34.677Z"
   },
   {
    "duration": 9,
    "start_time": "2024-03-29T07:40:34.688Z"
   },
   {
    "duration": 12,
    "start_time": "2024-03-29T07:40:34.698Z"
   },
   {
    "duration": 7,
    "start_time": "2024-03-29T07:40:34.712Z"
   },
   {
    "duration": 10,
    "start_time": "2024-03-29T07:40:34.720Z"
   },
   {
    "duration": 5,
    "start_time": "2024-03-29T07:40:34.731Z"
   },
   {
    "duration": 12,
    "start_time": "2024-03-29T07:40:34.738Z"
   },
   {
    "duration": 5,
    "start_time": "2024-03-29T07:40:34.783Z"
   },
   {
    "duration": 6,
    "start_time": "2024-03-29T07:40:34.789Z"
   },
   {
    "duration": 11,
    "start_time": "2024-03-29T07:40:34.797Z"
   },
   {
    "duration": 5,
    "start_time": "2024-03-29T07:40:34.810Z"
   },
   {
    "duration": 5,
    "start_time": "2024-03-29T07:40:34.816Z"
   },
   {
    "duration": 5,
    "start_time": "2024-03-29T07:40:34.823Z"
   },
   {
    "duration": 4,
    "start_time": "2024-03-29T07:40:34.829Z"
   },
   {
    "duration": 6,
    "start_time": "2024-03-29T07:40:34.834Z"
   },
   {
    "duration": 46,
    "start_time": "2024-03-29T07:40:34.842Z"
   },
   {
    "duration": 15,
    "start_time": "2024-03-29T07:40:34.889Z"
   },
   {
    "duration": 6,
    "start_time": "2024-03-29T07:40:34.905Z"
   },
   {
    "duration": 365,
    "start_time": "2024-03-29T07:40:34.912Z"
   },
   {
    "duration": 6,
    "start_time": "2024-03-29T07:40:35.284Z"
   },
   {
    "duration": 13,
    "start_time": "2024-03-29T07:40:35.292Z"
   },
   {
    "duration": 7,
    "start_time": "2024-03-29T07:40:35.307Z"
   },
   {
    "duration": 224,
    "start_time": "2024-03-29T07:40:35.316Z"
   },
   {
    "duration": 4,
    "start_time": "2024-03-29T07:40:35.542Z"
   },
   {
    "duration": 4,
    "start_time": "2024-03-29T07:40:35.548Z"
   },
   {
    "duration": 298,
    "start_time": "2024-03-29T07:40:35.553Z"
   },
   {
    "duration": 9,
    "start_time": "2024-03-29T07:40:35.854Z"
   },
   {
    "duration": 28,
    "start_time": "2024-03-29T07:40:35.865Z"
   },
   {
    "duration": 171,
    "start_time": "2024-03-29T07:40:35.895Z"
   },
   {
    "duration": 16,
    "start_time": "2024-03-29T07:40:36.068Z"
   },
   {
    "duration": 164,
    "start_time": "2024-03-29T07:40:36.085Z"
   },
   {
    "duration": 36,
    "start_time": "2024-03-29T07:40:36.251Z"
   },
   {
    "duration": 8,
    "start_time": "2024-03-29T07:40:36.288Z"
   },
   {
    "duration": 39,
    "start_time": "2024-03-29T07:40:36.297Z"
   },
   {
    "duration": 22,
    "start_time": "2024-03-29T07:40:36.338Z"
   },
   {
    "duration": 31,
    "start_time": "2024-03-29T07:40:36.361Z"
   },
   {
    "duration": 25,
    "start_time": "2024-03-29T07:40:36.394Z"
   },
   {
    "duration": 32,
    "start_time": "2024-03-29T07:40:36.420Z"
   },
   {
    "duration": 186,
    "start_time": "2024-03-29T07:40:36.454Z"
   },
   {
    "duration": 159,
    "start_time": "2024-03-29T07:40:36.642Z"
   },
   {
    "duration": 14,
    "start_time": "2024-03-29T07:40:36.802Z"
   },
   {
    "duration": 55,
    "start_time": "2024-03-29T07:40:36.817Z"
   },
   {
    "duration": 6,
    "start_time": "2024-03-29T07:40:36.874Z"
   },
   {
    "duration": 38,
    "start_time": "2024-03-29T07:40:36.883Z"
   },
   {
    "duration": 11,
    "start_time": "2024-03-29T07:40:36.923Z"
   },
   {
    "duration": 108,
    "start_time": "2024-03-29T07:40:36.937Z"
   },
   {
    "duration": 0,
    "start_time": "2024-03-29T07:40:37.046Z"
   },
   {
    "duration": 0,
    "start_time": "2024-03-29T07:40:37.047Z"
   },
   {
    "duration": 0,
    "start_time": "2024-03-29T07:40:37.048Z"
   },
   {
    "duration": 44,
    "start_time": "2024-03-29T07:50:21.328Z"
   },
   {
    "duration": 40,
    "start_time": "2024-03-29T07:50:41.015Z"
   },
   {
    "duration": 32,
    "start_time": "2024-03-29T07:51:34.136Z"
   },
   {
    "duration": 27,
    "start_time": "2024-03-29T07:52:42.831Z"
   },
   {
    "duration": 37,
    "start_time": "2024-03-29T07:52:49.667Z"
   },
   {
    "duration": 40,
    "start_time": "2024-03-29T07:53:16.242Z"
   },
   {
    "duration": 48,
    "start_time": "2024-03-29T07:58:46.096Z"
   },
   {
    "duration": 50,
    "start_time": "2024-03-29T08:08:19.428Z"
   },
   {
    "duration": 14,
    "start_time": "2024-03-29T08:15:56.218Z"
   },
   {
    "duration": 708,
    "start_time": "2024-03-29T08:16:03.644Z"
   },
   {
    "duration": 902,
    "start_time": "2024-03-29T08:16:31.011Z"
   },
   {
    "duration": 200,
    "start_time": "2024-03-29T08:16:50.286Z"
   },
   {
    "duration": 204,
    "start_time": "2024-03-29T08:17:01.197Z"
   },
   {
    "duration": 3,
    "start_time": "2024-03-29T08:18:44.565Z"
   },
   {
    "duration": 72,
    "start_time": "2024-03-29T08:18:44.571Z"
   },
   {
    "duration": 5,
    "start_time": "2024-03-29T08:18:44.645Z"
   },
   {
    "duration": 16,
    "start_time": "2024-03-29T08:18:44.651Z"
   },
   {
    "duration": 20,
    "start_time": "2024-03-29T08:18:44.669Z"
   },
   {
    "duration": 19,
    "start_time": "2024-03-29T08:18:44.691Z"
   },
   {
    "duration": 14,
    "start_time": "2024-03-29T08:18:44.712Z"
   },
   {
    "duration": 16,
    "start_time": "2024-03-29T08:18:44.727Z"
   },
   {
    "duration": 19,
    "start_time": "2024-03-29T08:18:44.745Z"
   },
   {
    "duration": 11,
    "start_time": "2024-03-29T08:18:44.766Z"
   },
   {
    "duration": 14,
    "start_time": "2024-03-29T08:18:44.780Z"
   },
   {
    "duration": 21,
    "start_time": "2024-03-29T08:18:44.795Z"
   },
   {
    "duration": 13,
    "start_time": "2024-03-29T08:18:44.818Z"
   },
   {
    "duration": 25,
    "start_time": "2024-03-29T08:18:44.833Z"
   },
   {
    "duration": 21,
    "start_time": "2024-03-29T08:18:44.860Z"
   },
   {
    "duration": 20,
    "start_time": "2024-03-29T08:18:44.883Z"
   },
   {
    "duration": 16,
    "start_time": "2024-03-29T08:18:44.905Z"
   },
   {
    "duration": 12,
    "start_time": "2024-03-29T08:18:44.923Z"
   },
   {
    "duration": 11,
    "start_time": "2024-03-29T08:18:44.937Z"
   },
   {
    "duration": 23,
    "start_time": "2024-03-29T08:18:44.949Z"
   },
   {
    "duration": 14,
    "start_time": "2024-03-29T08:18:44.974Z"
   },
   {
    "duration": 44,
    "start_time": "2024-03-29T08:18:44.989Z"
   },
   {
    "duration": 22,
    "start_time": "2024-03-29T08:18:45.036Z"
   },
   {
    "duration": 35,
    "start_time": "2024-03-29T08:18:45.060Z"
   },
   {
    "duration": 15,
    "start_time": "2024-03-29T08:18:45.096Z"
   },
   {
    "duration": 404,
    "start_time": "2024-03-29T08:18:45.113Z"
   },
   {
    "duration": 6,
    "start_time": "2024-03-29T08:18:45.518Z"
   },
   {
    "duration": 18,
    "start_time": "2024-03-29T08:18:45.525Z"
   },
   {
    "duration": 21,
    "start_time": "2024-03-29T08:18:45.544Z"
   },
   {
    "duration": 202,
    "start_time": "2024-03-29T08:18:45.566Z"
   },
   {
    "duration": 4,
    "start_time": "2024-03-29T08:18:45.770Z"
   },
   {
    "duration": 3,
    "start_time": "2024-03-29T08:18:45.782Z"
   },
   {
    "duration": 309,
    "start_time": "2024-03-29T08:18:45.787Z"
   },
   {
    "duration": 7,
    "start_time": "2024-03-29T08:18:46.098Z"
   },
   {
    "duration": 32,
    "start_time": "2024-03-29T08:18:46.107Z"
   },
   {
    "duration": 265,
    "start_time": "2024-03-29T08:18:46.140Z"
   },
   {
    "duration": 9,
    "start_time": "2024-03-29T08:18:46.406Z"
   },
   {
    "duration": 185,
    "start_time": "2024-03-29T08:18:46.416Z"
   },
   {
    "duration": 30,
    "start_time": "2024-03-29T08:18:46.603Z"
   },
   {
    "duration": 8,
    "start_time": "2024-03-29T08:18:46.635Z"
   },
   {
    "duration": 38,
    "start_time": "2024-03-29T08:18:46.647Z"
   },
   {
    "duration": 16,
    "start_time": "2024-03-29T08:18:46.686Z"
   },
   {
    "duration": 38,
    "start_time": "2024-03-29T08:18:46.703Z"
   },
   {
    "duration": 20,
    "start_time": "2024-03-29T08:18:46.743Z"
   },
   {
    "duration": 31,
    "start_time": "2024-03-29T08:18:46.783Z"
   },
   {
    "duration": 201,
    "start_time": "2024-03-29T08:18:46.816Z"
   },
   {
    "duration": 157,
    "start_time": "2024-03-29T08:18:47.019Z"
   },
   {
    "duration": 14,
    "start_time": "2024-03-29T08:18:47.177Z"
   },
   {
    "duration": 32,
    "start_time": "2024-03-29T08:18:47.192Z"
   },
   {
    "duration": 4,
    "start_time": "2024-03-29T08:18:47.225Z"
   },
   {
    "duration": 39,
    "start_time": "2024-03-29T08:18:47.230Z"
   },
   {
    "duration": 23,
    "start_time": "2024-03-29T08:18:47.270Z"
   },
   {
    "duration": 56,
    "start_time": "2024-03-29T08:18:47.295Z"
   },
   {
    "duration": 223,
    "start_time": "2024-03-29T08:18:47.353Z"
   },
   {
    "duration": 6,
    "start_time": "2024-03-29T08:18:47.578Z"
   },
   {
    "duration": 6,
    "start_time": "2024-03-29T08:18:47.585Z"
   },
   {
    "duration": 753,
    "start_time": "2024-03-29T08:18:47.592Z"
   },
   {
    "duration": 3,
    "start_time": "2024-03-29T08:22:49.977Z"
   },
   {
    "duration": 65,
    "start_time": "2024-03-29T08:22:49.984Z"
   },
   {
    "duration": 6,
    "start_time": "2024-03-29T08:22:50.051Z"
   },
   {
    "duration": 18,
    "start_time": "2024-03-29T08:22:50.059Z"
   },
   {
    "duration": 7,
    "start_time": "2024-03-29T08:22:50.080Z"
   },
   {
    "duration": 8,
    "start_time": "2024-03-29T08:22:50.089Z"
   },
   {
    "duration": 12,
    "start_time": "2024-03-29T08:22:50.099Z"
   },
   {
    "duration": 9,
    "start_time": "2024-03-29T08:22:50.112Z"
   },
   {
    "duration": 8,
    "start_time": "2024-03-29T08:22:50.123Z"
   },
   {
    "duration": 8,
    "start_time": "2024-03-29T08:22:50.132Z"
   },
   {
    "duration": 41,
    "start_time": "2024-03-29T08:22:50.142Z"
   },
   {
    "duration": 11,
    "start_time": "2024-03-29T08:22:50.184Z"
   },
   {
    "duration": 5,
    "start_time": "2024-03-29T08:22:50.197Z"
   },
   {
    "duration": 14,
    "start_time": "2024-03-29T08:22:50.203Z"
   },
   {
    "duration": 5,
    "start_time": "2024-03-29T08:22:50.218Z"
   },
   {
    "duration": 5,
    "start_time": "2024-03-29T08:22:50.225Z"
   },
   {
    "duration": 9,
    "start_time": "2024-03-29T08:22:50.232Z"
   },
   {
    "duration": 45,
    "start_time": "2024-03-29T08:22:50.242Z"
   },
   {
    "duration": 5,
    "start_time": "2024-03-29T08:22:50.289Z"
   },
   {
    "duration": 9,
    "start_time": "2024-03-29T08:22:50.295Z"
   },
   {
    "duration": 22,
    "start_time": "2024-03-29T08:22:50.305Z"
   },
   {
    "duration": 5,
    "start_time": "2024-03-29T08:22:50.329Z"
   },
   {
    "duration": 30,
    "start_time": "2024-03-29T08:22:50.337Z"
   },
   {
    "duration": 8,
    "start_time": "2024-03-29T08:22:50.368Z"
   },
   {
    "duration": 4,
    "start_time": "2024-03-29T08:22:50.378Z"
   },
   {
    "duration": 356,
    "start_time": "2024-03-29T08:22:50.383Z"
   },
   {
    "duration": 5,
    "start_time": "2024-03-29T08:22:50.741Z"
   },
   {
    "duration": 18,
    "start_time": "2024-03-29T08:22:50.747Z"
   },
   {
    "duration": 17,
    "start_time": "2024-03-29T08:22:50.766Z"
   },
   {
    "duration": 202,
    "start_time": "2024-03-29T08:22:50.784Z"
   },
   {
    "duration": 5,
    "start_time": "2024-03-29T08:22:50.989Z"
   },
   {
    "duration": 19,
    "start_time": "2024-03-29T08:22:50.995Z"
   },
   {
    "duration": 299,
    "start_time": "2024-03-29T08:22:51.015Z"
   },
   {
    "duration": 9,
    "start_time": "2024-03-29T08:22:51.316Z"
   },
   {
    "duration": 17,
    "start_time": "2024-03-29T08:22:51.327Z"
   },
   {
    "duration": 187,
    "start_time": "2024-03-29T08:22:51.346Z"
   },
   {
    "duration": 8,
    "start_time": "2024-03-29T08:22:51.535Z"
   },
   {
    "duration": 177,
    "start_time": "2024-03-29T08:22:51.544Z"
   },
   {
    "duration": 30,
    "start_time": "2024-03-29T08:22:51.722Z"
   },
   {
    "duration": 9,
    "start_time": "2024-03-29T08:22:51.753Z"
   },
   {
    "duration": 36,
    "start_time": "2024-03-29T08:22:51.763Z"
   },
   {
    "duration": 15,
    "start_time": "2024-03-29T08:22:51.801Z"
   },
   {
    "duration": 31,
    "start_time": "2024-03-29T08:22:51.818Z"
   },
   {
    "duration": 51,
    "start_time": "2024-03-29T08:22:51.851Z"
   },
   {
    "duration": 32,
    "start_time": "2024-03-29T08:22:51.904Z"
   },
   {
    "duration": 183,
    "start_time": "2024-03-29T08:22:51.937Z"
   },
   {
    "duration": 239,
    "start_time": "2024-03-29T08:22:52.121Z"
   },
   {
    "duration": 21,
    "start_time": "2024-03-29T08:22:52.362Z"
   },
   {
    "duration": 30,
    "start_time": "2024-03-29T08:22:52.385Z"
   },
   {
    "duration": 4,
    "start_time": "2024-03-29T08:22:52.416Z"
   },
   {
    "duration": 24,
    "start_time": "2024-03-29T08:22:52.422Z"
   },
   {
    "duration": 35,
    "start_time": "2024-03-29T08:22:52.448Z"
   },
   {
    "duration": 57,
    "start_time": "2024-03-29T08:22:52.485Z"
   },
   {
    "duration": 222,
    "start_time": "2024-03-29T08:22:52.547Z"
   },
   {
    "duration": 12,
    "start_time": "2024-03-29T08:22:52.770Z"
   },
   {
    "duration": 5,
    "start_time": "2024-03-29T08:22:52.784Z"
   },
   {
    "duration": 795,
    "start_time": "2024-03-29T08:22:52.790Z"
   },
   {
    "duration": 8,
    "start_time": "2024-03-29T08:38:47.849Z"
   },
   {
    "duration": 19,
    "start_time": "2024-03-29T08:39:03.553Z"
   },
   {
    "duration": 11,
    "start_time": "2024-03-29T08:41:33.544Z"
   },
   {
    "duration": 214,
    "start_time": "2024-03-29T08:43:29.446Z"
   },
   {
    "duration": 212,
    "start_time": "2024-03-29T08:43:39.461Z"
   },
   {
    "duration": 3,
    "start_time": "2024-03-29T08:44:49.231Z"
   },
   {
    "duration": 73,
    "start_time": "2024-03-29T08:44:49.237Z"
   },
   {
    "duration": 5,
    "start_time": "2024-03-29T08:44:49.311Z"
   },
   {
    "duration": 9,
    "start_time": "2024-03-29T08:44:49.318Z"
   },
   {
    "duration": 11,
    "start_time": "2024-03-29T08:44:49.328Z"
   },
   {
    "duration": 12,
    "start_time": "2024-03-29T08:44:49.340Z"
   },
   {
    "duration": 13,
    "start_time": "2024-03-29T08:44:49.353Z"
   },
   {
    "duration": 19,
    "start_time": "2024-03-29T08:44:49.367Z"
   },
   {
    "duration": 8,
    "start_time": "2024-03-29T08:44:49.387Z"
   },
   {
    "duration": 7,
    "start_time": "2024-03-29T08:44:49.397Z"
   },
   {
    "duration": 6,
    "start_time": "2024-03-29T08:44:49.406Z"
   },
   {
    "duration": 15,
    "start_time": "2024-03-29T08:44:49.414Z"
   },
   {
    "duration": 13,
    "start_time": "2024-03-29T08:44:49.430Z"
   },
   {
    "duration": 39,
    "start_time": "2024-03-29T08:44:49.444Z"
   },
   {
    "duration": 6,
    "start_time": "2024-03-29T08:44:49.484Z"
   },
   {
    "duration": 8,
    "start_time": "2024-03-29T08:44:49.491Z"
   },
   {
    "duration": 7,
    "start_time": "2024-03-29T08:44:49.501Z"
   },
   {
    "duration": 9,
    "start_time": "2024-03-29T08:44:49.512Z"
   },
   {
    "duration": 7,
    "start_time": "2024-03-29T08:44:49.523Z"
   },
   {
    "duration": 18,
    "start_time": "2024-03-29T08:44:49.532Z"
   },
   {
    "duration": 34,
    "start_time": "2024-03-29T08:44:49.552Z"
   },
   {
    "duration": 12,
    "start_time": "2024-03-29T08:44:49.588Z"
   },
   {
    "duration": 11,
    "start_time": "2024-03-29T08:44:49.602Z"
   },
   {
    "duration": 4,
    "start_time": "2024-03-29T08:44:49.615Z"
   },
   {
    "duration": 4,
    "start_time": "2024-03-29T08:44:49.621Z"
   },
   {
    "duration": 394,
    "start_time": "2024-03-29T08:44:49.627Z"
   },
   {
    "duration": 6,
    "start_time": "2024-03-29T08:44:50.022Z"
   },
   {
    "duration": 9,
    "start_time": "2024-03-29T08:44:50.029Z"
   },
   {
    "duration": 10,
    "start_time": "2024-03-29T08:44:50.039Z"
   },
   {
    "duration": 219,
    "start_time": "2024-03-29T08:44:50.050Z"
   },
   {
    "duration": 12,
    "start_time": "2024-03-29T08:44:50.271Z"
   },
   {
    "duration": 11,
    "start_time": "2024-03-29T08:44:50.285Z"
   },
   {
    "duration": 301,
    "start_time": "2024-03-29T08:44:50.298Z"
   },
   {
    "duration": 8,
    "start_time": "2024-03-29T08:44:50.601Z"
   },
   {
    "duration": 8,
    "start_time": "2024-03-29T08:44:50.612Z"
   },
   {
    "duration": 194,
    "start_time": "2024-03-29T08:44:50.621Z"
   },
   {
    "duration": 8,
    "start_time": "2024-03-29T08:44:50.817Z"
   },
   {
    "duration": 167,
    "start_time": "2024-03-29T08:44:50.827Z"
   },
   {
    "duration": 30,
    "start_time": "2024-03-29T08:44:50.995Z"
   },
   {
    "duration": 8,
    "start_time": "2024-03-29T08:44:51.027Z"
   },
   {
    "duration": 45,
    "start_time": "2024-03-29T08:44:51.037Z"
   },
   {
    "duration": 15,
    "start_time": "2024-03-29T08:44:51.084Z"
   },
   {
    "duration": 32,
    "start_time": "2024-03-29T08:44:51.100Z"
   },
   {
    "duration": 48,
    "start_time": "2024-03-29T08:44:51.134Z"
   },
   {
    "duration": 32,
    "start_time": "2024-03-29T08:44:51.184Z"
   },
   {
    "duration": 181,
    "start_time": "2024-03-29T08:44:51.218Z"
   },
   {
    "duration": 170,
    "start_time": "2024-03-29T08:44:51.401Z"
   },
   {
    "duration": 18,
    "start_time": "2024-03-29T08:44:51.572Z"
   },
   {
    "duration": 44,
    "start_time": "2024-03-29T08:44:51.592Z"
   },
   {
    "duration": 4,
    "start_time": "2024-03-29T08:44:51.638Z"
   },
   {
    "duration": 45,
    "start_time": "2024-03-29T08:44:51.643Z"
   },
   {
    "duration": 12,
    "start_time": "2024-03-29T08:44:51.689Z"
   },
   {
    "duration": 55,
    "start_time": "2024-03-29T08:44:51.703Z"
   },
   {
    "duration": 276,
    "start_time": "2024-03-29T08:44:51.760Z"
   },
   {
    "duration": 10,
    "start_time": "2024-03-29T08:44:52.038Z"
   },
   {
    "duration": 10,
    "start_time": "2024-03-29T08:44:52.049Z"
   },
   {
    "duration": 721,
    "start_time": "2024-03-29T08:44:52.060Z"
   },
   {
    "duration": 201,
    "start_time": "2024-03-29T09:06:49.374Z"
   },
   {
    "duration": 61,
    "start_time": "2024-03-29T09:08:46.917Z"
   },
   {
    "duration": 63,
    "start_time": "2024-03-29T09:09:04.217Z"
   },
   {
    "duration": 204,
    "start_time": "2024-03-29T09:09:32.658Z"
   },
   {
    "duration": 198,
    "start_time": "2024-03-29T09:14:28.351Z"
   },
   {
    "duration": 1201,
    "start_time": "2024-03-29T09:21:36.876Z"
   },
   {
    "duration": 66,
    "start_time": "2024-03-29T09:21:38.078Z"
   },
   {
    "duration": 7,
    "start_time": "2024-03-29T09:21:38.145Z"
   },
   {
    "duration": 3,
    "start_time": "2024-03-29T09:21:38.154Z"
   },
   {
    "duration": 10,
    "start_time": "2024-03-29T09:21:38.159Z"
   },
   {
    "duration": 11,
    "start_time": "2024-03-29T09:21:38.171Z"
   },
   {
    "duration": 14,
    "start_time": "2024-03-29T09:21:38.183Z"
   },
   {
    "duration": 8,
    "start_time": "2024-03-29T09:21:38.198Z"
   },
   {
    "duration": 8,
    "start_time": "2024-03-29T09:21:38.207Z"
   },
   {
    "duration": 11,
    "start_time": "2024-03-29T09:21:38.218Z"
   },
   {
    "duration": 8,
    "start_time": "2024-03-29T09:21:38.230Z"
   },
   {
    "duration": 45,
    "start_time": "2024-03-29T09:21:38.240Z"
   },
   {
    "duration": 8,
    "start_time": "2024-03-29T09:21:38.287Z"
   },
   {
    "duration": 25,
    "start_time": "2024-03-29T09:21:38.296Z"
   },
   {
    "duration": 4,
    "start_time": "2024-03-29T09:21:38.323Z"
   },
   {
    "duration": 6,
    "start_time": "2024-03-29T09:21:38.328Z"
   },
   {
    "duration": 18,
    "start_time": "2024-03-29T09:21:38.336Z"
   },
   {
    "duration": 11,
    "start_time": "2024-03-29T09:21:38.355Z"
   },
   {
    "duration": 15,
    "start_time": "2024-03-29T09:21:38.367Z"
   },
   {
    "duration": 5,
    "start_time": "2024-03-29T09:21:38.383Z"
   },
   {
    "duration": 7,
    "start_time": "2024-03-29T09:21:38.390Z"
   },
   {
    "duration": 7,
    "start_time": "2024-03-29T09:21:38.398Z"
   },
   {
    "duration": 8,
    "start_time": "2024-03-29T09:21:38.406Z"
   },
   {
    "duration": 5,
    "start_time": "2024-03-29T09:21:38.415Z"
   },
   {
    "duration": 12,
    "start_time": "2024-03-29T09:21:38.421Z"
   },
   {
    "duration": 394,
    "start_time": "2024-03-29T09:21:38.434Z"
   },
   {
    "duration": 7,
    "start_time": "2024-03-29T09:21:38.830Z"
   },
   {
    "duration": 9,
    "start_time": "2024-03-29T09:21:38.842Z"
   },
   {
    "duration": 5,
    "start_time": "2024-03-29T09:21:38.852Z"
   },
   {
    "duration": 233,
    "start_time": "2024-03-29T09:21:38.859Z"
   },
   {
    "duration": 5,
    "start_time": "2024-03-29T09:21:39.094Z"
   },
   {
    "duration": 6,
    "start_time": "2024-03-29T09:21:39.100Z"
   },
   {
    "duration": 315,
    "start_time": "2024-03-29T09:21:39.108Z"
   },
   {
    "duration": 7,
    "start_time": "2024-03-29T09:21:39.425Z"
   },
   {
    "duration": 10,
    "start_time": "2024-03-29T09:21:39.434Z"
   },
   {
    "duration": 180,
    "start_time": "2024-03-29T09:21:39.446Z"
   },
   {
    "duration": 8,
    "start_time": "2024-03-29T09:21:39.628Z"
   },
   {
    "duration": 162,
    "start_time": "2024-03-29T09:21:39.638Z"
   },
   {
    "duration": 30,
    "start_time": "2024-03-29T09:21:39.802Z"
   },
   {
    "duration": 8,
    "start_time": "2024-03-29T09:21:39.834Z"
   },
   {
    "duration": 50,
    "start_time": "2024-03-29T09:21:39.843Z"
   },
   {
    "duration": 19,
    "start_time": "2024-03-29T09:21:39.894Z"
   },
   {
    "duration": 30,
    "start_time": "2024-03-29T09:21:39.915Z"
   },
   {
    "duration": 37,
    "start_time": "2024-03-29T09:21:39.946Z"
   },
   {
    "duration": 31,
    "start_time": "2024-03-29T09:21:39.986Z"
   },
   {
    "duration": 189,
    "start_time": "2024-03-29T09:21:40.019Z"
   },
   {
    "duration": 159,
    "start_time": "2024-03-29T09:21:40.210Z"
   },
   {
    "duration": 27,
    "start_time": "2024-03-29T09:21:40.371Z"
   },
   {
    "duration": 36,
    "start_time": "2024-03-29T09:21:40.399Z"
   },
   {
    "duration": 4,
    "start_time": "2024-03-29T09:21:40.436Z"
   },
   {
    "duration": 43,
    "start_time": "2024-03-29T09:21:40.442Z"
   },
   {
    "duration": 15,
    "start_time": "2024-03-29T09:21:40.487Z"
   },
   {
    "duration": 125,
    "start_time": "2024-03-29T09:21:40.504Z"
   },
   {
    "duration": 216,
    "start_time": "2024-03-29T09:21:40.630Z"
   },
   {
    "duration": 5,
    "start_time": "2024-03-29T09:21:40.848Z"
   },
   {
    "duration": 12,
    "start_time": "2024-03-29T09:21:40.854Z"
   },
   {
    "duration": 935,
    "start_time": "2024-03-29T09:21:40.867Z"
   },
   {
    "duration": 1141,
    "start_time": "2024-03-29T09:22:49.869Z"
   },
   {
    "duration": 195,
    "start_time": "2024-03-29T09:22:59.097Z"
   },
   {
    "duration": 223,
    "start_time": "2024-03-29T09:41:34.019Z"
   },
   {
    "duration": 200,
    "start_time": "2024-03-29T09:41:48.724Z"
   },
   {
    "duration": 3,
    "start_time": "2024-03-29T09:42:49.248Z"
   },
   {
    "duration": 90,
    "start_time": "2024-03-29T09:42:49.255Z"
   },
   {
    "duration": 8,
    "start_time": "2024-03-29T09:42:49.347Z"
   },
   {
    "duration": 14,
    "start_time": "2024-03-29T09:42:49.357Z"
   },
   {
    "duration": 24,
    "start_time": "2024-03-29T09:42:49.373Z"
   },
   {
    "duration": 24,
    "start_time": "2024-03-29T09:42:49.398Z"
   },
   {
    "duration": 11,
    "start_time": "2024-03-29T09:42:49.424Z"
   },
   {
    "duration": 10,
    "start_time": "2024-03-29T09:42:49.437Z"
   },
   {
    "duration": 8,
    "start_time": "2024-03-29T09:42:49.449Z"
   },
   {
    "duration": 7,
    "start_time": "2024-03-29T09:42:49.459Z"
   },
   {
    "duration": 14,
    "start_time": "2024-03-29T09:42:49.469Z"
   },
   {
    "duration": 10,
    "start_time": "2024-03-29T09:42:49.484Z"
   },
   {
    "duration": 18,
    "start_time": "2024-03-29T09:42:49.495Z"
   },
   {
    "duration": 13,
    "start_time": "2024-03-29T09:42:49.515Z"
   },
   {
    "duration": 4,
    "start_time": "2024-03-29T09:42:49.529Z"
   },
   {
    "duration": 5,
    "start_time": "2024-03-29T09:42:49.535Z"
   },
   {
    "duration": 10,
    "start_time": "2024-03-29T09:42:49.542Z"
   },
   {
    "duration": 34,
    "start_time": "2024-03-29T09:42:49.553Z"
   },
   {
    "duration": 7,
    "start_time": "2024-03-29T09:42:49.589Z"
   },
   {
    "duration": 7,
    "start_time": "2024-03-29T09:42:49.598Z"
   },
   {
    "duration": 8,
    "start_time": "2024-03-29T09:42:49.606Z"
   },
   {
    "duration": 5,
    "start_time": "2024-03-29T09:42:49.617Z"
   },
   {
    "duration": 7,
    "start_time": "2024-03-29T09:42:49.623Z"
   },
   {
    "duration": 4,
    "start_time": "2024-03-29T09:42:49.632Z"
   },
   {
    "duration": 8,
    "start_time": "2024-03-29T09:42:49.637Z"
   },
   {
    "duration": 375,
    "start_time": "2024-03-29T09:42:49.683Z"
   },
   {
    "duration": 5,
    "start_time": "2024-03-29T09:42:50.060Z"
   },
   {
    "duration": 17,
    "start_time": "2024-03-29T09:42:50.067Z"
   },
   {
    "duration": 16,
    "start_time": "2024-03-29T09:42:50.086Z"
   },
   {
    "duration": 208,
    "start_time": "2024-03-29T09:42:50.104Z"
   },
   {
    "duration": 6,
    "start_time": "2024-03-29T09:42:50.314Z"
   },
   {
    "duration": 4,
    "start_time": "2024-03-29T09:42:50.323Z"
   },
   {
    "duration": 313,
    "start_time": "2024-03-29T09:42:50.329Z"
   },
   {
    "duration": 8,
    "start_time": "2024-03-29T09:42:50.644Z"
   },
   {
    "duration": 15,
    "start_time": "2024-03-29T09:42:50.653Z"
   },
   {
    "duration": 186,
    "start_time": "2024-03-29T09:42:50.670Z"
   },
   {
    "duration": 9,
    "start_time": "2024-03-29T09:42:50.857Z"
   },
   {
    "duration": 166,
    "start_time": "2024-03-29T09:42:50.867Z"
   },
   {
    "duration": 29,
    "start_time": "2024-03-29T09:42:51.034Z"
   },
   {
    "duration": 18,
    "start_time": "2024-03-29T09:42:51.065Z"
   },
   {
    "duration": 20,
    "start_time": "2024-03-29T09:42:51.085Z"
   },
   {
    "duration": 16,
    "start_time": "2024-03-29T09:42:51.106Z"
   },
   {
    "duration": 33,
    "start_time": "2024-03-29T09:42:51.123Z"
   },
   {
    "duration": 20,
    "start_time": "2024-03-29T09:42:51.181Z"
   },
   {
    "duration": 31,
    "start_time": "2024-03-29T09:42:51.202Z"
   },
   {
    "duration": 183,
    "start_time": "2024-03-29T09:42:51.235Z"
   },
   {
    "duration": 156,
    "start_time": "2024-03-29T09:42:51.420Z"
   },
   {
    "duration": 17,
    "start_time": "2024-03-29T09:42:51.577Z"
   },
   {
    "duration": 47,
    "start_time": "2024-03-29T09:42:51.595Z"
   },
   {
    "duration": 4,
    "start_time": "2024-03-29T09:42:51.643Z"
   },
   {
    "duration": 30,
    "start_time": "2024-03-29T09:42:51.648Z"
   },
   {
    "duration": 12,
    "start_time": "2024-03-29T09:42:51.682Z"
   },
   {
    "duration": 50,
    "start_time": "2024-03-29T09:42:51.695Z"
   },
   {
    "duration": 251,
    "start_time": "2024-03-29T09:42:51.747Z"
   },
   {
    "duration": 6,
    "start_time": "2024-03-29T09:42:51.999Z"
   },
   {
    "duration": 8,
    "start_time": "2024-03-29T09:42:52.007Z"
   },
   {
    "duration": 13,
    "start_time": "2024-03-29T09:42:52.020Z"
   },
   {
    "duration": 1114,
    "start_time": "2024-03-29T09:45:06.002Z"
   },
   {
    "duration": 66,
    "start_time": "2024-03-29T09:45:07.118Z"
   },
   {
    "duration": 6,
    "start_time": "2024-03-29T09:45:07.186Z"
   },
   {
    "duration": 5,
    "start_time": "2024-03-29T09:45:07.194Z"
   },
   {
    "duration": 15,
    "start_time": "2024-03-29T09:45:07.200Z"
   },
   {
    "duration": 11,
    "start_time": "2024-03-29T09:45:07.217Z"
   },
   {
    "duration": 13,
    "start_time": "2024-03-29T09:45:07.229Z"
   },
   {
    "duration": 9,
    "start_time": "2024-03-29T09:45:07.243Z"
   },
   {
    "duration": 9,
    "start_time": "2024-03-29T09:45:07.281Z"
   },
   {
    "duration": 8,
    "start_time": "2024-03-29T09:45:07.292Z"
   },
   {
    "duration": 6,
    "start_time": "2024-03-29T09:45:07.301Z"
   },
   {
    "duration": 18,
    "start_time": "2024-03-29T09:45:07.308Z"
   },
   {
    "duration": 7,
    "start_time": "2024-03-29T09:45:07.327Z"
   },
   {
    "duration": 48,
    "start_time": "2024-03-29T09:45:07.335Z"
   },
   {
    "duration": 5,
    "start_time": "2024-03-29T09:45:07.384Z"
   },
   {
    "duration": 6,
    "start_time": "2024-03-29T09:45:07.390Z"
   },
   {
    "duration": 17,
    "start_time": "2024-03-29T09:45:07.397Z"
   },
   {
    "duration": 8,
    "start_time": "2024-03-29T09:45:07.416Z"
   },
   {
    "duration": 20,
    "start_time": "2024-03-29T09:45:07.426Z"
   },
   {
    "duration": 7,
    "start_time": "2024-03-29T09:45:07.447Z"
   },
   {
    "duration": 29,
    "start_time": "2024-03-29T09:45:07.455Z"
   },
   {
    "duration": 7,
    "start_time": "2024-03-29T09:45:07.485Z"
   },
   {
    "duration": 9,
    "start_time": "2024-03-29T09:45:07.494Z"
   },
   {
    "duration": 4,
    "start_time": "2024-03-29T09:45:07.504Z"
   },
   {
    "duration": 4,
    "start_time": "2024-03-29T09:45:07.510Z"
   },
   {
    "duration": 383,
    "start_time": "2024-03-29T09:45:07.515Z"
   },
   {
    "duration": 5,
    "start_time": "2024-03-29T09:45:07.900Z"
   },
   {
    "duration": 14,
    "start_time": "2024-03-29T09:45:07.908Z"
   },
   {
    "duration": 4,
    "start_time": "2024-03-29T09:45:07.923Z"
   },
   {
    "duration": 221,
    "start_time": "2024-03-29T09:45:07.928Z"
   },
   {
    "duration": 5,
    "start_time": "2024-03-29T09:45:08.151Z"
   },
   {
    "duration": 7,
    "start_time": "2024-03-29T09:45:08.157Z"
   },
   {
    "duration": 307,
    "start_time": "2024-03-29T09:45:08.166Z"
   },
   {
    "duration": 11,
    "start_time": "2024-03-29T09:45:08.475Z"
   },
   {
    "duration": 9,
    "start_time": "2024-03-29T09:45:08.487Z"
   },
   {
    "duration": 181,
    "start_time": "2024-03-29T09:45:08.497Z"
   },
   {
    "duration": 9,
    "start_time": "2024-03-29T09:45:08.680Z"
   },
   {
    "duration": 170,
    "start_time": "2024-03-29T09:45:08.690Z"
   },
   {
    "duration": 41,
    "start_time": "2024-03-29T09:45:08.861Z"
   },
   {
    "duration": 8,
    "start_time": "2024-03-29T09:45:08.903Z"
   },
   {
    "duration": 18,
    "start_time": "2024-03-29T09:45:08.912Z"
   },
   {
    "duration": 15,
    "start_time": "2024-03-29T09:45:08.931Z"
   },
   {
    "duration": 59,
    "start_time": "2024-03-29T09:45:08.947Z"
   },
   {
    "duration": 26,
    "start_time": "2024-03-29T09:45:09.008Z"
   },
   {
    "duration": 50,
    "start_time": "2024-03-29T09:45:09.036Z"
   },
   {
    "duration": 172,
    "start_time": "2024-03-29T09:45:09.088Z"
   },
   {
    "duration": 162,
    "start_time": "2024-03-29T09:45:09.261Z"
   },
   {
    "duration": 15,
    "start_time": "2024-03-29T09:45:09.424Z"
   },
   {
    "duration": 44,
    "start_time": "2024-03-29T09:45:09.440Z"
   },
   {
    "duration": 3,
    "start_time": "2024-03-29T09:45:09.486Z"
   },
   {
    "duration": 26,
    "start_time": "2024-03-29T09:45:09.491Z"
   },
   {
    "duration": 11,
    "start_time": "2024-03-29T09:45:09.518Z"
   },
   {
    "duration": 131,
    "start_time": "2024-03-29T09:45:09.530Z"
   },
   {
    "duration": 218,
    "start_time": "2024-03-29T09:45:09.662Z"
   },
   {
    "duration": 7,
    "start_time": "2024-03-29T09:45:09.882Z"
   },
   {
    "duration": 5,
    "start_time": "2024-03-29T09:45:09.891Z"
   },
   {
    "duration": 9,
    "start_time": "2024-03-29T09:45:09.898Z"
   },
   {
    "duration": 1336,
    "start_time": "2024-03-29T16:40:42.871Z"
   },
   {
    "duration": 317,
    "start_time": "2024-03-29T16:40:44.209Z"
   },
   {
    "duration": 7,
    "start_time": "2024-03-29T16:40:44.528Z"
   },
   {
    "duration": 7,
    "start_time": "2024-03-29T16:40:44.537Z"
   },
   {
    "duration": 12,
    "start_time": "2024-03-29T16:40:44.545Z"
   },
   {
    "duration": 22,
    "start_time": "2024-03-29T16:40:44.559Z"
   },
   {
    "duration": 14,
    "start_time": "2024-03-29T16:40:44.582Z"
   },
   {
    "duration": 8,
    "start_time": "2024-03-29T16:40:44.597Z"
   },
   {
    "duration": 8,
    "start_time": "2024-03-29T16:40:44.607Z"
   },
   {
    "duration": 24,
    "start_time": "2024-03-29T16:40:44.617Z"
   },
   {
    "duration": 12,
    "start_time": "2024-03-29T16:40:44.642Z"
   },
   {
    "duration": 14,
    "start_time": "2024-03-29T16:40:44.655Z"
   },
   {
    "duration": 4,
    "start_time": "2024-03-29T16:40:44.671Z"
   },
   {
    "duration": 22,
    "start_time": "2024-03-29T16:40:44.676Z"
   },
   {
    "duration": 5,
    "start_time": "2024-03-29T16:40:44.700Z"
   },
   {
    "duration": 23,
    "start_time": "2024-03-29T16:40:44.706Z"
   },
   {
    "duration": 56,
    "start_time": "2024-03-29T16:40:44.731Z"
   },
   {
    "duration": 15,
    "start_time": "2024-03-29T16:40:44.789Z"
   },
   {
    "duration": 5,
    "start_time": "2024-03-29T16:40:44.806Z"
   },
   {
    "duration": 6,
    "start_time": "2024-03-29T16:40:44.812Z"
   },
   {
    "duration": 4,
    "start_time": "2024-03-29T16:40:44.819Z"
   },
   {
    "duration": 5,
    "start_time": "2024-03-29T16:40:44.824Z"
   },
   {
    "duration": 7,
    "start_time": "2024-03-29T16:40:44.831Z"
   },
   {
    "duration": 4,
    "start_time": "2024-03-29T16:40:44.839Z"
   },
   {
    "duration": 4,
    "start_time": "2024-03-29T16:40:44.844Z"
   },
   {
    "duration": 373,
    "start_time": "2024-03-29T16:40:44.869Z"
   },
   {
    "duration": 6,
    "start_time": "2024-03-29T16:40:45.243Z"
   },
   {
    "duration": 45,
    "start_time": "2024-03-29T16:40:45.252Z"
   },
   {
    "duration": 43,
    "start_time": "2024-03-29T16:40:45.298Z"
   },
   {
    "duration": 237,
    "start_time": "2024-03-29T16:40:45.342Z"
   },
   {
    "duration": 5,
    "start_time": "2024-03-29T16:40:45.580Z"
   },
   {
    "duration": 5,
    "start_time": "2024-03-29T16:40:45.587Z"
   },
   {
    "duration": 343,
    "start_time": "2024-03-29T16:40:45.593Z"
   },
   {
    "duration": 8,
    "start_time": "2024-03-29T16:40:45.937Z"
   },
   {
    "duration": 22,
    "start_time": "2024-03-29T16:40:45.947Z"
   },
   {
    "duration": 200,
    "start_time": "2024-03-29T16:40:45.971Z"
   },
   {
    "duration": 9,
    "start_time": "2024-03-29T16:40:46.172Z"
   },
   {
    "duration": 167,
    "start_time": "2024-03-29T16:40:46.182Z"
   },
   {
    "duration": 39,
    "start_time": "2024-03-29T16:40:46.351Z"
   },
   {
    "duration": 9,
    "start_time": "2024-03-29T16:40:46.392Z"
   },
   {
    "duration": 25,
    "start_time": "2024-03-29T16:40:46.402Z"
   },
   {
    "duration": 25,
    "start_time": "2024-03-29T16:40:46.428Z"
   },
   {
    "duration": 31,
    "start_time": "2024-03-29T16:40:46.454Z"
   },
   {
    "duration": 19,
    "start_time": "2024-03-29T16:40:46.486Z"
   },
   {
    "duration": 78,
    "start_time": "2024-03-29T16:40:46.506Z"
   },
   {
    "duration": 297,
    "start_time": "2024-03-29T16:40:46.585Z"
   },
   {
    "duration": 294,
    "start_time": "2024-03-29T16:40:46.883Z"
   },
   {
    "duration": 15,
    "start_time": "2024-03-29T16:40:47.178Z"
   },
   {
    "duration": 96,
    "start_time": "2024-03-29T16:40:47.195Z"
   },
   {
    "duration": 3,
    "start_time": "2024-03-29T16:40:47.293Z"
   },
   {
    "duration": 90,
    "start_time": "2024-03-29T16:40:47.298Z"
   },
   {
    "duration": 12,
    "start_time": "2024-03-29T16:40:47.390Z"
   },
   {
    "duration": 217,
    "start_time": "2024-03-29T16:40:47.403Z"
   },
   {
    "duration": 280,
    "start_time": "2024-03-29T16:40:47.622Z"
   },
   {
    "duration": 6,
    "start_time": "2024-03-29T16:40:47.904Z"
   },
   {
    "duration": 92,
    "start_time": "2024-03-29T16:40:47.911Z"
   },
   {
    "duration": 175,
    "start_time": "2024-03-29T16:40:48.005Z"
   },
   {
    "duration": 17,
    "start_time": "2024-03-29T16:42:30.592Z"
   },
   {
    "duration": 7,
    "start_time": "2024-03-29T16:43:21.858Z"
   },
   {
    "duration": 8,
    "start_time": "2024-03-29T16:43:44.657Z"
   }
  ],
  "kernelspec": {
   "display_name": "Python 3 (ipykernel)",
   "language": "python",
   "name": "python3"
  },
  "language_info": {
   "codemirror_mode": {
    "name": "ipython",
    "version": 3
   },
   "file_extension": ".py",
   "mimetype": "text/x-python",
   "name": "python",
   "nbconvert_exporter": "python",
   "pygments_lexer": "ipython3",
   "version": "3.11.7"
  },
  "toc": {
   "base_numbering": 1,
   "nav_menu": {},
   "number_sections": true,
   "sideBar": true,
   "skip_h1_title": true,
   "title_cell": "Table of Contents",
   "title_sidebar": "Contents",
   "toc_cell": false,
   "toc_position": {},
   "toc_section_display": true,
   "toc_window_display": false
  }
 },
 "nbformat": 4,
 "nbformat_minor": 5
}
