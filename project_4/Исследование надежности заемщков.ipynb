{
 "cells": [
  {
   "cell_type": "markdown",
   "id": "e1fd9d46",
   "metadata": {
    "deletable": false,
    "editable": false,
    "id": "c81daeeb"
   },
   "source": [
    "# Исследование надежности заемщиков\n"
   ]
  },
  {
   "cell_type": "markdown",
   "id": "d5515138",
   "metadata": {
    "deletable": false,
    "editable": false,
    "id": "827c20bf"
   },
   "source": [
    "Во второй части проекта вы выполните шаги 3 и 4. Их вручную проверит ревьюер.\n",
    "Чтобы вам не пришлось писать код заново для шагов 1 и 2, мы добавили авторские решения в ячейки с кодом. \n",
    "\n"
   ]
  },
  {
   "cell_type": "markdown",
   "id": "e361c5af",
   "metadata": {
    "deletable": false,
    "editable": false,
    "id": "744d7639"
   },
   "source": [
    "## Откройте таблицу и изучите общую информацию о данных"
   ]
  },
  {
   "cell_type": "markdown",
   "id": "39f852fd",
   "metadata": {
    "deletable": false,
    "editable": false,
    "id": "e7a14c31"
   },
   "source": [
    "**Задание 1. Импортируйте библиотеку pandas. Считайте данные из csv-файла в датафрейм и сохраните в переменную `data`. Путь к файлу:**\n",
    "\n",
    "`/datasets/data.csv`"
   ]
  },
  {
   "cell_type": "code",
   "execution_count": 198,
   "id": "41cf0483",
   "metadata": {
    "deletable": false,
    "id": "7bcf75c9"
   },
   "outputs": [
    {
     "data": {
      "text/html": [
       "<div>\n",
       "<style scoped>\n",
       "    .dataframe tbody tr th:only-of-type {\n",
       "        vertical-align: middle;\n",
       "    }\n",
       "\n",
       "    .dataframe tbody tr th {\n",
       "        vertical-align: top;\n",
       "    }\n",
       "\n",
       "    .dataframe thead th {\n",
       "        text-align: right;\n",
       "    }\n",
       "</style>\n",
       "<table border=\"1\" class=\"dataframe\">\n",
       "  <thead>\n",
       "    <tr style=\"text-align: right;\">\n",
       "      <th></th>\n",
       "      <th>children</th>\n",
       "      <th>days_employed</th>\n",
       "      <th>dob_years</th>\n",
       "      <th>education</th>\n",
       "      <th>education_id</th>\n",
       "      <th>family_status</th>\n",
       "      <th>family_status_id</th>\n",
       "      <th>gender</th>\n",
       "      <th>income_type</th>\n",
       "      <th>debt</th>\n",
       "      <th>total_income</th>\n",
       "      <th>purpose</th>\n",
       "    </tr>\n",
       "  </thead>\n",
       "  <tbody>\n",
       "    <tr>\n",
       "      <th>0</th>\n",
       "      <td>1</td>\n",
       "      <td>-8437.673028</td>\n",
       "      <td>42</td>\n",
       "      <td>высшее</td>\n",
       "      <td>0</td>\n",
       "      <td>женат / замужем</td>\n",
       "      <td>0</td>\n",
       "      <td>F</td>\n",
       "      <td>сотрудник</td>\n",
       "      <td>0</td>\n",
       "      <td>253875.639453</td>\n",
       "      <td>покупка жилья</td>\n",
       "    </tr>\n",
       "    <tr>\n",
       "      <th>1</th>\n",
       "      <td>1</td>\n",
       "      <td>-4024.803754</td>\n",
       "      <td>36</td>\n",
       "      <td>среднее</td>\n",
       "      <td>1</td>\n",
       "      <td>женат / замужем</td>\n",
       "      <td>0</td>\n",
       "      <td>F</td>\n",
       "      <td>сотрудник</td>\n",
       "      <td>0</td>\n",
       "      <td>112080.014102</td>\n",
       "      <td>приобретение автомобиля</td>\n",
       "    </tr>\n",
       "    <tr>\n",
       "      <th>2</th>\n",
       "      <td>0</td>\n",
       "      <td>-5623.422610</td>\n",
       "      <td>33</td>\n",
       "      <td>Среднее</td>\n",
       "      <td>1</td>\n",
       "      <td>женат / замужем</td>\n",
       "      <td>0</td>\n",
       "      <td>M</td>\n",
       "      <td>сотрудник</td>\n",
       "      <td>0</td>\n",
       "      <td>145885.952297</td>\n",
       "      <td>покупка жилья</td>\n",
       "    </tr>\n",
       "    <tr>\n",
       "      <th>3</th>\n",
       "      <td>3</td>\n",
       "      <td>-4124.747207</td>\n",
       "      <td>32</td>\n",
       "      <td>среднее</td>\n",
       "      <td>1</td>\n",
       "      <td>женат / замужем</td>\n",
       "      <td>0</td>\n",
       "      <td>M</td>\n",
       "      <td>сотрудник</td>\n",
       "      <td>0</td>\n",
       "      <td>267628.550329</td>\n",
       "      <td>дополнительное образование</td>\n",
       "    </tr>\n",
       "    <tr>\n",
       "      <th>4</th>\n",
       "      <td>0</td>\n",
       "      <td>340266.072047</td>\n",
       "      <td>53</td>\n",
       "      <td>среднее</td>\n",
       "      <td>1</td>\n",
       "      <td>гражданский брак</td>\n",
       "      <td>1</td>\n",
       "      <td>F</td>\n",
       "      <td>пенсионер</td>\n",
       "      <td>0</td>\n",
       "      <td>158616.077870</td>\n",
       "      <td>сыграть свадьбу</td>\n",
       "    </tr>\n",
       "    <tr>\n",
       "      <th>5</th>\n",
       "      <td>0</td>\n",
       "      <td>-926.185831</td>\n",
       "      <td>27</td>\n",
       "      <td>высшее</td>\n",
       "      <td>0</td>\n",
       "      <td>гражданский брак</td>\n",
       "      <td>1</td>\n",
       "      <td>M</td>\n",
       "      <td>компаньон</td>\n",
       "      <td>0</td>\n",
       "      <td>255763.565419</td>\n",
       "      <td>покупка жилья</td>\n",
       "    </tr>\n",
       "    <tr>\n",
       "      <th>6</th>\n",
       "      <td>0</td>\n",
       "      <td>-2879.202052</td>\n",
       "      <td>43</td>\n",
       "      <td>высшее</td>\n",
       "      <td>0</td>\n",
       "      <td>женат / замужем</td>\n",
       "      <td>0</td>\n",
       "      <td>F</td>\n",
       "      <td>компаньон</td>\n",
       "      <td>0</td>\n",
       "      <td>240525.971920</td>\n",
       "      <td>операции с жильем</td>\n",
       "    </tr>\n",
       "    <tr>\n",
       "      <th>7</th>\n",
       "      <td>0</td>\n",
       "      <td>-152.779569</td>\n",
       "      <td>50</td>\n",
       "      <td>СРЕДНЕЕ</td>\n",
       "      <td>1</td>\n",
       "      <td>женат / замужем</td>\n",
       "      <td>0</td>\n",
       "      <td>M</td>\n",
       "      <td>сотрудник</td>\n",
       "      <td>0</td>\n",
       "      <td>135823.934197</td>\n",
       "      <td>образование</td>\n",
       "    </tr>\n",
       "    <tr>\n",
       "      <th>8</th>\n",
       "      <td>2</td>\n",
       "      <td>-6929.865299</td>\n",
       "      <td>35</td>\n",
       "      <td>ВЫСШЕЕ</td>\n",
       "      <td>0</td>\n",
       "      <td>гражданский брак</td>\n",
       "      <td>1</td>\n",
       "      <td>F</td>\n",
       "      <td>сотрудник</td>\n",
       "      <td>0</td>\n",
       "      <td>95856.832424</td>\n",
       "      <td>на проведение свадьбы</td>\n",
       "    </tr>\n",
       "    <tr>\n",
       "      <th>9</th>\n",
       "      <td>0</td>\n",
       "      <td>-2188.756445</td>\n",
       "      <td>41</td>\n",
       "      <td>среднее</td>\n",
       "      <td>1</td>\n",
       "      <td>женат / замужем</td>\n",
       "      <td>0</td>\n",
       "      <td>M</td>\n",
       "      <td>сотрудник</td>\n",
       "      <td>0</td>\n",
       "      <td>144425.938277</td>\n",
       "      <td>покупка жилья для семьи</td>\n",
       "    </tr>\n",
       "  </tbody>\n",
       "</table>\n",
       "</div>"
      ],
      "text/plain": [
       "   children  days_employed  dob_years education  education_id  \\\n",
       "0         1   -8437.673028         42    высшее             0   \n",
       "1         1   -4024.803754         36   среднее             1   \n",
       "2         0   -5623.422610         33   Среднее             1   \n",
       "3         3   -4124.747207         32   среднее             1   \n",
       "4         0  340266.072047         53   среднее             1   \n",
       "5         0    -926.185831         27    высшее             0   \n",
       "6         0   -2879.202052         43    высшее             0   \n",
       "7         0    -152.779569         50   СРЕДНЕЕ             1   \n",
       "8         2   -6929.865299         35    ВЫСШЕЕ             0   \n",
       "9         0   -2188.756445         41   среднее             1   \n",
       "\n",
       "      family_status  family_status_id gender income_type  debt   total_income  \\\n",
       "0   женат / замужем                 0      F   сотрудник     0  253875.639453   \n",
       "1   женат / замужем                 0      F   сотрудник     0  112080.014102   \n",
       "2   женат / замужем                 0      M   сотрудник     0  145885.952297   \n",
       "3   женат / замужем                 0      M   сотрудник     0  267628.550329   \n",
       "4  гражданский брак                 1      F   пенсионер     0  158616.077870   \n",
       "5  гражданский брак                 1      M   компаньон     0  255763.565419   \n",
       "6   женат / замужем                 0      F   компаньон     0  240525.971920   \n",
       "7   женат / замужем                 0      M   сотрудник     0  135823.934197   \n",
       "8  гражданский брак                 1      F   сотрудник     0   95856.832424   \n",
       "9   женат / замужем                 0      M   сотрудник     0  144425.938277   \n",
       "\n",
       "                      purpose  \n",
       "0               покупка жилья  \n",
       "1     приобретение автомобиля  \n",
       "2               покупка жилья  \n",
       "3  дополнительное образование  \n",
       "4             сыграть свадьбу  \n",
       "5               покупка жилья  \n",
       "6           операции с жильем  \n",
       "7                 образование  \n",
       "8       на проведение свадьбы  \n",
       "9     покупка жилья для семьи  "
      ]
     },
     "execution_count": 198,
     "metadata": {},
     "output_type": "execute_result"
    }
   ],
   "source": [
    "import pandas as pd\n",
    "data = pd.read_csv('/datasets/data.csv')\n",
    "data.head(10)\n",
    "\n"
   ]
  },
  {
   "cell_type": "markdown",
   "id": "e5d1fb6b",
   "metadata": {
    "deletable": false,
    "editable": false,
    "id": "b8038fe3"
   },
   "source": [
    "**Задание 2. Выведите первые 20 строчек датафрейма `data` на экран.**"
   ]
  },
  {
   "cell_type": "code",
   "execution_count": 199,
   "id": "a768f18d",
   "metadata": {
    "deletable": false,
    "id": "2a7cab99",
    "outputId": "1a8f3ef2-d323-4ec2-ddf7-89670b5944c4"
   },
   "outputs": [
    {
     "data": {
      "text/html": [
       "<div>\n",
       "<style scoped>\n",
       "    .dataframe tbody tr th:only-of-type {\n",
       "        vertical-align: middle;\n",
       "    }\n",
       "\n",
       "    .dataframe tbody tr th {\n",
       "        vertical-align: top;\n",
       "    }\n",
       "\n",
       "    .dataframe thead th {\n",
       "        text-align: right;\n",
       "    }\n",
       "</style>\n",
       "<table border=\"1\" class=\"dataframe\">\n",
       "  <thead>\n",
       "    <tr style=\"text-align: right;\">\n",
       "      <th></th>\n",
       "      <th>children</th>\n",
       "      <th>days_employed</th>\n",
       "      <th>dob_years</th>\n",
       "      <th>education</th>\n",
       "      <th>education_id</th>\n",
       "      <th>family_status</th>\n",
       "      <th>family_status_id</th>\n",
       "      <th>gender</th>\n",
       "      <th>income_type</th>\n",
       "      <th>debt</th>\n",
       "      <th>total_income</th>\n",
       "      <th>purpose</th>\n",
       "    </tr>\n",
       "  </thead>\n",
       "  <tbody>\n",
       "    <tr>\n",
       "      <th>0</th>\n",
       "      <td>1</td>\n",
       "      <td>-8437.673028</td>\n",
       "      <td>42</td>\n",
       "      <td>высшее</td>\n",
       "      <td>0</td>\n",
       "      <td>женат / замужем</td>\n",
       "      <td>0</td>\n",
       "      <td>F</td>\n",
       "      <td>сотрудник</td>\n",
       "      <td>0</td>\n",
       "      <td>253875.639453</td>\n",
       "      <td>покупка жилья</td>\n",
       "    </tr>\n",
       "    <tr>\n",
       "      <th>1</th>\n",
       "      <td>1</td>\n",
       "      <td>-4024.803754</td>\n",
       "      <td>36</td>\n",
       "      <td>среднее</td>\n",
       "      <td>1</td>\n",
       "      <td>женат / замужем</td>\n",
       "      <td>0</td>\n",
       "      <td>F</td>\n",
       "      <td>сотрудник</td>\n",
       "      <td>0</td>\n",
       "      <td>112080.014102</td>\n",
       "      <td>приобретение автомобиля</td>\n",
       "    </tr>\n",
       "    <tr>\n",
       "      <th>2</th>\n",
       "      <td>0</td>\n",
       "      <td>-5623.422610</td>\n",
       "      <td>33</td>\n",
       "      <td>Среднее</td>\n",
       "      <td>1</td>\n",
       "      <td>женат / замужем</td>\n",
       "      <td>0</td>\n",
       "      <td>M</td>\n",
       "      <td>сотрудник</td>\n",
       "      <td>0</td>\n",
       "      <td>145885.952297</td>\n",
       "      <td>покупка жилья</td>\n",
       "    </tr>\n",
       "    <tr>\n",
       "      <th>3</th>\n",
       "      <td>3</td>\n",
       "      <td>-4124.747207</td>\n",
       "      <td>32</td>\n",
       "      <td>среднее</td>\n",
       "      <td>1</td>\n",
       "      <td>женат / замужем</td>\n",
       "      <td>0</td>\n",
       "      <td>M</td>\n",
       "      <td>сотрудник</td>\n",
       "      <td>0</td>\n",
       "      <td>267628.550329</td>\n",
       "      <td>дополнительное образование</td>\n",
       "    </tr>\n",
       "    <tr>\n",
       "      <th>4</th>\n",
       "      <td>0</td>\n",
       "      <td>340266.072047</td>\n",
       "      <td>53</td>\n",
       "      <td>среднее</td>\n",
       "      <td>1</td>\n",
       "      <td>гражданский брак</td>\n",
       "      <td>1</td>\n",
       "      <td>F</td>\n",
       "      <td>пенсионер</td>\n",
       "      <td>0</td>\n",
       "      <td>158616.077870</td>\n",
       "      <td>сыграть свадьбу</td>\n",
       "    </tr>\n",
       "    <tr>\n",
       "      <th>5</th>\n",
       "      <td>0</td>\n",
       "      <td>-926.185831</td>\n",
       "      <td>27</td>\n",
       "      <td>высшее</td>\n",
       "      <td>0</td>\n",
       "      <td>гражданский брак</td>\n",
       "      <td>1</td>\n",
       "      <td>M</td>\n",
       "      <td>компаньон</td>\n",
       "      <td>0</td>\n",
       "      <td>255763.565419</td>\n",
       "      <td>покупка жилья</td>\n",
       "    </tr>\n",
       "    <tr>\n",
       "      <th>6</th>\n",
       "      <td>0</td>\n",
       "      <td>-2879.202052</td>\n",
       "      <td>43</td>\n",
       "      <td>высшее</td>\n",
       "      <td>0</td>\n",
       "      <td>женат / замужем</td>\n",
       "      <td>0</td>\n",
       "      <td>F</td>\n",
       "      <td>компаньон</td>\n",
       "      <td>0</td>\n",
       "      <td>240525.971920</td>\n",
       "      <td>операции с жильем</td>\n",
       "    </tr>\n",
       "    <tr>\n",
       "      <th>7</th>\n",
       "      <td>0</td>\n",
       "      <td>-152.779569</td>\n",
       "      <td>50</td>\n",
       "      <td>СРЕДНЕЕ</td>\n",
       "      <td>1</td>\n",
       "      <td>женат / замужем</td>\n",
       "      <td>0</td>\n",
       "      <td>M</td>\n",
       "      <td>сотрудник</td>\n",
       "      <td>0</td>\n",
       "      <td>135823.934197</td>\n",
       "      <td>образование</td>\n",
       "    </tr>\n",
       "    <tr>\n",
       "      <th>8</th>\n",
       "      <td>2</td>\n",
       "      <td>-6929.865299</td>\n",
       "      <td>35</td>\n",
       "      <td>ВЫСШЕЕ</td>\n",
       "      <td>0</td>\n",
       "      <td>гражданский брак</td>\n",
       "      <td>1</td>\n",
       "      <td>F</td>\n",
       "      <td>сотрудник</td>\n",
       "      <td>0</td>\n",
       "      <td>95856.832424</td>\n",
       "      <td>на проведение свадьбы</td>\n",
       "    </tr>\n",
       "    <tr>\n",
       "      <th>9</th>\n",
       "      <td>0</td>\n",
       "      <td>-2188.756445</td>\n",
       "      <td>41</td>\n",
       "      <td>среднее</td>\n",
       "      <td>1</td>\n",
       "      <td>женат / замужем</td>\n",
       "      <td>0</td>\n",
       "      <td>M</td>\n",
       "      <td>сотрудник</td>\n",
       "      <td>0</td>\n",
       "      <td>144425.938277</td>\n",
       "      <td>покупка жилья для семьи</td>\n",
       "    </tr>\n",
       "    <tr>\n",
       "      <th>10</th>\n",
       "      <td>2</td>\n",
       "      <td>-4171.483647</td>\n",
       "      <td>36</td>\n",
       "      <td>высшее</td>\n",
       "      <td>0</td>\n",
       "      <td>женат / замужем</td>\n",
       "      <td>0</td>\n",
       "      <td>M</td>\n",
       "      <td>компаньон</td>\n",
       "      <td>0</td>\n",
       "      <td>113943.491460</td>\n",
       "      <td>покупка недвижимости</td>\n",
       "    </tr>\n",
       "    <tr>\n",
       "      <th>11</th>\n",
       "      <td>0</td>\n",
       "      <td>-792.701887</td>\n",
       "      <td>40</td>\n",
       "      <td>среднее</td>\n",
       "      <td>1</td>\n",
       "      <td>женат / замужем</td>\n",
       "      <td>0</td>\n",
       "      <td>F</td>\n",
       "      <td>сотрудник</td>\n",
       "      <td>0</td>\n",
       "      <td>77069.234271</td>\n",
       "      <td>покупка коммерческой недвижимости</td>\n",
       "    </tr>\n",
       "    <tr>\n",
       "      <th>12</th>\n",
       "      <td>0</td>\n",
       "      <td>NaN</td>\n",
       "      <td>65</td>\n",
       "      <td>среднее</td>\n",
       "      <td>1</td>\n",
       "      <td>гражданский брак</td>\n",
       "      <td>1</td>\n",
       "      <td>M</td>\n",
       "      <td>пенсионер</td>\n",
       "      <td>0</td>\n",
       "      <td>NaN</td>\n",
       "      <td>сыграть свадьбу</td>\n",
       "    </tr>\n",
       "    <tr>\n",
       "      <th>13</th>\n",
       "      <td>0</td>\n",
       "      <td>-1846.641941</td>\n",
       "      <td>54</td>\n",
       "      <td>неоконченное высшее</td>\n",
       "      <td>2</td>\n",
       "      <td>женат / замужем</td>\n",
       "      <td>0</td>\n",
       "      <td>F</td>\n",
       "      <td>сотрудник</td>\n",
       "      <td>0</td>\n",
       "      <td>130458.228857</td>\n",
       "      <td>приобретение автомобиля</td>\n",
       "    </tr>\n",
       "    <tr>\n",
       "      <th>14</th>\n",
       "      <td>0</td>\n",
       "      <td>-1844.956182</td>\n",
       "      <td>56</td>\n",
       "      <td>высшее</td>\n",
       "      <td>0</td>\n",
       "      <td>гражданский брак</td>\n",
       "      <td>1</td>\n",
       "      <td>F</td>\n",
       "      <td>компаньон</td>\n",
       "      <td>1</td>\n",
       "      <td>165127.911772</td>\n",
       "      <td>покупка жилой недвижимости</td>\n",
       "    </tr>\n",
       "    <tr>\n",
       "      <th>15</th>\n",
       "      <td>1</td>\n",
       "      <td>-972.364419</td>\n",
       "      <td>26</td>\n",
       "      <td>среднее</td>\n",
       "      <td>1</td>\n",
       "      <td>женат / замужем</td>\n",
       "      <td>0</td>\n",
       "      <td>F</td>\n",
       "      <td>сотрудник</td>\n",
       "      <td>0</td>\n",
       "      <td>116820.904450</td>\n",
       "      <td>строительство собственной недвижимости</td>\n",
       "    </tr>\n",
       "    <tr>\n",
       "      <th>16</th>\n",
       "      <td>0</td>\n",
       "      <td>-1719.934226</td>\n",
       "      <td>35</td>\n",
       "      <td>среднее</td>\n",
       "      <td>1</td>\n",
       "      <td>женат / замужем</td>\n",
       "      <td>0</td>\n",
       "      <td>F</td>\n",
       "      <td>сотрудник</td>\n",
       "      <td>0</td>\n",
       "      <td>289202.704229</td>\n",
       "      <td>недвижимость</td>\n",
       "    </tr>\n",
       "    <tr>\n",
       "      <th>17</th>\n",
       "      <td>0</td>\n",
       "      <td>-2369.999720</td>\n",
       "      <td>33</td>\n",
       "      <td>высшее</td>\n",
       "      <td>0</td>\n",
       "      <td>гражданский брак</td>\n",
       "      <td>1</td>\n",
       "      <td>M</td>\n",
       "      <td>сотрудник</td>\n",
       "      <td>0</td>\n",
       "      <td>90410.586745</td>\n",
       "      <td>строительство недвижимости</td>\n",
       "    </tr>\n",
       "    <tr>\n",
       "      <th>18</th>\n",
       "      <td>0</td>\n",
       "      <td>400281.136913</td>\n",
       "      <td>53</td>\n",
       "      <td>среднее</td>\n",
       "      <td>1</td>\n",
       "      <td>вдовец / вдова</td>\n",
       "      <td>2</td>\n",
       "      <td>F</td>\n",
       "      <td>пенсионер</td>\n",
       "      <td>0</td>\n",
       "      <td>56823.777243</td>\n",
       "      <td>на покупку подержанного автомобиля</td>\n",
       "    </tr>\n",
       "    <tr>\n",
       "      <th>19</th>\n",
       "      <td>0</td>\n",
       "      <td>-10038.818549</td>\n",
       "      <td>48</td>\n",
       "      <td>СРЕДНЕЕ</td>\n",
       "      <td>1</td>\n",
       "      <td>в разводе</td>\n",
       "      <td>3</td>\n",
       "      <td>F</td>\n",
       "      <td>сотрудник</td>\n",
       "      <td>0</td>\n",
       "      <td>242831.107982</td>\n",
       "      <td>на покупку своего автомобиля</td>\n",
       "    </tr>\n",
       "  </tbody>\n",
       "</table>\n",
       "</div>"
      ],
      "text/plain": [
       "    children  days_employed  dob_years            education  education_id  \\\n",
       "0          1   -8437.673028         42               высшее             0   \n",
       "1          1   -4024.803754         36              среднее             1   \n",
       "2          0   -5623.422610         33              Среднее             1   \n",
       "3          3   -4124.747207         32              среднее             1   \n",
       "4          0  340266.072047         53              среднее             1   \n",
       "5          0    -926.185831         27               высшее             0   \n",
       "6          0   -2879.202052         43               высшее             0   \n",
       "7          0    -152.779569         50              СРЕДНЕЕ             1   \n",
       "8          2   -6929.865299         35               ВЫСШЕЕ             0   \n",
       "9          0   -2188.756445         41              среднее             1   \n",
       "10         2   -4171.483647         36               высшее             0   \n",
       "11         0    -792.701887         40              среднее             1   \n",
       "12         0            NaN         65              среднее             1   \n",
       "13         0   -1846.641941         54  неоконченное высшее             2   \n",
       "14         0   -1844.956182         56               высшее             0   \n",
       "15         1    -972.364419         26              среднее             1   \n",
       "16         0   -1719.934226         35              среднее             1   \n",
       "17         0   -2369.999720         33               высшее             0   \n",
       "18         0  400281.136913         53              среднее             1   \n",
       "19         0  -10038.818549         48              СРЕДНЕЕ             1   \n",
       "\n",
       "       family_status  family_status_id gender income_type  debt  \\\n",
       "0    женат / замужем                 0      F   сотрудник     0   \n",
       "1    женат / замужем                 0      F   сотрудник     0   \n",
       "2    женат / замужем                 0      M   сотрудник     0   \n",
       "3    женат / замужем                 0      M   сотрудник     0   \n",
       "4   гражданский брак                 1      F   пенсионер     0   \n",
       "5   гражданский брак                 1      M   компаньон     0   \n",
       "6    женат / замужем                 0      F   компаньон     0   \n",
       "7    женат / замужем                 0      M   сотрудник     0   \n",
       "8   гражданский брак                 1      F   сотрудник     0   \n",
       "9    женат / замужем                 0      M   сотрудник     0   \n",
       "10   женат / замужем                 0      M   компаньон     0   \n",
       "11   женат / замужем                 0      F   сотрудник     0   \n",
       "12  гражданский брак                 1      M   пенсионер     0   \n",
       "13   женат / замужем                 0      F   сотрудник     0   \n",
       "14  гражданский брак                 1      F   компаньон     1   \n",
       "15   женат / замужем                 0      F   сотрудник     0   \n",
       "16   женат / замужем                 0      F   сотрудник     0   \n",
       "17  гражданский брак                 1      M   сотрудник     0   \n",
       "18    вдовец / вдова                 2      F   пенсионер     0   \n",
       "19         в разводе                 3      F   сотрудник     0   \n",
       "\n",
       "     total_income                                 purpose  \n",
       "0   253875.639453                           покупка жилья  \n",
       "1   112080.014102                 приобретение автомобиля  \n",
       "2   145885.952297                           покупка жилья  \n",
       "3   267628.550329              дополнительное образование  \n",
       "4   158616.077870                         сыграть свадьбу  \n",
       "5   255763.565419                           покупка жилья  \n",
       "6   240525.971920                       операции с жильем  \n",
       "7   135823.934197                             образование  \n",
       "8    95856.832424                   на проведение свадьбы  \n",
       "9   144425.938277                 покупка жилья для семьи  \n",
       "10  113943.491460                    покупка недвижимости  \n",
       "11   77069.234271       покупка коммерческой недвижимости  \n",
       "12            NaN                         сыграть свадьбу  \n",
       "13  130458.228857                 приобретение автомобиля  \n",
       "14  165127.911772              покупка жилой недвижимости  \n",
       "15  116820.904450  строительство собственной недвижимости  \n",
       "16  289202.704229                            недвижимость  \n",
       "17   90410.586745              строительство недвижимости  \n",
       "18   56823.777243      на покупку подержанного автомобиля  \n",
       "19  242831.107982            на покупку своего автомобиля  "
      ]
     },
     "execution_count": 199,
     "metadata": {},
     "output_type": "execute_result"
    }
   ],
   "source": [
    "data.head(20)"
   ]
  },
  {
   "cell_type": "markdown",
   "id": "d13e21cf",
   "metadata": {
    "deletable": false,
    "editable": false,
    "id": "1c12e233"
   },
   "source": [
    "**Задание 3. Выведите основную информацию о датафрейме с помощью метода `info()`.**"
   ]
  },
  {
   "cell_type": "code",
   "execution_count": 200,
   "id": "030748bb",
   "metadata": {
    "deletable": false,
    "id": "2b757bca",
    "outputId": "15376089-8dad-46c9-b520-c05248d43158"
   },
   "outputs": [
    {
     "name": "stdout",
     "output_type": "stream",
     "text": [
      "<class 'pandas.core.frame.DataFrame'>\n",
      "RangeIndex: 21525 entries, 0 to 21524\n",
      "Data columns (total 12 columns):\n",
      " #   Column            Non-Null Count  Dtype  \n",
      "---  ------            --------------  -----  \n",
      " 0   children          21525 non-null  int64  \n",
      " 1   days_employed     19351 non-null  float64\n",
      " 2   dob_years         21525 non-null  int64  \n",
      " 3   education         21525 non-null  object \n",
      " 4   education_id      21525 non-null  int64  \n",
      " 5   family_status     21525 non-null  object \n",
      " 6   family_status_id  21525 non-null  int64  \n",
      " 7   gender            21525 non-null  object \n",
      " 8   income_type       21525 non-null  object \n",
      " 9   debt              21525 non-null  int64  \n",
      " 10  total_income      19351 non-null  float64\n",
      " 11  purpose           21525 non-null  object \n",
      "dtypes: float64(2), int64(5), object(5)\n",
      "memory usage: 2.0+ MB\n"
     ]
    }
   ],
   "source": [
    "data.info()"
   ]
  },
  {
   "cell_type": "markdown",
   "id": "d42f9128",
   "metadata": {
    "deletable": false,
    "editable": false,
    "id": "333ec665"
   },
   "source": [
    "## Предобработка данных"
   ]
  },
  {
   "cell_type": "markdown",
   "id": "a4ce8b2a",
   "metadata": {
    "deletable": false,
    "editable": false,
    "id": "02d92d53"
   },
   "source": [
    "### Удаление пропусков"
   ]
  },
  {
   "cell_type": "markdown",
   "id": "5b868b0d",
   "metadata": {
    "deletable": false,
    "editable": false,
    "id": "cd84967c"
   },
   "source": [
    "**Задание 4. Выведите количество пропущенных значений для каждого столбца. Используйте комбинацию двух методов.**"
   ]
  },
  {
   "cell_type": "code",
   "execution_count": 201,
   "id": "98b97e5d",
   "metadata": {
    "deletable": false,
    "id": "7f9b2309",
    "outputId": "81f4d817-781c-465c-ed15-91ce4446810d"
   },
   "outputs": [
    {
     "data": {
      "text/plain": [
       "children               0\n",
       "days_employed       2174\n",
       "dob_years              0\n",
       "education              0\n",
       "education_id           0\n",
       "family_status          0\n",
       "family_status_id       0\n",
       "gender                 0\n",
       "income_type            0\n",
       "debt                   0\n",
       "total_income        2174\n",
       "purpose                0\n",
       "dtype: int64"
      ]
     },
     "execution_count": 201,
     "metadata": {},
     "output_type": "execute_result"
    }
   ],
   "source": [
    "data.isna().sum()"
   ]
  },
  {
   "cell_type": "markdown",
   "id": "6da21dbc",
   "metadata": {
    "deletable": false,
    "editable": false,
    "id": "db86e27b"
   },
   "source": [
    "**Задание 5. В двух столбцах есть пропущенные значения. Один из них — `days_employed`. Пропуски в этом столбце вы обработаете на следующем этапе. Другой столбец с пропущенными значениями — `total_income` — хранит данные о доходах. На сумму дохода сильнее всего влияет тип занятости, поэтому заполнить пропуски в этом столбце нужно медианным значением по каждому типу из столбца `income_type`. Например, у человека с типом занятости `сотрудник` пропуск в столбце `total_income` должен быть заполнен медианным доходом среди всех записей с тем же типом.**"
   ]
  },
  {
   "cell_type": "code",
   "execution_count": 202,
   "id": "10c70d6b",
   "metadata": {
    "deletable": false,
    "id": "42006a93"
   },
   "outputs": [],
   "source": [
    "for t in data['income_type'].unique():\n",
    "    data.loc[(data['income_type'] == t) & (data['total_income'].isna()), 'total_income'] = \\\n",
    "    data.loc[(data['income_type'] == t), 'total_income'].median()"
   ]
  },
  {
   "cell_type": "markdown",
   "id": "dd561f88",
   "metadata": {
    "deletable": false,
    "editable": false,
    "id": "89da5ece"
   },
   "source": [
    "### Обработка аномальных значений"
   ]
  },
  {
   "cell_type": "markdown",
   "id": "3743ba4d",
   "metadata": {
    "deletable": false,
    "editable": false,
    "id": "57964554"
   },
   "source": [
    "**Задание 6. В данных могут встречаться артефакты (аномалии) — значения, которые не отражают действительность и появились по какой-то ошибке. таким артефактом будет отрицательное количество дней трудового стажа в столбце `days_employed`. Для реальных данных это нормально. Обработайте значения в этом столбце: замените все отрицательные значения положительными с помощью метода `abs()`.**"
   ]
  },
  {
   "cell_type": "code",
   "execution_count": 203,
   "id": "e55c748a",
   "metadata": {
    "deletable": false,
    "id": "f6f055bf"
   },
   "outputs": [],
   "source": [
    "data['days_employed'] = data['days_employed'].abs()"
   ]
  },
  {
   "cell_type": "markdown",
   "id": "261de776",
   "metadata": {
    "deletable": false,
    "editable": false,
    "id": "6107dd2f"
   },
   "source": [
    "**Задание 7. Для каждого типа занятости выведите медианное значение трудового стажа `days_employed` в днях.**"
   ]
  },
  {
   "cell_type": "code",
   "execution_count": 204,
   "id": "b07a217a",
   "metadata": {
    "deletable": false,
    "id": "85a5faf6",
    "outputId": "801ef80e-522b-4668-f34e-565af7432bcf"
   },
   "outputs": [
    {
     "data": {
      "text/plain": [
       "income_type\n",
       "безработный        366413.652744\n",
       "в декрете            3296.759962\n",
       "госслужащий          2689.368353\n",
       "компаньон            1547.382223\n",
       "пенсионер          365213.306266\n",
       "предприниматель       520.848083\n",
       "сотрудник            1574.202821\n",
       "студент               578.751554\n",
       "Name: days_employed, dtype: float64"
      ]
     },
     "execution_count": 204,
     "metadata": {},
     "output_type": "execute_result"
    }
   ],
   "source": [
    "data.groupby('income_type')['days_employed'].agg('median')"
   ]
  },
  {
   "cell_type": "markdown",
   "id": "f4c36bb0",
   "metadata": {
    "deletable": false,
    "editable": false,
    "id": "38d1a030"
   },
   "source": [
    "У двух типов (безработные и пенсионеры) получатся аномально большие значения. Исправить такие значения сложно, поэтому оставьте их как есть. Тем более этот столбец не понадобится вам для исследования."
   ]
  },
  {
   "cell_type": "markdown",
   "id": "de60d877",
   "metadata": {
    "deletable": false,
    "editable": false,
    "id": "d8a9f147"
   },
   "source": [
    "**Задание 8. Выведите перечень уникальных значений столбца `children`.**"
   ]
  },
  {
   "cell_type": "code",
   "execution_count": 205,
   "id": "ec0e0496",
   "metadata": {
    "deletable": false,
    "id": "ef5056eb",
    "outputId": "6975b15c-7f95-4697-d16d-a0c79b657b03"
   },
   "outputs": [
    {
     "name": "stdout",
     "output_type": "stream",
     "text": [
      "[ 1  0  3  2 -1  4 20  5]\n"
     ]
    }
   ],
   "source": [
    "print(data['children'].unique())\n",
    "\n"
   ]
  },
  {
   "cell_type": "markdown",
   "id": "f0d731bb",
   "metadata": {
    "deletable": false,
    "editable": false,
    "id": "40b9ebf2"
   },
   "source": [
    "**Задание 9. В столбце `children` есть два аномальных значения. Удалите строки, в которых встречаются такие аномальные значения из датафрейма `data`.**"
   ]
  },
  {
   "cell_type": "code",
   "execution_count": 206,
   "id": "9695668f",
   "metadata": {
    "deletable": false,
    "id": "3ff9801d"
   },
   "outputs": [
    {
     "data": {
      "text/html": [
       "<div>\n",
       "<style scoped>\n",
       "    .dataframe tbody tr th:only-of-type {\n",
       "        vertical-align: middle;\n",
       "    }\n",
       "\n",
       "    .dataframe tbody tr th {\n",
       "        vertical-align: top;\n",
       "    }\n",
       "\n",
       "    .dataframe thead th {\n",
       "        text-align: right;\n",
       "    }\n",
       "</style>\n",
       "<table border=\"1\" class=\"dataframe\">\n",
       "  <thead>\n",
       "    <tr style=\"text-align: right;\">\n",
       "      <th></th>\n",
       "      <th>children</th>\n",
       "      <th>days_employed</th>\n",
       "      <th>dob_years</th>\n",
       "      <th>education</th>\n",
       "      <th>education_id</th>\n",
       "      <th>family_status</th>\n",
       "      <th>family_status_id</th>\n",
       "      <th>gender</th>\n",
       "      <th>income_type</th>\n",
       "      <th>debt</th>\n",
       "      <th>total_income</th>\n",
       "      <th>purpose</th>\n",
       "    </tr>\n",
       "  </thead>\n",
       "  <tbody>\n",
       "    <tr>\n",
       "      <th>0</th>\n",
       "      <td>1</td>\n",
       "      <td>8437.673028</td>\n",
       "      <td>42</td>\n",
       "      <td>высшее</td>\n",
       "      <td>0</td>\n",
       "      <td>женат / замужем</td>\n",
       "      <td>0</td>\n",
       "      <td>F</td>\n",
       "      <td>сотрудник</td>\n",
       "      <td>0</td>\n",
       "      <td>253875.639453</td>\n",
       "      <td>покупка жилья</td>\n",
       "    </tr>\n",
       "    <tr>\n",
       "      <th>1</th>\n",
       "      <td>1</td>\n",
       "      <td>4024.803754</td>\n",
       "      <td>36</td>\n",
       "      <td>среднее</td>\n",
       "      <td>1</td>\n",
       "      <td>женат / замужем</td>\n",
       "      <td>0</td>\n",
       "      <td>F</td>\n",
       "      <td>сотрудник</td>\n",
       "      <td>0</td>\n",
       "      <td>112080.014102</td>\n",
       "      <td>приобретение автомобиля</td>\n",
       "    </tr>\n",
       "    <tr>\n",
       "      <th>2</th>\n",
       "      <td>0</td>\n",
       "      <td>5623.422610</td>\n",
       "      <td>33</td>\n",
       "      <td>Среднее</td>\n",
       "      <td>1</td>\n",
       "      <td>женат / замужем</td>\n",
       "      <td>0</td>\n",
       "      <td>M</td>\n",
       "      <td>сотрудник</td>\n",
       "      <td>0</td>\n",
       "      <td>145885.952297</td>\n",
       "      <td>покупка жилья</td>\n",
       "    </tr>\n",
       "    <tr>\n",
       "      <th>3</th>\n",
       "      <td>3</td>\n",
       "      <td>4124.747207</td>\n",
       "      <td>32</td>\n",
       "      <td>среднее</td>\n",
       "      <td>1</td>\n",
       "      <td>женат / замужем</td>\n",
       "      <td>0</td>\n",
       "      <td>M</td>\n",
       "      <td>сотрудник</td>\n",
       "      <td>0</td>\n",
       "      <td>267628.550329</td>\n",
       "      <td>дополнительное образование</td>\n",
       "    </tr>\n",
       "    <tr>\n",
       "      <th>4</th>\n",
       "      <td>0</td>\n",
       "      <td>340266.072047</td>\n",
       "      <td>53</td>\n",
       "      <td>среднее</td>\n",
       "      <td>1</td>\n",
       "      <td>гражданский брак</td>\n",
       "      <td>1</td>\n",
       "      <td>F</td>\n",
       "      <td>пенсионер</td>\n",
       "      <td>0</td>\n",
       "      <td>158616.077870</td>\n",
       "      <td>сыграть свадьбу</td>\n",
       "    </tr>\n",
       "    <tr>\n",
       "      <th>...</th>\n",
       "      <td>...</td>\n",
       "      <td>...</td>\n",
       "      <td>...</td>\n",
       "      <td>...</td>\n",
       "      <td>...</td>\n",
       "      <td>...</td>\n",
       "      <td>...</td>\n",
       "      <td>...</td>\n",
       "      <td>...</td>\n",
       "      <td>...</td>\n",
       "      <td>...</td>\n",
       "      <td>...</td>\n",
       "    </tr>\n",
       "    <tr>\n",
       "      <th>21520</th>\n",
       "      <td>1</td>\n",
       "      <td>4529.316663</td>\n",
       "      <td>43</td>\n",
       "      <td>среднее</td>\n",
       "      <td>1</td>\n",
       "      <td>гражданский брак</td>\n",
       "      <td>1</td>\n",
       "      <td>F</td>\n",
       "      <td>компаньон</td>\n",
       "      <td>0</td>\n",
       "      <td>224791.862382</td>\n",
       "      <td>операции с жильем</td>\n",
       "    </tr>\n",
       "    <tr>\n",
       "      <th>21521</th>\n",
       "      <td>0</td>\n",
       "      <td>343937.404131</td>\n",
       "      <td>67</td>\n",
       "      <td>среднее</td>\n",
       "      <td>1</td>\n",
       "      <td>женат / замужем</td>\n",
       "      <td>0</td>\n",
       "      <td>F</td>\n",
       "      <td>пенсионер</td>\n",
       "      <td>0</td>\n",
       "      <td>155999.806512</td>\n",
       "      <td>сделка с автомобилем</td>\n",
       "    </tr>\n",
       "    <tr>\n",
       "      <th>21522</th>\n",
       "      <td>1</td>\n",
       "      <td>2113.346888</td>\n",
       "      <td>38</td>\n",
       "      <td>среднее</td>\n",
       "      <td>1</td>\n",
       "      <td>гражданский брак</td>\n",
       "      <td>1</td>\n",
       "      <td>M</td>\n",
       "      <td>сотрудник</td>\n",
       "      <td>1</td>\n",
       "      <td>89672.561153</td>\n",
       "      <td>недвижимость</td>\n",
       "    </tr>\n",
       "    <tr>\n",
       "      <th>21523</th>\n",
       "      <td>3</td>\n",
       "      <td>3112.481705</td>\n",
       "      <td>38</td>\n",
       "      <td>среднее</td>\n",
       "      <td>1</td>\n",
       "      <td>женат / замужем</td>\n",
       "      <td>0</td>\n",
       "      <td>M</td>\n",
       "      <td>сотрудник</td>\n",
       "      <td>1</td>\n",
       "      <td>244093.050500</td>\n",
       "      <td>на покупку своего автомобиля</td>\n",
       "    </tr>\n",
       "    <tr>\n",
       "      <th>21524</th>\n",
       "      <td>2</td>\n",
       "      <td>1984.507589</td>\n",
       "      <td>40</td>\n",
       "      <td>среднее</td>\n",
       "      <td>1</td>\n",
       "      <td>женат / замужем</td>\n",
       "      <td>0</td>\n",
       "      <td>F</td>\n",
       "      <td>сотрудник</td>\n",
       "      <td>0</td>\n",
       "      <td>82047.418899</td>\n",
       "      <td>на покупку автомобиля</td>\n",
       "    </tr>\n",
       "  </tbody>\n",
       "</table>\n",
       "<p>21402 rows × 12 columns</p>\n",
       "</div>"
      ],
      "text/plain": [
       "       children  days_employed  dob_years education  education_id  \\\n",
       "0             1    8437.673028         42    высшее             0   \n",
       "1             1    4024.803754         36   среднее             1   \n",
       "2             0    5623.422610         33   Среднее             1   \n",
       "3             3    4124.747207         32   среднее             1   \n",
       "4             0  340266.072047         53   среднее             1   \n",
       "...         ...            ...        ...       ...           ...   \n",
       "21520         1    4529.316663         43   среднее             1   \n",
       "21521         0  343937.404131         67   среднее             1   \n",
       "21522         1    2113.346888         38   среднее             1   \n",
       "21523         3    3112.481705         38   среднее             1   \n",
       "21524         2    1984.507589         40   среднее             1   \n",
       "\n",
       "          family_status  family_status_id gender income_type  debt  \\\n",
       "0       женат / замужем                 0      F   сотрудник     0   \n",
       "1       женат / замужем                 0      F   сотрудник     0   \n",
       "2       женат / замужем                 0      M   сотрудник     0   \n",
       "3       женат / замужем                 0      M   сотрудник     0   \n",
       "4      гражданский брак                 1      F   пенсионер     0   \n",
       "...                 ...               ...    ...         ...   ...   \n",
       "21520  гражданский брак                 1      F   компаньон     0   \n",
       "21521   женат / замужем                 0      F   пенсионер     0   \n",
       "21522  гражданский брак                 1      M   сотрудник     1   \n",
       "21523   женат / замужем                 0      M   сотрудник     1   \n",
       "21524   женат / замужем                 0      F   сотрудник     0   \n",
       "\n",
       "        total_income                       purpose  \n",
       "0      253875.639453                 покупка жилья  \n",
       "1      112080.014102       приобретение автомобиля  \n",
       "2      145885.952297                 покупка жилья  \n",
       "3      267628.550329    дополнительное образование  \n",
       "4      158616.077870               сыграть свадьбу  \n",
       "...              ...                           ...  \n",
       "21520  224791.862382             операции с жильем  \n",
       "21521  155999.806512          сделка с автомобилем  \n",
       "21522   89672.561153                  недвижимость  \n",
       "21523  244093.050500  на покупку своего автомобиля  \n",
       "21524   82047.418899         на покупку автомобиля  \n",
       "\n",
       "[21402 rows x 12 columns]"
      ]
     },
     "execution_count": 206,
     "metadata": {},
     "output_type": "execute_result"
    }
   ],
   "source": [
    "data = data[(data['children'] != -1) & (data['children'] != 20)]\n",
    "data"
   ]
  },
  {
   "cell_type": "markdown",
   "id": "8164cc12",
   "metadata": {
    "deletable": false,
    "editable": false,
    "id": "bbc4d0ce"
   },
   "source": [
    "**Задание 10. Ещё раз выведите перечень уникальных значений столбца `children`, чтобы убедиться, что артефакты удалены.**"
   ]
  },
  {
   "cell_type": "code",
   "execution_count": 207,
   "id": "713a1111",
   "metadata": {
    "deletable": false,
    "id": "ad4fa8b7",
    "outputId": "b2097101-d49d-44d9-901b-32a65c9463d1"
   },
   "outputs": [
    {
     "data": {
      "text/plain": [
       "array([1, 0, 3, 2, 4, 5])"
      ]
     },
     "execution_count": 207,
     "metadata": {},
     "output_type": "execute_result"
    }
   ],
   "source": [
    "data['children'].unique()"
   ]
  },
  {
   "cell_type": "markdown",
   "id": "41192695",
   "metadata": {
    "deletable": false,
    "editable": false,
    "id": "75440b63"
   },
   "source": [
    "### Удаление пропусков (продолжение)"
   ]
  },
  {
   "cell_type": "markdown",
   "id": "2b271371",
   "metadata": {
    "deletable": false,
    "editable": false,
    "id": "f4ea573f"
   },
   "source": [
    "**Задание 11. Заполните пропуски в столбце `days_employed` медианными значениями по каждого типа занятости `income_type`.**"
   ]
  },
  {
   "cell_type": "code",
   "execution_count": 208,
   "id": "dade22e3",
   "metadata": {
    "deletable": false,
    "id": "af6b1a7e"
   },
   "outputs": [],
   "source": [
    "for t in data['income_type'].unique():\n",
    "    data.loc[(data['income_type'] == t) & (data['days_employed'].isna()), 'days_employed'] = \\\n",
    "    data.loc[(data['income_type'] == t), 'days_employed'].median()"
   ]
  },
  {
   "cell_type": "markdown",
   "id": "29366a2f",
   "metadata": {
    "deletable": false,
    "editable": false,
    "id": "2753f40d"
   },
   "source": [
    "**Задание 12. Убедитесь, что все пропуски заполнены. Проверьте себя и ещё раз выведите количество пропущенных значений для каждого столбца с помощью двух методов.**"
   ]
  },
  {
   "cell_type": "code",
   "execution_count": 209,
   "id": "2b6cd4d5",
   "metadata": {
    "deletable": false,
    "id": "55f78bc2",
    "outputId": "8da1e4e1-358e-4e87-98c9-f261bce0a7b2"
   },
   "outputs": [
    {
     "data": {
      "text/plain": [
       "children            0\n",
       "days_employed       0\n",
       "dob_years           0\n",
       "education           0\n",
       "education_id        0\n",
       "family_status       0\n",
       "family_status_id    0\n",
       "gender              0\n",
       "income_type         0\n",
       "debt                0\n",
       "total_income        0\n",
       "purpose             0\n",
       "dtype: int64"
      ]
     },
     "execution_count": 209,
     "metadata": {},
     "output_type": "execute_result"
    }
   ],
   "source": [
    "data.isna().sum()"
   ]
  },
  {
   "cell_type": "markdown",
   "id": "b339898f",
   "metadata": {
    "deletable": false,
    "editable": false,
    "id": "ddc81e43"
   },
   "source": [
    "### Изменение типов данных"
   ]
  },
  {
   "cell_type": "markdown",
   "id": "11f297d6",
   "metadata": {
    "deletable": false,
    "editable": false,
    "id": "42d19d24"
   },
   "source": [
    "**Задание 13. Замените вещественный тип данных в столбце `total_income` на целочисленный с помощью метода `astype()`.**"
   ]
  },
  {
   "cell_type": "code",
   "execution_count": 210,
   "id": "85fc4dac",
   "metadata": {
    "deletable": false,
    "id": "920b65ad"
   },
   "outputs": [],
   "source": [
    "data['total_income'] = data['total_income'].astype(int)"
   ]
  },
  {
   "cell_type": "markdown",
   "id": "c7fac344",
   "metadata": {
    "deletable": false,
    "editable": false,
    "id": "80c420ba"
   },
   "source": [
    "### Обработка дубликатов"
   ]
  },
  {
   "cell_type": "markdown",
   "id": "db57d404",
   "metadata": {
    "deletable": false,
    "editable": false
   },
   "source": [
    "**Задание 14. Обработайте неявные дубликаты в столбце `education`. В этом столбце есть одни и те же значения, но записанные по-разному: с использованием заглавных и строчных букв. Приведите их к нижнему регистру. Проверьте остальные столбцы.**"
   ]
  },
  {
   "cell_type": "code",
   "execution_count": 211,
   "id": "9ed0f0b3",
   "metadata": {
    "deletable": false
   },
   "outputs": [],
   "source": [
    "data['education'] = data['education'].str.lower()"
   ]
  },
  {
   "cell_type": "markdown",
   "id": "9565188a",
   "metadata": {
    "deletable": false,
    "editable": false,
    "id": "dc587695"
   },
   "source": [
    "**Задание 15. Выведите на экран количество строк-дубликатов в данных. Если такие строки присутствуют, удалите их.**"
   ]
  },
  {
   "cell_type": "code",
   "execution_count": 212,
   "id": "27201e8b",
   "metadata": {
    "deletable": false,
    "id": "3ee445e4",
    "outputId": "9684deba-1934-42d1-99e1-cda61740f822"
   },
   "outputs": [
    {
     "data": {
      "text/plain": [
       "71"
      ]
     },
     "execution_count": 212,
     "metadata": {},
     "output_type": "execute_result"
    }
   ],
   "source": [
    "(data.duplicated().sum())"
   ]
  },
  {
   "cell_type": "code",
   "execution_count": 213,
   "id": "0519c2bc",
   "metadata": {
    "deletable": false,
    "id": "8575fe05"
   },
   "outputs": [],
   "source": [
    "data = data.drop_duplicates()"
   ]
  },
  {
   "cell_type": "markdown",
   "id": "a81f73a4",
   "metadata": {
    "deletable": false,
    "editable": false,
    "id": "9904cf55"
   },
   "source": [
    "### Категоризация данных"
   ]
  },
  {
   "cell_type": "markdown",
   "id": "a62f697d",
   "metadata": {
    "deletable": false,
    "editable": false,
    "id": "72fcc8a2"
   },
   "source": [
    "**Задание 16. На основании диапазонов, указанных ниже, создайте в датафрейме `data` столбец `total_income_category` с категориями:**\n",
    "\n",
    "- 0–30000 — `'E'`;\n",
    "- 30001–50000 — `'D'`;\n",
    "- 50001–200000 — `'C'`;\n",
    "- 200001–1000000 — `'B'`;\n",
    "- 1000001 и выше — `'A'`.\n",
    "\n",
    "\n",
    "**Например, кредитополучателю с доходом 25000 нужно назначить категорию `'E'`, а клиенту, получающему 235000, — `'B'`. Используйте собственную функцию с именем `categorize_income()` и метод `apply()`.**"
   ]
  },
  {
   "cell_type": "code",
   "execution_count": 214,
   "id": "2d07ce57",
   "metadata": {
    "deletable": false,
    "id": "e1771346"
   },
   "outputs": [],
   "source": [
    "def categorize_income(income):\n",
    "    try:\n",
    "        if 0 <= income <= 30000:\n",
    "            return 'E'\n",
    "        elif 30001 <= income <= 50000:\n",
    "            return 'D'\n",
    "        elif 50001 <= income <= 200000:\n",
    "            return 'C'\n",
    "        elif 200001 <= income <= 1000000:\n",
    "            return 'B'\n",
    "        elif income >= 1000001:\n",
    "            return 'A'\n",
    "    except:\n",
    "        pass"
   ]
  },
  {
   "cell_type": "code",
   "execution_count": 215,
   "id": "f2a35ff2",
   "metadata": {
    "deletable": false,
    "id": "d5f3586d"
   },
   "outputs": [],
   "source": [
    "data['total_income_category'] = data['total_income'].apply(categorize_income)"
   ]
  },
  {
   "cell_type": "markdown",
   "id": "c0e4832c",
   "metadata": {
    "deletable": false,
    "editable": false,
    "id": "dde49b5c"
   },
   "source": [
    "**Задание 17. Выведите на экран перечень уникальных целей взятия кредита из столбца `purpose`.**"
   ]
  },
  {
   "cell_type": "code",
   "execution_count": 216,
   "id": "68d85cfd",
   "metadata": {
    "deletable": false,
    "id": "f67ce9b3",
    "outputId": "673c12d9-7d7e-4ae0-9812-c622c89dd244"
   },
   "outputs": [
    {
     "data": {
      "text/plain": [
       "array(['покупка жилья', 'приобретение автомобиля',\n",
       "       'дополнительное образование', 'сыграть свадьбу',\n",
       "       'операции с жильем', 'образование', 'на проведение свадьбы',\n",
       "       'покупка жилья для семьи', 'покупка недвижимости',\n",
       "       'покупка коммерческой недвижимости', 'покупка жилой недвижимости',\n",
       "       'строительство собственной недвижимости', 'недвижимость',\n",
       "       'строительство недвижимости', 'на покупку подержанного автомобиля',\n",
       "       'на покупку своего автомобиля',\n",
       "       'операции с коммерческой недвижимостью',\n",
       "       'строительство жилой недвижимости', 'жилье',\n",
       "       'операции со своей недвижимостью', 'автомобили',\n",
       "       'заняться образованием', 'сделка с подержанным автомобилем',\n",
       "       'получение образования', 'автомобиль', 'свадьба',\n",
       "       'получение дополнительного образования', 'покупка своего жилья',\n",
       "       'операции с недвижимостью', 'получение высшего образования',\n",
       "       'свой автомобиль', 'сделка с автомобилем',\n",
       "       'профильное образование', 'высшее образование',\n",
       "       'покупка жилья для сдачи', 'на покупку автомобиля', 'ремонт жилью',\n",
       "       'заняться высшим образованием'], dtype=object)"
      ]
     },
     "execution_count": 216,
     "metadata": {},
     "output_type": "execute_result"
    }
   ],
   "source": [
    "data['purpose'].unique()"
   ]
  },
  {
   "cell_type": "markdown",
   "id": "50d4e1cb",
   "metadata": {
    "deletable": false,
    "editable": false,
    "id": "85d0aef0"
   },
   "source": [
    "**Задание 18. Создайте функцию, которая на основании данных из столбца `purpose` сформирует новый столбец `purpose_category`, в который войдут следующие категории:**\n",
    "\n",
    "- `'операции с автомобилем'`,\n",
    "- `'операции с недвижимостью'`,\n",
    "- `'проведение свадьбы'`,\n",
    "- `'получение образования'`.\n",
    "\n",
    "**Например, если в столбце `purpose` находится подстрока `'на покупку автомобиля'`, то в столбце `purpose_category` должна появиться строка `'операции с автомобилем'`.**\n",
    "\n",
    "**Используйте собственную функцию с именем `categorize_purpose()` и метод `apply()`. Изучите данные в столбце `purpose` и определите, какие подстроки помогут вам правильно определить категорию.**"
   ]
  },
  {
   "cell_type": "code",
   "execution_count": 217,
   "id": "ff82f5d4",
   "metadata": {
    "deletable": false,
    "id": "e149fab4"
   },
   "outputs": [],
   "source": [
    "def categorize_purpose(row):\n",
    "    try:\n",
    "        if 'автом' in row:\n",
    "            return 'операции с автомобилем'\n",
    "        elif 'жил' in row or 'недвиж' in row:\n",
    "            return 'операции с недвижимостью'\n",
    "        elif 'свад' in row:\n",
    "            return 'проведение свадьбы'\n",
    "        elif 'образов' in row:\n",
    "            return 'получение образования'\n",
    "    except:\n",
    "        return 'другая категория'\n",
    "    "
   ]
  },
  {
   "cell_type": "code",
   "execution_count": 218,
   "id": "1b06b80c",
   "metadata": {
    "deletable": false,
    "id": "bf36e69b"
   },
   "outputs": [],
   "source": [
    "pd.options.mode.chained_assignment = None\n",
    "data['purpose_category'] = data['purpose'].apply(categorize_purpose)"
   ]
  },
  {
   "cell_type": "code",
   "execution_count": 219,
   "id": "c95327b0",
   "metadata": {},
   "outputs": [
    {
     "name": "stdout",
     "output_type": "stream",
     "text": [
      "['операции с недвижимостью' 'операции с автомобилем'\n",
      " 'получение образования' 'проведение свадьбы']\n"
     ]
    }
   ],
   "source": [
    "print(data['purpose_category'].unique())"
   ]
  },
  {
   "cell_type": "markdown",
   "id": "37aad676",
   "metadata": {
    "deletable": false,
    "editable": false,
    "id": "09b242bf"
   },
   "source": [
    "### Шаг 3. Исследуйте данные и ответьте на вопросы"
   ]
  },
  {
   "cell_type": "markdown",
   "id": "23eeb3fe",
   "metadata": {
    "deletable": false,
    "editable": false,
    "id": "c5d66278"
   },
   "source": [
    "#### 3.1 Есть ли зависимость между количеством детей и возвратом кредита в срок?"
   ]
  },
  {
   "cell_type": "markdown",
   "id": "5326fccd",
   "metadata": {},
   "source": [
    "**Для наглядности и первичной оценки данных выведем на экран первые 20 строк**"
   ]
  },
  {
   "cell_type": "code",
   "execution_count": 220,
   "id": "8b05a697",
   "metadata": {
    "deletable": false,
    "id": "2cacfc4a"
   },
   "outputs": [
    {
     "data": {
      "text/html": [
       "<div>\n",
       "<style scoped>\n",
       "    .dataframe tbody tr th:only-of-type {\n",
       "        vertical-align: middle;\n",
       "    }\n",
       "\n",
       "    .dataframe tbody tr th {\n",
       "        vertical-align: top;\n",
       "    }\n",
       "\n",
       "    .dataframe thead th {\n",
       "        text-align: right;\n",
       "    }\n",
       "</style>\n",
       "<table border=\"1\" class=\"dataframe\">\n",
       "  <thead>\n",
       "    <tr style=\"text-align: right;\">\n",
       "      <th></th>\n",
       "      <th>children</th>\n",
       "      <th>days_employed</th>\n",
       "      <th>dob_years</th>\n",
       "      <th>education</th>\n",
       "      <th>education_id</th>\n",
       "      <th>family_status</th>\n",
       "      <th>family_status_id</th>\n",
       "      <th>gender</th>\n",
       "      <th>income_type</th>\n",
       "      <th>debt</th>\n",
       "      <th>total_income</th>\n",
       "      <th>purpose</th>\n",
       "      <th>total_income_category</th>\n",
       "      <th>purpose_category</th>\n",
       "    </tr>\n",
       "  </thead>\n",
       "  <tbody>\n",
       "    <tr>\n",
       "      <th>0</th>\n",
       "      <td>1</td>\n",
       "      <td>8437.673028</td>\n",
       "      <td>42</td>\n",
       "      <td>высшее</td>\n",
       "      <td>0</td>\n",
       "      <td>женат / замужем</td>\n",
       "      <td>0</td>\n",
       "      <td>F</td>\n",
       "      <td>сотрудник</td>\n",
       "      <td>0</td>\n",
       "      <td>253875</td>\n",
       "      <td>покупка жилья</td>\n",
       "      <td>B</td>\n",
       "      <td>операции с недвижимостью</td>\n",
       "    </tr>\n",
       "    <tr>\n",
       "      <th>1</th>\n",
       "      <td>1</td>\n",
       "      <td>4024.803754</td>\n",
       "      <td>36</td>\n",
       "      <td>среднее</td>\n",
       "      <td>1</td>\n",
       "      <td>женат / замужем</td>\n",
       "      <td>0</td>\n",
       "      <td>F</td>\n",
       "      <td>сотрудник</td>\n",
       "      <td>0</td>\n",
       "      <td>112080</td>\n",
       "      <td>приобретение автомобиля</td>\n",
       "      <td>C</td>\n",
       "      <td>операции с автомобилем</td>\n",
       "    </tr>\n",
       "    <tr>\n",
       "      <th>2</th>\n",
       "      <td>0</td>\n",
       "      <td>5623.422610</td>\n",
       "      <td>33</td>\n",
       "      <td>среднее</td>\n",
       "      <td>1</td>\n",
       "      <td>женат / замужем</td>\n",
       "      <td>0</td>\n",
       "      <td>M</td>\n",
       "      <td>сотрудник</td>\n",
       "      <td>0</td>\n",
       "      <td>145885</td>\n",
       "      <td>покупка жилья</td>\n",
       "      <td>C</td>\n",
       "      <td>операции с недвижимостью</td>\n",
       "    </tr>\n",
       "    <tr>\n",
       "      <th>3</th>\n",
       "      <td>3</td>\n",
       "      <td>4124.747207</td>\n",
       "      <td>32</td>\n",
       "      <td>среднее</td>\n",
       "      <td>1</td>\n",
       "      <td>женат / замужем</td>\n",
       "      <td>0</td>\n",
       "      <td>M</td>\n",
       "      <td>сотрудник</td>\n",
       "      <td>0</td>\n",
       "      <td>267628</td>\n",
       "      <td>дополнительное образование</td>\n",
       "      <td>B</td>\n",
       "      <td>получение образования</td>\n",
       "    </tr>\n",
       "    <tr>\n",
       "      <th>4</th>\n",
       "      <td>0</td>\n",
       "      <td>340266.072047</td>\n",
       "      <td>53</td>\n",
       "      <td>среднее</td>\n",
       "      <td>1</td>\n",
       "      <td>гражданский брак</td>\n",
       "      <td>1</td>\n",
       "      <td>F</td>\n",
       "      <td>пенсионер</td>\n",
       "      <td>0</td>\n",
       "      <td>158616</td>\n",
       "      <td>сыграть свадьбу</td>\n",
       "      <td>C</td>\n",
       "      <td>проведение свадьбы</td>\n",
       "    </tr>\n",
       "    <tr>\n",
       "      <th>5</th>\n",
       "      <td>0</td>\n",
       "      <td>926.185831</td>\n",
       "      <td>27</td>\n",
       "      <td>высшее</td>\n",
       "      <td>0</td>\n",
       "      <td>гражданский брак</td>\n",
       "      <td>1</td>\n",
       "      <td>M</td>\n",
       "      <td>компаньон</td>\n",
       "      <td>0</td>\n",
       "      <td>255763</td>\n",
       "      <td>покупка жилья</td>\n",
       "      <td>B</td>\n",
       "      <td>операции с недвижимостью</td>\n",
       "    </tr>\n",
       "    <tr>\n",
       "      <th>6</th>\n",
       "      <td>0</td>\n",
       "      <td>2879.202052</td>\n",
       "      <td>43</td>\n",
       "      <td>высшее</td>\n",
       "      <td>0</td>\n",
       "      <td>женат / замужем</td>\n",
       "      <td>0</td>\n",
       "      <td>F</td>\n",
       "      <td>компаньон</td>\n",
       "      <td>0</td>\n",
       "      <td>240525</td>\n",
       "      <td>операции с жильем</td>\n",
       "      <td>B</td>\n",
       "      <td>операции с недвижимостью</td>\n",
       "    </tr>\n",
       "    <tr>\n",
       "      <th>7</th>\n",
       "      <td>0</td>\n",
       "      <td>152.779569</td>\n",
       "      <td>50</td>\n",
       "      <td>среднее</td>\n",
       "      <td>1</td>\n",
       "      <td>женат / замужем</td>\n",
       "      <td>0</td>\n",
       "      <td>M</td>\n",
       "      <td>сотрудник</td>\n",
       "      <td>0</td>\n",
       "      <td>135823</td>\n",
       "      <td>образование</td>\n",
       "      <td>C</td>\n",
       "      <td>получение образования</td>\n",
       "    </tr>\n",
       "    <tr>\n",
       "      <th>8</th>\n",
       "      <td>2</td>\n",
       "      <td>6929.865299</td>\n",
       "      <td>35</td>\n",
       "      <td>высшее</td>\n",
       "      <td>0</td>\n",
       "      <td>гражданский брак</td>\n",
       "      <td>1</td>\n",
       "      <td>F</td>\n",
       "      <td>сотрудник</td>\n",
       "      <td>0</td>\n",
       "      <td>95856</td>\n",
       "      <td>на проведение свадьбы</td>\n",
       "      <td>C</td>\n",
       "      <td>проведение свадьбы</td>\n",
       "    </tr>\n",
       "    <tr>\n",
       "      <th>9</th>\n",
       "      <td>0</td>\n",
       "      <td>2188.756445</td>\n",
       "      <td>41</td>\n",
       "      <td>среднее</td>\n",
       "      <td>1</td>\n",
       "      <td>женат / замужем</td>\n",
       "      <td>0</td>\n",
       "      <td>M</td>\n",
       "      <td>сотрудник</td>\n",
       "      <td>0</td>\n",
       "      <td>144425</td>\n",
       "      <td>покупка жилья для семьи</td>\n",
       "      <td>C</td>\n",
       "      <td>операции с недвижимостью</td>\n",
       "    </tr>\n",
       "    <tr>\n",
       "      <th>10</th>\n",
       "      <td>2</td>\n",
       "      <td>4171.483647</td>\n",
       "      <td>36</td>\n",
       "      <td>высшее</td>\n",
       "      <td>0</td>\n",
       "      <td>женат / замужем</td>\n",
       "      <td>0</td>\n",
       "      <td>M</td>\n",
       "      <td>компаньон</td>\n",
       "      <td>0</td>\n",
       "      <td>113943</td>\n",
       "      <td>покупка недвижимости</td>\n",
       "      <td>C</td>\n",
       "      <td>операции с недвижимостью</td>\n",
       "    </tr>\n",
       "    <tr>\n",
       "      <th>11</th>\n",
       "      <td>0</td>\n",
       "      <td>792.701887</td>\n",
       "      <td>40</td>\n",
       "      <td>среднее</td>\n",
       "      <td>1</td>\n",
       "      <td>женат / замужем</td>\n",
       "      <td>0</td>\n",
       "      <td>F</td>\n",
       "      <td>сотрудник</td>\n",
       "      <td>0</td>\n",
       "      <td>77069</td>\n",
       "      <td>покупка коммерческой недвижимости</td>\n",
       "      <td>C</td>\n",
       "      <td>операции с недвижимостью</td>\n",
       "    </tr>\n",
       "    <tr>\n",
       "      <th>12</th>\n",
       "      <td>0</td>\n",
       "      <td>365286.622650</td>\n",
       "      <td>65</td>\n",
       "      <td>среднее</td>\n",
       "      <td>1</td>\n",
       "      <td>гражданский брак</td>\n",
       "      <td>1</td>\n",
       "      <td>M</td>\n",
       "      <td>пенсионер</td>\n",
       "      <td>0</td>\n",
       "      <td>118514</td>\n",
       "      <td>сыграть свадьбу</td>\n",
       "      <td>C</td>\n",
       "      <td>проведение свадьбы</td>\n",
       "    </tr>\n",
       "    <tr>\n",
       "      <th>13</th>\n",
       "      <td>0</td>\n",
       "      <td>1846.641941</td>\n",
       "      <td>54</td>\n",
       "      <td>неоконченное высшее</td>\n",
       "      <td>2</td>\n",
       "      <td>женат / замужем</td>\n",
       "      <td>0</td>\n",
       "      <td>F</td>\n",
       "      <td>сотрудник</td>\n",
       "      <td>0</td>\n",
       "      <td>130458</td>\n",
       "      <td>приобретение автомобиля</td>\n",
       "      <td>C</td>\n",
       "      <td>операции с автомобилем</td>\n",
       "    </tr>\n",
       "    <tr>\n",
       "      <th>14</th>\n",
       "      <td>0</td>\n",
       "      <td>1844.956182</td>\n",
       "      <td>56</td>\n",
       "      <td>высшее</td>\n",
       "      <td>0</td>\n",
       "      <td>гражданский брак</td>\n",
       "      <td>1</td>\n",
       "      <td>F</td>\n",
       "      <td>компаньон</td>\n",
       "      <td>1</td>\n",
       "      <td>165127</td>\n",
       "      <td>покупка жилой недвижимости</td>\n",
       "      <td>C</td>\n",
       "      <td>операции с недвижимостью</td>\n",
       "    </tr>\n",
       "    <tr>\n",
       "      <th>15</th>\n",
       "      <td>1</td>\n",
       "      <td>972.364419</td>\n",
       "      <td>26</td>\n",
       "      <td>среднее</td>\n",
       "      <td>1</td>\n",
       "      <td>женат / замужем</td>\n",
       "      <td>0</td>\n",
       "      <td>F</td>\n",
       "      <td>сотрудник</td>\n",
       "      <td>0</td>\n",
       "      <td>116820</td>\n",
       "      <td>строительство собственной недвижимости</td>\n",
       "      <td>C</td>\n",
       "      <td>операции с недвижимостью</td>\n",
       "    </tr>\n",
       "    <tr>\n",
       "      <th>16</th>\n",
       "      <td>0</td>\n",
       "      <td>1719.934226</td>\n",
       "      <td>35</td>\n",
       "      <td>среднее</td>\n",
       "      <td>1</td>\n",
       "      <td>женат / замужем</td>\n",
       "      <td>0</td>\n",
       "      <td>F</td>\n",
       "      <td>сотрудник</td>\n",
       "      <td>0</td>\n",
       "      <td>289202</td>\n",
       "      <td>недвижимость</td>\n",
       "      <td>B</td>\n",
       "      <td>операции с недвижимостью</td>\n",
       "    </tr>\n",
       "    <tr>\n",
       "      <th>17</th>\n",
       "      <td>0</td>\n",
       "      <td>2369.999720</td>\n",
       "      <td>33</td>\n",
       "      <td>высшее</td>\n",
       "      <td>0</td>\n",
       "      <td>гражданский брак</td>\n",
       "      <td>1</td>\n",
       "      <td>M</td>\n",
       "      <td>сотрудник</td>\n",
       "      <td>0</td>\n",
       "      <td>90410</td>\n",
       "      <td>строительство недвижимости</td>\n",
       "      <td>C</td>\n",
       "      <td>операции с недвижимостью</td>\n",
       "    </tr>\n",
       "    <tr>\n",
       "      <th>18</th>\n",
       "      <td>0</td>\n",
       "      <td>400281.136913</td>\n",
       "      <td>53</td>\n",
       "      <td>среднее</td>\n",
       "      <td>1</td>\n",
       "      <td>вдовец / вдова</td>\n",
       "      <td>2</td>\n",
       "      <td>F</td>\n",
       "      <td>пенсионер</td>\n",
       "      <td>0</td>\n",
       "      <td>56823</td>\n",
       "      <td>на покупку подержанного автомобиля</td>\n",
       "      <td>C</td>\n",
       "      <td>операции с автомобилем</td>\n",
       "    </tr>\n",
       "    <tr>\n",
       "      <th>19</th>\n",
       "      <td>0</td>\n",
       "      <td>10038.818549</td>\n",
       "      <td>48</td>\n",
       "      <td>среднее</td>\n",
       "      <td>1</td>\n",
       "      <td>в разводе</td>\n",
       "      <td>3</td>\n",
       "      <td>F</td>\n",
       "      <td>сотрудник</td>\n",
       "      <td>0</td>\n",
       "      <td>242831</td>\n",
       "      <td>на покупку своего автомобиля</td>\n",
       "      <td>B</td>\n",
       "      <td>операции с автомобилем</td>\n",
       "    </tr>\n",
       "  </tbody>\n",
       "</table>\n",
       "</div>"
      ],
      "text/plain": [
       "    children  days_employed  dob_years            education  education_id  \\\n",
       "0          1    8437.673028         42               высшее             0   \n",
       "1          1    4024.803754         36              среднее             1   \n",
       "2          0    5623.422610         33              среднее             1   \n",
       "3          3    4124.747207         32              среднее             1   \n",
       "4          0  340266.072047         53              среднее             1   \n",
       "5          0     926.185831         27               высшее             0   \n",
       "6          0    2879.202052         43               высшее             0   \n",
       "7          0     152.779569         50              среднее             1   \n",
       "8          2    6929.865299         35               высшее             0   \n",
       "9          0    2188.756445         41              среднее             1   \n",
       "10         2    4171.483647         36               высшее             0   \n",
       "11         0     792.701887         40              среднее             1   \n",
       "12         0  365286.622650         65              среднее             1   \n",
       "13         0    1846.641941         54  неоконченное высшее             2   \n",
       "14         0    1844.956182         56               высшее             0   \n",
       "15         1     972.364419         26              среднее             1   \n",
       "16         0    1719.934226         35              среднее             1   \n",
       "17         0    2369.999720         33               высшее             0   \n",
       "18         0  400281.136913         53              среднее             1   \n",
       "19         0   10038.818549         48              среднее             1   \n",
       "\n",
       "       family_status  family_status_id gender income_type  debt  total_income  \\\n",
       "0    женат / замужем                 0      F   сотрудник     0        253875   \n",
       "1    женат / замужем                 0      F   сотрудник     0        112080   \n",
       "2    женат / замужем                 0      M   сотрудник     0        145885   \n",
       "3    женат / замужем                 0      M   сотрудник     0        267628   \n",
       "4   гражданский брак                 1      F   пенсионер     0        158616   \n",
       "5   гражданский брак                 1      M   компаньон     0        255763   \n",
       "6    женат / замужем                 0      F   компаньон     0        240525   \n",
       "7    женат / замужем                 0      M   сотрудник     0        135823   \n",
       "8   гражданский брак                 1      F   сотрудник     0         95856   \n",
       "9    женат / замужем                 0      M   сотрудник     0        144425   \n",
       "10   женат / замужем                 0      M   компаньон     0        113943   \n",
       "11   женат / замужем                 0      F   сотрудник     0         77069   \n",
       "12  гражданский брак                 1      M   пенсионер     0        118514   \n",
       "13   женат / замужем                 0      F   сотрудник     0        130458   \n",
       "14  гражданский брак                 1      F   компаньон     1        165127   \n",
       "15   женат / замужем                 0      F   сотрудник     0        116820   \n",
       "16   женат / замужем                 0      F   сотрудник     0        289202   \n",
       "17  гражданский брак                 1      M   сотрудник     0         90410   \n",
       "18    вдовец / вдова                 2      F   пенсионер     0         56823   \n",
       "19         в разводе                 3      F   сотрудник     0        242831   \n",
       "\n",
       "                                   purpose total_income_category  \\\n",
       "0                            покупка жилья                     B   \n",
       "1                  приобретение автомобиля                     C   \n",
       "2                            покупка жилья                     C   \n",
       "3               дополнительное образование                     B   \n",
       "4                          сыграть свадьбу                     C   \n",
       "5                            покупка жилья                     B   \n",
       "6                        операции с жильем                     B   \n",
       "7                              образование                     C   \n",
       "8                    на проведение свадьбы                     C   \n",
       "9                  покупка жилья для семьи                     C   \n",
       "10                    покупка недвижимости                     C   \n",
       "11       покупка коммерческой недвижимости                     C   \n",
       "12                         сыграть свадьбу                     C   \n",
       "13                 приобретение автомобиля                     C   \n",
       "14              покупка жилой недвижимости                     C   \n",
       "15  строительство собственной недвижимости                     C   \n",
       "16                            недвижимость                     B   \n",
       "17              строительство недвижимости                     C   \n",
       "18      на покупку подержанного автомобиля                     C   \n",
       "19            на покупку своего автомобиля                     B   \n",
       "\n",
       "            purpose_category  \n",
       "0   операции с недвижимостью  \n",
       "1     операции с автомобилем  \n",
       "2   операции с недвижимостью  \n",
       "3      получение образования  \n",
       "4         проведение свадьбы  \n",
       "5   операции с недвижимостью  \n",
       "6   операции с недвижимостью  \n",
       "7      получение образования  \n",
       "8         проведение свадьбы  \n",
       "9   операции с недвижимостью  \n",
       "10  операции с недвижимостью  \n",
       "11  операции с недвижимостью  \n",
       "12        проведение свадьбы  \n",
       "13    операции с автомобилем  \n",
       "14  операции с недвижимостью  \n",
       "15  операции с недвижимостью  \n",
       "16  операции с недвижимостью  \n",
       "17  операции с недвижимостью  \n",
       "18    операции с автомобилем  \n",
       "19    операции с автомобилем  "
      ]
     },
     "execution_count": 220,
     "metadata": {},
     "output_type": "execute_result"
    }
   ],
   "source": [
    "data.head(20)\n"
   ]
  },
  {
   "cell_type": "markdown",
   "id": "91e4b3f5",
   "metadata": {},
   "source": [
    "*Из данных видно 2 проблемы. Первая это то, что в столбце days_employed некоторые значения с отрицательным знаком. Исправим это с помощью метода loc. "
   ]
  },
  {
   "cell_type": "code",
   "execution_count": 221,
   "id": "82850dd2",
   "metadata": {},
   "outputs": [
    {
     "data": {
      "text/html": [
       "<div>\n",
       "<style scoped>\n",
       "    .dataframe tbody tr th:only-of-type {\n",
       "        vertical-align: middle;\n",
       "    }\n",
       "\n",
       "    .dataframe tbody tr th {\n",
       "        vertical-align: top;\n",
       "    }\n",
       "\n",
       "    .dataframe thead th {\n",
       "        text-align: right;\n",
       "    }\n",
       "</style>\n",
       "<table border=\"1\" class=\"dataframe\">\n",
       "  <thead>\n",
       "    <tr style=\"text-align: right;\">\n",
       "      <th></th>\n",
       "      <th>children</th>\n",
       "      <th>days_employed</th>\n",
       "      <th>dob_years</th>\n",
       "      <th>education</th>\n",
       "      <th>education_id</th>\n",
       "      <th>family_status</th>\n",
       "      <th>family_status_id</th>\n",
       "      <th>gender</th>\n",
       "      <th>income_type</th>\n",
       "      <th>debt</th>\n",
       "      <th>total_income</th>\n",
       "      <th>purpose</th>\n",
       "      <th>total_income_category</th>\n",
       "      <th>purpose_category</th>\n",
       "    </tr>\n",
       "  </thead>\n",
       "  <tbody>\n",
       "    <tr>\n",
       "      <th>0</th>\n",
       "      <td>1</td>\n",
       "      <td>8437.673028</td>\n",
       "      <td>42</td>\n",
       "      <td>высшее</td>\n",
       "      <td>0</td>\n",
       "      <td>женат / замужем</td>\n",
       "      <td>0</td>\n",
       "      <td>F</td>\n",
       "      <td>сотрудник</td>\n",
       "      <td>0</td>\n",
       "      <td>253875</td>\n",
       "      <td>покупка жилья</td>\n",
       "      <td>B</td>\n",
       "      <td>операции с недвижимостью</td>\n",
       "    </tr>\n",
       "    <tr>\n",
       "      <th>1</th>\n",
       "      <td>1</td>\n",
       "      <td>4024.803754</td>\n",
       "      <td>36</td>\n",
       "      <td>среднее</td>\n",
       "      <td>1</td>\n",
       "      <td>женат / замужем</td>\n",
       "      <td>0</td>\n",
       "      <td>F</td>\n",
       "      <td>сотрудник</td>\n",
       "      <td>0</td>\n",
       "      <td>112080</td>\n",
       "      <td>приобретение автомобиля</td>\n",
       "      <td>C</td>\n",
       "      <td>операции с автомобилем</td>\n",
       "    </tr>\n",
       "    <tr>\n",
       "      <th>2</th>\n",
       "      <td>0</td>\n",
       "      <td>5623.422610</td>\n",
       "      <td>33</td>\n",
       "      <td>среднее</td>\n",
       "      <td>1</td>\n",
       "      <td>женат / замужем</td>\n",
       "      <td>0</td>\n",
       "      <td>M</td>\n",
       "      <td>сотрудник</td>\n",
       "      <td>0</td>\n",
       "      <td>145885</td>\n",
       "      <td>покупка жилья</td>\n",
       "      <td>C</td>\n",
       "      <td>операции с недвижимостью</td>\n",
       "    </tr>\n",
       "    <tr>\n",
       "      <th>3</th>\n",
       "      <td>3</td>\n",
       "      <td>4124.747207</td>\n",
       "      <td>32</td>\n",
       "      <td>среднее</td>\n",
       "      <td>1</td>\n",
       "      <td>женат / замужем</td>\n",
       "      <td>0</td>\n",
       "      <td>M</td>\n",
       "      <td>сотрудник</td>\n",
       "      <td>0</td>\n",
       "      <td>267628</td>\n",
       "      <td>дополнительное образование</td>\n",
       "      <td>B</td>\n",
       "      <td>получение образования</td>\n",
       "    </tr>\n",
       "    <tr>\n",
       "      <th>4</th>\n",
       "      <td>0</td>\n",
       "      <td>340266.072047</td>\n",
       "      <td>53</td>\n",
       "      <td>среднее</td>\n",
       "      <td>1</td>\n",
       "      <td>гражданский брак</td>\n",
       "      <td>1</td>\n",
       "      <td>F</td>\n",
       "      <td>пенсионер</td>\n",
       "      <td>0</td>\n",
       "      <td>158616</td>\n",
       "      <td>сыграть свадьбу</td>\n",
       "      <td>C</td>\n",
       "      <td>проведение свадьбы</td>\n",
       "    </tr>\n",
       "    <tr>\n",
       "      <th>5</th>\n",
       "      <td>0</td>\n",
       "      <td>926.185831</td>\n",
       "      <td>27</td>\n",
       "      <td>высшее</td>\n",
       "      <td>0</td>\n",
       "      <td>гражданский брак</td>\n",
       "      <td>1</td>\n",
       "      <td>M</td>\n",
       "      <td>компаньон</td>\n",
       "      <td>0</td>\n",
       "      <td>255763</td>\n",
       "      <td>покупка жилья</td>\n",
       "      <td>B</td>\n",
       "      <td>операции с недвижимостью</td>\n",
       "    </tr>\n",
       "    <tr>\n",
       "      <th>6</th>\n",
       "      <td>0</td>\n",
       "      <td>2879.202052</td>\n",
       "      <td>43</td>\n",
       "      <td>высшее</td>\n",
       "      <td>0</td>\n",
       "      <td>женат / замужем</td>\n",
       "      <td>0</td>\n",
       "      <td>F</td>\n",
       "      <td>компаньон</td>\n",
       "      <td>0</td>\n",
       "      <td>240525</td>\n",
       "      <td>операции с жильем</td>\n",
       "      <td>B</td>\n",
       "      <td>операции с недвижимостью</td>\n",
       "    </tr>\n",
       "    <tr>\n",
       "      <th>7</th>\n",
       "      <td>0</td>\n",
       "      <td>152.779569</td>\n",
       "      <td>50</td>\n",
       "      <td>среднее</td>\n",
       "      <td>1</td>\n",
       "      <td>женат / замужем</td>\n",
       "      <td>0</td>\n",
       "      <td>M</td>\n",
       "      <td>сотрудник</td>\n",
       "      <td>0</td>\n",
       "      <td>135823</td>\n",
       "      <td>образование</td>\n",
       "      <td>C</td>\n",
       "      <td>получение образования</td>\n",
       "    </tr>\n",
       "    <tr>\n",
       "      <th>8</th>\n",
       "      <td>2</td>\n",
       "      <td>6929.865299</td>\n",
       "      <td>35</td>\n",
       "      <td>высшее</td>\n",
       "      <td>0</td>\n",
       "      <td>гражданский брак</td>\n",
       "      <td>1</td>\n",
       "      <td>F</td>\n",
       "      <td>сотрудник</td>\n",
       "      <td>0</td>\n",
       "      <td>95856</td>\n",
       "      <td>на проведение свадьбы</td>\n",
       "      <td>C</td>\n",
       "      <td>проведение свадьбы</td>\n",
       "    </tr>\n",
       "    <tr>\n",
       "      <th>9</th>\n",
       "      <td>0</td>\n",
       "      <td>2188.756445</td>\n",
       "      <td>41</td>\n",
       "      <td>среднее</td>\n",
       "      <td>1</td>\n",
       "      <td>женат / замужем</td>\n",
       "      <td>0</td>\n",
       "      <td>M</td>\n",
       "      <td>сотрудник</td>\n",
       "      <td>0</td>\n",
       "      <td>144425</td>\n",
       "      <td>покупка жилья для семьи</td>\n",
       "      <td>C</td>\n",
       "      <td>операции с недвижимостью</td>\n",
       "    </tr>\n",
       "    <tr>\n",
       "      <th>10</th>\n",
       "      <td>2</td>\n",
       "      <td>4171.483647</td>\n",
       "      <td>36</td>\n",
       "      <td>высшее</td>\n",
       "      <td>0</td>\n",
       "      <td>женат / замужем</td>\n",
       "      <td>0</td>\n",
       "      <td>M</td>\n",
       "      <td>компаньон</td>\n",
       "      <td>0</td>\n",
       "      <td>113943</td>\n",
       "      <td>покупка недвижимости</td>\n",
       "      <td>C</td>\n",
       "      <td>операции с недвижимостью</td>\n",
       "    </tr>\n",
       "    <tr>\n",
       "      <th>11</th>\n",
       "      <td>0</td>\n",
       "      <td>792.701887</td>\n",
       "      <td>40</td>\n",
       "      <td>среднее</td>\n",
       "      <td>1</td>\n",
       "      <td>женат / замужем</td>\n",
       "      <td>0</td>\n",
       "      <td>F</td>\n",
       "      <td>сотрудник</td>\n",
       "      <td>0</td>\n",
       "      <td>77069</td>\n",
       "      <td>покупка коммерческой недвижимости</td>\n",
       "      <td>C</td>\n",
       "      <td>операции с недвижимостью</td>\n",
       "    </tr>\n",
       "    <tr>\n",
       "      <th>12</th>\n",
       "      <td>0</td>\n",
       "      <td>365286.622650</td>\n",
       "      <td>65</td>\n",
       "      <td>среднее</td>\n",
       "      <td>1</td>\n",
       "      <td>гражданский брак</td>\n",
       "      <td>1</td>\n",
       "      <td>M</td>\n",
       "      <td>пенсионер</td>\n",
       "      <td>0</td>\n",
       "      <td>118514</td>\n",
       "      <td>сыграть свадьбу</td>\n",
       "      <td>C</td>\n",
       "      <td>проведение свадьбы</td>\n",
       "    </tr>\n",
       "    <tr>\n",
       "      <th>13</th>\n",
       "      <td>0</td>\n",
       "      <td>1846.641941</td>\n",
       "      <td>54</td>\n",
       "      <td>неоконченное высшее</td>\n",
       "      <td>2</td>\n",
       "      <td>женат / замужем</td>\n",
       "      <td>0</td>\n",
       "      <td>F</td>\n",
       "      <td>сотрудник</td>\n",
       "      <td>0</td>\n",
       "      <td>130458</td>\n",
       "      <td>приобретение автомобиля</td>\n",
       "      <td>C</td>\n",
       "      <td>операции с автомобилем</td>\n",
       "    </tr>\n",
       "    <tr>\n",
       "      <th>14</th>\n",
       "      <td>0</td>\n",
       "      <td>1844.956182</td>\n",
       "      <td>56</td>\n",
       "      <td>высшее</td>\n",
       "      <td>0</td>\n",
       "      <td>гражданский брак</td>\n",
       "      <td>1</td>\n",
       "      <td>F</td>\n",
       "      <td>компаньон</td>\n",
       "      <td>1</td>\n",
       "      <td>165127</td>\n",
       "      <td>покупка жилой недвижимости</td>\n",
       "      <td>C</td>\n",
       "      <td>операции с недвижимостью</td>\n",
       "    </tr>\n",
       "    <tr>\n",
       "      <th>15</th>\n",
       "      <td>1</td>\n",
       "      <td>972.364419</td>\n",
       "      <td>26</td>\n",
       "      <td>среднее</td>\n",
       "      <td>1</td>\n",
       "      <td>женат / замужем</td>\n",
       "      <td>0</td>\n",
       "      <td>F</td>\n",
       "      <td>сотрудник</td>\n",
       "      <td>0</td>\n",
       "      <td>116820</td>\n",
       "      <td>строительство собственной недвижимости</td>\n",
       "      <td>C</td>\n",
       "      <td>операции с недвижимостью</td>\n",
       "    </tr>\n",
       "    <tr>\n",
       "      <th>16</th>\n",
       "      <td>0</td>\n",
       "      <td>1719.934226</td>\n",
       "      <td>35</td>\n",
       "      <td>среднее</td>\n",
       "      <td>1</td>\n",
       "      <td>женат / замужем</td>\n",
       "      <td>0</td>\n",
       "      <td>F</td>\n",
       "      <td>сотрудник</td>\n",
       "      <td>0</td>\n",
       "      <td>289202</td>\n",
       "      <td>недвижимость</td>\n",
       "      <td>B</td>\n",
       "      <td>операции с недвижимостью</td>\n",
       "    </tr>\n",
       "    <tr>\n",
       "      <th>17</th>\n",
       "      <td>0</td>\n",
       "      <td>2369.999720</td>\n",
       "      <td>33</td>\n",
       "      <td>высшее</td>\n",
       "      <td>0</td>\n",
       "      <td>гражданский брак</td>\n",
       "      <td>1</td>\n",
       "      <td>M</td>\n",
       "      <td>сотрудник</td>\n",
       "      <td>0</td>\n",
       "      <td>90410</td>\n",
       "      <td>строительство недвижимости</td>\n",
       "      <td>C</td>\n",
       "      <td>операции с недвижимостью</td>\n",
       "    </tr>\n",
       "    <tr>\n",
       "      <th>18</th>\n",
       "      <td>0</td>\n",
       "      <td>400281.136913</td>\n",
       "      <td>53</td>\n",
       "      <td>среднее</td>\n",
       "      <td>1</td>\n",
       "      <td>вдовец / вдова</td>\n",
       "      <td>2</td>\n",
       "      <td>F</td>\n",
       "      <td>пенсионер</td>\n",
       "      <td>0</td>\n",
       "      <td>56823</td>\n",
       "      <td>на покупку подержанного автомобиля</td>\n",
       "      <td>C</td>\n",
       "      <td>операции с автомобилем</td>\n",
       "    </tr>\n",
       "    <tr>\n",
       "      <th>19</th>\n",
       "      <td>0</td>\n",
       "      <td>10038.818549</td>\n",
       "      <td>48</td>\n",
       "      <td>среднее</td>\n",
       "      <td>1</td>\n",
       "      <td>в разводе</td>\n",
       "      <td>3</td>\n",
       "      <td>F</td>\n",
       "      <td>сотрудник</td>\n",
       "      <td>0</td>\n",
       "      <td>242831</td>\n",
       "      <td>на покупку своего автомобиля</td>\n",
       "      <td>B</td>\n",
       "      <td>операции с автомобилем</td>\n",
       "    </tr>\n",
       "  </tbody>\n",
       "</table>\n",
       "</div>"
      ],
      "text/plain": [
       "    children  days_employed  dob_years            education  education_id  \\\n",
       "0          1    8437.673028         42               высшее             0   \n",
       "1          1    4024.803754         36              среднее             1   \n",
       "2          0    5623.422610         33              среднее             1   \n",
       "3          3    4124.747207         32              среднее             1   \n",
       "4          0  340266.072047         53              среднее             1   \n",
       "5          0     926.185831         27               высшее             0   \n",
       "6          0    2879.202052         43               высшее             0   \n",
       "7          0     152.779569         50              среднее             1   \n",
       "8          2    6929.865299         35               высшее             0   \n",
       "9          0    2188.756445         41              среднее             1   \n",
       "10         2    4171.483647         36               высшее             0   \n",
       "11         0     792.701887         40              среднее             1   \n",
       "12         0  365286.622650         65              среднее             1   \n",
       "13         0    1846.641941         54  неоконченное высшее             2   \n",
       "14         0    1844.956182         56               высшее             0   \n",
       "15         1     972.364419         26              среднее             1   \n",
       "16         0    1719.934226         35              среднее             1   \n",
       "17         0    2369.999720         33               высшее             0   \n",
       "18         0  400281.136913         53              среднее             1   \n",
       "19         0   10038.818549         48              среднее             1   \n",
       "\n",
       "       family_status  family_status_id gender income_type  debt  total_income  \\\n",
       "0    женат / замужем                 0      F   сотрудник     0        253875   \n",
       "1    женат / замужем                 0      F   сотрудник     0        112080   \n",
       "2    женат / замужем                 0      M   сотрудник     0        145885   \n",
       "3    женат / замужем                 0      M   сотрудник     0        267628   \n",
       "4   гражданский брак                 1      F   пенсионер     0        158616   \n",
       "5   гражданский брак                 1      M   компаньон     0        255763   \n",
       "6    женат / замужем                 0      F   компаньон     0        240525   \n",
       "7    женат / замужем                 0      M   сотрудник     0        135823   \n",
       "8   гражданский брак                 1      F   сотрудник     0         95856   \n",
       "9    женат / замужем                 0      M   сотрудник     0        144425   \n",
       "10   женат / замужем                 0      M   компаньон     0        113943   \n",
       "11   женат / замужем                 0      F   сотрудник     0         77069   \n",
       "12  гражданский брак                 1      M   пенсионер     0        118514   \n",
       "13   женат / замужем                 0      F   сотрудник     0        130458   \n",
       "14  гражданский брак                 1      F   компаньон     1        165127   \n",
       "15   женат / замужем                 0      F   сотрудник     0        116820   \n",
       "16   женат / замужем                 0      F   сотрудник     0        289202   \n",
       "17  гражданский брак                 1      M   сотрудник     0         90410   \n",
       "18    вдовец / вдова                 2      F   пенсионер     0         56823   \n",
       "19         в разводе                 3      F   сотрудник     0        242831   \n",
       "\n",
       "                                   purpose total_income_category  \\\n",
       "0                            покупка жилья                     B   \n",
       "1                  приобретение автомобиля                     C   \n",
       "2                            покупка жилья                     C   \n",
       "3               дополнительное образование                     B   \n",
       "4                          сыграть свадьбу                     C   \n",
       "5                            покупка жилья                     B   \n",
       "6                        операции с жильем                     B   \n",
       "7                              образование                     C   \n",
       "8                    на проведение свадьбы                     C   \n",
       "9                  покупка жилья для семьи                     C   \n",
       "10                    покупка недвижимости                     C   \n",
       "11       покупка коммерческой недвижимости                     C   \n",
       "12                         сыграть свадьбу                     C   \n",
       "13                 приобретение автомобиля                     C   \n",
       "14              покупка жилой недвижимости                     C   \n",
       "15  строительство собственной недвижимости                     C   \n",
       "16                            недвижимость                     B   \n",
       "17              строительство недвижимости                     C   \n",
       "18      на покупку подержанного автомобиля                     C   \n",
       "19            на покупку своего автомобиля                     B   \n",
       "\n",
       "            purpose_category  \n",
       "0   операции с недвижимостью  \n",
       "1     операции с автомобилем  \n",
       "2   операции с недвижимостью  \n",
       "3      получение образования  \n",
       "4         проведение свадьбы  \n",
       "5   операции с недвижимостью  \n",
       "6   операции с недвижимостью  \n",
       "7      получение образования  \n",
       "8         проведение свадьбы  \n",
       "9   операции с недвижимостью  \n",
       "10  операции с недвижимостью  \n",
       "11  операции с недвижимостью  \n",
       "12        проведение свадьбы  \n",
       "13    операции с автомобилем  \n",
       "14  операции с недвижимостью  \n",
       "15  операции с недвижимостью  \n",
       "16  операции с недвижимостью  \n",
       "17  операции с недвижимостью  \n",
       "18    операции с автомобилем  \n",
       "19    операции с автомобилем  "
      ]
     },
     "execution_count": 221,
     "metadata": {},
     "output_type": "execute_result"
    }
   ],
   "source": [
    "data = data.loc[data['days_employed'] != '-']\n",
    "data.head(20)\n"
   ]
  },
  {
   "cell_type": "markdown",
   "id": "b63da0d5",
   "metadata": {
    "deletable": false,
    "id": "3a6b99ec"
   },
   "source": [
    "*Вторая проблема в том, что у типа занятости - \"пенсионер\" столбца income_type в столбце days_employed, т.е. количества стажа в днях, стоит аномально большое значение. Другими словами присутствует аномалия. Удалять ее не имеет смысла, так как это сложно и она нам не помешает в расчетах.*"
   ]
  },
  {
   "cell_type": "markdown",
   "id": "fbf372d3",
   "metadata": {},
   "source": [
    "Теперь ответим на вопрос зависимости возврата кредита в срок от количества дней занятости с помощью функции pivot_table"
   ]
  },
  {
   "cell_type": "code",
   "execution_count": 222,
   "id": "abd625da",
   "metadata": {
    "id": "dc3f7ee8"
   },
   "outputs": [
    {
     "data": {
      "text/html": [
       "<div>\n",
       "<style scoped>\n",
       "    .dataframe tbody tr th:only-of-type {\n",
       "        vertical-align: middle;\n",
       "    }\n",
       "\n",
       "    .dataframe tbody tr th {\n",
       "        vertical-align: top;\n",
       "    }\n",
       "\n",
       "    .dataframe thead th {\n",
       "        text-align: right;\n",
       "    }\n",
       "</style>\n",
       "<table border=\"1\" class=\"dataframe\">\n",
       "  <thead>\n",
       "    <tr style=\"text-align: right;\">\n",
       "      <th></th>\n",
       "      <th>total</th>\n",
       "      <th>target</th>\n",
       "      <th>share</th>\n",
       "    </tr>\n",
       "    <tr>\n",
       "      <th>children</th>\n",
       "      <th></th>\n",
       "      <th></th>\n",
       "      <th></th>\n",
       "    </tr>\n",
       "  </thead>\n",
       "  <tbody>\n",
       "    <tr>\n",
       "      <th>5</th>\n",
       "      <td>9</td>\n",
       "      <td>0</td>\n",
       "      <td>0.000</td>\n",
       "    </tr>\n",
       "    <tr>\n",
       "      <th>0</th>\n",
       "      <td>14091</td>\n",
       "      <td>1063</td>\n",
       "      <td>0.075</td>\n",
       "    </tr>\n",
       "    <tr>\n",
       "      <th>3</th>\n",
       "      <td>330</td>\n",
       "      <td>27</td>\n",
       "      <td>0.082</td>\n",
       "    </tr>\n",
       "    <tr>\n",
       "      <th>1</th>\n",
       "      <td>4808</td>\n",
       "      <td>444</td>\n",
       "      <td>0.092</td>\n",
       "    </tr>\n",
       "    <tr>\n",
       "      <th>2</th>\n",
       "      <td>2052</td>\n",
       "      <td>194</td>\n",
       "      <td>0.095</td>\n",
       "    </tr>\n",
       "    <tr>\n",
       "      <th>4</th>\n",
       "      <td>41</td>\n",
       "      <td>4</td>\n",
       "      <td>0.098</td>\n",
       "    </tr>\n",
       "  </tbody>\n",
       "</table>\n",
       "</div>"
      ],
      "text/plain": [
       "          total  target  share\n",
       "children                      \n",
       "5             9       0  0.000\n",
       "0         14091    1063  0.075\n",
       "3           330      27  0.082\n",
       "1          4808     444  0.092\n",
       "2          2052     194  0.095\n",
       "4            41       4  0.098"
      ]
     },
     "metadata": {},
     "output_type": "display_data"
    }
   ],
   "source": [
    "target = data.pivot_table(index=['children'], values = 'debt', aggfunc = {'count', 'sum'})\n",
    "target = target.rename(columns={'count': 'total', 'sum': 'target'})\n",
    "target['share'] = round(target['target']/target['total'], 3)\n",
    "target = target.sort_values(by='share', ascending=True)\n",
    "display(target)"
   ]
  },
  {
   "cell_type": "markdown",
   "id": "3109b31d",
   "metadata": {
    "id": "1cef7837"
   },
   "source": [
    "Вывод:Семьи с 5ю детьми и семьи без детей меньше всех допускают просрочку. Это можно обьяснить тем, что семьи с 5ю детьми более обеспечены и оответственно более ответственны в финансовых обязательствах. А семьи без детей более платежеспособны, чем семьи с детьми. Семьи с 1-2 детьми допускают больше просрочек чем семьи без детей и с 5ю детьми. Таких семей большинство из тех семей, что допускают просрочки. При этом больше всего просрочек допускают семьи с 4мя детьми. А вот семьи с 3мя детьми, тоесть многодетные семьи допускают меньше просрочек, чем семьи с 4мя детьми, что может быть вызвано гос поддержкой в виде материнского капитала. Из всего вышесказанного можно сделать вывод, что в целом гипотеза зависимости возврата кредитов в срок от количества детей, подтвердилась."
   ]
  },
  {
   "cell_type": "markdown",
   "id": "45bf09ae",
   "metadata": {},
   "source": [
    "Вывод: Из сводной таблицы видно, что при росте количества детей в семье, наблюдается рост просрочек по креитам. Если в семьях без детей процент просрочек равен 7.5%, то в семьях с 1-2 детьми наблюдается рост просрочек на 2% до 9.5%. Можно сделть вывод, что гипотеза влияния количества детей в семье на возврат кредитов в срок, подтвердилась, так как видно, что с росто кличества детей в семье, растет и процент просрочек по кредитам."
   ]
  },
  {
   "cell_type": "markdown",
   "id": "aaec2a91",
   "metadata": {
    "deletable": false,
    "editable": false,
    "id": "97be82ca"
   },
   "source": [
    "#### 3.2 Есть ли зависимость между семейным положением и возвратом кредита в срок?"
   ]
  },
  {
   "cell_type": "code",
   "execution_count": 223,
   "id": "fbb963cc",
   "metadata": {
    "deletable": false,
    "id": "dc3f7ee8"
   },
   "outputs": [
    {
     "data": {
      "text/html": [
       "<div>\n",
       "<style scoped>\n",
       "    .dataframe tbody tr th:only-of-type {\n",
       "        vertical-align: middle;\n",
       "    }\n",
       "\n",
       "    .dataframe tbody tr th {\n",
       "        vertical-align: top;\n",
       "    }\n",
       "\n",
       "    .dataframe thead th {\n",
       "        text-align: right;\n",
       "    }\n",
       "</style>\n",
       "<table border=\"1\" class=\"dataframe\">\n",
       "  <thead>\n",
       "    <tr style=\"text-align: right;\">\n",
       "      <th></th>\n",
       "      <th>total</th>\n",
       "      <th>target</th>\n",
       "      <th>share</th>\n",
       "    </tr>\n",
       "    <tr>\n",
       "      <th>family_status</th>\n",
       "      <th></th>\n",
       "      <th></th>\n",
       "      <th></th>\n",
       "    </tr>\n",
       "  </thead>\n",
       "  <tbody>\n",
       "    <tr>\n",
       "      <th>вдовец / вдова</th>\n",
       "      <td>951</td>\n",
       "      <td>63</td>\n",
       "      <td>0.066</td>\n",
       "    </tr>\n",
       "    <tr>\n",
       "      <th>в разводе</th>\n",
       "      <td>1189</td>\n",
       "      <td>84</td>\n",
       "      <td>0.071</td>\n",
       "    </tr>\n",
       "    <tr>\n",
       "      <th>женат / замужем</th>\n",
       "      <td>12261</td>\n",
       "      <td>927</td>\n",
       "      <td>0.076</td>\n",
       "    </tr>\n",
       "    <tr>\n",
       "      <th>гражданский брак</th>\n",
       "      <td>4134</td>\n",
       "      <td>385</td>\n",
       "      <td>0.093</td>\n",
       "    </tr>\n",
       "    <tr>\n",
       "      <th>Не женат / не замужем</th>\n",
       "      <td>2796</td>\n",
       "      <td>273</td>\n",
       "      <td>0.098</td>\n",
       "    </tr>\n",
       "  </tbody>\n",
       "</table>\n",
       "</div>"
      ],
      "text/plain": [
       "                       total  target  share\n",
       "family_status                              \n",
       "вдовец / вдова           951      63  0.066\n",
       "в разводе               1189      84  0.071\n",
       "женат / замужем        12261     927  0.076\n",
       "гражданский брак        4134     385  0.093\n",
       "Не женат / не замужем   2796     273  0.098"
      ]
     },
     "metadata": {},
     "output_type": "display_data"
    }
   ],
   "source": [
    "\n",
    "target = data.pivot_table(index=['family_status'], values = 'debt', aggfunc = {'count', 'sum'})\n",
    "target = target.rename(columns={'count': 'total', 'sum': 'target'})\n",
    "target['share'] = round(target['target']/target['total'], 3)\n",
    "target = target.sort_values(by='share', ascending=True)\n",
    "display(target)\n"
   ]
  },
  {
   "cell_type": "markdown",
   "id": "d1ee8236",
   "metadata": {
    "deletable": false,
    "id": "1cef7837"
   },
   "source": [
    "Вывод: Просрочку больше всех допускают люди, не состоящие в браке или состоящие в неофициальном браке. Можно сказать, что они саме безответственные в данном отношении. Это обьясняется, что у них нет ответственности за семью и будущее финансовое благополучие. Меньше просрочку допускают люди в браке или находящиеся в разводе. Это обьясняется ответственностью перед своими близкими за общее финансовое состояние семьи. Еще меньше случаев просрочки у вдов/вдовцов, что может обьяснятся получением наследства."
   ]
  },
  {
   "cell_type": "markdown",
   "id": "46479272",
   "metadata": {
    "deletable": false,
    "editable": false,
    "id": "1e8b2fca"
   },
   "source": [
    "#### 3.3 Есть ли зависимость между уровнем дохода и возвратом кредита в срок?"
   ]
  },
  {
   "cell_type": "markdown",
   "id": "0df36367",
   "metadata": {},
   "source": [
    "*Сначала разобьем заемщиков на категории по доходам столбца total_income*"
   ]
  },
  {
   "cell_type": "code",
   "execution_count": 224,
   "id": "b3bdc24b",
   "metadata": {},
   "outputs": [
    {
     "name": "stdout",
     "output_type": "stream",
     "text": [
      "20667 2265604\n",
      "<function total_income_category at 0x7f7bcfb0c310>\n"
     ]
    }
   ],
   "source": [
    "print(data['total_income'].min(), data['total_income'].max())# найдем макс и мин значения уровня дохода.\n",
    "category = ['бедный', 'средний', 'выше среднего', 'обеспеченный', 'богатый']\n",
    "def total_income_category(category):\n",
    "    if 0 <= category <= 21000:\n",
    "        return 'бедный'\n",
    "    elif 20000 <= category <= 50000:\n",
    "        return 'средний'\n",
    "    elif 50000 <= category <= 100000:\n",
    "        return 'выше среднего'\n",
    "    elif 100000 <= category <= 1000000:\n",
    "        return 'обеспеченный'\n",
    "    else:\n",
    "        return 'богатый'\n",
    "        \n",
    "print(total_income_category)\n",
    "data['total_income_category'] = data['total_income'].apply(total_income_category)\n",
    "\n",
    "\n",
    "\n"
   ]
  },
  {
   "cell_type": "code",
   "execution_count": 225,
   "id": "986dc92f",
   "metadata": {},
   "outputs": [
    {
     "data": {
      "text/plain": [
       "Index(['children', 'days_employed', 'dob_years', 'education', 'education_id',\n",
       "       'family_status', 'family_status_id', 'gender', 'income_type', 'debt',\n",
       "       'total_income', 'purpose', 'total_income_category', 'purpose_category'],\n",
       "      dtype='object')"
      ]
     },
     "execution_count": 225,
     "metadata": {},
     "output_type": "execute_result"
    }
   ],
   "source": [
    "data.columns"
   ]
  },
  {
   "cell_type": "markdown",
   "id": "a986506f",
   "metadata": {},
   "source": [
    "*далее  создадим сводную таблицу с помощью функции pivot_table*"
   ]
  },
  {
   "cell_type": "code",
   "execution_count": 226,
   "id": "aa3e0761",
   "metadata": {
    "deletable": false,
    "id": "cd7e3720"
   },
   "outputs": [
    {
     "data": {
      "text/html": [
       "<div>\n",
       "<style scoped>\n",
       "    .dataframe tbody tr th:only-of-type {\n",
       "        vertical-align: middle;\n",
       "    }\n",
       "\n",
       "    .dataframe tbody tr th {\n",
       "        vertical-align: top;\n",
       "    }\n",
       "\n",
       "    .dataframe thead th {\n",
       "        text-align: right;\n",
       "    }\n",
       "</style>\n",
       "<table border=\"1\" class=\"dataframe\">\n",
       "  <thead>\n",
       "    <tr style=\"text-align: right;\">\n",
       "      <th></th>\n",
       "      <th>total</th>\n",
       "      <th>target</th>\n",
       "      <th>share</th>\n",
       "    </tr>\n",
       "    <tr>\n",
       "      <th>total_income_category</th>\n",
       "      <th></th>\n",
       "      <th></th>\n",
       "      <th></th>\n",
       "    </tr>\n",
       "  </thead>\n",
       "  <tbody>\n",
       "    <tr>\n",
       "      <th>средний</th>\n",
       "      <td>370</td>\n",
       "      <td>22</td>\n",
       "      <td>0.059</td>\n",
       "    </tr>\n",
       "    <tr>\n",
       "      <th>богатый</th>\n",
       "      <td>25</td>\n",
       "      <td>2</td>\n",
       "      <td>0.080</td>\n",
       "    </tr>\n",
       "    <tr>\n",
       "      <th>выше среднего</th>\n",
       "      <td>4073</td>\n",
       "      <td>331</td>\n",
       "      <td>0.081</td>\n",
       "    </tr>\n",
       "    <tr>\n",
       "      <th>обеспеченный</th>\n",
       "      <td>16862</td>\n",
       "      <td>1376</td>\n",
       "      <td>0.082</td>\n",
       "    </tr>\n",
       "    <tr>\n",
       "      <th>бедный</th>\n",
       "      <td>1</td>\n",
       "      <td>1</td>\n",
       "      <td>1.000</td>\n",
       "    </tr>\n",
       "  </tbody>\n",
       "</table>\n",
       "</div>"
      ],
      "text/plain": [
       "                       total  target  share\n",
       "total_income_category                      \n",
       "средний                  370      22  0.059\n",
       "богатый                   25       2  0.080\n",
       "выше среднего           4073     331  0.081\n",
       "обеспеченный           16862    1376  0.082\n",
       "бедный                     1       1  1.000"
      ]
     },
     "metadata": {},
     "output_type": "display_data"
    }
   ],
   "source": [
    "target = data.pivot_table(index=['total_income_category'], values = 'debt', aggfunc = {'count', 'sum'})\n",
    "target = target.rename(columns={'count': 'total', 'sum': 'target'})\n",
    "target['share'] = round(target['target']/target['total'], 3)\n",
    "target = target.sort_values(by='share', ascending=True)\n",
    "display(target) # Ваш код будет здесь. Вы можете создавать новые ячейки."
   ]
  },
  {
   "cell_type": "markdown",
   "id": "b760a359",
   "metadata": {
    "deletable": false,
    "id": "e8593def"
   },
   "source": [
    "#####     **Вывод: Меньший процент просрочек(5,9%), допускают люди со средним доходом. Что обьясняется большей экономией средств и следовательно большей ответственностью в финансовых вопросах нежели чем у людей с доходом выше среднего и богатых людей(8,1% и 8% соответственно)**"
   ]
  },
  {
   "cell_type": "markdown",
   "id": "6380a3af",
   "metadata": {},
   "source": [
    "А если обратить внимание на несбалансированность выборок, и оценивать людей с уровнем дохода выше среднего и обеспеченных, тоесть которых большинство, то можно сказать, что уровень дохода не влияет на возврат кредита в срок, потомучто процент просрочек у данных категорий оинаковый: 8.1% и 8.2%. И можно сделать вывод, что данная гипотеза не подтвердилась."
   ]
  },
  {
   "cell_type": "markdown",
   "id": "f3f3b2f7",
   "metadata": {
    "deletable": false,
    "editable": false,
    "id": "99ecbd1f"
   },
   "source": [
    "#### 3.4 Как разные цели кредита влияют на его возврат в срок?"
   ]
  },
  {
   "cell_type": "code",
   "execution_count": 227,
   "id": "19411c7f",
   "metadata": {},
   "outputs": [
    {
     "name": "stdout",
     "output_type": "stream",
     "text": [
      "['операции с недвижимостью' 'операции с автомобилем'\n",
      " 'получение образования' 'проведение свадьбы']\n"
     ]
    }
   ],
   "source": [
    "print(data['purpose_category'].unique())\n"
   ]
  },
  {
   "cell_type": "code",
   "execution_count": 230,
   "id": "4e5da60b",
   "metadata": {
    "deletable": false,
    "id": "2b687290"
   },
   "outputs": [
    {
     "data": {
      "text/html": [
       "<div>\n",
       "<style scoped>\n",
       "    .dataframe tbody tr th:only-of-type {\n",
       "        vertical-align: middle;\n",
       "    }\n",
       "\n",
       "    .dataframe tbody tr th {\n",
       "        vertical-align: top;\n",
       "    }\n",
       "\n",
       "    .dataframe thead th {\n",
       "        text-align: right;\n",
       "    }\n",
       "</style>\n",
       "<table border=\"1\" class=\"dataframe\">\n",
       "  <thead>\n",
       "    <tr style=\"text-align: right;\">\n",
       "      <th></th>\n",
       "      <th>total</th>\n",
       "      <th>target</th>\n",
       "      <th>share</th>\n",
       "    </tr>\n",
       "    <tr>\n",
       "      <th>purpose_category</th>\n",
       "      <th></th>\n",
       "      <th></th>\n",
       "      <th></th>\n",
       "    </tr>\n",
       "  </thead>\n",
       "  <tbody>\n",
       "    <tr>\n",
       "      <th>операции с недвижимостью</th>\n",
       "      <td>10751</td>\n",
       "      <td>780</td>\n",
       "      <td>0.073</td>\n",
       "    </tr>\n",
       "    <tr>\n",
       "      <th>проведение свадьбы</th>\n",
       "      <td>2313</td>\n",
       "      <td>183</td>\n",
       "      <td>0.079</td>\n",
       "    </tr>\n",
       "    <tr>\n",
       "      <th>операции с автомобилем</th>\n",
       "      <td>4279</td>\n",
       "      <td>400</td>\n",
       "      <td>0.093</td>\n",
       "    </tr>\n",
       "    <tr>\n",
       "      <th>получение образования</th>\n",
       "      <td>3988</td>\n",
       "      <td>369</td>\n",
       "      <td>0.093</td>\n",
       "    </tr>\n",
       "  </tbody>\n",
       "</table>\n",
       "</div>"
      ],
      "text/plain": [
       "                          total  target  share\n",
       "purpose_category                              \n",
       "операции с недвижимостью  10751     780  0.073\n",
       "проведение свадьбы         2313     183  0.079\n",
       "операции с автомобилем     4279     400  0.093\n",
       "получение образования      3988     369  0.093"
      ]
     },
     "metadata": {},
     "output_type": "display_data"
    }
   ],
   "source": [
    "target = data.pivot_table(index=['purpose_category'], values = 'debt', aggfunc = {'count', 'sum'})\n",
    "target = target.rename(columns={'count': 'total', 'sum': 'target'})\n",
    "target['share'] = round(target['target']/target['total'], 3)\n",
    "target = target.sort_values(by='share', ascending=True)\n",
    "display(target) # Ваш код будет здесь. Вы можете создавать новые ячейки."
   ]
  },
  {
   "cell_type": "markdown",
   "id": "762d0162",
   "metadata": {
    "deletable": false,
    "id": "b4bb2ce6"
   },
   "source": [
    "**Вывод:** Из таблицы видно, что люди, взявших кредит на операции с недвижимостью или на проведение свадьбы(тоесть на более дорогие цели), реже допускают просрочки, чем люди, чья цель кредита автомобиль или получение оразования. Значит гипотеза подтвердилась."
   ]
  },
  {
   "cell_type": "markdown",
   "id": "23415e52",
   "metadata": {
    "deletable": false,
    "editable": false,
    "id": "09c3ac4c"
   },
   "source": [
    "#### 3.5 Приведите возможные причины появления пропусков в исходных данных."
   ]
  },
  {
   "cell_type": "markdown",
   "id": "ce89eca0",
   "metadata": {
    "deletable": false,
    "id": "9da2ceda"
   },
   "source": [
    "*Ответ: пропуски могут быть вызваны как человеческим фактором так и техническими проблемами, например испорченностью носителя или незаполненными графами людьми как намеренно так и ненамеренно, а также отсутствием значения в графе по причине того, что нет такого значения, которе требуют указать(например у кого то нет отчества).* "
   ]
  },
  {
   "cell_type": "markdown",
   "id": "f4445a75",
   "metadata": {
    "deletable": false,
    "editable": false,
    "id": "7b0487d6"
   },
   "source": [
    "#### 3.6 Объясните, почему заполнить пропуски медианным значением — лучшее решение для количественных переменных."
   ]
  },
  {
   "cell_type": "markdown",
   "id": "3a5afc6c",
   "metadata": {
    "deletable": false,
    "id": "7ecf2b8e"
   },
   "source": [
    "*Ответ:Потомучто среднеарифметическое значение не отражает реальной картины в данных или не всегда правильно отражает, например из-за аномально высоких или низкий значений в данных, может быть искажен конечный результат.* "
   ]
  },
  {
   "cell_type": "markdown",
   "id": "167f6018",
   "metadata": {
    "deletable": false,
    "editable": false,
    "id": "6db5255a"
   },
   "source": [
    "### Шаг 4: общий вывод."
   ]
  },
  {
   "cell_type": "markdown",
   "id": "b01ae0ae",
   "metadata": {
    "deletable": false,
    "id": "bad65432"
   },
   "source": [
    "Проведя исследование благонадежности заемщиков мы проверили гипотезы влияния количества детей на возврат кредита в срок, гипотезу влияния семейного положения на возврат кредита в срок, гипотезу влияния уровня дохода на возврат кредита в срок, и гипотезу влияния разных целей кредита на возврат кредита в срок. В ходе исследования мы опирались на исходные данные от банка и провели несколько этапов предобработки данных. Мы научились правильно считать и заполнять пропуски в данных, удалять явные и неявные дубликаты, провели категоризацию данных с помощью функции pivot_table и других функций. В целом все гипотезы подтвердились, семьи с 1-2 детьми, которых большинство, оказались самыми безответственными и допускают больше всего просрочек по кредитам, нежели семьи с 3-4 и 5ю детьми как и семьи без детей. Вторая гипотеза также подтвердилась, люди, не состоящие в браке, или состоящие в нем ранее(вдовы или в разводе), оказались самыми ответственными и следовательно допустившими меньше всех просрочек. Третья гипотеза также подтвердилась тем, что люди с доходом выше среднего а также люди обеспеченные и богатые, допускают больше просрочек, чем бедные и люди со средним доходом."
   ]
  },
  {
   "cell_type": "markdown",
   "id": "87d5fe1f",
   "metadata": {},
   "source": [
    "*Вывод: Заемщики, находящиеся в браке или ранее в нем состоявшие, и без детей - самые ответственные, а заемщики, не состоявшие в браке, либо состоявшие в неофициальном браке, и при этом имеющие 1-2 детей, самые плохие и безответтвенные заемщики.\n",
    "    Идеальный заемщик для банка - состоявший в браке и без детей."
   ]
  }
 ],
 "metadata": {
  "ExecuteTimeLog": [
   {
    "duration": 5,
    "start_time": "2024-02-08T13:12:21.672Z"
   },
   {
    "duration": 50,
    "start_time": "2024-02-08T13:15:41.548Z"
   },
   {
    "duration": 727,
    "start_time": "2024-02-08T16:21:57.229Z"
   },
   {
    "duration": 21,
    "start_time": "2024-02-08T16:21:57.958Z"
   },
   {
    "duration": 14,
    "start_time": "2024-02-08T16:21:57.980Z"
   },
   {
    "duration": 10,
    "start_time": "2024-02-08T16:21:57.996Z"
   },
   {
    "duration": 36,
    "start_time": "2024-02-08T16:21:58.007Z"
   },
   {
    "duration": 21,
    "start_time": "2024-02-08T16:21:58.045Z"
   },
   {
    "duration": 10,
    "start_time": "2024-02-08T16:21:58.068Z"
   },
   {
    "duration": 4,
    "start_time": "2024-02-08T16:21:58.080Z"
   },
   {
    "duration": 7,
    "start_time": "2024-02-08T16:21:58.085Z"
   },
   {
    "duration": 11,
    "start_time": "2024-02-08T16:21:58.095Z"
   },
   {
    "duration": 35,
    "start_time": "2024-02-08T16:21:58.107Z"
   },
   {
    "duration": 11,
    "start_time": "2024-02-08T16:21:58.164Z"
   },
   {
    "duration": 4,
    "start_time": "2024-02-08T16:21:58.176Z"
   },
   {
    "duration": 18,
    "start_time": "2024-02-08T16:21:58.181Z"
   },
   {
    "duration": 18,
    "start_time": "2024-02-08T16:21:58.201Z"
   },
   {
    "duration": 16,
    "start_time": "2024-02-08T16:21:58.221Z"
   },
   {
    "duration": 27,
    "start_time": "2024-02-08T16:21:58.238Z"
   },
   {
    "duration": 9,
    "start_time": "2024-02-08T16:21:58.267Z"
   },
   {
    "duration": 11,
    "start_time": "2024-02-08T16:21:58.278Z"
   },
   {
    "duration": 3,
    "start_time": "2024-02-08T16:21:58.291Z"
   },
   {
    "duration": 11,
    "start_time": "2024-02-08T16:21:58.295Z"
   },
   {
    "duration": 11,
    "start_time": "2024-02-08T16:21:58.307Z"
   },
   {
    "duration": 2,
    "start_time": "2024-02-08T16:21:58.319Z"
   },
   {
    "duration": 4,
    "start_time": "2024-02-08T16:21:58.322Z"
   },
   {
    "duration": 4,
    "start_time": "2024-02-08T16:21:58.327Z"
   },
   {
    "duration": 20,
    "start_time": "2024-02-08T16:22:19.029Z"
   },
   {
    "duration": 19,
    "start_time": "2024-02-08T16:22:36.690Z"
   },
   {
    "duration": 16,
    "start_time": "2024-02-08T17:59:09.066Z"
   },
   {
    "duration": 3,
    "start_time": "2024-02-09T09:43:20.576Z"
   },
   {
    "duration": 13,
    "start_time": "2024-02-09T09:43:20.583Z"
   },
   {
    "duration": 8,
    "start_time": "2024-02-09T09:43:20.598Z"
   },
   {
    "duration": 50,
    "start_time": "2024-02-09T09:44:46.299Z"
   },
   {
    "duration": 6,
    "start_time": "2024-02-09T09:45:12.838Z"
   },
   {
    "duration": 6,
    "start_time": "2024-02-09T09:48:28.163Z"
   },
   {
    "duration": 711,
    "start_time": "2024-02-09T09:49:40.464Z"
   },
   {
    "duration": 35,
    "start_time": "2024-02-09T09:50:20.126Z"
   },
   {
    "duration": 96,
    "start_time": "2024-02-09T09:51:27.450Z"
   },
   {
    "duration": 18,
    "start_time": "2024-02-09T09:51:27.549Z"
   },
   {
    "duration": 28,
    "start_time": "2024-02-09T09:51:27.569Z"
   },
   {
    "duration": 34,
    "start_time": "2024-02-09T09:51:27.600Z"
   },
   {
    "duration": 42,
    "start_time": "2024-02-09T09:51:27.637Z"
   },
   {
    "duration": 4,
    "start_time": "2024-02-09T09:51:27.681Z"
   },
   {
    "duration": 17,
    "start_time": "2024-02-09T09:51:27.687Z"
   },
   {
    "duration": 19,
    "start_time": "2024-02-09T09:51:27.706Z"
   },
   {
    "duration": 10,
    "start_time": "2024-02-09T09:51:27.727Z"
   },
   {
    "duration": 12,
    "start_time": "2024-02-09T09:51:27.740Z"
   },
   {
    "duration": 41,
    "start_time": "2024-02-09T09:51:27.754Z"
   },
   {
    "duration": 27,
    "start_time": "2024-02-09T09:51:27.797Z"
   },
   {
    "duration": 5,
    "start_time": "2024-02-09T09:51:27.826Z"
   },
   {
    "duration": 17,
    "start_time": "2024-02-09T09:51:27.832Z"
   },
   {
    "duration": 24,
    "start_time": "2024-02-09T09:51:27.851Z"
   },
   {
    "duration": 19,
    "start_time": "2024-02-09T09:51:27.876Z"
   },
   {
    "duration": 28,
    "start_time": "2024-02-09T09:51:27.896Z"
   },
   {
    "duration": 12,
    "start_time": "2024-02-09T09:51:27.925Z"
   },
   {
    "duration": 12,
    "start_time": "2024-02-09T09:51:27.939Z"
   },
   {
    "duration": 4,
    "start_time": "2024-02-09T09:51:27.953Z"
   },
   {
    "duration": 12,
    "start_time": "2024-02-09T09:51:27.959Z"
   },
   {
    "duration": 91,
    "start_time": "2024-02-09T09:51:27.973Z"
   },
   {
    "duration": 13,
    "start_time": "2024-02-09T09:51:31.843Z"
   },
   {
    "duration": 78,
    "start_time": "2024-02-09T10:36:11.382Z"
   },
   {
    "duration": 22,
    "start_time": "2024-02-09T10:36:11.462Z"
   },
   {
    "duration": 38,
    "start_time": "2024-02-09T10:36:11.485Z"
   },
   {
    "duration": 11,
    "start_time": "2024-02-09T10:36:11.525Z"
   },
   {
    "duration": 68,
    "start_time": "2024-02-09T10:36:11.538Z"
   },
   {
    "duration": 4,
    "start_time": "2024-02-09T10:36:11.608Z"
   },
   {
    "duration": 16,
    "start_time": "2024-02-09T10:36:11.614Z"
   },
   {
    "duration": 5,
    "start_time": "2024-02-09T10:36:11.632Z"
   },
   {
    "duration": 7,
    "start_time": "2024-02-09T10:36:11.639Z"
   },
   {
    "duration": 6,
    "start_time": "2024-02-09T10:36:11.649Z"
   },
   {
    "duration": 70,
    "start_time": "2024-02-09T10:36:11.657Z"
   },
   {
    "duration": 13,
    "start_time": "2024-02-09T10:36:11.729Z"
   },
   {
    "duration": 4,
    "start_time": "2024-02-09T10:36:11.744Z"
   },
   {
    "duration": 18,
    "start_time": "2024-02-09T10:36:11.750Z"
   },
   {
    "duration": 23,
    "start_time": "2024-02-09T10:36:11.770Z"
   },
   {
    "duration": 46,
    "start_time": "2024-02-09T10:36:11.794Z"
   },
   {
    "duration": 4,
    "start_time": "2024-02-09T10:36:11.841Z"
   },
   {
    "duration": 21,
    "start_time": "2024-02-09T10:36:11.847Z"
   },
   {
    "duration": 9,
    "start_time": "2024-02-09T10:36:11.870Z"
   },
   {
    "duration": 4,
    "start_time": "2024-02-09T10:36:11.881Z"
   },
   {
    "duration": 13,
    "start_time": "2024-02-09T10:36:11.886Z"
   },
   {
    "duration": 85,
    "start_time": "2024-02-09T10:36:11.901Z"
   },
   {
    "duration": 12,
    "start_time": "2024-02-09T10:36:11.988Z"
   },
   {
    "duration": 0,
    "start_time": "2024-02-09T10:36:12.002Z"
   },
   {
    "duration": 0,
    "start_time": "2024-02-09T10:36:12.003Z"
   },
   {
    "duration": 0,
    "start_time": "2024-02-09T10:36:12.004Z"
   },
   {
    "duration": 0,
    "start_time": "2024-02-09T10:36:12.023Z"
   },
   {
    "duration": 12,
    "start_time": "2024-02-09T10:36:43.533Z"
   },
   {
    "duration": 12,
    "start_time": "2024-02-09T10:38:03.834Z"
   },
   {
    "duration": 12,
    "start_time": "2024-02-09T10:39:45.778Z"
   },
   {
    "duration": 76,
    "start_time": "2024-02-09T10:39:50.868Z"
   },
   {
    "duration": 15,
    "start_time": "2024-02-09T10:39:50.946Z"
   },
   {
    "duration": 40,
    "start_time": "2024-02-09T10:39:50.963Z"
   },
   {
    "duration": 27,
    "start_time": "2024-02-09T10:39:51.006Z"
   },
   {
    "duration": 43,
    "start_time": "2024-02-09T10:39:51.035Z"
   },
   {
    "duration": 3,
    "start_time": "2024-02-09T10:39:51.080Z"
   },
   {
    "duration": 29,
    "start_time": "2024-02-09T10:39:51.085Z"
   },
   {
    "duration": 11,
    "start_time": "2024-02-09T10:39:51.116Z"
   },
   {
    "duration": 30,
    "start_time": "2024-02-09T10:39:51.129Z"
   },
   {
    "duration": 23,
    "start_time": "2024-02-09T10:39:51.162Z"
   },
   {
    "duration": 67,
    "start_time": "2024-02-09T10:39:51.187Z"
   },
   {
    "duration": 12,
    "start_time": "2024-02-09T10:39:51.255Z"
   },
   {
    "duration": 21,
    "start_time": "2024-02-09T10:39:51.269Z"
   },
   {
    "duration": 23,
    "start_time": "2024-02-09T10:39:51.292Z"
   },
   {
    "duration": 27,
    "start_time": "2024-02-09T10:39:51.317Z"
   },
   {
    "duration": 19,
    "start_time": "2024-02-09T10:39:51.346Z"
   },
   {
    "duration": 4,
    "start_time": "2024-02-09T10:39:51.367Z"
   },
   {
    "duration": 28,
    "start_time": "2024-02-09T10:39:51.372Z"
   },
   {
    "duration": 27,
    "start_time": "2024-02-09T10:39:51.402Z"
   },
   {
    "duration": 26,
    "start_time": "2024-02-09T10:39:51.431Z"
   },
   {
    "duration": 21,
    "start_time": "2024-02-09T10:39:51.459Z"
   },
   {
    "duration": 96,
    "start_time": "2024-02-09T10:39:51.482Z"
   },
   {
    "duration": 12,
    "start_time": "2024-02-09T10:39:54.286Z"
   },
   {
    "duration": 12,
    "start_time": "2024-02-09T10:41:55.977Z"
   },
   {
    "duration": 11,
    "start_time": "2024-02-09T10:42:44.400Z"
   },
   {
    "duration": 3,
    "start_time": "2024-02-09T10:46:50.492Z"
   },
   {
    "duration": 101,
    "start_time": "2024-02-09T10:56:17.512Z"
   },
   {
    "duration": 16,
    "start_time": "2024-02-09T10:56:23.686Z"
   },
   {
    "duration": 78,
    "start_time": "2024-02-09T10:57:02.231Z"
   },
   {
    "duration": 79,
    "start_time": "2024-02-09T10:57:23.920Z"
   },
   {
    "duration": 13,
    "start_time": "2024-02-09T10:57:24.002Z"
   },
   {
    "duration": 0,
    "start_time": "2024-02-09T10:57:24.017Z"
   },
   {
    "duration": 0,
    "start_time": "2024-02-09T10:57:24.018Z"
   },
   {
    "duration": 0,
    "start_time": "2024-02-09T10:57:24.020Z"
   },
   {
    "duration": 0,
    "start_time": "2024-02-09T10:57:24.022Z"
   },
   {
    "duration": 78,
    "start_time": "2024-02-09T10:57:35.559Z"
   },
   {
    "duration": 11,
    "start_time": "2024-02-09T10:57:35.639Z"
   },
   {
    "duration": 0,
    "start_time": "2024-02-09T10:57:35.652Z"
   },
   {
    "duration": 0,
    "start_time": "2024-02-09T10:57:35.653Z"
   },
   {
    "duration": 0,
    "start_time": "2024-02-09T10:57:35.655Z"
   },
   {
    "duration": 0,
    "start_time": "2024-02-09T10:57:35.656Z"
   },
   {
    "duration": 88,
    "start_time": "2024-02-09T10:57:53.835Z"
   },
   {
    "duration": 16,
    "start_time": "2024-02-09T10:59:31.019Z"
   },
   {
    "duration": 12,
    "start_time": "2024-02-09T11:00:20.716Z"
   },
   {
    "duration": 89,
    "start_time": "2024-02-09T11:00:48.138Z"
   },
   {
    "duration": 16,
    "start_time": "2024-02-09T11:00:48.229Z"
   },
   {
    "duration": 51,
    "start_time": "2024-02-09T11:00:48.247Z"
   },
   {
    "duration": 24,
    "start_time": "2024-02-09T11:00:48.300Z"
   },
   {
    "duration": 55,
    "start_time": "2024-02-09T11:00:48.326Z"
   },
   {
    "duration": 3,
    "start_time": "2024-02-09T11:00:48.383Z"
   },
   {
    "duration": 33,
    "start_time": "2024-02-09T11:00:48.388Z"
   },
   {
    "duration": 29,
    "start_time": "2024-02-09T11:00:48.422Z"
   },
   {
    "duration": 40,
    "start_time": "2024-02-09T11:00:48.452Z"
   },
   {
    "duration": 27,
    "start_time": "2024-02-09T11:00:48.495Z"
   },
   {
    "duration": 52,
    "start_time": "2024-02-09T11:00:48.523Z"
   },
   {
    "duration": 12,
    "start_time": "2024-02-09T11:00:48.577Z"
   },
   {
    "duration": 24,
    "start_time": "2024-02-09T11:00:48.590Z"
   },
   {
    "duration": 22,
    "start_time": "2024-02-09T11:00:48.615Z"
   },
   {
    "duration": 50,
    "start_time": "2024-02-09T11:00:48.638Z"
   },
   {
    "duration": 21,
    "start_time": "2024-02-09T11:00:48.690Z"
   },
   {
    "duration": 12,
    "start_time": "2024-02-09T11:00:48.712Z"
   },
   {
    "duration": 32,
    "start_time": "2024-02-09T11:00:48.726Z"
   },
   {
    "duration": 17,
    "start_time": "2024-02-09T11:00:48.760Z"
   },
   {
    "duration": 25,
    "start_time": "2024-02-09T11:00:48.778Z"
   },
   {
    "duration": 40,
    "start_time": "2024-02-09T11:00:48.804Z"
   },
   {
    "duration": 74,
    "start_time": "2024-02-09T11:00:48.845Z"
   },
   {
    "duration": 16,
    "start_time": "2024-02-09T11:00:48.920Z"
   },
   {
    "duration": 12,
    "start_time": "2024-02-09T11:00:52.233Z"
   },
   {
    "duration": 14,
    "start_time": "2024-02-09T11:01:42.634Z"
   },
   {
    "duration": 11,
    "start_time": "2024-02-09T11:02:05.445Z"
   },
   {
    "duration": 12,
    "start_time": "2024-02-09T11:02:54.203Z"
   },
   {
    "duration": 12,
    "start_time": "2024-02-09T11:03:01.041Z"
   },
   {
    "duration": 21,
    "start_time": "2024-02-09T11:03:33.316Z"
   },
   {
    "duration": 14,
    "start_time": "2024-02-09T11:08:22.268Z"
   },
   {
    "duration": 8,
    "start_time": "2024-02-09T11:08:39.332Z"
   },
   {
    "duration": 18,
    "start_time": "2024-02-09T11:08:44.875Z"
   },
   {
    "duration": 13,
    "start_time": "2024-02-09T11:10:43.370Z"
   },
   {
    "duration": 11,
    "start_time": "2024-02-09T11:11:45.632Z"
   },
   {
    "duration": 87,
    "start_time": "2024-02-09T11:12:05.015Z"
   },
   {
    "duration": 16,
    "start_time": "2024-02-09T11:12:05.104Z"
   },
   {
    "duration": 31,
    "start_time": "2024-02-09T11:12:05.121Z"
   },
   {
    "duration": 21,
    "start_time": "2024-02-09T11:12:05.154Z"
   },
   {
    "duration": 54,
    "start_time": "2024-02-09T11:12:05.176Z"
   },
   {
    "duration": 3,
    "start_time": "2024-02-09T11:12:05.232Z"
   },
   {
    "duration": 11,
    "start_time": "2024-02-09T11:12:05.237Z"
   },
   {
    "duration": 9,
    "start_time": "2024-02-09T11:12:05.249Z"
   },
   {
    "duration": 7,
    "start_time": "2024-02-09T11:12:05.260Z"
   },
   {
    "duration": 29,
    "start_time": "2024-02-09T11:12:05.271Z"
   },
   {
    "duration": 62,
    "start_time": "2024-02-09T11:12:05.302Z"
   },
   {
    "duration": 13,
    "start_time": "2024-02-09T11:12:05.365Z"
   },
   {
    "duration": 13,
    "start_time": "2024-02-09T11:12:05.379Z"
   },
   {
    "duration": 28,
    "start_time": "2024-02-09T11:12:05.394Z"
   },
   {
    "duration": 36,
    "start_time": "2024-02-09T11:12:05.424Z"
   },
   {
    "duration": 20,
    "start_time": "2024-02-09T11:12:05.461Z"
   },
   {
    "duration": 9,
    "start_time": "2024-02-09T11:12:05.482Z"
   },
   {
    "duration": 21,
    "start_time": "2024-02-09T11:12:05.493Z"
   },
   {
    "duration": 31,
    "start_time": "2024-02-09T11:12:05.515Z"
   },
   {
    "duration": 8,
    "start_time": "2024-02-09T11:12:05.549Z"
   },
   {
    "duration": 19,
    "start_time": "2024-02-09T11:12:05.559Z"
   },
   {
    "duration": 72,
    "start_time": "2024-02-09T11:12:05.580Z"
   },
   {
    "duration": 15,
    "start_time": "2024-02-09T11:12:05.654Z"
   },
   {
    "duration": 18,
    "start_time": "2024-02-09T11:12:05.672Z"
   },
   {
    "duration": 19,
    "start_time": "2024-02-09T11:12:05.692Z"
   },
   {
    "duration": 0,
    "start_time": "2024-02-09T11:12:05.723Z"
   },
   {
    "duration": 0,
    "start_time": "2024-02-09T11:12:05.724Z"
   },
   {
    "duration": 0,
    "start_time": "2024-02-09T11:12:05.725Z"
   },
   {
    "duration": 0,
    "start_time": "2024-02-09T11:12:05.726Z"
   },
   {
    "duration": 12,
    "start_time": "2024-02-09T11:12:21.974Z"
   },
   {
    "duration": 518,
    "start_time": "2024-02-09T15:11:54.286Z"
   },
   {
    "duration": 21,
    "start_time": "2024-02-09T15:11:54.806Z"
   },
   {
    "duration": 22,
    "start_time": "2024-02-09T15:11:54.829Z"
   },
   {
    "duration": 14,
    "start_time": "2024-02-09T15:11:54.853Z"
   },
   {
    "duration": 56,
    "start_time": "2024-02-09T15:11:54.869Z"
   },
   {
    "duration": 3,
    "start_time": "2024-02-09T15:11:54.927Z"
   },
   {
    "duration": 15,
    "start_time": "2024-02-09T15:11:54.932Z"
   },
   {
    "duration": 4,
    "start_time": "2024-02-09T15:11:54.948Z"
   },
   {
    "duration": 7,
    "start_time": "2024-02-09T15:11:54.953Z"
   },
   {
    "duration": 4,
    "start_time": "2024-02-09T15:11:54.965Z"
   },
   {
    "duration": 63,
    "start_time": "2024-02-09T15:11:54.971Z"
   },
   {
    "duration": 11,
    "start_time": "2024-02-09T15:11:55.036Z"
   },
   {
    "duration": 9,
    "start_time": "2024-02-09T15:11:55.049Z"
   },
   {
    "duration": 14,
    "start_time": "2024-02-09T15:11:55.059Z"
   },
   {
    "duration": 27,
    "start_time": "2024-02-09T15:11:55.074Z"
   },
   {
    "duration": 27,
    "start_time": "2024-02-09T15:11:55.103Z"
   },
   {
    "duration": 4,
    "start_time": "2024-02-09T15:11:55.132Z"
   },
   {
    "duration": 17,
    "start_time": "2024-02-09T15:11:55.138Z"
   },
   {
    "duration": 7,
    "start_time": "2024-02-09T15:11:55.157Z"
   },
   {
    "duration": 4,
    "start_time": "2024-02-09T15:11:55.166Z"
   },
   {
    "duration": 11,
    "start_time": "2024-02-09T15:11:55.172Z"
   },
   {
    "duration": 74,
    "start_time": "2024-02-09T15:11:55.216Z"
   },
   {
    "duration": 21,
    "start_time": "2024-02-09T15:11:55.302Z"
   },
   {
    "duration": 20,
    "start_time": "2024-02-09T15:11:58.864Z"
   },
   {
    "duration": 82,
    "start_time": "2024-02-09T15:12:28.272Z"
   },
   {
    "duration": 14,
    "start_time": "2024-02-09T15:12:28.356Z"
   },
   {
    "duration": 48,
    "start_time": "2024-02-09T15:12:28.372Z"
   },
   {
    "duration": 22,
    "start_time": "2024-02-09T15:12:28.422Z"
   },
   {
    "duration": 52,
    "start_time": "2024-02-09T15:12:28.446Z"
   },
   {
    "duration": 4,
    "start_time": "2024-02-09T15:12:28.500Z"
   },
   {
    "duration": 21,
    "start_time": "2024-02-09T15:12:28.505Z"
   },
   {
    "duration": 33,
    "start_time": "2024-02-09T15:12:28.528Z"
   },
   {
    "duration": 29,
    "start_time": "2024-02-09T15:12:28.562Z"
   },
   {
    "duration": 85,
    "start_time": "2024-02-09T15:12:40.235Z"
   },
   {
    "duration": 14,
    "start_time": "2024-02-09T15:12:40.322Z"
   },
   {
    "duration": 16,
    "start_time": "2024-02-09T15:12:40.337Z"
   },
   {
    "duration": 11,
    "start_time": "2024-02-09T15:12:40.355Z"
   },
   {
    "duration": 61,
    "start_time": "2024-02-09T15:12:40.368Z"
   },
   {
    "duration": 3,
    "start_time": "2024-02-09T15:12:40.431Z"
   },
   {
    "duration": 9,
    "start_time": "2024-02-09T15:12:40.435Z"
   },
   {
    "duration": 11,
    "start_time": "2024-02-09T15:12:40.446Z"
   },
   {
    "duration": 5,
    "start_time": "2024-02-09T15:12:40.458Z"
   },
   {
    "duration": 4,
    "start_time": "2024-02-09T15:12:44.347Z"
   },
   {
    "duration": 89,
    "start_time": "2024-02-09T15:14:28.037Z"
   },
   {
    "duration": 20,
    "start_time": "2024-02-09T15:14:28.129Z"
   },
   {
    "duration": 23,
    "start_time": "2024-02-09T15:14:28.151Z"
   },
   {
    "duration": 16,
    "start_time": "2024-02-09T15:14:28.176Z"
   },
   {
    "duration": 72,
    "start_time": "2024-02-09T15:14:28.193Z"
   },
   {
    "duration": 3,
    "start_time": "2024-02-09T15:14:28.267Z"
   },
   {
    "duration": 8,
    "start_time": "2024-02-09T15:14:28.272Z"
   },
   {
    "duration": 6,
    "start_time": "2024-02-09T15:14:28.282Z"
   },
   {
    "duration": 28,
    "start_time": "2024-02-09T15:14:28.289Z"
   },
   {
    "duration": 8,
    "start_time": "2024-02-09T15:14:28.319Z"
   },
   {
    "duration": 35,
    "start_time": "2024-02-09T15:14:28.328Z"
   },
   {
    "duration": 13,
    "start_time": "2024-02-09T15:14:28.365Z"
   },
   {
    "duration": 4,
    "start_time": "2024-02-09T15:14:28.380Z"
   },
   {
    "duration": 41,
    "start_time": "2024-02-09T15:14:28.385Z"
   },
   {
    "duration": 23,
    "start_time": "2024-02-09T15:14:28.428Z"
   },
   {
    "duration": 19,
    "start_time": "2024-02-09T15:14:28.453Z"
   },
   {
    "duration": 3,
    "start_time": "2024-02-09T15:14:28.474Z"
   },
   {
    "duration": 12,
    "start_time": "2024-02-09T15:14:28.479Z"
   },
   {
    "duration": 6,
    "start_time": "2024-02-09T15:14:28.515Z"
   },
   {
    "duration": 4,
    "start_time": "2024-02-09T15:14:28.523Z"
   },
   {
    "duration": 11,
    "start_time": "2024-02-09T15:14:28.528Z"
   },
   {
    "duration": 77,
    "start_time": "2024-02-09T15:14:28.540Z"
   },
   {
    "duration": 15,
    "start_time": "2024-02-09T15:14:28.619Z"
   },
   {
    "duration": 103,
    "start_time": "2024-02-09T15:14:28.636Z"
   },
   {
    "duration": 88,
    "start_time": "2024-02-09T15:14:50.289Z"
   },
   {
    "duration": 14,
    "start_time": "2024-02-09T15:14:50.379Z"
   },
   {
    "duration": 40,
    "start_time": "2024-02-09T15:14:50.394Z"
   },
   {
    "duration": 10,
    "start_time": "2024-02-09T15:14:50.436Z"
   },
   {
    "duration": 55,
    "start_time": "2024-02-09T15:14:50.448Z"
   },
   {
    "duration": 4,
    "start_time": "2024-02-09T15:14:50.504Z"
   },
   {
    "duration": 21,
    "start_time": "2024-02-09T15:14:50.509Z"
   },
   {
    "duration": 10,
    "start_time": "2024-02-09T15:14:50.531Z"
   },
   {
    "duration": 12,
    "start_time": "2024-02-09T15:14:50.542Z"
   },
   {
    "duration": 12,
    "start_time": "2024-02-09T15:14:50.557Z"
   },
   {
    "duration": 42,
    "start_time": "2024-02-09T15:14:50.570Z"
   },
   {
    "duration": 17,
    "start_time": "2024-02-09T15:14:50.614Z"
   },
   {
    "duration": 3,
    "start_time": "2024-02-09T15:14:50.632Z"
   },
   {
    "duration": 11,
    "start_time": "2024-02-09T15:14:50.637Z"
   },
   {
    "duration": 17,
    "start_time": "2024-02-09T15:14:50.650Z"
   },
   {
    "duration": 15,
    "start_time": "2024-02-09T15:14:50.669Z"
   },
   {
    "duration": 4,
    "start_time": "2024-02-09T15:14:50.685Z"
   },
   {
    "duration": 45,
    "start_time": "2024-02-09T15:14:50.690Z"
   },
   {
    "duration": 13,
    "start_time": "2024-02-09T15:14:50.737Z"
   },
   {
    "duration": 26,
    "start_time": "2024-02-09T15:14:50.751Z"
   },
   {
    "duration": 19,
    "start_time": "2024-02-09T15:14:50.779Z"
   },
   {
    "duration": 92,
    "start_time": "2024-02-09T15:14:50.799Z"
   },
   {
    "duration": 13,
    "start_time": "2024-02-09T15:14:50.893Z"
   },
   {
    "duration": 83,
    "start_time": "2024-02-09T15:14:50.907Z"
   },
   {
    "duration": 82,
    "start_time": "2024-02-09T15:15:08.603Z"
   },
   {
    "duration": 16,
    "start_time": "2024-02-09T15:15:08.687Z"
   },
   {
    "duration": 20,
    "start_time": "2024-02-09T15:15:08.704Z"
   },
   {
    "duration": 9,
    "start_time": "2024-02-09T15:15:08.726Z"
   },
   {
    "duration": 37,
    "start_time": "2024-02-09T15:15:08.737Z"
   },
   {
    "duration": 3,
    "start_time": "2024-02-09T15:15:08.776Z"
   },
   {
    "duration": 39,
    "start_time": "2024-02-09T15:15:08.780Z"
   },
   {
    "duration": 5,
    "start_time": "2024-02-09T15:15:08.820Z"
   },
   {
    "duration": 7,
    "start_time": "2024-02-09T15:15:08.826Z"
   },
   {
    "duration": 8,
    "start_time": "2024-02-09T15:15:08.835Z"
   },
   {
    "duration": 37,
    "start_time": "2024-02-09T15:15:08.844Z"
   },
   {
    "duration": 32,
    "start_time": "2024-02-09T15:15:08.883Z"
   },
   {
    "duration": 4,
    "start_time": "2024-02-09T15:15:08.917Z"
   },
   {
    "duration": 11,
    "start_time": "2024-02-09T15:15:08.922Z"
   },
   {
    "duration": 18,
    "start_time": "2024-02-09T15:15:08.935Z"
   },
   {
    "duration": 19,
    "start_time": "2024-02-09T15:15:08.954Z"
   },
   {
    "duration": 4,
    "start_time": "2024-02-09T15:15:08.975Z"
   },
   {
    "duration": 37,
    "start_time": "2024-02-09T15:15:08.980Z"
   },
   {
    "duration": 6,
    "start_time": "2024-02-09T15:15:09.018Z"
   },
   {
    "duration": 4,
    "start_time": "2024-02-09T15:15:09.025Z"
   },
   {
    "duration": 12,
    "start_time": "2024-02-09T15:15:09.030Z"
   },
   {
    "duration": 84,
    "start_time": "2024-02-09T15:15:09.044Z"
   },
   {
    "duration": 12,
    "start_time": "2024-02-09T15:15:09.130Z"
   },
   {
    "duration": 4,
    "start_time": "2024-02-09T15:15:12.522Z"
   },
   {
    "duration": 66,
    "start_time": "2024-02-09T15:16:12.681Z"
   },
   {
    "duration": 84,
    "start_time": "2024-02-09T15:16:23.146Z"
   },
   {
    "duration": 13,
    "start_time": "2024-02-09T15:16:23.231Z"
   },
   {
    "duration": 16,
    "start_time": "2024-02-09T15:16:23.246Z"
   },
   {
    "duration": 9,
    "start_time": "2024-02-09T15:16:23.265Z"
   },
   {
    "duration": 55,
    "start_time": "2024-02-09T15:16:23.276Z"
   },
   {
    "duration": 3,
    "start_time": "2024-02-09T15:16:23.332Z"
   },
   {
    "duration": 9,
    "start_time": "2024-02-09T15:16:23.336Z"
   },
   {
    "duration": 4,
    "start_time": "2024-02-09T15:16:23.347Z"
   },
   {
    "duration": 7,
    "start_time": "2024-02-09T15:16:23.353Z"
   },
   {
    "duration": 4,
    "start_time": "2024-02-09T15:16:23.363Z"
   },
   {
    "duration": 71,
    "start_time": "2024-02-09T15:16:23.369Z"
   },
   {
    "duration": 11,
    "start_time": "2024-02-09T15:16:23.442Z"
   },
   {
    "duration": 6,
    "start_time": "2024-02-09T15:16:23.455Z"
   },
   {
    "duration": 12,
    "start_time": "2024-02-09T15:16:23.463Z"
   },
   {
    "duration": 18,
    "start_time": "2024-02-09T15:16:23.476Z"
   },
   {
    "duration": 33,
    "start_time": "2024-02-09T15:16:23.496Z"
   },
   {
    "duration": 3,
    "start_time": "2024-02-09T15:16:23.531Z"
   },
   {
    "duration": 16,
    "start_time": "2024-02-09T15:16:23.535Z"
   },
   {
    "duration": 6,
    "start_time": "2024-02-09T15:16:23.553Z"
   },
   {
    "duration": 5,
    "start_time": "2024-02-09T15:16:23.560Z"
   },
   {
    "duration": 11,
    "start_time": "2024-02-09T15:16:23.566Z"
   },
   {
    "duration": 77,
    "start_time": "2024-02-09T15:16:23.578Z"
   },
   {
    "duration": 14,
    "start_time": "2024-02-09T15:16:23.657Z"
   },
   {
    "duration": 6,
    "start_time": "2024-02-09T15:16:23.672Z"
   },
   {
    "duration": 44,
    "start_time": "2024-02-09T15:16:23.679Z"
   },
   {
    "duration": 3,
    "start_time": "2024-02-09T15:16:23.724Z"
   },
   {
    "duration": 7,
    "start_time": "2024-02-09T15:16:23.728Z"
   },
   {
    "duration": 723,
    "start_time": "2024-02-09T20:55:19.438Z"
   },
   {
    "duration": 15,
    "start_time": "2024-02-09T20:55:20.163Z"
   },
   {
    "duration": 16,
    "start_time": "2024-02-09T20:55:20.180Z"
   },
   {
    "duration": 11,
    "start_time": "2024-02-09T20:55:20.199Z"
   },
   {
    "duration": 45,
    "start_time": "2024-02-09T20:55:20.211Z"
   },
   {
    "duration": 3,
    "start_time": "2024-02-09T20:55:20.258Z"
   },
   {
    "duration": 14,
    "start_time": "2024-02-09T20:55:20.263Z"
   },
   {
    "duration": 5,
    "start_time": "2024-02-09T20:55:20.279Z"
   },
   {
    "duration": 8,
    "start_time": "2024-02-09T20:55:20.286Z"
   },
   {
    "duration": 4,
    "start_time": "2024-02-09T20:55:20.298Z"
   },
   {
    "duration": 67,
    "start_time": "2024-02-09T20:55:20.303Z"
   },
   {
    "duration": 10,
    "start_time": "2024-02-09T20:55:20.372Z"
   },
   {
    "duration": 3,
    "start_time": "2024-02-09T20:55:20.384Z"
   },
   {
    "duration": 15,
    "start_time": "2024-02-09T20:55:20.389Z"
   },
   {
    "duration": 44,
    "start_time": "2024-02-09T20:55:20.406Z"
   },
   {
    "duration": 16,
    "start_time": "2024-02-09T20:55:20.452Z"
   },
   {
    "duration": 3,
    "start_time": "2024-02-09T20:55:20.470Z"
   },
   {
    "duration": 17,
    "start_time": "2024-02-09T20:55:20.475Z"
   },
   {
    "duration": 7,
    "start_time": "2024-02-09T20:55:20.493Z"
   },
   {
    "duration": 3,
    "start_time": "2024-02-09T20:55:20.502Z"
   },
   {
    "duration": 38,
    "start_time": "2024-02-09T20:55:20.506Z"
   },
   {
    "duration": 71,
    "start_time": "2024-02-09T20:55:20.546Z"
   },
   {
    "duration": 12,
    "start_time": "2024-02-09T20:55:20.619Z"
   },
   {
    "duration": 6,
    "start_time": "2024-02-09T20:55:20.633Z"
   },
   {
    "duration": 4,
    "start_time": "2024-02-09T20:55:25.838Z"
   },
   {
    "duration": 80,
    "start_time": "2024-02-09T21:21:17.882Z"
   },
   {
    "duration": 14,
    "start_time": "2024-02-09T21:21:17.964Z"
   },
   {
    "duration": 15,
    "start_time": "2024-02-09T21:21:17.979Z"
   },
   {
    "duration": 10,
    "start_time": "2024-02-09T21:21:17.996Z"
   },
   {
    "duration": 51,
    "start_time": "2024-02-09T21:21:18.007Z"
   },
   {
    "duration": 3,
    "start_time": "2024-02-09T21:21:18.059Z"
   },
   {
    "duration": 9,
    "start_time": "2024-02-09T21:21:18.064Z"
   },
   {
    "duration": 14,
    "start_time": "2024-02-09T21:21:26.726Z"
   },
   {
    "duration": 3,
    "start_time": "2024-02-09T21:22:09.673Z"
   },
   {
    "duration": 79,
    "start_time": "2024-02-09T21:22:26.591Z"
   },
   {
    "duration": 14,
    "start_time": "2024-02-09T21:22:26.672Z"
   },
   {
    "duration": 19,
    "start_time": "2024-02-09T21:22:26.687Z"
   },
   {
    "duration": 10,
    "start_time": "2024-02-09T21:22:26.708Z"
   },
   {
    "duration": 45,
    "start_time": "2024-02-09T21:22:26.720Z"
   },
   {
    "duration": 3,
    "start_time": "2024-02-09T21:22:26.767Z"
   },
   {
    "duration": 13,
    "start_time": "2024-02-09T21:22:26.771Z"
   },
   {
    "duration": 4,
    "start_time": "2024-02-09T21:22:26.785Z"
   },
   {
    "duration": 6,
    "start_time": "2024-02-09T21:22:29.470Z"
   },
   {
    "duration": 94,
    "start_time": "2024-02-09T21:22:48.933Z"
   },
   {
    "duration": 17,
    "start_time": "2024-02-09T21:22:49.029Z"
   },
   {
    "duration": 18,
    "start_time": "2024-02-09T21:22:49.047Z"
   },
   {
    "duration": 16,
    "start_time": "2024-02-09T21:22:49.067Z"
   },
   {
    "duration": 48,
    "start_time": "2024-02-09T21:22:49.085Z"
   },
   {
    "duration": 3,
    "start_time": "2024-02-09T21:22:49.135Z"
   },
   {
    "duration": 10,
    "start_time": "2024-02-09T21:22:49.140Z"
   },
   {
    "duration": 3,
    "start_time": "2024-02-09T21:22:49.152Z"
   },
   {
    "duration": 9,
    "start_time": "2024-02-09T21:22:49.157Z"
   },
   {
    "duration": 4,
    "start_time": "2024-02-09T21:22:51.626Z"
   },
   {
    "duration": 86,
    "start_time": "2024-02-09T21:23:17.444Z"
   },
   {
    "duration": 13,
    "start_time": "2024-02-09T21:23:17.531Z"
   },
   {
    "duration": 31,
    "start_time": "2024-02-09T21:23:17.546Z"
   },
   {
    "duration": 9,
    "start_time": "2024-02-09T21:23:17.579Z"
   },
   {
    "duration": 31,
    "start_time": "2024-02-09T21:23:17.589Z"
   },
   {
    "duration": 3,
    "start_time": "2024-02-09T21:23:17.633Z"
   },
   {
    "duration": 20,
    "start_time": "2024-02-09T21:23:17.637Z"
   },
   {
    "duration": 6,
    "start_time": "2024-02-09T21:23:17.658Z"
   },
   {
    "duration": 5,
    "start_time": "2024-02-09T21:23:17.666Z"
   },
   {
    "duration": 6,
    "start_time": "2024-02-09T21:23:17.673Z"
   },
   {
    "duration": 53,
    "start_time": "2024-02-09T21:23:17.680Z"
   },
   {
    "duration": 9,
    "start_time": "2024-02-09T21:23:17.735Z"
   },
   {
    "duration": 23,
    "start_time": "2024-02-09T21:23:17.746Z"
   },
   {
    "duration": 14,
    "start_time": "2024-02-09T21:23:17.771Z"
   },
   {
    "duration": 19,
    "start_time": "2024-02-09T21:23:17.787Z"
   },
   {
    "duration": 17,
    "start_time": "2024-02-09T21:23:17.807Z"
   },
   {
    "duration": 3,
    "start_time": "2024-02-09T21:23:17.832Z"
   },
   {
    "duration": 19,
    "start_time": "2024-02-09T21:23:17.837Z"
   },
   {
    "duration": 17,
    "start_time": "2024-02-09T21:23:17.857Z"
   },
   {
    "duration": 4,
    "start_time": "2024-02-09T21:23:17.876Z"
   },
   {
    "duration": 10,
    "start_time": "2024-02-09T21:23:17.881Z"
   },
   {
    "duration": 56,
    "start_time": "2024-02-09T21:23:17.892Z"
   },
   {
    "duration": 14,
    "start_time": "2024-02-09T21:23:17.949Z"
   },
   {
    "duration": 10,
    "start_time": "2024-02-09T21:23:17.964Z"
   },
   {
    "duration": 29,
    "start_time": "2024-02-09T21:23:17.976Z"
   },
   {
    "duration": 2,
    "start_time": "2024-02-09T21:23:18.007Z"
   },
   {
    "duration": 21,
    "start_time": "2024-02-09T21:23:18.011Z"
   },
   {
    "duration": 4,
    "start_time": "2024-02-09T21:23:28.628Z"
   },
   {
    "duration": 86,
    "start_time": "2024-02-09T21:28:39.436Z"
   },
   {
    "duration": 14,
    "start_time": "2024-02-09T21:28:39.524Z"
   },
   {
    "duration": 31,
    "start_time": "2024-02-09T21:28:39.540Z"
   },
   {
    "duration": 20,
    "start_time": "2024-02-09T21:28:39.574Z"
   },
   {
    "duration": 32,
    "start_time": "2024-02-09T21:28:39.596Z"
   },
   {
    "duration": 3,
    "start_time": "2024-02-09T21:28:39.629Z"
   },
   {
    "duration": 9,
    "start_time": "2024-02-09T21:28:39.633Z"
   },
   {
    "duration": 3,
    "start_time": "2024-02-09T21:28:39.643Z"
   },
   {
    "duration": 20,
    "start_time": "2024-02-09T21:28:41.933Z"
   },
   {
    "duration": 4,
    "start_time": "2024-02-09T21:29:12.037Z"
   },
   {
    "duration": 85,
    "start_time": "2024-02-09T21:30:21.125Z"
   },
   {
    "duration": 15,
    "start_time": "2024-02-09T21:30:21.213Z"
   },
   {
    "duration": 17,
    "start_time": "2024-02-09T21:30:21.232Z"
   },
   {
    "duration": 15,
    "start_time": "2024-02-09T21:30:21.251Z"
   },
   {
    "duration": 76,
    "start_time": "2024-02-09T21:30:21.268Z"
   },
   {
    "duration": 4,
    "start_time": "2024-02-09T21:30:21.346Z"
   },
   {
    "duration": 12,
    "start_time": "2024-02-09T21:30:21.352Z"
   },
   {
    "duration": 4,
    "start_time": "2024-02-09T21:30:21.366Z"
   },
   {
    "duration": 33,
    "start_time": "2024-02-09T21:30:21.371Z"
   },
   {
    "duration": 4,
    "start_time": "2024-02-09T21:30:21.433Z"
   },
   {
    "duration": 42,
    "start_time": "2024-02-09T21:30:21.439Z"
   },
   {
    "duration": 11,
    "start_time": "2024-02-09T21:30:21.483Z"
   },
   {
    "duration": 8,
    "start_time": "2024-02-09T21:30:21.495Z"
   },
   {
    "duration": 37,
    "start_time": "2024-02-09T21:30:21.504Z"
   },
   {
    "duration": 27,
    "start_time": "2024-02-09T21:30:21.543Z"
   },
   {
    "duration": 24,
    "start_time": "2024-02-09T21:30:21.571Z"
   },
   {
    "duration": 4,
    "start_time": "2024-02-09T21:30:21.596Z"
   },
   {
    "duration": 32,
    "start_time": "2024-02-09T21:30:21.602Z"
   },
   {
    "duration": 7,
    "start_time": "2024-02-09T21:30:21.636Z"
   },
   {
    "duration": 3,
    "start_time": "2024-02-09T21:30:21.645Z"
   },
   {
    "duration": 17,
    "start_time": "2024-02-09T21:30:21.650Z"
   },
   {
    "duration": 8,
    "start_time": "2024-02-09T21:30:52.359Z"
   },
   {
    "duration": 3,
    "start_time": "2024-02-09T21:31:42.995Z"
   },
   {
    "duration": 95,
    "start_time": "2024-02-09T21:31:52.709Z"
   },
   {
    "duration": 27,
    "start_time": "2024-02-09T21:31:52.807Z"
   },
   {
    "duration": 15,
    "start_time": "2024-02-09T21:31:52.836Z"
   },
   {
    "duration": 12,
    "start_time": "2024-02-09T21:31:52.853Z"
   },
   {
    "duration": 37,
    "start_time": "2024-02-09T21:31:52.867Z"
   },
   {
    "duration": 4,
    "start_time": "2024-02-09T21:31:52.933Z"
   },
   {
    "duration": 8,
    "start_time": "2024-02-09T21:31:52.938Z"
   },
   {
    "duration": 4,
    "start_time": "2024-02-09T21:31:52.948Z"
   },
   {
    "duration": 19,
    "start_time": "2024-02-09T21:31:52.953Z"
   },
   {
    "duration": 3,
    "start_time": "2024-02-09T21:31:52.975Z"
   },
   {
    "duration": 55,
    "start_time": "2024-02-09T21:31:52.980Z"
   },
   {
    "duration": 10,
    "start_time": "2024-02-09T21:31:53.037Z"
   },
   {
    "duration": 4,
    "start_time": "2024-02-09T21:31:53.048Z"
   },
   {
    "duration": 16,
    "start_time": "2024-02-09T21:31:53.053Z"
   },
   {
    "duration": 17,
    "start_time": "2024-02-09T21:31:53.070Z"
   },
   {
    "duration": 16,
    "start_time": "2024-02-09T21:31:53.089Z"
   },
   {
    "duration": 28,
    "start_time": "2024-02-09T21:31:53.107Z"
   },
   {
    "duration": 11,
    "start_time": "2024-02-09T21:31:53.136Z"
   },
   {
    "duration": 5,
    "start_time": "2024-02-09T21:31:53.149Z"
   },
   {
    "duration": 3,
    "start_time": "2024-02-09T21:31:53.156Z"
   },
   {
    "duration": 8,
    "start_time": "2024-02-09T21:31:55.148Z"
   },
   {
    "duration": 89,
    "start_time": "2024-02-09T21:33:47.789Z"
   },
   {
    "duration": 14,
    "start_time": "2024-02-09T21:33:47.879Z"
   },
   {
    "duration": 31,
    "start_time": "2024-02-09T21:33:47.895Z"
   },
   {
    "duration": 25,
    "start_time": "2024-02-09T21:33:47.932Z"
   },
   {
    "duration": 47,
    "start_time": "2024-02-09T21:33:47.959Z"
   },
   {
    "duration": 3,
    "start_time": "2024-02-09T21:33:48.007Z"
   },
   {
    "duration": 20,
    "start_time": "2024-02-09T21:33:48.012Z"
   },
   {
    "duration": 16,
    "start_time": "2024-02-09T21:33:48.034Z"
   },
   {
    "duration": 49,
    "start_time": "2024-02-09T21:33:48.051Z"
   },
   {
    "duration": 5,
    "start_time": "2024-02-09T21:33:48.102Z"
   },
   {
    "duration": 43,
    "start_time": "2024-02-09T21:33:48.109Z"
   },
   {
    "duration": 9,
    "start_time": "2024-02-09T21:33:48.154Z"
   },
   {
    "duration": 24,
    "start_time": "2024-02-09T21:33:48.165Z"
   },
   {
    "duration": 42,
    "start_time": "2024-02-09T21:33:48.191Z"
   },
   {
    "duration": 31,
    "start_time": "2024-02-09T21:33:48.234Z"
   },
   {
    "duration": 26,
    "start_time": "2024-02-09T21:33:48.267Z"
   },
   {
    "duration": 10,
    "start_time": "2024-02-09T21:33:48.294Z"
   },
   {
    "duration": 34,
    "start_time": "2024-02-09T21:33:48.305Z"
   },
   {
    "duration": 32,
    "start_time": "2024-02-09T21:33:48.340Z"
   },
   {
    "duration": 30,
    "start_time": "2024-02-09T21:33:48.374Z"
   },
   {
    "duration": 38,
    "start_time": "2024-02-09T21:33:48.405Z"
   },
   {
    "duration": 15,
    "start_time": "2024-02-09T21:37:00.042Z"
   },
   {
    "duration": 81,
    "start_time": "2024-02-09T21:37:39.854Z"
   },
   {
    "duration": 13,
    "start_time": "2024-02-09T21:37:39.937Z"
   },
   {
    "duration": 31,
    "start_time": "2024-02-09T21:37:39.952Z"
   },
   {
    "duration": 10,
    "start_time": "2024-02-09T21:37:39.984Z"
   },
   {
    "duration": 43,
    "start_time": "2024-02-09T21:37:39.995Z"
   },
   {
    "duration": 8,
    "start_time": "2024-02-09T21:37:40.039Z"
   },
   {
    "duration": 17,
    "start_time": "2024-02-09T21:37:40.048Z"
   },
   {
    "duration": 5,
    "start_time": "2024-02-09T21:37:40.066Z"
   },
   {
    "duration": 34,
    "start_time": "2024-02-09T21:37:40.072Z"
   },
   {
    "duration": 4,
    "start_time": "2024-02-09T21:37:40.108Z"
   },
   {
    "duration": 49,
    "start_time": "2024-02-09T21:37:40.113Z"
   },
   {
    "duration": 9,
    "start_time": "2024-02-09T21:37:40.163Z"
   },
   {
    "duration": 3,
    "start_time": "2024-02-09T21:37:40.173Z"
   },
   {
    "duration": 16,
    "start_time": "2024-02-09T21:37:40.177Z"
   },
   {
    "duration": 30,
    "start_time": "2024-02-09T21:37:40.194Z"
   },
   {
    "duration": 16,
    "start_time": "2024-02-09T21:37:40.225Z"
   },
   {
    "duration": 3,
    "start_time": "2024-02-09T21:37:40.242Z"
   },
   {
    "duration": 27,
    "start_time": "2024-02-09T21:37:40.246Z"
   },
   {
    "duration": 7,
    "start_time": "2024-02-09T21:37:40.275Z"
   },
   {
    "duration": 4,
    "start_time": "2024-02-09T21:37:40.284Z"
   },
   {
    "duration": 14,
    "start_time": "2024-02-09T21:37:40.289Z"
   },
   {
    "duration": 16,
    "start_time": "2024-02-09T21:37:40.304Z"
   },
   {
    "duration": 15,
    "start_time": "2024-02-09T21:37:40.332Z"
   },
   {
    "duration": 4,
    "start_time": "2024-02-09T21:37:40.349Z"
   },
   {
    "duration": 31,
    "start_time": "2024-02-09T21:37:40.355Z"
   },
   {
    "duration": 2,
    "start_time": "2024-02-09T21:37:40.388Z"
   },
   {
    "duration": 8,
    "start_time": "2024-02-09T21:37:40.392Z"
   },
   {
    "duration": 5,
    "start_time": "2024-02-09T21:37:51.168Z"
   },
   {
    "duration": 79,
    "start_time": "2024-02-09T21:59:15.899Z"
   },
   {
    "duration": 13,
    "start_time": "2024-02-09T21:59:15.980Z"
   },
   {
    "duration": 15,
    "start_time": "2024-02-09T21:59:15.994Z"
   },
   {
    "duration": 22,
    "start_time": "2024-02-09T21:59:16.011Z"
   },
   {
    "duration": 31,
    "start_time": "2024-02-09T21:59:16.035Z"
   },
   {
    "duration": 3,
    "start_time": "2024-02-09T21:59:16.067Z"
   },
   {
    "duration": 10,
    "start_time": "2024-02-09T21:59:16.071Z"
   },
   {
    "duration": 3,
    "start_time": "2024-02-09T21:59:16.082Z"
   },
   {
    "duration": 19,
    "start_time": "2024-02-09T21:59:16.086Z"
   },
   {
    "duration": 26,
    "start_time": "2024-02-09T21:59:16.108Z"
   },
   {
    "duration": 36,
    "start_time": "2024-02-09T21:59:16.136Z"
   },
   {
    "duration": 11,
    "start_time": "2024-02-09T21:59:16.173Z"
   },
   {
    "duration": 6,
    "start_time": "2024-02-09T21:59:16.186Z"
   },
   {
    "duration": 39,
    "start_time": "2024-02-09T21:59:16.194Z"
   },
   {
    "duration": 18,
    "start_time": "2024-02-09T21:59:16.235Z"
   },
   {
    "duration": 15,
    "start_time": "2024-02-09T21:59:16.255Z"
   },
   {
    "duration": 3,
    "start_time": "2024-02-09T21:59:16.271Z"
   },
   {
    "duration": 15,
    "start_time": "2024-02-09T21:59:16.276Z"
   },
   {
    "duration": 5,
    "start_time": "2024-02-09T21:59:16.293Z"
   },
   {
    "duration": 5,
    "start_time": "2024-02-09T21:59:16.299Z"
   },
   {
    "duration": 36,
    "start_time": "2024-02-09T21:59:16.305Z"
   },
   {
    "duration": 28,
    "start_time": "2024-02-09T21:59:16.342Z"
   },
   {
    "duration": 16,
    "start_time": "2024-02-09T21:59:16.372Z"
   },
   {
    "duration": 23,
    "start_time": "2024-02-09T21:59:16.389Z"
   },
   {
    "duration": 31,
    "start_time": "2024-02-09T21:59:16.415Z"
   },
   {
    "duration": 9,
    "start_time": "2024-02-09T21:59:16.448Z"
   },
   {
    "duration": 18,
    "start_time": "2024-02-09T21:59:33.939Z"
   },
   {
    "duration": 84,
    "start_time": "2024-02-09T22:00:57.758Z"
   },
   {
    "duration": 14,
    "start_time": "2024-02-09T22:00:57.843Z"
   },
   {
    "duration": 21,
    "start_time": "2024-02-09T22:00:57.859Z"
   },
   {
    "duration": 9,
    "start_time": "2024-02-09T22:00:57.882Z"
   },
   {
    "duration": 54,
    "start_time": "2024-02-09T22:00:57.893Z"
   },
   {
    "duration": 3,
    "start_time": "2024-02-09T22:00:57.948Z"
   },
   {
    "duration": 24,
    "start_time": "2024-02-09T22:00:57.952Z"
   },
   {
    "duration": 6,
    "start_time": "2024-02-09T22:00:57.978Z"
   },
   {
    "duration": 24,
    "start_time": "2024-02-09T22:00:57.985Z"
   },
   {
    "duration": 4,
    "start_time": "2024-02-09T22:00:58.011Z"
   },
   {
    "duration": 39,
    "start_time": "2024-02-09T22:00:58.016Z"
   },
   {
    "duration": 10,
    "start_time": "2024-02-09T22:00:58.056Z"
   },
   {
    "duration": 3,
    "start_time": "2024-02-09T22:00:58.067Z"
   },
   {
    "duration": 13,
    "start_time": "2024-02-09T22:00:58.082Z"
   },
   {
    "duration": 19,
    "start_time": "2024-02-09T22:00:58.096Z"
   },
   {
    "duration": 28,
    "start_time": "2024-02-09T22:00:58.117Z"
   },
   {
    "duration": 3,
    "start_time": "2024-02-09T22:00:58.147Z"
   },
   {
    "duration": 11,
    "start_time": "2024-02-09T22:00:58.152Z"
   },
   {
    "duration": 13,
    "start_time": "2024-02-09T22:00:58.165Z"
   },
   {
    "duration": 8,
    "start_time": "2024-02-09T22:00:58.180Z"
   },
   {
    "duration": 12,
    "start_time": "2024-02-09T22:00:58.189Z"
   },
   {
    "duration": 32,
    "start_time": "2024-02-09T22:00:58.202Z"
   },
   {
    "duration": 19,
    "start_time": "2024-02-09T22:01:01.731Z"
   },
   {
    "duration": 85,
    "start_time": "2024-02-09T22:01:40.063Z"
   },
   {
    "duration": 15,
    "start_time": "2024-02-09T22:01:40.150Z"
   },
   {
    "duration": 15,
    "start_time": "2024-02-09T22:01:40.166Z"
   },
   {
    "duration": 14,
    "start_time": "2024-02-09T22:01:40.183Z"
   },
   {
    "duration": 59,
    "start_time": "2024-02-09T22:01:40.198Z"
   },
   {
    "duration": 3,
    "start_time": "2024-02-09T22:01:40.259Z"
   },
   {
    "duration": 17,
    "start_time": "2024-02-09T22:01:40.264Z"
   },
   {
    "duration": 4,
    "start_time": "2024-02-09T22:01:40.283Z"
   },
   {
    "duration": 24,
    "start_time": "2024-02-09T22:01:40.289Z"
   },
   {
    "duration": 4,
    "start_time": "2024-02-09T22:01:40.316Z"
   },
   {
    "duration": 42,
    "start_time": "2024-02-09T22:01:40.332Z"
   },
   {
    "duration": 10,
    "start_time": "2024-02-09T22:01:40.376Z"
   },
   {
    "duration": 4,
    "start_time": "2024-02-09T22:01:40.388Z"
   },
   {
    "duration": 12,
    "start_time": "2024-02-09T22:01:40.393Z"
   },
   {
    "duration": 74,
    "start_time": "2024-02-09T22:01:40.407Z"
   },
   {
    "duration": 17,
    "start_time": "2024-02-09T22:01:40.482Z"
   },
   {
    "duration": 4,
    "start_time": "2024-02-09T22:01:40.500Z"
   },
   {
    "duration": 36,
    "start_time": "2024-02-09T22:01:40.505Z"
   },
   {
    "duration": 5,
    "start_time": "2024-02-09T22:01:40.544Z"
   },
   {
    "duration": 8,
    "start_time": "2024-02-09T22:01:40.551Z"
   },
   {
    "duration": 10,
    "start_time": "2024-02-09T22:01:40.560Z"
   },
   {
    "duration": 15,
    "start_time": "2024-02-09T22:01:40.572Z"
   },
   {
    "duration": 17,
    "start_time": "2024-02-09T22:02:00.366Z"
   },
   {
    "duration": 16,
    "start_time": "2024-02-09T22:03:10.337Z"
   },
   {
    "duration": 98,
    "start_time": "2024-02-09T22:04:24.785Z"
   },
   {
    "duration": 4,
    "start_time": "2024-02-09T22:05:20.065Z"
   },
   {
    "duration": 9,
    "start_time": "2024-02-09T22:05:37.702Z"
   },
   {
    "duration": 685,
    "start_time": "2024-02-11T11:18:17.981Z"
   },
   {
    "duration": 14,
    "start_time": "2024-02-11T11:18:18.668Z"
   },
   {
    "duration": 14,
    "start_time": "2024-02-11T11:18:18.683Z"
   },
   {
    "duration": 10,
    "start_time": "2024-02-11T11:18:18.699Z"
   },
   {
    "duration": 46,
    "start_time": "2024-02-11T11:18:18.710Z"
   },
   {
    "duration": 3,
    "start_time": "2024-02-11T11:18:18.757Z"
   },
   {
    "duration": 8,
    "start_time": "2024-02-11T11:18:18.762Z"
   },
   {
    "duration": 3,
    "start_time": "2024-02-11T11:18:18.772Z"
   },
   {
    "duration": 43,
    "start_time": "2024-02-11T11:18:18.776Z"
   },
   {
    "duration": 4,
    "start_time": "2024-02-11T11:18:18.821Z"
   },
   {
    "duration": 37,
    "start_time": "2024-02-11T11:18:18.826Z"
   },
   {
    "duration": 10,
    "start_time": "2024-02-11T11:18:18.865Z"
   },
   {
    "duration": 4,
    "start_time": "2024-02-11T11:18:18.876Z"
   },
   {
    "duration": 41,
    "start_time": "2024-02-11T11:18:18.881Z"
   },
   {
    "duration": 26,
    "start_time": "2024-02-11T11:18:18.923Z"
   },
   {
    "duration": 21,
    "start_time": "2024-02-11T11:18:18.951Z"
   },
   {
    "duration": 4,
    "start_time": "2024-02-11T11:18:18.974Z"
   },
   {
    "duration": 13,
    "start_time": "2024-02-11T11:18:18.979Z"
   },
   {
    "duration": 26,
    "start_time": "2024-02-11T11:18:18.994Z"
   },
   {
    "duration": 4,
    "start_time": "2024-02-11T11:18:19.021Z"
   },
   {
    "duration": 13,
    "start_time": "2024-02-11T11:18:19.026Z"
   },
   {
    "duration": 15,
    "start_time": "2024-02-11T11:18:19.040Z"
   },
   {
    "duration": 70,
    "start_time": "2024-02-11T11:18:19.056Z"
   },
   {
    "duration": 0,
    "start_time": "2024-02-11T11:18:19.127Z"
   },
   {
    "duration": 0,
    "start_time": "2024-02-11T11:18:19.128Z"
   },
   {
    "duration": 0,
    "start_time": "2024-02-11T11:18:19.129Z"
   },
   {
    "duration": 90,
    "start_time": "2024-02-11T11:19:06.155Z"
   },
   {
    "duration": 71,
    "start_time": "2024-02-11T11:19:23.554Z"
   },
   {
    "duration": 71,
    "start_time": "2024-02-11T11:20:17.856Z"
   },
   {
    "duration": 666,
    "start_time": "2024-02-11T11:20:47.378Z"
   },
   {
    "duration": 10,
    "start_time": "2024-02-11T11:21:09.189Z"
   },
   {
    "duration": 22,
    "start_time": "2024-02-11T11:28:28.431Z"
   },
   {
    "duration": 20,
    "start_time": "2024-02-11T11:28:39.340Z"
   },
   {
    "duration": 85,
    "start_time": "2024-02-11T11:56:38.986Z"
   },
   {
    "duration": 14,
    "start_time": "2024-02-11T11:56:39.073Z"
   },
   {
    "duration": 30,
    "start_time": "2024-02-11T11:56:39.088Z"
   },
   {
    "duration": 10,
    "start_time": "2024-02-11T11:56:39.120Z"
   },
   {
    "duration": 47,
    "start_time": "2024-02-11T11:56:39.132Z"
   },
   {
    "duration": 3,
    "start_time": "2024-02-11T11:56:39.181Z"
   },
   {
    "duration": 10,
    "start_time": "2024-02-11T11:56:39.185Z"
   },
   {
    "duration": 3,
    "start_time": "2024-02-11T11:56:39.196Z"
   },
   {
    "duration": 31,
    "start_time": "2024-02-11T11:56:39.200Z"
   },
   {
    "duration": 4,
    "start_time": "2024-02-11T11:56:39.234Z"
   },
   {
    "duration": 35,
    "start_time": "2024-02-11T11:56:39.239Z"
   },
   {
    "duration": 9,
    "start_time": "2024-02-11T11:56:39.276Z"
   },
   {
    "duration": 3,
    "start_time": "2024-02-11T11:56:39.287Z"
   },
   {
    "duration": 33,
    "start_time": "2024-02-11T11:56:39.291Z"
   },
   {
    "duration": 19,
    "start_time": "2024-02-11T11:56:39.325Z"
   },
   {
    "duration": 17,
    "start_time": "2024-02-11T11:56:39.345Z"
   },
   {
    "duration": 4,
    "start_time": "2024-02-11T11:56:39.363Z"
   },
   {
    "duration": 11,
    "start_time": "2024-02-11T11:56:39.368Z"
   },
   {
    "duration": 39,
    "start_time": "2024-02-11T11:56:39.380Z"
   },
   {
    "duration": 4,
    "start_time": "2024-02-11T11:56:39.420Z"
   },
   {
    "duration": 33,
    "start_time": "2024-02-11T11:56:39.426Z"
   },
   {
    "duration": 16,
    "start_time": "2024-02-11T11:56:39.461Z"
   },
   {
    "duration": 22,
    "start_time": "2024-02-11T11:56:39.478Z"
   },
   {
    "duration": 27,
    "start_time": "2024-02-11T11:56:39.502Z"
   },
   {
    "duration": 29,
    "start_time": "2024-02-11T11:56:45.231Z"
   },
   {
    "duration": 86,
    "start_time": "2024-02-11T12:08:09.165Z"
   },
   {
    "duration": 14,
    "start_time": "2024-02-11T12:08:09.253Z"
   },
   {
    "duration": 18,
    "start_time": "2024-02-11T12:08:09.268Z"
   },
   {
    "duration": 10,
    "start_time": "2024-02-11T12:08:09.288Z"
   },
   {
    "duration": 57,
    "start_time": "2024-02-11T12:08:09.299Z"
   },
   {
    "duration": 3,
    "start_time": "2024-02-11T12:08:09.358Z"
   },
   {
    "duration": 9,
    "start_time": "2024-02-11T12:08:09.363Z"
   },
   {
    "duration": 3,
    "start_time": "2024-02-11T12:08:09.374Z"
   },
   {
    "duration": 44,
    "start_time": "2024-02-11T12:08:09.378Z"
   },
   {
    "duration": 4,
    "start_time": "2024-02-11T12:08:09.425Z"
   },
   {
    "duration": 61,
    "start_time": "2024-02-11T12:08:09.430Z"
   },
   {
    "duration": 10,
    "start_time": "2024-02-11T12:08:09.492Z"
   },
   {
    "duration": 13,
    "start_time": "2024-02-11T12:08:09.504Z"
   },
   {
    "duration": 11,
    "start_time": "2024-02-11T12:08:09.519Z"
   },
   {
    "duration": 21,
    "start_time": "2024-02-11T12:08:09.531Z"
   },
   {
    "duration": 16,
    "start_time": "2024-02-11T12:08:09.553Z"
   },
   {
    "duration": 3,
    "start_time": "2024-02-11T12:08:09.571Z"
   },
   {
    "duration": 17,
    "start_time": "2024-02-11T12:08:09.576Z"
   },
   {
    "duration": 26,
    "start_time": "2024-02-11T12:08:09.594Z"
   },
   {
    "duration": 4,
    "start_time": "2024-02-11T12:08:09.622Z"
   },
   {
    "duration": 11,
    "start_time": "2024-02-11T12:08:09.627Z"
   },
   {
    "duration": 16,
    "start_time": "2024-02-11T12:08:09.640Z"
   },
   {
    "duration": 25,
    "start_time": "2024-02-11T12:08:09.658Z"
   },
   {
    "duration": 45,
    "start_time": "2024-02-11T12:08:09.685Z"
   },
   {
    "duration": 21,
    "start_time": "2024-02-11T12:08:09.732Z"
   },
   {
    "duration": 22,
    "start_time": "2024-02-11T12:08:13.587Z"
   },
   {
    "duration": 4,
    "start_time": "2024-02-11T12:15:50.224Z"
   },
   {
    "duration": 84,
    "start_time": "2024-02-11T12:16:17.711Z"
   },
   {
    "duration": 14,
    "start_time": "2024-02-11T12:16:17.797Z"
   },
   {
    "duration": 17,
    "start_time": "2024-02-11T12:16:17.812Z"
   },
   {
    "duration": 10,
    "start_time": "2024-02-11T12:16:17.830Z"
   },
   {
    "duration": 35,
    "start_time": "2024-02-11T12:16:17.841Z"
   },
   {
    "duration": 3,
    "start_time": "2024-02-11T12:16:17.877Z"
   },
   {
    "duration": 7,
    "start_time": "2024-02-11T12:16:17.882Z"
   },
   {
    "duration": 29,
    "start_time": "2024-02-11T12:16:17.891Z"
   },
   {
    "duration": 19,
    "start_time": "2024-02-11T12:16:17.922Z"
   },
   {
    "duration": 3,
    "start_time": "2024-02-11T12:16:17.943Z"
   },
   {
    "duration": 34,
    "start_time": "2024-02-11T12:16:17.947Z"
   },
   {
    "duration": 36,
    "start_time": "2024-02-11T12:16:17.983Z"
   },
   {
    "duration": 3,
    "start_time": "2024-02-11T12:16:18.020Z"
   },
   {
    "duration": 11,
    "start_time": "2024-02-11T12:16:18.025Z"
   },
   {
    "duration": 18,
    "start_time": "2024-02-11T12:16:18.037Z"
   },
   {
    "duration": 21,
    "start_time": "2024-02-11T12:16:18.057Z"
   },
   {
    "duration": 4,
    "start_time": "2024-02-11T12:16:18.080Z"
   },
   {
    "duration": 45,
    "start_time": "2024-02-11T12:16:18.086Z"
   },
   {
    "duration": 6,
    "start_time": "2024-02-11T12:16:18.133Z"
   },
   {
    "duration": 3,
    "start_time": "2024-02-11T12:16:18.141Z"
   },
   {
    "duration": 28833,
    "start_time": "2024-02-11T12:20:32.711Z"
   },
   {
    "duration": 35,
    "start_time": "2024-02-11T12:21:38.790Z"
   },
   {
    "duration": 82,
    "start_time": "2024-02-11T12:24:37.200Z"
   },
   {
    "duration": 14,
    "start_time": "2024-02-11T12:24:37.284Z"
   },
   {
    "duration": 26,
    "start_time": "2024-02-11T12:24:37.300Z"
   },
   {
    "duration": 10,
    "start_time": "2024-02-11T12:24:37.328Z"
   },
   {
    "duration": 35,
    "start_time": "2024-02-11T12:24:37.339Z"
   },
   {
    "duration": 4,
    "start_time": "2024-02-11T12:24:37.375Z"
   },
   {
    "duration": 18,
    "start_time": "2024-02-11T12:24:37.380Z"
   },
   {
    "duration": 4,
    "start_time": "2024-02-11T12:24:37.418Z"
   },
   {
    "duration": 28,
    "start_time": "2024-02-11T12:24:37.423Z"
   },
   {
    "duration": 4,
    "start_time": "2024-02-11T12:24:37.453Z"
   },
   {
    "duration": 36,
    "start_time": "2024-02-11T12:24:37.458Z"
   },
   {
    "duration": 26,
    "start_time": "2024-02-11T12:24:37.495Z"
   },
   {
    "duration": 3,
    "start_time": "2024-02-11T12:24:37.523Z"
   },
   {
    "duration": 17,
    "start_time": "2024-02-11T12:24:37.527Z"
   },
   {
    "duration": 18,
    "start_time": "2024-02-11T12:24:37.545Z"
   },
   {
    "duration": 15,
    "start_time": "2024-02-11T12:24:37.564Z"
   },
   {
    "duration": 23,
    "start_time": "2024-02-11T12:24:37.581Z"
   },
   {
    "duration": 46,
    "start_time": "2024-02-11T12:24:37.606Z"
   },
   {
    "duration": 29,
    "start_time": "2024-02-11T12:24:37.653Z"
   },
   {
    "duration": 18,
    "start_time": "2024-02-11T12:24:37.683Z"
   },
   {
    "duration": 29053,
    "start_time": "2024-02-11T12:24:37.702Z"
   },
   {
    "duration": 15,
    "start_time": "2024-02-11T12:25:06.757Z"
   },
   {
    "duration": 23,
    "start_time": "2024-02-11T12:25:06.773Z"
   },
   {
    "duration": 18,
    "start_time": "2024-02-11T12:25:06.818Z"
   },
   {
    "duration": 19,
    "start_time": "2024-02-11T12:25:06.838Z"
   },
   {
    "duration": 59,
    "start_time": "2024-02-11T12:25:06.886Z"
   },
   {
    "duration": 26,
    "start_time": "2024-02-11T12:27:10.191Z"
   },
   {
    "duration": 20,
    "start_time": "2024-02-11T12:47:15.863Z"
   },
   {
    "duration": 85,
    "start_time": "2024-02-11T12:47:48.962Z"
   },
   {
    "duration": 14,
    "start_time": "2024-02-11T12:47:49.049Z"
   },
   {
    "duration": 13,
    "start_time": "2024-02-11T12:47:49.064Z"
   },
   {
    "duration": 9,
    "start_time": "2024-02-11T12:47:49.079Z"
   },
   {
    "duration": 52,
    "start_time": "2024-02-11T12:47:49.090Z"
   },
   {
    "duration": 3,
    "start_time": "2024-02-11T12:47:49.143Z"
   },
   {
    "duration": 11,
    "start_time": "2024-02-11T12:47:49.148Z"
   },
   {
    "duration": 6,
    "start_time": "2024-02-11T12:47:49.160Z"
   },
   {
    "duration": 26,
    "start_time": "2024-02-11T12:47:49.167Z"
   },
   {
    "duration": 4,
    "start_time": "2024-02-11T12:47:49.195Z"
   },
   {
    "duration": 32,
    "start_time": "2024-02-11T12:47:49.218Z"
   },
   {
    "duration": 10,
    "start_time": "2024-02-11T12:47:49.251Z"
   },
   {
    "duration": 3,
    "start_time": "2024-02-11T12:47:49.262Z"
   },
   {
    "duration": 12,
    "start_time": "2024-02-11T12:47:49.267Z"
   },
   {
    "duration": 42,
    "start_time": "2024-02-11T12:47:49.281Z"
   },
   {
    "duration": 15,
    "start_time": "2024-02-11T12:47:49.325Z"
   },
   {
    "duration": 3,
    "start_time": "2024-02-11T12:47:49.342Z"
   },
   {
    "duration": 13,
    "start_time": "2024-02-11T12:47:49.346Z"
   },
   {
    "duration": 5,
    "start_time": "2024-02-11T12:47:49.360Z"
   },
   {
    "duration": 3,
    "start_time": "2024-02-11T12:47:49.367Z"
   },
   {
    "duration": 29246,
    "start_time": "2024-02-11T12:47:49.372Z"
   },
   {
    "duration": 16,
    "start_time": "2024-02-11T12:48:18.620Z"
   },
   {
    "duration": 28,
    "start_time": "2024-02-11T12:48:18.638Z"
   },
   {
    "duration": 20,
    "start_time": "2024-02-11T12:48:18.668Z"
   },
   {
    "duration": 46,
    "start_time": "2024-02-11T12:48:18.689Z"
   },
   {
    "duration": 5,
    "start_time": "2024-02-11T12:48:18.747Z"
   },
   {
    "duration": 4,
    "start_time": "2024-02-11T12:49:11.632Z"
   },
   {
    "duration": 82,
    "start_time": "2024-02-11T13:04:02.075Z"
   },
   {
    "duration": 13,
    "start_time": "2024-02-11T13:04:02.159Z"
   },
   {
    "duration": 14,
    "start_time": "2024-02-11T13:04:02.174Z"
   },
   {
    "duration": 31,
    "start_time": "2024-02-11T13:04:02.190Z"
   },
   {
    "duration": 32,
    "start_time": "2024-02-11T13:04:02.222Z"
   },
   {
    "duration": 3,
    "start_time": "2024-02-11T13:04:02.255Z"
   },
   {
    "duration": 11,
    "start_time": "2024-02-11T13:04:02.260Z"
   },
   {
    "duration": 8,
    "start_time": "2024-02-11T13:04:02.272Z"
   },
   {
    "duration": 37,
    "start_time": "2024-02-11T13:04:02.281Z"
   },
   {
    "duration": 4,
    "start_time": "2024-02-11T13:04:02.320Z"
   },
   {
    "duration": 33,
    "start_time": "2024-02-11T13:04:02.325Z"
   },
   {
    "duration": 10,
    "start_time": "2024-02-11T13:04:02.359Z"
   },
   {
    "duration": 3,
    "start_time": "2024-02-11T13:04:02.370Z"
   },
   {
    "duration": 66,
    "start_time": "2024-02-11T13:04:02.374Z"
   },
   {
    "duration": 17,
    "start_time": "2024-02-11T13:04:02.442Z"
   },
   {
    "duration": 15,
    "start_time": "2024-02-11T13:04:02.461Z"
   },
   {
    "duration": 3,
    "start_time": "2024-02-11T13:04:02.477Z"
   },
   {
    "duration": 25,
    "start_time": "2024-02-11T13:04:02.482Z"
   },
   {
    "duration": 16,
    "start_time": "2024-02-11T13:04:02.509Z"
   },
   {
    "duration": 4,
    "start_time": "2024-02-11T13:04:02.526Z"
   },
   {
    "duration": 29125,
    "start_time": "2024-02-11T13:04:02.532Z"
   },
   {
    "duration": 15,
    "start_time": "2024-02-11T13:04:31.659Z"
   },
   {
    "duration": 46,
    "start_time": "2024-02-11T13:04:31.676Z"
   },
   {
    "duration": 27,
    "start_time": "2024-02-11T13:04:31.724Z"
   },
   {
    "duration": 23,
    "start_time": "2024-02-11T13:04:31.753Z"
   },
   {
    "duration": 72,
    "start_time": "2024-02-11T13:04:31.779Z"
   },
   {
    "duration": 73,
    "start_time": "2024-02-11T13:04:50.556Z"
   },
   {
    "duration": 13,
    "start_time": "2024-02-11T13:30:59.234Z"
   },
   {
    "duration": 89,
    "start_time": "2024-02-11T13:36:09.363Z"
   },
   {
    "duration": 13,
    "start_time": "2024-02-11T13:36:09.455Z"
   },
   {
    "duration": 14,
    "start_time": "2024-02-11T13:36:09.469Z"
   },
   {
    "duration": 10,
    "start_time": "2024-02-11T13:36:09.484Z"
   },
   {
    "duration": 33,
    "start_time": "2024-02-11T13:36:09.517Z"
   },
   {
    "duration": 4,
    "start_time": "2024-02-11T13:36:09.551Z"
   },
   {
    "duration": 9,
    "start_time": "2024-02-11T13:36:09.556Z"
   },
   {
    "duration": 4,
    "start_time": "2024-02-11T13:36:09.566Z"
   },
   {
    "duration": 48,
    "start_time": "2024-02-11T13:36:09.571Z"
   },
   {
    "duration": 4,
    "start_time": "2024-02-11T13:36:09.621Z"
   },
   {
    "duration": 44,
    "start_time": "2024-02-11T13:36:09.626Z"
   },
   {
    "duration": 10,
    "start_time": "2024-02-11T13:36:09.671Z"
   },
   {
    "duration": 9,
    "start_time": "2024-02-11T13:36:09.682Z"
   },
   {
    "duration": 18,
    "start_time": "2024-02-11T13:36:09.694Z"
   },
   {
    "duration": 17,
    "start_time": "2024-02-11T13:36:09.717Z"
   },
   {
    "duration": 15,
    "start_time": "2024-02-11T13:36:09.736Z"
   },
   {
    "duration": 4,
    "start_time": "2024-02-11T13:36:09.752Z"
   },
   {
    "duration": 27,
    "start_time": "2024-02-11T13:36:09.758Z"
   },
   {
    "duration": 6,
    "start_time": "2024-02-11T13:36:09.786Z"
   },
   {
    "duration": 22,
    "start_time": "2024-02-11T13:36:09.793Z"
   },
   {
    "duration": 29097,
    "start_time": "2024-02-11T13:36:09.817Z"
   },
   {
    "duration": 16,
    "start_time": "2024-02-11T13:36:38.915Z"
   },
   {
    "duration": 24,
    "start_time": "2024-02-11T13:36:38.932Z"
   },
   {
    "duration": 21,
    "start_time": "2024-02-11T13:36:38.958Z"
   },
   {
    "duration": 54,
    "start_time": "2024-02-11T13:36:38.980Z"
   },
   {
    "duration": 70,
    "start_time": "2024-02-11T13:36:39.036Z"
   },
   {
    "duration": 0,
    "start_time": "2024-02-11T13:36:39.108Z"
   },
   {
    "duration": 0,
    "start_time": "2024-02-11T13:36:39.110Z"
   },
   {
    "duration": 70,
    "start_time": "2024-02-11T13:36:58.024Z"
   },
   {
    "duration": 6,
    "start_time": "2024-02-11T13:37:18.141Z"
   },
   {
    "duration": 81,
    "start_time": "2024-02-11T13:37:53.050Z"
   },
   {
    "duration": 13,
    "start_time": "2024-02-11T13:37:53.134Z"
   },
   {
    "duration": 16,
    "start_time": "2024-02-11T13:37:53.148Z"
   },
   {
    "duration": 10,
    "start_time": "2024-02-11T13:37:53.166Z"
   },
   {
    "duration": 56,
    "start_time": "2024-02-11T13:37:53.179Z"
   },
   {
    "duration": 3,
    "start_time": "2024-02-11T13:37:53.237Z"
   },
   {
    "duration": 8,
    "start_time": "2024-02-11T13:37:53.242Z"
   },
   {
    "duration": 4,
    "start_time": "2024-02-11T13:37:53.252Z"
   },
   {
    "duration": 21,
    "start_time": "2024-02-11T13:37:53.257Z"
   },
   {
    "duration": 4,
    "start_time": "2024-02-11T13:37:53.280Z"
   },
   {
    "duration": 65,
    "start_time": "2024-02-11T13:37:53.285Z"
   },
   {
    "duration": 11,
    "start_time": "2024-02-11T13:37:53.351Z"
   },
   {
    "duration": 4,
    "start_time": "2024-02-11T13:37:53.363Z"
   },
   {
    "duration": 10,
    "start_time": "2024-02-11T13:37:53.370Z"
   },
   {
    "duration": 45,
    "start_time": "2024-02-11T13:37:53.382Z"
   },
   {
    "duration": 15,
    "start_time": "2024-02-11T13:37:53.429Z"
   },
   {
    "duration": 4,
    "start_time": "2024-02-11T13:37:53.445Z"
   },
   {
    "duration": 10,
    "start_time": "2024-02-11T13:37:53.451Z"
   },
   {
    "duration": 6,
    "start_time": "2024-02-11T13:37:53.463Z"
   },
   {
    "duration": 4,
    "start_time": "2024-02-11T13:37:53.470Z"
   },
   {
    "duration": 29195,
    "start_time": "2024-02-11T13:37:53.475Z"
   },
   {
    "duration": 15,
    "start_time": "2024-02-11T13:38:22.671Z"
   },
   {
    "duration": 35,
    "start_time": "2024-02-11T13:38:22.688Z"
   },
   {
    "duration": 20,
    "start_time": "2024-02-11T13:38:22.724Z"
   },
   {
    "duration": 17,
    "start_time": "2024-02-11T13:38:22.745Z"
   },
   {
    "duration": 4,
    "start_time": "2024-02-11T13:38:22.764Z"
   },
   {
    "duration": 91,
    "start_time": "2024-02-11T13:46:09.265Z"
   },
   {
    "duration": 14,
    "start_time": "2024-02-11T13:46:09.358Z"
   },
   {
    "duration": 20,
    "start_time": "2024-02-11T13:46:09.374Z"
   },
   {
    "duration": 22,
    "start_time": "2024-02-11T13:46:09.396Z"
   },
   {
    "duration": 34,
    "start_time": "2024-02-11T13:46:09.421Z"
   },
   {
    "duration": 3,
    "start_time": "2024-02-11T13:46:09.457Z"
   },
   {
    "duration": 8,
    "start_time": "2024-02-11T13:46:09.462Z"
   },
   {
    "duration": 5,
    "start_time": "2024-02-11T13:46:09.472Z"
   },
   {
    "duration": 42,
    "start_time": "2024-02-11T13:46:09.478Z"
   },
   {
    "duration": 4,
    "start_time": "2024-02-11T13:46:09.522Z"
   },
   {
    "duration": 33,
    "start_time": "2024-02-11T13:46:09.527Z"
   },
   {
    "duration": 10,
    "start_time": "2024-02-11T13:46:09.561Z"
   },
   {
    "duration": 3,
    "start_time": "2024-02-11T13:46:09.573Z"
   },
   {
    "duration": 41,
    "start_time": "2024-02-11T13:46:09.579Z"
   },
   {
    "duration": 19,
    "start_time": "2024-02-11T13:46:09.622Z"
   },
   {
    "duration": 16,
    "start_time": "2024-02-11T13:46:09.642Z"
   },
   {
    "duration": 3,
    "start_time": "2024-02-11T13:46:09.660Z"
   },
   {
    "duration": 18,
    "start_time": "2024-02-11T13:46:09.665Z"
   },
   {
    "duration": 5,
    "start_time": "2024-02-11T13:46:09.685Z"
   },
   {
    "duration": 26,
    "start_time": "2024-02-11T13:46:09.692Z"
   },
   {
    "duration": 29153,
    "start_time": "2024-02-11T13:46:09.719Z"
   },
   {
    "duration": 16,
    "start_time": "2024-02-11T13:46:38.873Z"
   },
   {
    "duration": 37,
    "start_time": "2024-02-11T13:46:38.890Z"
   },
   {
    "duration": 22,
    "start_time": "2024-02-11T13:46:38.929Z"
   },
   {
    "duration": 23,
    "start_time": "2024-02-11T13:46:38.953Z"
   },
   {
    "duration": 5,
    "start_time": "2024-02-11T13:46:38.978Z"
   },
   {
    "duration": 61,
    "start_time": "2024-02-11T13:46:38.985Z"
   },
   {
    "duration": 84,
    "start_time": "2024-02-11T14:01:20.670Z"
   },
   {
    "duration": 15,
    "start_time": "2024-02-11T14:01:20.756Z"
   },
   {
    "duration": 15,
    "start_time": "2024-02-11T14:01:20.773Z"
   },
   {
    "duration": 28,
    "start_time": "2024-02-11T14:01:20.790Z"
   },
   {
    "duration": 34,
    "start_time": "2024-02-11T14:01:20.821Z"
   },
   {
    "duration": 3,
    "start_time": "2024-02-11T14:01:20.857Z"
   },
   {
    "duration": 9,
    "start_time": "2024-02-11T14:01:20.862Z"
   },
   {
    "duration": 3,
    "start_time": "2024-02-11T14:01:20.873Z"
   },
   {
    "duration": 48,
    "start_time": "2024-02-11T14:01:20.877Z"
   },
   {
    "duration": 3,
    "start_time": "2024-02-11T14:01:20.927Z"
   },
   {
    "duration": 33,
    "start_time": "2024-02-11T14:01:20.932Z"
   },
   {
    "duration": 9,
    "start_time": "2024-02-11T14:01:20.966Z"
   },
   {
    "duration": 9,
    "start_time": "2024-02-11T14:01:20.977Z"
   },
   {
    "duration": 29,
    "start_time": "2024-02-11T14:01:20.989Z"
   },
   {
    "duration": 18,
    "start_time": "2024-02-11T14:01:21.019Z"
   },
   {
    "duration": 15,
    "start_time": "2024-02-11T14:01:21.039Z"
   },
   {
    "duration": 4,
    "start_time": "2024-02-11T14:01:21.055Z"
   },
   {
    "duration": 11,
    "start_time": "2024-02-11T14:01:21.060Z"
   },
   {
    "duration": 6,
    "start_time": "2024-02-11T14:01:21.072Z"
   },
   {
    "duration": 10,
    "start_time": "2024-02-11T14:01:21.079Z"
   },
   {
    "duration": 29496,
    "start_time": "2024-02-11T14:01:21.090Z"
   },
   {
    "duration": 15,
    "start_time": "2024-02-11T14:01:50.587Z"
   },
   {
    "duration": 33,
    "start_time": "2024-02-11T14:01:50.604Z"
   },
   {
    "duration": 19,
    "start_time": "2024-02-11T14:01:50.638Z"
   },
   {
    "duration": 19,
    "start_time": "2024-02-11T14:01:50.659Z"
   },
   {
    "duration": 5,
    "start_time": "2024-02-11T14:01:50.679Z"
   },
   {
    "duration": 48,
    "start_time": "2024-02-11T14:01:50.685Z"
   },
   {
    "duration": 1,
    "start_time": "2024-02-11T14:01:50.734Z"
   },
   {
    "duration": 22,
    "start_time": "2024-02-11T14:02:43.417Z"
   },
   {
    "duration": 83,
    "start_time": "2024-02-11T14:06:22.948Z"
   },
   {
    "duration": 14,
    "start_time": "2024-02-11T14:06:23.032Z"
   },
   {
    "duration": 15,
    "start_time": "2024-02-11T14:06:23.047Z"
   },
   {
    "duration": 11,
    "start_time": "2024-02-11T14:06:23.064Z"
   },
   {
    "duration": 62,
    "start_time": "2024-02-11T14:06:23.077Z"
   },
   {
    "duration": 4,
    "start_time": "2024-02-11T14:06:23.141Z"
   },
   {
    "duration": 7,
    "start_time": "2024-02-11T14:06:23.147Z"
   },
   {
    "duration": 2,
    "start_time": "2024-02-11T14:06:23.156Z"
   },
   {
    "duration": 20,
    "start_time": "2024-02-11T14:06:23.160Z"
   },
   {
    "duration": 4,
    "start_time": "2024-02-11T14:06:23.181Z"
   },
   {
    "duration": 32,
    "start_time": "2024-02-11T14:06:23.218Z"
   },
   {
    "duration": 9,
    "start_time": "2024-02-11T14:06:23.252Z"
   },
   {
    "duration": 3,
    "start_time": "2024-02-11T14:06:23.262Z"
   },
   {
    "duration": 10,
    "start_time": "2024-02-11T14:06:23.268Z"
   },
   {
    "duration": 38,
    "start_time": "2024-02-11T14:06:23.280Z"
   },
   {
    "duration": 16,
    "start_time": "2024-02-11T14:06:23.320Z"
   },
   {
    "duration": 3,
    "start_time": "2024-02-11T14:06:23.338Z"
   },
   {
    "duration": 11,
    "start_time": "2024-02-11T14:06:23.343Z"
   },
   {
    "duration": 6,
    "start_time": "2024-02-11T14:06:23.355Z"
   },
   {
    "duration": 3,
    "start_time": "2024-02-11T14:06:23.363Z"
   },
   {
    "duration": 29141,
    "start_time": "2024-02-11T14:06:23.368Z"
   },
   {
    "duration": 15,
    "start_time": "2024-02-11T14:06:52.517Z"
   },
   {
    "duration": 21,
    "start_time": "2024-02-11T14:06:52.533Z"
   },
   {
    "duration": 18,
    "start_time": "2024-02-11T14:06:52.555Z"
   },
   {
    "duration": 45,
    "start_time": "2024-02-11T14:06:52.574Z"
   },
   {
    "duration": 13,
    "start_time": "2024-02-11T14:06:52.621Z"
   },
   {
    "duration": 13,
    "start_time": "2024-02-11T14:06:52.636Z"
   },
   {
    "duration": 0,
    "start_time": "2024-02-11T14:06:52.650Z"
   },
   {
    "duration": 13,
    "start_time": "2024-02-11T14:06:54.060Z"
   },
   {
    "duration": 15,
    "start_time": "2024-02-11T14:07:06.953Z"
   },
   {
    "duration": 12,
    "start_time": "2024-02-11T14:07:06.970Z"
   },
   {
    "duration": 0,
    "start_time": "2024-02-11T14:07:06.984Z"
   },
   {
    "duration": 3,
    "start_time": "2024-02-11T14:17:12.279Z"
   },
   {
    "duration": 13,
    "start_time": "2024-02-11T14:17:43.717Z"
   },
   {
    "duration": 21,
    "start_time": "2024-02-11T14:18:30.319Z"
   },
   {
    "duration": 84,
    "start_time": "2024-02-11T14:19:14.988Z"
   },
   {
    "duration": 13,
    "start_time": "2024-02-11T14:19:15.073Z"
   },
   {
    "duration": 34,
    "start_time": "2024-02-11T14:19:15.087Z"
   },
   {
    "duration": 18,
    "start_time": "2024-02-11T14:19:15.123Z"
   },
   {
    "duration": 44,
    "start_time": "2024-02-11T14:19:15.143Z"
   },
   {
    "duration": 3,
    "start_time": "2024-02-11T14:19:15.189Z"
   },
   {
    "duration": 39,
    "start_time": "2024-02-11T14:19:15.193Z"
   },
   {
    "duration": 24,
    "start_time": "2024-02-11T14:19:15.233Z"
   },
   {
    "duration": 35,
    "start_time": "2024-02-11T14:19:15.259Z"
   },
   {
    "duration": 5,
    "start_time": "2024-02-11T14:19:15.296Z"
   },
   {
    "duration": 56,
    "start_time": "2024-02-11T14:19:15.302Z"
   },
   {
    "duration": 11,
    "start_time": "2024-02-11T14:19:15.359Z"
   },
   {
    "duration": 9,
    "start_time": "2024-02-11T14:19:15.372Z"
   },
   {
    "duration": 17,
    "start_time": "2024-02-11T14:19:15.382Z"
   },
   {
    "duration": 32,
    "start_time": "2024-02-11T14:19:15.400Z"
   },
   {
    "duration": 17,
    "start_time": "2024-02-11T14:19:15.433Z"
   },
   {
    "duration": 4,
    "start_time": "2024-02-11T14:19:15.452Z"
   },
   {
    "duration": 13,
    "start_time": "2024-02-11T14:19:15.458Z"
   },
   {
    "duration": 6,
    "start_time": "2024-02-11T14:19:15.473Z"
   },
   {
    "duration": 5,
    "start_time": "2024-02-11T14:19:15.480Z"
   },
   {
    "duration": 29156,
    "start_time": "2024-02-11T14:19:15.487Z"
   },
   {
    "duration": 15,
    "start_time": "2024-02-11T14:19:44.645Z"
   },
   {
    "duration": 28,
    "start_time": "2024-02-11T14:19:44.662Z"
   },
   {
    "duration": 35,
    "start_time": "2024-02-11T14:19:44.692Z"
   },
   {
    "duration": 20,
    "start_time": "2024-02-11T14:19:44.729Z"
   },
   {
    "duration": 13,
    "start_time": "2024-02-11T14:19:44.751Z"
   },
   {
    "duration": 4,
    "start_time": "2024-02-11T14:19:44.766Z"
   },
   {
    "duration": 10,
    "start_time": "2024-02-11T14:19:44.824Z"
   },
   {
    "duration": 23,
    "start_time": "2024-02-11T14:19:44.836Z"
   },
   {
    "duration": 13,
    "start_time": "2024-02-11T14:52:47.504Z"
   },
   {
    "duration": 94,
    "start_time": "2024-02-11T14:53:12.283Z"
   },
   {
    "duration": 13,
    "start_time": "2024-02-11T14:53:12.379Z"
   },
   {
    "duration": 41,
    "start_time": "2024-02-11T14:53:12.394Z"
   },
   {
    "duration": 11,
    "start_time": "2024-02-11T14:53:12.438Z"
   },
   {
    "duration": 33,
    "start_time": "2024-02-11T14:53:12.451Z"
   },
   {
    "duration": 4,
    "start_time": "2024-02-11T14:53:12.485Z"
   },
   {
    "duration": 29,
    "start_time": "2024-02-11T14:53:12.490Z"
   },
   {
    "duration": 4,
    "start_time": "2024-02-11T14:53:12.521Z"
   },
   {
    "duration": 30,
    "start_time": "2024-02-11T14:53:12.527Z"
   },
   {
    "duration": 4,
    "start_time": "2024-02-11T14:53:12.559Z"
   },
   {
    "duration": 43,
    "start_time": "2024-02-11T14:53:12.564Z"
   },
   {
    "duration": 18,
    "start_time": "2024-02-11T14:53:12.609Z"
   },
   {
    "duration": 9,
    "start_time": "2024-02-11T14:53:12.628Z"
   },
   {
    "duration": 22,
    "start_time": "2024-02-11T14:53:12.639Z"
   },
   {
    "duration": 20,
    "start_time": "2024-02-11T14:53:12.663Z"
   },
   {
    "duration": 15,
    "start_time": "2024-02-11T14:53:12.684Z"
   },
   {
    "duration": 3,
    "start_time": "2024-02-11T14:53:12.701Z"
   },
   {
    "duration": 12,
    "start_time": "2024-02-11T14:53:12.717Z"
   },
   {
    "duration": 9,
    "start_time": "2024-02-11T14:53:12.730Z"
   },
   {
    "duration": 6,
    "start_time": "2024-02-11T14:53:12.741Z"
   },
   {
    "duration": 30371,
    "start_time": "2024-02-11T14:53:12.748Z"
   },
   {
    "duration": 16,
    "start_time": "2024-02-11T14:53:43.120Z"
   },
   {
    "duration": 19,
    "start_time": "2024-02-11T14:53:43.138Z"
   },
   {
    "duration": 17,
    "start_time": "2024-02-11T14:53:43.159Z"
   },
   {
    "duration": 47,
    "start_time": "2024-02-11T14:53:43.178Z"
   },
   {
    "duration": 13,
    "start_time": "2024-02-11T14:53:43.227Z"
   },
   {
    "duration": 4,
    "start_time": "2024-02-11T14:53:43.241Z"
   },
   {
    "duration": 22,
    "start_time": "2024-02-11T14:53:43.247Z"
   },
   {
    "duration": 8,
    "start_time": "2024-02-11T14:53:43.271Z"
   },
   {
    "duration": 12,
    "start_time": "2024-02-11T14:53:44.574Z"
   },
   {
    "duration": 82,
    "start_time": "2024-02-11T15:01:27.123Z"
   },
   {
    "duration": 15,
    "start_time": "2024-02-11T15:01:27.207Z"
   },
   {
    "duration": 26,
    "start_time": "2024-02-11T15:01:27.223Z"
   },
   {
    "duration": 18,
    "start_time": "2024-02-11T15:01:27.251Z"
   },
   {
    "duration": 38,
    "start_time": "2024-02-11T15:01:27.270Z"
   },
   {
    "duration": 4,
    "start_time": "2024-02-11T15:01:27.309Z"
   },
   {
    "duration": 26,
    "start_time": "2024-02-11T15:01:27.315Z"
   },
   {
    "duration": 10,
    "start_time": "2024-02-11T15:01:27.343Z"
   },
   {
    "duration": 30,
    "start_time": "2024-02-11T15:01:27.355Z"
   },
   {
    "duration": 5,
    "start_time": "2024-02-11T15:01:27.389Z"
   },
   {
    "duration": 58,
    "start_time": "2024-02-11T15:01:27.396Z"
   },
   {
    "duration": 9,
    "start_time": "2024-02-11T15:01:27.455Z"
   },
   {
    "duration": 14,
    "start_time": "2024-02-11T15:01:27.466Z"
   },
   {
    "duration": 35,
    "start_time": "2024-02-11T15:01:27.481Z"
   },
   {
    "duration": 35,
    "start_time": "2024-02-11T15:01:27.518Z"
   },
   {
    "duration": 19,
    "start_time": "2024-02-11T15:01:27.554Z"
   },
   {
    "duration": 3,
    "start_time": "2024-02-11T15:01:27.574Z"
   },
   {
    "duration": 33,
    "start_time": "2024-02-11T15:01:27.579Z"
   },
   {
    "duration": 37,
    "start_time": "2024-02-11T15:01:27.613Z"
   },
   {
    "duration": 16,
    "start_time": "2024-02-11T15:01:27.652Z"
   },
   {
    "duration": 29367,
    "start_time": "2024-02-11T15:01:27.669Z"
   },
   {
    "duration": 15,
    "start_time": "2024-02-11T15:01:57.038Z"
   },
   {
    "duration": 23,
    "start_time": "2024-02-11T15:01:57.055Z"
   },
   {
    "duration": 39,
    "start_time": "2024-02-11T15:01:57.080Z"
   },
   {
    "duration": 20,
    "start_time": "2024-02-11T15:01:57.120Z"
   },
   {
    "duration": 13,
    "start_time": "2024-02-11T15:01:57.141Z"
   },
   {
    "duration": 3,
    "start_time": "2024-02-11T15:01:57.156Z"
   },
   {
    "duration": 21,
    "start_time": "2024-02-11T15:01:57.162Z"
   },
   {
    "duration": 18,
    "start_time": "2024-02-11T15:01:57.232Z"
   },
   {
    "duration": 22,
    "start_time": "2024-02-11T15:02:27.701Z"
   },
   {
    "duration": 712,
    "start_time": "2024-02-12T20:10:48.003Z"
   },
   {
    "duration": 16,
    "start_time": "2024-02-12T20:10:48.717Z"
   },
   {
    "duration": 18,
    "start_time": "2024-02-12T20:10:48.735Z"
   },
   {
    "duration": 11,
    "start_time": "2024-02-12T20:10:48.755Z"
   },
   {
    "duration": 47,
    "start_time": "2024-02-12T20:10:48.768Z"
   },
   {
    "duration": 4,
    "start_time": "2024-02-12T20:10:48.817Z"
   },
   {
    "duration": 12,
    "start_time": "2024-02-12T20:10:48.822Z"
   },
   {
    "duration": 4,
    "start_time": "2024-02-12T20:10:48.835Z"
   },
   {
    "duration": 44,
    "start_time": "2024-02-12T20:10:48.841Z"
   },
   {
    "duration": 4,
    "start_time": "2024-02-12T20:10:48.888Z"
   },
   {
    "duration": 40,
    "start_time": "2024-02-12T20:10:48.893Z"
   },
   {
    "duration": 31,
    "start_time": "2024-02-12T20:10:48.935Z"
   },
   {
    "duration": 19,
    "start_time": "2024-02-12T20:10:48.968Z"
   },
   {
    "duration": 13,
    "start_time": "2024-02-12T20:10:48.989Z"
   },
   {
    "duration": 21,
    "start_time": "2024-02-12T20:10:49.003Z"
   },
   {
    "duration": 17,
    "start_time": "2024-02-12T20:10:49.026Z"
   },
   {
    "duration": 14,
    "start_time": "2024-02-12T20:10:49.045Z"
   },
   {
    "duration": 13,
    "start_time": "2024-02-12T20:10:49.060Z"
   },
   {
    "duration": 6,
    "start_time": "2024-02-12T20:10:49.074Z"
   },
   {
    "duration": 4,
    "start_time": "2024-02-12T20:10:49.082Z"
   },
   {
    "duration": 33435,
    "start_time": "2024-02-12T20:10:49.087Z"
   },
   {
    "duration": 18,
    "start_time": "2024-02-12T20:11:22.523Z"
   },
   {
    "duration": 35,
    "start_time": "2024-02-12T20:11:22.543Z"
   },
   {
    "duration": 21,
    "start_time": "2024-02-12T20:11:22.580Z"
   },
   {
    "duration": 23,
    "start_time": "2024-02-12T20:11:22.603Z"
   },
   {
    "duration": 45,
    "start_time": "2024-02-12T20:11:22.628Z"
   },
   {
    "duration": 8,
    "start_time": "2024-02-12T20:11:22.675Z"
   },
   {
    "duration": 22,
    "start_time": "2024-02-12T20:11:22.687Z"
   },
   {
    "duration": 23,
    "start_time": "2024-02-12T20:11:22.758Z"
   },
   {
    "duration": 12,
    "start_time": "2024-02-12T20:13:35.484Z"
   },
   {
    "duration": 4,
    "start_time": "2024-02-12T20:14:14.063Z"
   },
   {
    "duration": 32555,
    "start_time": "2024-02-12T20:14:21.803Z"
   },
   {
    "duration": 23,
    "start_time": "2024-02-12T20:14:54.360Z"
   },
   {
    "duration": 93,
    "start_time": "2024-02-12T20:15:05.402Z"
   },
   {
    "duration": 15,
    "start_time": "2024-02-12T20:15:05.497Z"
   },
   {
    "duration": 16,
    "start_time": "2024-02-12T20:15:05.514Z"
   },
   {
    "duration": 36,
    "start_time": "2024-02-12T20:15:05.532Z"
   },
   {
    "duration": 41,
    "start_time": "2024-02-12T20:15:05.570Z"
   },
   {
    "duration": 3,
    "start_time": "2024-02-12T20:15:05.613Z"
   },
   {
    "duration": 10,
    "start_time": "2024-02-12T20:15:05.618Z"
   },
   {
    "duration": 29,
    "start_time": "2024-02-12T20:15:05.630Z"
   },
   {
    "duration": 23,
    "start_time": "2024-02-12T20:15:05.661Z"
   },
   {
    "duration": 4,
    "start_time": "2024-02-12T20:15:05.688Z"
   },
   {
    "duration": 69,
    "start_time": "2024-02-12T20:15:05.694Z"
   },
   {
    "duration": 13,
    "start_time": "2024-02-12T20:15:05.765Z"
   },
   {
    "duration": 11,
    "start_time": "2024-02-12T20:15:05.780Z"
   },
   {
    "duration": 17,
    "start_time": "2024-02-12T20:15:05.792Z"
   },
   {
    "duration": 31,
    "start_time": "2024-02-12T20:15:05.811Z"
   },
   {
    "duration": 31,
    "start_time": "2024-02-12T20:15:05.844Z"
   },
   {
    "duration": 4,
    "start_time": "2024-02-12T20:15:05.877Z"
   },
   {
    "duration": 21,
    "start_time": "2024-02-12T20:15:05.882Z"
   },
   {
    "duration": 20,
    "start_time": "2024-02-12T20:15:05.905Z"
   },
   {
    "duration": 4,
    "start_time": "2024-02-12T20:15:05.927Z"
   },
   {
    "duration": 32949,
    "start_time": "2024-02-12T20:15:05.933Z"
   },
   {
    "duration": 17,
    "start_time": "2024-02-12T20:15:38.884Z"
   },
   {
    "duration": 47,
    "start_time": "2024-02-12T20:15:38.902Z"
   },
   {
    "duration": 20,
    "start_time": "2024-02-12T20:15:38.951Z"
   },
   {
    "duration": 21,
    "start_time": "2024-02-12T20:15:38.972Z"
   },
   {
    "duration": 14,
    "start_time": "2024-02-12T20:15:38.995Z"
   },
   {
    "duration": 5,
    "start_time": "2024-02-12T20:15:39.011Z"
   },
   {
    "duration": 50,
    "start_time": "2024-02-12T20:15:39.019Z"
   },
   {
    "duration": 11,
    "start_time": "2024-02-12T20:15:39.070Z"
   },
   {
    "duration": 21,
    "start_time": "2024-02-12T20:15:39.083Z"
   },
   {
    "duration": 5,
    "start_time": "2024-02-12T20:19:51.542Z"
   },
   {
    "duration": 91,
    "start_time": "2024-02-12T20:19:58.854Z"
   },
   {
    "duration": 15,
    "start_time": "2024-02-12T20:19:58.947Z"
   },
   {
    "duration": 16,
    "start_time": "2024-02-12T20:19:59.393Z"
   },
   {
    "duration": 12,
    "start_time": "2024-02-12T20:19:59.411Z"
   },
   {
    "duration": 54,
    "start_time": "2024-02-12T20:19:59.424Z"
   },
   {
    "duration": 4,
    "start_time": "2024-02-12T20:19:59.479Z"
   },
   {
    "duration": 18,
    "start_time": "2024-02-12T20:19:59.485Z"
   },
   {
    "duration": 4,
    "start_time": "2024-02-12T20:19:59.505Z"
   },
   {
    "duration": 23,
    "start_time": "2024-02-12T20:19:59.510Z"
   },
   {
    "duration": 24,
    "start_time": "2024-02-12T20:19:59.535Z"
   },
   {
    "duration": 42,
    "start_time": "2024-02-12T20:19:59.561Z"
   },
   {
    "duration": 12,
    "start_time": "2024-02-12T20:19:59.605Z"
   },
   {
    "duration": 7,
    "start_time": "2024-02-12T20:19:59.619Z"
   },
   {
    "duration": 45,
    "start_time": "2024-02-12T20:19:59.628Z"
   },
   {
    "duration": 25,
    "start_time": "2024-02-12T20:19:59.676Z"
   },
   {
    "duration": 19,
    "start_time": "2024-02-12T20:19:59.705Z"
   },
   {
    "duration": 3,
    "start_time": "2024-02-12T20:19:59.726Z"
   },
   {
    "duration": 38,
    "start_time": "2024-02-12T20:19:59.731Z"
   },
   {
    "duration": 7,
    "start_time": "2024-02-12T20:19:59.771Z"
   },
   {
    "duration": 5,
    "start_time": "2024-02-12T20:19:59.780Z"
   },
   {
    "duration": 36460,
    "start_time": "2024-02-12T20:20:02.715Z"
   },
   {
    "duration": 87,
    "start_time": "2024-02-12T20:21:01.488Z"
   },
   {
    "duration": 5,
    "start_time": "2024-02-12T20:21:11.351Z"
   },
   {
    "duration": 89,
    "start_time": "2024-02-12T20:23:21.866Z"
   },
   {
    "duration": 16,
    "start_time": "2024-02-12T20:23:21.958Z"
   },
   {
    "duration": 17,
    "start_time": "2024-02-12T20:23:21.975Z"
   },
   {
    "duration": 11,
    "start_time": "2024-02-12T20:23:21.994Z"
   },
   {
    "duration": 66,
    "start_time": "2024-02-12T20:23:22.007Z"
   },
   {
    "duration": 4,
    "start_time": "2024-02-12T20:23:22.075Z"
   },
   {
    "duration": 8,
    "start_time": "2024-02-12T20:23:22.080Z"
   },
   {
    "duration": 3,
    "start_time": "2024-02-12T20:23:22.090Z"
   },
   {
    "duration": 28,
    "start_time": "2024-02-12T20:23:22.094Z"
   },
   {
    "duration": 5,
    "start_time": "2024-02-12T20:23:22.124Z"
   },
   {
    "duration": 68,
    "start_time": "2024-02-12T20:23:22.131Z"
   },
   {
    "duration": 11,
    "start_time": "2024-02-12T20:23:22.200Z"
   },
   {
    "duration": 5,
    "start_time": "2024-02-12T20:23:22.213Z"
   },
   {
    "duration": 39,
    "start_time": "2024-02-12T20:23:22.219Z"
   },
   {
    "duration": 22,
    "start_time": "2024-02-12T20:23:22.261Z"
   },
   {
    "duration": 20,
    "start_time": "2024-02-12T20:23:22.284Z"
   },
   {
    "duration": 4,
    "start_time": "2024-02-12T20:23:22.305Z"
   },
   {
    "duration": 18,
    "start_time": "2024-02-12T20:23:22.311Z"
   },
   {
    "duration": 29,
    "start_time": "2024-02-12T20:23:22.331Z"
   },
   {
    "duration": 4,
    "start_time": "2024-02-12T20:23:25.239Z"
   },
   {
    "duration": 88,
    "start_time": "2024-02-12T20:23:35.307Z"
   },
   {
    "duration": 16,
    "start_time": "2024-02-12T20:23:35.397Z"
   },
   {
    "duration": 22,
    "start_time": "2024-02-12T20:23:35.415Z"
   },
   {
    "duration": 28,
    "start_time": "2024-02-12T20:23:35.440Z"
   },
   {
    "duration": 38,
    "start_time": "2024-02-12T20:23:35.470Z"
   },
   {
    "duration": 3,
    "start_time": "2024-02-12T20:23:35.510Z"
   },
   {
    "duration": 23,
    "start_time": "2024-02-12T20:23:35.515Z"
   },
   {
    "duration": 20,
    "start_time": "2024-02-12T20:23:35.540Z"
   },
   {
    "duration": 48,
    "start_time": "2024-02-12T20:23:35.562Z"
   },
   {
    "duration": 4,
    "start_time": "2024-02-12T20:23:35.613Z"
   },
   {
    "duration": 42,
    "start_time": "2024-02-12T20:23:35.619Z"
   },
   {
    "duration": 12,
    "start_time": "2024-02-12T20:23:35.663Z"
   },
   {
    "duration": 5,
    "start_time": "2024-02-12T20:23:35.677Z"
   },
   {
    "duration": 19,
    "start_time": "2024-02-12T20:23:35.684Z"
   },
   {
    "duration": 28,
    "start_time": "2024-02-12T20:23:35.705Z"
   },
   {
    "duration": 34,
    "start_time": "2024-02-12T20:23:35.735Z"
   },
   {
    "duration": 4,
    "start_time": "2024-02-12T20:23:35.770Z"
   },
   {
    "duration": 21,
    "start_time": "2024-02-12T20:23:35.776Z"
   },
   {
    "duration": 10,
    "start_time": "2024-02-12T20:23:35.799Z"
   },
   {
    "duration": 11,
    "start_time": "2024-02-12T20:23:35.811Z"
   },
   {
    "duration": 10,
    "start_time": "2024-02-12T20:23:37.313Z"
   },
   {
    "duration": 68,
    "start_time": "2024-02-12T20:23:54.924Z"
   },
   {
    "duration": 8,
    "start_time": "2024-02-12T20:24:19.536Z"
   },
   {
    "duration": 88,
    "start_time": "2024-02-12T20:32:50.437Z"
   },
   {
    "duration": 15,
    "start_time": "2024-02-12T20:32:50.527Z"
   },
   {
    "duration": 18,
    "start_time": "2024-02-12T20:32:50.559Z"
   },
   {
    "duration": 10,
    "start_time": "2024-02-12T20:32:50.579Z"
   },
   {
    "duration": 68,
    "start_time": "2024-02-12T20:32:50.591Z"
   },
   {
    "duration": 4,
    "start_time": "2024-02-12T20:32:50.661Z"
   },
   {
    "duration": 10,
    "start_time": "2024-02-12T20:32:50.667Z"
   },
   {
    "duration": 4,
    "start_time": "2024-02-12T20:32:50.678Z"
   },
   {
    "duration": 24,
    "start_time": "2024-02-12T20:32:50.683Z"
   },
   {
    "duration": 4,
    "start_time": "2024-02-12T20:32:50.710Z"
   },
   {
    "duration": 71,
    "start_time": "2024-02-12T20:32:50.716Z"
   },
   {
    "duration": 10,
    "start_time": "2024-02-12T20:32:50.789Z"
   },
   {
    "duration": 8,
    "start_time": "2024-02-12T20:32:50.801Z"
   },
   {
    "duration": 14,
    "start_time": "2024-02-12T20:32:50.811Z"
   },
   {
    "duration": 37,
    "start_time": "2024-02-12T20:32:50.827Z"
   },
   {
    "duration": 20,
    "start_time": "2024-02-12T20:32:50.866Z"
   },
   {
    "duration": 4,
    "start_time": "2024-02-12T20:32:50.888Z"
   },
   {
    "duration": 14,
    "start_time": "2024-02-12T20:32:50.894Z"
   },
   {
    "duration": 6,
    "start_time": "2024-02-12T20:32:50.910Z"
   },
   {
    "duration": 5,
    "start_time": "2024-02-12T20:32:50.917Z"
   },
   {
    "duration": 8,
    "start_time": "2024-02-12T20:32:53.645Z"
   },
   {
    "duration": 8,
    "start_time": "2024-02-12T20:37:43.550Z"
   },
   {
    "duration": 93,
    "start_time": "2024-02-12T20:38:02.358Z"
   },
   {
    "duration": 15,
    "start_time": "2024-02-12T20:38:02.453Z"
   },
   {
    "duration": 27,
    "start_time": "2024-02-12T20:38:02.470Z"
   },
   {
    "duration": 12,
    "start_time": "2024-02-12T20:38:02.500Z"
   },
   {
    "duration": 58,
    "start_time": "2024-02-12T20:38:02.513Z"
   },
   {
    "duration": 3,
    "start_time": "2024-02-12T20:38:02.573Z"
   },
   {
    "duration": 33,
    "start_time": "2024-02-12T20:38:02.577Z"
   },
   {
    "duration": 8,
    "start_time": "2024-02-12T20:38:02.612Z"
   },
   {
    "duration": 65,
    "start_time": "2024-02-12T20:38:02.621Z"
   },
   {
    "duration": 6,
    "start_time": "2024-02-12T20:38:02.689Z"
   },
   {
    "duration": 43,
    "start_time": "2024-02-12T20:38:02.697Z"
   },
   {
    "duration": 17,
    "start_time": "2024-02-12T20:38:02.742Z"
   },
   {
    "duration": 19,
    "start_time": "2024-02-12T20:38:02.761Z"
   },
   {
    "duration": 27,
    "start_time": "2024-02-12T20:38:02.782Z"
   },
   {
    "duration": 38,
    "start_time": "2024-02-12T20:38:02.811Z"
   },
   {
    "duration": 19,
    "start_time": "2024-02-12T20:38:02.850Z"
   },
   {
    "duration": 3,
    "start_time": "2024-02-12T20:38:02.871Z"
   },
   {
    "duration": 57,
    "start_time": "2024-02-12T20:38:02.876Z"
   },
   {
    "duration": 17,
    "start_time": "2024-02-12T20:38:02.935Z"
   },
   {
    "duration": 15,
    "start_time": "2024-02-12T20:38:02.954Z"
   },
   {
    "duration": 11,
    "start_time": "2024-02-12T20:38:06.120Z"
   },
   {
    "duration": 97,
    "start_time": "2024-02-12T20:39:06.960Z"
   },
   {
    "duration": 17,
    "start_time": "2024-02-12T20:39:07.059Z"
   },
   {
    "duration": 31,
    "start_time": "2024-02-12T20:39:07.079Z"
   },
   {
    "duration": 12,
    "start_time": "2024-02-12T20:39:07.113Z"
   },
   {
    "duration": 60,
    "start_time": "2024-02-12T20:39:07.127Z"
   },
   {
    "duration": 4,
    "start_time": "2024-02-12T20:39:07.189Z"
   },
   {
    "duration": 18,
    "start_time": "2024-02-12T20:39:07.194Z"
   },
   {
    "duration": 9,
    "start_time": "2024-02-12T20:39:07.214Z"
   },
   {
    "duration": 36,
    "start_time": "2024-02-12T20:39:07.224Z"
   },
   {
    "duration": 4,
    "start_time": "2024-02-12T20:39:07.262Z"
   },
   {
    "duration": 41,
    "start_time": "2024-02-12T20:39:07.267Z"
   },
   {
    "duration": 11,
    "start_time": "2024-02-12T20:39:07.310Z"
   },
   {
    "duration": 4,
    "start_time": "2024-02-12T20:39:07.322Z"
   },
   {
    "duration": 39,
    "start_time": "2024-02-12T20:39:07.328Z"
   },
   {
    "duration": 60,
    "start_time": "2024-02-12T20:39:07.368Z"
   },
   {
    "duration": 30,
    "start_time": "2024-02-12T20:39:07.429Z"
   },
   {
    "duration": 4,
    "start_time": "2024-02-12T20:39:07.461Z"
   },
   {
    "duration": 28,
    "start_time": "2024-02-12T20:39:07.466Z"
   },
   {
    "duration": 18,
    "start_time": "2024-02-12T20:39:07.495Z"
   },
   {
    "duration": 4,
    "start_time": "2024-02-12T20:39:07.515Z"
   },
   {
    "duration": 10,
    "start_time": "2024-02-12T20:39:07.520Z"
   },
   {
    "duration": 4,
    "start_time": "2024-02-12T20:39:09.769Z"
   },
   {
    "duration": 5,
    "start_time": "2024-02-12T20:39:31.214Z"
   },
   {
    "duration": 88,
    "start_time": "2024-02-12T20:42:08.845Z"
   },
   {
    "duration": 16,
    "start_time": "2024-02-12T20:42:08.935Z"
   },
   {
    "duration": 32,
    "start_time": "2024-02-12T20:42:08.959Z"
   },
   {
    "duration": 12,
    "start_time": "2024-02-12T20:42:08.994Z"
   },
   {
    "duration": 53,
    "start_time": "2024-02-12T20:42:09.008Z"
   },
   {
    "duration": 4,
    "start_time": "2024-02-12T20:42:09.063Z"
   },
   {
    "duration": 16,
    "start_time": "2024-02-12T20:42:09.068Z"
   },
   {
    "duration": 5,
    "start_time": "2024-02-12T20:42:09.086Z"
   },
   {
    "duration": 30,
    "start_time": "2024-02-12T20:42:09.092Z"
   },
   {
    "duration": 5,
    "start_time": "2024-02-12T20:42:09.125Z"
   },
   {
    "duration": 40,
    "start_time": "2024-02-12T20:42:09.159Z"
   },
   {
    "duration": 11,
    "start_time": "2024-02-12T20:42:09.201Z"
   },
   {
    "duration": 4,
    "start_time": "2024-02-12T20:42:09.214Z"
   },
   {
    "duration": 39,
    "start_time": "2024-02-12T20:42:09.220Z"
   },
   {
    "duration": 23,
    "start_time": "2024-02-12T20:42:09.260Z"
   },
   {
    "duration": 20,
    "start_time": "2024-02-12T20:42:09.284Z"
   },
   {
    "duration": 4,
    "start_time": "2024-02-12T20:42:09.306Z"
   },
   {
    "duration": 12,
    "start_time": "2024-02-12T20:42:09.311Z"
   },
   {
    "duration": 36,
    "start_time": "2024-02-12T20:42:09.324Z"
   },
   {
    "duration": 5,
    "start_time": "2024-02-12T20:42:09.362Z"
   },
   {
    "duration": 16,
    "start_time": "2024-02-12T20:42:09.369Z"
   },
   {
    "duration": 4,
    "start_time": "2024-02-12T20:42:09.387Z"
   },
   {
    "duration": 21,
    "start_time": "2024-02-12T20:42:09.393Z"
   },
   {
    "duration": 54,
    "start_time": "2024-02-12T20:42:09.415Z"
   },
   {
    "duration": 22,
    "start_time": "2024-02-12T20:42:09.470Z"
   },
   {
    "duration": 21,
    "start_time": "2024-02-12T20:42:09.493Z"
   },
   {
    "duration": 14,
    "start_time": "2024-02-12T20:42:09.515Z"
   },
   {
    "duration": 7,
    "start_time": "2024-02-12T20:42:09.562Z"
   },
   {
    "duration": 33,
    "start_time": "2024-02-12T20:42:09.571Z"
   },
   {
    "duration": 9,
    "start_time": "2024-02-12T20:42:09.605Z"
   },
   {
    "duration": 31,
    "start_time": "2024-02-12T20:42:09.616Z"
   },
   {
    "duration": 27,
    "start_time": "2024-02-12T20:42:54.560Z"
   },
   {
    "duration": 24,
    "start_time": "2024-02-12T20:43:29.840Z"
   }
  ],
  "colab": {
   "name": "dpp_template_part2.ipynb",
   "provenance": []
  },
  "kernelspec": {
   "display_name": "Python 3 (ipykernel)",
   "language": "python",
   "name": "python3"
  },
  "language_info": {
   "codemirror_mode": {
    "name": "ipython",
    "version": 3
   },
   "file_extension": ".py",
   "mimetype": "text/x-python",
   "name": "python",
   "nbconvert_exporter": "python",
   "pygments_lexer": "ipython3",
   "version": "3.11.7"
  },
  "toc": {
   "base_numbering": 1,
   "nav_menu": {},
   "number_sections": true,
   "sideBar": true,
   "skip_h1_title": true,
   "title_cell": "Table of Contents",
   "title_sidebar": "Contents",
   "toc_cell": false,
   "toc_position": {},
   "toc_section_display": true,
   "toc_window_display": false
  }
 },
 "nbformat": 4,
 "nbformat_minor": 5
}
