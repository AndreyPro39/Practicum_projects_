{
 "cells": [
  {
   "cell_type": "markdown",
   "metadata": {
    "toc": true
   },
   "source": [
    "<h1>Содержание<span class=\"tocSkip\"></span></h1>\n",
    "<div class=\"toc\"><ul class=\"toc-item\"><li><span><a href=\"#Подготовка\" data-toc-modified-id=\"Подготовка-1\"><span class=\"toc-item-num\">1&nbsp;&nbsp;</span>Подготовка</a></span></li><li><span><a href=\"#Анализ\" data-toc-modified-id=\"Анализ-2\"><span class=\"toc-item-num\">2&nbsp;&nbsp;</span>Анализ</a></span></li><li><span><a href=\"#Обучение\" data-toc-modified-id=\"Обучение-3\"><span class=\"toc-item-num\">3&nbsp;&nbsp;</span>Обучение</a></span></li><li><span><a href=\"#Тестирование\" data-toc-modified-id=\"Тестирование-4\"><span class=\"toc-item-num\">4&nbsp;&nbsp;</span>Тестирование</a></span></li></ul></div>"
   ]
  },
  {
   "cell_type": "markdown",
   "metadata": {},
   "source": [
    "#  Прогнозирование заказов такси"
   ]
  },
  {
   "cell_type": "markdown",
   "metadata": {},
   "source": [
    "Компания «Чётенькое такси» собрала исторические данные о заказах такси в аэропортах. Чтобы привлекать больше водителей в период пиковой нагрузки, нужно спрогнозировать количество заказов такси на следующий час. Постройте модель для такого предсказания.\n",
    "\n",
    "Значение метрики *RMSE* на тестовой выборке должно быть не больше 48.\n",
    "\n",
    "Вам нужно:\n",
    "\n",
    "1. Загрузить данные и выполнить их ресемплирование по одному часу.\n",
    "2. Проанализировать данные.\n",
    "3. Обучить разные модели с различными гиперпараметрами. Сделать тестовую выборку размером 10% от исходных данных.\n",
    "4. Проверить данные на тестовой выборке и сделать выводы.\n",
    "\n",
    "\n",
    "Данные лежат в файле `taxi.csv`. Количество заказов находится в столбце `num_orders` (от англ. *number of orders*, «число заказов»)."
   ]
  },
  {
   "cell_type": "markdown",
   "metadata": {},
   "source": [
    "## Подготовка"
   ]
  },
  {
   "cell_type": "code",
   "execution_count": null,
   "metadata": {},
   "outputs": [],
   "source": [
    "import pandas as pd\n",
    "import numpy as np\n",
    "import seaborn as sns\n",
    "import sklearn\n",
    "import matplotlib\n",
    "from matplotlib import pyplot as plt\n",
    "plt.rcParams[\"figure.figsize\"] = (15,8)\n",
    "from sklearn.model_selection import train_test_split\n",
    "!pip install phik -q\n",
    "import phik\n",
    "from phik.report import plot_correlation_matrix\n",
    "from sklearn.model_selection import GridSearchCV, RandomizedSearchCV\n",
    "from lightgbm import LGBMRegressor\n",
    "from catboost import CatBoostRegressor\n",
    "from sklearn.tree import DecisionTreeRegressor\n",
    "from sklearn.ensemble import RandomForestRegressor\n",
    "from sklearn.metrics import mean_squared_error\n",
    "from phik.report import plot_correlation_matrix\n",
    "from sklearn.linear_model import LinearRegression\n",
    "from sklearn.model_selection import train_test_split \n",
    "from statsmodels.tsa.seasonal import seasonal_decompose\n",
    "from sklearn.model_selection import TimeSeriesSplit\n",
    "from sklearn.model_selection import cross_val_score\n",
    "!pip install --upgrade scikit-learn 1.3.1\n",
    "!pip install --upgrade pip\n",
    "!pip install shap -q\n",
    "import warnings\n",
    "warnings.filterwarnings(\"ignore\")"
   ]
  },
  {
   "cell_type": "code",
   "execution_count": null,
   "metadata": {},
   "outputs": [],
   "source": [
    "taxi = pd.read_csv('/datasets/taxi.csv', index_col = [0], parse_dates = [0])\n",
    "taxi.sort_index(inplace=True)"
   ]
  },
  {
   "cell_type": "code",
   "execution_count": null,
   "metadata": {},
   "outputs": [],
   "source": [
    "taxi.head()"
   ]
  },
  {
   "cell_type": "code",
   "execution_count": null,
   "metadata": {},
   "outputs": [],
   "source": [
    "taxi.info()"
   ]
  },
  {
   "cell_type": "markdown",
   "metadata": {},
   "source": [
    "## Анализ"
   ]
  },
  {
   "cell_type": "code",
   "execution_count": null,
   "metadata": {},
   "outputs": [],
   "source": [
    "taxi = taxi['2018-03-01':'2018-08-31'].resample('1H').sum()"
   ]
  },
  {
   "cell_type": "code",
   "execution_count": null,
   "metadata": {},
   "outputs": [],
   "source": [
    "taxi.reset_index().head()"
   ]
  },
  {
   "cell_type": "code",
   "execution_count": null,
   "metadata": {},
   "outputs": [],
   "source": [
    "taxi.plot()\n",
    "plt.xlabel('период по месяцам')\n",
    "plt.ylabel('количество заказов')\n",
    "plt.title('Распределение заказов по месяцам')\n",
    "plt.show();\n"
   ]
  },
  {
   "cell_type": "code",
   "execution_count": null,
   "metadata": {},
   "outputs": [],
   "source": [
    "taxi.head()"
   ]
  },
  {
   "cell_type": "code",
   "execution_count": null,
   "metadata": {},
   "outputs": [],
   "source": [
    "taxi.tail()"
   ]
  },
  {
   "cell_type": "markdown",
   "metadata": {},
   "source": [
    "*Посмотрим на стационарность временного ряда*"
   ]
  },
  {
   "cell_type": "code",
   "execution_count": null,
   "metadata": {},
   "outputs": [],
   "source": [
    "taxi['mean'] = taxi['num_orders'].shift().rolling(7).mean()\n",
    "taxi['std'] = taxi['num_orders'].shift().rolling(7).std()"
   ]
  },
  {
   "cell_type": "code",
   "execution_count": null,
   "metadata": {},
   "outputs": [],
   "source": [
    "taxi.plot()\n",
    "plt.title('Распределение заказов по месяцам')\n",
    "plt.xlabel('период по месяцам')\n",
    "plt.ylabel('количество заказов')\n",
    "plt.show();"
   ]
  },
  {
   "cell_type": "markdown",
   "metadata": {},
   "source": [
    "*Сглаженный ряд скользящим средним увеличивается с течением времени. Также увеличивается cтандартное отклонение с течением времени. Это значит, что ряд нестационарный, его спрогнозировать сложнее.* "
   ]
  },
  {
   "cell_type": "markdown",
   "metadata": {},
   "source": [
    "*Ресэмплировали по часу указанный промежуток времени*"
   ]
  },
  {
   "cell_type": "code",
   "execution_count": null,
   "metadata": {},
   "outputs": [],
   "source": [
    "taxi['dayofweek'] = taxi.index.dayofweek\n",
    "taxi['hour'] = taxi.index.hour"
   ]
  },
  {
   "cell_type": "code",
   "execution_count": null,
   "metadata": {},
   "outputs": [],
   "source": [
    "taxi_orders = taxi.groupby('dayofweek')['num_orders'].agg('mean')\n",
    "taxi_orders.plot()\n",
    "plt.xlabel('Дни недели')\n",
    "plt.ylabel('Количество заказов')\n",
    "plt.title('Распределение заказов по дням недели')\n",
    "plt.show();"
   ]
  },
  {
   "cell_type": "markdown",
   "metadata": {},
   "source": [
    "*Миниальное среднее количество заказов во вторник, около 75 заказов. Макимальное в пятницу, свыше 90 заказов.*"
   ]
  },
  {
   "cell_type": "markdown",
   "metadata": {},
   "source": [
    "*Посмотрим по часам*"
   ]
  },
  {
   "cell_type": "markdown",
   "metadata": {},
   "source": [
    "*Посмотрим статистику заказов с помощью метода describe*"
   ]
  },
  {
   "cell_type": "code",
   "execution_count": null,
   "metadata": {},
   "outputs": [],
   "source": [
    "taxi_orders_hour = taxi.groupby('hour')['num_orders'].agg('mean')\n",
    "taxi_orders_hour.plot()\n",
    "plt.xlabel('Период по часам')\n",
    "plt.ylabel('Количество заказов')\n",
    "plt.title('Распределение заказов по часам внутри дня')\n",
    "plt.show();\n"
   ]
  },
  {
   "cell_type": "code",
   "execution_count": null,
   "metadata": {},
   "outputs": [],
   "source": [
    "taxi_orders_hour.describe()"
   ]
  },
  {
   "cell_type": "markdown",
   "metadata": {},
   "source": [
    "*Миниальное количество заказов = 25 в 6 утра. Максимальное в 12 ночи, около 144.*"
   ]
  },
  {
   "cell_type": "markdown",
   "metadata": {},
   "source": [
    "*Посмотрим на тренд и сезонность(в нашем случае как заказы распределются внутри дня*"
   ]
  },
  {
   "cell_type": "markdown",
   "metadata": {},
   "source": [
    "*Чтобы посмотреть изменения внутри дня, возьмем данные за неделю*"
   ]
  },
  {
   "cell_type": "code",
   "execution_count": null,
   "metadata": {},
   "outputs": [],
   "source": [
    "taxi_week = taxi['2018-08-25':'2018-08-31']\n",
    "plt.xlabel('Период по дням')\n",
    "plt.ylabel('Количество заказов')\n",
    "plt.title('Распределение заказов по дням')\n",
    "taxi_week.plot();"
   ]
  },
  {
   "cell_type": "markdown",
   "metadata": {},
   "source": [
    "*Если посмотреть на часовой график 'hour', видно, что изменение заказов циклично(сезонно). Минимальное количество заказов утром с дальнейшим увелиением к вечеру и до поздней ночи, далее ближе к утру количество заказов падает. И так повторяется всю неделю ежедневно. Причиной такой сезонности, а именно увеличения заказов такси в аэропорт вечером и ночью считается, что большинство людей летят на самолете куда-то как правило после рабочего дня когда больше свободного времени либо заказывают такси в аэропорт, например чтобы встретить родственнико или друзей. Еще можно учесть фактор времен года. В нашем случае мы взяли период за неделю августа, когда люди в отпусках и летят отдыхать как правило во второй половине дня, поэтому и увеличивается количество заказов такси во второй половине дня.*"
   ]
  },
  {
   "cell_type": "markdown",
   "metadata": {},
   "source": [
    "*Вывод - Загрузили данные, изучили общую информацию и ресэмплировали по одному часу, построили графики*"
   ]
  },
  {
   "cell_type": "markdown",
   "metadata": {},
   "source": [
    "## Обучение"
   ]
  },
  {
   "cell_type": "markdown",
   "metadata": {},
   "source": [
    "*Подготовим выборки и возьмем размер тестовой выборки 10% по условиям задачи.*"
   ]
  },
  {
   "cell_type": "code",
   "execution_count": null,
   "metadata": {},
   "outputs": [],
   "source": [
    "train, test = train_test_split(taxi_week, shuffle=False, test_size=0.1)\n",
    "train = train.dropna()\n",
    "features_train = train.drop(['num_orders'], axis=1)\n",
    "target_train = train['num_orders']\n",
    "features_test = test.drop(['num_orders'], axis=1)\n",
    "target_test = test['num_orders']"
   ]
  },
  {
   "cell_type": "markdown",
   "metadata": {},
   "source": [
    "*Удалим пропуски в тренирвочной выборке методомм dropna().*"
   ]
  },
  {
   "cell_type": "markdown",
   "metadata": {},
   "source": [
    "*Обучим модели. Возьмем модели линейной регрессии, слуайного леса и LGBMRegressor*"
   ]
  },
  {
   "cell_type": "code",
   "execution_count": null,
   "metadata": {},
   "outputs": [],
   "source": [
    "splits = TimeSeriesSplit(gap=0, n_splits=5)"
   ]
  },
  {
   "cell_type": "code",
   "execution_count": null,
   "metadata": {},
   "outputs": [],
   "source": [
    "model_lr = LinearRegression()"
   ]
  },
  {
   "cell_type": "markdown",
   "metadata": {},
   "source": [
    "*Вычислим среднюю оценку качества каждой модели на кроссвалидации и выберем лучшую модель*"
   ]
  },
  {
   "cell_type": "code",
   "execution_count": null,
   "metadata": {},
   "outputs": [],
   "source": [
    "scores = cross_val_score(model_lr, features_train, target_train, cv=splits, scoring='neg_root_mean_squared_error')\n",
    "RMSE_1 = scores.sum()/len(scores)\n",
    "print(f'Средняя оценка качества модели:, {-RMSE_1}')"
   ]
  },
  {
   "cell_type": "markdown",
   "metadata": {},
   "source": [
    "*Следующая модель - случайный лес RandomForestRegressor*"
   ]
  },
  {
   "cell_type": "code",
   "execution_count": null,
   "metadata": {},
   "outputs": [],
   "source": [
    "model_RFR = RandomForestRegressor(random_state=12345)"
   ]
  },
  {
   "cell_type": "code",
   "execution_count": null,
   "metadata": {},
   "outputs": [],
   "source": [
    "param_grid = {\n",
    "    'n_estimators': [50],\n",
    "    'max_depth': [15]\n",
    "}"
   ]
  },
  {
   "cell_type": "code",
   "execution_count": null,
   "metadata": {},
   "outputs": [],
   "source": [
    "grid_search = GridSearchCV(model_RFR, param_grid, cv=splits, n_jobs=-1, scoring='neg_root_mean_squared_error')"
   ]
  },
  {
   "cell_type": "code",
   "execution_count": null,
   "metadata": {},
   "outputs": [],
   "source": [
    "%%timeit\n",
    "grid_search.fit(features_train, target_train)"
   ]
  },
  {
   "cell_type": "code",
   "execution_count": null,
   "metadata": {},
   "outputs": [],
   "source": [
    "grid_best_score = grid_search.best_score_\n",
    "grid_best_params = grid_search.best_params_\n"
   ]
  },
  {
   "cell_type": "code",
   "execution_count": null,
   "metadata": {},
   "outputs": [],
   "source": [
    "print(f'Лучшие параметры: {grid_best_params}')\n",
    "print(f'Лучша метрика: {grid_best_score*-1}')"
   ]
  },
  {
   "cell_type": "code",
   "execution_count": null,
   "metadata": {},
   "outputs": [],
   "source": [
    "lgbm = LGBMRegressor(random_state=12345, verbose=-1)"
   ]
  },
  {
   "cell_type": "code",
   "execution_count": null,
   "metadata": {},
   "outputs": [],
   "source": [
    "lgbm_parameters = {'n_estimators': [100, 500],\n",
    "             'max_depth': [2, 6]}"
   ]
  },
  {
   "cell_type": "markdown",
   "metadata": {},
   "source": [
    "*Найдем лучшие параметры c помощью RandomizedSearchCV*"
   ]
  },
  {
   "cell_type": "code",
   "execution_count": null,
   "metadata": {},
   "outputs": [],
   "source": [
    "random_search = RandomizedSearchCV(estimator=lgbm, param_distributions=lgbm_parameters, scoring='neg_root_mean_squared_error', random_state=12345)"
   ]
  },
  {
   "cell_type": "code",
   "execution_count": null,
   "metadata": {},
   "outputs": [],
   "source": [
    "%%timeit\n",
    "random_search.fit(features_train, target_train)"
   ]
  },
  {
   "cell_type": "code",
   "execution_count": null,
   "metadata": {},
   "outputs": [],
   "source": [
    "best_params = random_search.best_params_\n",
    "best_score = random_search.best_score_"
   ]
  },
  {
   "cell_type": "code",
   "execution_count": null,
   "metadata": {},
   "outputs": [],
   "source": [
    "print(f'Лучшие параметры: {best_params}')\n",
    "print(f'Лучша метрика: {best_score*-1}')"
   ]
  },
  {
   "cell_type": "markdown",
   "metadata": {},
   "source": [
    "*Лучшую среднюю оценку модели на кроссвалидации показала модель LGBMregressor, со значением RMSE 50,73  и c временем обучения 13.1 с. Выберем модель LGBMregressor и прогоним ее на тестовых данных*"
   ]
  },
  {
   "cell_type": "markdown",
   "metadata": {},
   "source": [
    "## Тестирование"
   ]
  },
  {
   "cell_type": "markdown",
   "metadata": {},
   "source": [
    "*Построим предсказания лучшей модели на тестовой выборке и посчитаем качество модели с помощью средней квадратичной ошибки RMSE*"
   ]
  },
  {
   "cell_type": "code",
   "execution_count": null,
   "metadata": {},
   "outputs": [],
   "source": [
    "y_pred = random_search.predict(features_test)"
   ]
  },
  {
   "cell_type": "code",
   "execution_count": null,
   "metadata": {},
   "outputs": [],
   "source": [
    "RMSE_test = mean_squared_error(target_test, y_pred)**0.5"
   ]
  },
  {
   "cell_type": "code",
   "execution_count": null,
   "metadata": {},
   "outputs": [],
   "source": [
    "print(f'RMSE лучшей модели на тестовой выборке равна: {RMSE_test}')"
   ]
  },
  {
   "cell_type": "markdown",
   "metadata": {},
   "source": [
    "**Вывод - Ошибка RMSE на тестовой выборке у лучшей модели равна 40.17, что меньше верхнего порога в 48 по условию задачи. Это значит, что наша лучшая модель работает хорошо на тестовых данных.**"
   ]
  }
 ],
 "metadata": {
  "ExecuteTimeLog": [
   {
    "duration": 44,
    "start_time": "2024-09-06T12:17:54.724Z"
   },
   {
    "duration": 15257,
    "start_time": "2024-09-06T12:18:06.720Z"
   },
   {
    "duration": 171,
    "start_time": "2024-09-06T12:18:21.979Z"
   },
   {
    "duration": 85,
    "start_time": "2024-09-06T12:19:33.170Z"
   },
   {
    "duration": 725,
    "start_time": "2024-09-06T12:19:58.559Z"
   },
   {
    "duration": 818,
    "start_time": "2024-09-06T12:20:17.725Z"
   },
   {
    "duration": 10,
    "start_time": "2024-09-06T12:21:17.383Z"
   },
   {
    "duration": 11,
    "start_time": "2024-09-06T12:22:03.597Z"
   },
   {
    "duration": 42,
    "start_time": "2024-09-06T12:22:29.786Z"
   },
   {
    "duration": 13,
    "start_time": "2024-09-06T12:23:07.260Z"
   },
   {
    "duration": 8092,
    "start_time": "2024-09-06T12:23:11.728Z"
   },
   {
    "duration": 47,
    "start_time": "2024-09-06T12:23:19.822Z"
   },
   {
    "duration": 10,
    "start_time": "2024-09-06T12:23:19.870Z"
   },
   {
    "duration": 20,
    "start_time": "2024-09-06T12:23:19.881Z"
   },
   {
    "duration": 14,
    "start_time": "2024-09-06T12:23:40.288Z"
   },
   {
    "duration": 7692,
    "start_time": "2024-09-06T12:23:46.398Z"
   },
   {
    "duration": 55,
    "start_time": "2024-09-06T12:23:54.093Z"
   },
   {
    "duration": 11,
    "start_time": "2024-09-06T12:23:54.150Z"
   },
   {
    "duration": 21,
    "start_time": "2024-09-06T12:23:54.162Z"
   },
   {
    "duration": 7834,
    "start_time": "2024-09-06T12:24:56.579Z"
   },
   {
    "duration": 58,
    "start_time": "2024-09-06T12:25:04.415Z"
   },
   {
    "duration": 0,
    "start_time": "2024-09-06T12:25:04.474Z"
   },
   {
    "duration": 0,
    "start_time": "2024-09-06T12:25:04.475Z"
   },
   {
    "duration": 48,
    "start_time": "2024-09-06T12:25:23.092Z"
   },
   {
    "duration": 46,
    "start_time": "2024-09-06T12:25:44.919Z"
   },
   {
    "duration": 7717,
    "start_time": "2024-09-06T12:26:04.868Z"
   },
   {
    "duration": 51,
    "start_time": "2024-09-06T12:26:12.587Z"
   },
   {
    "duration": 9,
    "start_time": "2024-09-06T12:26:12.639Z"
   },
   {
    "duration": 225,
    "start_time": "2024-09-06T12:26:12.650Z"
   },
   {
    "duration": 8012,
    "start_time": "2024-09-06T13:19:58.173Z"
   },
   {
    "duration": 54,
    "start_time": "2024-09-06T13:20:06.187Z"
   },
   {
    "duration": 9,
    "start_time": "2024-09-06T13:20:06.242Z"
   },
   {
    "duration": 268,
    "start_time": "2024-09-06T13:20:06.252Z"
   },
   {
    "duration": 10,
    "start_time": "2024-09-06T13:20:06.522Z"
   },
   {
    "duration": 0,
    "start_time": "2024-09-06T13:20:06.533Z"
   },
   {
    "duration": 47,
    "start_time": "2024-09-06T13:20:51.834Z"
   },
   {
    "duration": 46,
    "start_time": "2024-09-06T13:21:35.576Z"
   },
   {
    "duration": 52,
    "start_time": "2024-09-06T13:21:41.916Z"
   },
   {
    "duration": 9,
    "start_time": "2024-09-06T13:22:11.230Z"
   },
   {
    "duration": 8003,
    "start_time": "2024-09-06T13:22:27.569Z"
   },
   {
    "duration": 55,
    "start_time": "2024-09-06T13:22:35.574Z"
   },
   {
    "duration": 10,
    "start_time": "2024-09-06T13:22:35.630Z"
   },
   {
    "duration": 15,
    "start_time": "2024-09-06T13:22:35.642Z"
   },
   {
    "duration": 0,
    "start_time": "2024-09-06T13:22:35.658Z"
   },
   {
    "duration": 0,
    "start_time": "2024-09-06T13:22:35.659Z"
   },
   {
    "duration": 7990,
    "start_time": "2024-09-06T13:24:38.872Z"
   },
   {
    "duration": 54,
    "start_time": "2024-09-06T13:24:46.864Z"
   },
   {
    "duration": 8,
    "start_time": "2024-09-06T13:24:46.920Z"
   },
   {
    "duration": 188,
    "start_time": "2024-09-06T13:24:46.929Z"
   },
   {
    "duration": 12,
    "start_time": "2024-09-06T13:24:47.119Z"
   },
   {
    "duration": 0,
    "start_time": "2024-09-06T13:24:47.132Z"
   },
   {
    "duration": 7986,
    "start_time": "2024-09-06T13:26:59.968Z"
   },
   {
    "duration": 56,
    "start_time": "2024-09-06T13:27:07.957Z"
   },
   {
    "duration": 10,
    "start_time": "2024-09-06T13:27:08.014Z"
   },
   {
    "duration": 17,
    "start_time": "2024-09-06T13:27:08.025Z"
   },
   {
    "duration": 0,
    "start_time": "2024-09-06T13:27:08.043Z"
   },
   {
    "duration": 0,
    "start_time": "2024-09-06T13:27:08.044Z"
   },
   {
    "duration": 52,
    "start_time": "2024-09-06T13:38:56.453Z"
   },
   {
    "duration": 11,
    "start_time": "2024-09-06T13:39:06.858Z"
   },
   {
    "duration": 10,
    "start_time": "2024-09-06T13:39:21.640Z"
   },
   {
    "duration": 10,
    "start_time": "2024-09-06T13:39:28.835Z"
   },
   {
    "duration": 8084,
    "start_time": "2024-09-06T13:39:37.501Z"
   },
   {
    "duration": 55,
    "start_time": "2024-09-06T13:39:45.587Z"
   },
   {
    "duration": 10,
    "start_time": "2024-09-06T13:39:45.643Z"
   },
   {
    "duration": 17,
    "start_time": "2024-09-06T13:39:45.655Z"
   },
   {
    "duration": 0,
    "start_time": "2024-09-06T13:39:45.674Z"
   },
   {
    "duration": 0,
    "start_time": "2024-09-06T13:39:45.675Z"
   },
   {
    "duration": 0,
    "start_time": "2024-09-06T13:39:45.676Z"
   },
   {
    "duration": 7833,
    "start_time": "2024-09-06T13:40:21.559Z"
   },
   {
    "duration": 54,
    "start_time": "2024-09-06T13:40:29.394Z"
   },
   {
    "duration": 9,
    "start_time": "2024-09-06T13:40:29.449Z"
   },
   {
    "duration": 198,
    "start_time": "2024-09-06T13:40:29.460Z"
   },
   {
    "duration": 15,
    "start_time": "2024-09-06T13:40:29.660Z"
   },
   {
    "duration": 0,
    "start_time": "2024-09-06T13:40:29.676Z"
   },
   {
    "duration": 0,
    "start_time": "2024-09-06T13:40:29.677Z"
   },
   {
    "duration": 8,
    "start_time": "2024-09-06T13:40:58.620Z"
   },
   {
    "duration": 54,
    "start_time": "2024-09-06T13:42:28.185Z"
   },
   {
    "duration": 45,
    "start_time": "2024-09-06T13:42:33.884Z"
   },
   {
    "duration": 7849,
    "start_time": "2024-09-06T13:42:43.527Z"
   },
   {
    "duration": 47,
    "start_time": "2024-09-06T13:42:51.378Z"
   },
   {
    "duration": 14,
    "start_time": "2024-09-06T13:42:51.426Z"
   },
   {
    "duration": 0,
    "start_time": "2024-09-06T13:42:51.441Z"
   },
   {
    "duration": 0,
    "start_time": "2024-09-06T13:42:51.443Z"
   },
   {
    "duration": 0,
    "start_time": "2024-09-06T13:42:51.444Z"
   },
   {
    "duration": 0,
    "start_time": "2024-09-06T13:42:51.445Z"
   },
   {
    "duration": 7766,
    "start_time": "2024-09-06T13:43:05.946Z"
   },
   {
    "duration": 54,
    "start_time": "2024-09-06T13:43:13.715Z"
   },
   {
    "duration": 12,
    "start_time": "2024-09-06T13:43:13.771Z"
   },
   {
    "duration": 0,
    "start_time": "2024-09-06T13:43:13.784Z"
   },
   {
    "duration": 0,
    "start_time": "2024-09-06T13:43:13.785Z"
   },
   {
    "duration": 0,
    "start_time": "2024-09-06T13:43:13.786Z"
   },
   {
    "duration": 0,
    "start_time": "2024-09-06T13:43:13.787Z"
   },
   {
    "duration": 7906,
    "start_time": "2024-09-06T13:43:34.825Z"
   },
   {
    "duration": 53,
    "start_time": "2024-09-06T13:43:42.733Z"
   },
   {
    "duration": 9,
    "start_time": "2024-09-06T13:43:42.787Z"
   },
   {
    "duration": 189,
    "start_time": "2024-09-06T13:43:42.797Z"
   },
   {
    "duration": 13,
    "start_time": "2024-09-06T13:43:42.987Z"
   },
   {
    "duration": 0,
    "start_time": "2024-09-06T13:43:43.001Z"
   },
   {
    "duration": 0,
    "start_time": "2024-09-06T13:43:43.002Z"
   },
   {
    "duration": 7878,
    "start_time": "2024-09-06T13:44:15.172Z"
   },
   {
    "duration": 53,
    "start_time": "2024-09-06T13:44:23.052Z"
   },
   {
    "duration": 8,
    "start_time": "2024-09-06T13:44:23.107Z"
   },
   {
    "duration": 185,
    "start_time": "2024-09-06T13:44:23.117Z"
   },
   {
    "duration": 13,
    "start_time": "2024-09-06T13:44:23.303Z"
   },
   {
    "duration": 0,
    "start_time": "2024-09-06T13:44:23.317Z"
   },
   {
    "duration": 0,
    "start_time": "2024-09-06T13:44:23.318Z"
   },
   {
    "duration": 7830,
    "start_time": "2024-09-06T13:45:47.325Z"
   },
   {
    "duration": 54,
    "start_time": "2024-09-06T13:45:55.157Z"
   },
   {
    "duration": 8,
    "start_time": "2024-09-06T13:45:55.212Z"
   },
   {
    "duration": 188,
    "start_time": "2024-09-06T13:45:55.222Z"
   },
   {
    "duration": 12,
    "start_time": "2024-09-06T13:45:55.412Z"
   },
   {
    "duration": 0,
    "start_time": "2024-09-06T13:45:55.426Z"
   },
   {
    "duration": 0,
    "start_time": "2024-09-06T13:45:55.427Z"
   },
   {
    "duration": 10,
    "start_time": "2024-09-06T13:46:18.133Z"
   },
   {
    "duration": 7644,
    "start_time": "2024-09-06T14:00:16.972Z"
   },
   {
    "duration": 53,
    "start_time": "2024-09-06T14:00:24.618Z"
   },
   {
    "duration": 9,
    "start_time": "2024-09-06T14:00:24.672Z"
   },
   {
    "duration": 261,
    "start_time": "2024-09-06T14:00:24.683Z"
   },
   {
    "duration": 1365,
    "start_time": "2024-09-06T14:00:24.945Z"
   },
   {
    "duration": 0,
    "start_time": "2024-09-06T14:00:26.311Z"
   },
   {
    "duration": 0,
    "start_time": "2024-09-06T14:00:26.312Z"
   },
   {
    "duration": 7768,
    "start_time": "2024-09-06T14:01:30.540Z"
   },
   {
    "duration": 52,
    "start_time": "2024-09-06T14:01:38.310Z"
   },
   {
    "duration": 9,
    "start_time": "2024-09-06T14:01:38.363Z"
   },
   {
    "duration": 190,
    "start_time": "2024-09-06T14:01:38.376Z"
   },
   {
    "duration": 777,
    "start_time": "2024-09-06T14:01:38.567Z"
   },
   {
    "duration": 0,
    "start_time": "2024-09-06T14:01:39.346Z"
   },
   {
    "duration": 0,
    "start_time": "2024-09-06T14:01:39.347Z"
   },
   {
    "duration": 7645,
    "start_time": "2024-09-06T14:02:06.179Z"
   },
   {
    "duration": 47,
    "start_time": "2024-09-06T14:02:13.826Z"
   },
   {
    "duration": 12,
    "start_time": "2024-09-06T14:02:13.875Z"
   },
   {
    "duration": 0,
    "start_time": "2024-09-06T14:02:13.889Z"
   },
   {
    "duration": 0,
    "start_time": "2024-09-06T14:02:13.890Z"
   },
   {
    "duration": 0,
    "start_time": "2024-09-06T14:02:13.891Z"
   },
   {
    "duration": 0,
    "start_time": "2024-09-06T14:02:13.892Z"
   },
   {
    "duration": 44,
    "start_time": "2024-09-06T14:02:31.179Z"
   },
   {
    "duration": 7544,
    "start_time": "2024-09-06T14:02:49.748Z"
   },
   {
    "duration": 47,
    "start_time": "2024-09-06T14:02:57.295Z"
   },
   {
    "duration": 8888,
    "start_time": "2024-09-06T14:03:12.570Z"
   },
   {
    "duration": 48,
    "start_time": "2024-09-06T14:03:21.460Z"
   },
   {
    "duration": 109,
    "start_time": "2024-09-06T14:03:21.509Z"
   },
   {
    "duration": 0,
    "start_time": "2024-09-06T14:03:21.620Z"
   },
   {
    "duration": 0,
    "start_time": "2024-09-06T14:03:21.621Z"
   },
   {
    "duration": 0,
    "start_time": "2024-09-06T14:03:21.622Z"
   },
   {
    "duration": 0,
    "start_time": "2024-09-06T14:03:21.623Z"
   },
   {
    "duration": 43,
    "start_time": "2024-09-06T14:03:47.760Z"
   },
   {
    "duration": 7,
    "start_time": "2024-09-06T14:06:00.321Z"
   },
   {
    "duration": 44,
    "start_time": "2024-09-06T14:06:36.137Z"
   },
   {
    "duration": 12,
    "start_time": "2024-09-06T14:06:55.705Z"
   },
   {
    "duration": 8,
    "start_time": "2024-09-06T14:07:04.620Z"
   },
   {
    "duration": 203,
    "start_time": "2024-09-06T14:07:10.989Z"
   },
   {
    "duration": 5,
    "start_time": "2024-09-06T14:07:48.067Z"
   },
   {
    "duration": 9,
    "start_time": "2024-09-06T14:07:49.468Z"
   },
   {
    "duration": 54,
    "start_time": "2024-09-06T14:07:58.499Z"
   },
   {
    "duration": 99,
    "start_time": "2024-09-06T14:08:11.669Z"
   },
   {
    "duration": 7,
    "start_time": "2024-09-06T14:12:06.616Z"
   },
   {
    "duration": 7816,
    "start_time": "2024-09-06T14:12:31.200Z"
   },
   {
    "duration": 46,
    "start_time": "2024-09-06T14:12:39.018Z"
   },
   {
    "duration": 9,
    "start_time": "2024-09-06T14:12:39.065Z"
   },
   {
    "duration": 15,
    "start_time": "2024-09-06T14:12:39.075Z"
   },
   {
    "duration": 247,
    "start_time": "2024-09-06T14:12:39.091Z"
   },
   {
    "duration": 4,
    "start_time": "2024-09-06T14:12:39.339Z"
   },
   {
    "duration": 94,
    "start_time": "2024-09-06T14:12:39.350Z"
   },
   {
    "duration": 11,
    "start_time": "2024-09-06T14:12:39.445Z"
   },
   {
    "duration": 0,
    "start_time": "2024-09-06T14:12:39.457Z"
   },
   {
    "duration": 7,
    "start_time": "2024-09-06T14:14:04.188Z"
   },
   {
    "duration": 16,
    "start_time": "2024-09-06T14:14:29.886Z"
   },
   {
    "duration": 96,
    "start_time": "2024-09-06T14:16:57.617Z"
   },
   {
    "duration": 96,
    "start_time": "2024-09-06T14:17:32.976Z"
   },
   {
    "duration": 7919,
    "start_time": "2024-09-06T14:29:48.672Z"
   },
   {
    "duration": 48,
    "start_time": "2024-09-06T14:29:56.593Z"
   },
   {
    "duration": 8,
    "start_time": "2024-09-06T14:29:56.642Z"
   },
   {
    "duration": 9,
    "start_time": "2024-09-06T14:29:56.652Z"
   },
   {
    "duration": 190,
    "start_time": "2024-09-06T14:29:56.662Z"
   },
   {
    "duration": 4,
    "start_time": "2024-09-06T14:29:56.853Z"
   },
   {
    "duration": 113,
    "start_time": "2024-09-06T14:29:56.859Z"
   },
   {
    "duration": 102,
    "start_time": "2024-09-06T14:29:56.973Z"
   },
   {
    "duration": 12,
    "start_time": "2024-09-06T14:29:57.076Z"
   },
   {
    "duration": 0,
    "start_time": "2024-09-06T14:29:57.090Z"
   },
   {
    "duration": 0,
    "start_time": "2024-09-06T14:29:57.091Z"
   },
   {
    "duration": 0,
    "start_time": "2024-09-06T14:29:57.092Z"
   },
   {
    "duration": 7877,
    "start_time": "2024-09-06T14:30:21.187Z"
   },
   {
    "duration": 48,
    "start_time": "2024-09-06T14:30:29.066Z"
   },
   {
    "duration": 9,
    "start_time": "2024-09-06T14:30:29.115Z"
   },
   {
    "duration": 10,
    "start_time": "2024-09-06T14:30:29.125Z"
   },
   {
    "duration": 183,
    "start_time": "2024-09-06T14:30:29.136Z"
   },
   {
    "duration": 4,
    "start_time": "2024-09-06T14:30:29.321Z"
   },
   {
    "duration": 111,
    "start_time": "2024-09-06T14:30:29.326Z"
   },
   {
    "duration": 175,
    "start_time": "2024-09-06T14:30:29.438Z"
   },
   {
    "duration": 6,
    "start_time": "2024-09-06T14:30:29.614Z"
   },
   {
    "duration": 4,
    "start_time": "2024-09-06T14:30:29.623Z"
   },
   {
    "duration": 84,
    "start_time": "2024-09-06T14:30:29.629Z"
   },
   {
    "duration": 0,
    "start_time": "2024-09-06T14:30:29.715Z"
   },
   {
    "duration": 7836,
    "start_time": "2024-09-06T14:30:53.228Z"
   },
   {
    "duration": 48,
    "start_time": "2024-09-06T14:31:01.066Z"
   },
   {
    "duration": 9,
    "start_time": "2024-09-06T14:31:01.116Z"
   },
   {
    "duration": 9,
    "start_time": "2024-09-06T14:31:01.126Z"
   },
   {
    "duration": 194,
    "start_time": "2024-09-06T14:31:01.136Z"
   },
   {
    "duration": 4,
    "start_time": "2024-09-06T14:31:01.331Z"
   },
   {
    "duration": 114,
    "start_time": "2024-09-06T14:31:01.336Z"
   },
   {
    "duration": 105,
    "start_time": "2024-09-06T14:31:01.452Z"
   },
   {
    "duration": 5,
    "start_time": "2024-09-06T14:31:01.558Z"
   },
   {
    "duration": 19,
    "start_time": "2024-09-06T14:31:01.565Z"
   },
   {
    "duration": 1669,
    "start_time": "2024-09-06T14:31:01.585Z"
   },
   {
    "duration": 11,
    "start_time": "2024-09-06T14:31:03.256Z"
   },
   {
    "duration": 7618,
    "start_time": "2024-09-06T14:31:51.508Z"
   },
   {
    "duration": 47,
    "start_time": "2024-09-06T14:31:59.128Z"
   },
   {
    "duration": 8,
    "start_time": "2024-09-06T14:31:59.176Z"
   },
   {
    "duration": 9,
    "start_time": "2024-09-06T14:31:59.186Z"
   },
   {
    "duration": 184,
    "start_time": "2024-09-06T14:31:59.196Z"
   },
   {
    "duration": 4,
    "start_time": "2024-09-06T14:31:59.382Z"
   },
   {
    "duration": 110,
    "start_time": "2024-09-06T14:31:59.387Z"
   },
   {
    "duration": 103,
    "start_time": "2024-09-06T14:31:59.498Z"
   },
   {
    "duration": 6,
    "start_time": "2024-09-06T14:31:59.602Z"
   },
   {
    "duration": 5,
    "start_time": "2024-09-06T14:31:59.610Z"
   },
   {
    "duration": 1672,
    "start_time": "2024-09-06T14:31:59.616Z"
   },
   {
    "duration": 14,
    "start_time": "2024-09-06T14:32:01.290Z"
   },
   {
    "duration": 8,
    "start_time": "2024-09-06T15:09:50.685Z"
   },
   {
    "duration": 7931,
    "start_time": "2024-09-06T15:11:26.022Z"
   },
   {
    "duration": 48,
    "start_time": "2024-09-06T15:11:33.955Z"
   },
   {
    "duration": 9,
    "start_time": "2024-09-06T15:11:34.004Z"
   },
   {
    "duration": 17,
    "start_time": "2024-09-06T15:11:34.014Z"
   },
   {
    "duration": 187,
    "start_time": "2024-09-06T15:11:34.032Z"
   },
   {
    "duration": 5,
    "start_time": "2024-09-06T15:11:34.220Z"
   },
   {
    "duration": 127,
    "start_time": "2024-09-06T15:11:34.226Z"
   },
   {
    "duration": 110,
    "start_time": "2024-09-06T15:11:34.354Z"
   },
   {
    "duration": 8,
    "start_time": "2024-09-06T15:11:34.465Z"
   },
   {
    "duration": 23,
    "start_time": "2024-09-06T15:11:34.475Z"
   },
   {
    "duration": 1714,
    "start_time": "2024-09-06T15:11:34.499Z"
   },
   {
    "duration": 12,
    "start_time": "2024-09-06T15:11:36.214Z"
   },
   {
    "duration": 8,
    "start_time": "2024-09-06T15:11:40.172Z"
   },
   {
    "duration": 7,
    "start_time": "2024-09-06T15:12:12.627Z"
   },
   {
    "duration": 7973,
    "start_time": "2024-09-06T15:12:17.470Z"
   },
   {
    "duration": 47,
    "start_time": "2024-09-06T15:12:25.445Z"
   },
   {
    "duration": 8,
    "start_time": "2024-09-06T15:12:25.493Z"
   },
   {
    "duration": 8,
    "start_time": "2024-09-06T15:12:25.503Z"
   },
   {
    "duration": 279,
    "start_time": "2024-09-06T15:12:25.512Z"
   },
   {
    "duration": 4,
    "start_time": "2024-09-06T15:12:25.792Z"
   },
   {
    "duration": 111,
    "start_time": "2024-09-06T15:12:25.797Z"
   },
   {
    "duration": 105,
    "start_time": "2024-09-06T15:12:25.909Z"
   },
   {
    "duration": 6,
    "start_time": "2024-09-06T15:12:26.015Z"
   },
   {
    "duration": 13,
    "start_time": "2024-09-06T15:12:26.022Z"
   },
   {
    "duration": 10180,
    "start_time": "2024-09-06T15:12:26.036Z"
   },
   {
    "duration": 9,
    "start_time": "2024-09-06T15:12:36.218Z"
   },
   {
    "duration": 0,
    "start_time": "2024-09-06T15:12:36.228Z"
   },
   {
    "duration": 7,
    "start_time": "2024-09-06T15:13:21.114Z"
   },
   {
    "duration": 4,
    "start_time": "2024-09-06T15:13:27.006Z"
   },
   {
    "duration": 10,
    "start_time": "2024-09-06T15:13:31.091Z"
   },
   {
    "duration": 2,
    "start_time": "2024-09-06T15:13:55.911Z"
   },
   {
    "duration": 2,
    "start_time": "2024-09-06T15:14:19.492Z"
   },
   {
    "duration": 7704,
    "start_time": "2024-09-06T15:23:31.729Z"
   },
   {
    "duration": 49,
    "start_time": "2024-09-06T15:23:39.435Z"
   },
   {
    "duration": 9,
    "start_time": "2024-09-06T15:23:39.486Z"
   },
   {
    "duration": 9,
    "start_time": "2024-09-06T15:23:39.497Z"
   },
   {
    "duration": 212,
    "start_time": "2024-09-06T15:23:39.508Z"
   },
   {
    "duration": 6,
    "start_time": "2024-09-06T15:23:39.721Z"
   },
   {
    "duration": 109,
    "start_time": "2024-09-06T15:23:39.729Z"
   },
   {
    "duration": 102,
    "start_time": "2024-09-06T15:23:39.840Z"
   },
   {
    "duration": 6,
    "start_time": "2024-09-06T15:23:39.950Z"
   },
   {
    "duration": 4,
    "start_time": "2024-09-06T15:23:39.959Z"
   },
   {
    "duration": 6,
    "start_time": "2024-09-06T15:23:39.965Z"
   },
   {
    "duration": 3,
    "start_time": "2024-09-06T15:23:39.973Z"
   },
   {
    "duration": 10,
    "start_time": "2024-09-06T15:23:39.978Z"
   },
   {
    "duration": 13,
    "start_time": "2024-09-06T15:23:39.990Z"
   },
   {
    "duration": 3,
    "start_time": "2024-09-06T15:23:40.004Z"
   },
   {
    "duration": 12,
    "start_time": "2024-09-06T15:23:40.008Z"
   },
   {
    "duration": 0,
    "start_time": "2024-09-06T15:23:40.021Z"
   },
   {
    "duration": 0,
    "start_time": "2024-09-06T15:23:40.022Z"
   },
   {
    "duration": 0,
    "start_time": "2024-09-06T15:23:40.023Z"
   },
   {
    "duration": 8,
    "start_time": "2024-09-06T15:24:40.210Z"
   },
   {
    "duration": 16313,
    "start_time": "2024-09-07T04:01:48.378Z"
   },
   {
    "duration": 184,
    "start_time": "2024-09-07T04:02:04.694Z"
   },
   {
    "duration": 14,
    "start_time": "2024-09-07T04:02:04.880Z"
   },
   {
    "duration": 17,
    "start_time": "2024-09-07T04:02:04.896Z"
   },
   {
    "duration": 258,
    "start_time": "2024-09-07T04:02:04.915Z"
   },
   {
    "duration": 5,
    "start_time": "2024-09-07T04:02:05.175Z"
   },
   {
    "duration": 139,
    "start_time": "2024-09-07T04:02:05.182Z"
   },
   {
    "duration": 260,
    "start_time": "2024-09-07T04:02:05.322Z"
   },
   {
    "duration": 7,
    "start_time": "2024-09-07T04:02:05.584Z"
   },
   {
    "duration": 5,
    "start_time": "2024-09-07T04:02:05.604Z"
   },
   {
    "duration": 25,
    "start_time": "2024-09-07T04:02:05.611Z"
   },
   {
    "duration": 13,
    "start_time": "2024-09-07T04:02:05.637Z"
   },
   {
    "duration": 16,
    "start_time": "2024-09-07T04:02:05.651Z"
   },
   {
    "duration": 9,
    "start_time": "2024-09-07T04:02:05.669Z"
   },
   {
    "duration": 4,
    "start_time": "2024-09-07T04:02:05.680Z"
   },
   {
    "duration": 13,
    "start_time": "2024-09-07T04:02:05.686Z"
   },
   {
    "duration": 22,
    "start_time": "2024-09-07T04:02:05.700Z"
   },
   {
    "duration": 651,
    "start_time": "2024-09-07T04:02:05.723Z"
   },
   {
    "duration": 7794,
    "start_time": "2024-09-07T04:04:12.493Z"
   },
   {
    "duration": 55,
    "start_time": "2024-09-07T04:04:20.289Z"
   },
   {
    "duration": 10,
    "start_time": "2024-09-07T04:04:20.346Z"
   },
   {
    "duration": 12,
    "start_time": "2024-09-07T04:04:20.357Z"
   },
   {
    "duration": 230,
    "start_time": "2024-09-07T04:04:20.371Z"
   },
   {
    "duration": 5,
    "start_time": "2024-09-07T04:04:20.604Z"
   },
   {
    "duration": 158,
    "start_time": "2024-09-07T04:04:20.610Z"
   },
   {
    "duration": 126,
    "start_time": "2024-09-07T04:04:20.770Z"
   },
   {
    "duration": 11,
    "start_time": "2024-09-07T04:04:20.897Z"
   },
   {
    "duration": 7,
    "start_time": "2024-09-07T04:04:20.909Z"
   },
   {
    "duration": 11,
    "start_time": "2024-09-07T04:04:20.917Z"
   },
   {
    "duration": 4,
    "start_time": "2024-09-07T04:04:20.930Z"
   },
   {
    "duration": 5,
    "start_time": "2024-09-07T04:04:20.935Z"
   },
   {
    "duration": 3,
    "start_time": "2024-09-07T04:04:20.943Z"
   },
   {
    "duration": 3,
    "start_time": "2024-09-07T04:04:20.947Z"
   },
   {
    "duration": 3,
    "start_time": "2024-09-07T04:04:20.952Z"
   },
   {
    "duration": 48,
    "start_time": "2024-09-07T04:04:20.957Z"
   },
   {
    "duration": 618,
    "start_time": "2024-09-07T04:04:21.007Z"
   },
   {
    "duration": 172,
    "start_time": "2024-09-07T04:05:51.029Z"
   },
   {
    "duration": 7772,
    "start_time": "2024-09-07T04:06:06.081Z"
   },
   {
    "duration": 56,
    "start_time": "2024-09-07T04:06:13.855Z"
   },
   {
    "duration": 10,
    "start_time": "2024-09-07T04:06:13.913Z"
   },
   {
    "duration": 11,
    "start_time": "2024-09-07T04:06:13.925Z"
   },
   {
    "duration": 248,
    "start_time": "2024-09-07T04:06:13.937Z"
   },
   {
    "duration": 6,
    "start_time": "2024-09-07T04:06:14.187Z"
   },
   {
    "duration": 143,
    "start_time": "2024-09-07T04:06:14.205Z"
   },
   {
    "duration": 136,
    "start_time": "2024-09-07T04:06:14.350Z"
   },
   {
    "duration": 7,
    "start_time": "2024-09-07T04:06:14.488Z"
   },
   {
    "duration": 7,
    "start_time": "2024-09-07T04:06:14.504Z"
   },
   {
    "duration": 11,
    "start_time": "2024-09-07T04:06:14.512Z"
   },
   {
    "duration": 7,
    "start_time": "2024-09-07T04:06:14.524Z"
   },
   {
    "duration": 6,
    "start_time": "2024-09-07T04:06:14.532Z"
   },
   {
    "duration": 5,
    "start_time": "2024-09-07T04:06:14.539Z"
   },
   {
    "duration": 16,
    "start_time": "2024-09-07T04:06:14.545Z"
   },
   {
    "duration": 4,
    "start_time": "2024-09-07T04:06:14.563Z"
   },
   {
    "duration": 3486,
    "start_time": "2024-09-07T04:06:14.569Z"
   },
   {
    "duration": 653,
    "start_time": "2024-09-07T04:06:18.057Z"
   },
   {
    "duration": 12,
    "start_time": "2024-09-07T04:07:47.980Z"
   },
   {
    "duration": 7570,
    "start_time": "2024-09-07T04:08:08.860Z"
   },
   {
    "duration": 55,
    "start_time": "2024-09-07T04:08:16.433Z"
   },
   {
    "duration": 10,
    "start_time": "2024-09-07T04:08:16.490Z"
   },
   {
    "duration": 12,
    "start_time": "2024-09-07T04:08:16.502Z"
   },
   {
    "duration": 243,
    "start_time": "2024-09-07T04:08:16.516Z"
   },
   {
    "duration": 5,
    "start_time": "2024-09-07T04:08:16.761Z"
   },
   {
    "duration": 171,
    "start_time": "2024-09-07T04:08:16.768Z"
   },
   {
    "duration": 232,
    "start_time": "2024-09-07T04:08:16.941Z"
   },
   {
    "duration": 7,
    "start_time": "2024-09-07T04:08:17.174Z"
   },
   {
    "duration": 14,
    "start_time": "2024-09-07T04:08:17.184Z"
   },
   {
    "duration": 11,
    "start_time": "2024-09-07T04:08:17.199Z"
   },
   {
    "duration": 13,
    "start_time": "2024-09-07T04:08:17.211Z"
   },
   {
    "duration": 7,
    "start_time": "2024-09-07T04:08:17.226Z"
   },
   {
    "duration": 7,
    "start_time": "2024-09-07T04:08:17.234Z"
   },
   {
    "duration": 17,
    "start_time": "2024-09-07T04:08:17.242Z"
   },
   {
    "duration": 5,
    "start_time": "2024-09-07T04:08:17.260Z"
   },
   {
    "duration": 3288,
    "start_time": "2024-09-07T04:08:17.267Z"
   },
   {
    "duration": 632,
    "start_time": "2024-09-07T04:08:20.557Z"
   },
   {
    "duration": 17,
    "start_time": "2024-09-07T04:08:21.190Z"
   },
   {
    "duration": 0,
    "start_time": "2024-09-07T04:08:21.209Z"
   },
   {
    "duration": 7641,
    "start_time": "2024-09-07T04:09:36.782Z"
   },
   {
    "duration": 56,
    "start_time": "2024-09-07T04:09:44.426Z"
   },
   {
    "duration": 9,
    "start_time": "2024-09-07T04:09:44.484Z"
   },
   {
    "duration": 15,
    "start_time": "2024-09-07T04:09:44.495Z"
   },
   {
    "duration": 232,
    "start_time": "2024-09-07T04:09:44.511Z"
   },
   {
    "duration": 5,
    "start_time": "2024-09-07T04:09:44.745Z"
   },
   {
    "duration": 184,
    "start_time": "2024-09-07T04:09:44.751Z"
   },
   {
    "duration": 131,
    "start_time": "2024-09-07T04:09:44.936Z"
   },
   {
    "duration": 7,
    "start_time": "2024-09-07T04:09:45.068Z"
   },
   {
    "duration": 74,
    "start_time": "2024-09-07T04:09:45.077Z"
   },
   {
    "duration": 25,
    "start_time": "2024-09-07T04:09:45.153Z"
   },
   {
    "duration": 18,
    "start_time": "2024-09-07T04:09:45.180Z"
   },
   {
    "duration": 11,
    "start_time": "2024-09-07T04:09:45.200Z"
   },
   {
    "duration": 28,
    "start_time": "2024-09-07T04:09:45.213Z"
   },
   {
    "duration": 21,
    "start_time": "2024-09-07T04:09:45.243Z"
   },
   {
    "duration": 16,
    "start_time": "2024-09-07T04:09:45.265Z"
   },
   {
    "duration": 37,
    "start_time": "2024-09-07T04:09:45.283Z"
   },
   {
    "duration": 4958,
    "start_time": "2024-09-07T04:09:45.322Z"
   },
   {
    "duration": 13,
    "start_time": "2024-09-07T04:09:50.282Z"
   },
   {
    "duration": 0,
    "start_time": "2024-09-07T04:09:50.305Z"
   },
   {
    "duration": 7617,
    "start_time": "2024-09-07T04:10:03.614Z"
   },
   {
    "duration": 56,
    "start_time": "2024-09-07T04:10:11.234Z"
   },
   {
    "duration": 12,
    "start_time": "2024-09-07T04:10:11.291Z"
   },
   {
    "duration": 13,
    "start_time": "2024-09-07T04:10:11.304Z"
   },
   {
    "duration": 252,
    "start_time": "2024-09-07T04:10:11.319Z"
   },
   {
    "duration": 5,
    "start_time": "2024-09-07T04:10:11.572Z"
   },
   {
    "duration": 146,
    "start_time": "2024-09-07T04:10:11.578Z"
   },
   {
    "duration": 141,
    "start_time": "2024-09-07T04:10:11.726Z"
   },
   {
    "duration": 7,
    "start_time": "2024-09-07T04:10:11.868Z"
   },
   {
    "duration": 26,
    "start_time": "2024-09-07T04:10:11.876Z"
   },
   {
    "duration": 25,
    "start_time": "2024-09-07T04:10:11.903Z"
   },
   {
    "duration": 5,
    "start_time": "2024-09-07T04:10:11.929Z"
   },
   {
    "duration": 7,
    "start_time": "2024-09-07T04:10:11.936Z"
   },
   {
    "duration": 7,
    "start_time": "2024-09-07T04:10:11.945Z"
   },
   {
    "duration": 17,
    "start_time": "2024-09-07T04:10:11.953Z"
   },
   {
    "duration": 33,
    "start_time": "2024-09-07T04:10:11.971Z"
   },
   {
    "duration": 7,
    "start_time": "2024-09-07T04:10:12.006Z"
   },
   {
    "duration": 5191,
    "start_time": "2024-09-07T04:10:12.014Z"
   },
   {
    "duration": 11,
    "start_time": "2024-09-07T04:10:17.207Z"
   },
   {
    "duration": 4,
    "start_time": "2024-09-07T04:10:17.219Z"
   },
   {
    "duration": 60,
    "start_time": "2024-09-07T04:11:29.742Z"
   },
   {
    "duration": 3,
    "start_time": "2024-09-07T04:11:38.195Z"
   },
   {
    "duration": 12564,
    "start_time": "2024-09-07T04:12:38.267Z"
   },
   {
    "duration": 7675,
    "start_time": "2024-09-07T04:37:19.532Z"
   },
   {
    "duration": 59,
    "start_time": "2024-09-07T04:37:27.209Z"
   },
   {
    "duration": 29,
    "start_time": "2024-09-07T04:37:27.270Z"
   },
   {
    "duration": 12,
    "start_time": "2024-09-07T04:37:27.301Z"
   },
   {
    "duration": 239,
    "start_time": "2024-09-07T04:37:27.315Z"
   },
   {
    "duration": 5,
    "start_time": "2024-09-07T04:37:27.556Z"
   },
   {
    "duration": 148,
    "start_time": "2024-09-07T04:37:27.563Z"
   },
   {
    "duration": 132,
    "start_time": "2024-09-07T04:37:27.712Z"
   },
   {
    "duration": 7,
    "start_time": "2024-09-07T04:37:27.846Z"
   },
   {
    "duration": 5,
    "start_time": "2024-09-07T04:37:27.856Z"
   },
   {
    "duration": 12,
    "start_time": "2024-09-07T04:37:27.862Z"
   },
   {
    "duration": 12753,
    "start_time": "2024-09-07T04:37:27.876Z"
   },
   {
    "duration": 5,
    "start_time": "2024-09-07T04:37:40.630Z"
   },
   {
    "duration": 9,
    "start_time": "2024-09-07T04:37:40.637Z"
   },
   {
    "duration": 9,
    "start_time": "2024-09-07T04:37:40.648Z"
   },
   {
    "duration": 4,
    "start_time": "2024-09-07T04:37:40.659Z"
   },
   {
    "duration": 18,
    "start_time": "2024-09-07T04:37:40.665Z"
   },
   {
    "duration": 11,
    "start_time": "2024-09-07T04:37:40.685Z"
   },
   {
    "duration": 5131,
    "start_time": "2024-09-07T04:37:40.704Z"
   },
   {
    "duration": 12,
    "start_time": "2024-09-07T04:37:45.837Z"
   },
   {
    "duration": 7,
    "start_time": "2024-09-07T04:37:45.850Z"
   },
   {
    "duration": 18,
    "start_time": "2024-09-07T04:37:45.859Z"
   },
   {
    "duration": 17,
    "start_time": "2024-09-07T04:37:45.879Z"
   },
   {
    "duration": 13,
    "start_time": "2024-09-07T04:37:45.898Z"
   },
   {
    "duration": 26,
    "start_time": "2024-09-07T04:37:45.913Z"
   },
   {
    "duration": 0,
    "start_time": "2024-09-07T04:37:45.941Z"
   },
   {
    "duration": 0,
    "start_time": "2024-09-07T04:37:45.942Z"
   },
   {
    "duration": 7609,
    "start_time": "2024-09-07T04:38:41.016Z"
   },
   {
    "duration": 55,
    "start_time": "2024-09-07T04:38:48.627Z"
   },
   {
    "duration": 10,
    "start_time": "2024-09-07T04:38:48.683Z"
   },
   {
    "duration": 11,
    "start_time": "2024-09-07T04:38:48.695Z"
   },
   {
    "duration": 369,
    "start_time": "2024-09-07T04:38:48.707Z"
   },
   {
    "duration": 6,
    "start_time": "2024-09-07T04:38:49.077Z"
   },
   {
    "duration": 139,
    "start_time": "2024-09-07T04:38:49.085Z"
   },
   {
    "duration": 132,
    "start_time": "2024-09-07T04:38:49.225Z"
   },
   {
    "duration": 7,
    "start_time": "2024-09-07T04:38:49.359Z"
   },
   {
    "duration": 4,
    "start_time": "2024-09-07T04:38:49.368Z"
   },
   {
    "duration": 8,
    "start_time": "2024-09-07T04:38:49.374Z"
   },
   {
    "duration": 12731,
    "start_time": "2024-09-07T04:38:49.384Z"
   },
   {
    "duration": 4,
    "start_time": "2024-09-07T04:39:02.117Z"
   },
   {
    "duration": 18,
    "start_time": "2024-09-07T04:39:02.122Z"
   },
   {
    "duration": 17,
    "start_time": "2024-09-07T04:39:02.142Z"
   },
   {
    "duration": 3,
    "start_time": "2024-09-07T04:39:02.161Z"
   },
   {
    "duration": 5,
    "start_time": "2024-09-07T04:39:02.166Z"
   },
   {
    "duration": 7,
    "start_time": "2024-09-07T04:39:02.173Z"
   },
   {
    "duration": 5068,
    "start_time": "2024-09-07T04:39:02.181Z"
   },
   {
    "duration": 11,
    "start_time": "2024-09-07T04:39:07.251Z"
   },
   {
    "duration": 13,
    "start_time": "2024-09-07T04:39:07.264Z"
   },
   {
    "duration": 15,
    "start_time": "2024-09-07T04:39:07.279Z"
   },
   {
    "duration": 3,
    "start_time": "2024-09-07T04:39:07.296Z"
   },
   {
    "duration": 4,
    "start_time": "2024-09-07T04:39:07.301Z"
   },
   {
    "duration": 3,
    "start_time": "2024-09-07T04:39:07.307Z"
   },
   {
    "duration": 158001,
    "start_time": "2024-09-07T04:39:07.312Z"
   },
   {
    "duration": 4,
    "start_time": "2024-09-07T04:41:45.315Z"
   },
   {
    "duration": 11,
    "start_time": "2024-09-07T04:43:05.255Z"
   },
   {
    "duration": 3,
    "start_time": "2024-09-07T04:43:19.139Z"
   },
   {
    "duration": 7754,
    "start_time": "2024-09-07T04:47:58.365Z"
   },
   {
    "duration": 59,
    "start_time": "2024-09-07T04:48:06.121Z"
   },
   {
    "duration": 12,
    "start_time": "2024-09-07T04:48:06.181Z"
   },
   {
    "duration": 28,
    "start_time": "2024-09-07T04:48:06.195Z"
   },
   {
    "duration": 243,
    "start_time": "2024-09-07T04:48:06.225Z"
   },
   {
    "duration": 6,
    "start_time": "2024-09-07T04:48:06.470Z"
   },
   {
    "duration": 160,
    "start_time": "2024-09-07T04:48:06.477Z"
   },
   {
    "duration": 139,
    "start_time": "2024-09-07T04:48:06.639Z"
   },
   {
    "duration": 7,
    "start_time": "2024-09-07T04:48:06.780Z"
   },
   {
    "duration": 18,
    "start_time": "2024-09-07T04:48:06.790Z"
   },
   {
    "duration": 2,
    "start_time": "2024-09-07T04:48:06.810Z"
   },
   {
    "duration": 12898,
    "start_time": "2024-09-07T04:48:06.814Z"
   },
   {
    "duration": 5,
    "start_time": "2024-09-07T04:48:19.713Z"
   },
   {
    "duration": 10,
    "start_time": "2024-09-07T04:48:19.720Z"
   },
   {
    "duration": 6,
    "start_time": "2024-09-07T04:48:19.732Z"
   },
   {
    "duration": 6,
    "start_time": "2024-09-07T04:48:19.739Z"
   },
   {
    "duration": 19,
    "start_time": "2024-09-07T04:48:19.747Z"
   },
   {
    "duration": 6,
    "start_time": "2024-09-07T04:48:19.767Z"
   },
   {
    "duration": 4936,
    "start_time": "2024-09-07T04:48:19.775Z"
   },
   {
    "duration": 10,
    "start_time": "2024-09-07T04:48:24.713Z"
   },
   {
    "duration": 3,
    "start_time": "2024-09-07T04:48:24.725Z"
   },
   {
    "duration": 5,
    "start_time": "2024-09-07T04:48:24.729Z"
   },
   {
    "duration": 5,
    "start_time": "2024-09-07T04:48:24.736Z"
   },
   {
    "duration": 5,
    "start_time": "2024-09-07T04:48:24.742Z"
   },
   {
    "duration": 3,
    "start_time": "2024-09-07T04:48:24.749Z"
   },
   {
    "duration": 0,
    "start_time": "2024-09-07T04:51:24.267Z"
   },
   {
    "duration": 0,
    "start_time": "2024-09-07T04:51:24.268Z"
   },
   {
    "duration": 0,
    "start_time": "2024-09-07T04:51:24.270Z"
   },
   {
    "duration": 0,
    "start_time": "2024-09-07T04:51:24.270Z"
   },
   {
    "duration": 0,
    "start_time": "2024-09-07T04:51:24.271Z"
   },
   {
    "duration": 0,
    "start_time": "2024-09-07T04:51:24.272Z"
   },
   {
    "duration": 0,
    "start_time": "2024-09-07T04:51:24.273Z"
   },
   {
    "duration": 0,
    "start_time": "2024-09-07T04:51:24.274Z"
   },
   {
    "duration": 0,
    "start_time": "2024-09-07T04:51:24.276Z"
   },
   {
    "duration": 0,
    "start_time": "2024-09-07T04:51:24.277Z"
   },
   {
    "duration": 0,
    "start_time": "2024-09-07T04:51:24.278Z"
   },
   {
    "duration": 0,
    "start_time": "2024-09-07T04:51:24.279Z"
   },
   {
    "duration": 0,
    "start_time": "2024-09-07T04:51:24.306Z"
   },
   {
    "duration": 0,
    "start_time": "2024-09-07T04:51:24.307Z"
   },
   {
    "duration": 0,
    "start_time": "2024-09-07T04:51:24.308Z"
   },
   {
    "duration": 0,
    "start_time": "2024-09-07T04:51:24.309Z"
   },
   {
    "duration": 0,
    "start_time": "2024-09-07T04:51:24.310Z"
   },
   {
    "duration": 0,
    "start_time": "2024-09-07T04:51:24.311Z"
   },
   {
    "duration": 1,
    "start_time": "2024-09-07T04:51:24.311Z"
   },
   {
    "duration": 0,
    "start_time": "2024-09-07T04:51:24.313Z"
   },
   {
    "duration": 0,
    "start_time": "2024-09-07T04:51:24.313Z"
   },
   {
    "duration": 0,
    "start_time": "2024-09-07T04:51:24.314Z"
   },
   {
    "duration": 0,
    "start_time": "2024-09-07T04:51:24.316Z"
   },
   {
    "duration": 0,
    "start_time": "2024-09-07T04:51:24.317Z"
   },
   {
    "duration": 0,
    "start_time": "2024-09-07T04:51:24.317Z"
   },
   {
    "duration": 0,
    "start_time": "2024-09-07T04:51:24.318Z"
   },
   {
    "duration": 0,
    "start_time": "2024-09-07T04:51:24.319Z"
   },
   {
    "duration": 0,
    "start_time": "2024-09-07T04:51:24.320Z"
   },
   {
    "duration": 0,
    "start_time": "2024-09-07T04:51:24.321Z"
   },
   {
    "duration": 0,
    "start_time": "2024-09-07T04:51:24.322Z"
   },
   {
    "duration": 0,
    "start_time": "2024-09-07T04:51:24.323Z"
   },
   {
    "duration": 7841,
    "start_time": "2024-09-07T04:54:48.419Z"
   },
   {
    "duration": 56,
    "start_time": "2024-09-07T04:54:56.263Z"
   },
   {
    "duration": 10,
    "start_time": "2024-09-07T04:54:56.321Z"
   },
   {
    "duration": 19,
    "start_time": "2024-09-07T04:54:56.333Z"
   },
   {
    "duration": 248,
    "start_time": "2024-09-07T04:54:56.354Z"
   },
   {
    "duration": 5,
    "start_time": "2024-09-07T04:54:56.605Z"
   },
   {
    "duration": 148,
    "start_time": "2024-09-07T04:54:56.612Z"
   },
   {
    "duration": 133,
    "start_time": "2024-09-07T04:54:56.762Z"
   },
   {
    "duration": 12,
    "start_time": "2024-09-07T04:54:56.897Z"
   },
   {
    "duration": 32,
    "start_time": "2024-09-07T04:54:56.912Z"
   },
   {
    "duration": 9,
    "start_time": "2024-09-07T04:54:56.946Z"
   },
   {
    "duration": 12915,
    "start_time": "2024-09-07T04:54:56.957Z"
   },
   {
    "duration": 5,
    "start_time": "2024-09-07T04:55:09.874Z"
   },
   {
    "duration": 6,
    "start_time": "2024-09-07T04:55:09.881Z"
   },
   {
    "duration": 25,
    "start_time": "2024-09-07T04:55:09.889Z"
   },
   {
    "duration": 6,
    "start_time": "2024-09-07T04:55:09.917Z"
   },
   {
    "duration": 3,
    "start_time": "2024-09-07T04:55:09.925Z"
   },
   {
    "duration": 15,
    "start_time": "2024-09-07T04:55:09.930Z"
   },
   {
    "duration": 5012,
    "start_time": "2024-09-07T04:55:09.947Z"
   },
   {
    "duration": 18,
    "start_time": "2024-09-07T04:55:14.961Z"
   },
   {
    "duration": 4,
    "start_time": "2024-09-07T04:55:14.980Z"
   },
   {
    "duration": 21,
    "start_time": "2024-09-07T04:55:14.985Z"
   },
   {
    "duration": 45,
    "start_time": "2024-09-07T04:55:15.008Z"
   },
   {
    "duration": 18,
    "start_time": "2024-09-07T04:55:15.055Z"
   },
   {
    "duration": 12,
    "start_time": "2024-09-07T04:55:15.074Z"
   },
   {
    "duration": 183728,
    "start_time": "2024-09-07T04:55:15.087Z"
   },
   {
    "duration": 89,
    "start_time": "2024-09-07T04:58:18.816Z"
   },
   {
    "duration": 47,
    "start_time": "2024-09-07T04:58:18.909Z"
   },
   {
    "duration": 18,
    "start_time": "2024-09-07T04:58:18.957Z"
   },
   {
    "duration": 1,
    "start_time": "2024-09-07T04:58:18.976Z"
   },
   {
    "duration": 0,
    "start_time": "2024-09-07T04:58:18.978Z"
   },
   {
    "duration": 7816,
    "start_time": "2024-09-07T05:05:50.110Z"
   },
   {
    "duration": 58,
    "start_time": "2024-09-07T05:05:57.929Z"
   },
   {
    "duration": 11,
    "start_time": "2024-09-07T05:05:57.988Z"
   },
   {
    "duration": 18,
    "start_time": "2024-09-07T05:05:58.000Z"
   },
   {
    "duration": 238,
    "start_time": "2024-09-07T05:05:58.020Z"
   },
   {
    "duration": 6,
    "start_time": "2024-09-07T05:05:58.259Z"
   },
   {
    "duration": 144,
    "start_time": "2024-09-07T05:05:58.266Z"
   },
   {
    "duration": 136,
    "start_time": "2024-09-07T05:05:58.412Z"
   },
   {
    "duration": 7,
    "start_time": "2024-09-07T05:05:58.550Z"
   },
   {
    "duration": 13,
    "start_time": "2024-09-07T05:05:58.558Z"
   },
   {
    "duration": 6,
    "start_time": "2024-09-07T05:05:58.572Z"
   },
   {
    "duration": 12850,
    "start_time": "2024-09-07T05:05:58.579Z"
   },
   {
    "duration": 5,
    "start_time": "2024-09-07T05:06:11.430Z"
   },
   {
    "duration": 10,
    "start_time": "2024-09-07T05:06:11.438Z"
   },
   {
    "duration": 23,
    "start_time": "2024-09-07T05:06:11.450Z"
   },
   {
    "duration": 22,
    "start_time": "2024-09-07T05:06:11.474Z"
   },
   {
    "duration": 3,
    "start_time": "2024-09-07T05:06:11.498Z"
   },
   {
    "duration": 5,
    "start_time": "2024-09-07T05:06:11.502Z"
   },
   {
    "duration": 5079,
    "start_time": "2024-09-07T05:06:11.509Z"
   },
   {
    "duration": 25,
    "start_time": "2024-09-07T05:06:16.590Z"
   },
   {
    "duration": 3,
    "start_time": "2024-09-07T05:06:16.617Z"
   },
   {
    "duration": 5,
    "start_time": "2024-09-07T05:06:16.622Z"
   },
   {
    "duration": 3,
    "start_time": "2024-09-07T05:06:16.628Z"
   },
   {
    "duration": 7,
    "start_time": "2024-09-07T05:06:16.633Z"
   },
   {
    "duration": 5,
    "start_time": "2024-09-07T05:06:16.641Z"
   },
   {
    "duration": 172762,
    "start_time": "2024-09-07T05:06:16.648Z"
   },
   {
    "duration": 2,
    "start_time": "2024-09-07T05:09:09.412Z"
   },
   {
    "duration": 22,
    "start_time": "2024-09-07T05:09:09.416Z"
   },
   {
    "duration": 65,
    "start_time": "2024-09-07T05:09:09.440Z"
   },
   {
    "duration": 23,
    "start_time": "2024-09-07T05:09:09.507Z"
   },
   {
    "duration": 0,
    "start_time": "2024-09-07T05:09:09.531Z"
   },
   {
    "duration": 7786,
    "start_time": "2024-09-07T05:10:04.271Z"
   },
   {
    "duration": 58,
    "start_time": "2024-09-07T05:10:12.059Z"
   },
   {
    "duration": 10,
    "start_time": "2024-09-07T05:10:12.119Z"
   },
   {
    "duration": 19,
    "start_time": "2024-09-07T05:10:12.131Z"
   },
   {
    "duration": 255,
    "start_time": "2024-09-07T05:10:12.152Z"
   },
   {
    "duration": 6,
    "start_time": "2024-09-07T05:10:12.408Z"
   },
   {
    "duration": 274,
    "start_time": "2024-09-07T05:10:12.415Z"
   },
   {
    "duration": 142,
    "start_time": "2024-09-07T05:10:12.691Z"
   },
   {
    "duration": 7,
    "start_time": "2024-09-07T05:10:12.834Z"
   },
   {
    "duration": 17,
    "start_time": "2024-09-07T05:10:12.842Z"
   },
   {
    "duration": 4,
    "start_time": "2024-09-07T05:10:12.861Z"
   },
   {
    "duration": 13015,
    "start_time": "2024-09-07T05:10:12.867Z"
   },
   {
    "duration": 5,
    "start_time": "2024-09-07T05:10:25.884Z"
   },
   {
    "duration": 4,
    "start_time": "2024-09-07T05:10:25.904Z"
   },
   {
    "duration": 8,
    "start_time": "2024-09-07T05:10:25.910Z"
   },
   {
    "duration": 11,
    "start_time": "2024-09-07T05:10:25.920Z"
   },
   {
    "duration": 6,
    "start_time": "2024-09-07T05:10:25.932Z"
   },
   {
    "duration": 4,
    "start_time": "2024-09-07T05:10:25.939Z"
   },
   {
    "duration": 5038,
    "start_time": "2024-09-07T05:10:25.945Z"
   },
   {
    "duration": 21,
    "start_time": "2024-09-07T05:10:30.985Z"
   },
   {
    "duration": 12,
    "start_time": "2024-09-07T05:10:31.008Z"
   },
   {
    "duration": 8,
    "start_time": "2024-09-07T05:10:31.022Z"
   },
   {
    "duration": 13,
    "start_time": "2024-09-07T05:10:31.032Z"
   },
   {
    "duration": 33,
    "start_time": "2024-09-07T05:10:31.047Z"
   },
   {
    "duration": 7,
    "start_time": "2024-09-07T05:10:31.082Z"
   },
   {
    "duration": 158421,
    "start_time": "2024-09-07T05:10:31.091Z"
   },
   {
    "duration": 3,
    "start_time": "2024-09-07T05:13:09.514Z"
   },
   {
    "duration": 7,
    "start_time": "2024-09-07T05:13:09.519Z"
   },
   {
    "duration": 80,
    "start_time": "2024-09-07T05:13:09.528Z"
   },
   {
    "duration": 3,
    "start_time": "2024-09-07T05:13:09.610Z"
   },
   {
    "duration": 21,
    "start_time": "2024-09-07T05:13:09.615Z"
   },
   {
    "duration": 7654,
    "start_time": "2024-09-07T05:22:13.217Z"
   },
   {
    "duration": 57,
    "start_time": "2024-09-07T05:22:20.874Z"
   },
   {
    "duration": 10,
    "start_time": "2024-09-07T05:22:20.933Z"
   },
   {
    "duration": 23,
    "start_time": "2024-09-07T05:22:20.945Z"
   },
   {
    "duration": 235,
    "start_time": "2024-09-07T05:22:20.970Z"
   },
   {
    "duration": 6,
    "start_time": "2024-09-07T05:22:21.206Z"
   },
   {
    "duration": 139,
    "start_time": "2024-09-07T05:22:21.213Z"
   },
   {
    "duration": 137,
    "start_time": "2024-09-07T05:22:21.353Z"
   },
   {
    "duration": 16,
    "start_time": "2024-09-07T05:22:21.491Z"
   },
   {
    "duration": 26,
    "start_time": "2024-09-07T05:22:21.510Z"
   },
   {
    "duration": 26,
    "start_time": "2024-09-07T05:22:21.538Z"
   },
   {
    "duration": 12695,
    "start_time": "2024-09-07T05:22:21.565Z"
   },
   {
    "duration": 4,
    "start_time": "2024-09-07T05:22:34.262Z"
   },
   {
    "duration": 8,
    "start_time": "2024-09-07T05:22:34.268Z"
   },
   {
    "duration": 22,
    "start_time": "2024-09-07T05:22:34.277Z"
   },
   {
    "duration": 34,
    "start_time": "2024-09-07T05:22:34.301Z"
   },
   {
    "duration": 8,
    "start_time": "2024-09-07T05:22:34.337Z"
   },
   {
    "duration": 10,
    "start_time": "2024-09-07T05:22:34.347Z"
   },
   {
    "duration": 5004,
    "start_time": "2024-09-07T05:22:34.358Z"
   },
   {
    "duration": 18,
    "start_time": "2024-09-07T05:22:39.364Z"
   },
   {
    "duration": 24,
    "start_time": "2024-09-07T05:22:39.383Z"
   },
   {
    "duration": 95,
    "start_time": "2024-09-07T05:22:39.409Z"
   },
   {
    "duration": 16,
    "start_time": "2024-09-07T05:22:39.506Z"
   },
   {
    "duration": 18,
    "start_time": "2024-09-07T05:22:39.524Z"
   },
   {
    "duration": 17,
    "start_time": "2024-09-07T05:22:39.543Z"
   },
   {
    "duration": 207353,
    "start_time": "2024-09-07T05:22:39.562Z"
   },
   {
    "duration": 3,
    "start_time": "2024-09-07T05:26:07.006Z"
   },
   {
    "duration": 67,
    "start_time": "2024-09-07T05:26:07.014Z"
   },
   {
    "duration": 32,
    "start_time": "2024-09-07T05:26:07.083Z"
   },
   {
    "duration": 4,
    "start_time": "2024-09-07T05:26:07.117Z"
   },
   {
    "duration": 11,
    "start_time": "2024-09-07T05:26:07.122Z"
   },
   {
    "duration": 10,
    "start_time": "2024-09-07T05:26:07.135Z"
   },
   {
    "duration": 4,
    "start_time": "2024-09-07T05:26:07.147Z"
   },
   {
    "duration": 53,
    "start_time": "2024-09-07T05:26:07.152Z"
   },
   {
    "duration": 7708,
    "start_time": "2024-09-07T05:31:27.144Z"
   },
   {
    "duration": 58,
    "start_time": "2024-09-07T05:31:34.855Z"
   },
   {
    "duration": 10,
    "start_time": "2024-09-07T05:31:34.914Z"
   },
   {
    "duration": 10,
    "start_time": "2024-09-07T05:31:34.926Z"
   },
   {
    "duration": 251,
    "start_time": "2024-09-07T05:31:34.939Z"
   },
   {
    "duration": 5,
    "start_time": "2024-09-07T05:31:35.192Z"
   },
   {
    "duration": 145,
    "start_time": "2024-09-07T05:31:35.205Z"
   },
   {
    "duration": 178,
    "start_time": "2024-09-07T05:31:35.352Z"
   },
   {
    "duration": 9,
    "start_time": "2024-09-07T05:31:35.532Z"
   },
   {
    "duration": 39,
    "start_time": "2024-09-07T05:31:35.543Z"
   },
   {
    "duration": 12,
    "start_time": "2024-09-07T05:31:35.586Z"
   },
   {
    "duration": 12837,
    "start_time": "2024-09-07T05:31:35.600Z"
   },
   {
    "duration": 5,
    "start_time": "2024-09-07T05:31:48.438Z"
   },
   {
    "duration": 17,
    "start_time": "2024-09-07T05:31:48.446Z"
   },
   {
    "duration": 13,
    "start_time": "2024-09-07T05:31:48.465Z"
   },
   {
    "duration": 13,
    "start_time": "2024-09-07T05:31:48.480Z"
   },
   {
    "duration": 5,
    "start_time": "2024-09-07T05:31:48.495Z"
   },
   {
    "duration": 4,
    "start_time": "2024-09-07T05:31:48.501Z"
   },
   {
    "duration": 4966,
    "start_time": "2024-09-07T05:31:48.506Z"
   },
   {
    "duration": 18,
    "start_time": "2024-09-07T05:31:53.473Z"
   },
   {
    "duration": 14,
    "start_time": "2024-09-07T05:31:53.493Z"
   },
   {
    "duration": 46,
    "start_time": "2024-09-07T05:31:53.509Z"
   },
   {
    "duration": 3,
    "start_time": "2024-09-07T05:31:53.557Z"
   },
   {
    "duration": 4,
    "start_time": "2024-09-07T05:31:53.562Z"
   },
   {
    "duration": 5,
    "start_time": "2024-09-07T05:31:53.568Z"
   },
   {
    "duration": 161731,
    "start_time": "2024-09-07T05:31:53.574Z"
   },
   {
    "duration": 2,
    "start_time": "2024-09-07T05:34:35.308Z"
   },
   {
    "duration": 21,
    "start_time": "2024-09-07T05:34:35.312Z"
   },
   {
    "duration": 74,
    "start_time": "2024-09-07T05:34:35.335Z"
   },
   {
    "duration": 4,
    "start_time": "2024-09-07T05:34:35.411Z"
   },
   {
    "duration": 38,
    "start_time": "2024-09-07T05:34:35.417Z"
   },
   {
    "duration": 116,
    "start_time": "2024-09-07T05:34:35.458Z"
   },
   {
    "duration": 30,
    "start_time": "2024-09-07T05:34:35.576Z"
   },
   {
    "duration": 20,
    "start_time": "2024-09-07T05:34:35.608Z"
   },
   {
    "duration": 32,
    "start_time": "2024-09-07T05:34:35.629Z"
   },
   {
    "duration": 0,
    "start_time": "2024-09-07T05:34:35.662Z"
   },
   {
    "duration": 0,
    "start_time": "2024-09-07T05:34:35.664Z"
   },
   {
    "duration": 0,
    "start_time": "2024-09-07T05:34:35.665Z"
   },
   {
    "duration": 0,
    "start_time": "2024-09-07T05:34:35.666Z"
   },
   {
    "duration": 0,
    "start_time": "2024-09-07T05:34:35.667Z"
   },
   {
    "duration": 7530,
    "start_time": "2024-09-07T05:37:07.173Z"
   },
   {
    "duration": 58,
    "start_time": "2024-09-07T05:37:14.706Z"
   },
   {
    "duration": 10,
    "start_time": "2024-09-07T05:37:14.766Z"
   },
   {
    "duration": 11,
    "start_time": "2024-09-07T05:37:14.778Z"
   },
   {
    "duration": 235,
    "start_time": "2024-09-07T05:37:14.791Z"
   },
   {
    "duration": 6,
    "start_time": "2024-09-07T05:37:15.027Z"
   },
   {
    "duration": 212,
    "start_time": "2024-09-07T05:37:15.035Z"
   },
   {
    "duration": 167,
    "start_time": "2024-09-07T05:37:15.249Z"
   },
   {
    "duration": 9,
    "start_time": "2024-09-07T05:37:15.418Z"
   },
   {
    "duration": 8,
    "start_time": "2024-09-07T05:37:15.430Z"
   },
   {
    "duration": 138,
    "start_time": "2024-09-07T05:37:15.440Z"
   },
   {
    "duration": 12866,
    "start_time": "2024-09-07T05:37:15.580Z"
   },
   {
    "duration": 4,
    "start_time": "2024-09-07T05:37:28.448Z"
   },
   {
    "duration": 6,
    "start_time": "2024-09-07T05:37:28.455Z"
   },
   {
    "duration": 8,
    "start_time": "2024-09-07T05:37:28.463Z"
   },
   {
    "duration": 5,
    "start_time": "2024-09-07T05:37:28.473Z"
   },
   {
    "duration": 10,
    "start_time": "2024-09-07T05:37:28.480Z"
   },
   {
    "duration": 16,
    "start_time": "2024-09-07T05:37:28.492Z"
   },
   {
    "duration": 4987,
    "start_time": "2024-09-07T05:37:28.509Z"
   },
   {
    "duration": 22,
    "start_time": "2024-09-07T05:37:33.498Z"
   },
   {
    "duration": 4,
    "start_time": "2024-09-07T05:37:33.521Z"
   },
   {
    "duration": 20,
    "start_time": "2024-09-07T05:37:33.527Z"
   },
   {
    "duration": 37,
    "start_time": "2024-09-07T05:37:33.548Z"
   },
   {
    "duration": 6,
    "start_time": "2024-09-07T05:37:33.587Z"
   },
   {
    "duration": 7,
    "start_time": "2024-09-07T05:37:33.594Z"
   },
   {
    "duration": 159012,
    "start_time": "2024-09-07T05:37:33.603Z"
   },
   {
    "duration": 89,
    "start_time": "2024-09-07T05:40:12.617Z"
   },
   {
    "duration": 28,
    "start_time": "2024-09-07T05:40:12.707Z"
   },
   {
    "duration": 30,
    "start_time": "2024-09-07T05:40:12.737Z"
   },
   {
    "duration": 3,
    "start_time": "2024-09-07T05:40:12.769Z"
   },
   {
    "duration": 12,
    "start_time": "2024-09-07T05:40:12.774Z"
   },
   {
    "duration": 4,
    "start_time": "2024-09-07T05:40:12.805Z"
   },
   {
    "duration": 11,
    "start_time": "2024-09-07T05:40:12.811Z"
   },
   {
    "duration": 8,
    "start_time": "2024-09-07T05:40:12.824Z"
   },
   {
    "duration": 21,
    "start_time": "2024-09-07T05:40:12.833Z"
   },
   {
    "duration": 9,
    "start_time": "2024-09-07T05:40:12.856Z"
   },
   {
    "duration": 5,
    "start_time": "2024-09-07T05:40:12.866Z"
   },
   {
    "duration": 8,
    "start_time": "2024-09-07T05:40:12.873Z"
   },
   {
    "duration": 8,
    "start_time": "2024-09-07T05:40:12.883Z"
   },
   {
    "duration": 21,
    "start_time": "2024-09-07T05:40:12.904Z"
   },
   {
    "duration": 15752,
    "start_time": "2024-09-08T10:57:41.808Z"
   },
   {
    "duration": 174,
    "start_time": "2024-09-08T10:57:57.562Z"
   },
   {
    "duration": 13,
    "start_time": "2024-09-08T10:57:57.738Z"
   },
   {
    "duration": 13,
    "start_time": "2024-09-08T10:57:57.753Z"
   },
   {
    "duration": 14,
    "start_time": "2024-09-08T10:57:57.768Z"
   },
   {
    "duration": 246,
    "start_time": "2024-09-08T10:57:57.783Z"
   },
   {
    "duration": 6,
    "start_time": "2024-09-08T10:57:58.030Z"
   },
   {
    "duration": 143,
    "start_time": "2024-09-08T10:57:58.037Z"
   },
   {
    "duration": 210,
    "start_time": "2024-09-08T10:57:58.181Z"
   },
   {
    "duration": 14,
    "start_time": "2024-09-08T10:57:58.394Z"
   },
   {
    "duration": 9,
    "start_time": "2024-09-08T10:57:58.410Z"
   },
   {
    "duration": 5,
    "start_time": "2024-09-08T10:57:58.421Z"
   },
   {
    "duration": 12013,
    "start_time": "2024-09-08T10:57:58.428Z"
   },
   {
    "duration": 4,
    "start_time": "2024-09-08T10:58:10.443Z"
   },
   {
    "duration": 17,
    "start_time": "2024-09-08T10:58:10.448Z"
   },
   {
    "duration": 19,
    "start_time": "2024-09-08T10:58:10.466Z"
   },
   {
    "duration": 20,
    "start_time": "2024-09-08T10:58:10.486Z"
   },
   {
    "duration": 20,
    "start_time": "2024-09-08T10:58:10.508Z"
   },
   {
    "duration": 22,
    "start_time": "2024-09-08T10:58:10.530Z"
   },
   {
    "duration": 4784,
    "start_time": "2024-09-08T10:58:10.554Z"
   },
   {
    "duration": 17,
    "start_time": "2024-09-08T10:58:15.340Z"
   },
   {
    "duration": 26,
    "start_time": "2024-09-08T10:58:15.359Z"
   },
   {
    "duration": 5,
    "start_time": "2024-09-08T10:58:15.387Z"
   },
   {
    "duration": 5,
    "start_time": "2024-09-08T10:58:15.394Z"
   },
   {
    "duration": 7,
    "start_time": "2024-09-08T10:58:15.400Z"
   },
   {
    "duration": 4,
    "start_time": "2024-09-08T10:58:15.409Z"
   },
   {
    "duration": 9165,
    "start_time": "2024-09-08T11:18:37.346Z"
   },
   {
    "duration": 53,
    "start_time": "2024-09-08T11:18:46.514Z"
   },
   {
    "duration": 11,
    "start_time": "2024-09-08T11:18:46.569Z"
   },
   {
    "duration": 19,
    "start_time": "2024-09-08T11:18:46.582Z"
   },
   {
    "duration": 13,
    "start_time": "2024-09-08T11:18:46.603Z"
   },
   {
    "duration": 477,
    "start_time": "2024-09-08T11:18:46.617Z"
   },
   {
    "duration": 14,
    "start_time": "2024-09-08T11:18:47.095Z"
   },
   {
    "duration": 132,
    "start_time": "2024-09-08T11:18:47.110Z"
   },
   {
    "duration": 235,
    "start_time": "2024-09-08T11:18:47.244Z"
   },
   {
    "duration": 7,
    "start_time": "2024-09-08T11:18:47.482Z"
   },
   {
    "duration": 19,
    "start_time": "2024-09-08T11:18:47.491Z"
   },
   {
    "duration": 3,
    "start_time": "2024-09-08T11:18:47.512Z"
   },
   {
    "duration": 12718,
    "start_time": "2024-09-08T11:18:47.517Z"
   },
   {
    "duration": 5,
    "start_time": "2024-09-08T11:19:00.236Z"
   },
   {
    "duration": 45,
    "start_time": "2024-09-08T11:19:00.242Z"
   },
   {
    "duration": 57,
    "start_time": "2024-09-08T11:19:00.289Z"
   },
   {
    "duration": 46,
    "start_time": "2024-09-08T11:19:00.349Z"
   },
   {
    "duration": 27,
    "start_time": "2024-09-08T11:19:00.397Z"
   },
   {
    "duration": 25,
    "start_time": "2024-09-08T11:19:00.427Z"
   },
   {
    "duration": 4903,
    "start_time": "2024-09-08T11:19:00.454Z"
   },
   {
    "duration": 16,
    "start_time": "2024-09-08T11:19:05.359Z"
   },
   {
    "duration": 3,
    "start_time": "2024-09-08T11:19:05.377Z"
   },
   {
    "duration": 8,
    "start_time": "2024-09-08T11:19:05.381Z"
   },
   {
    "duration": 3,
    "start_time": "2024-09-08T11:19:05.407Z"
   },
   {
    "duration": 4,
    "start_time": "2024-09-08T11:19:05.411Z"
   },
   {
    "duration": 9,
    "start_time": "2024-09-08T11:19:05.417Z"
   },
   {
    "duration": 8779,
    "start_time": "2024-09-08T11:31:05.456Z"
   },
   {
    "duration": 54,
    "start_time": "2024-09-08T11:31:14.237Z"
   },
   {
    "duration": 12,
    "start_time": "2024-09-08T11:31:14.293Z"
   },
   {
    "duration": 13,
    "start_time": "2024-09-08T11:31:14.307Z"
   },
   {
    "duration": 31,
    "start_time": "2024-09-08T11:31:14.321Z"
   },
   {
    "duration": 907,
    "start_time": "2024-09-08T11:31:14.354Z"
   },
   {
    "duration": 0,
    "start_time": "2024-09-08T11:31:15.264Z"
   },
   {
    "duration": 0,
    "start_time": "2024-09-08T11:31:15.266Z"
   },
   {
    "duration": 0,
    "start_time": "2024-09-08T11:31:15.267Z"
   },
   {
    "duration": 0,
    "start_time": "2024-09-08T11:31:15.268Z"
   },
   {
    "duration": 0,
    "start_time": "2024-09-08T11:31:15.269Z"
   },
   {
    "duration": 0,
    "start_time": "2024-09-08T11:31:15.270Z"
   },
   {
    "duration": 0,
    "start_time": "2024-09-08T11:31:15.271Z"
   },
   {
    "duration": 0,
    "start_time": "2024-09-08T11:31:15.272Z"
   },
   {
    "duration": 0,
    "start_time": "2024-09-08T11:31:15.273Z"
   },
   {
    "duration": 0,
    "start_time": "2024-09-08T11:31:15.274Z"
   },
   {
    "duration": 0,
    "start_time": "2024-09-08T11:31:15.275Z"
   },
   {
    "duration": 0,
    "start_time": "2024-09-08T11:31:15.276Z"
   },
   {
    "duration": 0,
    "start_time": "2024-09-08T11:31:15.277Z"
   },
   {
    "duration": 0,
    "start_time": "2024-09-08T11:31:15.278Z"
   },
   {
    "duration": 0,
    "start_time": "2024-09-08T11:31:15.279Z"
   },
   {
    "duration": 0,
    "start_time": "2024-09-08T11:31:15.280Z"
   },
   {
    "duration": 0,
    "start_time": "2024-09-08T11:31:15.281Z"
   },
   {
    "duration": 0,
    "start_time": "2024-09-08T11:31:15.282Z"
   },
   {
    "duration": 0,
    "start_time": "2024-09-08T11:31:15.283Z"
   },
   {
    "duration": 0,
    "start_time": "2024-09-08T11:31:15.284Z"
   },
   {
    "duration": 0,
    "start_time": "2024-09-08T11:31:15.284Z"
   },
   {
    "duration": 0,
    "start_time": "2024-09-08T11:31:15.285Z"
   },
   {
    "duration": 0,
    "start_time": "2024-09-08T11:31:15.286Z"
   },
   {
    "duration": 0,
    "start_time": "2024-09-08T11:31:15.287Z"
   },
   {
    "duration": 0,
    "start_time": "2024-09-08T11:31:15.288Z"
   },
   {
    "duration": 0,
    "start_time": "2024-09-08T11:31:15.289Z"
   },
   {
    "duration": 0,
    "start_time": "2024-09-08T11:31:15.290Z"
   },
   {
    "duration": 0,
    "start_time": "2024-09-08T11:31:15.291Z"
   },
   {
    "duration": 0,
    "start_time": "2024-09-08T11:31:15.293Z"
   },
   {
    "duration": 0,
    "start_time": "2024-09-08T11:31:15.294Z"
   },
   {
    "duration": 0,
    "start_time": "2024-09-08T11:31:15.294Z"
   },
   {
    "duration": 0,
    "start_time": "2024-09-08T11:31:15.295Z"
   },
   {
    "duration": 0,
    "start_time": "2024-09-08T11:31:15.296Z"
   },
   {
    "duration": 0,
    "start_time": "2024-09-08T11:31:15.297Z"
   },
   {
    "duration": 0,
    "start_time": "2024-09-08T11:31:15.298Z"
   },
   {
    "duration": 0,
    "start_time": "2024-09-08T11:31:15.299Z"
   },
   {
    "duration": 0,
    "start_time": "2024-09-08T11:31:15.300Z"
   },
   {
    "duration": 347,
    "start_time": "2024-09-08T11:36:42.517Z"
   },
   {
    "duration": 7633,
    "start_time": "2024-09-08T11:39:28.855Z"
   },
   {
    "duration": 53,
    "start_time": "2024-09-08T11:39:36.490Z"
   },
   {
    "duration": 7,
    "start_time": "2024-09-08T11:39:36.544Z"
   },
   {
    "duration": 29,
    "start_time": "2024-09-08T11:39:36.553Z"
   },
   {
    "duration": 10,
    "start_time": "2024-09-08T11:39:36.584Z"
   },
   {
    "duration": 362,
    "start_time": "2024-09-08T11:39:36.595Z"
   },
   {
    "duration": 782,
    "start_time": "2024-09-08T11:39:36.958Z"
   },
   {
    "duration": 0,
    "start_time": "2024-09-08T11:39:37.742Z"
   },
   {
    "duration": 0,
    "start_time": "2024-09-08T11:39:37.743Z"
   },
   {
    "duration": 0,
    "start_time": "2024-09-08T11:39:37.745Z"
   },
   {
    "duration": 0,
    "start_time": "2024-09-08T11:39:37.746Z"
   },
   {
    "duration": 0,
    "start_time": "2024-09-08T11:39:37.747Z"
   },
   {
    "duration": 0,
    "start_time": "2024-09-08T11:39:37.748Z"
   },
   {
    "duration": 0,
    "start_time": "2024-09-08T11:39:37.749Z"
   },
   {
    "duration": 0,
    "start_time": "2024-09-08T11:39:37.750Z"
   },
   {
    "duration": 0,
    "start_time": "2024-09-08T11:39:37.751Z"
   },
   {
    "duration": 0,
    "start_time": "2024-09-08T11:39:37.752Z"
   },
   {
    "duration": 0,
    "start_time": "2024-09-08T11:39:37.753Z"
   },
   {
    "duration": 0,
    "start_time": "2024-09-08T11:39:37.754Z"
   },
   {
    "duration": 0,
    "start_time": "2024-09-08T11:39:37.755Z"
   },
   {
    "duration": 0,
    "start_time": "2024-09-08T11:39:37.756Z"
   },
   {
    "duration": 0,
    "start_time": "2024-09-08T11:39:37.757Z"
   },
   {
    "duration": 0,
    "start_time": "2024-09-08T11:39:37.758Z"
   },
   {
    "duration": 0,
    "start_time": "2024-09-08T11:39:37.759Z"
   },
   {
    "duration": 0,
    "start_time": "2024-09-08T11:39:37.760Z"
   },
   {
    "duration": 0,
    "start_time": "2024-09-08T11:39:37.761Z"
   },
   {
    "duration": 0,
    "start_time": "2024-09-08T11:39:37.762Z"
   },
   {
    "duration": 0,
    "start_time": "2024-09-08T11:39:37.763Z"
   },
   {
    "duration": 0,
    "start_time": "2024-09-08T11:39:37.764Z"
   },
   {
    "duration": 0,
    "start_time": "2024-09-08T11:39:37.765Z"
   },
   {
    "duration": 0,
    "start_time": "2024-09-08T11:39:37.766Z"
   },
   {
    "duration": 0,
    "start_time": "2024-09-08T11:39:37.767Z"
   },
   {
    "duration": 0,
    "start_time": "2024-09-08T11:39:37.768Z"
   },
   {
    "duration": 0,
    "start_time": "2024-09-08T11:39:37.770Z"
   },
   {
    "duration": 0,
    "start_time": "2024-09-08T11:39:37.771Z"
   },
   {
    "duration": 0,
    "start_time": "2024-09-08T11:39:37.773Z"
   },
   {
    "duration": 0,
    "start_time": "2024-09-08T11:39:37.774Z"
   },
   {
    "duration": 0,
    "start_time": "2024-09-08T11:39:37.776Z"
   },
   {
    "duration": 0,
    "start_time": "2024-09-08T11:39:37.777Z"
   },
   {
    "duration": 0,
    "start_time": "2024-09-08T11:39:37.778Z"
   },
   {
    "duration": 0,
    "start_time": "2024-09-08T11:39:37.809Z"
   },
   {
    "duration": 0,
    "start_time": "2024-09-08T11:39:37.810Z"
   },
   {
    "duration": 0,
    "start_time": "2024-09-08T11:39:37.811Z"
   },
   {
    "duration": 0,
    "start_time": "2024-09-08T11:39:37.813Z"
   },
   {
    "duration": 6,
    "start_time": "2024-09-08T11:40:31.172Z"
   },
   {
    "duration": 342,
    "start_time": "2024-09-08T11:40:51.194Z"
   },
   {
    "duration": 7672,
    "start_time": "2024-09-08T11:44:31.972Z"
   },
   {
    "duration": 51,
    "start_time": "2024-09-08T11:44:39.646Z"
   },
   {
    "duration": 9,
    "start_time": "2024-09-08T11:44:39.699Z"
   },
   {
    "duration": 15,
    "start_time": "2024-09-08T11:44:39.710Z"
   },
   {
    "duration": 10,
    "start_time": "2024-09-08T11:44:39.727Z"
   },
   {
    "duration": 307,
    "start_time": "2024-09-08T11:44:39.739Z"
   },
   {
    "duration": 8,
    "start_time": "2024-09-08T11:44:40.048Z"
   },
   {
    "duration": 331,
    "start_time": "2024-09-08T11:44:40.057Z"
   },
   {
    "duration": 5,
    "start_time": "2024-09-08T11:44:40.390Z"
   },
   {
    "duration": 394,
    "start_time": "2024-09-08T11:44:40.407Z"
   },
   {
    "duration": 194,
    "start_time": "2024-09-08T11:44:40.802Z"
   },
   {
    "duration": 269,
    "start_time": "2024-09-08T11:44:40.998Z"
   },
   {
    "duration": 8,
    "start_time": "2024-09-08T11:44:41.268Z"
   },
   {
    "duration": 388,
    "start_time": "2024-09-08T11:44:41.277Z"
   },
   {
    "duration": 7,
    "start_time": "2024-09-08T11:44:41.666Z"
   },
   {
    "duration": 20,
    "start_time": "2024-09-08T11:44:41.674Z"
   },
   {
    "duration": 10,
    "start_time": "2024-09-08T11:44:41.696Z"
   },
   {
    "duration": 67,
    "start_time": "2024-09-08T11:44:41.708Z"
   },
   {
    "duration": 0,
    "start_time": "2024-09-08T11:44:41.778Z"
   },
   {
    "duration": 0,
    "start_time": "2024-09-08T11:44:41.779Z"
   },
   {
    "duration": 0,
    "start_time": "2024-09-08T11:44:41.780Z"
   },
   {
    "duration": 0,
    "start_time": "2024-09-08T11:44:41.781Z"
   },
   {
    "duration": 0,
    "start_time": "2024-09-08T11:44:41.783Z"
   },
   {
    "duration": 0,
    "start_time": "2024-09-08T11:44:41.784Z"
   },
   {
    "duration": 0,
    "start_time": "2024-09-08T11:44:41.785Z"
   },
   {
    "duration": 0,
    "start_time": "2024-09-08T11:44:41.786Z"
   },
   {
    "duration": 0,
    "start_time": "2024-09-08T11:44:41.787Z"
   },
   {
    "duration": 0,
    "start_time": "2024-09-08T11:44:41.789Z"
   },
   {
    "duration": 0,
    "start_time": "2024-09-08T11:44:41.790Z"
   },
   {
    "duration": 0,
    "start_time": "2024-09-08T11:44:41.791Z"
   },
   {
    "duration": 0,
    "start_time": "2024-09-08T11:44:41.792Z"
   },
   {
    "duration": 0,
    "start_time": "2024-09-08T11:44:41.794Z"
   },
   {
    "duration": 0,
    "start_time": "2024-09-08T11:44:41.795Z"
   },
   {
    "duration": 0,
    "start_time": "2024-09-08T11:44:41.796Z"
   },
   {
    "duration": 0,
    "start_time": "2024-09-08T11:44:41.797Z"
   },
   {
    "duration": 0,
    "start_time": "2024-09-08T11:44:41.798Z"
   },
   {
    "duration": 0,
    "start_time": "2024-09-08T11:44:41.799Z"
   },
   {
    "duration": 0,
    "start_time": "2024-09-08T11:44:41.801Z"
   },
   {
    "duration": 0,
    "start_time": "2024-09-08T11:44:41.807Z"
   },
   {
    "duration": 0,
    "start_time": "2024-09-08T11:44:41.809Z"
   },
   {
    "duration": 0,
    "start_time": "2024-09-08T11:44:41.810Z"
   },
   {
    "duration": 0,
    "start_time": "2024-09-08T11:44:41.811Z"
   },
   {
    "duration": 0,
    "start_time": "2024-09-08T11:44:41.815Z"
   },
   {
    "duration": 0,
    "start_time": "2024-09-08T11:44:41.816Z"
   },
   {
    "duration": 0,
    "start_time": "2024-09-08T11:44:41.819Z"
   },
   {
    "duration": 0,
    "start_time": "2024-09-08T11:44:41.820Z"
   },
   {
    "duration": 9183,
    "start_time": "2024-09-08T11:48:53.691Z"
   },
   {
    "duration": 65,
    "start_time": "2024-09-08T11:49:02.877Z"
   },
   {
    "duration": 12,
    "start_time": "2024-09-08T11:49:02.943Z"
   },
   {
    "duration": 28,
    "start_time": "2024-09-08T11:49:02.956Z"
   },
   {
    "duration": 23,
    "start_time": "2024-09-08T11:49:02.986Z"
   },
   {
    "duration": 369,
    "start_time": "2024-09-08T11:49:03.011Z"
   },
   {
    "duration": 7,
    "start_time": "2024-09-08T11:49:03.382Z"
   },
   {
    "duration": 398,
    "start_time": "2024-09-08T11:49:03.391Z"
   },
   {
    "duration": 18,
    "start_time": "2024-09-08T11:49:03.791Z"
   },
   {
    "duration": 403,
    "start_time": "2024-09-08T11:49:03.812Z"
   },
   {
    "duration": 177,
    "start_time": "2024-09-08T11:49:04.217Z"
   },
   {
    "duration": 177,
    "start_time": "2024-09-08T11:49:04.396Z"
   },
   {
    "duration": 8,
    "start_time": "2024-09-08T11:49:04.575Z"
   },
   {
    "duration": 387,
    "start_time": "2024-09-08T11:49:04.584Z"
   },
   {
    "duration": 6,
    "start_time": "2024-09-08T11:49:04.973Z"
   },
   {
    "duration": 5,
    "start_time": "2024-09-08T11:49:04.980Z"
   },
   {
    "duration": 2,
    "start_time": "2024-09-08T11:49:04.986Z"
   },
   {
    "duration": 189,
    "start_time": "2024-09-08T11:49:05.007Z"
   },
   {
    "duration": 0,
    "start_time": "2024-09-08T11:49:05.199Z"
   },
   {
    "duration": 1,
    "start_time": "2024-09-08T11:49:05.199Z"
   },
   {
    "duration": 0,
    "start_time": "2024-09-08T11:49:05.201Z"
   },
   {
    "duration": 0,
    "start_time": "2024-09-08T11:49:05.202Z"
   },
   {
    "duration": 0,
    "start_time": "2024-09-08T11:49:05.203Z"
   },
   {
    "duration": 0,
    "start_time": "2024-09-08T11:49:05.204Z"
   },
   {
    "duration": 0,
    "start_time": "2024-09-08T11:49:05.205Z"
   },
   {
    "duration": 0,
    "start_time": "2024-09-08T11:49:05.210Z"
   },
   {
    "duration": 0,
    "start_time": "2024-09-08T11:49:05.214Z"
   },
   {
    "duration": 0,
    "start_time": "2024-09-08T11:49:05.215Z"
   },
   {
    "duration": 0,
    "start_time": "2024-09-08T11:49:05.217Z"
   },
   {
    "duration": 0,
    "start_time": "2024-09-08T11:49:05.219Z"
   },
   {
    "duration": 0,
    "start_time": "2024-09-08T11:49:05.220Z"
   },
   {
    "duration": 0,
    "start_time": "2024-09-08T11:49:05.221Z"
   },
   {
    "duration": 0,
    "start_time": "2024-09-08T11:49:05.223Z"
   },
   {
    "duration": 0,
    "start_time": "2024-09-08T11:49:05.224Z"
   },
   {
    "duration": 0,
    "start_time": "2024-09-08T11:49:05.226Z"
   },
   {
    "duration": 0,
    "start_time": "2024-09-08T11:49:05.227Z"
   },
   {
    "duration": 0,
    "start_time": "2024-09-08T11:49:05.228Z"
   },
   {
    "duration": 0,
    "start_time": "2024-09-08T11:49:05.229Z"
   },
   {
    "duration": 0,
    "start_time": "2024-09-08T11:49:05.230Z"
   },
   {
    "duration": 0,
    "start_time": "2024-09-08T11:49:05.231Z"
   },
   {
    "duration": 0,
    "start_time": "2024-09-08T11:49:05.232Z"
   },
   {
    "duration": 0,
    "start_time": "2024-09-08T11:49:05.233Z"
   },
   {
    "duration": 0,
    "start_time": "2024-09-08T11:49:05.234Z"
   },
   {
    "duration": 0,
    "start_time": "2024-09-08T11:49:05.235Z"
   },
   {
    "duration": 0,
    "start_time": "2024-09-08T11:49:05.237Z"
   },
   {
    "duration": 0,
    "start_time": "2024-09-08T11:49:05.238Z"
   },
   {
    "duration": 471,
    "start_time": "2024-09-08T11:51:03.769Z"
   },
   {
    "duration": 425,
    "start_time": "2024-09-08T11:57:03.441Z"
   },
   {
    "duration": 9,
    "start_time": "2024-09-08T12:06:09.623Z"
   },
   {
    "duration": 11,
    "start_time": "2024-09-08T12:07:22.153Z"
   },
   {
    "duration": 7334,
    "start_time": "2024-09-08T12:07:28.452Z"
   },
   {
    "duration": 52,
    "start_time": "2024-09-08T12:07:35.789Z"
   },
   {
    "duration": 7,
    "start_time": "2024-09-08T12:07:35.843Z"
   },
   {
    "duration": 53,
    "start_time": "2024-09-08T12:07:35.852Z"
   },
   {
    "duration": 25,
    "start_time": "2024-09-08T12:07:35.906Z"
   },
   {
    "duration": 308,
    "start_time": "2024-09-08T12:07:35.933Z"
   },
   {
    "duration": 6,
    "start_time": "2024-09-08T12:07:36.243Z"
   },
   {
    "duration": 27,
    "start_time": "2024-09-08T12:07:36.250Z"
   },
   {
    "duration": 349,
    "start_time": "2024-09-08T12:07:36.278Z"
   },
   {
    "duration": 5,
    "start_time": "2024-09-08T12:07:36.629Z"
   },
   {
    "duration": 267,
    "start_time": "2024-09-08T12:07:36.635Z"
   },
   {
    "duration": 160,
    "start_time": "2024-09-08T12:07:36.907Z"
   },
   {
    "duration": 16,
    "start_time": "2024-09-08T12:07:37.069Z"
   },
   {
    "duration": 0,
    "start_time": "2024-09-08T12:07:37.087Z"
   },
   {
    "duration": 0,
    "start_time": "2024-09-08T12:07:37.088Z"
   },
   {
    "duration": 0,
    "start_time": "2024-09-08T12:07:37.090Z"
   },
   {
    "duration": 0,
    "start_time": "2024-09-08T12:07:37.091Z"
   },
   {
    "duration": 0,
    "start_time": "2024-09-08T12:07:37.108Z"
   },
   {
    "duration": 0,
    "start_time": "2024-09-08T12:07:37.109Z"
   },
   {
    "duration": 0,
    "start_time": "2024-09-08T12:07:37.110Z"
   },
   {
    "duration": 0,
    "start_time": "2024-09-08T12:07:37.111Z"
   },
   {
    "duration": 0,
    "start_time": "2024-09-08T12:07:37.112Z"
   },
   {
    "duration": 0,
    "start_time": "2024-09-08T12:07:37.113Z"
   },
   {
    "duration": 0,
    "start_time": "2024-09-08T12:07:37.114Z"
   },
   {
    "duration": 0,
    "start_time": "2024-09-08T12:07:37.115Z"
   },
   {
    "duration": 0,
    "start_time": "2024-09-08T12:07:37.116Z"
   },
   {
    "duration": 0,
    "start_time": "2024-09-08T12:07:37.117Z"
   },
   {
    "duration": 0,
    "start_time": "2024-09-08T12:07:37.118Z"
   },
   {
    "duration": 0,
    "start_time": "2024-09-08T12:07:37.119Z"
   },
   {
    "duration": 0,
    "start_time": "2024-09-08T12:07:37.120Z"
   },
   {
    "duration": 0,
    "start_time": "2024-09-08T12:07:37.121Z"
   },
   {
    "duration": 0,
    "start_time": "2024-09-08T12:07:37.122Z"
   },
   {
    "duration": 0,
    "start_time": "2024-09-08T12:07:37.123Z"
   },
   {
    "duration": 0,
    "start_time": "2024-09-08T12:07:37.124Z"
   },
   {
    "duration": 0,
    "start_time": "2024-09-08T12:07:37.125Z"
   },
   {
    "duration": 0,
    "start_time": "2024-09-08T12:07:37.126Z"
   },
   {
    "duration": 0,
    "start_time": "2024-09-08T12:07:37.127Z"
   },
   {
    "duration": 0,
    "start_time": "2024-09-08T12:07:37.128Z"
   },
   {
    "duration": 0,
    "start_time": "2024-09-08T12:07:37.129Z"
   },
   {
    "duration": 0,
    "start_time": "2024-09-08T12:07:37.130Z"
   },
   {
    "duration": 0,
    "start_time": "2024-09-08T12:07:37.131Z"
   },
   {
    "duration": 0,
    "start_time": "2024-09-08T12:07:37.132Z"
   },
   {
    "duration": 0,
    "start_time": "2024-09-08T12:07:37.133Z"
   },
   {
    "duration": 0,
    "start_time": "2024-09-08T12:07:37.134Z"
   },
   {
    "duration": 1,
    "start_time": "2024-09-08T12:07:37.134Z"
   },
   {
    "duration": 0,
    "start_time": "2024-09-08T12:07:37.136Z"
   },
   {
    "duration": 10,
    "start_time": "2024-09-08T12:08:14.464Z"
   },
   {
    "duration": 10,
    "start_time": "2024-09-08T12:08:42.632Z"
   },
   {
    "duration": 10,
    "start_time": "2024-09-08T12:11:05.108Z"
   },
   {
    "duration": 7077,
    "start_time": "2024-09-08T12:11:39.842Z"
   },
   {
    "duration": 50,
    "start_time": "2024-09-08T12:11:46.921Z"
   },
   {
    "duration": 7,
    "start_time": "2024-09-08T12:11:46.972Z"
   },
   {
    "duration": 17,
    "start_time": "2024-09-08T12:11:46.981Z"
   },
   {
    "duration": 8,
    "start_time": "2024-09-08T12:11:46.999Z"
   },
   {
    "duration": 278,
    "start_time": "2024-09-08T12:11:47.009Z"
   },
   {
    "duration": 7,
    "start_time": "2024-09-08T12:11:47.288Z"
   },
   {
    "duration": 18,
    "start_time": "2024-09-08T12:11:47.296Z"
   },
   {
    "duration": 367,
    "start_time": "2024-09-08T12:11:47.317Z"
   },
   {
    "duration": 5,
    "start_time": "2024-09-08T12:11:47.686Z"
   },
   {
    "duration": 168,
    "start_time": "2024-09-08T12:11:47.692Z"
   },
   {
    "duration": 156,
    "start_time": "2024-09-08T12:11:47.862Z"
   },
   {
    "duration": 15,
    "start_time": "2024-09-08T12:11:48.019Z"
   },
   {
    "duration": 0,
    "start_time": "2024-09-08T12:11:48.036Z"
   },
   {
    "duration": 0,
    "start_time": "2024-09-08T12:11:48.037Z"
   },
   {
    "duration": 0,
    "start_time": "2024-09-08T12:11:48.038Z"
   },
   {
    "duration": 0,
    "start_time": "2024-09-08T12:11:48.039Z"
   },
   {
    "duration": 0,
    "start_time": "2024-09-08T12:11:48.040Z"
   },
   {
    "duration": 0,
    "start_time": "2024-09-08T12:11:48.041Z"
   },
   {
    "duration": 0,
    "start_time": "2024-09-08T12:11:48.042Z"
   },
   {
    "duration": 0,
    "start_time": "2024-09-08T12:11:48.043Z"
   },
   {
    "duration": 0,
    "start_time": "2024-09-08T12:11:48.044Z"
   },
   {
    "duration": 0,
    "start_time": "2024-09-08T12:11:48.045Z"
   },
   {
    "duration": 0,
    "start_time": "2024-09-08T12:11:48.046Z"
   },
   {
    "duration": 0,
    "start_time": "2024-09-08T12:11:48.047Z"
   },
   {
    "duration": 0,
    "start_time": "2024-09-08T12:11:48.049Z"
   },
   {
    "duration": 0,
    "start_time": "2024-09-08T12:11:48.049Z"
   },
   {
    "duration": 0,
    "start_time": "2024-09-08T12:11:48.051Z"
   },
   {
    "duration": 0,
    "start_time": "2024-09-08T12:11:48.051Z"
   },
   {
    "duration": 0,
    "start_time": "2024-09-08T12:11:48.052Z"
   },
   {
    "duration": 0,
    "start_time": "2024-09-08T12:11:48.053Z"
   },
   {
    "duration": 0,
    "start_time": "2024-09-08T12:11:48.055Z"
   },
   {
    "duration": 0,
    "start_time": "2024-09-08T12:11:48.056Z"
   },
   {
    "duration": 0,
    "start_time": "2024-09-08T12:11:48.057Z"
   },
   {
    "duration": 0,
    "start_time": "2024-09-08T12:11:48.058Z"
   },
   {
    "duration": 0,
    "start_time": "2024-09-08T12:11:48.059Z"
   },
   {
    "duration": 0,
    "start_time": "2024-09-08T12:11:48.108Z"
   },
   {
    "duration": 0,
    "start_time": "2024-09-08T12:11:48.109Z"
   },
   {
    "duration": 0,
    "start_time": "2024-09-08T12:11:48.110Z"
   },
   {
    "duration": 0,
    "start_time": "2024-09-08T12:11:48.111Z"
   },
   {
    "duration": 0,
    "start_time": "2024-09-08T12:11:48.112Z"
   },
   {
    "duration": 0,
    "start_time": "2024-09-08T12:11:48.113Z"
   },
   {
    "duration": 0,
    "start_time": "2024-09-08T12:11:48.114Z"
   },
   {
    "duration": 0,
    "start_time": "2024-09-08T12:11:48.115Z"
   },
   {
    "duration": 0,
    "start_time": "2024-09-08T12:11:48.117Z"
   },
   {
    "duration": 0,
    "start_time": "2024-09-08T12:11:48.117Z"
   },
   {
    "duration": 7216,
    "start_time": "2024-09-08T12:13:42.517Z"
   },
   {
    "duration": 50,
    "start_time": "2024-09-08T12:13:49.735Z"
   },
   {
    "duration": 7,
    "start_time": "2024-09-08T12:13:49.787Z"
   },
   {
    "duration": 15,
    "start_time": "2024-09-08T12:13:49.797Z"
   },
   {
    "duration": 9,
    "start_time": "2024-09-08T12:13:49.813Z"
   },
   {
    "duration": 6,
    "start_time": "2024-09-08T12:13:49.824Z"
   },
   {
    "duration": 281,
    "start_time": "2024-09-08T12:13:49.831Z"
   },
   {
    "duration": 6,
    "start_time": "2024-09-08T12:13:50.114Z"
   },
   {
    "duration": 22,
    "start_time": "2024-09-08T12:13:50.121Z"
   },
   {
    "duration": 518,
    "start_time": "2024-09-08T12:13:50.146Z"
   },
   {
    "duration": 4,
    "start_time": "2024-09-08T12:13:50.666Z"
   },
   {
    "duration": 170,
    "start_time": "2024-09-08T12:13:50.672Z"
   },
   {
    "duration": 163,
    "start_time": "2024-09-08T12:13:50.844Z"
   },
   {
    "duration": 12,
    "start_time": "2024-09-08T12:13:51.009Z"
   },
   {
    "duration": 0,
    "start_time": "2024-09-08T12:13:51.022Z"
   },
   {
    "duration": 0,
    "start_time": "2024-09-08T12:13:51.023Z"
   },
   {
    "duration": 0,
    "start_time": "2024-09-08T12:13:51.024Z"
   },
   {
    "duration": 0,
    "start_time": "2024-09-08T12:13:51.025Z"
   },
   {
    "duration": 0,
    "start_time": "2024-09-08T12:13:51.026Z"
   },
   {
    "duration": 0,
    "start_time": "2024-09-08T12:13:51.027Z"
   },
   {
    "duration": 0,
    "start_time": "2024-09-08T12:13:51.028Z"
   },
   {
    "duration": 0,
    "start_time": "2024-09-08T12:13:51.030Z"
   },
   {
    "duration": 0,
    "start_time": "2024-09-08T12:13:51.031Z"
   },
   {
    "duration": 0,
    "start_time": "2024-09-08T12:13:51.032Z"
   },
   {
    "duration": 0,
    "start_time": "2024-09-08T12:13:51.033Z"
   },
   {
    "duration": 0,
    "start_time": "2024-09-08T12:13:51.034Z"
   },
   {
    "duration": 0,
    "start_time": "2024-09-08T12:13:51.035Z"
   },
   {
    "duration": 0,
    "start_time": "2024-09-08T12:13:51.036Z"
   },
   {
    "duration": 0,
    "start_time": "2024-09-08T12:13:51.037Z"
   },
   {
    "duration": 0,
    "start_time": "2024-09-08T12:13:51.038Z"
   },
   {
    "duration": 0,
    "start_time": "2024-09-08T12:13:51.039Z"
   },
   {
    "duration": 0,
    "start_time": "2024-09-08T12:13:51.040Z"
   },
   {
    "duration": 0,
    "start_time": "2024-09-08T12:13:51.041Z"
   },
   {
    "duration": 0,
    "start_time": "2024-09-08T12:13:51.042Z"
   },
   {
    "duration": 0,
    "start_time": "2024-09-08T12:13:51.043Z"
   },
   {
    "duration": 0,
    "start_time": "2024-09-08T12:13:51.044Z"
   },
   {
    "duration": 0,
    "start_time": "2024-09-08T12:13:51.046Z"
   },
   {
    "duration": 0,
    "start_time": "2024-09-08T12:13:51.046Z"
   },
   {
    "duration": 0,
    "start_time": "2024-09-08T12:13:51.047Z"
   },
   {
    "duration": 0,
    "start_time": "2024-09-08T12:13:51.048Z"
   },
   {
    "duration": 0,
    "start_time": "2024-09-08T12:13:51.049Z"
   },
   {
    "duration": 0,
    "start_time": "2024-09-08T12:13:51.051Z"
   },
   {
    "duration": 0,
    "start_time": "2024-09-08T12:13:51.107Z"
   },
   {
    "duration": 0,
    "start_time": "2024-09-08T12:13:51.109Z"
   },
   {
    "duration": 0,
    "start_time": "2024-09-08T12:13:51.109Z"
   },
   {
    "duration": 0,
    "start_time": "2024-09-08T12:13:51.110Z"
   },
   {
    "duration": 0,
    "start_time": "2024-09-08T12:13:51.112Z"
   },
   {
    "duration": 23,
    "start_time": "2024-09-08T12:17:36.009Z"
   },
   {
    "duration": 22,
    "start_time": "2024-09-08T12:18:36.634Z"
   },
   {
    "duration": 20,
    "start_time": "2024-09-08T12:18:49.216Z"
   },
   {
    "duration": 8793,
    "start_time": "2024-09-08T12:19:25.084Z"
   },
   {
    "duration": 54,
    "start_time": "2024-09-08T12:19:33.879Z"
   },
   {
    "duration": 11,
    "start_time": "2024-09-08T12:19:33.934Z"
   },
   {
    "duration": 10,
    "start_time": "2024-09-08T12:19:33.948Z"
   },
   {
    "duration": 14,
    "start_time": "2024-09-08T12:19:33.959Z"
   },
   {
    "duration": 6,
    "start_time": "2024-09-08T12:19:33.975Z"
   },
   {
    "duration": 342,
    "start_time": "2024-09-08T12:19:33.982Z"
   },
   {
    "duration": 6,
    "start_time": "2024-09-08T12:19:34.325Z"
   },
   {
    "duration": 14,
    "start_time": "2024-09-08T12:19:34.332Z"
   },
   {
    "duration": 423,
    "start_time": "2024-09-08T12:19:34.348Z"
   },
   {
    "duration": 5,
    "start_time": "2024-09-08T12:19:34.773Z"
   },
   {
    "duration": 170,
    "start_time": "2024-09-08T12:19:34.779Z"
   },
   {
    "duration": 169,
    "start_time": "2024-09-08T12:19:34.950Z"
   },
   {
    "duration": 143,
    "start_time": "2024-09-08T12:19:35.120Z"
   },
   {
    "duration": 0,
    "start_time": "2024-09-08T12:19:35.265Z"
   },
   {
    "duration": 0,
    "start_time": "2024-09-08T12:19:35.266Z"
   },
   {
    "duration": 0,
    "start_time": "2024-09-08T12:19:35.267Z"
   },
   {
    "duration": 0,
    "start_time": "2024-09-08T12:19:35.268Z"
   },
   {
    "duration": 0,
    "start_time": "2024-09-08T12:19:35.269Z"
   },
   {
    "duration": 0,
    "start_time": "2024-09-08T12:19:35.271Z"
   },
   {
    "duration": 0,
    "start_time": "2024-09-08T12:19:35.272Z"
   },
   {
    "duration": 0,
    "start_time": "2024-09-08T12:19:35.273Z"
   },
   {
    "duration": 0,
    "start_time": "2024-09-08T12:19:35.275Z"
   },
   {
    "duration": 0,
    "start_time": "2024-09-08T12:19:35.276Z"
   },
   {
    "duration": 0,
    "start_time": "2024-09-08T12:19:35.277Z"
   },
   {
    "duration": 0,
    "start_time": "2024-09-08T12:19:35.278Z"
   },
   {
    "duration": 0,
    "start_time": "2024-09-08T12:19:35.279Z"
   },
   {
    "duration": 0,
    "start_time": "2024-09-08T12:19:35.280Z"
   },
   {
    "duration": 0,
    "start_time": "2024-09-08T12:19:35.308Z"
   },
   {
    "duration": 0,
    "start_time": "2024-09-08T12:19:35.309Z"
   },
   {
    "duration": 0,
    "start_time": "2024-09-08T12:19:35.311Z"
   },
   {
    "duration": 0,
    "start_time": "2024-09-08T12:19:35.313Z"
   },
   {
    "duration": 0,
    "start_time": "2024-09-08T12:19:35.315Z"
   },
   {
    "duration": 0,
    "start_time": "2024-09-08T12:19:35.316Z"
   },
   {
    "duration": 0,
    "start_time": "2024-09-08T12:19:35.318Z"
   },
   {
    "duration": 0,
    "start_time": "2024-09-08T12:19:35.319Z"
   },
   {
    "duration": 0,
    "start_time": "2024-09-08T12:19:35.321Z"
   },
   {
    "duration": 0,
    "start_time": "2024-09-08T12:19:35.323Z"
   },
   {
    "duration": 0,
    "start_time": "2024-09-08T12:19:35.324Z"
   },
   {
    "duration": 0,
    "start_time": "2024-09-08T12:19:35.325Z"
   },
   {
    "duration": 0,
    "start_time": "2024-09-08T12:19:35.325Z"
   },
   {
    "duration": 0,
    "start_time": "2024-09-08T12:19:35.327Z"
   },
   {
    "duration": 0,
    "start_time": "2024-09-08T12:19:35.328Z"
   },
   {
    "duration": 0,
    "start_time": "2024-09-08T12:19:35.329Z"
   },
   {
    "duration": 0,
    "start_time": "2024-09-08T12:19:35.330Z"
   },
   {
    "duration": 0,
    "start_time": "2024-09-08T12:19:35.331Z"
   },
   {
    "duration": 0,
    "start_time": "2024-09-08T12:19:35.332Z"
   },
   {
    "duration": 259,
    "start_time": "2024-09-08T12:22:26.829Z"
   },
   {
    "duration": 9,
    "start_time": "2024-09-08T12:47:56.422Z"
   },
   {
    "duration": 7244,
    "start_time": "2024-09-08T12:48:36.370Z"
   },
   {
    "duration": 51,
    "start_time": "2024-09-08T12:48:43.616Z"
   },
   {
    "duration": 8,
    "start_time": "2024-09-08T12:48:43.668Z"
   },
   {
    "duration": 18,
    "start_time": "2024-09-08T12:48:43.678Z"
   },
   {
    "duration": 33,
    "start_time": "2024-09-08T12:48:43.697Z"
   },
   {
    "duration": 28,
    "start_time": "2024-09-08T12:48:43.732Z"
   },
   {
    "duration": 304,
    "start_time": "2024-09-08T12:48:43.761Z"
   },
   {
    "duration": 7,
    "start_time": "2024-09-08T12:48:44.066Z"
   },
   {
    "duration": 26,
    "start_time": "2024-09-08T12:48:44.074Z"
   },
   {
    "duration": 360,
    "start_time": "2024-09-08T12:48:44.103Z"
   },
   {
    "duration": 5,
    "start_time": "2024-09-08T12:48:44.465Z"
   },
   {
    "duration": 165,
    "start_time": "2024-09-08T12:48:44.471Z"
   },
   {
    "duration": 261,
    "start_time": "2024-09-08T12:48:44.638Z"
   },
   {
    "duration": 266,
    "start_time": "2024-09-08T12:48:44.900Z"
   },
   {
    "duration": 7,
    "start_time": "2024-09-08T12:48:45.168Z"
   },
   {
    "duration": 41,
    "start_time": "2024-09-08T12:48:45.176Z"
   },
   {
    "duration": 30,
    "start_time": "2024-09-08T12:48:45.219Z"
   },
   {
    "duration": 123,
    "start_time": "2024-09-08T12:48:45.250Z"
   },
   {
    "duration": 0,
    "start_time": "2024-09-08T12:48:45.375Z"
   },
   {
    "duration": 0,
    "start_time": "2024-09-08T12:48:45.376Z"
   },
   {
    "duration": 0,
    "start_time": "2024-09-08T12:48:45.377Z"
   },
   {
    "duration": 1,
    "start_time": "2024-09-08T12:48:45.378Z"
   },
   {
    "duration": 0,
    "start_time": "2024-09-08T12:48:45.381Z"
   },
   {
    "duration": 0,
    "start_time": "2024-09-08T12:48:45.383Z"
   },
   {
    "duration": 0,
    "start_time": "2024-09-08T12:48:45.384Z"
   },
   {
    "duration": 0,
    "start_time": "2024-09-08T12:48:45.385Z"
   },
   {
    "duration": 0,
    "start_time": "2024-09-08T12:48:45.387Z"
   },
   {
    "duration": 0,
    "start_time": "2024-09-08T12:48:45.388Z"
   },
   {
    "duration": 0,
    "start_time": "2024-09-08T12:48:45.389Z"
   },
   {
    "duration": 0,
    "start_time": "2024-09-08T12:48:45.391Z"
   },
   {
    "duration": 0,
    "start_time": "2024-09-08T12:48:45.392Z"
   },
   {
    "duration": 0,
    "start_time": "2024-09-08T12:48:45.394Z"
   },
   {
    "duration": 0,
    "start_time": "2024-09-08T12:48:45.395Z"
   },
   {
    "duration": 0,
    "start_time": "2024-09-08T12:48:45.396Z"
   },
   {
    "duration": 0,
    "start_time": "2024-09-08T12:48:45.397Z"
   },
   {
    "duration": 0,
    "start_time": "2024-09-08T12:48:45.399Z"
   },
   {
    "duration": 0,
    "start_time": "2024-09-08T12:48:45.400Z"
   },
   {
    "duration": 0,
    "start_time": "2024-09-08T12:48:45.401Z"
   },
   {
    "duration": 0,
    "start_time": "2024-09-08T12:48:45.403Z"
   },
   {
    "duration": 0,
    "start_time": "2024-09-08T12:48:45.404Z"
   },
   {
    "duration": 0,
    "start_time": "2024-09-08T12:48:45.405Z"
   },
   {
    "duration": 0,
    "start_time": "2024-09-08T12:48:45.407Z"
   },
   {
    "duration": 0,
    "start_time": "2024-09-08T12:48:45.409Z"
   },
   {
    "duration": 0,
    "start_time": "2024-09-08T12:48:45.410Z"
   },
   {
    "duration": 0,
    "start_time": "2024-09-08T12:48:45.411Z"
   },
   {
    "duration": 0,
    "start_time": "2024-09-08T12:48:45.412Z"
   },
   {
    "duration": 0,
    "start_time": "2024-09-08T12:48:45.413Z"
   },
   {
    "duration": 0,
    "start_time": "2024-09-08T12:48:45.414Z"
   },
   {
    "duration": 21,
    "start_time": "2024-09-08T12:51:48.420Z"
   },
   {
    "duration": 14,
    "start_time": "2024-09-08T12:53:06.008Z"
   },
   {
    "duration": 799,
    "start_time": "2024-09-08T12:54:15.437Z"
   },
   {
    "duration": 7255,
    "start_time": "2024-09-08T12:54:31.351Z"
   },
   {
    "duration": 51,
    "start_time": "2024-09-08T12:54:38.608Z"
   },
   {
    "duration": 7,
    "start_time": "2024-09-08T12:54:38.661Z"
   },
   {
    "duration": 11,
    "start_time": "2024-09-08T12:54:38.670Z"
   },
   {
    "duration": 9,
    "start_time": "2024-09-08T12:54:38.682Z"
   },
   {
    "duration": 5,
    "start_time": "2024-09-08T12:54:38.693Z"
   },
   {
    "duration": 302,
    "start_time": "2024-09-08T12:54:38.699Z"
   },
   {
    "duration": 7,
    "start_time": "2024-09-08T12:54:39.006Z"
   },
   {
    "duration": 7,
    "start_time": "2024-09-08T12:54:39.014Z"
   },
   {
    "duration": 374,
    "start_time": "2024-09-08T12:54:39.023Z"
   },
   {
    "duration": 12,
    "start_time": "2024-09-08T12:54:39.398Z"
   },
   {
    "duration": 169,
    "start_time": "2024-09-08T12:54:39.411Z"
   },
   {
    "duration": 155,
    "start_time": "2024-09-08T12:54:39.582Z"
   },
   {
    "duration": 14,
    "start_time": "2024-09-08T12:54:39.738Z"
   },
   {
    "duration": 786,
    "start_time": "2024-09-08T12:54:39.754Z"
   },
   {
    "duration": 0,
    "start_time": "2024-09-08T12:54:40.547Z"
   },
   {
    "duration": 0,
    "start_time": "2024-09-08T12:54:40.549Z"
   },
   {
    "duration": 0,
    "start_time": "2024-09-08T12:54:40.550Z"
   },
   {
    "duration": 0,
    "start_time": "2024-09-08T12:54:40.552Z"
   },
   {
    "duration": 0,
    "start_time": "2024-09-08T12:54:40.553Z"
   },
   {
    "duration": 0,
    "start_time": "2024-09-08T12:54:40.554Z"
   },
   {
    "duration": 0,
    "start_time": "2024-09-08T12:54:40.555Z"
   },
   {
    "duration": 0,
    "start_time": "2024-09-08T12:54:40.555Z"
   },
   {
    "duration": 0,
    "start_time": "2024-09-08T12:54:40.556Z"
   },
   {
    "duration": 1,
    "start_time": "2024-09-08T12:54:40.557Z"
   },
   {
    "duration": 0,
    "start_time": "2024-09-08T12:54:40.558Z"
   },
   {
    "duration": 0,
    "start_time": "2024-09-08T12:54:40.559Z"
   },
   {
    "duration": 0,
    "start_time": "2024-09-08T12:54:40.561Z"
   },
   {
    "duration": 0,
    "start_time": "2024-09-08T12:54:40.562Z"
   },
   {
    "duration": 0,
    "start_time": "2024-09-08T12:54:40.563Z"
   },
   {
    "duration": 0,
    "start_time": "2024-09-08T12:54:40.564Z"
   },
   {
    "duration": 0,
    "start_time": "2024-09-08T12:54:40.565Z"
   },
   {
    "duration": 0,
    "start_time": "2024-09-08T12:54:40.566Z"
   },
   {
    "duration": 0,
    "start_time": "2024-09-08T12:54:40.567Z"
   },
   {
    "duration": 0,
    "start_time": "2024-09-08T12:54:40.568Z"
   },
   {
    "duration": 0,
    "start_time": "2024-09-08T12:54:40.569Z"
   },
   {
    "duration": 0,
    "start_time": "2024-09-08T12:54:40.570Z"
   },
   {
    "duration": 0,
    "start_time": "2024-09-08T12:54:40.571Z"
   },
   {
    "duration": 0,
    "start_time": "2024-09-08T12:54:40.572Z"
   },
   {
    "duration": 0,
    "start_time": "2024-09-08T12:54:40.573Z"
   },
   {
    "duration": 0,
    "start_time": "2024-09-08T12:54:40.574Z"
   },
   {
    "duration": 0,
    "start_time": "2024-09-08T12:54:40.576Z"
   },
   {
    "duration": 0,
    "start_time": "2024-09-08T12:54:40.576Z"
   },
   {
    "duration": 0,
    "start_time": "2024-09-08T12:54:40.578Z"
   },
   {
    "duration": 0,
    "start_time": "2024-09-08T12:54:40.579Z"
   },
   {
    "duration": 0,
    "start_time": "2024-09-08T12:54:40.580Z"
   },
   {
    "duration": 0,
    "start_time": "2024-09-08T12:54:40.581Z"
   },
   {
    "duration": 0,
    "start_time": "2024-09-08T12:54:40.582Z"
   },
   {
    "duration": 0,
    "start_time": "2024-09-08T12:54:40.607Z"
   },
   {
    "duration": 810,
    "start_time": "2024-09-08T12:55:19.807Z"
   },
   {
    "duration": 23,
    "start_time": "2024-09-08T12:55:40.920Z"
   },
   {
    "duration": 7421,
    "start_time": "2024-09-08T12:55:43.773Z"
   },
   {
    "duration": 51,
    "start_time": "2024-09-08T12:55:51.197Z"
   },
   {
    "duration": 7,
    "start_time": "2024-09-08T12:55:51.250Z"
   },
   {
    "duration": 18,
    "start_time": "2024-09-08T12:55:51.259Z"
   },
   {
    "duration": 28,
    "start_time": "2024-09-08T12:55:51.279Z"
   },
   {
    "duration": 6,
    "start_time": "2024-09-08T12:55:51.309Z"
   },
   {
    "duration": 287,
    "start_time": "2024-09-08T12:55:51.316Z"
   },
   {
    "duration": 6,
    "start_time": "2024-09-08T12:55:51.606Z"
   },
   {
    "duration": 14,
    "start_time": "2024-09-08T12:55:51.614Z"
   },
   {
    "duration": 455,
    "start_time": "2024-09-08T12:55:51.630Z"
   },
   {
    "duration": 5,
    "start_time": "2024-09-08T12:55:52.087Z"
   },
   {
    "duration": 172,
    "start_time": "2024-09-08T12:55:52.093Z"
   },
   {
    "duration": 173,
    "start_time": "2024-09-08T12:55:52.267Z"
   },
   {
    "duration": 23,
    "start_time": "2024-09-08T12:55:52.442Z"
   },
   {
    "duration": 0,
    "start_time": "2024-09-08T12:55:52.467Z"
   },
   {
    "duration": 0,
    "start_time": "2024-09-08T12:55:52.469Z"
   },
   {
    "duration": 0,
    "start_time": "2024-09-08T12:55:52.470Z"
   },
   {
    "duration": 0,
    "start_time": "2024-09-08T12:55:52.471Z"
   },
   {
    "duration": 0,
    "start_time": "2024-09-08T12:55:52.472Z"
   },
   {
    "duration": 0,
    "start_time": "2024-09-08T12:55:52.473Z"
   },
   {
    "duration": 0,
    "start_time": "2024-09-08T12:55:52.474Z"
   },
   {
    "duration": 0,
    "start_time": "2024-09-08T12:55:52.475Z"
   },
   {
    "duration": 0,
    "start_time": "2024-09-08T12:55:52.476Z"
   },
   {
    "duration": 0,
    "start_time": "2024-09-08T12:55:52.477Z"
   },
   {
    "duration": 0,
    "start_time": "2024-09-08T12:55:52.478Z"
   },
   {
    "duration": 0,
    "start_time": "2024-09-08T12:55:52.507Z"
   },
   {
    "duration": 0,
    "start_time": "2024-09-08T12:55:52.509Z"
   },
   {
    "duration": 0,
    "start_time": "2024-09-08T12:55:52.510Z"
   },
   {
    "duration": 0,
    "start_time": "2024-09-08T12:55:52.511Z"
   },
   {
    "duration": 0,
    "start_time": "2024-09-08T12:55:52.512Z"
   },
   {
    "duration": 0,
    "start_time": "2024-09-08T12:55:52.513Z"
   },
   {
    "duration": 0,
    "start_time": "2024-09-08T12:55:52.514Z"
   },
   {
    "duration": 0,
    "start_time": "2024-09-08T12:55:52.515Z"
   },
   {
    "duration": 0,
    "start_time": "2024-09-08T12:55:52.516Z"
   },
   {
    "duration": 0,
    "start_time": "2024-09-08T12:55:52.518Z"
   },
   {
    "duration": 0,
    "start_time": "2024-09-08T12:55:52.519Z"
   },
   {
    "duration": 0,
    "start_time": "2024-09-08T12:55:52.520Z"
   },
   {
    "duration": 0,
    "start_time": "2024-09-08T12:55:52.521Z"
   },
   {
    "duration": 0,
    "start_time": "2024-09-08T12:55:52.522Z"
   },
   {
    "duration": 0,
    "start_time": "2024-09-08T12:55:52.523Z"
   },
   {
    "duration": 0,
    "start_time": "2024-09-08T12:55:52.524Z"
   },
   {
    "duration": 0,
    "start_time": "2024-09-08T12:55:52.524Z"
   },
   {
    "duration": 0,
    "start_time": "2024-09-08T12:55:52.526Z"
   },
   {
    "duration": 0,
    "start_time": "2024-09-08T12:55:52.526Z"
   },
   {
    "duration": 0,
    "start_time": "2024-09-08T12:55:52.527Z"
   },
   {
    "duration": 1,
    "start_time": "2024-09-08T12:55:52.528Z"
   },
   {
    "duration": 0,
    "start_time": "2024-09-08T12:55:52.530Z"
   },
   {
    "duration": 0,
    "start_time": "2024-09-08T12:55:52.531Z"
   },
   {
    "duration": 8705,
    "start_time": "2024-09-08T12:56:13.222Z"
   },
   {
    "duration": 52,
    "start_time": "2024-09-08T12:56:21.929Z"
   },
   {
    "duration": 10,
    "start_time": "2024-09-08T12:56:21.982Z"
   },
   {
    "duration": 12,
    "start_time": "2024-09-08T12:56:21.994Z"
   },
   {
    "duration": 12,
    "start_time": "2024-09-08T12:56:22.007Z"
   },
   {
    "duration": 6,
    "start_time": "2024-09-08T12:56:22.020Z"
   },
   {
    "duration": 327,
    "start_time": "2024-09-08T12:56:22.028Z"
   },
   {
    "duration": 7,
    "start_time": "2024-09-08T12:56:22.357Z"
   },
   {
    "duration": 40,
    "start_time": "2024-09-08T12:56:22.366Z"
   },
   {
    "duration": 409,
    "start_time": "2024-09-08T12:56:22.408Z"
   },
   {
    "duration": 4,
    "start_time": "2024-09-08T12:56:22.819Z"
   },
   {
    "duration": 184,
    "start_time": "2024-09-08T12:56:22.825Z"
   },
   {
    "duration": 157,
    "start_time": "2024-09-08T12:56:23.011Z"
   },
   {
    "duration": 142,
    "start_time": "2024-09-08T12:56:23.169Z"
   },
   {
    "duration": 0,
    "start_time": "2024-09-08T12:56:23.313Z"
   },
   {
    "duration": 0,
    "start_time": "2024-09-08T12:56:23.314Z"
   },
   {
    "duration": 0,
    "start_time": "2024-09-08T12:56:23.315Z"
   },
   {
    "duration": 0,
    "start_time": "2024-09-08T12:56:23.316Z"
   },
   {
    "duration": 0,
    "start_time": "2024-09-08T12:56:23.317Z"
   },
   {
    "duration": 0,
    "start_time": "2024-09-08T12:56:23.318Z"
   },
   {
    "duration": 0,
    "start_time": "2024-09-08T12:56:23.319Z"
   },
   {
    "duration": 0,
    "start_time": "2024-09-08T12:56:23.320Z"
   },
   {
    "duration": 0,
    "start_time": "2024-09-08T12:56:23.321Z"
   },
   {
    "duration": 0,
    "start_time": "2024-09-08T12:56:23.322Z"
   },
   {
    "duration": 0,
    "start_time": "2024-09-08T12:56:23.322Z"
   },
   {
    "duration": 0,
    "start_time": "2024-09-08T12:56:23.323Z"
   },
   {
    "duration": 0,
    "start_time": "2024-09-08T12:56:23.324Z"
   },
   {
    "duration": 0,
    "start_time": "2024-09-08T12:56:23.325Z"
   },
   {
    "duration": 0,
    "start_time": "2024-09-08T12:56:23.327Z"
   },
   {
    "duration": 0,
    "start_time": "2024-09-08T12:56:23.328Z"
   },
   {
    "duration": 0,
    "start_time": "2024-09-08T12:56:23.330Z"
   },
   {
    "duration": 0,
    "start_time": "2024-09-08T12:56:23.331Z"
   },
   {
    "duration": 0,
    "start_time": "2024-09-08T12:56:23.333Z"
   },
   {
    "duration": 0,
    "start_time": "2024-09-08T12:56:23.334Z"
   },
   {
    "duration": 0,
    "start_time": "2024-09-08T12:56:23.335Z"
   },
   {
    "duration": 0,
    "start_time": "2024-09-08T12:56:23.336Z"
   },
   {
    "duration": 0,
    "start_time": "2024-09-08T12:56:23.337Z"
   },
   {
    "duration": 0,
    "start_time": "2024-09-08T12:56:23.338Z"
   },
   {
    "duration": 0,
    "start_time": "2024-09-08T12:56:23.340Z"
   },
   {
    "duration": 0,
    "start_time": "2024-09-08T12:56:23.341Z"
   },
   {
    "duration": 0,
    "start_time": "2024-09-08T12:56:23.342Z"
   },
   {
    "duration": 0,
    "start_time": "2024-09-08T12:56:23.343Z"
   },
   {
    "duration": 0,
    "start_time": "2024-09-08T12:56:23.345Z"
   },
   {
    "duration": 0,
    "start_time": "2024-09-08T12:56:23.346Z"
   },
   {
    "duration": 0,
    "start_time": "2024-09-08T12:56:23.347Z"
   },
   {
    "duration": 0,
    "start_time": "2024-09-08T12:56:23.349Z"
   },
   {
    "duration": 0,
    "start_time": "2024-09-08T12:56:23.349Z"
   },
   {
    "duration": 0,
    "start_time": "2024-09-08T12:56:23.407Z"
   },
   {
    "duration": 251,
    "start_time": "2024-09-08T12:57:10.992Z"
   },
   {
    "duration": 3,
    "start_time": "2024-09-08T12:58:13.981Z"
   },
   {
    "duration": 54,
    "start_time": "2024-09-08T12:58:36.442Z"
   },
   {
    "duration": 3,
    "start_time": "2024-09-08T12:58:42.591Z"
   },
   {
    "duration": 7293,
    "start_time": "2024-09-08T12:59:12.699Z"
   },
   {
    "duration": 53,
    "start_time": "2024-09-08T12:59:19.994Z"
   },
   {
    "duration": 7,
    "start_time": "2024-09-08T12:59:20.048Z"
   },
   {
    "duration": 20,
    "start_time": "2024-09-08T12:59:20.057Z"
   },
   {
    "duration": 9,
    "start_time": "2024-09-08T12:59:20.078Z"
   },
   {
    "duration": 10,
    "start_time": "2024-09-08T12:59:20.089Z"
   },
   {
    "duration": 316,
    "start_time": "2024-09-08T12:59:20.100Z"
   },
   {
    "duration": 7,
    "start_time": "2024-09-08T12:59:20.417Z"
   },
   {
    "duration": 8,
    "start_time": "2024-09-08T12:59:20.425Z"
   },
   {
    "duration": 359,
    "start_time": "2024-09-08T12:59:20.436Z"
   },
   {
    "duration": 4,
    "start_time": "2024-09-08T12:59:20.797Z"
   },
   {
    "duration": 176,
    "start_time": "2024-09-08T12:59:20.802Z"
   },
   {
    "duration": 248,
    "start_time": "2024-09-08T12:59:20.979Z"
   },
   {
    "duration": 260,
    "start_time": "2024-09-08T12:59:21.229Z"
   },
   {
    "duration": 17,
    "start_time": "2024-09-08T12:59:21.490Z"
   },
   {
    "duration": 23,
    "start_time": "2024-09-08T12:59:21.508Z"
   },
   {
    "duration": 12,
    "start_time": "2024-09-08T12:59:21.532Z"
   },
   {
    "duration": 73,
    "start_time": "2024-09-08T12:59:21.545Z"
   },
   {
    "duration": 0,
    "start_time": "2024-09-08T12:59:21.620Z"
   },
   {
    "duration": 0,
    "start_time": "2024-09-08T12:59:21.621Z"
   },
   {
    "duration": 0,
    "start_time": "2024-09-08T12:59:21.622Z"
   },
   {
    "duration": 0,
    "start_time": "2024-09-08T12:59:21.623Z"
   },
   {
    "duration": 0,
    "start_time": "2024-09-08T12:59:21.624Z"
   },
   {
    "duration": 0,
    "start_time": "2024-09-08T12:59:21.626Z"
   },
   {
    "duration": 0,
    "start_time": "2024-09-08T12:59:21.627Z"
   },
   {
    "duration": 0,
    "start_time": "2024-09-08T12:59:21.627Z"
   },
   {
    "duration": 0,
    "start_time": "2024-09-08T12:59:21.629Z"
   },
   {
    "duration": 1,
    "start_time": "2024-09-08T12:59:21.629Z"
   },
   {
    "duration": 0,
    "start_time": "2024-09-08T12:59:21.631Z"
   },
   {
    "duration": 0,
    "start_time": "2024-09-08T12:59:21.631Z"
   },
   {
    "duration": 0,
    "start_time": "2024-09-08T12:59:21.632Z"
   },
   {
    "duration": 0,
    "start_time": "2024-09-08T12:59:21.634Z"
   },
   {
    "duration": 0,
    "start_time": "2024-09-08T12:59:21.634Z"
   },
   {
    "duration": 0,
    "start_time": "2024-09-08T12:59:21.635Z"
   },
   {
    "duration": 0,
    "start_time": "2024-09-08T12:59:21.636Z"
   },
   {
    "duration": 0,
    "start_time": "2024-09-08T12:59:21.637Z"
   },
   {
    "duration": 0,
    "start_time": "2024-09-08T12:59:21.638Z"
   },
   {
    "duration": 0,
    "start_time": "2024-09-08T12:59:21.639Z"
   },
   {
    "duration": 0,
    "start_time": "2024-09-08T12:59:21.640Z"
   },
   {
    "duration": 0,
    "start_time": "2024-09-08T12:59:21.641Z"
   },
   {
    "duration": 0,
    "start_time": "2024-09-08T12:59:21.642Z"
   },
   {
    "duration": 0,
    "start_time": "2024-09-08T12:59:21.643Z"
   },
   {
    "duration": 0,
    "start_time": "2024-09-08T12:59:21.644Z"
   },
   {
    "duration": 0,
    "start_time": "2024-09-08T12:59:21.645Z"
   },
   {
    "duration": 0,
    "start_time": "2024-09-08T12:59:21.646Z"
   },
   {
    "duration": 0,
    "start_time": "2024-09-08T12:59:21.647Z"
   },
   {
    "duration": 0,
    "start_time": "2024-09-08T12:59:21.648Z"
   },
   {
    "duration": 8580,
    "start_time": "2024-09-08T13:00:11.217Z"
   },
   {
    "duration": 50,
    "start_time": "2024-09-08T13:00:19.800Z"
   },
   {
    "duration": 11,
    "start_time": "2024-09-08T13:00:19.851Z"
   },
   {
    "duration": 33,
    "start_time": "2024-09-08T13:00:19.864Z"
   },
   {
    "duration": 20,
    "start_time": "2024-09-08T13:00:19.898Z"
   },
   {
    "duration": 17,
    "start_time": "2024-09-08T13:00:19.919Z"
   },
   {
    "duration": 331,
    "start_time": "2024-09-08T13:00:19.937Z"
   },
   {
    "duration": 7,
    "start_time": "2024-09-08T13:00:20.269Z"
   },
   {
    "duration": 57,
    "start_time": "2024-09-08T13:00:20.277Z"
   },
   {
    "duration": 455,
    "start_time": "2024-09-08T13:00:20.337Z"
   },
   {
    "duration": 14,
    "start_time": "2024-09-08T13:00:20.793Z"
   },
   {
    "duration": 178,
    "start_time": "2024-09-08T13:00:20.808Z"
   },
   {
    "duration": 166,
    "start_time": "2024-09-08T13:00:20.988Z"
   },
   {
    "duration": 262,
    "start_time": "2024-09-08T13:00:21.156Z"
   },
   {
    "duration": 8,
    "start_time": "2024-09-08T13:00:21.421Z"
   },
   {
    "duration": 26,
    "start_time": "2024-09-08T13:00:21.431Z"
   },
   {
    "duration": 39,
    "start_time": "2024-09-08T13:00:21.460Z"
   },
   {
    "duration": 162,
    "start_time": "2024-09-08T13:00:21.501Z"
   },
   {
    "duration": 0,
    "start_time": "2024-09-08T13:00:21.665Z"
   },
   {
    "duration": 0,
    "start_time": "2024-09-08T13:00:21.666Z"
   },
   {
    "duration": 0,
    "start_time": "2024-09-08T13:00:21.667Z"
   },
   {
    "duration": 0,
    "start_time": "2024-09-08T13:00:21.668Z"
   },
   {
    "duration": 0,
    "start_time": "2024-09-08T13:00:21.668Z"
   },
   {
    "duration": 0,
    "start_time": "2024-09-08T13:00:21.669Z"
   },
   {
    "duration": 0,
    "start_time": "2024-09-08T13:00:21.670Z"
   },
   {
    "duration": 0,
    "start_time": "2024-09-08T13:00:21.671Z"
   },
   {
    "duration": 0,
    "start_time": "2024-09-08T13:00:21.672Z"
   },
   {
    "duration": 0,
    "start_time": "2024-09-08T13:00:21.673Z"
   },
   {
    "duration": 0,
    "start_time": "2024-09-08T13:00:21.674Z"
   },
   {
    "duration": 0,
    "start_time": "2024-09-08T13:00:21.675Z"
   },
   {
    "duration": 0,
    "start_time": "2024-09-08T13:00:21.675Z"
   },
   {
    "duration": 0,
    "start_time": "2024-09-08T13:00:21.676Z"
   },
   {
    "duration": 0,
    "start_time": "2024-09-08T13:00:21.677Z"
   },
   {
    "duration": 0,
    "start_time": "2024-09-08T13:00:21.678Z"
   },
   {
    "duration": 0,
    "start_time": "2024-09-08T13:00:21.679Z"
   },
   {
    "duration": 0,
    "start_time": "2024-09-08T13:00:21.707Z"
   },
   {
    "duration": 0,
    "start_time": "2024-09-08T13:00:21.708Z"
   },
   {
    "duration": 0,
    "start_time": "2024-09-08T13:00:21.709Z"
   },
   {
    "duration": 0,
    "start_time": "2024-09-08T13:00:21.710Z"
   },
   {
    "duration": 0,
    "start_time": "2024-09-08T13:00:21.712Z"
   },
   {
    "duration": 0,
    "start_time": "2024-09-08T13:00:21.713Z"
   },
   {
    "duration": 0,
    "start_time": "2024-09-08T13:00:21.714Z"
   },
   {
    "duration": 0,
    "start_time": "2024-09-08T13:00:21.715Z"
   },
   {
    "duration": 0,
    "start_time": "2024-09-08T13:00:21.716Z"
   },
   {
    "duration": 0,
    "start_time": "2024-09-08T13:00:21.717Z"
   },
   {
    "duration": 0,
    "start_time": "2024-09-08T13:00:21.718Z"
   },
   {
    "duration": 0,
    "start_time": "2024-09-08T13:00:21.719Z"
   },
   {
    "duration": 7330,
    "start_time": "2024-09-08T13:02:13.723Z"
   },
   {
    "duration": 51,
    "start_time": "2024-09-08T13:02:21.056Z"
   },
   {
    "duration": 8,
    "start_time": "2024-09-08T13:02:21.108Z"
   },
   {
    "duration": 11,
    "start_time": "2024-09-08T13:02:21.117Z"
   },
   {
    "duration": 9,
    "start_time": "2024-09-08T13:02:21.130Z"
   },
   {
    "duration": 8,
    "start_time": "2024-09-08T13:02:21.141Z"
   },
   {
    "duration": 292,
    "start_time": "2024-09-08T13:02:21.150Z"
   },
   {
    "duration": 6,
    "start_time": "2024-09-08T13:02:21.443Z"
   },
   {
    "duration": 14,
    "start_time": "2024-09-08T13:02:21.450Z"
   },
   {
    "duration": 360,
    "start_time": "2024-09-08T13:02:21.466Z"
   },
   {
    "duration": 5,
    "start_time": "2024-09-08T13:02:21.828Z"
   },
   {
    "duration": 167,
    "start_time": "2024-09-08T13:02:21.834Z"
   },
   {
    "duration": 266,
    "start_time": "2024-09-08T13:02:22.006Z"
   },
   {
    "duration": 267,
    "start_time": "2024-09-08T13:02:22.274Z"
   },
   {
    "duration": 8,
    "start_time": "2024-09-08T13:02:22.543Z"
   },
   {
    "duration": 23,
    "start_time": "2024-09-08T13:02:22.553Z"
   },
   {
    "duration": 30,
    "start_time": "2024-09-08T13:02:22.578Z"
   },
   {
    "duration": 39,
    "start_time": "2024-09-08T13:02:22.610Z"
   },
   {
    "duration": 0,
    "start_time": "2024-09-08T13:02:22.652Z"
   },
   {
    "duration": 0,
    "start_time": "2024-09-08T13:02:22.654Z"
   },
   {
    "duration": 0,
    "start_time": "2024-09-08T13:02:22.655Z"
   },
   {
    "duration": 0,
    "start_time": "2024-09-08T13:02:22.657Z"
   },
   {
    "duration": 0,
    "start_time": "2024-09-08T13:02:22.658Z"
   },
   {
    "duration": 0,
    "start_time": "2024-09-08T13:02:22.660Z"
   },
   {
    "duration": 0,
    "start_time": "2024-09-08T13:02:22.661Z"
   },
   {
    "duration": 0,
    "start_time": "2024-09-08T13:02:22.663Z"
   },
   {
    "duration": 0,
    "start_time": "2024-09-08T13:02:22.664Z"
   },
   {
    "duration": 0,
    "start_time": "2024-09-08T13:02:22.665Z"
   },
   {
    "duration": 0,
    "start_time": "2024-09-08T13:02:22.666Z"
   },
   {
    "duration": 0,
    "start_time": "2024-09-08T13:02:22.668Z"
   },
   {
    "duration": 0,
    "start_time": "2024-09-08T13:02:22.669Z"
   },
   {
    "duration": 0,
    "start_time": "2024-09-08T13:02:22.671Z"
   },
   {
    "duration": 0,
    "start_time": "2024-09-08T13:02:22.672Z"
   },
   {
    "duration": 0,
    "start_time": "2024-09-08T13:02:22.674Z"
   },
   {
    "duration": 0,
    "start_time": "2024-09-08T13:02:22.674Z"
   },
   {
    "duration": 0,
    "start_time": "2024-09-08T13:02:22.676Z"
   },
   {
    "duration": 0,
    "start_time": "2024-09-08T13:02:22.677Z"
   },
   {
    "duration": 0,
    "start_time": "2024-09-08T13:02:22.678Z"
   },
   {
    "duration": 0,
    "start_time": "2024-09-08T13:02:22.679Z"
   },
   {
    "duration": 0,
    "start_time": "2024-09-08T13:02:22.708Z"
   },
   {
    "duration": 0,
    "start_time": "2024-09-08T13:02:22.709Z"
   },
   {
    "duration": 0,
    "start_time": "2024-09-08T13:02:22.711Z"
   },
   {
    "duration": 0,
    "start_time": "2024-09-08T13:02:22.712Z"
   },
   {
    "duration": 0,
    "start_time": "2024-09-08T13:02:22.713Z"
   },
   {
    "duration": 0,
    "start_time": "2024-09-08T13:02:22.714Z"
   },
   {
    "duration": 0,
    "start_time": "2024-09-08T13:02:22.715Z"
   },
   {
    "duration": 0,
    "start_time": "2024-09-08T13:02:22.716Z"
   },
   {
    "duration": 7341,
    "start_time": "2024-09-08T13:04:17.708Z"
   },
   {
    "duration": 52,
    "start_time": "2024-09-08T13:04:25.051Z"
   },
   {
    "duration": 8,
    "start_time": "2024-09-08T13:04:25.104Z"
   },
   {
    "duration": 18,
    "start_time": "2024-09-08T13:04:25.113Z"
   },
   {
    "duration": 9,
    "start_time": "2024-09-08T13:04:25.132Z"
   },
   {
    "duration": 7,
    "start_time": "2024-09-08T13:04:25.143Z"
   },
   {
    "duration": 297,
    "start_time": "2024-09-08T13:04:25.151Z"
   },
   {
    "duration": 6,
    "start_time": "2024-09-08T13:04:25.450Z"
   },
   {
    "duration": 10,
    "start_time": "2024-09-08T13:04:25.457Z"
   },
   {
    "duration": 366,
    "start_time": "2024-09-08T13:04:25.469Z"
   },
   {
    "duration": 5,
    "start_time": "2024-09-08T13:04:25.837Z"
   },
   {
    "duration": 185,
    "start_time": "2024-09-08T13:04:25.845Z"
   },
   {
    "duration": 165,
    "start_time": "2024-09-08T13:04:26.031Z"
   },
   {
    "duration": 274,
    "start_time": "2024-09-08T13:04:26.198Z"
   },
   {
    "duration": 5,
    "start_time": "2024-09-08T13:04:26.473Z"
   },
   {
    "duration": 16,
    "start_time": "2024-09-08T13:04:26.480Z"
   },
   {
    "duration": 11,
    "start_time": "2024-09-08T13:04:26.497Z"
   },
   {
    "duration": 21,
    "start_time": "2024-09-08T13:04:26.509Z"
   },
   {
    "duration": 0,
    "start_time": "2024-09-08T13:04:26.531Z"
   },
   {
    "duration": 0,
    "start_time": "2024-09-08T13:04:26.533Z"
   },
   {
    "duration": 0,
    "start_time": "2024-09-08T13:04:26.534Z"
   },
   {
    "duration": 0,
    "start_time": "2024-09-08T13:04:26.535Z"
   },
   {
    "duration": 0,
    "start_time": "2024-09-08T13:04:26.537Z"
   },
   {
    "duration": 0,
    "start_time": "2024-09-08T13:04:26.539Z"
   },
   {
    "duration": 0,
    "start_time": "2024-09-08T13:04:26.540Z"
   },
   {
    "duration": 0,
    "start_time": "2024-09-08T13:04:26.541Z"
   },
   {
    "duration": 0,
    "start_time": "2024-09-08T13:04:26.542Z"
   },
   {
    "duration": 0,
    "start_time": "2024-09-08T13:04:26.543Z"
   },
   {
    "duration": 0,
    "start_time": "2024-09-08T13:04:26.544Z"
   },
   {
    "duration": 0,
    "start_time": "2024-09-08T13:04:26.546Z"
   },
   {
    "duration": 0,
    "start_time": "2024-09-08T13:04:26.547Z"
   },
   {
    "duration": 0,
    "start_time": "2024-09-08T13:04:26.548Z"
   },
   {
    "duration": 0,
    "start_time": "2024-09-08T13:04:26.549Z"
   },
   {
    "duration": 0,
    "start_time": "2024-09-08T13:04:26.550Z"
   },
   {
    "duration": 0,
    "start_time": "2024-09-08T13:04:26.551Z"
   },
   {
    "duration": 0,
    "start_time": "2024-09-08T13:04:26.552Z"
   },
   {
    "duration": 0,
    "start_time": "2024-09-08T13:04:26.553Z"
   },
   {
    "duration": 0,
    "start_time": "2024-09-08T13:04:26.554Z"
   },
   {
    "duration": 0,
    "start_time": "2024-09-08T13:04:26.555Z"
   },
   {
    "duration": 0,
    "start_time": "2024-09-08T13:04:26.556Z"
   },
   {
    "duration": 0,
    "start_time": "2024-09-08T13:04:26.557Z"
   },
   {
    "duration": 0,
    "start_time": "2024-09-08T13:04:26.558Z"
   },
   {
    "duration": 0,
    "start_time": "2024-09-08T13:04:26.607Z"
   },
   {
    "duration": 0,
    "start_time": "2024-09-08T13:04:26.608Z"
   },
   {
    "duration": 0,
    "start_time": "2024-09-08T13:04:26.609Z"
   },
   {
    "duration": 0,
    "start_time": "2024-09-08T13:04:26.610Z"
   },
   {
    "duration": 0,
    "start_time": "2024-09-08T13:04:26.611Z"
   },
   {
    "duration": 8559,
    "start_time": "2024-09-08T13:06:35.603Z"
   },
   {
    "duration": 52,
    "start_time": "2024-09-08T13:06:44.164Z"
   },
   {
    "duration": 11,
    "start_time": "2024-09-08T13:06:44.218Z"
   },
   {
    "duration": 22,
    "start_time": "2024-09-08T13:06:44.232Z"
   },
   {
    "duration": 21,
    "start_time": "2024-09-08T13:06:44.256Z"
   },
   {
    "duration": 10,
    "start_time": "2024-09-08T13:06:44.279Z"
   },
   {
    "duration": 337,
    "start_time": "2024-09-08T13:06:44.291Z"
   },
   {
    "duration": 7,
    "start_time": "2024-09-08T13:06:44.630Z"
   },
   {
    "duration": 6,
    "start_time": "2024-09-08T13:06:44.639Z"
   },
   {
    "duration": 417,
    "start_time": "2024-09-08T13:06:44.648Z"
   },
   {
    "duration": 4,
    "start_time": "2024-09-08T13:06:45.067Z"
   },
   {
    "duration": 176,
    "start_time": "2024-09-08T13:06:45.073Z"
   },
   {
    "duration": 180,
    "start_time": "2024-09-08T13:06:45.251Z"
   },
   {
    "duration": 260,
    "start_time": "2024-09-08T13:06:45.432Z"
   },
   {
    "duration": 124,
    "start_time": "2024-09-08T13:06:45.693Z"
   },
   {
    "duration": 0,
    "start_time": "2024-09-08T13:06:45.819Z"
   },
   {
    "duration": 0,
    "start_time": "2024-09-08T13:06:45.820Z"
   },
   {
    "duration": 0,
    "start_time": "2024-09-08T13:06:45.821Z"
   },
   {
    "duration": 1,
    "start_time": "2024-09-08T13:06:45.822Z"
   },
   {
    "duration": 0,
    "start_time": "2024-09-08T13:06:45.823Z"
   },
   {
    "duration": 0,
    "start_time": "2024-09-08T13:06:45.824Z"
   },
   {
    "duration": 0,
    "start_time": "2024-09-08T13:06:45.825Z"
   },
   {
    "duration": 0,
    "start_time": "2024-09-08T13:06:45.826Z"
   },
   {
    "duration": 0,
    "start_time": "2024-09-08T13:06:45.827Z"
   },
   {
    "duration": 0,
    "start_time": "2024-09-08T13:06:45.829Z"
   },
   {
    "duration": 0,
    "start_time": "2024-09-08T13:06:45.829Z"
   },
   {
    "duration": 0,
    "start_time": "2024-09-08T13:06:45.830Z"
   },
   {
    "duration": 0,
    "start_time": "2024-09-08T13:06:45.831Z"
   },
   {
    "duration": 0,
    "start_time": "2024-09-08T13:06:45.832Z"
   },
   {
    "duration": 0,
    "start_time": "2024-09-08T13:06:45.834Z"
   },
   {
    "duration": 0,
    "start_time": "2024-09-08T13:06:45.835Z"
   },
   {
    "duration": 0,
    "start_time": "2024-09-08T13:06:45.835Z"
   },
   {
    "duration": 0,
    "start_time": "2024-09-08T13:06:45.837Z"
   },
   {
    "duration": 0,
    "start_time": "2024-09-08T13:06:45.837Z"
   },
   {
    "duration": 0,
    "start_time": "2024-09-08T13:06:45.838Z"
   },
   {
    "duration": 0,
    "start_time": "2024-09-08T13:06:45.839Z"
   },
   {
    "duration": 0,
    "start_time": "2024-09-08T13:06:45.840Z"
   },
   {
    "duration": 0,
    "start_time": "2024-09-08T13:06:45.841Z"
   },
   {
    "duration": 0,
    "start_time": "2024-09-08T13:06:45.842Z"
   },
   {
    "duration": 0,
    "start_time": "2024-09-08T13:06:45.843Z"
   },
   {
    "duration": 0,
    "start_time": "2024-09-08T13:06:45.844Z"
   },
   {
    "duration": 0,
    "start_time": "2024-09-08T13:06:45.845Z"
   },
   {
    "duration": 0,
    "start_time": "2024-09-08T13:06:45.846Z"
   },
   {
    "duration": 0,
    "start_time": "2024-09-08T13:06:45.846Z"
   },
   {
    "duration": 0,
    "start_time": "2024-09-08T13:06:45.847Z"
   },
   {
    "duration": 0,
    "start_time": "2024-09-08T13:06:45.849Z"
   },
   {
    "duration": 8520,
    "start_time": "2024-09-08T13:07:20.536Z"
   },
   {
    "duration": 53,
    "start_time": "2024-09-08T13:07:29.059Z"
   },
   {
    "duration": 12,
    "start_time": "2024-09-08T13:07:29.114Z"
   },
   {
    "duration": 24,
    "start_time": "2024-09-08T13:07:29.128Z"
   },
   {
    "duration": 12,
    "start_time": "2024-09-08T13:07:29.154Z"
   },
   {
    "duration": 13,
    "start_time": "2024-09-08T13:07:29.167Z"
   },
   {
    "duration": 319,
    "start_time": "2024-09-08T13:07:29.181Z"
   },
   {
    "duration": 7,
    "start_time": "2024-09-08T13:07:29.501Z"
   },
   {
    "duration": 10,
    "start_time": "2024-09-08T13:07:29.509Z"
   },
   {
    "duration": 403,
    "start_time": "2024-09-08T13:07:29.521Z"
   },
   {
    "duration": 5,
    "start_time": "2024-09-08T13:07:29.925Z"
   },
   {
    "duration": 170,
    "start_time": "2024-09-08T13:07:29.931Z"
   },
   {
    "duration": 152,
    "start_time": "2024-09-08T13:07:30.106Z"
   },
   {
    "duration": 261,
    "start_time": "2024-09-08T13:07:30.259Z"
   },
   {
    "duration": 9,
    "start_time": "2024-09-08T13:07:30.521Z"
   },
   {
    "duration": 18,
    "start_time": "2024-09-08T13:07:30.531Z"
   },
   {
    "duration": 16,
    "start_time": "2024-09-08T13:07:30.550Z"
   },
   {
    "duration": 16,
    "start_time": "2024-09-08T13:07:30.567Z"
   },
   {
    "duration": 8,
    "start_time": "2024-09-08T13:07:30.584Z"
   },
   {
    "duration": 6,
    "start_time": "2024-09-08T13:07:30.593Z"
   },
   {
    "duration": 4,
    "start_time": "2024-09-08T13:07:30.600Z"
   },
   {
    "duration": 14,
    "start_time": "2024-09-08T13:07:30.605Z"
   },
   {
    "duration": 25,
    "start_time": "2024-09-08T13:07:30.620Z"
   },
   {
    "duration": 120,
    "start_time": "2024-09-08T13:07:30.646Z"
   },
   {
    "duration": 0,
    "start_time": "2024-09-08T13:07:30.768Z"
   },
   {
    "duration": 0,
    "start_time": "2024-09-08T13:07:30.769Z"
   },
   {
    "duration": 0,
    "start_time": "2024-09-08T13:07:30.770Z"
   },
   {
    "duration": 0,
    "start_time": "2024-09-08T13:07:30.771Z"
   },
   {
    "duration": 0,
    "start_time": "2024-09-08T13:07:30.772Z"
   },
   {
    "duration": 0,
    "start_time": "2024-09-08T13:07:30.773Z"
   },
   {
    "duration": 0,
    "start_time": "2024-09-08T13:07:30.774Z"
   },
   {
    "duration": 0,
    "start_time": "2024-09-08T13:07:30.774Z"
   },
   {
    "duration": 0,
    "start_time": "2024-09-08T13:07:30.775Z"
   },
   {
    "duration": 0,
    "start_time": "2024-09-08T13:07:30.777Z"
   },
   {
    "duration": 0,
    "start_time": "2024-09-08T13:07:30.778Z"
   },
   {
    "duration": 0,
    "start_time": "2024-09-08T13:07:30.779Z"
   },
   {
    "duration": 0,
    "start_time": "2024-09-08T13:07:30.780Z"
   },
   {
    "duration": 0,
    "start_time": "2024-09-08T13:07:30.781Z"
   },
   {
    "duration": 0,
    "start_time": "2024-09-08T13:07:30.782Z"
   },
   {
    "duration": 0,
    "start_time": "2024-09-08T13:07:30.783Z"
   },
   {
    "duration": 0,
    "start_time": "2024-09-08T13:07:30.807Z"
   },
   {
    "duration": 0,
    "start_time": "2024-09-08T13:07:30.808Z"
   },
   {
    "duration": 0,
    "start_time": "2024-09-08T13:07:30.809Z"
   },
   {
    "duration": 0,
    "start_time": "2024-09-08T13:07:30.810Z"
   },
   {
    "duration": 0,
    "start_time": "2024-09-08T13:07:30.811Z"
   },
   {
    "duration": 0,
    "start_time": "2024-09-08T13:07:30.812Z"
   },
   {
    "duration": 7480,
    "start_time": "2024-09-08T13:18:23.382Z"
   },
   {
    "duration": 54,
    "start_time": "2024-09-08T13:18:30.865Z"
   },
   {
    "duration": 7,
    "start_time": "2024-09-08T13:18:30.921Z"
   },
   {
    "duration": 32,
    "start_time": "2024-09-08T13:18:30.930Z"
   },
   {
    "duration": 25,
    "start_time": "2024-09-08T13:18:30.964Z"
   },
   {
    "duration": 22,
    "start_time": "2024-09-08T13:18:30.990Z"
   },
   {
    "duration": 319,
    "start_time": "2024-09-08T13:18:31.015Z"
   },
   {
    "duration": 8,
    "start_time": "2024-09-08T13:18:31.335Z"
   },
   {
    "duration": 39,
    "start_time": "2024-09-08T13:18:31.344Z"
   },
   {
    "duration": 360,
    "start_time": "2024-09-08T13:18:31.386Z"
   },
   {
    "duration": 5,
    "start_time": "2024-09-08T13:18:31.747Z"
   },
   {
    "duration": 166,
    "start_time": "2024-09-08T13:18:31.753Z"
   },
   {
    "duration": 251,
    "start_time": "2024-09-08T13:18:31.921Z"
   },
   {
    "duration": 281,
    "start_time": "2024-09-08T13:18:32.173Z"
   },
   {
    "duration": 9,
    "start_time": "2024-09-08T13:18:32.455Z"
   },
   {
    "duration": 34,
    "start_time": "2024-09-08T13:18:32.466Z"
   },
   {
    "duration": 32,
    "start_time": "2024-09-08T13:18:32.502Z"
   },
   {
    "duration": 38,
    "start_time": "2024-09-08T13:18:32.536Z"
   },
   {
    "duration": 13,
    "start_time": "2024-09-08T13:18:32.575Z"
   },
   {
    "duration": 25,
    "start_time": "2024-09-08T13:18:32.590Z"
   },
   {
    "duration": 9,
    "start_time": "2024-09-08T13:18:32.616Z"
   },
   {
    "duration": 32,
    "start_time": "2024-09-08T13:18:32.626Z"
   },
   {
    "duration": 23,
    "start_time": "2024-09-08T13:18:32.659Z"
   },
   {
    "duration": 9,
    "start_time": "2024-09-08T13:18:32.684Z"
   },
   {
    "duration": 2800,
    "start_time": "2024-09-08T13:18:32.695Z"
   },
   {
    "duration": 17,
    "start_time": "2024-09-08T13:18:35.497Z"
   },
   {
    "duration": 26,
    "start_time": "2024-09-08T13:18:35.515Z"
   },
   {
    "duration": 27,
    "start_time": "2024-09-08T13:18:35.544Z"
   },
   {
    "duration": 26,
    "start_time": "2024-09-08T13:18:35.573Z"
   },
   {
    "duration": 19,
    "start_time": "2024-09-08T13:18:35.601Z"
   },
   {
    "duration": 15,
    "start_time": "2024-09-08T13:18:35.621Z"
   },
   {
    "duration": 174071,
    "start_time": "2024-09-08T13:18:35.638Z"
   },
   {
    "duration": 3,
    "start_time": "2024-09-08T13:21:29.711Z"
   },
   {
    "duration": 5,
    "start_time": "2024-09-08T13:21:29.716Z"
   },
   {
    "duration": 19,
    "start_time": "2024-09-08T13:21:29.722Z"
   },
   {
    "duration": 4,
    "start_time": "2024-09-08T13:21:29.808Z"
   },
   {
    "duration": 5,
    "start_time": "2024-09-08T13:21:29.814Z"
   },
   {
    "duration": 7,
    "start_time": "2024-09-08T13:21:29.820Z"
   },
   {
    "duration": 21,
    "start_time": "2024-09-08T13:21:29.828Z"
   },
   {
    "duration": 4,
    "start_time": "2024-09-08T13:21:29.850Z"
   },
   {
    "duration": 16,
    "start_time": "2024-09-08T13:21:29.856Z"
   },
   {
    "duration": 4,
    "start_time": "2024-09-08T13:21:29.874Z"
   },
   {
    "duration": 5,
    "start_time": "2024-09-08T13:21:29.880Z"
   },
   {
    "duration": 11,
    "start_time": "2024-09-08T13:21:29.908Z"
   },
   {
    "duration": 4,
    "start_time": "2024-09-08T13:21:29.920Z"
   },
   {
    "duration": 6,
    "start_time": "2024-09-08T13:21:29.925Z"
   },
   {
    "duration": 49,
    "start_time": "2024-09-08T15:36:59.182Z"
   },
   {
    "duration": 16169,
    "start_time": "2024-09-08T15:37:43.526Z"
   },
   {
    "duration": 178,
    "start_time": "2024-09-08T15:37:59.697Z"
   },
   {
    "duration": 12,
    "start_time": "2024-09-08T15:37:59.877Z"
   },
   {
    "duration": 10,
    "start_time": "2024-09-08T15:37:59.891Z"
   },
   {
    "duration": 14,
    "start_time": "2024-09-08T15:37:59.903Z"
   },
   {
    "duration": 9,
    "start_time": "2024-09-08T15:37:59.918Z"
   },
   {
    "duration": 394,
    "start_time": "2024-09-08T15:37:59.928Z"
   },
   {
    "duration": 8,
    "start_time": "2024-09-08T15:38:00.323Z"
   },
   {
    "duration": 59,
    "start_time": "2024-09-08T15:38:00.332Z"
   },
   {
    "duration": 446,
    "start_time": "2024-09-08T15:38:00.393Z"
   },
   {
    "duration": 4,
    "start_time": "2024-09-08T15:38:00.841Z"
   },
   {
    "duration": 178,
    "start_time": "2024-09-08T15:38:00.847Z"
   },
   {
    "duration": 171,
    "start_time": "2024-09-08T15:38:01.027Z"
   },
   {
    "duration": 283,
    "start_time": "2024-09-08T15:38:01.200Z"
   },
   {
    "duration": 9,
    "start_time": "2024-09-08T15:38:01.485Z"
   },
   {
    "duration": 3,
    "start_time": "2024-09-08T15:38:01.496Z"
   },
   {
    "duration": 55,
    "start_time": "2024-09-08T15:38:01.501Z"
   },
   {
    "duration": 0,
    "start_time": "2024-09-08T15:38:01.557Z"
   },
   {
    "duration": 0,
    "start_time": "2024-09-08T15:38:01.559Z"
   },
   {
    "duration": 0,
    "start_time": "2024-09-08T15:38:01.560Z"
   },
   {
    "duration": 0,
    "start_time": "2024-09-08T15:38:01.561Z"
   },
   {
    "duration": 0,
    "start_time": "2024-09-08T15:38:01.563Z"
   },
   {
    "duration": 0,
    "start_time": "2024-09-08T15:38:01.563Z"
   },
   {
    "duration": 0,
    "start_time": "2024-09-08T15:38:01.565Z"
   },
   {
    "duration": 1,
    "start_time": "2024-09-08T15:38:01.565Z"
   },
   {
    "duration": 0,
    "start_time": "2024-09-08T15:38:01.566Z"
   },
   {
    "duration": 0,
    "start_time": "2024-09-08T15:38:01.568Z"
   },
   {
    "duration": 0,
    "start_time": "2024-09-08T15:38:01.569Z"
   },
   {
    "duration": 0,
    "start_time": "2024-09-08T15:38:01.570Z"
   },
   {
    "duration": 0,
    "start_time": "2024-09-08T15:38:01.571Z"
   },
   {
    "duration": 0,
    "start_time": "2024-09-08T15:38:01.572Z"
   },
   {
    "duration": 0,
    "start_time": "2024-09-08T15:38:01.574Z"
   },
   {
    "duration": 0,
    "start_time": "2024-09-08T15:38:01.575Z"
   },
   {
    "duration": 0,
    "start_time": "2024-09-08T15:38:01.576Z"
   },
   {
    "duration": 0,
    "start_time": "2024-09-08T15:38:01.577Z"
   },
   {
    "duration": 0,
    "start_time": "2024-09-08T15:38:01.578Z"
   },
   {
    "duration": 0,
    "start_time": "2024-09-08T15:38:01.579Z"
   },
   {
    "duration": 0,
    "start_time": "2024-09-08T15:38:01.580Z"
   },
   {
    "duration": 0,
    "start_time": "2024-09-08T15:38:01.581Z"
   },
   {
    "duration": 0,
    "start_time": "2024-09-08T15:38:01.582Z"
   },
   {
    "duration": 0,
    "start_time": "2024-09-08T15:38:01.583Z"
   },
   {
    "duration": 0,
    "start_time": "2024-09-08T15:38:01.585Z"
   },
   {
    "duration": 0,
    "start_time": "2024-09-08T15:38:01.586Z"
   },
   {
    "duration": 0,
    "start_time": "2024-09-08T15:38:01.587Z"
   },
   {
    "duration": 0,
    "start_time": "2024-09-08T15:38:01.588Z"
   },
   {
    "duration": 7996,
    "start_time": "2024-09-08T15:38:37.434Z"
   },
   {
    "duration": 55,
    "start_time": "2024-09-08T15:38:45.432Z"
   },
   {
    "duration": 8,
    "start_time": "2024-09-08T15:38:45.488Z"
   },
   {
    "duration": 36,
    "start_time": "2024-09-08T15:38:45.497Z"
   },
   {
    "duration": 48,
    "start_time": "2024-09-08T15:38:45.535Z"
   },
   {
    "duration": 8,
    "start_time": "2024-09-08T15:38:45.585Z"
   },
   {
    "duration": 315,
    "start_time": "2024-09-08T15:38:45.595Z"
   },
   {
    "duration": 13,
    "start_time": "2024-09-08T15:38:45.912Z"
   },
   {
    "duration": 9,
    "start_time": "2024-09-08T15:38:45.927Z"
   },
   {
    "duration": 373,
    "start_time": "2024-09-08T15:38:45.937Z"
   },
   {
    "duration": 13,
    "start_time": "2024-09-08T15:38:46.312Z"
   },
   {
    "duration": 177,
    "start_time": "2024-09-08T15:38:46.327Z"
   },
   {
    "duration": 282,
    "start_time": "2024-09-08T15:38:46.506Z"
   },
   {
    "duration": 271,
    "start_time": "2024-09-08T15:38:46.791Z"
   },
   {
    "duration": 11,
    "start_time": "2024-09-08T15:38:47.064Z"
   },
   {
    "duration": 3,
    "start_time": "2024-09-08T15:38:47.077Z"
   },
   {
    "duration": 12539,
    "start_time": "2024-09-08T15:38:47.082Z"
   },
   {
    "duration": 33,
    "start_time": "2024-09-08T15:38:59.626Z"
   },
   {
    "duration": 120,
    "start_time": "2024-09-08T15:38:59.660Z"
   },
   {
    "duration": 0,
    "start_time": "2024-09-08T15:38:59.782Z"
   },
   {
    "duration": 0,
    "start_time": "2024-09-08T15:38:59.783Z"
   },
   {
    "duration": 0,
    "start_time": "2024-09-08T15:38:59.784Z"
   },
   {
    "duration": 0,
    "start_time": "2024-09-08T15:38:59.785Z"
   },
   {
    "duration": 0,
    "start_time": "2024-09-08T15:38:59.786Z"
   },
   {
    "duration": 0,
    "start_time": "2024-09-08T15:38:59.787Z"
   },
   {
    "duration": 0,
    "start_time": "2024-09-08T15:38:59.788Z"
   },
   {
    "duration": 0,
    "start_time": "2024-09-08T15:38:59.789Z"
   },
   {
    "duration": 0,
    "start_time": "2024-09-08T15:38:59.790Z"
   },
   {
    "duration": 0,
    "start_time": "2024-09-08T15:38:59.791Z"
   },
   {
    "duration": 0,
    "start_time": "2024-09-08T15:38:59.793Z"
   },
   {
    "duration": 0,
    "start_time": "2024-09-08T15:38:59.793Z"
   },
   {
    "duration": 0,
    "start_time": "2024-09-08T15:38:59.794Z"
   },
   {
    "duration": 0,
    "start_time": "2024-09-08T15:38:59.796Z"
   },
   {
    "duration": 0,
    "start_time": "2024-09-08T15:38:59.797Z"
   },
   {
    "duration": 0,
    "start_time": "2024-09-08T15:38:59.826Z"
   },
   {
    "duration": 0,
    "start_time": "2024-09-08T15:38:59.827Z"
   },
   {
    "duration": 0,
    "start_time": "2024-09-08T15:38:59.828Z"
   },
   {
    "duration": 0,
    "start_time": "2024-09-08T15:38:59.829Z"
   },
   {
    "duration": 0,
    "start_time": "2024-09-08T15:38:59.830Z"
   },
   {
    "duration": 0,
    "start_time": "2024-09-08T15:38:59.831Z"
   },
   {
    "duration": 0,
    "start_time": "2024-09-08T15:38:59.832Z"
   },
   {
    "duration": 0,
    "start_time": "2024-09-08T15:38:59.833Z"
   },
   {
    "duration": 0,
    "start_time": "2024-09-08T15:38:59.834Z"
   },
   {
    "duration": 0,
    "start_time": "2024-09-08T15:38:59.835Z"
   },
   {
    "duration": 0,
    "start_time": "2024-09-08T15:38:59.836Z"
   },
   {
    "duration": 10,
    "start_time": "2024-09-08T15:42:03.754Z"
   },
   {
    "duration": 7774,
    "start_time": "2024-09-08T15:42:19.237Z"
   },
   {
    "duration": 55,
    "start_time": "2024-09-08T15:42:27.014Z"
   },
   {
    "duration": 8,
    "start_time": "2024-09-08T15:42:27.071Z"
   },
   {
    "duration": 13,
    "start_time": "2024-09-08T15:42:27.081Z"
   },
   {
    "duration": 10,
    "start_time": "2024-09-08T15:42:27.095Z"
   },
   {
    "duration": 8,
    "start_time": "2024-09-08T15:42:27.106Z"
   },
   {
    "duration": 343,
    "start_time": "2024-09-08T15:42:27.115Z"
   },
   {
    "duration": 7,
    "start_time": "2024-09-08T15:42:27.459Z"
   },
   {
    "duration": 8,
    "start_time": "2024-09-08T15:42:27.468Z"
   },
   {
    "duration": 380,
    "start_time": "2024-09-08T15:42:27.478Z"
   },
   {
    "duration": 5,
    "start_time": "2024-09-08T15:42:27.859Z"
   },
   {
    "duration": 198,
    "start_time": "2024-09-08T15:42:27.866Z"
   },
   {
    "duration": 172,
    "start_time": "2024-09-08T15:42:28.066Z"
   },
   {
    "duration": 280,
    "start_time": "2024-09-08T15:42:28.240Z"
   },
   {
    "duration": 9,
    "start_time": "2024-09-08T15:42:28.525Z"
   },
   {
    "duration": 3,
    "start_time": "2024-09-08T15:42:28.536Z"
   },
   {
    "duration": 12980,
    "start_time": "2024-09-08T15:42:28.540Z"
   },
   {
    "duration": 30,
    "start_time": "2024-09-08T15:42:41.525Z"
   },
   {
    "duration": 6,
    "start_time": "2024-09-08T15:42:41.557Z"
   },
   {
    "duration": 6,
    "start_time": "2024-09-08T15:42:41.564Z"
   },
   {
    "duration": 4,
    "start_time": "2024-09-08T15:42:41.571Z"
   },
   {
    "duration": 5,
    "start_time": "2024-09-08T15:42:41.576Z"
   },
   {
    "duration": 2903,
    "start_time": "2024-09-08T15:42:41.583Z"
   },
   {
    "duration": 1778,
    "start_time": "2024-09-08T15:42:44.487Z"
   },
   {
    "duration": 3,
    "start_time": "2024-09-08T15:42:46.266Z"
   },
   {
    "duration": 4,
    "start_time": "2024-09-08T15:42:46.270Z"
   },
   {
    "duration": 7,
    "start_time": "2024-09-08T15:42:46.275Z"
   },
   {
    "duration": 53647,
    "start_time": "2024-09-08T15:42:46.286Z"
   },
   {
    "duration": 3,
    "start_time": "2024-09-08T15:43:39.934Z"
   },
   {
    "duration": 8,
    "start_time": "2024-09-08T15:43:39.938Z"
   },
   {
    "duration": 86,
    "start_time": "2024-09-08T15:43:39.948Z"
   },
   {
    "duration": 4,
    "start_time": "2024-09-08T15:43:40.035Z"
   },
   {
    "duration": 5,
    "start_time": "2024-09-08T15:43:40.040Z"
   },
   {
    "duration": 6,
    "start_time": "2024-09-08T15:43:40.046Z"
   },
   {
    "duration": 73,
    "start_time": "2024-09-08T15:43:40.053Z"
   },
   {
    "duration": 0,
    "start_time": "2024-09-08T15:43:40.128Z"
   },
   {
    "duration": 0,
    "start_time": "2024-09-08T15:43:40.129Z"
   },
   {
    "duration": 1,
    "start_time": "2024-09-08T15:43:40.130Z"
   },
   {
    "duration": 0,
    "start_time": "2024-09-08T15:43:40.132Z"
   },
   {
    "duration": 0,
    "start_time": "2024-09-08T15:43:40.134Z"
   },
   {
    "duration": 0,
    "start_time": "2024-09-08T15:43:40.135Z"
   },
   {
    "duration": 0,
    "start_time": "2024-09-08T15:43:40.136Z"
   },
   {
    "duration": 7744,
    "start_time": "2024-09-08T15:44:27.962Z"
   },
   {
    "duration": 53,
    "start_time": "2024-09-08T15:44:35.708Z"
   },
   {
    "duration": 8,
    "start_time": "2024-09-08T15:44:35.762Z"
   },
   {
    "duration": 27,
    "start_time": "2024-09-08T15:44:35.771Z"
   },
   {
    "duration": 18,
    "start_time": "2024-09-08T15:44:35.800Z"
   },
   {
    "duration": 18,
    "start_time": "2024-09-08T15:44:35.819Z"
   },
   {
    "duration": 432,
    "start_time": "2024-09-08T15:44:35.839Z"
   },
   {
    "duration": 7,
    "start_time": "2024-09-08T15:44:36.272Z"
   },
   {
    "duration": 6,
    "start_time": "2024-09-08T15:44:36.281Z"
   },
   {
    "duration": 382,
    "start_time": "2024-09-08T15:44:36.289Z"
   },
   {
    "duration": 5,
    "start_time": "2024-09-08T15:44:36.672Z"
   },
   {
    "duration": 178,
    "start_time": "2024-09-08T15:44:36.679Z"
   },
   {
    "duration": 177,
    "start_time": "2024-09-08T15:44:36.858Z"
   },
   {
    "duration": 282,
    "start_time": "2024-09-08T15:44:37.038Z"
   },
   {
    "duration": 9,
    "start_time": "2024-09-08T15:44:37.325Z"
   },
   {
    "duration": 5,
    "start_time": "2024-09-08T15:44:37.335Z"
   },
   {
    "duration": 12777,
    "start_time": "2024-09-08T15:44:37.341Z"
   },
   {
    "duration": 35,
    "start_time": "2024-09-08T15:44:50.120Z"
   },
   {
    "duration": 7,
    "start_time": "2024-09-08T15:44:50.157Z"
   },
   {
    "duration": 13,
    "start_time": "2024-09-08T15:44:50.166Z"
   },
   {
    "duration": 9,
    "start_time": "2024-09-08T15:44:50.181Z"
   },
   {
    "duration": 7,
    "start_time": "2024-09-08T15:44:50.193Z"
   },
   {
    "duration": 2827,
    "start_time": "2024-09-08T15:44:50.202Z"
   },
   {
    "duration": 1720,
    "start_time": "2024-09-08T15:44:53.030Z"
   },
   {
    "duration": 3,
    "start_time": "2024-09-08T15:44:54.751Z"
   },
   {
    "duration": 6,
    "start_time": "2024-09-08T15:44:54.755Z"
   },
   {
    "duration": 17,
    "start_time": "2024-09-08T15:44:54.762Z"
   },
   {
    "duration": 51850,
    "start_time": "2024-09-08T15:44:54.781Z"
   },
   {
    "duration": 3,
    "start_time": "2024-09-08T15:45:46.633Z"
   },
   {
    "duration": 18,
    "start_time": "2024-09-08T15:45:46.638Z"
   },
   {
    "duration": 79,
    "start_time": "2024-09-08T15:45:46.658Z"
   },
   {
    "duration": 4,
    "start_time": "2024-09-08T15:45:46.738Z"
   },
   {
    "duration": 8,
    "start_time": "2024-09-08T15:45:46.744Z"
   },
   {
    "duration": 13,
    "start_time": "2024-09-08T15:45:46.753Z"
   },
   {
    "duration": 21,
    "start_time": "2024-09-08T15:45:46.767Z"
   },
   {
    "duration": 0,
    "start_time": "2024-09-08T15:45:46.790Z"
   },
   {
    "duration": 0,
    "start_time": "2024-09-08T15:45:46.791Z"
   },
   {
    "duration": 0,
    "start_time": "2024-09-08T15:45:46.792Z"
   },
   {
    "duration": 0,
    "start_time": "2024-09-08T15:45:46.793Z"
   },
   {
    "duration": 0,
    "start_time": "2024-09-08T15:45:46.826Z"
   },
   {
    "duration": 0,
    "start_time": "2024-09-08T15:45:46.827Z"
   },
   {
    "duration": 0,
    "start_time": "2024-09-08T15:45:46.829Z"
   },
   {
    "duration": 4,
    "start_time": "2024-09-08T15:46:43.821Z"
   },
   {
    "duration": 4,
    "start_time": "2024-09-08T15:47:03.872Z"
   },
   {
    "duration": 3,
    "start_time": "2024-09-08T15:47:27.493Z"
   },
   {
    "duration": 1805,
    "start_time": "2024-09-08T15:49:00.845Z"
   },
   {
    "duration": 37904,
    "start_time": "2024-09-08T15:50:15.540Z"
   },
   {
    "duration": 9190,
    "start_time": "2024-09-08T15:55:27.511Z"
   },
   {
    "duration": 57,
    "start_time": "2024-09-08T15:55:36.704Z"
   },
   {
    "duration": 12,
    "start_time": "2024-09-08T15:55:36.762Z"
   },
   {
    "duration": 18,
    "start_time": "2024-09-08T15:55:36.776Z"
   },
   {
    "duration": 20,
    "start_time": "2024-09-08T15:55:36.796Z"
   },
   {
    "duration": 10,
    "start_time": "2024-09-08T15:55:36.817Z"
   },
   {
    "duration": 342,
    "start_time": "2024-09-08T15:55:36.828Z"
   },
   {
    "duration": 8,
    "start_time": "2024-09-08T15:55:37.172Z"
   },
   {
    "duration": 26,
    "start_time": "2024-09-08T15:55:37.182Z"
   },
   {
    "duration": 441,
    "start_time": "2024-09-08T15:55:37.211Z"
   },
   {
    "duration": 6,
    "start_time": "2024-09-08T15:55:37.654Z"
   },
   {
    "duration": 174,
    "start_time": "2024-09-08T15:55:37.662Z"
   },
   {
    "duration": 176,
    "start_time": "2024-09-08T15:55:37.838Z"
   },
   {
    "duration": 274,
    "start_time": "2024-09-08T15:55:38.016Z"
   },
   {
    "duration": 9,
    "start_time": "2024-09-08T15:55:38.292Z"
   },
   {
    "duration": 3,
    "start_time": "2024-09-08T15:55:38.303Z"
   },
   {
    "duration": 12736,
    "start_time": "2024-09-08T15:55:38.325Z"
   },
   {
    "duration": 31,
    "start_time": "2024-09-08T15:55:51.063Z"
   },
   {
    "duration": 12,
    "start_time": "2024-09-08T15:55:51.096Z"
   },
   {
    "duration": 15,
    "start_time": "2024-09-08T15:55:51.110Z"
   },
   {
    "duration": 5,
    "start_time": "2024-09-08T15:55:51.127Z"
   },
   {
    "duration": 4,
    "start_time": "2024-09-08T15:55:51.134Z"
   },
   {
    "duration": 2887,
    "start_time": "2024-09-08T15:55:51.139Z"
   },
   {
    "duration": 1752,
    "start_time": "2024-09-08T15:55:54.027Z"
   },
   {
    "duration": 3,
    "start_time": "2024-09-08T15:55:55.781Z"
   },
   {
    "duration": 5,
    "start_time": "2024-09-08T15:55:55.785Z"
   },
   {
    "duration": 2,
    "start_time": "2024-09-08T15:55:55.792Z"
   },
   {
    "duration": 57138,
    "start_time": "2024-09-08T15:55:55.797Z"
   },
   {
    "duration": 3,
    "start_time": "2024-09-08T15:56:52.937Z"
   },
   {
    "duration": 4,
    "start_time": "2024-09-08T15:56:53.026Z"
   },
   {
    "duration": 32194,
    "start_time": "2024-09-08T15:56:53.032Z"
   },
   {
    "duration": 5,
    "start_time": "2024-09-08T15:57:25.228Z"
   },
   {
    "duration": 9,
    "start_time": "2024-09-08T15:57:25.234Z"
   },
   {
    "duration": 4,
    "start_time": "2024-09-08T15:57:25.245Z"
   },
   {
    "duration": 39909,
    "start_time": "2024-09-08T15:57:43.622Z"
   },
   {
    "duration": 9025,
    "start_time": "2024-09-08T16:13:40.367Z"
   },
   {
    "duration": 55,
    "start_time": "2024-09-08T16:13:49.395Z"
   },
   {
    "duration": 12,
    "start_time": "2024-09-08T16:13:49.451Z"
   },
   {
    "duration": 10,
    "start_time": "2024-09-08T16:13:49.465Z"
   },
   {
    "duration": 13,
    "start_time": "2024-09-08T16:13:49.477Z"
   },
   {
    "duration": 35,
    "start_time": "2024-09-08T16:13:49.491Z"
   },
   {
    "duration": 366,
    "start_time": "2024-09-08T16:13:49.528Z"
   },
   {
    "duration": 8,
    "start_time": "2024-09-08T16:13:49.895Z"
   },
   {
    "duration": 7,
    "start_time": "2024-09-08T16:13:49.904Z"
   },
   {
    "duration": 457,
    "start_time": "2024-09-08T16:13:49.912Z"
   },
   {
    "duration": 5,
    "start_time": "2024-09-08T16:13:50.370Z"
   },
   {
    "duration": 184,
    "start_time": "2024-09-08T16:13:50.377Z"
   },
   {
    "duration": 175,
    "start_time": "2024-09-08T16:13:50.562Z"
   },
   {
    "duration": 272,
    "start_time": "2024-09-08T16:13:50.740Z"
   },
   {
    "duration": 19,
    "start_time": "2024-09-08T16:13:51.014Z"
   },
   {
    "duration": 4,
    "start_time": "2024-09-08T16:13:51.034Z"
   },
   {
    "duration": 12829,
    "start_time": "2024-09-08T16:13:51.039Z"
   },
   {
    "duration": 31,
    "start_time": "2024-09-08T16:14:03.870Z"
   },
   {
    "duration": 24,
    "start_time": "2024-09-08T16:14:03.902Z"
   },
   {
    "duration": 4,
    "start_time": "2024-09-08T16:14:03.927Z"
   },
   {
    "duration": 3,
    "start_time": "2024-09-08T16:14:03.933Z"
   },
   {
    "duration": 3,
    "start_time": "2024-09-08T16:14:03.938Z"
   },
   {
    "duration": 2923,
    "start_time": "2024-09-08T16:14:03.943Z"
   },
   {
    "duration": 1816,
    "start_time": "2024-09-08T16:14:06.868Z"
   },
   {
    "duration": 3,
    "start_time": "2024-09-08T16:14:08.686Z"
   },
   {
    "duration": 16,
    "start_time": "2024-09-08T16:14:08.690Z"
   },
   {
    "duration": 10,
    "start_time": "2024-09-08T16:14:08.708Z"
   },
   {
    "duration": 55915,
    "start_time": "2024-09-08T16:14:08.719Z"
   },
   {
    "duration": 90,
    "start_time": "2024-09-08T16:15:04.636Z"
   },
   {
    "duration": 15,
    "start_time": "2024-09-08T16:15:04.727Z"
   },
   {
    "duration": 13,
    "start_time": "2024-09-08T16:15:04.744Z"
   },
   {
    "duration": 6,
    "start_time": "2024-09-08T16:15:04.759Z"
   },
   {
    "duration": 3,
    "start_time": "2024-09-08T16:15:04.767Z"
   },
   {
    "duration": 54,
    "start_time": "2024-09-09T11:35:44.909Z"
   },
   {
    "duration": 11,
    "start_time": "2024-09-09T11:58:50.375Z"
   },
   {
    "duration": 16280,
    "start_time": "2024-09-09T11:58:57.421Z"
   },
   {
    "duration": 103,
    "start_time": "2024-09-09T11:59:13.704Z"
   },
   {
    "duration": 12,
    "start_time": "2024-09-09T11:59:13.809Z"
   },
   {
    "duration": 155,
    "start_time": "2024-09-09T11:59:13.824Z"
   },
   {
    "duration": 19,
    "start_time": "2024-09-09T11:59:13.980Z"
   },
   {
    "duration": 11,
    "start_time": "2024-09-09T11:59:14.000Z"
   },
   {
    "duration": 365,
    "start_time": "2024-09-09T11:59:14.012Z"
   },
   {
    "duration": 7,
    "start_time": "2024-09-09T11:59:14.379Z"
   },
   {
    "duration": 64,
    "start_time": "2024-09-09T11:59:14.387Z"
   },
   {
    "duration": 23,
    "start_time": "2024-09-09T11:59:14.453Z"
   },
   {
    "duration": 487,
    "start_time": "2024-09-09T11:59:14.477Z"
   },
   {
    "duration": 6,
    "start_time": "2024-09-09T11:59:14.966Z"
   },
   {
    "duration": 210,
    "start_time": "2024-09-09T11:59:14.973Z"
   },
   {
    "duration": 184,
    "start_time": "2024-09-09T11:59:15.185Z"
   },
   {
    "duration": 9,
    "start_time": "2024-09-09T11:59:15.371Z"
   },
   {
    "duration": 322,
    "start_time": "2024-09-09T11:59:15.382Z"
   },
   {
    "duration": 9,
    "start_time": "2024-09-09T11:59:15.706Z"
   },
   {
    "duration": 180,
    "start_time": "2024-09-09T11:59:15.716Z"
   },
   {
    "duration": 13297,
    "start_time": "2024-09-09T11:59:15.897Z"
   },
   {
    "duration": 30,
    "start_time": "2024-09-09T11:59:29.196Z"
   },
   {
    "duration": 19,
    "start_time": "2024-09-09T11:59:29.227Z"
   },
   {
    "duration": 6,
    "start_time": "2024-09-09T11:59:29.247Z"
   },
   {
    "duration": 6,
    "start_time": "2024-09-09T11:59:29.254Z"
   },
   {
    "duration": 5,
    "start_time": "2024-09-09T11:59:29.261Z"
   },
   {
    "duration": 2897,
    "start_time": "2024-09-09T11:59:29.268Z"
   },
   {
    "duration": 1856,
    "start_time": "2024-09-09T11:59:32.166Z"
   },
   {
    "duration": 3,
    "start_time": "2024-09-09T11:59:34.024Z"
   },
   {
    "duration": 16,
    "start_time": "2024-09-09T11:59:34.030Z"
   },
   {
    "duration": 7,
    "start_time": "2024-09-09T11:59:34.051Z"
   },
   {
    "duration": 215489,
    "start_time": "2024-09-09T11:59:34.060Z"
   },
   {
    "duration": 2,
    "start_time": "2024-09-09T12:03:09.552Z"
   },
   {
    "duration": 8,
    "start_time": "2024-09-09T12:03:09.556Z"
   },
   {
    "duration": 15,
    "start_time": "2024-09-09T12:03:09.565Z"
   },
   {
    "duration": 26,
    "start_time": "2024-09-09T12:03:09.581Z"
   },
   {
    "duration": 4,
    "start_time": "2024-09-09T12:03:09.609Z"
   },
   {
    "duration": 3,
    "start_time": "2024-09-09T12:04:04.568Z"
   },
   {
    "duration": 4,
    "start_time": "2024-09-09T12:04:06.758Z"
   },
   {
    "duration": 3,
    "start_time": "2024-09-09T12:04:16.279Z"
   },
   {
    "duration": 7980,
    "start_time": "2024-09-09T12:07:33.898Z"
   },
   {
    "duration": 53,
    "start_time": "2024-09-09T12:07:41.880Z"
   },
   {
    "duration": 20,
    "start_time": "2024-09-09T12:07:41.935Z"
   },
   {
    "duration": 14,
    "start_time": "2024-09-09T12:07:41.957Z"
   },
   {
    "duration": 11,
    "start_time": "2024-09-09T12:07:41.973Z"
   },
   {
    "duration": 8,
    "start_time": "2024-09-09T12:07:41.985Z"
   },
   {
    "duration": 301,
    "start_time": "2024-09-09T12:07:41.994Z"
   },
   {
    "duration": 7,
    "start_time": "2024-09-09T12:07:42.296Z"
   },
   {
    "duration": 32,
    "start_time": "2024-09-09T12:07:42.304Z"
   },
   {
    "duration": 22,
    "start_time": "2024-09-09T12:07:42.338Z"
   },
   {
    "duration": 353,
    "start_time": "2024-09-09T12:07:42.361Z"
   },
   {
    "duration": 6,
    "start_time": "2024-09-09T12:07:42.716Z"
   },
   {
    "duration": 334,
    "start_time": "2024-09-09T12:07:42.723Z"
   },
   {
    "duration": 180,
    "start_time": "2024-09-09T12:07:43.060Z"
   },
   {
    "duration": 8,
    "start_time": "2024-09-09T12:07:43.246Z"
   },
   {
    "duration": 269,
    "start_time": "2024-09-09T12:07:43.256Z"
   },
   {
    "duration": 19,
    "start_time": "2024-09-09T12:07:43.527Z"
   },
   {
    "duration": 3,
    "start_time": "2024-09-09T12:07:43.549Z"
   },
   {
    "duration": 11,
    "start_time": "2024-09-09T12:07:43.553Z"
   },
   {
    "duration": 12821,
    "start_time": "2024-09-09T12:07:43.566Z"
   },
   {
    "duration": 28,
    "start_time": "2024-09-09T12:07:56.389Z"
   },
   {
    "duration": 3,
    "start_time": "2024-09-09T12:07:56.419Z"
   },
   {
    "duration": 22,
    "start_time": "2024-09-09T12:07:56.424Z"
   },
   {
    "duration": 15,
    "start_time": "2024-09-09T12:07:56.448Z"
   },
   {
    "duration": 13,
    "start_time": "2024-09-09T12:07:56.465Z"
   },
   {
    "duration": 2933,
    "start_time": "2024-09-09T12:07:56.479Z"
   },
   {
    "duration": 3,
    "start_time": "2024-09-09T12:07:59.413Z"
   },
   {
    "duration": 7,
    "start_time": "2024-09-09T12:07:59.419Z"
   },
   {
    "duration": 4,
    "start_time": "2024-09-09T12:07:59.427Z"
   },
   {
    "duration": 3,
    "start_time": "2024-09-09T12:07:59.446Z"
   },
   {
    "duration": 11,
    "start_time": "2024-09-09T12:07:59.451Z"
   },
   {
    "duration": 95382,
    "start_time": "2024-09-09T12:07:59.464Z"
   },
   {
    "duration": 2,
    "start_time": "2024-09-09T12:09:34.848Z"
   },
   {
    "duration": 33,
    "start_time": "2024-09-09T12:09:34.852Z"
   },
   {
    "duration": 22,
    "start_time": "2024-09-09T12:09:34.887Z"
   },
   {
    "duration": 31,
    "start_time": "2024-09-09T12:09:34.911Z"
   },
   {
    "duration": 20,
    "start_time": "2024-09-09T12:09:34.944Z"
   },
   {
    "duration": 27,
    "start_time": "2024-09-09T12:10:19.015Z"
   },
   {
    "duration": 110,
    "start_time": "2024-09-09T12:12:15.857Z"
   },
   {
    "duration": 28,
    "start_time": "2024-09-09T12:12:24.919Z"
   },
   {
    "duration": 7667,
    "start_time": "2024-09-09T12:13:45.039Z"
   },
   {
    "duration": 51,
    "start_time": "2024-09-09T12:13:52.709Z"
   },
   {
    "duration": 8,
    "start_time": "2024-09-09T12:13:52.761Z"
   },
   {
    "duration": 17,
    "start_time": "2024-09-09T12:13:52.771Z"
   },
   {
    "duration": 11,
    "start_time": "2024-09-09T12:13:52.790Z"
   },
   {
    "duration": 54,
    "start_time": "2024-09-09T12:13:52.802Z"
   },
   {
    "duration": 316,
    "start_time": "2024-09-09T12:13:52.857Z"
   },
   {
    "duration": 7,
    "start_time": "2024-09-09T12:13:53.175Z"
   },
   {
    "duration": 21,
    "start_time": "2024-09-09T12:13:53.183Z"
   },
   {
    "duration": 7,
    "start_time": "2024-09-09T12:13:53.207Z"
   },
   {
    "duration": 362,
    "start_time": "2024-09-09T12:13:53.215Z"
   },
   {
    "duration": 6,
    "start_time": "2024-09-09T12:13:53.579Z"
   },
   {
    "duration": 198,
    "start_time": "2024-09-09T12:13:53.587Z"
   },
   {
    "duration": 178,
    "start_time": "2024-09-09T12:13:53.787Z"
   },
   {
    "duration": 9,
    "start_time": "2024-09-09T12:13:53.966Z"
   },
   {
    "duration": 285,
    "start_time": "2024-09-09T12:13:53.977Z"
   },
   {
    "duration": 10,
    "start_time": "2024-09-09T12:13:54.264Z"
   },
   {
    "duration": 9,
    "start_time": "2024-09-09T12:13:54.276Z"
   },
   {
    "duration": 7,
    "start_time": "2024-09-09T12:13:54.286Z"
   },
   {
    "duration": 13143,
    "start_time": "2024-09-09T12:13:54.295Z"
   },
   {
    "duration": 32,
    "start_time": "2024-09-09T12:14:07.440Z"
   },
   {
    "duration": 12,
    "start_time": "2024-09-09T12:14:07.474Z"
   },
   {
    "duration": 12,
    "start_time": "2024-09-09T12:14:07.488Z"
   },
   {
    "duration": 18,
    "start_time": "2024-09-09T12:14:07.502Z"
   },
   {
    "duration": 12,
    "start_time": "2024-09-09T12:14:07.521Z"
   },
   {
    "duration": 2930,
    "start_time": "2024-09-09T12:14:07.535Z"
   },
   {
    "duration": 2,
    "start_time": "2024-09-09T12:14:10.467Z"
   },
   {
    "duration": 15,
    "start_time": "2024-09-09T12:14:10.473Z"
   },
   {
    "duration": 19,
    "start_time": "2024-09-09T12:14:10.489Z"
   },
   {
    "duration": 29,
    "start_time": "2024-09-09T12:14:10.510Z"
   },
   {
    "duration": 14,
    "start_time": "2024-09-09T12:14:10.541Z"
   },
   {
    "duration": 106995,
    "start_time": "2024-09-09T12:14:10.557Z"
   },
   {
    "duration": 3,
    "start_time": "2024-09-09T12:15:57.554Z"
   },
   {
    "duration": 7,
    "start_time": "2024-09-09T12:15:57.559Z"
   },
   {
    "duration": 11,
    "start_time": "2024-09-09T12:15:57.568Z"
   },
   {
    "duration": 66,
    "start_time": "2024-09-09T12:15:57.580Z"
   },
   {
    "duration": 20,
    "start_time": "2024-09-09T12:15:57.648Z"
   },
   {
    "duration": 9280,
    "start_time": "2024-09-09T12:33:32.077Z"
   },
   {
    "duration": 54,
    "start_time": "2024-09-09T12:33:41.359Z"
   },
   {
    "duration": 15,
    "start_time": "2024-09-09T12:33:41.414Z"
   },
   {
    "duration": 23,
    "start_time": "2024-09-09T12:33:41.431Z"
   },
   {
    "duration": 36,
    "start_time": "2024-09-09T12:33:41.455Z"
   },
   {
    "duration": 8,
    "start_time": "2024-09-09T12:33:41.493Z"
   },
   {
    "duration": 355,
    "start_time": "2024-09-09T12:33:41.502Z"
   },
   {
    "duration": 7,
    "start_time": "2024-09-09T12:33:41.858Z"
   },
   {
    "duration": 27,
    "start_time": "2024-09-09T12:33:41.866Z"
   },
   {
    "duration": 9,
    "start_time": "2024-09-09T12:33:41.896Z"
   },
   {
    "duration": 421,
    "start_time": "2024-09-09T12:33:41.906Z"
   },
   {
    "duration": 5,
    "start_time": "2024-09-09T12:33:42.328Z"
   },
   {
    "duration": 189,
    "start_time": "2024-09-09T12:33:42.335Z"
   },
   {
    "duration": 175,
    "start_time": "2024-09-09T12:33:42.526Z"
   },
   {
    "duration": 8,
    "start_time": "2024-09-09T12:33:42.702Z"
   },
   {
    "duration": 274,
    "start_time": "2024-09-09T12:33:42.712Z"
   },
   {
    "duration": 9,
    "start_time": "2024-09-09T12:33:42.988Z"
   },
   {
    "duration": 23,
    "start_time": "2024-09-09T12:33:42.999Z"
   },
   {
    "duration": 28,
    "start_time": "2024-09-09T12:33:43.023Z"
   },
   {
    "duration": 12742,
    "start_time": "2024-09-09T12:33:43.052Z"
   },
   {
    "duration": 26,
    "start_time": "2024-09-09T12:33:55.795Z"
   },
   {
    "duration": 9,
    "start_time": "2024-09-09T12:33:55.823Z"
   },
   {
    "duration": 9,
    "start_time": "2024-09-09T12:33:55.833Z"
   },
   {
    "duration": 10,
    "start_time": "2024-09-09T12:33:55.846Z"
   },
   {
    "duration": 41,
    "start_time": "2024-09-09T12:33:55.858Z"
   },
   {
    "duration": 3060,
    "start_time": "2024-09-09T12:33:55.901Z"
   },
   {
    "duration": 121,
    "start_time": "2024-09-09T12:33:58.963Z"
   },
   {
    "duration": 0,
    "start_time": "2024-09-09T12:33:59.086Z"
   },
   {
    "duration": 0,
    "start_time": "2024-09-09T12:33:59.087Z"
   },
   {
    "duration": 0,
    "start_time": "2024-09-09T12:33:59.088Z"
   },
   {
    "duration": 0,
    "start_time": "2024-09-09T12:33:59.090Z"
   },
   {
    "duration": 0,
    "start_time": "2024-09-09T12:33:59.091Z"
   },
   {
    "duration": 0,
    "start_time": "2024-09-09T12:33:59.092Z"
   },
   {
    "duration": 0,
    "start_time": "2024-09-09T12:33:59.093Z"
   },
   {
    "duration": 0,
    "start_time": "2024-09-09T12:33:59.094Z"
   },
   {
    "duration": 0,
    "start_time": "2024-09-09T12:33:59.096Z"
   },
   {
    "duration": 0,
    "start_time": "2024-09-09T12:33:59.097Z"
   },
   {
    "duration": 9178,
    "start_time": "2024-09-09T12:35:08.414Z"
   },
   {
    "duration": 70,
    "start_time": "2024-09-09T12:35:17.595Z"
   },
   {
    "duration": 16,
    "start_time": "2024-09-09T12:35:17.667Z"
   },
   {
    "duration": 18,
    "start_time": "2024-09-09T12:35:17.686Z"
   },
   {
    "duration": 55,
    "start_time": "2024-09-09T12:35:17.705Z"
   },
   {
    "duration": 15,
    "start_time": "2024-09-09T12:35:17.762Z"
   },
   {
    "duration": 350,
    "start_time": "2024-09-09T12:35:17.779Z"
   },
   {
    "duration": 7,
    "start_time": "2024-09-09T12:35:18.130Z"
   },
   {
    "duration": 87,
    "start_time": "2024-09-09T12:35:18.139Z"
   },
   {
    "duration": 109,
    "start_time": "2024-09-09T12:35:18.229Z"
   },
   {
    "duration": 529,
    "start_time": "2024-09-09T12:35:18.339Z"
   },
   {
    "duration": 5,
    "start_time": "2024-09-09T12:35:18.870Z"
   },
   {
    "duration": 188,
    "start_time": "2024-09-09T12:35:18.877Z"
   },
   {
    "duration": 175,
    "start_time": "2024-09-09T12:35:19.067Z"
   },
   {
    "duration": 9,
    "start_time": "2024-09-09T12:35:19.244Z"
   },
   {
    "duration": 279,
    "start_time": "2024-09-09T12:35:19.255Z"
   },
   {
    "duration": 10,
    "start_time": "2024-09-09T12:35:19.547Z"
   },
   {
    "duration": 68,
    "start_time": "2024-09-09T12:35:19.559Z"
   },
   {
    "duration": 29,
    "start_time": "2024-09-09T12:35:19.629Z"
   },
   {
    "duration": 12753,
    "start_time": "2024-09-09T12:35:19.660Z"
   },
   {
    "duration": 34,
    "start_time": "2024-09-09T12:35:32.415Z"
   },
   {
    "duration": 10,
    "start_time": "2024-09-09T12:35:32.451Z"
   },
   {
    "duration": 13,
    "start_time": "2024-09-09T12:35:32.463Z"
   },
   {
    "duration": 17,
    "start_time": "2024-09-09T12:35:32.477Z"
   },
   {
    "duration": 23,
    "start_time": "2024-09-09T12:35:32.496Z"
   },
   {
    "duration": 2826,
    "start_time": "2024-09-09T12:35:32.521Z"
   },
   {
    "duration": 3,
    "start_time": "2024-09-09T12:35:35.348Z"
   },
   {
    "duration": 36,
    "start_time": "2024-09-09T12:35:35.354Z"
   },
   {
    "duration": 23,
    "start_time": "2024-09-09T12:35:35.391Z"
   },
   {
    "duration": 12,
    "start_time": "2024-09-09T12:35:35.415Z"
   },
   {
    "duration": 36,
    "start_time": "2024-09-09T12:35:35.429Z"
   },
   {
    "duration": 103288,
    "start_time": "2024-09-09T12:35:35.466Z"
   },
   {
    "duration": 4,
    "start_time": "2024-09-09T12:37:18.756Z"
   },
   {
    "duration": 17,
    "start_time": "2024-09-09T12:37:18.762Z"
   },
   {
    "duration": 33,
    "start_time": "2024-09-09T12:37:18.846Z"
   },
   {
    "duration": 32,
    "start_time": "2024-09-09T12:37:18.881Z"
   },
   {
    "duration": 20,
    "start_time": "2024-09-09T12:37:18.914Z"
   },
   {
    "duration": 15598,
    "start_time": "2024-09-10T03:04:35.174Z"
   },
   {
    "duration": 91,
    "start_time": "2024-09-10T03:04:50.774Z"
   },
   {
    "duration": 11,
    "start_time": "2024-09-10T03:04:50.866Z"
   },
   {
    "duration": 21,
    "start_time": "2024-09-10T03:04:50.879Z"
   },
   {
    "duration": 22,
    "start_time": "2024-09-10T03:04:50.901Z"
   },
   {
    "duration": 101,
    "start_time": "2024-09-10T03:04:50.924Z"
   },
   {
    "duration": 307,
    "start_time": "2024-09-10T03:04:51.026Z"
   },
   {
    "duration": 6,
    "start_time": "2024-09-10T03:04:51.335Z"
   },
   {
    "duration": 80,
    "start_time": "2024-09-10T03:04:51.343Z"
   },
   {
    "duration": 12,
    "start_time": "2024-09-10T03:04:51.425Z"
   },
   {
    "duration": 380,
    "start_time": "2024-09-10T03:04:51.438Z"
   },
   {
    "duration": 6,
    "start_time": "2024-09-10T03:04:51.820Z"
   },
   {
    "duration": 165,
    "start_time": "2024-09-10T03:04:51.827Z"
   },
   {
    "duration": 144,
    "start_time": "2024-09-10T03:04:51.993Z"
   },
   {
    "duration": 6,
    "start_time": "2024-09-10T03:04:52.138Z"
   },
   {
    "duration": 230,
    "start_time": "2024-09-10T03:04:52.145Z"
   },
   {
    "duration": 9,
    "start_time": "2024-09-10T03:04:52.377Z"
   },
   {
    "duration": 15,
    "start_time": "2024-09-10T03:04:52.387Z"
   },
   {
    "duration": 22,
    "start_time": "2024-09-10T03:04:52.403Z"
   },
   {
    "duration": 28,
    "start_time": "2024-09-10T03:04:52.427Z"
   },
   {
    "duration": 13,
    "start_time": "2024-09-10T03:04:52.456Z"
   },
   {
    "duration": 24,
    "start_time": "2024-09-10T03:04:52.470Z"
   },
   {
    "duration": 35,
    "start_time": "2024-09-10T03:04:52.495Z"
   },
   {
    "duration": 2120,
    "start_time": "2024-09-10T03:04:52.531Z"
   },
   {
    "duration": 2,
    "start_time": "2024-09-10T03:04:54.652Z"
   },
   {
    "duration": 24,
    "start_time": "2024-09-10T03:04:54.655Z"
   },
   {
    "duration": 11,
    "start_time": "2024-09-10T03:04:54.681Z"
   },
   {
    "duration": 27,
    "start_time": "2024-09-10T03:04:54.695Z"
   },
   {
    "duration": 27,
    "start_time": "2024-09-10T03:04:54.723Z"
   },
   {
    "duration": 77158,
    "start_time": "2024-09-10T03:04:54.751Z"
   },
   {
    "duration": 2,
    "start_time": "2024-09-10T03:06:11.912Z"
   },
   {
    "duration": 10,
    "start_time": "2024-09-10T03:06:11.916Z"
   },
   {
    "duration": 11,
    "start_time": "2024-09-10T03:06:11.927Z"
   },
   {
    "duration": 75,
    "start_time": "2024-09-10T03:06:11.939Z"
   },
   {
    "duration": 20,
    "start_time": "2024-09-10T03:06:12.015Z"
   },
   {
    "duration": 9325,
    "start_time": "2024-09-10T03:07:06.029Z"
   },
   {
    "duration": 46,
    "start_time": "2024-09-10T03:07:15.356Z"
   },
   {
    "duration": 70,
    "start_time": "2024-09-10T03:07:15.404Z"
   },
   {
    "duration": 22,
    "start_time": "2024-09-10T03:07:15.476Z"
   },
   {
    "duration": 21,
    "start_time": "2024-09-10T03:07:15.500Z"
   },
   {
    "duration": 7,
    "start_time": "2024-09-10T03:07:15.522Z"
   },
   {
    "duration": 275,
    "start_time": "2024-09-10T03:07:15.530Z"
   },
   {
    "duration": 5,
    "start_time": "2024-09-10T03:07:15.807Z"
   },
   {
    "duration": 21,
    "start_time": "2024-09-10T03:07:15.813Z"
   },
   {
    "duration": 10,
    "start_time": "2024-09-10T03:07:15.836Z"
   },
   {
    "duration": 353,
    "start_time": "2024-09-10T03:07:15.847Z"
   },
   {
    "duration": 7,
    "start_time": "2024-09-10T03:07:16.201Z"
   },
   {
    "duration": 162,
    "start_time": "2024-09-10T03:07:16.209Z"
   },
   {
    "duration": 146,
    "start_time": "2024-09-10T03:07:16.373Z"
   },
   {
    "duration": 6,
    "start_time": "2024-09-10T03:07:16.521Z"
   },
   {
    "duration": 285,
    "start_time": "2024-09-10T03:07:16.529Z"
   },
   {
    "duration": 7,
    "start_time": "2024-09-10T03:07:16.816Z"
   },
   {
    "duration": 17,
    "start_time": "2024-09-10T03:07:16.825Z"
   },
   {
    "duration": 15,
    "start_time": "2024-09-10T03:07:16.843Z"
   },
   {
    "duration": 101,
    "start_time": "2024-09-10T03:07:16.859Z"
   },
   {
    "duration": 56,
    "start_time": "2024-09-10T03:07:16.962Z"
   },
   {
    "duration": 12,
    "start_time": "2024-09-10T03:07:17.019Z"
   },
   {
    "duration": 7,
    "start_time": "2024-09-10T03:07:17.033Z"
   },
   {
    "duration": 2122,
    "start_time": "2024-09-10T03:07:17.041Z"
   },
   {
    "duration": 2,
    "start_time": "2024-09-10T03:07:19.165Z"
   },
   {
    "duration": 9,
    "start_time": "2024-09-10T03:07:19.168Z"
   },
   {
    "duration": 9,
    "start_time": "2024-09-10T03:07:19.178Z"
   },
   {
    "duration": 23,
    "start_time": "2024-09-10T03:07:19.190Z"
   },
   {
    "duration": 4,
    "start_time": "2024-09-10T03:07:19.215Z"
   },
   {
    "duration": 14474,
    "start_time": "2024-09-10T21:21:58.416Z"
   },
   {
    "duration": 54,
    "start_time": "2024-09-10T21:22:12.895Z"
   },
   {
    "duration": 11,
    "start_time": "2024-09-10T21:22:12.951Z"
   },
   {
    "duration": 22,
    "start_time": "2024-09-10T21:22:12.964Z"
   },
   {
    "duration": 25,
    "start_time": "2024-09-10T21:22:12.988Z"
   },
   {
    "duration": 8,
    "start_time": "2024-09-10T21:22:13.015Z"
   },
   {
    "duration": 370,
    "start_time": "2024-09-10T21:22:13.025Z"
   },
   {
    "duration": 7,
    "start_time": "2024-09-10T21:22:13.397Z"
   },
   {
    "duration": 14,
    "start_time": "2024-09-10T21:22:13.406Z"
   },
   {
    "duration": 7,
    "start_time": "2024-09-10T21:22:13.423Z"
   },
   {
    "duration": 523,
    "start_time": "2024-09-10T21:22:13.431Z"
   },
   {
    "duration": 7,
    "start_time": "2024-09-10T21:22:13.965Z"
   },
   {
    "duration": 187,
    "start_time": "2024-09-10T21:22:13.974Z"
   },
   {
    "duration": 180,
    "start_time": "2024-09-10T21:22:14.171Z"
   },
   {
    "duration": 8,
    "start_time": "2024-09-10T21:22:14.352Z"
   },
   {
    "duration": 280,
    "start_time": "2024-09-10T21:22:14.365Z"
   },
   {
    "duration": 26,
    "start_time": "2024-09-10T21:22:14.647Z"
   },
   {
    "duration": 18,
    "start_time": "2024-09-10T21:22:14.677Z"
   },
   {
    "duration": 4,
    "start_time": "2024-09-10T21:22:14.699Z"
   },
   {
    "duration": 31,
    "start_time": "2024-09-10T21:22:14.704Z"
   },
   {
    "duration": 4,
    "start_time": "2024-09-10T21:22:14.736Z"
   },
   {
    "duration": 11,
    "start_time": "2024-09-10T21:22:14.742Z"
   },
   {
    "duration": 10,
    "start_time": "2024-09-10T21:22:14.754Z"
   },
   {
    "duration": 3360,
    "start_time": "2024-09-10T21:22:14.775Z"
   },
   {
    "duration": 2,
    "start_time": "2024-09-10T21:22:18.137Z"
   },
   {
    "duration": 13,
    "start_time": "2024-09-10T21:22:18.141Z"
   },
   {
    "duration": 3,
    "start_time": "2024-09-10T21:22:18.155Z"
   },
   {
    "duration": 3,
    "start_time": "2024-09-10T21:22:18.174Z"
   },
   {
    "duration": 10,
    "start_time": "2024-09-10T21:22:18.179Z"
   },
   {
    "duration": 97805,
    "start_time": "2024-09-10T21:22:18.192Z"
   },
   {
    "duration": 0,
    "start_time": "2024-09-10T21:23:55.999Z"
   },
   {
    "duration": 0,
    "start_time": "2024-09-10T21:23:56.000Z"
   },
   {
    "duration": 0,
    "start_time": "2024-09-10T21:23:56.001Z"
   },
   {
    "duration": 0,
    "start_time": "2024-09-10T21:23:56.002Z"
   },
   {
    "duration": 0,
    "start_time": "2024-09-10T21:23:56.004Z"
   },
   {
    "duration": 0,
    "start_time": "2024-09-10T21:23:56.004Z"
   }
  ],
  "kernelspec": {
   "display_name": "Python 3 (ipykernel)",
   "language": "python",
   "name": "python3"
  },
  "language_info": {
   "codemirror_mode": {
    "name": "ipython",
    "version": 3
   },
   "file_extension": ".py",
   "mimetype": "text/x-python",
   "name": "python",
   "nbconvert_exporter": "python",
   "pygments_lexer": "ipython3",
   "version": "3.11.7"
  },
  "toc": {
   "base_numbering": 1,
   "nav_menu": {},
   "number_sections": true,
   "sideBar": true,
   "skip_h1_title": true,
   "title_cell": "Содержание",
   "title_sidebar": "Contents",
   "toc_cell": true,
   "toc_position": {},
   "toc_section_display": true,
   "toc_window_display": true
  }
 },
 "nbformat": 4,
 "nbformat_minor": 4
}
